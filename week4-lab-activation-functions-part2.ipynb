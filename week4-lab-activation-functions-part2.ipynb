{
 "cells": [
  {
   "cell_type": "markdown",
   "id": "1dd5978d",
   "metadata": {
    "papermill": {
     "duration": 0.013892,
     "end_time": "2024-03-11T08:22:15.565435",
     "exception": false,
     "start_time": "2024-03-11T08:22:15.551543",
     "status": "completed"
    },
    "tags": []
   },
   "source": [
    "<p style=\"text-align:center\">\n",
    "    <a href=\"https://skills.network/?utm_medium=Exinfluencer&utm_source=Exinfluencer&utm_content=000026UJ&utm_term=10006555&utm_id=NA-SkillsNetwork-Channel-SkillsNetworkCoursesIBMDeveloperSkillsNetworkDL0110ENSkillsNetwork952-2022-01-01\" target=\"_blank\">\n",
    "    <img src=\"https://cf-courses-data.s3.us.cloud-object-storage.appdomain.cloud/assets/logos/SN_web_lightmode.png\" width=\"200\" alt=\"Skills Network Logo\"  />\n",
    "    </a>\n",
    "</p>\n"
   ]
  },
  {
   "cell_type": "markdown",
   "id": "ae1eaf82",
   "metadata": {
    "papermill": {
     "duration": 0.013377,
     "end_time": "2024-03-11T08:22:15.592000",
     "exception": false,
     "start_time": "2024-03-11T08:22:15.578623",
     "status": "completed"
    },
    "tags": []
   },
   "source": [
    "<h1>Test Sigmoid, Tanh, and Relu Activations Functions on the MNIST Dataset</h1>\n"
   ]
  },
  {
   "cell_type": "markdown",
   "id": "fb39f604",
   "metadata": {
    "papermill": {
     "duration": 0.012586,
     "end_time": "2024-03-11T08:22:15.619116",
     "exception": false,
     "start_time": "2024-03-11T08:22:15.606530",
     "status": "completed"
    },
    "tags": []
   },
   "source": [
    "<h2>Objective</h2><ul><li> How to apply different activation functions on the MNIST dataset.</li></ul> \n"
   ]
  },
  {
   "cell_type": "markdown",
   "id": "98ba0483",
   "metadata": {
    "papermill": {
     "duration": 0.012385,
     "end_time": "2024-03-11T08:22:15.644387",
     "exception": false,
     "start_time": "2024-03-11T08:22:15.632002",
     "status": "completed"
    },
    "tags": []
   },
   "source": [
    "<h2>Table of Contents</h2>\n",
    "<p>In this lab, you will test sigmoid, tanh, and relu activation functions on the MNIST dataset.</p>\n",
    "\n",
    "<ul>\n",
    "    <li><a href=\"#Model\">Neural Network Module and Training Function</a></li>\n",
    "    <li><a href=\"#Makeup_Data\">Make Some Data</a></li>\n",
    "    <li><a href=\"#Train\">Define Several Neural Network, Criterion Function, and Optimizer</a></li>\n",
    "    <li><a href=\"#Test\">Test Sigmoid, Tanh, and Relu</a></li>\n",
    "    <li><a href=\"#Result\">Analyze Results</a></li>\n",
    "</ul>\n",
    "<p></p>\n",
    "Estimated Time Needed: <strong>25 min</strong>\n",
    "</div>\n",
    "\n",
    "<hr>\n"
   ]
  },
  {
   "cell_type": "markdown",
   "id": "d29b3c39",
   "metadata": {
    "papermill": {
     "duration": 0.012369,
     "end_time": "2024-03-11T08:22:15.670808",
     "exception": false,
     "start_time": "2024-03-11T08:22:15.658439",
     "status": "completed"
    },
    "tags": []
   },
   "source": [
    "<h2>Preparation</h2>\n"
   ]
  },
  {
   "cell_type": "markdown",
   "id": "0691ea28",
   "metadata": {
    "papermill": {
     "duration": 0.012381,
     "end_time": "2024-03-11T08:22:15.696461",
     "exception": false,
     "start_time": "2024-03-11T08:22:15.684080",
     "status": "completed"
    },
    "tags": []
   },
   "source": [
    "We'll need the following libraries\n"
   ]
  },
  {
   "cell_type": "code",
   "execution_count": 1,
   "id": "51c262ec",
   "metadata": {
    "execution": {
     "iopub.execute_input": "2024-03-11T08:22:15.726354Z",
     "iopub.status.busy": "2024-03-11T08:22:15.725263Z",
     "iopub.status.idle": "2024-03-11T08:22:25.374714Z",
     "shell.execute_reply": "2024-03-11T08:22:25.373216Z"
    },
    "papermill": {
     "duration": 9.667701,
     "end_time": "2024-03-11T08:22:25.377945",
     "exception": false,
     "start_time": "2024-03-11T08:22:15.710244",
     "status": "completed"
    },
    "tags": []
   },
   "outputs": [],
   "source": [
    "# Uncomment the following line to install the torchvision library\n",
    "# !mamba install -y torchvision\n",
    "\n",
    "# Import the libraries we need for this lab\n",
    "\n",
    "import torch\n",
    "import torch.nn as nn\n",
    "import torchvision.transforms as transforms\n",
    "import torchvision.datasets as dsets\n",
    "\n",
    "import matplotlib.pylab as plt\n",
    "import numpy as np"
   ]
  },
  {
   "cell_type": "markdown",
   "id": "a019faba",
   "metadata": {
    "papermill": {
     "duration": 0.014101,
     "end_time": "2024-03-11T08:22:25.406156",
     "exception": false,
     "start_time": "2024-03-11T08:22:25.392055",
     "status": "completed"
    },
    "tags": []
   },
   "source": [
    "<!--Empty Space for separating topics-->\n"
   ]
  },
  {
   "cell_type": "markdown",
   "id": "58310c35",
   "metadata": {
    "papermill": {
     "duration": 0.013623,
     "end_time": "2024-03-11T08:22:25.434539",
     "exception": false,
     "start_time": "2024-03-11T08:22:25.420916",
     "status": "completed"
    },
    "tags": []
   },
   "source": [
    "<h2 id=\"Model\">Neural Network Module and Training Function</h2> \n"
   ]
  },
  {
   "cell_type": "markdown",
   "id": "683b6470",
   "metadata": {
    "papermill": {
     "duration": 0.013326,
     "end_time": "2024-03-11T08:22:25.462296",
     "exception": false,
     "start_time": "2024-03-11T08:22:25.448970",
     "status": "completed"
    },
    "tags": []
   },
   "source": [
    "Define the neural network module or class using the sigmoid activation function: \n"
   ]
  },
  {
   "cell_type": "code",
   "execution_count": 2,
   "id": "8f9d3199",
   "metadata": {
    "execution": {
     "iopub.execute_input": "2024-03-11T08:22:25.493107Z",
     "iopub.status.busy": "2024-03-11T08:22:25.492041Z",
     "iopub.status.idle": "2024-03-11T08:22:25.500805Z",
     "shell.execute_reply": "2024-03-11T08:22:25.499315Z"
    },
    "papermill": {
     "duration": 0.028143,
     "end_time": "2024-03-11T08:22:25.504443",
     "exception": false,
     "start_time": "2024-03-11T08:22:25.476300",
     "status": "completed"
    },
    "tags": []
   },
   "outputs": [],
   "source": [
    "# Build the model with sigmoid function\n",
    "\n",
    "class Net(nn.Module):\n",
    "    \n",
    "    # Constructor\n",
    "    def __init__(self, D_in, H, D_out):\n",
    "        super(Net, self).__init__()\n",
    "        self.linear1 = nn.Linear(D_in, H)\n",
    "        self.linear2 = nn.Linear(H, D_out)\n",
    "    \n",
    "    # Prediction\n",
    "    def forward(self, x):\n",
    "        x = torch.sigmoid(self.linear1(x))  \n",
    "        x = self.linear2(x)\n",
    "        return x"
   ]
  },
  {
   "cell_type": "markdown",
   "id": "d06362df",
   "metadata": {
    "papermill": {
     "duration": 0.012993,
     "end_time": "2024-03-11T08:22:25.531018",
     "exception": false,
     "start_time": "2024-03-11T08:22:25.518025",
     "status": "completed"
    },
    "tags": []
   },
   "source": [
    "\n",
    "Define the neural network module or class using the Tanh activation function:\n"
   ]
  },
  {
   "cell_type": "code",
   "execution_count": 3,
   "id": "1152a761",
   "metadata": {
    "execution": {
     "iopub.execute_input": "2024-03-11T08:22:25.562002Z",
     "iopub.status.busy": "2024-03-11T08:22:25.561506Z",
     "iopub.status.idle": "2024-03-11T08:22:25.571155Z",
     "shell.execute_reply": "2024-03-11T08:22:25.568961Z"
    },
    "papermill": {
     "duration": 0.028605,
     "end_time": "2024-03-11T08:22:25.574085",
     "exception": false,
     "start_time": "2024-03-11T08:22:25.545480",
     "status": "completed"
    },
    "tags": []
   },
   "outputs": [],
   "source": [
    "# Build the model with Tanh function\n",
    "\n",
    "class NetTanh(nn.Module):\n",
    "\n",
    "    # Constructor\n",
    "    def __init__(self, D_in, H, D_out):\n",
    "        super(NetTanh, self).__init__()\n",
    "        self.linear1 = nn.Linear(D_in, H)\n",
    "        self.linear2 = nn.Linear(H, D_out)\n",
    "\n",
    "    # Prediction\n",
    "    def forward(self, x):\n",
    "        x = torch.tanh(self.linear1(x))\n",
    "        x = self.linear2(x)\n",
    "        return x"
   ]
  },
  {
   "cell_type": "markdown",
   "id": "e228f6bf",
   "metadata": {
    "papermill": {
     "duration": 0.012599,
     "end_time": "2024-03-11T08:22:25.600256",
     "exception": false,
     "start_time": "2024-03-11T08:22:25.587657",
     "status": "completed"
    },
    "tags": []
   },
   "source": [
    "Define the neural network module or class using the Relu activation function:\n"
   ]
  },
  {
   "cell_type": "code",
   "execution_count": 4,
   "id": "038fa529",
   "metadata": {
    "execution": {
     "iopub.execute_input": "2024-03-11T08:22:25.628645Z",
     "iopub.status.busy": "2024-03-11T08:22:25.628170Z",
     "iopub.status.idle": "2024-03-11T08:22:25.636263Z",
     "shell.execute_reply": "2024-03-11T08:22:25.634901Z"
    },
    "papermill": {
     "duration": 0.025627,
     "end_time": "2024-03-11T08:22:25.639073",
     "exception": false,
     "start_time": "2024-03-11T08:22:25.613446",
     "status": "completed"
    },
    "tags": []
   },
   "outputs": [],
   "source": [
    "# Build the model with Relu function\n",
    "\n",
    "class NetRelu(nn.Module):\n",
    "\n",
    "    # Constructor\n",
    "    def __init__(self, D_in, H, D_out):\n",
    "        super(NetRelu, self).__init__()\n",
    "        self.linear1 = nn.Linear(D_in, H)\n",
    "        self.linear2 = nn.Linear(H, D_out)\n",
    "\n",
    "    # Prediction\n",
    "    def forward(self, x):\n",
    "        x = torch.relu(self.linear1(x))\n",
    "        x = self.linear2(x)\n",
    "        return x"
   ]
  },
  {
   "cell_type": "markdown",
   "id": "6a821fcd",
   "metadata": {
    "papermill": {
     "duration": 0.013338,
     "end_time": "2024-03-11T08:22:25.665709",
     "exception": false,
     "start_time": "2024-03-11T08:22:25.652371",
     "status": "completed"
    },
    "tags": []
   },
   "source": [
    "Define a function to train the model. In this case, the function returns a Python dictionary to store the training loss for each iteration  and accuracy on the validation data.\n"
   ]
  },
  {
   "cell_type": "code",
   "execution_count": 5,
   "id": "0738cb1e",
   "metadata": {
    "execution": {
     "iopub.execute_input": "2024-03-11T08:22:25.694464Z",
     "iopub.status.busy": "2024-03-11T08:22:25.694003Z",
     "iopub.status.idle": "2024-03-11T08:22:25.705000Z",
     "shell.execute_reply": "2024-03-11T08:22:25.703570Z"
    },
    "papermill": {
     "duration": 0.029336,
     "end_time": "2024-03-11T08:22:25.708123",
     "exception": false,
     "start_time": "2024-03-11T08:22:25.678787",
     "status": "completed"
    },
    "tags": []
   },
   "outputs": [],
   "source": [
    "# Define the function for training the model\n",
    "\n",
    "def train(model, criterion, train_loader, validation_loader, optimizer, epochs = 100):\n",
    "    i = 0\n",
    "    useful_stuff = {'training_loss':[], 'validation_accuracy':[]}  \n",
    "\n",
    "    for epoch in range(epochs):\n",
    "        for i, (x, y) in enumerate(train_loader):\n",
    "            optimizer.zero_grad()\n",
    "            z = model(x.view(-1, 28 * 28))\n",
    "            loss = criterion(z, y)\n",
    "            loss.backward()\n",
    "            optimizer.step()\n",
    "            useful_stuff['training_loss'].append(loss.item())\n",
    "\n",
    "        correct = 0\n",
    "        for x, y in validation_loader:\n",
    "            z = model(x.view(-1, 28 * 28))\n",
    "            _, label=torch.max(z, 1)\n",
    "            correct += (label == y).sum().item()\n",
    "        accuracy = 100 * (correct / len(validation_dataset))\n",
    "        useful_stuff['validation_accuracy'].append(accuracy)\n",
    "\n",
    "    return useful_stuff"
   ]
  },
  {
   "cell_type": "markdown",
   "id": "f36262c7",
   "metadata": {
    "papermill": {
     "duration": 0.012625,
     "end_time": "2024-03-11T08:22:25.734170",
     "exception": false,
     "start_time": "2024-03-11T08:22:25.721545",
     "status": "completed"
    },
    "tags": []
   },
   "source": [
    "<!--Empty Space for separating topics-->\n"
   ]
  },
  {
   "cell_type": "markdown",
   "id": "913fcbbb",
   "metadata": {
    "papermill": {
     "duration": 0.013487,
     "end_time": "2024-03-11T08:22:25.761298",
     "exception": false,
     "start_time": "2024-03-11T08:22:25.747811",
     "status": "completed"
    },
    "tags": []
   },
   "source": [
    "<h2 id=\"Makeup_Data\">Make Some Data</h2> \n"
   ]
  },
  {
   "cell_type": "markdown",
   "id": "04e6f4ca",
   "metadata": {
    "papermill": {
     "duration": 0.014113,
     "end_time": "2024-03-11T08:22:25.789339",
     "exception": false,
     "start_time": "2024-03-11T08:22:25.775226",
     "status": "completed"
    },
    "tags": []
   },
   "source": [
    "Load the training dataset by setting the parameters <code>train</code> to <code>True</code> and convert it to a tensor by placing a transform object in the argument <code>transform</code>.\n"
   ]
  },
  {
   "cell_type": "code",
   "execution_count": 6,
   "id": "66d45b1b",
   "metadata": {
    "execution": {
     "iopub.execute_input": "2024-03-11T08:22:25.819322Z",
     "iopub.status.busy": "2024-03-11T08:22:25.818823Z",
     "iopub.status.idle": "2024-03-11T08:22:27.227814Z",
     "shell.execute_reply": "2024-03-11T08:22:27.226198Z"
    },
    "papermill": {
     "duration": 1.427768,
     "end_time": "2024-03-11T08:22:27.231399",
     "exception": false,
     "start_time": "2024-03-11T08:22:25.803631",
     "status": "completed"
    },
    "tags": []
   },
   "outputs": [
    {
     "name": "stdout",
     "output_type": "stream",
     "text": [
      "Downloading http://yann.lecun.com/exdb/mnist/train-images-idx3-ubyte.gz\n",
      "Downloading http://yann.lecun.com/exdb/mnist/train-images-idx3-ubyte.gz to ./data/MNIST/raw/train-images-idx3-ubyte.gz\n"
     ]
    },
    {
     "name": "stderr",
     "output_type": "stream",
     "text": [
      "100%|██████████| 9912422/9912422 [00:00<00:00, 174140563.46it/s]\n"
     ]
    },
    {
     "name": "stdout",
     "output_type": "stream",
     "text": [
      "Extracting ./data/MNIST/raw/train-images-idx3-ubyte.gz to ./data/MNIST/raw\n",
      "\n",
      "Downloading http://yann.lecun.com/exdb/mnist/train-labels-idx1-ubyte.gz\n",
      "Downloading http://yann.lecun.com/exdb/mnist/train-labels-idx1-ubyte.gz to ./data/MNIST/raw/train-labels-idx1-ubyte.gz\n"
     ]
    },
    {
     "name": "stderr",
     "output_type": "stream",
     "text": [
      "100%|██████████| 28881/28881 [00:00<00:00, 86960297.07it/s]"
     ]
    },
    {
     "name": "stdout",
     "output_type": "stream",
     "text": [
      "Extracting ./data/MNIST/raw/train-labels-idx1-ubyte.gz to ./data/MNIST/raw\n",
      "\n",
      "Downloading http://yann.lecun.com/exdb/mnist/t10k-images-idx3-ubyte.gz\n"
     ]
    },
    {
     "name": "stderr",
     "output_type": "stream",
     "text": [
      "\n"
     ]
    },
    {
     "name": "stdout",
     "output_type": "stream",
     "text": [
      "Downloading http://yann.lecun.com/exdb/mnist/t10k-images-idx3-ubyte.gz to ./data/MNIST/raw/t10k-images-idx3-ubyte.gz\n"
     ]
    },
    {
     "name": "stderr",
     "output_type": "stream",
     "text": [
      "100%|██████████| 1648877/1648877 [00:00<00:00, 53226187.12it/s]\n"
     ]
    },
    {
     "name": "stdout",
     "output_type": "stream",
     "text": [
      "Extracting ./data/MNIST/raw/t10k-images-idx3-ubyte.gz to ./data/MNIST/raw\n",
      "\n",
      "Downloading http://yann.lecun.com/exdb/mnist/t10k-labels-idx1-ubyte.gz\n",
      "Downloading http://yann.lecun.com/exdb/mnist/t10k-labels-idx1-ubyte.gz to ./data/MNIST/raw/t10k-labels-idx1-ubyte.gz\n"
     ]
    },
    {
     "name": "stderr",
     "output_type": "stream",
     "text": [
      "100%|██████████| 4542/4542 [00:00<00:00, 11545775.01it/s]"
     ]
    },
    {
     "name": "stdout",
     "output_type": "stream",
     "text": [
      "Extracting ./data/MNIST/raw/t10k-labels-idx1-ubyte.gz to ./data/MNIST/raw\n",
      "\n"
     ]
    },
    {
     "name": "stderr",
     "output_type": "stream",
     "text": [
      "\n"
     ]
    }
   ],
   "source": [
    "# Create the training dataset\n",
    "\n",
    "train_dataset = dsets.MNIST(root='./data', train=True, download=True, transform=transforms.ToTensor())"
   ]
  },
  {
   "cell_type": "markdown",
   "id": "832e37e0",
   "metadata": {
    "papermill": {
     "duration": 0.016484,
     "end_time": "2024-03-11T08:22:27.264192",
     "exception": false,
     "start_time": "2024-03-11T08:22:27.247708",
     "status": "completed"
    },
    "tags": []
   },
   "source": [
    "Load the testing dataset by setting the parameter <code>train</code> to <code>False</code> and convert it to a tensor by placing a transform object in the argument <code>transform</code>.\n"
   ]
  },
  {
   "cell_type": "code",
   "execution_count": 7,
   "id": "cd623959",
   "metadata": {
    "execution": {
     "iopub.execute_input": "2024-03-11T08:22:27.299911Z",
     "iopub.status.busy": "2024-03-11T08:22:27.298584Z",
     "iopub.status.idle": "2024-03-11T08:22:27.320743Z",
     "shell.execute_reply": "2024-03-11T08:22:27.319122Z"
    },
    "papermill": {
     "duration": 0.044749,
     "end_time": "2024-03-11T08:22:27.324506",
     "exception": false,
     "start_time": "2024-03-11T08:22:27.279757",
     "status": "completed"
    },
    "tags": []
   },
   "outputs": [],
   "source": [
    "# Create the validation  dataset\n",
    "\n",
    "validation_dataset = dsets.MNIST(root='./data', train=False, download=True, transform=transforms.ToTensor())"
   ]
  },
  {
   "cell_type": "markdown",
   "id": "b35e70f8",
   "metadata": {
    "papermill": {
     "duration": 0.014427,
     "end_time": "2024-03-11T08:22:27.354593",
     "exception": false,
     "start_time": "2024-03-11T08:22:27.340166",
     "status": "completed"
    },
    "tags": []
   },
   "source": [
    "Create the criterion function:  \n"
   ]
  },
  {
   "cell_type": "code",
   "execution_count": 8,
   "id": "6b2018e7",
   "metadata": {
    "execution": {
     "iopub.execute_input": "2024-03-11T08:22:27.386550Z",
     "iopub.status.busy": "2024-03-11T08:22:27.386103Z",
     "iopub.status.idle": "2024-03-11T08:22:27.392222Z",
     "shell.execute_reply": "2024-03-11T08:22:27.390889Z"
    },
    "papermill": {
     "duration": 0.025827,
     "end_time": "2024-03-11T08:22:27.395382",
     "exception": false,
     "start_time": "2024-03-11T08:22:27.369555",
     "status": "completed"
    },
    "tags": []
   },
   "outputs": [],
   "source": [
    "# Create the criterion function\n",
    "\n",
    "criterion = nn.CrossEntropyLoss()"
   ]
  },
  {
   "cell_type": "markdown",
   "id": "08a3b64c",
   "metadata": {
    "papermill": {
     "duration": 0.014854,
     "end_time": "2024-03-11T08:22:27.428759",
     "exception": false,
     "start_time": "2024-03-11T08:22:27.413905",
     "status": "completed"
    },
    "tags": []
   },
   "source": [
    "Create the training-data loader and the validation-data loader object:\n"
   ]
  },
  {
   "cell_type": "code",
   "execution_count": 9,
   "id": "3202ac52",
   "metadata": {
    "execution": {
     "iopub.execute_input": "2024-03-11T08:22:27.464443Z",
     "iopub.status.busy": "2024-03-11T08:22:27.463932Z",
     "iopub.status.idle": "2024-03-11T08:22:27.473268Z",
     "shell.execute_reply": "2024-03-11T08:22:27.471603Z"
    },
    "papermill": {
     "duration": 0.031164,
     "end_time": "2024-03-11T08:22:27.476607",
     "exception": false,
     "start_time": "2024-03-11T08:22:27.445443",
     "status": "completed"
    },
    "tags": []
   },
   "outputs": [],
   "source": [
    "# Create the training data loader and validation data loader object\n",
    "\n",
    "train_loader = torch.utils.data.DataLoader(dataset=train_dataset, batch_size=2000, shuffle=True)\n",
    "validation_loader = torch.utils.data.DataLoader(dataset=validation_dataset, batch_size=5000, shuffle=False)"
   ]
  },
  {
   "cell_type": "markdown",
   "id": "cad8c378",
   "metadata": {
    "papermill": {
     "duration": 0.014686,
     "end_time": "2024-03-11T08:22:27.506610",
     "exception": false,
     "start_time": "2024-03-11T08:22:27.491924",
     "status": "completed"
    },
    "tags": []
   },
   "source": [
    "<!--Empty Space for separating topics-->\n"
   ]
  },
  {
   "cell_type": "markdown",
   "id": "fd3834d3",
   "metadata": {
    "papermill": {
     "duration": 0.014921,
     "end_time": "2024-03-11T08:22:27.536504",
     "exception": false,
     "start_time": "2024-03-11T08:22:27.521583",
     "status": "completed"
    },
    "tags": []
   },
   "source": [
    "<h2 id=\"Train\">Define the Neural Network, Criterion Function, Optimizer, and Train the Model</h2> \n"
   ]
  },
  {
   "cell_type": "markdown",
   "id": "1455c03a",
   "metadata": {
    "papermill": {
     "duration": 0.014293,
     "end_time": "2024-03-11T08:22:27.566020",
     "exception": false,
     "start_time": "2024-03-11T08:22:27.551727",
     "status": "completed"
    },
    "tags": []
   },
   "source": [
    "Create the criterion function: \n"
   ]
  },
  {
   "cell_type": "code",
   "execution_count": 10,
   "id": "39404bc0",
   "metadata": {
    "execution": {
     "iopub.execute_input": "2024-03-11T08:22:27.600725Z",
     "iopub.status.busy": "2024-03-11T08:22:27.599653Z",
     "iopub.status.idle": "2024-03-11T08:22:27.605708Z",
     "shell.execute_reply": "2024-03-11T08:22:27.604729Z"
    },
    "papermill": {
     "duration": 0.026976,
     "end_time": "2024-03-11T08:22:27.608571",
     "exception": false,
     "start_time": "2024-03-11T08:22:27.581595",
     "status": "completed"
    },
    "tags": []
   },
   "outputs": [],
   "source": [
    "# Create the criterion function\n",
    "\n",
    "criterion = nn.CrossEntropyLoss()"
   ]
  },
  {
   "cell_type": "markdown",
   "id": "ac3fc0fb",
   "metadata": {
    "papermill": {
     "duration": 0.015256,
     "end_time": "2024-03-11T08:22:27.639695",
     "exception": false,
     "start_time": "2024-03-11T08:22:27.624439",
     "status": "completed"
    },
    "tags": []
   },
   "source": [
    "Create the model with 100 hidden neurons:  \n"
   ]
  },
  {
   "cell_type": "code",
   "execution_count": 11,
   "id": "4b0b394a",
   "metadata": {
    "execution": {
     "iopub.execute_input": "2024-03-11T08:22:27.676146Z",
     "iopub.status.busy": "2024-03-11T08:22:27.675261Z",
     "iopub.status.idle": "2024-03-11T08:22:27.699260Z",
     "shell.execute_reply": "2024-03-11T08:22:27.698051Z"
    },
    "papermill": {
     "duration": 0.046041,
     "end_time": "2024-03-11T08:22:27.702479",
     "exception": false,
     "start_time": "2024-03-11T08:22:27.656438",
     "status": "completed"
    },
    "tags": []
   },
   "outputs": [],
   "source": [
    "# Create the model object\n",
    "\n",
    "input_dim = 28 * 28\n",
    "hidden_dim = 100\n",
    "output_dim = 10\n",
    "\n",
    "model = Net(input_dim, hidden_dim, output_dim)"
   ]
  },
  {
   "cell_type": "markdown",
   "id": "619f67c2",
   "metadata": {
    "papermill": {
     "duration": 0.014524,
     "end_time": "2024-03-11T08:22:27.732231",
     "exception": false,
     "start_time": "2024-03-11T08:22:27.717707",
     "status": "completed"
    },
    "tags": []
   },
   "source": [
    "<!--Empty Space for separating topics-->\n"
   ]
  },
  {
   "cell_type": "markdown",
   "id": "1a7740c6",
   "metadata": {
    "papermill": {
     "duration": 0.017143,
     "end_time": "2024-03-11T08:22:27.765428",
     "exception": false,
     "start_time": "2024-03-11T08:22:27.748285",
     "status": "completed"
    },
    "tags": []
   },
   "source": [
    "<h2 id=\"Test\">Test Sigmoid, Tanh, and Relu</h2> \n"
   ]
  },
  {
   "cell_type": "markdown",
   "id": "64f8527b",
   "metadata": {
    "papermill": {
     "duration": 0.015601,
     "end_time": "2024-03-11T08:22:27.796577",
     "exception": false,
     "start_time": "2024-03-11T08:22:27.780976",
     "status": "completed"
    },
    "tags": []
   },
   "source": [
    "Train the network by using the sigmoid activations function:\n"
   ]
  },
  {
   "cell_type": "code",
   "execution_count": 12,
   "id": "35900580",
   "metadata": {
    "execution": {
     "iopub.execute_input": "2024-03-11T08:22:27.829024Z",
     "iopub.status.busy": "2024-03-11T08:22:27.828476Z",
     "iopub.status.idle": "2024-03-11T08:26:54.210176Z",
     "shell.execute_reply": "2024-03-11T08:26:54.208910Z"
    },
    "papermill": {
     "duration": 266.401749,
     "end_time": "2024-03-11T08:26:54.213517",
     "exception": false,
     "start_time": "2024-03-11T08:22:27.811768",
     "status": "completed"
    },
    "tags": []
   },
   "outputs": [],
   "source": [
    "# Train a model with sigmoid function\n",
    "\n",
    "learning_rate = 0.01\n",
    "optimizer = torch.optim.SGD(model.parameters(), lr=learning_rate)\n",
    "training_results = train(model, criterion, train_loader, validation_loader, optimizer, epochs=30)"
   ]
  },
  {
   "cell_type": "markdown",
   "id": "cb4f7780",
   "metadata": {
    "papermill": {
     "duration": 0.014779,
     "end_time": "2024-03-11T08:26:54.339775",
     "exception": false,
     "start_time": "2024-03-11T08:26:54.324996",
     "status": "completed"
    },
    "tags": []
   },
   "source": [
    "Train the network by using the Tanh activations function:\n"
   ]
  },
  {
   "cell_type": "code",
   "execution_count": 13,
   "id": "f57620c8",
   "metadata": {
    "execution": {
     "iopub.execute_input": "2024-03-11T08:26:54.372777Z",
     "iopub.status.busy": "2024-03-11T08:26:54.372332Z",
     "iopub.status.idle": "2024-03-11T08:31:12.277976Z",
     "shell.execute_reply": "2024-03-11T08:31:12.276724Z"
    },
    "papermill": {
     "duration": 257.926282,
     "end_time": "2024-03-11T08:31:12.281732",
     "exception": false,
     "start_time": "2024-03-11T08:26:54.355450",
     "status": "completed"
    },
    "tags": []
   },
   "outputs": [],
   "source": [
    "# Train a model with Tanh function\n",
    "\n",
    "model_Tanh = NetTanh(input_dim, hidden_dim, output_dim)\n",
    "optimizer = torch.optim.SGD(model_Tanh.parameters(), lr=learning_rate)\n",
    "training_results_tanch = train(model_Tanh, criterion, train_loader, validation_loader, optimizer, epochs=30)"
   ]
  },
  {
   "cell_type": "markdown",
   "id": "7f88717f",
   "metadata": {
    "papermill": {
     "duration": 0.015024,
     "end_time": "2024-03-11T08:31:12.314223",
     "exception": false,
     "start_time": "2024-03-11T08:31:12.299199",
     "status": "completed"
    },
    "tags": []
   },
   "source": [
    "Train the network by using the Relu activations function:\n"
   ]
  },
  {
   "cell_type": "code",
   "execution_count": 14,
   "id": "e35546a5",
   "metadata": {
    "execution": {
     "iopub.execute_input": "2024-03-11T08:31:12.346829Z",
     "iopub.status.busy": "2024-03-11T08:31:12.345892Z",
     "iopub.status.idle": "2024-03-11T08:35:31.044965Z",
     "shell.execute_reply": "2024-03-11T08:35:31.043296Z"
    },
    "papermill": {
     "duration": 258.71944,
     "end_time": "2024-03-11T08:35:31.048641",
     "exception": false,
     "start_time": "2024-03-11T08:31:12.329201",
     "status": "completed"
    },
    "tags": []
   },
   "outputs": [],
   "source": [
    "# Train a model with Relu function\n",
    "\n",
    "modelRelu = NetRelu(input_dim, hidden_dim, output_dim)\n",
    "optimizer = torch.optim.SGD(modelRelu.parameters(), lr=learning_rate)\n",
    "training_results_relu = train(modelRelu, criterion, train_loader, validation_loader, optimizer, epochs=30)"
   ]
  },
  {
   "cell_type": "markdown",
   "id": "36bb99ec",
   "metadata": {
    "papermill": {
     "duration": 0.015362,
     "end_time": "2024-03-11T08:35:31.080978",
     "exception": false,
     "start_time": "2024-03-11T08:35:31.065616",
     "status": "completed"
    },
    "tags": []
   },
   "source": [
    "<!--Empty Space for separating topics-->\n"
   ]
  },
  {
   "cell_type": "markdown",
   "id": "759776dd",
   "metadata": {
    "papermill": {
     "duration": 0.014627,
     "end_time": "2024-03-11T08:35:31.110956",
     "exception": false,
     "start_time": "2024-03-11T08:35:31.096329",
     "status": "completed"
    },
    "tags": []
   },
   "source": [
    "<h2 id=\"Result\">Analyze Results</h2> \n"
   ]
  },
  {
   "cell_type": "markdown",
   "id": "25d7c6e5",
   "metadata": {
    "papermill": {
     "duration": 0.015482,
     "end_time": "2024-03-11T08:35:31.141462",
     "exception": false,
     "start_time": "2024-03-11T08:35:31.125980",
     "status": "completed"
    },
    "tags": []
   },
   "source": [
    "Compare the training loss for each activation: \n"
   ]
  },
  {
   "cell_type": "code",
   "execution_count": 15,
   "id": "7d3493a1",
   "metadata": {
    "execution": {
     "iopub.execute_input": "2024-03-11T08:35:31.176174Z",
     "iopub.status.busy": "2024-03-11T08:35:31.175649Z",
     "iopub.status.idle": "2024-03-11T08:35:31.611624Z",
     "shell.execute_reply": "2024-03-11T08:35:31.609936Z"
    },
    "papermill": {
     "duration": 0.456456,
     "end_time": "2024-03-11T08:35:31.614715",
     "exception": false,
     "start_time": "2024-03-11T08:35:31.158259",
     "status": "completed"
    },
    "tags": []
   },
   "outputs": [
    {
     "data": {
      "image/png": "[encoded data removed]",
      "text/plain": [
       "<Figure size 640x480 with 1 Axes>"
      ]
     },
     "metadata": {},
     "output_type": "display_data"
    }
   ],
   "source": [
    "# Compare the training loss\n",
    "\n",
    "plt.plot(training_results_tanch['training_loss'], label='tanh')\n",
    "plt.plot(training_results['training_loss'], label='sigmoid')\n",
    "plt.plot(training_results_relu['training_loss'], label='relu')\n",
    "plt.ylabel('loss')\n",
    "plt.title('training loss iterations')\n",
    "plt.legend()\n",
    "plt.show()"
   ]
  },
  {
   "cell_type": "markdown",
   "id": "8fe8602f",
   "metadata": {
    "papermill": {
     "duration": 0.016424,
     "end_time": "2024-03-11T08:35:31.647769",
     "exception": false,
     "start_time": "2024-03-11T08:35:31.631345",
     "status": "completed"
    },
    "tags": []
   },
   "source": [
    "Compare the validation loss for each model:  \n"
   ]
  },
  {
   "cell_type": "code",
   "execution_count": 16,
   "id": "f465a5e0",
   "metadata": {
    "execution": {
     "iopub.execute_input": "2024-03-11T08:35:31.686192Z",
     "iopub.status.busy": "2024-03-11T08:35:31.685660Z",
     "iopub.status.idle": "2024-03-11T08:35:32.029194Z",
     "shell.execute_reply": "2024-03-11T08:35:32.027501Z"
    },
    "papermill": {
     "duration": 0.365859,
     "end_time": "2024-03-11T08:35:32.032213",
     "exception": false,
     "start_time": "2024-03-11T08:35:31.666354",
     "status": "completed"
    },
    "tags": []
   },
   "outputs": [
    {
     "data": {
      "image/png": "[encoded data removed]",
      "text/plain": [
       "<Figure size 640x480 with 1 Axes>"
      ]
     },
     "metadata": {},
     "output_type": "display_data"
    }
   ],
   "source": [
    "# Compare the validation loss\n",
    "\n",
    "plt.plot(training_results_tanch['validation_accuracy'], label='tanh')\n",
    "plt.plot(training_results['validation_accuracy'], label='sigmoid')\n",
    "plt.plot(training_results_relu['validation_accuracy'], label='relu') \n",
    "plt.ylabel('validation accuracy')\n",
    "plt.xlabel('epochs ')\n",
    "plt.legend()\n",
    "plt.show()"
   ]
  },
  {
   "cell_type": "markdown",
   "id": "35c133ab",
   "metadata": {
    "papermill": {
     "duration": 0.017263,
     "end_time": "2024-03-11T08:35:32.068365",
     "exception": false,
     "start_time": "2024-03-11T08:35:32.051102",
     "status": "completed"
    },
    "tags": []
   },
   "source": [
    "<!--Empty Space for separating topics-->\n"
   ]
  },
  {
   "cell_type": "markdown",
   "id": "0bd18bd7",
   "metadata": {
    "papermill": {
     "duration": 0.0182,
     "end_time": "2024-03-11T08:35:32.104448",
     "exception": false,
     "start_time": "2024-03-11T08:35:32.086248",
     "status": "completed"
    },
    "tags": []
   },
   "source": [
    "## Which activation function performed best ?\n"
   ]
  }
 ],
 "metadata": {
  "kaggle": {
   "accelerator": "none",
   "dataSources": [],
   "dockerImageVersionId": 30664,
   "isGpuEnabled": false,
   "isInternetEnabled": true,
   "language": "python",
   "sourceType": "notebook"
  },
  "kernelspec": {
   "display_name": "Python 3",
   "language": "python",
   "name": "python3"
  },
  "language_info": {
   "codemirror_mode": {
    "name": "ipython",
    "version": 3
   },
   "file_extension": ".py",
   "mimetype": "text/x-python",
   "name": "python",
   "nbconvert_exporter": "python",
   "pygments_lexer": "ipython3",
   "version": "3.10.13"
  },
  "papermill": {
   "default_parameters": {},
   "duration": 802.990297,
   "end_time": "2024-03-11T08:35:34.666902",
   "environment_variables": {},
   "exception": null,
   "input_path": "__notebook__.ipynb",
   "output_path": "__notebook__.ipynb",
   "parameters": {},
   "start_time": "2024-03-11T08:22:11.676605",
   "version": "2.5.0"
  }
 },
 "nbformat": 4,
 "nbformat_minor": 5
}
