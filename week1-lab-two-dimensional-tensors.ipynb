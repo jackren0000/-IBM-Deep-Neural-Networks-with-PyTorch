{
 "cells": [
  {
   "cell_type": "markdown",
   "id": "1d7c5738",
   "metadata": {
    "papermill": {
     "duration": 0.014126,
     "end_time": "2024-03-01T08:54:59.290958",
     "exception": false,
     "start_time": "2024-03-01T08:54:59.276832",
     "status": "completed"
    },
    "tags": []
   },
   "source": [
    "<p style=\"text-align:center\">\n",
    "    <a href=\"https://skills.network/?utm_medium=Exinfluencer&utm_source=Exinfluencer&utm_content=000026UJ&utm_term=10006555&utm_id=NA-SkillsNetwork-Channel-SkillsNetworkCoursesIBMDeveloperSkillsNetworkDL0110ENSkillsNetwork952-2022-01-01\" target=\"_blank\">\n",
    "    <img src=\"https://cf-courses-data.s3.us.cloud-object-storage.appdomain.cloud/assets/logos/SN_web_lightmode.png\" width=\"200\" alt=\"Skills Network Logo\"  />\n",
    "    </a>\n",
    "</p>\n"
   ]
  },
  {
   "cell_type": "markdown",
   "id": "8985a295",
   "metadata": {
    "papermill": {
     "duration": 0.01537,
     "end_time": "2024-03-01T08:54:59.320381",
     "exception": false,
     "start_time": "2024-03-01T08:54:59.305011",
     "status": "completed"
    },
    "tags": []
   },
   "source": [
    "<h1>Two-Dimensional Tensors</h1>\n"
   ]
  },
  {
   "cell_type": "markdown",
   "id": "44b58cd7",
   "metadata": {
    "papermill": {
     "duration": 0.013985,
     "end_time": "2024-03-01T08:54:59.349998",
     "exception": false,
     "start_time": "2024-03-01T08:54:59.336013",
     "status": "completed"
    },
    "tags": []
   },
   "source": [
    "<h2>Objective</h2><ul><li> How to perform tensor operations on 2D tensors.</li></ul> \n"
   ]
  },
  {
   "cell_type": "markdown",
   "id": "99571a8c",
   "metadata": {
    "papermill": {
     "duration": 0.013615,
     "end_time": "2024-03-01T08:54:59.377552",
     "exception": false,
     "start_time": "2024-03-01T08:54:59.363937",
     "status": "completed"
    },
    "tags": []
   },
   "source": [
    "<h2>Table of Contents</h2>\n"
   ]
  },
  {
   "cell_type": "markdown",
   "id": "44512f30",
   "metadata": {
    "papermill": {
     "duration": 0.013593,
     "end_time": "2024-03-01T08:54:59.405618",
     "exception": false,
     "start_time": "2024-03-01T08:54:59.392025",
     "status": "completed"
    },
    "tags": []
   },
   "source": [
    "<p>In this lab, you will learn the basics of tensor operations on 2D tensors.</p>\n",
    "<ul>\n",
    "    <li><a href=\"#Types_Shape\">Types and Shape </a></li>\n",
    "    <li><a href=\"#Index_Slice\">Indexing and Slicing</a></li>\n",
    "    <li><a href=\"#Tensor_Op\">Tensor Operations</a></li>\n",
    "</ul>\n",
    "\n",
    "<p>Estimated Time Needed: <b>10 min</b></p>\n",
    "<hr>\n"
   ]
  },
  {
   "cell_type": "markdown",
   "id": "aae70ccc",
   "metadata": {
    "papermill": {
     "duration": 0.014,
     "end_time": "2024-03-01T08:54:59.433511",
     "exception": false,
     "start_time": "2024-03-01T08:54:59.419511",
     "status": "completed"
    },
    "tags": []
   },
   "source": [
    "<h2>Preparation</h2>\n"
   ]
  },
  {
   "cell_type": "markdown",
   "id": "057b6f5d",
   "metadata": {
    "papermill": {
     "duration": 0.013621,
     "end_time": "2024-03-01T08:54:59.461390",
     "exception": false,
     "start_time": "2024-03-01T08:54:59.447769",
     "status": "completed"
    },
    "tags": []
   },
   "source": [
    "The following are the libraries we are going to use for this lab.\n"
   ]
  },
  {
   "cell_type": "code",
   "execution_count": 1,
   "id": "d23c1918",
   "metadata": {
    "execution": {
     "iopub.execute_input": "2024-03-01T08:54:59.491592Z",
     "iopub.status.busy": "2024-03-01T08:54:59.490931Z",
     "iopub.status.idle": "2024-03-01T08:55:03.796557Z",
     "shell.execute_reply": "2024-03-01T08:55:03.795775Z"
    },
    "papermill": {
     "duration": 4.323631,
     "end_time": "2024-03-01T08:55:03.798841",
     "exception": false,
     "start_time": "2024-03-01T08:54:59.475210",
     "status": "completed"
    },
    "tags": []
   },
   "outputs": [],
   "source": [
    "# These are the libraries will be used for this lab.\n",
    "\n",
    "import numpy as np \n",
    "import matplotlib.pyplot as plt\n",
    "import torch\n",
    "import pandas as pd"
   ]
  },
  {
   "cell_type": "markdown",
   "id": "ff455061",
   "metadata": {
    "papermill": {
     "duration": 0.013458,
     "end_time": "2024-03-01T08:55:03.826304",
     "exception": false,
     "start_time": "2024-03-01T08:55:03.812846",
     "status": "completed"
    },
    "tags": []
   },
   "source": [
    "<!--Empty Space for separating topics-->\n"
   ]
  },
  {
   "cell_type": "markdown",
   "id": "fe966b56",
   "metadata": {
    "papermill": {
     "duration": 0.013328,
     "end_time": "2024-03-01T08:55:03.853337",
     "exception": false,
     "start_time": "2024-03-01T08:55:03.840009",
     "status": "completed"
    },
    "tags": []
   },
   "source": [
    "<h2 id=\"Types_Shape\">Types and Shape</h2>\n"
   ]
  },
  {
   "cell_type": "markdown",
   "id": "6dbac0b1",
   "metadata": {
    "papermill": {
     "duration": 0.013641,
     "end_time": "2024-03-01T08:55:03.881351",
     "exception": false,
     "start_time": "2024-03-01T08:55:03.867710",
     "status": "completed"
    },
    "tags": []
   },
   "source": [
    "The methods and types for 2D tensors is similar to the methods and types for 1D tensors which has been introduced in <i>Previous Lab</i>.\n"
   ]
  },
  {
   "cell_type": "markdown",
   "id": "73ce3dde",
   "metadata": {
    "papermill": {
     "duration": 0.013748,
     "end_time": "2024-03-01T08:55:03.909492",
     "exception": false,
     "start_time": "2024-03-01T08:55:03.895744",
     "status": "completed"
    },
    "tags": []
   },
   "source": [
    "Let us see how to convert a 2D list to a 2D tensor. First, let us create a 3X3 2D tensor. Then let us try to use <code>torch.tensor()</code> which we used for converting a 1D list to 1D tensor. Is it going to work?\n"
   ]
  },
  {
   "cell_type": "code",
   "execution_count": 2,
   "id": "34567ad1",
   "metadata": {
    "execution": {
     "iopub.execute_input": "2024-03-01T08:55:03.939003Z",
     "iopub.status.busy": "2024-03-01T08:55:03.938253Z",
     "iopub.status.idle": "2024-03-01T08:55:03.985570Z",
     "shell.execute_reply": "2024-03-01T08:55:03.984104Z"
    },
    "papermill": {
     "duration": 0.064323,
     "end_time": "2024-03-01T08:55:03.987535",
     "exception": false,
     "start_time": "2024-03-01T08:55:03.923212",
     "status": "completed"
    },
    "tags": []
   },
   "outputs": [
    {
     "name": "stdout",
     "output_type": "stream",
     "text": [
      "The New 2D Tensor:  tensor([[11, 12, 13],\n",
      "        [21, 22, 23],\n",
      "        [31, 32, 33]])\n"
     ]
    }
   ],
   "source": [
    "# Convert 2D List to 2D Tensor\n",
    "\n",
    "twoD_list = [[11, 12, 13], [21, 22, 23], [31, 32, 33]]\n",
    "twoD_tensor = torch.tensor(twoD_list)\n",
    "print(\"The New 2D Tensor: \", twoD_tensor)"
   ]
  },
  {
   "cell_type": "markdown",
   "id": "a6256e87",
   "metadata": {
    "papermill": {
     "duration": 0.014283,
     "end_time": "2024-03-01T08:55:04.015558",
     "exception": false,
     "start_time": "2024-03-01T08:55:04.001275",
     "status": "completed"
    },
    "tags": []
   },
   "source": [
    "Bravo! The method <code>torch.tensor()</code> works perfectly.Now, let us try other functions we studied in the <i>Previous Lab</i>.\n"
   ]
  },
  {
   "cell_type": "markdown",
   "id": "bd7782be",
   "metadata": {
    "papermill": {
     "duration": 0.012962,
     "end_time": "2024-03-01T08:55:04.042857",
     "exception": false,
     "start_time": "2024-03-01T08:55:04.029895",
     "status": "completed"
    },
    "tags": []
   },
   "source": [
    "<!--Empty Space for separating topics-->\n"
   ]
  },
  {
   "cell_type": "markdown",
   "id": "2b644eb4",
   "metadata": {
    "papermill": {
     "duration": 0.013063,
     "end_time": "2024-03-01T08:55:04.069098",
     "exception": false,
     "start_time": "2024-03-01T08:55:04.056035",
     "status": "completed"
    },
    "tags": []
   },
   "source": [
    "Let us try <code><i>tensor_obj</i>.ndimension()</code> (<code>tensor_obj</code>: This can be any tensor object), <code><i>tensor_obj</i>.shape</code>, and <code><i>tensor_obj</i>.size()</code>\n"
   ]
  },
  {
   "cell_type": "code",
   "execution_count": 3,
   "id": "691a561d",
   "metadata": {
    "execution": {
     "iopub.execute_input": "2024-03-01T08:55:04.097819Z",
     "iopub.status.busy": "2024-03-01T08:55:04.097430Z",
     "iopub.status.idle": "2024-03-01T08:55:04.103107Z",
     "shell.execute_reply": "2024-03-01T08:55:04.102323Z"
    },
    "papermill": {
     "duration": 0.022741,
     "end_time": "2024-03-01T08:55:04.105196",
     "exception": false,
     "start_time": "2024-03-01T08:55:04.082455",
     "status": "completed"
    },
    "tags": []
   },
   "outputs": [
    {
     "name": "stdout",
     "output_type": "stream",
     "text": [
      "The dimension of twoD_tensor:  2\n",
      "The shape of twoD_tensor:  torch.Size([3, 3])\n",
      "The shape of twoD_tensor:  torch.Size([3, 3])\n",
      "The number of elements in twoD_tensor:  9\n"
     ]
    }
   ],
   "source": [
    "# Try tensor_obj.ndimension(), tensor_obj.shape, tensor_obj.size()\n",
    "\n",
    "print(\"The dimension of twoD_tensor: \", twoD_tensor.ndimension())\n",
    "print(\"The shape of twoD_tensor: \", twoD_tensor.shape)\n",
    "print(\"The shape of twoD_tensor: \", twoD_tensor.size())\n",
    "print(\"The number of elements in twoD_tensor: \", twoD_tensor.numel())"
   ]
  },
  {
   "cell_type": "markdown",
   "id": "9ef002be",
   "metadata": {
    "papermill": {
     "duration": 0.013418,
     "end_time": "2024-03-01T08:55:04.133424",
     "exception": false,
     "start_time": "2024-03-01T08:55:04.120006",
     "status": "completed"
    },
    "tags": []
   },
   "source": [
    "Because it is a 2D 3X3 tensor,  the outputs are correct.\n"
   ]
  },
  {
   "cell_type": "markdown",
   "id": "e90a3c6e",
   "metadata": {
    "papermill": {
     "duration": 0.069128,
     "end_time": "2024-03-01T08:55:04.216397",
     "exception": false,
     "start_time": "2024-03-01T08:55:04.147269",
     "status": "completed"
    },
    "tags": []
   },
   "source": [
    "<!--Empty Space for separating topics-->\n"
   ]
  },
  {
   "cell_type": "markdown",
   "id": "2928e320",
   "metadata": {
    "papermill": {
     "duration": 0.013818,
     "end_time": "2024-03-01T08:55:04.244491",
     "exception": false,
     "start_time": "2024-03-01T08:55:04.230673",
     "status": "completed"
    },
    "tags": []
   },
   "source": [
    "Now, let us try converting the tensor to a numpy array and convert the numpy array back to a tensor.\n"
   ]
  },
  {
   "cell_type": "code",
   "execution_count": 4,
   "id": "833f7363",
   "metadata": {
    "execution": {
     "iopub.execute_input": "2024-03-01T08:55:04.274511Z",
     "iopub.status.busy": "2024-03-01T08:55:04.274095Z",
     "iopub.status.idle": "2024-03-01T08:55:04.284541Z",
     "shell.execute_reply": "2024-03-01T08:55:04.282971Z"
    },
    "papermill": {
     "duration": 0.028662,
     "end_time": "2024-03-01T08:55:04.287198",
     "exception": false,
     "start_time": "2024-03-01T08:55:04.258536",
     "status": "completed"
    },
    "tags": []
   },
   "outputs": [
    {
     "name": "stdout",
     "output_type": "stream",
     "text": [
      "Tensor -> Numpy Array:\n",
      "The numpy array after converting:  [[11 12 13]\n",
      " [21 22 23]\n",
      " [31 32 33]]\n",
      "Type after converting:  int64\n",
      "================================================\n",
      "Numpy Array -> Tensor:\n",
      "The tensor after converting: tensor([[11, 12, 13],\n",
      "        [21, 22, 23],\n",
      "        [31, 32, 33]])\n",
      "Type after converting:  torch.int64\n"
     ]
    }
   ],
   "source": [
    "# Convert tensor to numpy array; Convert numpy array to tensor\n",
    "\n",
    "twoD_numpy = twoD_tensor.numpy()\n",
    "print(\"Tensor -> Numpy Array:\")\n",
    "print(\"The numpy array after converting: \", twoD_numpy)\n",
    "print(\"Type after converting: \", twoD_numpy.dtype)\n",
    "\n",
    "print(\"================================================\")\n",
    "\n",
    "new_twoD_tensor = torch.from_numpy(twoD_numpy)\n",
    "print(\"Numpy Array -> Tensor:\")\n",
    "print(\"The tensor after converting:\", new_twoD_tensor)\n",
    "print(\"Type after converting: \", new_twoD_tensor.dtype)"
   ]
  },
  {
   "cell_type": "markdown",
   "id": "9ccbeb6c",
   "metadata": {
    "papermill": {
     "duration": 0.01592,
     "end_time": "2024-03-01T08:55:04.317371",
     "exception": false,
     "start_time": "2024-03-01T08:55:04.301451",
     "status": "completed"
    },
    "tags": []
   },
   "source": [
    "The result shows the tensor has successfully been converted to a numpy array and then converted back to a tensor.\n"
   ]
  },
  {
   "cell_type": "markdown",
   "id": "f3349503",
   "metadata": {
    "papermill": {
     "duration": 0.013662,
     "end_time": "2024-03-01T08:55:04.345384",
     "exception": false,
     "start_time": "2024-03-01T08:55:04.331722",
     "status": "completed"
    },
    "tags": []
   },
   "source": [
    "<!--Empty Space for separating topics-->\n"
   ]
  },
  {
   "cell_type": "markdown",
   "id": "101dfba0",
   "metadata": {
    "papermill": {
     "duration": 0.01371,
     "end_time": "2024-03-01T08:55:04.373030",
     "exception": false,
     "start_time": "2024-03-01T08:55:04.359320",
     "status": "completed"
    },
    "tags": []
   },
   "source": [
    "Now let us try to convert a Pandas Dataframe to a tensor. The process is the  Same as the 1D conversion, we can obtain the numpy array via the attribute <code>values</code>. Then, we can use <code>torch.from_numpy()</code> to convert the value of the Pandas Series to a tensor.\n"
   ]
  },
  {
   "cell_type": "code",
   "execution_count": 5,
   "id": "d980e142",
   "metadata": {
    "execution": {
     "iopub.execute_input": "2024-03-01T08:55:04.404506Z",
     "iopub.status.busy": "2024-03-01T08:55:04.404111Z",
     "iopub.status.idle": "2024-03-01T08:55:04.428755Z",
     "shell.execute_reply": "2024-03-01T08:55:04.427556Z"
    },
    "papermill": {
     "duration": 0.04204,
     "end_time": "2024-03-01T08:55:04.430709",
     "exception": false,
     "start_time": "2024-03-01T08:55:04.388669",
     "status": "completed"
    },
    "tags": []
   },
   "outputs": [
    {
     "name": "stdout",
     "output_type": "stream",
     "text": [
      "Pandas Dataframe to numpy:  [[ 11  12]\n",
      " [ 21  22]\n",
      " [ 31 312]]\n",
      "Type BEFORE converting:  int64\n",
      "================================================\n",
      "Tensor AFTER converting:  tensor([[ 11,  12],\n",
      "        [ 21,  22],\n",
      "        [ 31, 312]])\n",
      "Type AFTER converting:  torch.int64\n"
     ]
    }
   ],
   "source": [
    "# Try to convert the Panda Dataframe to tensor\n",
    "\n",
    "df = pd.DataFrame({'a':[11,21,31],'b':[12,22,312]})\n",
    "\n",
    "print(\"Pandas Dataframe to numpy: \", df.values)\n",
    "print(\"Type BEFORE converting: \", df.values.dtype)\n",
    "\n",
    "print(\"================================================\")\n",
    "\n",
    "new_tensor = torch.from_numpy(df.values)\n",
    "print(\"Tensor AFTER converting: \", new_tensor)\n",
    "print(\"Type AFTER converting: \", new_tensor.dtype)"
   ]
  },
  {
   "cell_type": "markdown",
   "id": "1e5b8070",
   "metadata": {
    "papermill": {
     "duration": 0.013864,
     "end_time": "2024-03-01T08:55:04.458785",
     "exception": false,
     "start_time": "2024-03-01T08:55:04.444921",
     "status": "completed"
    },
    "tags": []
   },
   "source": [
    "<!--Empty Space for separating topics-->\n"
   ]
  },
  {
   "cell_type": "markdown",
   "id": "7b928ce1",
   "metadata": {
    "papermill": {
     "duration": 0.013838,
     "end_time": "2024-03-01T08:55:04.486881",
     "exception": false,
     "start_time": "2024-03-01T08:55:04.473043",
     "status": "completed"
    },
    "tags": []
   },
   "source": [
    "<!--Empty Space for separating topics-->\n"
   ]
  },
  {
   "cell_type": "markdown",
   "id": "984d6487",
   "metadata": {
    "papermill": {
     "duration": 0.014052,
     "end_time": "2024-03-01T08:55:04.514666",
     "exception": false,
     "start_time": "2024-03-01T08:55:04.500614",
     "status": "completed"
    },
    "tags": []
   },
   "source": [
    "<h3>Practice</h3>\n"
   ]
  },
  {
   "cell_type": "markdown",
   "id": "82f725e4",
   "metadata": {
    "papermill": {
     "duration": 0.014117,
     "end_time": "2024-03-01T08:55:04.542458",
     "exception": false,
     "start_time": "2024-03-01T08:55:04.528341",
     "status": "completed"
    },
    "tags": []
   },
   "source": [
    "Try to convert the following Pandas Dataframe  to a tensor\n"
   ]
  },
  {
   "cell_type": "code",
   "execution_count": 6,
   "id": "3a09a4d1",
   "metadata": {
    "execution": {
     "iopub.execute_input": "2024-03-01T08:55:04.572419Z",
     "iopub.status.busy": "2024-03-01T08:55:04.572021Z",
     "iopub.status.idle": "2024-03-01T08:55:04.581528Z",
     "shell.execute_reply": "2024-03-01T08:55:04.580551Z"
    },
    "papermill": {
     "duration": 0.027025,
     "end_time": "2024-03-01T08:55:04.583836",
     "exception": false,
     "start_time": "2024-03-01T08:55:04.556811",
     "status": "completed"
    },
    "tags": []
   },
   "outputs": [
    {
     "name": "stdout",
     "output_type": "stream",
     "text": [
      "Tensor:  tensor([[11,  3],\n",
      "        [33,  3],\n",
      "        [22,  2]])\n"
     ]
    }
   ],
   "source": [
    "# Practice: try to convert Pandas Series to tensor\n",
    "\n",
    "df = pd.DataFrame({'A':[11, 33, 22],'B':[3, 3, 2]})\n",
    "converted_tensor = torch.tensor(df.values)\n",
    "print (\"Tensor: \", converted_tensor)"
   ]
  },
  {
   "cell_type": "markdown",
   "id": "4e84b5ff",
   "metadata": {
    "papermill": {
     "duration": 0.013832,
     "end_time": "2024-03-01T08:55:04.611762",
     "exception": false,
     "start_time": "2024-03-01T08:55:04.597930",
     "status": "completed"
    },
    "tags": []
   },
   "source": [
    "<h2 id=\"Index_Slice\">Indexing and Slicing</h2>\n"
   ]
  },
  {
   "cell_type": "markdown",
   "id": "aa072595",
   "metadata": {
    "papermill": {
     "duration": 0.014166,
     "end_time": "2024-03-01T08:55:04.640423",
     "exception": false,
     "start_time": "2024-03-01T08:55:04.626257",
     "status": "completed"
    },
    "tags": []
   },
   "source": [
    "You can use rectangular brackets to access the different elements of the tensor. The correspondence between the rectangular brackets and the list and the rectangular representation is shown in the following figure for a 3X3 tensor:  \n"
   ]
  },
  {
   "cell_type": "markdown",
   "id": "850aba4f",
   "metadata": {
    "papermill": {
     "duration": 0.014228,
     "end_time": "2024-03-01T08:55:04.669783",
     "exception": false,
     "start_time": "2024-03-01T08:55:04.655555",
     "status": "completed"
    },
    "tags": []
   },
   "source": [
    "<img src=\"https://s3-api.us-geo.objectstorage.softlayer.net/cf-courses-data/CognitiveClass/DL0110EN/notebook_images%20/chapter%201/1.2index1.png\" width=\"500\" alt=\"Matrix Structure Introduce\">\n"
   ]
  },
  {
   "cell_type": "markdown",
   "id": "25fdcd4b",
   "metadata": {
    "papermill": {
     "duration": 0.014307,
     "end_time": "2024-03-01T08:55:04.698666",
     "exception": false,
     "start_time": "2024-03-01T08:55:04.684359",
     "status": "completed"
    },
    "tags": []
   },
   "source": [
    "You can access the 2nd-row 3rd-column as shown in the following figure:\n"
   ]
  },
  {
   "cell_type": "markdown",
   "id": "a91d381f",
   "metadata": {
    "papermill": {
     "duration": 0.013916,
     "end_time": "2024-03-01T08:55:04.727919",
     "exception": false,
     "start_time": "2024-03-01T08:55:04.714003",
     "status": "completed"
    },
    "tags": []
   },
   "source": [
    "<img src=\"https://s3-api.us-geo.objectstorage.softlayer.net/cf-courses-data/CognitiveClass/DL0110EN/notebook_images%20/chapter%201/1.2index.png\" width=\"500\" alt=\"Example of Matrix Index\">\n"
   ]
  },
  {
   "cell_type": "markdown",
   "id": "b825c158",
   "metadata": {
    "papermill": {
     "duration": 0.014523,
     "end_time": "2024-03-01T08:55:04.757369",
     "exception": false,
     "start_time": "2024-03-01T08:55:04.742846",
     "status": "completed"
    },
    "tags": []
   },
   "source": [
    "You simply use the square brackets and the indices corresponding to the element that you want.\n"
   ]
  },
  {
   "cell_type": "markdown",
   "id": "c61200f2",
   "metadata": {
    "papermill": {
     "duration": 0.014667,
     "end_time": "2024-03-01T08:55:04.787446",
     "exception": false,
     "start_time": "2024-03-01T08:55:04.772779",
     "status": "completed"
    },
    "tags": []
   },
   "source": [
    "Now, let us try to access the value on position 2nd-row 3rd-column. Remember that the index is always 1 less than how we count rows and columns. There are two ways to access the certain value of a tensor. The example in code will be the same as the example picture above.\n"
   ]
  },
  {
   "cell_type": "code",
   "execution_count": 7,
   "id": "352c1f68",
   "metadata": {
    "execution": {
     "iopub.execute_input": "2024-03-01T08:55:04.817233Z",
     "iopub.status.busy": "2024-03-01T08:55:04.816875Z",
     "iopub.status.idle": "2024-03-01T08:55:04.823947Z",
     "shell.execute_reply": "2024-03-01T08:55:04.822196Z"
    },
    "papermill": {
     "duration": 0.023963,
     "end_time": "2024-03-01T08:55:04.825596",
     "exception": false,
     "start_time": "2024-03-01T08:55:04.801633",
     "status": "completed"
    },
    "tags": []
   },
   "outputs": [
    {
     "name": "stdout",
     "output_type": "stream",
     "text": [
      "What is the value on 2nd-row 3rd-column?  tensor(23)\n",
      "What is the value on 2nd-row 3rd-column?  tensor(23)\n"
     ]
    }
   ],
   "source": [
    "# Use tensor_obj[row, column] and tensor_obj[row][column] to access certain position\n",
    "\n",
    "tensor_example = torch.tensor([[11, 12, 13], [21, 22, 23], [31, 32, 33]])\n",
    "print(\"What is the value on 2nd-row 3rd-column? \", tensor_example[1, 2])\n",
    "print(\"What is the value on 2nd-row 3rd-column? \", tensor_example[1][2])"
   ]
  },
  {
   "cell_type": "markdown",
   "id": "15b93560",
   "metadata": {
    "papermill": {
     "duration": 0.013541,
     "end_time": "2024-03-01T08:55:04.853094",
     "exception": false,
     "start_time": "2024-03-01T08:55:04.839553",
     "status": "completed"
    },
    "tags": []
   },
   "source": [
    "As we can see, both methods return the true value (the same value as the picture above). Therefore, both of the methods work.\n"
   ]
  },
  {
   "cell_type": "markdown",
   "id": "c23c1911",
   "metadata": {
    "papermill": {
     "duration": 0.013949,
     "end_time": "2024-03-01T08:55:04.880977",
     "exception": false,
     "start_time": "2024-03-01T08:55:04.867028",
     "status": "completed"
    },
    "tags": []
   },
   "source": [
    "<!--Empty Space for separating topics-->\n"
   ]
  },
  {
   "cell_type": "markdown",
   "id": "8f4962f7",
   "metadata": {
    "papermill": {
     "duration": 0.014347,
     "end_time": "2024-03-01T08:55:04.910464",
     "exception": false,
     "start_time": "2024-03-01T08:55:04.896117",
     "status": "completed"
    },
    "tags": []
   },
   "source": [
    "Consider the elements shown in the following figure: \n"
   ]
  },
  {
   "cell_type": "markdown",
   "id": "75b46577",
   "metadata": {
    "papermill": {
     "duration": 0.01394,
     "end_time": "2024-03-01T08:55:04.940234",
     "exception": false,
     "start_time": "2024-03-01T08:55:04.926294",
     "status": "completed"
    },
    "tags": []
   },
   "source": [
    "<img src=\"https://s3-api.us-geo.objectstorage.softlayer.net/cf-courses-data/CognitiveClass/DL0110EN/notebook_images%20/chapter%201/1.2_index2.png\" width=\"500\" alt=\"Example of Matrix Index\">\n"
   ]
  },
  {
   "cell_type": "markdown",
   "id": "5e8c81b5",
   "metadata": {
    "papermill": {
     "duration": 0.013893,
     "end_time": "2024-03-01T08:55:04.968089",
     "exception": false,
     "start_time": "2024-03-01T08:55:04.954196",
     "status": "completed"
    },
    "tags": []
   },
   "source": [
    "Use the method above, we can access the 1st-row 1st-column by <code>tensor_example[0][0]</code>\n"
   ]
  },
  {
   "cell_type": "code",
   "execution_count": 8,
   "id": "9f1d3460",
   "metadata": {
    "execution": {
     "iopub.execute_input": "2024-03-01T08:55:04.997766Z",
     "iopub.status.busy": "2024-03-01T08:55:04.997368Z",
     "iopub.status.idle": "2024-03-01T08:55:05.005598Z",
     "shell.execute_reply": "2024-03-01T08:55:05.004221Z"
    },
    "papermill": {
     "duration": 0.025604,
     "end_time": "2024-03-01T08:55:05.007869",
     "exception": false,
     "start_time": "2024-03-01T08:55:04.982265",
     "status": "completed"
    },
    "tags": []
   },
   "outputs": [
    {
     "data": {
      "text/plain": [
       "tensor(11)"
      ]
     },
     "execution_count": 8,
     "metadata": {},
     "output_type": "execute_result"
    }
   ],
   "source": [
    "tensor_example[0][0]"
   ]
  },
  {
   "cell_type": "markdown",
   "id": "c7795f40",
   "metadata": {
    "papermill": {
     "duration": 0.01465,
     "end_time": "2024-03-01T08:55:05.037915",
     "exception": false,
     "start_time": "2024-03-01T08:55:05.023265",
     "status": "completed"
    },
    "tags": []
   },
   "source": [
    "But what if we want to get the value on both 1st-row 1st-column and 1st-row 2nd-column?\n"
   ]
  },
  {
   "cell_type": "markdown",
   "id": "eb55aa11",
   "metadata": {
    "papermill": {
     "duration": 0.013847,
     "end_time": "2024-03-01T08:55:05.066357",
     "exception": false,
     "start_time": "2024-03-01T08:55:05.052510",
     "status": "completed"
    },
    "tags": []
   },
   "source": [
    "You can also use slicing in a tensor. Consider the following figure. You want to obtain the 1st two columns in the 1st row:  \n"
   ]
  },
  {
   "cell_type": "markdown",
   "id": "edf5fefd",
   "metadata": {
    "papermill": {
     "duration": 0.014849,
     "end_time": "2024-03-01T08:55:05.095219",
     "exception": false,
     "start_time": "2024-03-01T08:55:05.080370",
     "status": "completed"
    },
    "tags": []
   },
   "source": [
    "<img src=\"https://s3-api.us-geo.objectstorage.softlayer.net/cf-courses-data/CognitiveClass/DL0110EN/notebook_images%20/chapter%201/1.2sliceing.png\" width=\"500\" alt=\"Example of Matrix Index and Slicing\">\n"
   ]
  },
  {
   "cell_type": "markdown",
   "id": "81900dbf",
   "metadata": {
    "papermill": {
     "duration": 0.014061,
     "end_time": "2024-03-01T08:55:05.124337",
     "exception": false,
     "start_time": "2024-03-01T08:55:05.110276",
     "status": "completed"
    },
    "tags": []
   },
   "source": [
    "## Let us see how  we use slicing with 2D tensors to get the values in the above picture.\n"
   ]
  },
  {
   "cell_type": "code",
   "execution_count": 9,
   "id": "55f4096c",
   "metadata": {
    "execution": {
     "iopub.execute_input": "2024-03-01T08:55:05.154647Z",
     "iopub.status.busy": "2024-03-01T08:55:05.154314Z",
     "iopub.status.idle": "2024-03-01T08:55:05.166753Z",
     "shell.execute_reply": "2024-03-01T08:55:05.165087Z"
    },
    "papermill": {
     "duration": 0.030471,
     "end_time": "2024-03-01T08:55:05.169197",
     "exception": false,
     "start_time": "2024-03-01T08:55:05.138726",
     "status": "completed"
    },
    "tags": []
   },
   "outputs": [
    {
     "name": "stdout",
     "output_type": "stream",
     "text": [
      "What is the value on 1st-row first two columns?  tensor([11, 12])\n",
      "What is the value on 1st-row first two columns?  tensor([11, 12])\n"
     ]
    }
   ],
   "source": [
    "# Use tensor_obj[begin_row_number: end_row_number, begin_column_number: end_column number] \n",
    "# and tensor_obj[row][begin_column_number: end_column number] to do the slicing\n",
    "\n",
    "tensor_example = torch.tensor([[11, 12, 13], [21, 22, 23], [31, 32, 33]])\n",
    "print(\"What is the value on 1st-row first two columns? \", tensor_example[0, 0:2])\n",
    "print(\"What is the value on 1st-row first two columns? \", tensor_example[0][0:2])"
   ]
  },
  {
   "cell_type": "markdown",
   "id": "2690799a",
   "metadata": {
    "papermill": {
     "duration": 0.014358,
     "end_time": "2024-03-01T08:55:05.198059",
     "exception": false,
     "start_time": "2024-03-01T08:55:05.183701",
     "status": "completed"
    },
    "tags": []
   },
   "source": [
    "We get the result as <code>tensor([11, 12])</code> successfully.\n"
   ]
  },
  {
   "cell_type": "markdown",
   "id": "11b5794e",
   "metadata": {
    "papermill": {
     "duration": 0.014437,
     "end_time": "2024-03-01T08:55:05.227750",
     "exception": false,
     "start_time": "2024-03-01T08:55:05.213313",
     "status": "completed"
    },
    "tags": []
   },
   "source": [
    "<!--Empty Space for separating topics-->\n"
   ]
  },
  {
   "cell_type": "markdown",
   "id": "649ca353",
   "metadata": {
    "papermill": {
     "duration": 0.014307,
     "end_time": "2024-03-01T08:55:05.256708",
     "exception": false,
     "start_time": "2024-03-01T08:55:05.242401",
     "status": "completed"
    },
    "tags": []
   },
   "source": [
    "But we <b>can't</b> combine using slicing on row and pick one column by using the code <code>tensor_obj[begin_row_number: end_row_number][begin_column_number: end_column number]</code>. The reason is that the slicing will be applied on the tensor first. The result type will be a two dimension again. The second bracket will no longer represent the index of the column it will be the index of the row at that time. Let us see an example. \n"
   ]
  },
  {
   "cell_type": "code",
   "execution_count": 10,
   "id": "049ff8e5",
   "metadata": {
    "execution": {
     "iopub.execute_input": "2024-03-01T08:55:05.288754Z",
     "iopub.status.busy": "2024-03-01T08:55:05.288416Z",
     "iopub.status.idle": "2024-03-01T08:55:05.297959Z",
     "shell.execute_reply": "2024-03-01T08:55:05.296388Z"
    },
    "papermill": {
     "duration": 0.02848,
     "end_time": "2024-03-01T08:55:05.300475",
     "exception": false,
     "start_time": "2024-03-01T08:55:05.271995",
     "status": "completed"
    },
    "tags": []
   },
   "outputs": [
    {
     "name": "stdout",
     "output_type": "stream",
     "text": [
      "1. Slicing step on tensor_example: \n",
      "Result after tensor_example[1:3]:  tensor([[21, 22, 23],\n",
      "        [31, 32, 33]])\n",
      "Dimension after tensor_example[1:3]:  2\n",
      "================================================\n",
      "2. Pick an index on sliced_tensor_example: \n",
      "Result after sliced_tensor_example[1]:  tensor([31, 32, 33])\n",
      "Dimension after sliced_tensor_example[1]:  1\n",
      "================================================\n",
      "3. Combine these step together:\n",
      "Result:  tensor([31, 32, 33])\n",
      "Dimension:  1\n"
     ]
    }
   ],
   "source": [
    "# Give an idea on tensor_obj[number: number][number]\n",
    "\n",
    "tensor_example = torch.tensor([[11, 12, 13], [21, 22, 23], [31, 32, 33]])\n",
    "sliced_tensor_example = tensor_example[1:3]\n",
    "print(\"1. Slicing step on tensor_example: \")\n",
    "print(\"Result after tensor_example[1:3]: \", sliced_tensor_example)\n",
    "print(\"Dimension after tensor_example[1:3]: \", sliced_tensor_example.ndimension())\n",
    "print(\"================================================\")\n",
    "print(\"2. Pick an index on sliced_tensor_example: \")\n",
    "print(\"Result after sliced_tensor_example[1]: \", sliced_tensor_example[1])\n",
    "print(\"Dimension after sliced_tensor_example[1]: \", sliced_tensor_example[1].ndimension())\n",
    "print(\"================================================\")\n",
    "print(\"3. Combine these step together:\")\n",
    "print(\"Result: \", tensor_example[1:3][1])\n",
    "print(\"Dimension: \", tensor_example[1:3][1].ndimension())"
   ]
  },
  {
   "cell_type": "markdown",
   "id": "f125884c",
   "metadata": {
    "papermill": {
     "duration": 0.01455,
     "end_time": "2024-03-01T08:55:05.329910",
     "exception": false,
     "start_time": "2024-03-01T08:55:05.315360",
     "status": "completed"
    },
    "tags": []
   },
   "source": [
    "See the results and dimensions in 2 and 3 are the same. Both of them contains the 3rd row in the <code>tensor_example</code>, but not the last two values in the 3rd column.\n"
   ]
  },
  {
   "cell_type": "markdown",
   "id": "359de8d5",
   "metadata": {
    "papermill": {
     "duration": 0.015762,
     "end_time": "2024-03-01T08:55:05.360562",
     "exception": false,
     "start_time": "2024-03-01T08:55:05.344800",
     "status": "completed"
    },
    "tags": []
   },
   "source": [
    "<!--Empty Space for separating topics-->\n"
   ]
  },
  {
   "cell_type": "markdown",
   "id": "c4a51c3b",
   "metadata": {
    "papermill": {
     "duration": 0.014712,
     "end_time": "2024-03-01T08:55:05.391654",
     "exception": false,
     "start_time": "2024-03-01T08:55:05.376942",
     "status": "completed"
    },
    "tags": []
   },
   "source": [
    "So how can we get the elements in the 3rd column with the last two rows? As the below picture.\n"
   ]
  },
  {
   "cell_type": "markdown",
   "id": "038680cd",
   "metadata": {
    "papermill": {
     "duration": 0.014413,
     "end_time": "2024-03-01T08:55:05.421053",
     "exception": false,
     "start_time": "2024-03-01T08:55:05.406640",
     "status": "completed"
    },
    "tags": []
   },
   "source": [
    "<img src=\"https://s3-api.us-geo.objectstorage.softlayer.net/cf-courses-data/CognitiveClass/DL0110EN/notebook_images%20/chapter%201/1.2slicing2.png\" width=\"500\" alt=\"Example of Matrix Index and Slicing\">\n"
   ]
  },
  {
   "cell_type": "markdown",
   "id": "2c79fa0c",
   "metadata": {
    "papermill": {
     "duration": 0.015611,
     "end_time": "2024-03-01T08:55:05.451813",
     "exception": false,
     "start_time": "2024-03-01T08:55:05.436202",
     "status": "completed"
    },
    "tags": []
   },
   "source": [
    "Let's see the code below.\n"
   ]
  },
  {
   "cell_type": "code",
   "execution_count": 11,
   "id": "48d3c9ed",
   "metadata": {
    "execution": {
     "iopub.execute_input": "2024-03-01T08:55:05.483397Z",
     "iopub.status.busy": "2024-03-01T08:55:05.483034Z",
     "iopub.status.idle": "2024-03-01T08:55:05.489615Z",
     "shell.execute_reply": "2024-03-01T08:55:05.488533Z"
    },
    "papermill": {
     "duration": 0.02499,
     "end_time": "2024-03-01T08:55:05.491851",
     "exception": false,
     "start_time": "2024-03-01T08:55:05.466861",
     "status": "completed"
    },
    "tags": []
   },
   "outputs": [
    {
     "name": "stdout",
     "output_type": "stream",
     "text": [
      "What is the value on 3rd-column last two rows?  tensor([23, 33])\n"
     ]
    }
   ],
   "source": [
    "# Use tensor_obj[begin_row_number: end_row_number, begin_column_number: end_column number] \n",
    "\n",
    "tensor_example = torch.tensor([[11, 12, 13], [21, 22, 23], [31, 32, 33]])\n",
    "print(\"What is the value on 3rd-column last two rows? \", tensor_example[1:3, 2])"
   ]
  },
  {
   "cell_type": "markdown",
   "id": "c336e8ae",
   "metadata": {
    "papermill": {
     "duration": 0.020941,
     "end_time": "2024-03-01T08:55:05.529923",
     "exception": false,
     "start_time": "2024-03-01T08:55:05.508982",
     "status": "completed"
    },
    "tags": []
   },
   "source": [
    "Fortunately, the code <code>tensor_obj[begin_row_number: end_row_number, begin_column_number: end_column number]</code> is still works.\n"
   ]
  },
  {
   "cell_type": "markdown",
   "id": "350ca919",
   "metadata": {
    "papermill": {
     "duration": 0.015295,
     "end_time": "2024-03-01T08:55:05.564074",
     "exception": false,
     "start_time": "2024-03-01T08:55:05.548779",
     "status": "completed"
    },
    "tags": []
   },
   "source": [
    "<!--Empty Space for separating topics-->\n"
   ]
  },
  {
   "cell_type": "markdown",
   "id": "eec413db",
   "metadata": {
    "papermill": {
     "duration": 0.014359,
     "end_time": "2024-03-01T08:55:05.593250",
     "exception": false,
     "start_time": "2024-03-01T08:55:05.578891",
     "status": "completed"
    },
    "tags": []
   },
   "source": [
    "<h3>Practice</h3>\n"
   ]
  },
  {
   "cell_type": "markdown",
   "id": "8adf1339",
   "metadata": {
    "papermill": {
     "duration": 0.018335,
     "end_time": "2024-03-01T08:55:05.626537",
     "exception": false,
     "start_time": "2024-03-01T08:55:05.608202",
     "status": "completed"
    },
    "tags": []
   },
   "source": [
    "Try to change the values on the second column and the last two rows to 0. Basically, change the values on <code>tensor_ques[1][1]</code> and <code>tensor_ques[2][1]</code> to 0.\n"
   ]
  },
  {
   "cell_type": "code",
   "execution_count": 12,
   "id": "51f6848b",
   "metadata": {
    "execution": {
     "iopub.execute_input": "2024-03-01T08:55:05.666434Z",
     "iopub.status.busy": "2024-03-01T08:55:05.666059Z",
     "iopub.status.idle": "2024-03-01T08:55:05.678732Z",
     "shell.execute_reply": "2024-03-01T08:55:05.677131Z"
    },
    "papermill": {
     "duration": 0.035574,
     "end_time": "2024-03-01T08:55:05.681268",
     "exception": false,
     "start_time": "2024-03-01T08:55:05.645694",
     "status": "completed"
    },
    "tags": []
   },
   "outputs": [
    {
     "name": "stdout",
     "output_type": "stream",
     "text": [
      "The result:  tensor([[11, 12, 13],\n",
      "        [21,  0, 23],\n",
      "        [31,  0, 33]])\n"
     ]
    }
   ],
   "source": [
    "# Practice: Use slice and index to change the values on the matrix tensor_ques.\n",
    "\n",
    "tensor_ques = torch.tensor([[11, 12, 13], [21, 22, 23], [31, 32, 33]])\n",
    "tensor_ques[1:3, 1] = 0\n",
    "print(\"The result: \", tensor_ques)"
   ]
  },
  {
   "cell_type": "markdown",
   "id": "dd539ed5",
   "metadata": {
    "papermill": {
     "duration": 0.018838,
     "end_time": "2024-03-01T08:55:05.717665",
     "exception": false,
     "start_time": "2024-03-01T08:55:05.698827",
     "status": "completed"
    },
    "tags": []
   },
   "source": [
    "<!--Empty Space for separating topics-->\n"
   ]
  },
  {
   "cell_type": "markdown",
   "id": "1ff5fafb",
   "metadata": {
    "papermill": {
     "duration": 0.016199,
     "end_time": "2024-03-01T08:55:05.752594",
     "exception": false,
     "start_time": "2024-03-01T08:55:05.736395",
     "status": "completed"
    },
    "tags": []
   },
   "source": [
    "<h2 id=\"Tensor_Op\">Tensor Operations</h2> \n"
   ]
  },
  {
   "cell_type": "markdown",
   "id": "961dc3bb",
   "metadata": {
    "papermill": {
     "duration": 0.014593,
     "end_time": "2024-03-01T08:55:05.783388",
     "exception": false,
     "start_time": "2024-03-01T08:55:05.768795",
     "status": "completed"
    },
    "tags": []
   },
   "source": [
    "We can also do some calculations on 2D tensors.\n"
   ]
  },
  {
   "cell_type": "markdown",
   "id": "476915f2",
   "metadata": {
    "papermill": {
     "duration": 0.0149,
     "end_time": "2024-03-01T08:55:05.815631",
     "exception": false,
     "start_time": "2024-03-01T08:55:05.800731",
     "status": "completed"
    },
    "tags": []
   },
   "source": [
    "<!--Empty Space for separating topics-->\n"
   ]
  },
  {
   "cell_type": "markdown",
   "id": "ad9b92f2",
   "metadata": {
    "papermill": {
     "duration": 0.013841,
     "end_time": "2024-03-01T08:55:05.843899",
     "exception": false,
     "start_time": "2024-03-01T08:55:05.830058",
     "status": "completed"
    },
    "tags": []
   },
   "source": [
    "<h3>Tensor Addition</h3>\n"
   ]
  },
  {
   "cell_type": "markdown",
   "id": "cdac4ecd",
   "metadata": {
    "papermill": {
     "duration": 0.014738,
     "end_time": "2024-03-01T08:55:05.873716",
     "exception": false,
     "start_time": "2024-03-01T08:55:05.858978",
     "status": "completed"
    },
    "tags": []
   },
   "source": [
    "You can also add tensors; the process is identical to matrix addition. Matrix addition of <b>X</b> and <b>Y</b> is shown in the following figure:\n"
   ]
  },
  {
   "cell_type": "markdown",
   "id": "e4ed9563",
   "metadata": {
    "papermill": {
     "duration": 0.016636,
     "end_time": "2024-03-01T08:55:05.907815",
     "exception": false,
     "start_time": "2024-03-01T08:55:05.891179",
     "status": "completed"
    },
    "tags": []
   },
   "source": [
    "<img src=\"https://s3-api.us-geo.objectstorage.softlayer.net/cf-courses-data/CognitiveClass/DL0110EN/notebook_images%20/chapter%201/1.2add.png\" width=\"500\" alt=\"Tensor Addition in 2D\">\n"
   ]
  },
  {
   "cell_type": "markdown",
   "id": "5b589649",
   "metadata": {
    "papermill": {
     "duration": 0.016907,
     "end_time": "2024-03-01T08:55:05.940462",
     "exception": false,
     "start_time": "2024-03-01T08:55:05.923555",
     "status": "completed"
    },
    "tags": []
   },
   "source": [
    "Let us see how tensor addition works with <code>X</code> and <code>Y</code>.\n"
   ]
  },
  {
   "cell_type": "code",
   "execution_count": 13,
   "id": "ae872791",
   "metadata": {
    "execution": {
     "iopub.execute_input": "2024-03-01T08:55:05.972246Z",
     "iopub.status.busy": "2024-03-01T08:55:05.971708Z",
     "iopub.status.idle": "2024-03-01T08:55:05.983300Z",
     "shell.execute_reply": "2024-03-01T08:55:05.981863Z"
    },
    "papermill": {
     "duration": 0.029623,
     "end_time": "2024-03-01T08:55:05.985068",
     "exception": false,
     "start_time": "2024-03-01T08:55:05.955445",
     "status": "completed"
    },
    "tags": []
   },
   "outputs": [
    {
     "name": "stdout",
     "output_type": "stream",
     "text": [
      "The result of X + Y:  tensor([[3, 1],\n",
      "        [1, 3]])\n"
     ]
    }
   ],
   "source": [
    "# Calculate [[1, 0], [0, 1]] + [[2, 1], [1, 2]]\n",
    "\n",
    "X = torch.tensor([[1, 0],[0, 1]]) \n",
    "Y = torch.tensor([[2, 1],[1, 2]])\n",
    "X_plus_Y = X + Y\n",
    "print(\"The result of X + Y: \", X_plus_Y)"
   ]
  },
  {
   "cell_type": "markdown",
   "id": "c086e9c4",
   "metadata": {
    "papermill": {
     "duration": 0.01549,
     "end_time": "2024-03-01T08:55:06.015680",
     "exception": false,
     "start_time": "2024-03-01T08:55:06.000190",
     "status": "completed"
    },
    "tags": []
   },
   "source": [
    "Like the result shown in the picture above. The result is <code>[[3, 1], [1, 3]]</code>\n"
   ]
  },
  {
   "cell_type": "markdown",
   "id": "d1bc3bb4",
   "metadata": {
    "papermill": {
     "duration": 0.014209,
     "end_time": "2024-03-01T08:55:06.044945",
     "exception": false,
     "start_time": "2024-03-01T08:55:06.030736",
     "status": "completed"
    },
    "tags": []
   },
   "source": [
    "<!--Empty Space for separating topics-->\n"
   ]
  },
  {
   "cell_type": "markdown",
   "id": "aece4a94",
   "metadata": {
    "papermill": {
     "duration": 0.014711,
     "end_time": "2024-03-01T08:55:06.075184",
     "exception": false,
     "start_time": "2024-03-01T08:55:06.060473",
     "status": "completed"
    },
    "tags": []
   },
   "source": [
    "<h3> Scalar Multiplication </h3>\n"
   ]
  },
  {
   "cell_type": "markdown",
   "id": "213d78f0",
   "metadata": {
    "papermill": {
     "duration": 0.014446,
     "end_time": "2024-03-01T08:55:06.104695",
     "exception": false,
     "start_time": "2024-03-01T08:55:06.090249",
     "status": "completed"
    },
    "tags": []
   },
   "source": [
    "Multiplying a tensor by a scalar is identical to multiplying a matrix by a scaler. If you multiply the matrix <b>Y</b> by the scalar 2, you simply multiply every element in the matrix by 2 as shown in the figure:\n"
   ]
  },
  {
   "cell_type": "markdown",
   "id": "9ec4717b",
   "metadata": {
    "papermill": {
     "duration": 0.014993,
     "end_time": "2024-03-01T08:55:06.134563",
     "exception": false,
     "start_time": "2024-03-01T08:55:06.119570",
     "status": "completed"
    },
    "tags": []
   },
   "source": [
    "<img src=\"https://s3-api.us-geo.objectstorage.softlayer.net/cf-courses-data/CognitiveClass/DL0110EN/notebook_images%20/chapter%201/1.2scaller_mult.png\" width=\"500\" alt=\"The product of tensor and scalar\">\n"
   ]
  },
  {
   "cell_type": "markdown",
   "id": "2c87454a",
   "metadata": {
    "papermill": {
     "duration": 0.01454,
     "end_time": "2024-03-01T08:55:06.164117",
     "exception": false,
     "start_time": "2024-03-01T08:55:06.149577",
     "status": "completed"
    },
    "tags": []
   },
   "source": [
    "Let us try to calculate the product of <b>2Y</b>.\n"
   ]
  },
  {
   "cell_type": "code",
   "execution_count": 14,
   "id": "c12ba0bc",
   "metadata": {
    "execution": {
     "iopub.execute_input": "2024-03-01T08:55:06.197319Z",
     "iopub.status.busy": "2024-03-01T08:55:06.196950Z",
     "iopub.status.idle": "2024-03-01T08:55:06.208442Z",
     "shell.execute_reply": "2024-03-01T08:55:06.207376Z"
    },
    "papermill": {
     "duration": 0.03124,
     "end_time": "2024-03-01T08:55:06.211304",
     "exception": false,
     "start_time": "2024-03-01T08:55:06.180064",
     "status": "completed"
    },
    "tags": []
   },
   "outputs": [
    {
     "name": "stdout",
     "output_type": "stream",
     "text": [
      "The result of 2Y:  tensor([[4, 2],\n",
      "        [2, 4]])\n"
     ]
    }
   ],
   "source": [
    "# Calculate 2 * [[2, 1], [1, 2]]\n",
    "\n",
    "Y = torch.tensor([[2, 1], [1, 2]]) \n",
    "two_Y = 2 * Y\n",
    "print(\"The result of 2Y: \", two_Y)"
   ]
  },
  {
   "cell_type": "markdown",
   "id": "de5898a1",
   "metadata": {
    "papermill": {
     "duration": 0.015216,
     "end_time": "2024-03-01T08:55:06.242558",
     "exception": false,
     "start_time": "2024-03-01T08:55:06.227342",
     "status": "completed"
    },
    "tags": []
   },
   "source": [
    "<!--Empty Space for separating topics-->\n"
   ]
  },
  {
   "cell_type": "markdown",
   "id": "1bd487d9",
   "metadata": {
    "papermill": {
     "duration": 0.014311,
     "end_time": "2024-03-01T08:55:06.272107",
     "exception": false,
     "start_time": "2024-03-01T08:55:06.257796",
     "status": "completed"
    },
    "tags": []
   },
   "source": [
    "<h3>Element-wise Product/Hadamard Product</h3>\n"
   ]
  },
  {
   "cell_type": "markdown",
   "id": "c704c130",
   "metadata": {
    "papermill": {
     "duration": 0.014424,
     "end_time": "2024-03-01T08:55:06.301398",
     "exception": false,
     "start_time": "2024-03-01T08:55:06.286974",
     "status": "completed"
    },
    "tags": []
   },
   "source": [
    "Multiplication of two tensors corresponds to an element-wise product or Hadamard product.  Consider matrix the <b>X</b> and <b>Y</b> with the same size. The Hadamard product corresponds to multiplying each of the elements at the same position, that is, multiplying elements with the same color together. The result is a new matrix that is the same size as matrix <b>X</b> and <b>Y</b> as shown in the following figure:\n"
   ]
  },
  {
   "cell_type": "markdown",
   "id": "1f4fdd2f",
   "metadata": {
    "papermill": {
     "duration": 0.014439,
     "end_time": "2024-03-01T08:55:06.330751",
     "exception": false,
     "start_time": "2024-03-01T08:55:06.316312",
     "status": "completed"
    },
    "tags": []
   },
   "source": [
    " <a><img src=\"https://s3-api.us-geo.objectstorage.softlayer.net/cf-courses-data/CognitiveClass/DL0110EN/notebook_images%20/chapter%201/1.2tensor_pruduct.png\" width=\"500\" align=\"center\"> </a>\n"
   ]
  },
  {
   "cell_type": "markdown",
   "id": "df35bf6e",
   "metadata": {
    "papermill": {
     "duration": 0.014836,
     "end_time": "2024-03-01T08:55:06.360742",
     "exception": false,
     "start_time": "2024-03-01T08:55:06.345906",
     "status": "completed"
    },
    "tags": []
   },
   "source": [
    "The code below calculates the element-wise product of the tensor <strong>X</strong> and <strong>Y</strong>:\n"
   ]
  },
  {
   "cell_type": "code",
   "execution_count": 15,
   "id": "5ddc5af0",
   "metadata": {
    "execution": {
     "iopub.execute_input": "2024-03-01T08:55:06.392792Z",
     "iopub.status.busy": "2024-03-01T08:55:06.392447Z",
     "iopub.status.idle": "2024-03-01T08:55:06.399090Z",
     "shell.execute_reply": "2024-03-01T08:55:06.398026Z"
    },
    "papermill": {
     "duration": 0.02529,
     "end_time": "2024-03-01T08:55:06.400760",
     "exception": false,
     "start_time": "2024-03-01T08:55:06.375470",
     "status": "completed"
    },
    "tags": []
   },
   "outputs": [
    {
     "name": "stdout",
     "output_type": "stream",
     "text": [
      "The result of X * Y:  tensor([[2, 0],\n",
      "        [0, 2]])\n"
     ]
    }
   ],
   "source": [
    "# Calculate [[1, 0], [0, 1]] * [[2, 1], [1, 2]]\n",
    "\n",
    "X = torch.tensor([[1, 0], [0, 1]])\n",
    "Y = torch.tensor([[2, 1], [1, 2]]) \n",
    "X_times_Y = X * Y\n",
    "print(\"The result of X * Y: \", X_times_Y)"
   ]
  },
  {
   "cell_type": "markdown",
   "id": "8fc26857",
   "metadata": {
    "papermill": {
     "duration": 0.014395,
     "end_time": "2024-03-01T08:55:06.429925",
     "exception": false,
     "start_time": "2024-03-01T08:55:06.415530",
     "status": "completed"
    },
    "tags": []
   },
   "source": [
    "This is a simple calculation. The result from the code matches the result shown in the picture.\n"
   ]
  },
  {
   "cell_type": "markdown",
   "id": "88ed8744",
   "metadata": {
    "papermill": {
     "duration": 0.014547,
     "end_time": "2024-03-01T08:55:06.459065",
     "exception": false,
     "start_time": "2024-03-01T08:55:06.444518",
     "status": "completed"
    },
    "tags": []
   },
   "source": [
    "<!--Empty Space for separating topics-->\n"
   ]
  },
  {
   "cell_type": "markdown",
   "id": "1ba8e293",
   "metadata": {
    "papermill": {
     "duration": 0.014517,
     "end_time": "2024-03-01T08:55:06.489186",
     "exception": false,
     "start_time": "2024-03-01T08:55:06.474669",
     "status": "completed"
    },
    "tags": []
   },
   "source": [
    "<h3>Matrix Multiplication </h3>\n"
   ]
  },
  {
   "cell_type": "markdown",
   "id": "1e3dc862",
   "metadata": {
    "papermill": {
     "duration": 0.014702,
     "end_time": "2024-03-01T08:55:06.519548",
     "exception": false,
     "start_time": "2024-03-01T08:55:06.504846",
     "status": "completed"
    },
    "tags": []
   },
   "source": [
    "We can also apply matrix multiplication to two tensors, if you have learned linear algebra, you should know that in the multiplication of two matrices order matters. This means if <i>X * Y</i> is valid, it does not mean <i>Y * X</i> is valid. The number of columns of the matrix on the left side of the multiplication sign must equal to the number of rows of the matrix on the right side.\n"
   ]
  },
  {
   "cell_type": "markdown",
   "id": "a330145c",
   "metadata": {
    "papermill": {
     "duration": 0.016042,
     "end_time": "2024-03-01T08:55:06.550295",
     "exception": false,
     "start_time": "2024-03-01T08:55:06.534253",
     "status": "completed"
    },
    "tags": []
   },
   "source": [
    "First, let us create a tensor <code>X</code> with size 2X3. Then, let us create another tensor <code>Y</code> with size 3X2. Since the number of columns of <code>X</code> is equal to the number of rows of <code>Y</code>. We are able to perform the multiplication.\n"
   ]
  },
  {
   "cell_type": "markdown",
   "id": "817df730",
   "metadata": {
    "papermill": {
     "duration": 0.014724,
     "end_time": "2024-03-01T08:55:06.581273",
     "exception": false,
     "start_time": "2024-03-01T08:55:06.566549",
     "status": "completed"
    },
    "tags": []
   },
   "source": [
    "We use <code>torch.mm()</code> for calculating the multiplication between tensors with different sizes.\n"
   ]
  },
  {
   "cell_type": "code",
   "execution_count": 16,
   "id": "5d6a216f",
   "metadata": {
    "execution": {
     "iopub.execute_input": "2024-03-01T08:55:06.613031Z",
     "iopub.status.busy": "2024-03-01T08:55:06.612666Z",
     "iopub.status.idle": "2024-03-01T08:55:06.627088Z",
     "shell.execute_reply": "2024-03-01T08:55:06.626213Z"
    },
    "papermill": {
     "duration": 0.033096,
     "end_time": "2024-03-01T08:55:06.629572",
     "exception": false,
     "start_time": "2024-03-01T08:55:06.596476",
     "status": "completed"
    },
    "tags": []
   },
   "outputs": [
    {
     "name": "stdout",
     "output_type": "stream",
     "text": [
      "The result of A * B:  tensor([[0, 2],\n",
      "        [0, 2]])\n"
     ]
    }
   ],
   "source": [
    "# Calculate [[0, 1, 1], [1, 0, 1]] * [[1, 1], [1, 1], [-1, 1]]\n",
    "\n",
    "A = torch.tensor([[0, 1, 1], [1, 0, 1]])\n",
    "B = torch.tensor([[1, 1], [1, 1], [-1, 1]])\n",
    "A_times_B = torch.mm(A,B)\n",
    "print(\"The result of A * B: \", A_times_B)"
   ]
  },
  {
   "cell_type": "markdown",
   "id": "f18d93b0",
   "metadata": {
    "papermill": {
     "duration": 0.014992,
     "end_time": "2024-03-01T08:55:06.661479",
     "exception": false,
     "start_time": "2024-03-01T08:55:06.646487",
     "status": "completed"
    },
    "tags": []
   },
   "source": [
    "<!--Empty Space for separating topics-->\n"
   ]
  },
  {
   "cell_type": "markdown",
   "id": "fa71ed9e",
   "metadata": {
    "papermill": {
     "duration": 0.017023,
     "end_time": "2024-03-01T08:55:06.694701",
     "exception": false,
     "start_time": "2024-03-01T08:55:06.677678",
     "status": "completed"
    },
    "tags": []
   },
   "source": [
    "<h3>Practice</h3>\n"
   ]
  },
  {
   "cell_type": "markdown",
   "id": "11ba9d8e",
   "metadata": {
    "papermill": {
     "duration": 0.015835,
     "end_time": "2024-03-01T08:55:06.727440",
     "exception": false,
     "start_time": "2024-03-01T08:55:06.711605",
     "status": "completed"
    },
    "tags": []
   },
   "source": [
    "Try to create your own two tensors (<code>X</code> and <code>Y</code>) with different sizes, and multiply them.\n"
   ]
  },
  {
   "cell_type": "code",
   "execution_count": 17,
   "id": "3b339674",
   "metadata": {
    "execution": {
     "iopub.execute_input": "2024-03-01T08:55:06.760404Z",
     "iopub.status.busy": "2024-03-01T08:55:06.760019Z",
     "iopub.status.idle": "2024-03-01T08:55:06.766586Z",
     "shell.execute_reply": "2024-03-01T08:55:06.765312Z"
    },
    "papermill": {
     "duration": 0.027062,
     "end_time": "2024-03-01T08:55:06.769246",
     "exception": false,
     "start_time": "2024-03-01T08:55:06.742184",
     "status": "completed"
    },
    "tags": []
   },
   "outputs": [
    {
     "name": "stdout",
     "output_type": "stream",
     "text": [
      "The result of X * Y:  tensor([[2, 1, 2],\n",
      "        [3, 0, 4]])\n"
     ]
    }
   ],
   "source": [
    "# Calculate the product of two tensors (X and Y) with different sizes \n",
    "\n",
    "X = torch.tensor([[0, 1], [1, 2]])\n",
    "Y = torch.tensor([[-1, -2, 0], [2, 1, 2]])\n",
    "X_times_Y = torch.mm(X, Y)\n",
    "print(\"The result of X * Y: \", X_times_Y)"
   ]
  }
 ],
 "metadata": {
  "kaggle": {
   "accelerator": "none",
   "dataSources": [],
   "dockerImageVersionId": 30664,
   "isGpuEnabled": false,
   "isInternetEnabled": true,
   "language": "python",
   "sourceType": "notebook"
  },
  "kernelspec": {
   "display_name": "Python 3",
   "language": "python",
   "name": "python3"
  },
  "language_info": {
   "codemirror_mode": {
    "name": "ipython",
    "version": 3
   },
   "file_extension": ".py",
   "mimetype": "text/x-python",
   "name": "python",
   "nbconvert_exporter": "python",
   "pygments_lexer": "ipython3",
   "version": "3.10.13"
  },
  "papermill": {
   "default_parameters": {},
   "duration": 10.865014,
   "end_time": "2024-03-01T08:55:07.707533",
   "environment_variables": {},
   "exception": null,
   "input_path": "__notebook__.ipynb",
   "output_path": "__notebook__.ipynb",
   "parameters": {},
   "start_time": "2024-03-01T08:54:56.842519",
   "version": "2.5.0"
  }
 },
 "nbformat": 4,
 "nbformat_minor": 5
}
