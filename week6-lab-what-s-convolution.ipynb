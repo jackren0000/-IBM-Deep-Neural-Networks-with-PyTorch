{
 "cells": [
  {
   "cell_type": "markdown",
   "id": "b9827aa3",
   "metadata": {
    "papermill": {
     "duration": 0.011784,
     "end_time": "2024-03-11T17:21:26.808824",
     "exception": false,
     "start_time": "2024-03-11T17:21:26.797040",
     "status": "completed"
    },
    "tags": []
   },
   "source": [
    "<p style=\"text-align:center\">\n",
    "    <a href=\"https://skills.network/?utm_medium=Exinfluencer&utm_source=Exinfluencer&utm_content=000026UJ&utm_term=10006555&utm_id=NA-SkillsNetwork-Channel-SkillsNetworkCoursesIBMDeveloperSkillsNetworkDL0110ENSkillsNetwork952-2022-01-01\" target=\"_blank\">\n",
    "    <img src=\"https://cf-courses-data.s3.us.cloud-object-storage.appdomain.cloud/assets/logos/SN_web_lightmode.png\" width=\"200\" alt=\"Skills Network Logo\"  />\n",
    "    </a>\n",
    "</p>\n"
   ]
  },
  {
   "cell_type": "markdown",
   "id": "8e59f1cb",
   "metadata": {
    "papermill": {
     "duration": 0.010278,
     "end_time": "2024-03-11T17:21:26.830259",
     "exception": false,
     "start_time": "2024-03-11T17:21:26.819981",
     "status": "completed"
    },
    "tags": []
   },
   "source": [
    "\n",
    "<h3>Objective for this Notebook<h3>    \n",
    "<h5> 1. Learn about Convolution.</h5>\n",
    "<h5> 2. Leran Determining  the Size of Output. </h5>\n",
    "<h5> 3. Learn Stride, Zero Padding</h5>   \n",
    "\n"
   ]
  },
  {
   "cell_type": "markdown",
   "id": "db44597a",
   "metadata": {
    "papermill": {
     "duration": 0.011843,
     "end_time": "2024-03-11T17:21:26.852685",
     "exception": false,
     "start_time": "2024-03-11T17:21:26.840842",
     "status": "completed"
    },
    "tags": []
   },
   "source": [
    "\n",
    "# Table of Contents\n",
    "In this lab, you will study convolution and review how the different operations change the relationship between input and output.\n",
    "\n",
    "<div class=\"alert alert-block alert-info\" style=\"margin-top: 20px\">\n",
    "<li><a href=\"#ref0\">What is Convolution  </a></li>\n",
    "\n",
    "<li><a href=\"#ref1\">Determining  the Size of Output</a></li>\n",
    "<li><a href=\"#ref2\">Stride</a></li>\n",
    "<li><a href=\"#ref3\">Zero Padding </a></li>\n",
    "<li><a href=\"#ref4\">Practice Questions </a></li>\n",
    "\n",
    "<br>\n",
    "<p></p>\n",
    "Estimated Time Needed: <strong>25 min</strong>\n",
    "</div>\n",
    "\n",
    "<hr>\n"
   ]
  },
  {
   "cell_type": "markdown",
   "id": "a9d1bd51",
   "metadata": {
    "papermill": {
     "duration": 0.011512,
     "end_time": "2024-03-11T17:21:26.875179",
     "exception": false,
     "start_time": "2024-03-11T17:21:26.863667",
     "status": "completed"
    },
    "tags": []
   },
   "source": [
    "Import the following libraries: \n"
   ]
  },
  {
   "cell_type": "code",
   "execution_count": 1,
   "id": "d8cc18a2",
   "metadata": {
    "execution": {
     "iopub.execute_input": "2024-03-11T17:21:26.898388Z",
     "iopub.status.busy": "2024-03-11T17:21:26.897320Z",
     "iopub.status.idle": "2024-03-11T17:21:30.279324Z",
     "shell.execute_reply": "2024-03-11T17:21:30.278270Z"
    },
    "papermill": {
     "duration": 3.396159,
     "end_time": "2024-03-11T17:21:30.281852",
     "exception": false,
     "start_time": "2024-03-11T17:21:26.885693",
     "status": "completed"
    },
    "tags": []
   },
   "outputs": [],
   "source": [
    "import torch \n",
    "import torch.nn as nn\n",
    "import matplotlib.pyplot as plt\n",
    "import numpy as np\n",
    "from scipy import ndimage, misc"
   ]
  },
  {
   "cell_type": "markdown",
   "id": "9e5dd61d",
   "metadata": {
    "papermill": {
     "duration": 0.010832,
     "end_time": "2024-03-11T17:21:30.303445",
     "exception": false,
     "start_time": "2024-03-11T17:21:30.292613",
     "status": "completed"
    },
    "tags": []
   },
   "source": [
    "<a id=\"ref0\"></a>\n",
    "<h2 align=center>What is Convolution?</h2>\n"
   ]
  },
  {
   "cell_type": "markdown",
   "id": "e36abb95",
   "metadata": {
    "papermill": {
     "duration": 0.010254,
     "end_time": "2024-03-11T17:21:30.324245",
     "exception": false,
     "start_time": "2024-03-11T17:21:30.313991",
     "status": "completed"
    },
    "tags": []
   },
   "source": [
    "Convolution is a linear operation similar to a linear equation, dot product, or matrix multiplication. Convolution has several advantages for analyzing images. As discussed in the video, convolution preserves the relationship between elements, and it requires fewer parameters than other methods.  \n"
   ]
  },
  {
   "cell_type": "markdown",
   "id": "3536f3bb",
   "metadata": {
    "papermill": {
     "duration": 0.010325,
     "end_time": "2024-03-11T17:21:30.345102",
     "exception": false,
     "start_time": "2024-03-11T17:21:30.334777",
     "status": "completed"
    },
    "tags": []
   },
   "source": [
    "You can see the relationship between the different methods that you learned:\n",
    "\n",
    "$$linear \\ equation :y=wx+b$$\n",
    "$$linear\\ equation\\ with\\ multiple \\ variables \\ where \\ \\mathbf{x} \\ is \\ a \\ vector \\ \\mathbf{y}=\\mathbf{wx}+b$$\n",
    "$$ \\ matrix\\ multiplication \\ where \\ \\mathbf{X} \\ in \\ a \\ matrix \\ \\mathbf{y}=\\mathbf{wX}+\\mathbf{b} $$\n",
    "$$\\ convolution \\ where \\ \\mathbf{X} \\ and \\ \\mathbf{Y} \\ is \\ a \\ tensor \\  \\mathbf{Y}=\\mathbf{w}*\\mathbf{X}+\\mathbf{b}$$\n"
   ]
  },
  {
   "cell_type": "markdown",
   "id": "d12b27bf",
   "metadata": {
    "papermill": {
     "duration": 0.010237,
     "end_time": "2024-03-11T17:21:30.365819",
     "exception": false,
     "start_time": "2024-03-11T17:21:30.355582",
     "status": "completed"
    },
    "tags": []
   },
   "source": [
    "In convolution, the parameter <b>w</b> is called a kernel. You can perform convolution on images where you let the variable image denote the variable X and w denote the parameter.\n"
   ]
  },
  {
   "cell_type": "markdown",
   "id": "e8867b51",
   "metadata": {
    "papermill": {
     "duration": 0.010169,
     "end_time": "2024-03-11T17:21:30.386824",
     "exception": false,
     "start_time": "2024-03-11T17:21:30.376655",
     "status": "completed"
    },
    "tags": []
   },
   "source": [
    "<img src=\"https://s3-api.us-geo.objectstorage.softlayer.net/cf-courses-data/CognitiveClass/DL0110EN/notebook_images%20/chapter%206/6.1.1xw.png\" width=\"500,\" align=\"center\">\n"
   ]
  },
  {
   "cell_type": "markdown",
   "id": "785078a3",
   "metadata": {
    "papermill": {
     "duration": 0.010096,
     "end_time": "2024-03-11T17:21:30.407335",
     "exception": false,
     "start_time": "2024-03-11T17:21:30.397239",
     "status": "completed"
    },
    "tags": []
   },
   "source": [
    "Create a two-dimensional convolution object by using the constructor Conv2d, the parameter <code>in_channels</code> and <code>out_channels</code> will be used for this section, and the parameter kernel_size will be three.\n"
   ]
  },
  {
   "cell_type": "code",
   "execution_count": 2,
   "id": "85ba3d8f",
   "metadata": {
    "execution": {
     "iopub.execute_input": "2024-03-11T17:21:30.430693Z",
     "iopub.status.busy": "2024-03-11T17:21:30.429394Z",
     "iopub.status.idle": "2024-03-11T17:21:30.467527Z",
     "shell.execute_reply": "2024-03-11T17:21:30.466526Z"
    },
    "papermill": {
     "duration": 0.051867,
     "end_time": "2024-03-11T17:21:30.469672",
     "exception": false,
     "start_time": "2024-03-11T17:21:30.417805",
     "status": "completed"
    },
    "tags": []
   },
   "outputs": [
    {
     "data": {
      "text/plain": [
       "Conv2d(1, 1, kernel_size=(3, 3), stride=(1, 1))"
      ]
     },
     "execution_count": 2,
     "metadata": {},
     "output_type": "execute_result"
    }
   ],
   "source": [
    "conv = nn.Conv2d(in_channels=1, out_channels=1,kernel_size=3)\n",
    "conv"
   ]
  },
  {
   "cell_type": "markdown",
   "id": "4cc45c87",
   "metadata": {
    "papermill": {
     "duration": 0.01041,
     "end_time": "2024-03-11T17:21:30.490879",
     "exception": false,
     "start_time": "2024-03-11T17:21:30.480469",
     "status": "completed"
    },
    "tags": []
   },
   "source": [
    "Because the parameters in <code>nn.Conv2d</code> are randomly initialized and learned through training, give them some values.\n"
   ]
  },
  {
   "cell_type": "code",
   "execution_count": 3,
   "id": "e8abcb66",
   "metadata": {
    "execution": {
     "iopub.execute_input": "2024-03-11T17:21:30.514247Z",
     "iopub.status.busy": "2024-03-11T17:21:30.513833Z",
     "iopub.status.idle": "2024-03-11T17:21:30.589948Z",
     "shell.execute_reply": "2024-03-11T17:21:30.589132Z"
    },
    "papermill": {
     "duration": 0.090919,
     "end_time": "2024-03-11T17:21:30.592420",
     "exception": false,
     "start_time": "2024-03-11T17:21:30.501501",
     "status": "completed"
    },
    "tags": []
   },
   "outputs": [
    {
     "data": {
      "text/plain": [
       "OrderedDict([('weight',\n",
       "              tensor([[[[ 1.,  0., -1.],\n",
       "                        [ 2.,  0., -2.],\n",
       "                        [ 1.,  0., -1.]]]])),\n",
       "             ('bias', tensor([0.]))])"
      ]
     },
     "execution_count": 3,
     "metadata": {},
     "output_type": "execute_result"
    }
   ],
   "source": [
    "conv.state_dict()['weight'][0][0]=torch.tensor([[1.0,0,-1.0],[2.0,0,-2.0],[1.0,0.0,-1.0]])\n",
    "conv.state_dict()['bias'][0]=0.0\n",
    "conv.state_dict()"
   ]
  },
  {
   "cell_type": "markdown",
   "id": "c5fcf5b6",
   "metadata": {
    "papermill": {
     "duration": 0.011037,
     "end_time": "2024-03-11T17:21:30.618957",
     "exception": false,
     "start_time": "2024-03-11T17:21:30.607920",
     "status": "completed"
    },
    "tags": []
   },
   "source": [
    "Create a dummy tensor to represent an image. The shape of the image is (1,1,5,5) where:\n",
    "\n",
    "(number of inputs, number of channels, number of rows, number of columns ) \n",
    "\n",
    "Set the third column to 1:\n"
   ]
  },
  {
   "cell_type": "code",
   "execution_count": 4,
   "id": "41d2a4fc",
   "metadata": {
    "execution": {
     "iopub.execute_input": "2024-03-11T17:21:30.643212Z",
     "iopub.status.busy": "2024-03-11T17:21:30.641899Z",
     "iopub.status.idle": "2024-03-11T17:21:30.661456Z",
     "shell.execute_reply": "2024-03-11T17:21:30.660470Z"
    },
    "papermill": {
     "duration": 0.033657,
     "end_time": "2024-03-11T17:21:30.663434",
     "exception": false,
     "start_time": "2024-03-11T17:21:30.629777",
     "status": "completed"
    },
    "tags": []
   },
   "outputs": [
    {
     "data": {
      "text/plain": [
       "tensor([[[[0., 0., 1., 0., 0.],\n",
       "          [0., 0., 1., 0., 0.],\n",
       "          [0., 0., 1., 0., 0.],\n",
       "          [0., 0., 1., 0., 0.],\n",
       "          [0., 0., 1., 0., 0.]]]])"
      ]
     },
     "execution_count": 4,
     "metadata": {},
     "output_type": "execute_result"
    }
   ],
   "source": [
    "image=torch.zeros(1,1,5,5)\n",
    "image[0,0,:,2]=1\n",
    "image"
   ]
  },
  {
   "cell_type": "markdown",
   "id": "87fcbc60",
   "metadata": {
    "papermill": {
     "duration": 0.01168,
     "end_time": "2024-03-11T17:21:30.686189",
     "exception": false,
     "start_time": "2024-03-11T17:21:30.674509",
     "status": "completed"
    },
    "tags": []
   },
   "source": [
    "Call the object <code>conv</code> on the tensor <code>image</code> as an input to perform the convolution and assign the result to the tensor <code>z</code>. \n"
   ]
  },
  {
   "cell_type": "code",
   "execution_count": 5,
   "id": "69e0fdfc",
   "metadata": {
    "execution": {
     "iopub.execute_input": "2024-03-11T17:21:30.711175Z",
     "iopub.status.busy": "2024-03-11T17:21:30.710361Z",
     "iopub.status.idle": "2024-03-11T17:21:30.736408Z",
     "shell.execute_reply": "2024-03-11T17:21:30.735690Z"
    },
    "papermill": {
     "duration": 0.041552,
     "end_time": "2024-03-11T17:21:30.738853",
     "exception": false,
     "start_time": "2024-03-11T17:21:30.697301",
     "status": "completed"
    },
    "tags": []
   },
   "outputs": [
    {
     "data": {
      "text/plain": [
       "tensor([[[[-4.,  0.,  4.],\n",
       "          [-4.,  0.,  4.],\n",
       "          [-4.,  0.,  4.]]]], grad_fn=<ConvolutionBackward0>)"
      ]
     },
     "execution_count": 5,
     "metadata": {},
     "output_type": "execute_result"
    }
   ],
   "source": [
    "z=conv(image)\n",
    "z"
   ]
  },
  {
   "cell_type": "markdown",
   "id": "ae214f7f",
   "metadata": {
    "papermill": {
     "duration": 0.012444,
     "end_time": "2024-03-11T17:21:30.765974",
     "exception": false,
     "start_time": "2024-03-11T17:21:30.753530",
     "status": "completed"
    },
    "tags": []
   },
   "source": [
    "The following animation illustrates the process, the kernel performs at the element-level multiplication on every element in the image in the corresponding region. The values are then added together. The kernel is then shifted and the process is repeated. \n"
   ]
  },
  {
   "cell_type": "markdown",
   "id": "ba585b93",
   "metadata": {
    "papermill": {
     "duration": 0.010746,
     "end_time": "2024-03-11T17:21:30.788057",
     "exception": false,
     "start_time": "2024-03-11T17:21:30.777311",
     "status": "completed"
    },
    "tags": []
   },
   "source": [
    "<img src=\"https://s3-api.us-geo.objectstorage.softlayer.net/cf-courses-data/CognitiveClass/DL0110EN/notebook_images%20/chapter%206/6.1.1convltuon.gif\" width=\"500,\" align=\"center\">\n"
   ]
  },
  {
   "cell_type": "markdown",
   "id": "ea2caca0",
   "metadata": {
    "papermill": {
     "duration": 0.010593,
     "end_time": "2024-03-11T17:21:30.809619",
     "exception": false,
     "start_time": "2024-03-11T17:21:30.799026",
     "status": "completed"
    },
    "tags": []
   },
   "source": [
    "\n",
    "<a id=\"ref1\"></a>\n",
    "<h2 align=center>Determining  the Size of the Output</h2>\n"
   ]
  },
  {
   "cell_type": "markdown",
   "id": "cfbf911c",
   "metadata": {
    "papermill": {
     "duration": 0.010735,
     "end_time": "2024-03-11T17:21:30.831406",
     "exception": false,
     "start_time": "2024-03-11T17:21:30.820671",
     "status": "completed"
    },
    "tags": []
   },
   "source": [
    "The size of the output is an important parameter. In this lab, you will assume square images. For rectangular images, the same formula can be used in for each dimension independently.  \n",
    "\n",
    "Let M be the size of the input and K be the size of the kernel. The size of the output is given by the following formula:\n"
   ]
  },
  {
   "cell_type": "markdown",
   "id": "7bd95239",
   "metadata": {
    "papermill": {
     "duration": 0.011053,
     "end_time": "2024-03-11T17:21:30.915504",
     "exception": false,
     "start_time": "2024-03-11T17:21:30.904451",
     "status": "completed"
    },
    "tags": []
   },
   "source": [
    "$$M_{new}=M-K+1$$\n"
   ]
  },
  {
   "cell_type": "markdown",
   "id": "aa67d1e2",
   "metadata": {
    "papermill": {
     "duration": 0.011661,
     "end_time": "2024-03-11T17:21:30.938462",
     "exception": false,
     "start_time": "2024-03-11T17:21:30.926801",
     "status": "completed"
    },
    "tags": []
   },
   "source": [
    "Create a kernel of size 2:\n"
   ]
  },
  {
   "cell_type": "code",
   "execution_count": 6,
   "id": "68bb95c8",
   "metadata": {
    "execution": {
     "iopub.execute_input": "2024-03-11T17:21:30.966026Z",
     "iopub.status.busy": "2024-03-11T17:21:30.965265Z",
     "iopub.status.idle": "2024-03-11T17:21:30.974090Z",
     "shell.execute_reply": "2024-03-11T17:21:30.973290Z"
    },
    "papermill": {
     "duration": 0.025489,
     "end_time": "2024-03-11T17:21:30.976532",
     "exception": false,
     "start_time": "2024-03-11T17:21:30.951043",
     "status": "completed"
    },
    "tags": []
   },
   "outputs": [
    {
     "data": {
      "text/plain": [
       "Conv2d(1, 1, kernel_size=(2, 2), stride=(1, 1))"
      ]
     },
     "execution_count": 6,
     "metadata": {},
     "output_type": "execute_result"
    }
   ],
   "source": [
    "K=2\n",
    "conv1 = nn.Conv2d(in_channels=1, out_channels=1,kernel_size=K)\n",
    "conv1.state_dict()['weight'][0][0]=torch.tensor([[1.0,1.0],[1.0,1.0]])\n",
    "conv1.state_dict()['bias'][0]=0.0\n",
    "conv1.state_dict()\n",
    "conv1"
   ]
  },
  {
   "cell_type": "markdown",
   "id": "7c3987a5",
   "metadata": {
    "papermill": {
     "duration": 0.011095,
     "end_time": "2024-03-11T17:21:31.005274",
     "exception": false,
     "start_time": "2024-03-11T17:21:30.994179",
     "status": "completed"
    },
    "tags": []
   },
   "source": [
    "Create an image of size 2:\n"
   ]
  },
  {
   "cell_type": "code",
   "execution_count": 7,
   "id": "14bed355",
   "metadata": {
    "execution": {
     "iopub.execute_input": "2024-03-11T17:21:31.030158Z",
     "iopub.status.busy": "2024-03-11T17:21:31.029282Z",
     "iopub.status.idle": "2024-03-11T17:21:31.035825Z",
     "shell.execute_reply": "2024-03-11T17:21:31.034663Z"
    },
    "papermill": {
     "duration": 0.021362,
     "end_time": "2024-03-11T17:21:31.037814",
     "exception": false,
     "start_time": "2024-03-11T17:21:31.016452",
     "status": "completed"
    },
    "tags": []
   },
   "outputs": [],
   "source": [
    "M=4\n",
    "image1=torch.ones(1,1,M,M)"
   ]
  },
  {
   "cell_type": "markdown",
   "id": "937348c1",
   "metadata": {
    "papermill": {
     "duration": 0.010885,
     "end_time": "2024-03-11T17:21:31.059991",
     "exception": false,
     "start_time": "2024-03-11T17:21:31.049106",
     "status": "completed"
    },
    "tags": []
   },
   "source": [
    "<img src=\"https://s3-api.us-geo.objectstorage.softlayer.net/cf-courses-data/CognitiveClass/DL0110EN/notebook_images%20/chapter%206/6.1.1kernal2.png\" width=\"500,\" align=\"center\">\n"
   ]
  },
  {
   "cell_type": "markdown",
   "id": "72dac6e7",
   "metadata": {
    "papermill": {
     "duration": 0.011038,
     "end_time": "2024-03-11T17:21:31.082346",
     "exception": false,
     "start_time": "2024-03-11T17:21:31.071308",
     "status": "completed"
    },
    "tags": []
   },
   "source": [
    "The following equation provides the output:\n"
   ]
  },
  {
   "cell_type": "markdown",
   "id": "648db691",
   "metadata": {
    "papermill": {
     "duration": 0.010916,
     "end_time": "2024-03-11T17:21:31.104546",
     "exception": false,
     "start_time": "2024-03-11T17:21:31.093630",
     "status": "completed"
    },
    "tags": []
   },
   "source": [
    "$$M_{new}=M-K+1$$\n",
    "$$M_{new}=4-2+1$$\n",
    "$$M_{new}=3$$\n"
   ]
  },
  {
   "cell_type": "markdown",
   "id": "7ad09a99",
   "metadata": {
    "papermill": {
     "duration": 0.010926,
     "end_time": "2024-03-11T17:21:31.126777",
     "exception": false,
     "start_time": "2024-03-11T17:21:31.115851",
     "status": "completed"
    },
    "tags": []
   },
   "source": [
    "The following animation illustrates the process: The first iteration of the kernel overlay of the images produces one output. As the kernel is of size K, there are M-K  elements for the kernel to move in the horizontal direction. The same logic applies to the vertical direction.  \n"
   ]
  },
  {
   "cell_type": "markdown",
   "id": "b6739ff8",
   "metadata": {
    "papermill": {
     "duration": 0.010912,
     "end_time": "2024-03-11T17:21:31.148882",
     "exception": false,
     "start_time": "2024-03-11T17:21:31.137970",
     "status": "completed"
    },
    "tags": []
   },
   "source": [
    "<img src=\"https://s3-api.us-geo.objectstorage.softlayer.net/cf-courses-data/CognitiveClass/DL0110EN/notebook_images%20/chapter%206/6.1.1outsize.gif\" width=\"500,\" align=\"center\">\n"
   ]
  },
  {
   "cell_type": "markdown",
   "id": "49589862",
   "metadata": {
    "papermill": {
     "duration": 0.011057,
     "end_time": "2024-03-11T17:21:31.171591",
     "exception": false,
     "start_time": "2024-03-11T17:21:31.160534",
     "status": "completed"
    },
    "tags": []
   },
   "source": [
    "Perform the convolution and verify the size is correct:\n"
   ]
  },
  {
   "cell_type": "code",
   "execution_count": 8,
   "id": "7254f1a5",
   "metadata": {
    "execution": {
     "iopub.execute_input": "2024-03-11T17:21:31.196229Z",
     "iopub.status.busy": "2024-03-11T17:21:31.195502Z",
     "iopub.status.idle": "2024-03-11T17:21:31.204401Z",
     "shell.execute_reply": "2024-03-11T17:21:31.203598Z"
    },
    "papermill": {
     "duration": 0.024,
     "end_time": "2024-03-11T17:21:31.206829",
     "exception": false,
     "start_time": "2024-03-11T17:21:31.182829",
     "status": "completed"
    },
    "tags": []
   },
   "outputs": [
    {
     "name": "stdout",
     "output_type": "stream",
     "text": [
      "z1: tensor([[[[4., 4., 4.],\n",
      "          [4., 4., 4.],\n",
      "          [4., 4., 4.]]]], grad_fn=<ConvolutionBackward0>)\n",
      "shape: torch.Size([3, 3])\n"
     ]
    }
   ],
   "source": [
    "z1=conv1(image1)\n",
    "print(\"z1:\",z1)\n",
    "print(\"shape:\",z1.shape[2:4])"
   ]
  },
  {
   "cell_type": "markdown",
   "id": "6b36f0a7",
   "metadata": {
    "papermill": {
     "duration": 0.011224,
     "end_time": "2024-03-11T17:21:31.233819",
     "exception": false,
     "start_time": "2024-03-11T17:21:31.222595",
     "status": "completed"
    },
    "tags": []
   },
   "source": [
    "<a id=\"ref2\"></a>\n",
    "<h2 align=center>Stride parameter</h2>\n"
   ]
  },
  {
   "cell_type": "markdown",
   "id": "73e4221d",
   "metadata": {
    "papermill": {
     "duration": 0.011215,
     "end_time": "2024-03-11T17:21:31.256751",
     "exception": false,
     "start_time": "2024-03-11T17:21:31.245536",
     "status": "completed"
    },
    "tags": []
   },
   "source": [
    "The parameter stride changes the number of shifts the kernel moves per iteration. As a result, the output size also changes and is given by the following formula:\n"
   ]
  },
  {
   "cell_type": "markdown",
   "id": "fe867585",
   "metadata": {
    "papermill": {
     "duration": 0.011195,
     "end_time": "2024-03-11T17:21:31.279369",
     "exception": false,
     "start_time": "2024-03-11T17:21:31.268174",
     "status": "completed"
    },
    "tags": []
   },
   "source": [
    "$$M_{new}=\\dfrac{M-K}{stride}+1$$\n"
   ]
  },
  {
   "cell_type": "markdown",
   "id": "2a5b913e",
   "metadata": {
    "papermill": {
     "duration": 0.011299,
     "end_time": "2024-03-11T17:21:31.302183",
     "exception": false,
     "start_time": "2024-03-11T17:21:31.290884",
     "status": "completed"
    },
    "tags": []
   },
   "source": [
    "Create a convolution object with a stride of 2:\n"
   ]
  },
  {
   "cell_type": "code",
   "execution_count": 9,
   "id": "e71b74b6",
   "metadata": {
    "execution": {
     "iopub.execute_input": "2024-03-11T17:21:31.327380Z",
     "iopub.status.busy": "2024-03-11T17:21:31.326755Z",
     "iopub.status.idle": "2024-03-11T17:21:31.336879Z",
     "shell.execute_reply": "2024-03-11T17:21:31.336167Z"
    },
    "papermill": {
     "duration": 0.025353,
     "end_time": "2024-03-11T17:21:31.339186",
     "exception": false,
     "start_time": "2024-03-11T17:21:31.313833",
     "status": "completed"
    },
    "tags": []
   },
   "outputs": [
    {
     "data": {
      "text/plain": [
       "OrderedDict([('weight',\n",
       "              tensor([[[[1., 1.],\n",
       "                        [1., 1.]]]])),\n",
       "             ('bias', tensor([0.]))])"
      ]
     },
     "execution_count": 9,
     "metadata": {},
     "output_type": "execute_result"
    }
   ],
   "source": [
    "conv3 = nn.Conv2d(in_channels=1, out_channels=1,kernel_size=2,stride=2)\n",
    "\n",
    "conv3.state_dict()['weight'][0][0]=torch.tensor([[1.0,1.0],[1.0,1.0]])\n",
    "conv3.state_dict()['bias'][0]=0.0\n",
    "conv3.state_dict()"
   ]
  },
  {
   "cell_type": "markdown",
   "id": "a5bd6c40",
   "metadata": {
    "papermill": {
     "duration": 0.014714,
     "end_time": "2024-03-11T17:21:31.372001",
     "exception": false,
     "start_time": "2024-03-11T17:21:31.357287",
     "status": "completed"
    },
    "tags": []
   },
   "source": [
    "For an image with a size of 4, calculate the output size:\n"
   ]
  },
  {
   "cell_type": "markdown",
   "id": "e27e4681",
   "metadata": {
    "papermill": {
     "duration": 0.011132,
     "end_time": "2024-03-11T17:21:31.395027",
     "exception": false,
     "start_time": "2024-03-11T17:21:31.383895",
     "status": "completed"
    },
    "tags": []
   },
   "source": [
    "$$M_{new}=\\dfrac{M-K}{stride}+1$$\n",
    "$$M_{new}=\\dfrac{4-2}{2}+1$$\n",
    "$$M_{new}=2$$\n"
   ]
  },
  {
   "cell_type": "markdown",
   "id": "c70f4e36",
   "metadata": {
    "papermill": {
     "duration": 0.01105,
     "end_time": "2024-03-11T17:21:31.417812",
     "exception": false,
     "start_time": "2024-03-11T17:21:31.406762",
     "status": "completed"
    },
    "tags": []
   },
   "source": [
    "The following animation illustrates the process: The first iteration of the kernel overlay of the images produces one output. Because the kernel is of size K, there are M-K=2 elements. The stride is 2 because it will move 2 elements at a time. As a result, you divide M-K by the stride value 2:\n"
   ]
  },
  {
   "cell_type": "markdown",
   "id": "5d345038",
   "metadata": {
    "papermill": {
     "duration": 0.011205,
     "end_time": "2024-03-11T17:21:31.440825",
     "exception": false,
     "start_time": "2024-03-11T17:21:31.429620",
     "status": "completed"
    },
    "tags": []
   },
   "source": [
    "<img src=\"https://s3-api.us-geo.objectstorage.softlayer.net/cf-courses-data/CognitiveClass/DL0110EN/notebook_images%20/chapter%206/6.1.1stride2.gif\" width=\"500,\" align=\"center\">\n"
   ]
  },
  {
   "cell_type": "markdown",
   "id": "6a1290a2",
   "metadata": {
    "papermill": {
     "duration": 0.011585,
     "end_time": "2024-03-11T17:21:31.464227",
     "exception": false,
     "start_time": "2024-03-11T17:21:31.452642",
     "status": "completed"
    },
    "tags": []
   },
   "source": [
    "Perform the convolution and verify the size is correct: \n"
   ]
  },
  {
   "cell_type": "code",
   "execution_count": 10,
   "id": "1f74af5e",
   "metadata": {
    "execution": {
     "iopub.execute_input": "2024-03-11T17:21:31.488682Z",
     "iopub.status.busy": "2024-03-11T17:21:31.488283Z",
     "iopub.status.idle": "2024-03-11T17:21:31.494585Z",
     "shell.execute_reply": "2024-03-11T17:21:31.493758Z"
    },
    "papermill": {
     "duration": 0.021286,
     "end_time": "2024-03-11T17:21:31.497033",
     "exception": false,
     "start_time": "2024-03-11T17:21:31.475747",
     "status": "completed"
    },
    "tags": []
   },
   "outputs": [
    {
     "name": "stdout",
     "output_type": "stream",
     "text": [
      "z3: tensor([[[[4., 4.],\n",
      "          [4., 4.]]]], grad_fn=<ConvolutionBackward0>)\n",
      "shape: torch.Size([2, 2])\n"
     ]
    }
   ],
   "source": [
    "z3=conv3(image1)\n",
    "\n",
    "print(\"z3:\",z3)\n",
    "print(\"shape:\",z3.shape[2:4])"
   ]
  },
  {
   "cell_type": "markdown",
   "id": "e1214f2d",
   "metadata": {
    "papermill": {
     "duration": 0.016132,
     "end_time": "2024-03-11T17:21:31.531446",
     "exception": false,
     "start_time": "2024-03-11T17:21:31.515314",
     "status": "completed"
    },
    "tags": []
   },
   "source": [
    "<a id='ref3'></a>\n",
    "<h2 align=center>Zero Padding </h2>\n"
   ]
  },
  {
   "cell_type": "markdown",
   "id": "d0fb7661",
   "metadata": {
    "papermill": {
     "duration": 0.011923,
     "end_time": "2024-03-11T17:21:31.554990",
     "exception": false,
     "start_time": "2024-03-11T17:21:31.543067",
     "status": "completed"
    },
    "tags": []
   },
   "source": [
    "As you apply successive convolutions, the image will shrink. You can apply zero padding to keep the image at a reasonable size, which also holds information at the borders.\n"
   ]
  },
  {
   "cell_type": "markdown",
   "id": "6549abc5",
   "metadata": {
    "papermill": {
     "duration": 0.01161,
     "end_time": "2024-03-11T17:21:31.578846",
     "exception": false,
     "start_time": "2024-03-11T17:21:31.567236",
     "status": "completed"
    },
    "tags": []
   },
   "source": [
    "In addition, you might not get integer values for the size of the kernel. Consider the following image:\n"
   ]
  },
  {
   "cell_type": "code",
   "execution_count": 11,
   "id": "d59f4089",
   "metadata": {
    "execution": {
     "iopub.execute_input": "2024-03-11T17:21:31.604784Z",
     "iopub.status.busy": "2024-03-11T17:21:31.604380Z",
     "iopub.status.idle": "2024-03-11T17:21:31.612281Z",
     "shell.execute_reply": "2024-03-11T17:21:31.611489Z"
    },
    "papermill": {
     "duration": 0.023308,
     "end_time": "2024-03-11T17:21:31.614216",
     "exception": false,
     "start_time": "2024-03-11T17:21:31.590908",
     "status": "completed"
    },
    "tags": []
   },
   "outputs": [
    {
     "data": {
      "text/plain": [
       "tensor([[[[1., 1., 1., 1.],\n",
       "          [1., 1., 1., 1.],\n",
       "          [1., 1., 1., 1.],\n",
       "          [1., 1., 1., 1.]]]])"
      ]
     },
     "execution_count": 11,
     "metadata": {},
     "output_type": "execute_result"
    }
   ],
   "source": [
    "image1"
   ]
  },
  {
   "cell_type": "markdown",
   "id": "2f4555dd",
   "metadata": {
    "papermill": {
     "duration": 0.011214,
     "end_time": "2024-03-11T17:21:31.637042",
     "exception": false,
     "start_time": "2024-03-11T17:21:31.625828",
     "status": "completed"
    },
    "tags": []
   },
   "source": [
    "Try performing convolutions with the <code>kernel_size=2</code> and a <code>stride=3</code>. Use these values:\n",
    "\n",
    "$$M_{new}=\\dfrac{M-K}{stride}+1$$\n",
    "$$M_{new}=\\dfrac{4-2}{3}+1$$\n",
    "$$M_{new}=1.666$$\n"
   ]
  },
  {
   "cell_type": "code",
   "execution_count": 12,
   "id": "c3d3976f",
   "metadata": {
    "execution": {
     "iopub.execute_input": "2024-03-11T17:21:31.662159Z",
     "iopub.status.busy": "2024-03-11T17:21:31.661383Z",
     "iopub.status.idle": "2024-03-11T17:21:31.673121Z",
     "shell.execute_reply": "2024-03-11T17:21:31.672364Z"
    },
    "papermill": {
     "duration": 0.029027,
     "end_time": "2024-03-11T17:21:31.677701",
     "exception": false,
     "start_time": "2024-03-11T17:21:31.648674",
     "status": "completed"
    },
    "tags": []
   },
   "outputs": [
    {
     "name": "stdout",
     "output_type": "stream",
     "text": [
      "z4: tensor([[[[4.]]]], grad_fn=<ConvolutionBackward0>)\n",
      "z4: torch.Size([1, 1])\n"
     ]
    }
   ],
   "source": [
    "conv4 = nn.Conv2d(in_channels=1, out_channels=1,kernel_size=2,stride=3)\n",
    "conv4.state_dict()['weight'][0][0]=torch.tensor([[1.0,1.0],[1.0,1.0]])\n",
    "conv4.state_dict()['bias'][0]=0.0\n",
    "conv4.state_dict()\n",
    "z4=conv4(image1)\n",
    "print(\"z4:\",z4)\n",
    "print(\"z4:\",z4.shape[2:4])"
   ]
  },
  {
   "cell_type": "markdown",
   "id": "65ca7c0c",
   "metadata": {
    "papermill": {
     "duration": 0.011472,
     "end_time": "2024-03-11T17:21:31.703558",
     "exception": false,
     "start_time": "2024-03-11T17:21:31.692086",
     "status": "completed"
    },
    "tags": []
   },
   "source": [
    "You can add rows and columns of zeros around the image. This is called padding. In the constructor <code>Conv2d</code>, you specify the number of rows or columns of zeros that you want to add with the parameter padding. \n",
    "\n",
    "For a square image, you merely pad an extra column of zeros to the first column and the last column. Repeat the process for the rows. As a result, for a square image, the width and height is the original size plus 2 x the number of padding elements specified. You can then determine the size of the output after subsequent operations accordingly as shown in the following equation where you determine the size of an image after padding and then applying a convolutions kernel of size K.\n"
   ]
  },
  {
   "cell_type": "markdown",
   "id": "b1210d6e",
   "metadata": {
    "papermill": {
     "duration": 0.011489,
     "end_time": "2024-03-11T17:21:31.726682",
     "exception": false,
     "start_time": "2024-03-11T17:21:31.715193",
     "status": "completed"
    },
    "tags": []
   },
   "source": [
    "$$M'=M+2 \\times padding$$\n",
    "$$M_{new}=M'-K+1$$\n"
   ]
  },
  {
   "cell_type": "markdown",
   "id": "d44c131d",
   "metadata": {
    "papermill": {
     "duration": 0.011255,
     "end_time": "2024-03-11T17:21:31.749546",
     "exception": false,
     "start_time": "2024-03-11T17:21:31.738291",
     "status": "completed"
    },
    "tags": []
   },
   "source": [
    "Consider the following example:\n"
   ]
  },
  {
   "cell_type": "code",
   "execution_count": 13,
   "id": "9d9466d3",
   "metadata": {
    "execution": {
     "iopub.execute_input": "2024-03-11T17:21:31.774345Z",
     "iopub.status.busy": "2024-03-11T17:21:31.773653Z",
     "iopub.status.idle": "2024-03-11T17:21:31.782207Z",
     "shell.execute_reply": "2024-03-11T17:21:31.781084Z"
    },
    "papermill": {
     "duration": 0.023084,
     "end_time": "2024-03-11T17:21:31.784107",
     "exception": false,
     "start_time": "2024-03-11T17:21:31.761023",
     "status": "completed"
    },
    "tags": []
   },
   "outputs": [
    {
     "name": "stdout",
     "output_type": "stream",
     "text": [
      "z5: tensor([[[[1., 2.],\n",
      "          [2., 4.]]]], grad_fn=<ConvolutionBackward0>)\n",
      "z5: torch.Size([1, 1])\n"
     ]
    }
   ],
   "source": [
    "conv5 = nn.Conv2d(in_channels=1, out_channels=1,kernel_size=2,stride=3,padding=1)\n",
    "\n",
    "conv5.state_dict()['weight'][0][0]=torch.tensor([[1.0,1.0],[1.0,1.0]])\n",
    "conv5.state_dict()['bias'][0]=0.0\n",
    "conv5.state_dict()\n",
    "z5=conv5(image1)\n",
    "print(\"z5:\",z5)\n",
    "print(\"z5:\",z4.shape[2:4])"
   ]
  },
  {
   "cell_type": "markdown",
   "id": "227b5307",
   "metadata": {
    "papermill": {
     "duration": 0.011398,
     "end_time": "2024-03-11T17:21:31.807233",
     "exception": false,
     "start_time": "2024-03-11T17:21:31.795835",
     "status": "completed"
    },
    "tags": []
   },
   "source": [
    "The process is summarized in the following  animation: \n"
   ]
  },
  {
   "cell_type": "markdown",
   "id": "1b82ea7d",
   "metadata": {
    "papermill": {
     "duration": 0.011561,
     "end_time": "2024-03-11T17:21:31.830634",
     "exception": false,
     "start_time": "2024-03-11T17:21:31.819073",
     "status": "completed"
    },
    "tags": []
   },
   "source": [
    "<img src=\"https://s3-api.us-geo.objectstorage.softlayer.net/cf-courses-data/CognitiveClass/DL0110EN/notebook_images%20/chapter%206/6.1.1zeropad.gif\" width=\"500,\" align=\"center\">\n"
   ]
  },
  {
   "cell_type": "markdown",
   "id": "8d9238f1",
   "metadata": {
    "papermill": {
     "duration": 0.011486,
     "end_time": "2024-03-11T17:21:31.853783",
     "exception": false,
     "start_time": "2024-03-11T17:21:31.842297",
     "status": "completed"
    },
    "tags": []
   },
   "source": [
    "<a id='ref4'></a>\n",
    "<h2 align=center>Practice Question </h2>\n"
   ]
  },
  {
   "cell_type": "markdown",
   "id": "5bbdb862",
   "metadata": {
    "papermill": {
     "duration": 0.011757,
     "end_time": "2024-03-11T17:21:31.878727",
     "exception": false,
     "start_time": "2024-03-11T17:21:31.866970",
     "status": "completed"
    },
    "tags": []
   },
   "source": [
    " A kernel of zeros with a kernel size=3  is applied to the following image: \n"
   ]
  },
  {
   "cell_type": "code",
   "execution_count": 14,
   "id": "b73a6448",
   "metadata": {
    "execution": {
     "iopub.execute_input": "2024-03-11T17:21:31.903695Z",
     "iopub.status.busy": "2024-03-11T17:21:31.903323Z",
     "iopub.status.idle": "2024-03-11T17:21:31.910249Z",
     "shell.execute_reply": "2024-03-11T17:21:31.909527Z"
    },
    "papermill": {
     "duration": 0.021586,
     "end_time": "2024-03-11T17:21:31.912084",
     "exception": false,
     "start_time": "2024-03-11T17:21:31.890498",
     "status": "completed"
    },
    "tags": []
   },
   "outputs": [
    {
     "data": {
      "text/plain": [
       "tensor([[[[-0.0555,  1.3755, -0.2981,  1.0936],\n",
       "          [-0.1797,  1.0817,  0.9173,  0.4509],\n",
       "          [-0.7306,  1.2608,  0.8260,  0.9350],\n",
       "          [ 1.0988,  1.7681,  0.9858, -0.1405]]]])"
      ]
     },
     "execution_count": 14,
     "metadata": {},
     "output_type": "execute_result"
    }
   ],
   "source": [
    "Image=torch.randn((1,1,4,4))\n",
    "Image"
   ]
  },
  {
   "cell_type": "markdown",
   "id": "06148a98",
   "metadata": {
    "papermill": {
     "duration": 0.011538,
     "end_time": "2024-03-11T17:21:31.935535",
     "exception": false,
     "start_time": "2024-03-11T17:21:31.923997",
     "status": "completed"
    },
    "tags": []
   },
   "source": [
    "Question: Without using the function, determine what the outputs values are as each element:\n"
   ]
  },
  {
   "cell_type": "markdown",
   "id": "fb82f5ac",
   "metadata": {
    "papermill": {
     "duration": 0.011585,
     "end_time": "2024-03-11T17:21:31.958924",
     "exception": false,
     "start_time": "2024-03-11T17:21:31.947339",
     "status": "completed"
    },
    "tags": []
   },
   "source": [
    "As each element of the kernel is zero, and for every  output, the image is multiplied  by the  kernel, the result is always zero "
   ]
  },
  {
   "cell_type": "markdown",
   "id": "ce597530",
   "metadata": {
    "papermill": {
     "duration": 0.012092,
     "end_time": "2024-03-11T17:21:31.982908",
     "exception": false,
     "start_time": "2024-03-11T17:21:31.970816",
     "status": "completed"
    },
    "tags": []
   },
   "source": [
    "Question: Use the following convolution object to perform convolution on the tensor   <code>Image</code>:\n"
   ]
  },
  {
   "cell_type": "code",
   "execution_count": 15,
   "id": "1b74ee6b",
   "metadata": {
    "execution": {
     "iopub.execute_input": "2024-03-11T17:21:32.010084Z",
     "iopub.status.busy": "2024-03-11T17:21:32.009023Z",
     "iopub.status.idle": "2024-03-11T17:21:32.014642Z",
     "shell.execute_reply": "2024-03-11T17:21:32.013936Z"
    },
    "papermill": {
     "duration": 0.020586,
     "end_time": "2024-03-11T17:21:32.016505",
     "exception": false,
     "start_time": "2024-03-11T17:21:31.995919",
     "status": "completed"
    },
    "tags": []
   },
   "outputs": [],
   "source": [
    "conv = nn.Conv2d(in_channels=1, out_channels=1,kernel_size=3)\n",
    "conv.state_dict()['weight'][0][0]=torch.tensor([[0,0,0],[0,0,0],[0,0.0,0]])\n",
    "conv.state_dict()['bias'][0]=0.0"
   ]
  },
  {
   "cell_type": "code",
   "execution_count": 16,
   "id": "d92b4e15",
   "metadata": {
    "execution": {
     "iopub.execute_input": "2024-03-11T17:21:32.042359Z",
     "iopub.status.busy": "2024-03-11T17:21:32.041347Z",
     "iopub.status.idle": "2024-03-11T17:21:32.047577Z",
     "shell.execute_reply": "2024-03-11T17:21:32.046660Z"
    },
    "papermill": {
     "duration": 0.021134,
     "end_time": "2024-03-11T17:21:32.049591",
     "exception": false,
     "start_time": "2024-03-11T17:21:32.028457",
     "status": "completed"
    },
    "tags": []
   },
   "outputs": [
    {
     "data": {
      "text/plain": [
       "tensor([[[[0., 0.],\n",
       "          [0., 0.]]]], grad_fn=<ConvolutionBackward0>)"
      ]
     },
     "execution_count": 16,
     "metadata": {},
     "output_type": "execute_result"
    }
   ],
   "source": [
    "conv(Image)"
   ]
  }
 ],
 "metadata": {
  "kaggle": {
   "accelerator": "none",
   "dataSources": [],
   "dockerImageVersionId": 30664,
   "isGpuEnabled": false,
   "isInternetEnabled": true,
   "language": "python",
   "sourceType": "notebook"
  },
  "kernelspec": {
   "display_name": "Python 3",
   "language": "python",
   "name": "python3"
  },
  "language_info": {
   "codemirror_mode": {
    "name": "ipython",
    "version": 3
   },
   "file_extension": ".py",
   "mimetype": "text/x-python",
   "name": "python",
   "nbconvert_exporter": "python",
   "pygments_lexer": "ipython3",
   "version": "3.10.13"
  },
  "papermill": {
   "default_parameters": {},
   "duration": 8.707167,
   "end_time": "2024-03-11T17:21:32.882817",
   "environment_variables": {},
   "exception": null,
   "input_path": "__notebook__.ipynb",
   "output_path": "__notebook__.ipynb",
   "parameters": {},
   "start_time": "2024-03-11T17:21:24.175650",
   "version": "2.5.0"
  }
 },
 "nbformat": 4,
 "nbformat_minor": 5
}
