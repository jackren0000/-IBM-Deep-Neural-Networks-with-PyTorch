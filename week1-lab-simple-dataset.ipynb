{
 "cells": [
  {
   "cell_type": "markdown",
   "id": "4b75a5da",
   "metadata": {
    "papermill": {
     "duration": 0.010971,
     "end_time": "2024-03-06T08:47:22.566216",
     "exception": false,
     "start_time": "2024-03-06T08:47:22.555245",
     "status": "completed"
    },
    "tags": []
   },
   "source": [
    "<p style=\"text-align:center\">\n",
    "    <a href=\"https://skills.network/?utm_medium=Exinfluencer&utm_source=Exinfluencer&utm_content=000026UJ&utm_term=10006555&utm_id=NA-SkillsNetwork-Channel-SkillsNetworkCoursesIBMDeveloperSkillsNetworkDL0110ENSkillsNetwork952-2022-01-01\" target=\"_blank\">\n",
    "    <img src=\"https://cf-courses-data.s3.us.cloud-object-storage.appdomain.cloud/assets/logos/SN_web_lightmode.png\" width=\"200\" alt=\"Skills Network Logo\"  />\n",
    "    </a>\n",
    "</p>\n"
   ]
  },
  {
   "cell_type": "markdown",
   "id": "f1a92a3d",
   "metadata": {
    "papermill": {
     "duration": 0.010206,
     "end_time": "2024-03-06T08:47:22.587221",
     "exception": false,
     "start_time": "2024-03-06T08:47:22.577015",
     "status": "completed"
    },
    "tags": []
   },
   "source": [
    "<h1>Simple Dataset</h1> \n"
   ]
  },
  {
   "cell_type": "markdown",
   "id": "ac013545",
   "metadata": {
    "papermill": {
     "duration": 0.010625,
     "end_time": "2024-03-06T08:47:22.608380",
     "exception": false,
     "start_time": "2024-03-06T08:47:22.597755",
     "status": "completed"
    },
    "tags": []
   },
   "source": [
    "<h2>Objective</h2><ul><li> How to create a dataset in pytorch.</li><li> How to perform transformations on the dataset.</li></ul> \n"
   ]
  },
  {
   "cell_type": "markdown",
   "id": "f605b1fb",
   "metadata": {
    "papermill": {
     "duration": 0.011182,
     "end_time": "2024-03-06T08:47:22.630425",
     "exception": false,
     "start_time": "2024-03-06T08:47:22.619243",
     "status": "completed"
    },
    "tags": []
   },
   "source": [
    "<h2>Table of Contents</h2>\n"
   ]
  },
  {
   "cell_type": "markdown",
   "id": "e6d9ade1",
   "metadata": {
    "papermill": {
     "duration": 0.010214,
     "end_time": "2024-03-06T08:47:22.652114",
     "exception": false,
     "start_time": "2024-03-06T08:47:22.641900",
     "status": "completed"
    },
    "tags": []
   },
   "source": [
    "<p>In this lab, you will construct a basic dataset by using PyTorch and learn how to apply basic transformations to it.</p> \n",
    "<ul>\n",
    "    <li><a href=\"#Simple_Dataset\">Simple dataset</a></li>\n",
    "    <li><a href=\"#Transforms\">Transforms</a></li>\n",
    "    <li><a href=\"#Compose\">Compose</a></li>\n",
    "</ul>\n",
    "<p>Estimated Time Needed: <strong>30 min</strong></p>\n",
    "<hr>\n"
   ]
  },
  {
   "cell_type": "markdown",
   "id": "c2527135",
   "metadata": {
    "papermill": {
     "duration": 0.010636,
     "end_time": "2024-03-06T08:47:22.673197",
     "exception": false,
     "start_time": "2024-03-06T08:47:22.662561",
     "status": "completed"
    },
    "tags": []
   },
   "source": [
    "<h2>Preparation</h2>\n"
   ]
  },
  {
   "cell_type": "markdown",
   "id": "3fc8c658",
   "metadata": {
    "papermill": {
     "duration": 0.010199,
     "end_time": "2024-03-06T08:47:22.693893",
     "exception": false,
     "start_time": "2024-03-06T08:47:22.683694",
     "status": "completed"
    },
    "tags": []
   },
   "source": [
    "The following are the libraries we are going to use for this lab. The <code>torch.manual_seed()</code> is for forcing the random function to give the same number every time we try to recompile it.\n"
   ]
  },
  {
   "cell_type": "code",
   "execution_count": 1,
   "id": "deb45a86",
   "metadata": {
    "execution": {
     "iopub.execute_input": "2024-03-06T08:47:22.717287Z",
     "iopub.status.busy": "2024-03-06T08:47:22.716627Z",
     "iopub.status.idle": "2024-03-06T08:47:26.076782Z",
     "shell.execute_reply": "2024-03-06T08:47:26.075703Z"
    },
    "papermill": {
     "duration": 3.374506,
     "end_time": "2024-03-06T08:47:26.079214",
     "exception": false,
     "start_time": "2024-03-06T08:47:22.704708",
     "status": "completed"
    },
    "tags": []
   },
   "outputs": [
    {
     "data": {
      "text/plain": [
       "<torch._C.Generator at 0x78c1037d3070>"
      ]
     },
     "execution_count": 1,
     "metadata": {},
     "output_type": "execute_result"
    }
   ],
   "source": [
    "# These are the libraries will be used for this lab.\n",
    "\n",
    "import torch\n",
    "from torch.utils.data import Dataset\n",
    "torch.manual_seed(1)"
   ]
  },
  {
   "cell_type": "markdown",
   "id": "94d1b9ee",
   "metadata": {
    "papermill": {
     "duration": 0.01045,
     "end_time": "2024-03-06T08:47:26.100550",
     "exception": false,
     "start_time": "2024-03-06T08:47:26.090100",
     "status": "completed"
    },
    "tags": []
   },
   "source": [
    "<!--Empty Space for separating topics-->\n"
   ]
  },
  {
   "cell_type": "markdown",
   "id": "a9087a2a",
   "metadata": {
    "papermill": {
     "duration": 0.010422,
     "end_time": "2024-03-06T08:47:26.121739",
     "exception": false,
     "start_time": "2024-03-06T08:47:26.111317",
     "status": "completed"
    },
    "tags": []
   },
   "source": [
    "<h2 id=\"Simple_Dataset\">Simple dataset</h2>\n"
   ]
  },
  {
   "cell_type": "markdown",
   "id": "60c865ab",
   "metadata": {
    "papermill": {
     "duration": 0.010258,
     "end_time": "2024-03-06T08:47:26.142650",
     "exception": false,
     "start_time": "2024-03-06T08:47:26.132392",
     "status": "completed"
    },
    "tags": []
   },
   "source": [
    "Let us try to create our own dataset class.\n"
   ]
  },
  {
   "cell_type": "code",
   "execution_count": 2,
   "id": "77df990f",
   "metadata": {
    "execution": {
     "iopub.execute_input": "2024-03-06T08:47:26.166259Z",
     "iopub.status.busy": "2024-03-06T08:47:26.165745Z",
     "iopub.status.idle": "2024-03-06T08:47:26.172716Z",
     "shell.execute_reply": "2024-03-06T08:47:26.171620Z"
    },
    "papermill": {
     "duration": 0.021572,
     "end_time": "2024-03-06T08:47:26.174915",
     "exception": false,
     "start_time": "2024-03-06T08:47:26.153343",
     "status": "completed"
    },
    "tags": []
   },
   "outputs": [],
   "source": [
    "# Define class for dataset\n",
    "\n",
    "class toy_set(Dataset):\n",
    "    \n",
    "    # Constructor with defult values \n",
    "    def __init__(self, length = 100, transform = None):\n",
    "        self.len = length\n",
    "        self.x = 2 * torch.ones(length, 2)\n",
    "        self.y = torch.ones(length, 1)\n",
    "        self.transform = transform\n",
    "     \n",
    "    # Getter\n",
    "    def __getitem__(self, index):\n",
    "        # create a tuple\n",
    "        sample = self.x[index], self.y[index]\n",
    "        if self.transform:\n",
    "            sample = self.transform(sample)     \n",
    "        return sample\n",
    "    \n",
    "    # Get Length\n",
    "    def __len__(self):\n",
    "        return self.len"
   ]
  },
  {
   "cell_type": "markdown",
   "id": "5ab09915",
   "metadata": {
    "papermill": {
     "duration": 0.010408,
     "end_time": "2024-03-06T08:47:26.196051",
     "exception": false,
     "start_time": "2024-03-06T08:47:26.185643",
     "status": "completed"
    },
    "tags": []
   },
   "source": [
    "Now, let us create our <code>toy_set</code> object, and find out the value on index 1 and the length of the inital dataset\n"
   ]
  },
  {
   "cell_type": "code",
   "execution_count": 3,
   "id": "b1e4c6f4",
   "metadata": {
    "execution": {
     "iopub.execute_input": "2024-03-06T08:47:26.219080Z",
     "iopub.status.busy": "2024-03-06T08:47:26.218664Z",
     "iopub.status.idle": "2024-03-06T08:47:26.321514Z",
     "shell.execute_reply": "2024-03-06T08:47:26.320271Z"
    },
    "papermill": {
     "duration": 0.117195,
     "end_time": "2024-03-06T08:47:26.323856",
     "exception": false,
     "start_time": "2024-03-06T08:47:26.206661",
     "status": "completed"
    },
    "tags": []
   },
   "outputs": [
    {
     "name": "stdout",
     "output_type": "stream",
     "text": [
      "Our toy_set object:  <__main__.toy_set object at 0x78c0e413fee0>\n",
      "Value on index 0 of our toy_set object:  (tensor([2., 2.]), tensor([1.]))\n",
      "Our toy_set length:  100\n"
     ]
    }
   ],
   "source": [
    "# Create Dataset Object. Find out the value on index 1. Find out the length of Dataset Object.\n",
    "\n",
    "our_dataset = toy_set()\n",
    "print(\"Our toy_set object: \", our_dataset)\n",
    "print(\"Value on index 0 of our toy_set object: \", our_dataset[0])\n",
    "print(\"Our toy_set length: \", len(our_dataset))"
   ]
  },
  {
   "cell_type": "markdown",
   "id": "6e00ebf5",
   "metadata": {
    "papermill": {
     "duration": 0.010398,
     "end_time": "2024-03-06T08:47:26.345371",
     "exception": false,
     "start_time": "2024-03-06T08:47:26.334973",
     "status": "completed"
    },
    "tags": []
   },
   "source": [
    "As a result, we can apply the same indexing convention as a <code>list</code>,\n",
    "and apply the fuction <code>len</code> on the <code>toy_set</code> object. We are able to customize the indexing and length method by <code>def &#95;&#95;getitem&#95;&#95;(self, index)</code> and <code>def &#95;&#95;len&#95;&#95;(self)</code>.\n"
   ]
  },
  {
   "cell_type": "markdown",
   "id": "f19484bb",
   "metadata": {
    "papermill": {
     "duration": 0.010625,
     "end_time": "2024-03-06T08:47:26.367014",
     "exception": false,
     "start_time": "2024-03-06T08:47:26.356389",
     "status": "completed"
    },
    "tags": []
   },
   "source": [
    "Now, let us print out the first 3 elements and assign them to x and y:\n"
   ]
  },
  {
   "cell_type": "code",
   "execution_count": 4,
   "id": "073653da",
   "metadata": {
    "execution": {
     "iopub.execute_input": "2024-03-06T08:47:26.390798Z",
     "iopub.status.busy": "2024-03-06T08:47:26.390021Z",
     "iopub.status.idle": "2024-03-06T08:47:26.398616Z",
     "shell.execute_reply": "2024-03-06T08:47:26.397356Z"
    },
    "papermill": {
     "duration": 0.023245,
     "end_time": "2024-03-06T08:47:26.401004",
     "exception": false,
     "start_time": "2024-03-06T08:47:26.377759",
     "status": "completed"
    },
    "tags": []
   },
   "outputs": [
    {
     "name": "stdout",
     "output_type": "stream",
     "text": [
      "index:  0 ; x: tensor([2., 2.]) ; y: tensor([1.])\n",
      "index:  1 ; x: tensor([2., 2.]) ; y: tensor([1.])\n",
      "index:  2 ; x: tensor([2., 2.]) ; y: tensor([1.])\n"
     ]
    }
   ],
   "source": [
    "# Use loop to print out first 3 elements in dataset\n",
    "\n",
    "for i in range(3):\n",
    "    x, y=our_dataset[i]\n",
    "    print(\"index: \", i, '; x:', x, '; y:', y)"
   ]
  },
  {
   "cell_type": "markdown",
   "id": "29aa6ae3",
   "metadata": {
    "papermill": {
     "duration": 0.010915,
     "end_time": "2024-03-06T08:47:26.423814",
     "exception": false,
     "start_time": "2024-03-06T08:47:26.412899",
     "status": "completed"
    },
    "tags": []
   },
   "source": [
    "The dataset object is an Iterable; as a result, we  apply the loop directly on the dataset object \n"
   ]
  },
  {
   "cell_type": "code",
   "execution_count": 5,
   "id": "9cadfdf2",
   "metadata": {
    "execution": {
     "iopub.execute_input": "2024-03-06T08:47:26.447001Z",
     "iopub.status.busy": "2024-03-06T08:47:26.446585Z",
     "iopub.status.idle": "2024-03-06T08:47:26.516468Z",
     "shell.execute_reply": "2024-03-06T08:47:26.515219Z"
    },
    "papermill": {
     "duration": 0.085011,
     "end_time": "2024-03-06T08:47:26.519538",
     "exception": false,
     "start_time": "2024-03-06T08:47:26.434527",
     "status": "completed"
    },
    "tags": []
   },
   "outputs": [
    {
     "name": "stdout",
     "output_type": "stream",
     "text": [
      " x: tensor([2., 2.]) y: tensor([1.])\n",
      " x: tensor([2., 2.]) y: tensor([1.])\n",
      " x: tensor([2., 2.]) y: tensor([1.])\n",
      " x: tensor([2., 2.]) y: tensor([1.])\n",
      " x: tensor([2., 2.]) y: tensor([1.])\n",
      " x: tensor([2., 2.]) y: tensor([1.])\n",
      " x: tensor([2., 2.]) y: tensor([1.])\n",
      " x: tensor([2., 2.]) y: tensor([1.])\n",
      " x: tensor([2., 2.]) y: tensor([1.])\n",
      " x: tensor([2., 2.]) y: tensor([1.])\n",
      " x: tensor([2., 2.]) y: tensor([1.])\n",
      " x: tensor([2., 2.]) y: tensor([1.])\n",
      " x: tensor([2., 2.]) y: tensor([1.])\n",
      " x: tensor([2., 2.]) y: tensor([1.])\n",
      " x: tensor([2., 2.]) y: tensor([1.])\n",
      " x: tensor([2., 2.]) y: tensor([1.])\n",
      " x: tensor([2., 2.]) y: tensor([1.])\n",
      " x: tensor([2., 2.]) y: tensor([1.])\n",
      " x: tensor([2., 2.]) y: tensor([1.])\n",
      " x: tensor([2., 2.]) y: tensor([1.])\n",
      " x: tensor([2., 2.]) y: tensor([1.])\n",
      " x: tensor([2., 2.]) y: tensor([1.])\n",
      " x: tensor([2., 2.]) y: tensor([1.])\n",
      " x: tensor([2., 2.]) y: tensor([1.])\n",
      " x: tensor([2., 2.]) y: tensor([1.])\n",
      " x: tensor([2., 2.]) y: tensor([1.])\n",
      " x: tensor([2., 2.]) y: tensor([1.])\n",
      " x: tensor([2., 2.]) y: tensor([1.])\n",
      " x: tensor([2., 2.]) y: tensor([1.])\n",
      " x: tensor([2., 2.]) y: tensor([1.])\n",
      " x: tensor([2., 2.]) y: tensor([1.])\n",
      " x: tensor([2., 2.]) y: tensor([1.])\n",
      " x: tensor([2., 2.]) y: tensor([1.])\n",
      " x: tensor([2., 2.]) y: tensor([1.])\n",
      " x: tensor([2., 2.]) y: tensor([1.])\n",
      " x: tensor([2., 2.]) y: tensor([1.])\n",
      " x: tensor([2., 2.]) y: tensor([1.])\n",
      " x: tensor([2., 2.]) y: tensor([1.])\n",
      " x: tensor([2., 2.]) y: tensor([1.])\n",
      " x: tensor([2., 2.]) y: tensor([1.])\n",
      " x: tensor([2., 2.]) y: tensor([1.])\n",
      " x: tensor([2., 2.]) y: tensor([1.])\n",
      " x: tensor([2., 2.]) y: tensor([1.])\n",
      " x: tensor([2., 2.]) y: tensor([1.])\n",
      " x: tensor([2., 2.]) y: tensor([1.])\n",
      " x: tensor([2., 2.]) y: tensor([1.])\n",
      " x: tensor([2., 2.]) y: tensor([1.])\n",
      " x: tensor([2., 2.]) y: tensor([1.])\n",
      " x: tensor([2., 2.]) y: tensor([1.])\n",
      " x: tensor([2., 2.]) y: tensor([1.])\n",
      " x: tensor([2., 2.]) y: tensor([1.])\n",
      " x: tensor([2., 2.]) y: tensor([1.])\n",
      " x: tensor([2., 2.]) y: tensor([1.])\n",
      " x: tensor([2., 2.]) y: tensor([1.])\n",
      " x: tensor([2., 2.]) y: tensor([1.])\n",
      " x: tensor([2., 2.]) y: tensor([1.])\n",
      " x: tensor([2., 2.]) y: tensor([1.])\n",
      " x: tensor([2., 2.]) y: tensor([1.])\n",
      " x: tensor([2., 2.]) y: tensor([1.])\n",
      " x: tensor([2., 2.]) y: tensor([1.])\n",
      " x: tensor([2., 2.]) y: tensor([1.])\n",
      " x: tensor([2., 2.]) y: tensor([1.])\n",
      " x: tensor([2., 2.]) y: tensor([1.])\n",
      " x: tensor([2., 2.]) y: tensor([1.])\n",
      " x: tensor([2., 2.]) y: tensor([1.])\n",
      " x: tensor([2., 2.]) y: tensor([1.])\n",
      " x: tensor([2., 2.]) y: tensor([1.])\n",
      " x: tensor([2., 2.]) y: tensor([1.])\n",
      " x: tensor([2., 2.]) y: tensor([1.])\n",
      " x: tensor([2., 2.]) y: tensor([1.])\n",
      " x: tensor([2., 2.]) y: tensor([1.])\n",
      " x: tensor([2., 2.]) y: tensor([1.])\n",
      " x: tensor([2., 2.]) y: tensor([1.])\n",
      " x: tensor([2., 2.]) y: tensor([1.])\n",
      " x: tensor([2., 2.]) y: tensor([1.])\n",
      " x: tensor([2., 2.]) y: tensor([1.])\n",
      " x: tensor([2., 2.]) y: tensor([1.])\n",
      " x: tensor([2., 2.]) y: tensor([1.])\n",
      " x: tensor([2., 2.]) y: tensor([1.])\n",
      " x: tensor([2., 2.]) y: tensor([1.])\n",
      " x: tensor([2., 2.]) y: tensor([1.])\n",
      " x: tensor([2., 2.]) y: tensor([1.])\n",
      " x: tensor([2., 2.]) y: tensor([1.])\n",
      " x: tensor([2., 2.]) y: tensor([1.])\n",
      " x: tensor([2., 2.]) y: tensor([1.])\n",
      " x: tensor([2., 2.]) y: tensor([1.])\n",
      " x: tensor([2., 2.]) y: tensor([1.])\n",
      " x: tensor([2., 2.]) y: tensor([1.])\n",
      " x: tensor([2., 2.]) y: tensor([1.])\n",
      " x: tensor([2., 2.]) y: tensor([1.])\n",
      " x: tensor([2., 2.]) y: tensor([1.])\n",
      " x: tensor([2., 2.]) y: tensor([1.])\n",
      " x: tensor([2., 2.]) y: tensor([1.])\n",
      " x: tensor([2., 2.]) y: tensor([1.])\n",
      " x: tensor([2., 2.]) y: tensor([1.])\n",
      " x: tensor([2., 2.]) y: tensor([1.])\n",
      " x: tensor([2., 2.]) y: tensor([1.])\n",
      " x: tensor([2., 2.]) y: tensor([1.])\n",
      " x: tensor([2., 2.]) y: tensor([1.])\n",
      " x: tensor([2., 2.]) y: tensor([1.])\n"
     ]
    }
   ],
   "source": [
    "for x,y in our_dataset:\n",
    "    print(' x:', x, 'y:', y)"
   ]
  },
  {
   "cell_type": "markdown",
   "id": "93b2cee5",
   "metadata": {
    "papermill": {
     "duration": 0.011712,
     "end_time": "2024-03-06T08:47:26.542486",
     "exception": false,
     "start_time": "2024-03-06T08:47:26.530774",
     "status": "completed"
    },
    "tags": []
   },
   "source": [
    "<!--Empty Space for separating topics-->\n"
   ]
  },
  {
   "cell_type": "markdown",
   "id": "c7e80191",
   "metadata": {
    "papermill": {
     "duration": 0.011033,
     "end_time": "2024-03-06T08:47:26.564918",
     "exception": false,
     "start_time": "2024-03-06T08:47:26.553885",
     "status": "completed"
    },
    "tags": []
   },
   "source": [
    "<h3>Practice</h3>\n"
   ]
  },
  {
   "cell_type": "markdown",
   "id": "23481240",
   "metadata": {
    "papermill": {
     "duration": 0.011564,
     "end_time": "2024-03-06T08:47:26.587607",
     "exception": false,
     "start_time": "2024-03-06T08:47:26.576043",
     "status": "completed"
    },
    "tags": []
   },
   "source": [
    "Try to create an <code>toy_set</code> object with length <b>50</b>. Print out the length of your object.\n"
   ]
  },
  {
   "cell_type": "code",
   "execution_count": 6,
   "id": "633d51f0",
   "metadata": {
    "execution": {
     "iopub.execute_input": "2024-03-06T08:47:26.672164Z",
     "iopub.status.busy": "2024-03-06T08:47:26.671522Z",
     "iopub.status.idle": "2024-03-06T08:47:26.677573Z",
     "shell.execute_reply": "2024-03-06T08:47:26.676367Z"
    },
    "papermill": {
     "duration": 0.021212,
     "end_time": "2024-03-06T08:47:26.679557",
     "exception": false,
     "start_time": "2024-03-06T08:47:26.658345",
     "status": "completed"
    },
    "tags": []
   },
   "outputs": [
    {
     "name": "stdout",
     "output_type": "stream",
     "text": [
      "My toy_set length:  50\n"
     ]
    }
   ],
   "source": [
    "# practice: Create a new object with length 50, and print the length of object out.\n",
    "\n",
    "my_dataset = toy_set(length = 50)\n",
    "print(\"My toy_set length: \", len(my_dataset))"
   ]
  },
  {
   "cell_type": "markdown",
   "id": "c6633764",
   "metadata": {
    "papermill": {
     "duration": 0.011221,
     "end_time": "2024-03-06T08:47:26.702156",
     "exception": false,
     "start_time": "2024-03-06T08:47:26.690935",
     "status": "completed"
    },
    "tags": []
   },
   "source": [
    "<!--Empty Space for separating topics-->\n"
   ]
  },
  {
   "cell_type": "markdown",
   "id": "892eb6a3",
   "metadata": {
    "papermill": {
     "duration": 0.011459,
     "end_time": "2024-03-06T08:47:26.725015",
     "exception": false,
     "start_time": "2024-03-06T08:47:26.713556",
     "status": "completed"
    },
    "tags": []
   },
   "source": [
    "<h2 id=\"Transforms\">Transforms</h2>\n"
   ]
  },
  {
   "cell_type": "markdown",
   "id": "5af7f3aa",
   "metadata": {
    "papermill": {
     "duration": 0.011324,
     "end_time": "2024-03-06T08:47:26.748132",
     "exception": false,
     "start_time": "2024-03-06T08:47:26.736808",
     "status": "completed"
    },
    "tags": []
   },
   "source": [
    "You can also create a class for transforming the data. In this case, we will try to add 1 to x and multiply y by 2:\n"
   ]
  },
  {
   "cell_type": "code",
   "execution_count": 7,
   "id": "4e4aa7e6",
   "metadata": {
    "execution": {
     "iopub.execute_input": "2024-03-06T08:47:26.772683Z",
     "iopub.status.busy": "2024-03-06T08:47:26.772261Z",
     "iopub.status.idle": "2024-03-06T08:47:26.778505Z",
     "shell.execute_reply": "2024-03-06T08:47:26.777445Z"
    },
    "papermill": {
     "duration": 0.021072,
     "end_time": "2024-03-06T08:47:26.780595",
     "exception": false,
     "start_time": "2024-03-06T08:47:26.759523",
     "status": "completed"
    },
    "tags": []
   },
   "outputs": [],
   "source": [
    "# Create tranform class add_mult\n",
    "\n",
    "class add_mult:\n",
    "    \n",
    "    # Constructor\n",
    "    def __init__(self, addx = 1, muly = 2):\n",
    "        self.addx = addx\n",
    "        self.muly = muly\n",
    "    \n",
    "    # Executor\n",
    "    # __call__ allows an instance of the class to be called like a function\n",
    "    def __call__(self, sample):\n",
    "        # tuple in Python is immutable thus can't apply math operations on it\n",
    "        x = sample[0]\n",
    "        y = sample[1]\n",
    "        x = x + self.addx\n",
    "        y = y * self.muly\n",
    "        sample = x, y\n",
    "        return sample"
   ]
  },
  {
   "cell_type": "markdown",
   "id": "bb5d2cb0",
   "metadata": {
    "papermill": {
     "duration": 0.01204,
     "end_time": "2024-03-06T08:47:26.804143",
     "exception": false,
     "start_time": "2024-03-06T08:47:26.792103",
     "status": "completed"
    },
    "tags": []
   },
   "source": [
    "<!--Empty Space for separating topics-->\n"
   ]
  },
  {
   "cell_type": "markdown",
   "id": "e1a48a14",
   "metadata": {
    "papermill": {
     "duration": 0.011011,
     "end_time": "2024-03-06T08:47:26.826693",
     "exception": false,
     "start_time": "2024-03-06T08:47:26.815682",
     "status": "completed"
    },
    "tags": []
   },
   "source": [
    "Now, create a transform object:.\n"
   ]
  },
  {
   "cell_type": "code",
   "execution_count": 8,
   "id": "a846277f",
   "metadata": {
    "execution": {
     "iopub.execute_input": "2024-03-06T08:47:26.852248Z",
     "iopub.status.busy": "2024-03-06T08:47:26.851834Z",
     "iopub.status.idle": "2024-03-06T08:47:26.857910Z",
     "shell.execute_reply": "2024-03-06T08:47:26.856379Z"
    },
    "papermill": {
     "duration": 0.022163,
     "end_time": "2024-03-06T08:47:26.860719",
     "exception": false,
     "start_time": "2024-03-06T08:47:26.838556",
     "status": "completed"
    },
    "tags": []
   },
   "outputs": [],
   "source": [
    "# Create an add_mult transform object, and an toy_set object\n",
    "\n",
    "a_m = add_mult()\n",
    "data_set = toy_set()"
   ]
  },
  {
   "cell_type": "markdown",
   "id": "a951a9c7",
   "metadata": {
    "papermill": {
     "duration": 0.011696,
     "end_time": "2024-03-06T08:47:26.884214",
     "exception": false,
     "start_time": "2024-03-06T08:47:26.872518",
     "status": "completed"
    },
    "tags": []
   },
   "source": [
    "Assign the outputs of the original dataset to <code>x</code> and <code>y</code>. Then, apply the transform <code>add_mult</code> to the dataset and output the values as <code>x_</code> and <code>y_</code>, respectively: \n"
   ]
  },
  {
   "cell_type": "code",
   "execution_count": 9,
   "id": "9d0ae395",
   "metadata": {
    "execution": {
     "iopub.execute_input": "2024-03-06T08:47:26.909749Z",
     "iopub.status.busy": "2024-03-06T08:47:26.909333Z",
     "iopub.status.idle": "2024-03-06T08:47:26.929688Z",
     "shell.execute_reply": "2024-03-06T08:47:26.928022Z"
    },
    "papermill": {
     "duration": 0.036805,
     "end_time": "2024-03-06T08:47:26.932462",
     "exception": false,
     "start_time": "2024-03-06T08:47:26.895657",
     "status": "completed"
    },
    "tags": []
   },
   "outputs": [
    {
     "name": "stdout",
     "output_type": "stream",
     "text": [
      "Index:  0 Original x:  tensor([2., 2.]) Original y:  tensor([1.])\n",
      "Index:  0 Transformed x_: tensor([3., 3.]) Transformed y_: tensor([2.])\n",
      "Index:  1 Original x:  tensor([2., 2.]) Original y:  tensor([1.])\n",
      "Index:  1 Transformed x_: tensor([3., 3.]) Transformed y_: tensor([2.])\n",
      "Index:  2 Original x:  tensor([2., 2.]) Original y:  tensor([1.])\n",
      "Index:  2 Transformed x_: tensor([3., 3.]) Transformed y_: tensor([2.])\n",
      "Index:  3 Original x:  tensor([2., 2.]) Original y:  tensor([1.])\n",
      "Index:  3 Transformed x_: tensor([3., 3.]) Transformed y_: tensor([2.])\n",
      "Index:  4 Original x:  tensor([2., 2.]) Original y:  tensor([1.])\n",
      "Index:  4 Transformed x_: tensor([3., 3.]) Transformed y_: tensor([2.])\n",
      "Index:  5 Original x:  tensor([2., 2.]) Original y:  tensor([1.])\n",
      "Index:  5 Transformed x_: tensor([3., 3.]) Transformed y_: tensor([2.])\n",
      "Index:  6 Original x:  tensor([2., 2.]) Original y:  tensor([1.])\n",
      "Index:  6 Transformed x_: tensor([3., 3.]) Transformed y_: tensor([2.])\n",
      "Index:  7 Original x:  tensor([2., 2.]) Original y:  tensor([1.])\n",
      "Index:  7 Transformed x_: tensor([3., 3.]) Transformed y_: tensor([2.])\n",
      "Index:  8 Original x:  tensor([2., 2.]) Original y:  tensor([1.])\n",
      "Index:  8 Transformed x_: tensor([3., 3.]) Transformed y_: tensor([2.])\n",
      "Index:  9 Original x:  tensor([2., 2.]) Original y:  tensor([1.])\n",
      "Index:  9 Transformed x_: tensor([3., 3.]) Transformed y_: tensor([2.])\n"
     ]
    }
   ],
   "source": [
    "# Use loop to print out first 10 elements in dataset\n",
    "\n",
    "for i in range(10):\n",
    "    x, y = data_set[i]\n",
    "    print('Index: ', i, 'Original x: ', x, 'Original y: ', y)\n",
    "    x_, y_ = a_m(data_set[i])\n",
    "    print('Index: ', i, 'Transformed x_:', x_, 'Transformed y_:', y_)"
   ]
  },
  {
   "cell_type": "markdown",
   "id": "0ad5b407",
   "metadata": {
    "papermill": {
     "duration": 0.011156,
     "end_time": "2024-03-06T08:47:26.955192",
     "exception": false,
     "start_time": "2024-03-06T08:47:26.944036",
     "status": "completed"
    },
    "tags": []
   },
   "source": [
    "As the result, <code>x</code> has been added by 1 and y has been multiplied by 2, as <i>[2, 2] + 1 = [3, 3]</i> and <i>[1] x 2 = [2]</i>\n"
   ]
  },
  {
   "cell_type": "markdown",
   "id": "ebd95ca4",
   "metadata": {
    "papermill": {
     "duration": 0.011104,
     "end_time": "2024-03-06T08:47:26.977621",
     "exception": false,
     "start_time": "2024-03-06T08:47:26.966517",
     "status": "completed"
    },
    "tags": []
   },
   "source": [
    "<!--Empty Space for separating topics-->\n"
   ]
  },
  {
   "cell_type": "markdown",
   "id": "30b8442d",
   "metadata": {
    "papermill": {
     "duration": 0.011634,
     "end_time": "2024-03-06T08:47:27.000760",
     "exception": false,
     "start_time": "2024-03-06T08:47:26.989126",
     "status": "completed"
    },
    "tags": []
   },
   "source": [
    "We can apply the transform object every time we create a new <code>toy_set object</code>? Remember, we have the constructor in toy_set class with the parameter <code>transform = None</code>.\n",
    "When we create a new object using the constructor, we can assign the transform object to the parameter transform, as the following code demonstrates.\n"
   ]
  },
  {
   "cell_type": "code",
   "execution_count": 10,
   "id": "1c8f4339",
   "metadata": {
    "execution": {
     "iopub.execute_input": "2024-03-06T08:47:27.026151Z",
     "iopub.status.busy": "2024-03-06T08:47:27.025722Z",
     "iopub.status.idle": "2024-03-06T08:47:27.031555Z",
     "shell.execute_reply": "2024-03-06T08:47:27.030376Z"
    },
    "papermill": {
     "duration": 0.021123,
     "end_time": "2024-03-06T08:47:27.034055",
     "exception": false,
     "start_time": "2024-03-06T08:47:27.012932",
     "status": "completed"
    },
    "tags": []
   },
   "outputs": [],
   "source": [
    "# Create a new data_set object with add_mult object as transform\n",
    "\n",
    "cust_data_set = toy_set(transform = a_m)"
   ]
  },
  {
   "cell_type": "markdown",
   "id": "106af161",
   "metadata": {
    "papermill": {
     "duration": 0.01184,
     "end_time": "2024-03-06T08:47:27.057663",
     "exception": false,
     "start_time": "2024-03-06T08:47:27.045823",
     "status": "completed"
    },
    "tags": []
   },
   "source": [
    "This applied <code>a_m</code> object (a transform method) to every element in <code>cust_data_set</code> as initialized. Let us print out the first 10 elements in <code>cust_data_set</code> in order to see whether the <code>a_m</code> applied on <code>cust_data_set</code>\n"
   ]
  },
  {
   "cell_type": "code",
   "execution_count": 11,
   "id": "11eda7d7",
   "metadata": {
    "execution": {
     "iopub.execute_input": "2024-03-06T08:47:27.083064Z",
     "iopub.status.busy": "2024-03-06T08:47:27.082058Z",
     "iopub.status.idle": "2024-03-06T08:47:27.100705Z",
     "shell.execute_reply": "2024-03-06T08:47:27.098913Z"
    },
    "papermill": {
     "duration": 0.033888,
     "end_time": "2024-03-06T08:47:27.103214",
     "exception": false,
     "start_time": "2024-03-06T08:47:27.069326",
     "status": "completed"
    },
    "tags": []
   },
   "outputs": [
    {
     "name": "stdout",
     "output_type": "stream",
     "text": [
      "Index:  0 Original x:  tensor([2., 2.]) Original y:  tensor([1.])\n",
      "Index:  0 Transformed x_: tensor([3., 3.]) Transformed y_: tensor([2.])\n",
      "Index:  1 Original x:  tensor([2., 2.]) Original y:  tensor([1.])\n",
      "Index:  1 Transformed x_: tensor([3., 3.]) Transformed y_: tensor([2.])\n",
      "Index:  2 Original x:  tensor([2., 2.]) Original y:  tensor([1.])\n",
      "Index:  2 Transformed x_: tensor([3., 3.]) Transformed y_: tensor([2.])\n",
      "Index:  3 Original x:  tensor([2., 2.]) Original y:  tensor([1.])\n",
      "Index:  3 Transformed x_: tensor([3., 3.]) Transformed y_: tensor([2.])\n",
      "Index:  4 Original x:  tensor([2., 2.]) Original y:  tensor([1.])\n",
      "Index:  4 Transformed x_: tensor([3., 3.]) Transformed y_: tensor([2.])\n",
      "Index:  5 Original x:  tensor([2., 2.]) Original y:  tensor([1.])\n",
      "Index:  5 Transformed x_: tensor([3., 3.]) Transformed y_: tensor([2.])\n",
      "Index:  6 Original x:  tensor([2., 2.]) Original y:  tensor([1.])\n",
      "Index:  6 Transformed x_: tensor([3., 3.]) Transformed y_: tensor([2.])\n",
      "Index:  7 Original x:  tensor([2., 2.]) Original y:  tensor([1.])\n",
      "Index:  7 Transformed x_: tensor([3., 3.]) Transformed y_: tensor([2.])\n",
      "Index:  8 Original x:  tensor([2., 2.]) Original y:  tensor([1.])\n",
      "Index:  8 Transformed x_: tensor([3., 3.]) Transformed y_: tensor([2.])\n",
      "Index:  9 Original x:  tensor([2., 2.]) Original y:  tensor([1.])\n",
      "Index:  9 Transformed x_: tensor([3., 3.]) Transformed y_: tensor([2.])\n"
     ]
    }
   ],
   "source": [
    "# Use loop to print out first 10 elements in dataset\n",
    "\n",
    "for i in range(10):\n",
    "    x, y = data_set[i]\n",
    "    print('Index: ', i, 'Original x: ', x, 'Original y: ', y)\n",
    "    x_, y_ = cust_data_set[i]\n",
    "    print('Index: ', i, 'Transformed x_:', x_, 'Transformed y_:', y_)"
   ]
  },
  {
   "cell_type": "markdown",
   "id": "6c5dbdc3",
   "metadata": {
    "papermill": {
     "duration": 0.011366,
     "end_time": "2024-03-06T08:47:27.126279",
     "exception": false,
     "start_time": "2024-03-06T08:47:27.114913",
     "status": "completed"
    },
    "tags": []
   },
   "source": [
    "The result is the same as the previous method.\n"
   ]
  },
  {
   "cell_type": "markdown",
   "id": "48dcf66d",
   "metadata": {
    "papermill": {
     "duration": 0.01134,
     "end_time": "2024-03-06T08:47:27.149133",
     "exception": false,
     "start_time": "2024-03-06T08:47:27.137793",
     "status": "completed"
    },
    "tags": []
   },
   "source": [
    "<!--Empty Space for separating topics-->\n"
   ]
  },
  {
   "cell_type": "code",
   "execution_count": 12,
   "id": "0887bde2",
   "metadata": {
    "execution": {
     "iopub.execute_input": "2024-03-06T08:47:27.174354Z",
     "iopub.status.busy": "2024-03-06T08:47:27.173895Z",
     "iopub.status.idle": "2024-03-06T08:47:27.185463Z",
     "shell.execute_reply": "2024-03-06T08:47:27.184347Z"
    },
    "papermill": {
     "duration": 0.02696,
     "end_time": "2024-03-06T08:47:27.187742",
     "exception": false,
     "start_time": "2024-03-06T08:47:27.160782",
     "status": "completed"
    },
    "tags": []
   },
   "outputs": [
    {
     "name": "stdout",
     "output_type": "stream",
     "text": [
      "Index:  0 Transformed x_: tensor([40., 40.]) Transformed y_: tensor([30.])\n",
      "Index:  1 Transformed x_: tensor([40., 40.]) Transformed y_: tensor([30.])\n",
      "Index:  2 Transformed x_: tensor([40., 40.]) Transformed y_: tensor([30.])\n"
     ]
    }
   ],
   "source": [
    "# construct your own my_add_mult transform. Apply my_add_mult on a new toy_set object. Print out the first three elements from the transformed dataset.\n",
    "\n",
    "class my_add_mult(object):   \n",
    "    def __init__(self, add = 2, mul = 10):\n",
    "        self.add=add\n",
    "        self.mul=mul\n",
    "        \n",
    "    def __call__(self, sample):\n",
    "        x = sample[0]\n",
    "        y = sample[1]\n",
    "        x = x + self.add\n",
    "        y = y + self.add\n",
    "        x = x * self.mul\n",
    "        y = y * self.mul\n",
    "        sample = x, y\n",
    "        return sample\n",
    "        \n",
    "       \n",
    "my_dataset = toy_set(transform = my_add_mult())\n",
    "for i in range(3):\n",
    "    x_, y_ = my_dataset[i]\n",
    "    print('Index: ', i, 'Transformed x_:', x_, 'Transformed y_:', y_)"
   ]
  },
  {
   "cell_type": "markdown",
   "id": "a0c321a4",
   "metadata": {
    "papermill": {
     "duration": 0.011358,
     "end_time": "2024-03-06T08:47:27.210874",
     "exception": false,
     "start_time": "2024-03-06T08:47:27.199516",
     "status": "completed"
    },
    "tags": []
   },
   "source": [
    "<!--Empty Space for separating topics-->\n"
   ]
  },
  {
   "cell_type": "markdown",
   "id": "4ba4ae18",
   "metadata": {
    "papermill": {
     "duration": 0.011554,
     "end_time": "2024-03-06T08:47:27.234196",
     "exception": false,
     "start_time": "2024-03-06T08:47:27.222642",
     "status": "completed"
    },
    "tags": []
   },
   "source": [
    "<h2 id=\"Compose\">Compose</h2>\n"
   ]
  },
  {
   "cell_type": "markdown",
   "id": "ad2f1f16",
   "metadata": {
    "papermill": {
     "duration": 0.011449,
     "end_time": "2024-03-06T08:47:27.257785",
     "exception": false,
     "start_time": "2024-03-06T08:47:27.246336",
     "status": "completed"
    },
    "tags": []
   },
   "source": [
    "You can compose multiple transforms on the dataset object. First, import <code>transforms</code> from <code>torchvision</code>:\n"
   ]
  },
  {
   "cell_type": "code",
   "execution_count": 13,
   "id": "1ef6bc98",
   "metadata": {
    "execution": {
     "iopub.execute_input": "2024-03-06T08:47:27.283218Z",
     "iopub.status.busy": "2024-03-06T08:47:27.282828Z",
     "iopub.status.idle": "2024-03-06T08:47:30.639664Z",
     "shell.execute_reply": "2024-03-06T08:47:30.638539Z"
    },
    "papermill": {
     "duration": 3.372917,
     "end_time": "2024-03-06T08:47:30.642411",
     "exception": false,
     "start_time": "2024-03-06T08:47:27.269494",
     "status": "completed"
    },
    "tags": []
   },
   "outputs": [],
   "source": [
    "# Run the command below when you do not have torchvision installed\n",
    "# !mamba install -y torchvision\n",
    "\n",
    "from torchvision import transforms"
   ]
  },
  {
   "cell_type": "markdown",
   "id": "53407d3d",
   "metadata": {
    "papermill": {
     "duration": 0.011228,
     "end_time": "2024-03-06T08:47:30.665388",
     "exception": false,
     "start_time": "2024-03-06T08:47:30.654160",
     "status": "completed"
    },
    "tags": []
   },
   "source": [
    "Then, create a new transform class that multiplies each of the elements by 100: \n"
   ]
  },
  {
   "cell_type": "code",
   "execution_count": 14,
   "id": "33d7399b",
   "metadata": {
    "execution": {
     "iopub.execute_input": "2024-03-06T08:47:30.690655Z",
     "iopub.status.busy": "2024-03-06T08:47:30.689838Z",
     "iopub.status.idle": "2024-03-06T08:47:30.696152Z",
     "shell.execute_reply": "2024-03-06T08:47:30.695322Z"
    },
    "papermill": {
     "duration": 0.021508,
     "end_time": "2024-03-06T08:47:30.698387",
     "exception": false,
     "start_time": "2024-03-06T08:47:30.676879",
     "status": "completed"
    },
    "tags": []
   },
   "outputs": [],
   "source": [
    "# Create tranform class mult\n",
    "\n",
    "class mult:\n",
    "    \n",
    "    # Constructor\n",
    "    def __init__(self, mult = 100):\n",
    "        self.mult = mult\n",
    "        \n",
    "    # Executor\n",
    "    def __call__(self, sample):\n",
    "        x = sample[0]\n",
    "        y = sample[1]\n",
    "        x = x * self.mult\n",
    "        y = y * self.mult\n",
    "        sample = x, y\n",
    "        return sample"
   ]
  },
  {
   "cell_type": "markdown",
   "id": "569da1c5",
   "metadata": {
    "papermill": {
     "duration": 0.011257,
     "end_time": "2024-03-06T08:47:30.721178",
     "exception": false,
     "start_time": "2024-03-06T08:47:30.709921",
     "status": "completed"
    },
    "tags": []
   },
   "source": [
    "Now let us try to combine the transforms <code>add_mult</code> and <code>mult</code>\n"
   ]
  },
  {
   "cell_type": "code",
   "execution_count": 15,
   "id": "0ebd9370",
   "metadata": {
    "execution": {
     "iopub.execute_input": "2024-03-06T08:47:30.746054Z",
     "iopub.status.busy": "2024-03-06T08:47:30.745438Z",
     "iopub.status.idle": "2024-03-06T08:47:30.751725Z",
     "shell.execute_reply": "2024-03-06T08:47:30.750258Z"
    },
    "papermill": {
     "duration": 0.021779,
     "end_time": "2024-03-06T08:47:30.754357",
     "exception": false,
     "start_time": "2024-03-06T08:47:30.732578",
     "status": "completed"
    },
    "tags": []
   },
   "outputs": [
    {
     "name": "stdout",
     "output_type": "stream",
     "text": [
      "The combination of transforms (Compose):  Compose(\n",
      "    <__main__.add_mult object at 0x78c0d472bbe0>\n",
      "    <__main__.mult object at 0x78c0d472b490>\n",
      ")\n"
     ]
    }
   ],
   "source": [
    "# Combine the add_mult() and mult()\n",
    "\n",
    "data_transform = transforms.Compose([add_mult(), mult()])\n",
    "print(\"The combination of transforms (Compose): \", data_transform)\n"
   ]
  },
  {
   "cell_type": "markdown",
   "id": "f8971244",
   "metadata": {
    "papermill": {
     "duration": 0.011421,
     "end_time": "2024-03-06T08:47:30.777658",
     "exception": false,
     "start_time": "2024-03-06T08:47:30.766237",
     "status": "completed"
    },
    "tags": []
   },
   "source": [
    "The new <code>Compose</code> object will perform each transform concurrently as shown in this figure:\n"
   ]
  },
  {
   "cell_type": "markdown",
   "id": "d7610044",
   "metadata": {
    "papermill": {
     "duration": 0.011256,
     "end_time": "2024-03-06T08:47:30.800616",
     "exception": false,
     "start_time": "2024-03-06T08:47:30.789360",
     "status": "completed"
    },
    "tags": []
   },
   "source": [
    "<img src=\"https://s3-api.us-geo.objectstorage.softlayer.net/cf-courses-data/CognitiveClass/DL0110EN/notebook_images%20/chapter%201/1.3.1_trasform.png\" width=\"500\" alt=\"Compose PyTorch\">\n"
   ]
  },
  {
   "cell_type": "code",
   "execution_count": 16,
   "id": "3defa0e2",
   "metadata": {
    "execution": {
     "iopub.execute_input": "2024-03-06T08:47:30.826736Z",
     "iopub.status.busy": "2024-03-06T08:47:30.826292Z",
     "iopub.status.idle": "2024-03-06T08:47:30.833524Z",
     "shell.execute_reply": "2024-03-06T08:47:30.832443Z"
    },
    "papermill": {
     "duration": 0.022713,
     "end_time": "2024-03-06T08:47:30.835559",
     "exception": false,
     "start_time": "2024-03-06T08:47:30.812846",
     "status": "completed"
    },
    "tags": []
   },
   "outputs": [
    {
     "data": {
      "text/plain": [
       "(tensor([300., 300.]), tensor([200.]))"
      ]
     },
     "execution_count": 16,
     "metadata": {},
     "output_type": "execute_result"
    }
   ],
   "source": [
    "data_transform(data_set[0])"
   ]
  },
  {
   "cell_type": "code",
   "execution_count": 17,
   "id": "fd81677e",
   "metadata": {
    "execution": {
     "iopub.execute_input": "2024-03-06T08:47:30.860559Z",
     "iopub.status.busy": "2024-03-06T08:47:30.860137Z",
     "iopub.status.idle": "2024-03-06T08:47:30.868816Z",
     "shell.execute_reply": "2024-03-06T08:47:30.867713Z"
    },
    "papermill": {
     "duration": 0.024087,
     "end_time": "2024-03-06T08:47:30.871253",
     "exception": false,
     "start_time": "2024-03-06T08:47:30.847166",
     "status": "completed"
    },
    "tags": []
   },
   "outputs": [
    {
     "name": "stdout",
     "output_type": "stream",
     "text": [
      "Original x:  tensor([2., 2.]) Original y:  tensor([1.])\n",
      "Transformed x_: tensor([300., 300.]) Transformed y_: tensor([200.])\n"
     ]
    }
   ],
   "source": [
    "x,y=data_set[0]\n",
    "x_,y_=data_transform(data_set[0])\n",
    "print( 'Original x: ', x, 'Original y: ', y)\n",
    "\n",
    "print( 'Transformed x_:', x_, 'Transformed y_:', y_)"
   ]
  },
  {
   "cell_type": "markdown",
   "id": "a5830972",
   "metadata": {
    "papermill": {
     "duration": 0.012173,
     "end_time": "2024-03-06T08:47:30.895437",
     "exception": false,
     "start_time": "2024-03-06T08:47:30.883264",
     "status": "completed"
    },
    "tags": []
   },
   "source": [
    "Now we can pass the new <code>Compose</code> object (The combination of methods <code>add_mult()</code> and <code>mult</code>) to the constructor for creating <code>toy_set</code> object.\n"
   ]
  },
  {
   "cell_type": "code",
   "execution_count": 18,
   "id": "6716f1b0",
   "metadata": {
    "execution": {
     "iopub.execute_input": "2024-03-06T08:47:30.921317Z",
     "iopub.status.busy": "2024-03-06T08:47:30.920921Z",
     "iopub.status.idle": "2024-03-06T08:47:30.925289Z",
     "shell.execute_reply": "2024-03-06T08:47:30.924524Z"
    },
    "papermill": {
     "duration": 0.019707,
     "end_time": "2024-03-06T08:47:30.927478",
     "exception": false,
     "start_time": "2024-03-06T08:47:30.907771",
     "status": "completed"
    },
    "tags": []
   },
   "outputs": [],
   "source": [
    "# Create a new toy_set object with compose object as transform\n",
    "\n",
    "compose_data_set = toy_set(transform = data_transform)"
   ]
  },
  {
   "cell_type": "markdown",
   "id": "e2756ed4",
   "metadata": {
    "papermill": {
     "duration": 0.011618,
     "end_time": "2024-03-06T08:47:30.951629",
     "exception": false,
     "start_time": "2024-03-06T08:47:30.940011",
     "status": "completed"
    },
    "tags": []
   },
   "source": [
    "Let us print out the first 3 elements in different <code>toy_set</code> datasets in order to compare the output after different transforms have been applied: \n"
   ]
  },
  {
   "cell_type": "code",
   "execution_count": 19,
   "id": "b3f49ede",
   "metadata": {
    "execution": {
     "iopub.execute_input": "2024-03-06T08:47:30.977632Z",
     "iopub.status.busy": "2024-03-06T08:47:30.976496Z",
     "iopub.status.idle": "2024-03-06T08:47:30.988916Z",
     "shell.execute_reply": "2024-03-06T08:47:30.987763Z"
    },
    "papermill": {
     "duration": 0.028121,
     "end_time": "2024-03-06T08:47:30.991513",
     "exception": false,
     "start_time": "2024-03-06T08:47:30.963392",
     "status": "completed"
    },
    "tags": []
   },
   "outputs": [
    {
     "name": "stdout",
     "output_type": "stream",
     "text": [
      "Index:  0 Original x:  tensor([2., 2.]) Original y:  tensor([1.])\n",
      "Index:  0 Transformed x_: tensor([3., 3.]) Transformed y_: tensor([2.])\n",
      "Index:  0 Compose Transformed x_co:  tensor([300., 300.]) Compose Transformed y_co:  tensor([200.])\n",
      "Index:  1 Original x:  tensor([2., 2.]) Original y:  tensor([1.])\n",
      "Index:  1 Transformed x_: tensor([3., 3.]) Transformed y_: tensor([2.])\n",
      "Index:  1 Compose Transformed x_co:  tensor([300., 300.]) Compose Transformed y_co:  tensor([200.])\n",
      "Index:  2 Original x:  tensor([2., 2.]) Original y:  tensor([1.])\n",
      "Index:  2 Transformed x_: tensor([3., 3.]) Transformed y_: tensor([2.])\n",
      "Index:  2 Compose Transformed x_co:  tensor([300., 300.]) Compose Transformed y_co:  tensor([200.])\n"
     ]
    }
   ],
   "source": [
    "# Use loop to print out first 3 elements in dataset\n",
    "\n",
    "for i in range(3):\n",
    "    x, y = data_set[i]\n",
    "    print('Index: ', i, 'Original x: ', x, 'Original y: ', y)\n",
    "    x_, y_ = cust_data_set[i]\n",
    "    print('Index: ', i, 'Transformed x_:', x_, 'Transformed y_:', y_)\n",
    "    x_co, y_co = compose_data_set[i]\n",
    "    print('Index: ', i, 'Compose Transformed x_co: ', x_co ,'Compose Transformed y_co: ',y_co)"
   ]
  },
  {
   "cell_type": "markdown",
   "id": "e4ab44b5",
   "metadata": {
    "papermill": {
     "duration": 0.011884,
     "end_time": "2024-03-06T08:47:31.015895",
     "exception": false,
     "start_time": "2024-03-06T08:47:31.004011",
     "status": "completed"
    },
    "tags": []
   },
   "source": [
    "Let us see what happened on index 0. The original value of <code>x</code> is <i>[2, 2]</i>, and the original value of <code>y</code> is [1]. If we only applied <code>add_mult()</code> on the original dataset, then the <code>x</code> became <i>[3, 3]</i> and y became <i>[2]</i>. Now let us see what is the value after applied both <code>add_mult()</code> and <code>mult()</code>. The result of x is <i>[300, 300]</i> and y is <i>[200]</i>. The calculation which is equavalent to the compose is <i> x = ([2, 2] + 1) x 100 = [300, 300], y = ([1] x 2) x 100 = 200</i>\n"
   ]
  },
  {
   "cell_type": "markdown",
   "id": "c52d7eea",
   "metadata": {
    "papermill": {
     "duration": 0.011966,
     "end_time": "2024-03-06T08:47:31.040163",
     "exception": false,
     "start_time": "2024-03-06T08:47:31.028197",
     "status": "completed"
    },
    "tags": []
   },
   "source": [
    "<h3>Practice</h3>\n"
   ]
  },
  {
   "cell_type": "markdown",
   "id": "28848988",
   "metadata": {
    "papermill": {
     "duration": 0.012162,
     "end_time": "2024-03-06T08:47:31.064572",
     "exception": false,
     "start_time": "2024-03-06T08:47:31.052410",
     "status": "completed"
    },
    "tags": []
   },
   "source": [
    "Try to combine the <code>mult()</code> and <code>add_mult()</code> as <code>mult()</code> to be executed first. And apply this on a new <code>toy_set</code> dataset. Print out the first 3 elements in the transformed dataset.\n"
   ]
  },
  {
   "cell_type": "code",
   "execution_count": 20,
   "id": "27ac992b",
   "metadata": {
    "execution": {
     "iopub.execute_input": "2024-03-06T08:47:31.091613Z",
     "iopub.status.busy": "2024-03-06T08:47:31.090580Z",
     "iopub.status.idle": "2024-03-06T08:47:31.099618Z",
     "shell.execute_reply": "2024-03-06T08:47:31.098456Z"
    },
    "papermill": {
     "duration": 0.024659,
     "end_time": "2024-03-06T08:47:31.101829",
     "exception": false,
     "start_time": "2024-03-06T08:47:31.077170",
     "status": "completed"
    },
    "tags": []
   },
   "outputs": [
    {
     "name": "stdout",
     "output_type": "stream",
     "text": [
      "Index:  0 Transformed x_: tensor([201., 201.]) Transformed y_: tensor([200.])\n",
      "Index:  1 Transformed x_: tensor([201., 201.]) Transformed y_: tensor([200.])\n",
      "Index:  2 Transformed x_: tensor([201., 201.]) Transformed y_: tensor([200.])\n"
     ]
    }
   ],
   "source": [
    "# make a compose as mult() execute first and then add_mult(). Apply the compose on toy_set dataset. Print out the first 3 elements in the transformed dataset.\n",
    "\n",
    "my_compose = transforms.Compose([mult(), add_mult()])\n",
    "my_transformed_dataset = toy_set(transform = my_compose)\n",
    "for i in range(3):\n",
    "    x_, y_ = my_transformed_dataset[i]\n",
    "    print('Index: ', i, 'Transformed x_:', x_, 'Transformed y_:', y_)"
   ]
  }
 ],
 "metadata": {
  "kaggle": {
   "accelerator": "none",
   "dataSources": [],
   "dockerImageVersionId": 30664,
   "isGpuEnabled": false,
   "isInternetEnabled": true,
   "language": "python",
   "sourceType": "notebook"
  },
  "kernelspec": {
   "display_name": "Python 3",
   "language": "python",
   "name": "python3"
  },
  "language_info": {
   "codemirror_mode": {
    "name": "ipython",
    "version": 3
   },
   "file_extension": ".py",
   "mimetype": "text/x-python",
   "name": "python",
   "nbconvert_exporter": "python",
   "pygments_lexer": "ipython3",
   "version": "3.10.13"
  },
  "papermill": {
   "default_parameters": {},
   "duration": 12.598293,
   "end_time": "2024-03-06T08:47:32.337277",
   "environment_variables": {},
   "exception": null,
   "input_path": "__notebook__.ipynb",
   "output_path": "__notebook__.ipynb",
   "parameters": {},
   "start_time": "2024-03-06T08:47:19.738984",
   "version": "2.5.0"
  }
 },
 "nbformat": 4,
 "nbformat_minor": 5
}
