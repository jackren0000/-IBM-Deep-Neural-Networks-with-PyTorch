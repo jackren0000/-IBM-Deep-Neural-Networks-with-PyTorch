{
 "cells": [
  {
   "cell_type": "markdown",
   "id": "92d02923",
   "metadata": {
    "papermill": {
     "duration": 0.014545,
     "end_time": "2024-03-08T10:04:55.584265",
     "exception": false,
     "start_time": "2024-03-08T10:04:55.569720",
     "status": "completed"
    },
    "tags": []
   },
   "source": [
    "<p style=\"text-align:center\">\n",
    "    <a href=\"https://skills.network/?utm_medium=Exinfluencer&utm_source=Exinfluencer&utm_content=000026UJ&utm_term=10006555&utm_id=NA-SkillsNetwork-Channel-SkillsNetworkCoursesIBMDeveloperSkillsNetworkDL0110ENSkillsNetwork952-2022-01-01\" target=\"_blank\">\n",
    "    <img src=\"https://cf-courses-data.s3.us.cloud-object-storage.appdomain.cloud/assets/logos/SN_web_lightmode.png\" width=\"200\" alt=\"Skills Network Logo\"  />\n",
    "    </a>\n",
    "</p>\n"
   ]
  },
  {
   "cell_type": "markdown",
   "id": "0f86c7c1",
   "metadata": {
    "papermill": {
     "duration": 0.014434,
     "end_time": "2024-03-08T10:04:55.613388",
     "exception": false,
     "start_time": "2024-03-08T10:04:55.598954",
     "status": "completed"
    },
    "tags": []
   },
   "source": [
    "<h1>Neural Networks with One Hidden Layer</h1>\n"
   ]
  },
  {
   "cell_type": "markdown",
   "id": "5c0fff6e",
   "metadata": {
    "papermill": {
     "duration": 0.013829,
     "end_time": "2024-03-08T10:04:55.641829",
     "exception": false,
     "start_time": "2024-03-08T10:04:55.628000",
     "status": "completed"
    },
    "tags": []
   },
   "source": [
    "<h2>Objective</h2><ul><li> How to classify handwritten digits using Neural Network.</li></ul> \n"
   ]
  },
  {
   "cell_type": "markdown",
   "id": "d2bb27ff",
   "metadata": {
    "papermill": {
     "duration": 0.014763,
     "end_time": "2024-03-08T10:04:55.669791",
     "exception": false,
     "start_time": "2024-03-08T10:04:55.655028",
     "status": "completed"
    },
    "tags": []
   },
   "source": [
    "<h2>Table of Contents</h2>\n",
    "<p>In this lab, you will use a single layer neural network to classify handwritten digits from the MNIST database.</p>\n",
    "\n",
    "<ul>\n",
    "    <li><a href=\"#Model\">Neural Network Module and Training Function</a></li>\n",
    "    <li><a href=\"#Makeup_Data\">Make Some Data</a></li>\n",
    "    <li><a href=\"#Train\">Define the Neural Network, Optimizer, and Train the  Model</a></li>\n",
    "    <li><a href=\"#Result\">Analyze Results</a></li>\n",
    "</ul>\n",
    "<p>Estimated Time Needed: <strong>25 min</strong></p>\n",
    "\n",
    "<hr>\n"
   ]
  },
  {
   "cell_type": "markdown",
   "id": "4aa30874",
   "metadata": {
    "papermill": {
     "duration": 0.013342,
     "end_time": "2024-03-08T10:04:55.697900",
     "exception": false,
     "start_time": "2024-03-08T10:04:55.684558",
     "status": "completed"
    },
    "tags": []
   },
   "source": [
    "<h2>Preparation</h2>\n"
   ]
  },
  {
   "cell_type": "markdown",
   "id": "3239f318",
   "metadata": {
    "papermill": {
     "duration": 0.013682,
     "end_time": "2024-03-08T10:04:55.726712",
     "exception": false,
     "start_time": "2024-03-08T10:04:55.713030",
     "status": "completed"
    },
    "tags": []
   },
   "source": [
    "We'll need the following libraries\n"
   ]
  },
  {
   "cell_type": "code",
   "execution_count": 1,
   "id": "aa6a2c61",
   "metadata": {
    "execution": {
     "iopub.execute_input": "2024-03-08T10:04:55.757773Z",
     "iopub.status.busy": "2024-03-08T10:04:55.756536Z",
     "iopub.status.idle": "2024-03-08T10:05:04.688465Z",
     "shell.execute_reply": "2024-03-08T10:05:04.686853Z"
    },
    "papermill": {
     "duration": 8.95195,
     "end_time": "2024-03-08T10:05:04.691958",
     "exception": false,
     "start_time": "2024-03-08T10:04:55.740008",
     "status": "completed"
    },
    "tags": []
   },
   "outputs": [],
   "source": [
    "# Import the libraries we need for this lab\n",
    "\n",
    "# Using the following line code to install the torchvision library\n",
    "# !mamba install -y torchvision\n",
    "\n",
    "import torch \n",
    "import torch.nn as nn\n",
    "import torchvision.transforms as transforms\n",
    "import torchvision.datasets as dsets\n",
    "import torch.nn.functional as F\n",
    "import matplotlib.pylab as plt\n",
    "import numpy as np"
   ]
  },
  {
   "cell_type": "markdown",
   "id": "9259afd6",
   "metadata": {
    "papermill": {
     "duration": 0.013252,
     "end_time": "2024-03-08T10:05:04.718365",
     "exception": false,
     "start_time": "2024-03-08T10:05:04.705113",
     "status": "completed"
    },
    "tags": []
   },
   "source": [
    "Use the following helper functions for plotting the loss: \n"
   ]
  },
  {
   "cell_type": "code",
   "execution_count": 2,
   "id": "313891b3",
   "metadata": {
    "execution": {
     "iopub.execute_input": "2024-03-08T10:05:04.754141Z",
     "iopub.status.busy": "2024-03-08T10:05:04.752670Z",
     "iopub.status.idle": "2024-03-08T10:05:04.761604Z",
     "shell.execute_reply": "2024-03-08T10:05:04.760612Z"
    },
    "papermill": {
     "duration": 0.031972,
     "end_time": "2024-03-08T10:05:04.764340",
     "exception": false,
     "start_time": "2024-03-08T10:05:04.732368",
     "status": "completed"
    },
    "tags": []
   },
   "outputs": [],
   "source": [
    "# Define a function to plot accuracy and loss\n",
    "\n",
    "def plot_accuracy_loss(training_results): \n",
    "    plt.subplot(2, 1, 1)\n",
    "    plt.plot(training_results['training_loss'], 'r')\n",
    "    plt.ylabel('loss')\n",
    "    plt.title('training loss iterations')\n",
    "    plt.subplot(2, 1, 2)\n",
    "    plt.plot(training_results['validation_accuracy'])\n",
    "    plt.ylabel('accuracy')\n",
    "    plt.xlabel('epochs')   \n",
    "    plt.show()"
   ]
  },
  {
   "cell_type": "markdown",
   "id": "abdb102b",
   "metadata": {
    "papermill": {
     "duration": 0.013446,
     "end_time": "2024-03-08T10:05:04.791357",
     "exception": false,
     "start_time": "2024-03-08T10:05:04.777911",
     "status": "completed"
    },
    "tags": []
   },
   "source": [
    "Use the following function for printing the model parameters: \n"
   ]
  },
  {
   "cell_type": "code",
   "execution_count": 3,
   "id": "4e60fe51",
   "metadata": {
    "execution": {
     "iopub.execute_input": "2024-03-08T10:05:04.821332Z",
     "iopub.status.busy": "2024-03-08T10:05:04.820890Z",
     "iopub.status.idle": "2024-03-08T10:05:04.827868Z",
     "shell.execute_reply": "2024-03-08T10:05:04.826675Z"
    },
    "papermill": {
     "duration": 0.024074,
     "end_time": "2024-03-08T10:05:04.830476",
     "exception": false,
     "start_time": "2024-03-08T10:05:04.806402",
     "status": "completed"
    },
    "tags": []
   },
   "outputs": [],
   "source": [
    "# Define a function to plot model parameters\n",
    "\n",
    "def print_model_parameters(model):\n",
    "    count = 0\n",
    "    for ele in model.state_dict():\n",
    "        count += 1\n",
    "        if count % 2 != 0:\n",
    "            print (\"The following are the parameters for the layer \", count // 2 + 1)\n",
    "        if ele.find(\"bias\") != -1:\n",
    "            print(\"The size of bias: \", model.state_dict()[ele].size())\n",
    "        else:\n",
    "            print(\"The size of weights: \", model.state_dict()[ele].size())"
   ]
  },
  {
   "cell_type": "markdown",
   "id": "601451b5",
   "metadata": {
    "papermill": {
     "duration": 0.01285,
     "end_time": "2024-03-08T10:05:04.856436",
     "exception": false,
     "start_time": "2024-03-08T10:05:04.843586",
     "status": "completed"
    },
    "tags": []
   },
   "source": [
    "Define the neural network module or class: \n"
   ]
  },
  {
   "cell_type": "code",
   "execution_count": 4,
   "id": "26e44407",
   "metadata": {
    "execution": {
     "iopub.execute_input": "2024-03-08T10:05:04.884522Z",
     "iopub.status.busy": "2024-03-08T10:05:04.883698Z",
     "iopub.status.idle": "2024-03-08T10:05:04.889603Z",
     "shell.execute_reply": "2024-03-08T10:05:04.888688Z"
    },
    "papermill": {
     "duration": 0.022971,
     "end_time": "2024-03-08T10:05:04.892462",
     "exception": false,
     "start_time": "2024-03-08T10:05:04.869491",
     "status": "completed"
    },
    "tags": []
   },
   "outputs": [],
   "source": [
    "# Define a function to display data\n",
    "\n",
    "def show_data(data_sample):\n",
    "    plt.imshow(data_sample.numpy().reshape(28, 28), cmap='gray')\n",
    "    plt.show()"
   ]
  },
  {
   "cell_type": "markdown",
   "id": "c2c11648",
   "metadata": {
    "papermill": {
     "duration": 0.013466,
     "end_time": "2024-03-08T10:05:04.919159",
     "exception": false,
     "start_time": "2024-03-08T10:05:04.905693",
     "status": "completed"
    },
    "tags": []
   },
   "source": [
    "<!--Empty Space for separating topics-->\n"
   ]
  },
  {
   "cell_type": "markdown",
   "id": "79371b54",
   "metadata": {
    "papermill": {
     "duration": 0.01651,
     "end_time": "2024-03-08T10:05:04.950578",
     "exception": false,
     "start_time": "2024-03-08T10:05:04.934068",
     "status": "completed"
    },
    "tags": []
   },
   "source": [
    "<h2 id=\"Model\">Neural Network Module and Training Function</h2> \n"
   ]
  },
  {
   "cell_type": "markdown",
   "id": "a39a2787",
   "metadata": {
    "papermill": {
     "duration": 0.013021,
     "end_time": "2024-03-08T10:05:04.978663",
     "exception": false,
     "start_time": "2024-03-08T10:05:04.965642",
     "status": "completed"
    },
    "tags": []
   },
   "source": [
    "Define the neural network module or class: \n"
   ]
  },
  {
   "cell_type": "code",
   "execution_count": 5,
   "id": "5317e174",
   "metadata": {
    "execution": {
     "iopub.execute_input": "2024-03-08T10:05:05.007810Z",
     "iopub.status.busy": "2024-03-08T10:05:05.006968Z",
     "iopub.status.idle": "2024-03-08T10:05:05.014890Z",
     "shell.execute_reply": "2024-03-08T10:05:05.013349Z"
    },
    "papermill": {
     "duration": 0.025164,
     "end_time": "2024-03-08T10:05:05.017609",
     "exception": false,
     "start_time": "2024-03-08T10:05:04.992445",
     "status": "completed"
    },
    "tags": []
   },
   "outputs": [],
   "source": [
    "# Define a Neural Network class\n",
    "\n",
    "class Net(nn.Module):\n",
    "    \n",
    "    # Constructor\n",
    "    def __init__(self, D_in, H, D_out):\n",
    "        super(Net, self).__init__()\n",
    "        self.linear1 = nn.Linear(D_in, H)\n",
    "        self.linear2 = nn.Linear(H, D_out)\n",
    "\n",
    "    # Prediction    \n",
    "    def forward(self, x):\n",
    "        x = torch.sigmoid(self.linear1(x))  \n",
    "        x = self.linear2(x)\n",
    "        return x"
   ]
  },
  {
   "cell_type": "markdown",
   "id": "703e95fd",
   "metadata": {
    "papermill": {
     "duration": 0.01331,
     "end_time": "2024-03-08T10:05:05.043924",
     "exception": false,
     "start_time": "2024-03-08T10:05:05.030614",
     "status": "completed"
    },
    "tags": []
   },
   "source": [
    "Define a function to train the model. In this case, the function returns a Python dictionary to store the training loss and accuracy on the validation data. \n"
   ]
  },
  {
   "cell_type": "code",
   "execution_count": 6,
   "id": "45430942",
   "metadata": {
    "execution": {
     "iopub.execute_input": "2024-03-08T10:05:05.072020Z",
     "iopub.status.busy": "2024-03-08T10:05:05.071471Z",
     "iopub.status.idle": "2024-03-08T10:05:05.082075Z",
     "shell.execute_reply": "2024-03-08T10:05:05.080887Z"
    },
    "papermill": {
     "duration": 0.028013,
     "end_time": "2024-03-08T10:05:05.084654",
     "exception": false,
     "start_time": "2024-03-08T10:05:05.056641",
     "status": "completed"
    },
    "tags": []
   },
   "outputs": [],
   "source": [
    "# Define a training function to train the model\n",
    "\n",
    "def train(model, criterion, train_loader, validation_loader, optimizer, epochs=100):\n",
    "    i = 0\n",
    "    useful_stuff = {'training_loss': [],'validation_accuracy': []}  \n",
    "    for epoch in range(epochs):\n",
    "        for i, (x, y) in enumerate(train_loader): \n",
    "            optimizer.zero_grad()\n",
    "            z = model(x.view(-1, 28 * 28))\n",
    "            loss = criterion(z, y)\n",
    "            loss.backward()\n",
    "            optimizer.step()\n",
    "             #loss for every iteration\n",
    "            useful_stuff['training_loss'].append(loss.data.item())\n",
    "        correct = 0\n",
    "        for x, y in validation_loader:\n",
    "            #validation \n",
    "            z = model(x.view(-1, 28 * 28))\n",
    "            _, label = torch.max(z, 1)\n",
    "            correct += (label == y).sum().item()\n",
    "        accuracy = 100 * (correct / len(validation_dataset))\n",
    "        useful_stuff['validation_accuracy'].append(accuracy)\n",
    "    return useful_stuff"
   ]
  },
  {
   "cell_type": "markdown",
   "id": "612f8155",
   "metadata": {
    "papermill": {
     "duration": 0.01233,
     "end_time": "2024-03-08T10:05:05.110424",
     "exception": false,
     "start_time": "2024-03-08T10:05:05.098094",
     "status": "completed"
    },
    "tags": []
   },
   "source": [
    "<!--Empty Space for separating topics-->\n"
   ]
  },
  {
   "cell_type": "markdown",
   "id": "e34c7b3a",
   "metadata": {
    "papermill": {
     "duration": 0.013252,
     "end_time": "2024-03-08T10:05:05.136276",
     "exception": false,
     "start_time": "2024-03-08T10:05:05.123024",
     "status": "completed"
    },
    "tags": []
   },
   "source": [
    "<h2 id=\"Makeup_Data\">Make Some Data</h2> \n"
   ]
  },
  {
   "cell_type": "markdown",
   "id": "57d7ef2a",
   "metadata": {
    "papermill": {
     "duration": 0.013221,
     "end_time": "2024-03-08T10:05:05.162304",
     "exception": false,
     "start_time": "2024-03-08T10:05:05.149083",
     "status": "completed"
    },
    "tags": []
   },
   "source": [
    "Load the training dataset by setting the parameters <code>train</code> to <code>True</code> and convert it to a tensor by placing a transform object in the argument <code>transform</code>.\n"
   ]
  },
  {
   "cell_type": "code",
   "execution_count": 7,
   "id": "41e2b9b8",
   "metadata": {
    "execution": {
     "iopub.execute_input": "2024-03-08T10:05:05.190778Z",
     "iopub.status.busy": "2024-03-08T10:05:05.189447Z",
     "iopub.status.idle": "2024-03-08T10:05:06.224109Z",
     "shell.execute_reply": "2024-03-08T10:05:06.222744Z"
    },
    "papermill": {
     "duration": 1.051878,
     "end_time": "2024-03-08T10:05:06.227301",
     "exception": false,
     "start_time": "2024-03-08T10:05:05.175423",
     "status": "completed"
    },
    "tags": []
   },
   "outputs": [
    {
     "name": "stdout",
     "output_type": "stream",
     "text": [
      "Downloading http://yann.lecun.com/exdb/mnist/train-images-idx3-ubyte.gz\n",
      "Downloading http://yann.lecun.com/exdb/mnist/train-images-idx3-ubyte.gz to ./data/MNIST/raw/train-images-idx3-ubyte.gz\n"
     ]
    },
    {
     "name": "stderr",
     "output_type": "stream",
     "text": [
      "100%|██████████| 9912422/9912422 [00:00<00:00, 190385899.75it/s]"
     ]
    },
    {
     "name": "stdout",
     "output_type": "stream",
     "text": [
      "Extracting ./data/MNIST/raw/train-images-idx3-ubyte.gz to ./data/MNIST/raw\n"
     ]
    },
    {
     "name": "stderr",
     "output_type": "stream",
     "text": [
      "\n"
     ]
    },
    {
     "name": "stdout",
     "output_type": "stream",
     "text": [
      "\n",
      "Downloading http://yann.lecun.com/exdb/mnist/train-labels-idx1-ubyte.gz\n",
      "Downloading http://yann.lecun.com/exdb/mnist/train-labels-idx1-ubyte.gz to ./data/MNIST/raw/train-labels-idx1-ubyte.gz\n"
     ]
    },
    {
     "name": "stderr",
     "output_type": "stream",
     "text": [
      "100%|██████████| 28881/28881 [00:00<00:00, 82969653.30it/s]\n"
     ]
    },
    {
     "name": "stdout",
     "output_type": "stream",
     "text": [
      "Extracting ./data/MNIST/raw/train-labels-idx1-ubyte.gz to ./data/MNIST/raw\n",
      "\n",
      "Downloading http://yann.lecun.com/exdb/mnist/t10k-images-idx3-ubyte.gz\n",
      "Downloading http://yann.lecun.com/exdb/mnist/t10k-images-idx3-ubyte.gz to ./data/MNIST/raw/t10k-images-idx3-ubyte.gz\n"
     ]
    },
    {
     "name": "stderr",
     "output_type": "stream",
     "text": [
      "100%|██████████| 1648877/1648877 [00:00<00:00, 55136579.16it/s]"
     ]
    },
    {
     "name": "stdout",
     "output_type": "stream",
     "text": [
      "Extracting ./data/MNIST/raw/t10k-images-idx3-ubyte.gz to ./data/MNIST/raw\n"
     ]
    },
    {
     "name": "stderr",
     "output_type": "stream",
     "text": [
      "\n"
     ]
    },
    {
     "name": "stdout",
     "output_type": "stream",
     "text": [
      "\n",
      "Downloading http://yann.lecun.com/exdb/mnist/t10k-labels-idx1-ubyte.gz\n",
      "Downloading http://yann.lecun.com/exdb/mnist/t10k-labels-idx1-ubyte.gz to ./data/MNIST/raw/t10k-labels-idx1-ubyte.gz\n"
     ]
    },
    {
     "name": "stderr",
     "output_type": "stream",
     "text": [
      "100%|██████████| 4542/4542 [00:00<00:00, 7512038.16it/s]\n"
     ]
    },
    {
     "name": "stdout",
     "output_type": "stream",
     "text": [
      "Extracting ./data/MNIST/raw/t10k-labels-idx1-ubyte.gz to ./data/MNIST/raw\n",
      "\n"
     ]
    }
   ],
   "source": [
    "# Create training dataset\n",
    "\n",
    "train_dataset = dsets.MNIST(root='./data', train=True, download=True, transform=transforms.ToTensor())"
   ]
  },
  {
   "cell_type": "markdown",
   "id": "20bafccb",
   "metadata": {
    "papermill": {
     "duration": 0.014571,
     "end_time": "2024-03-08T10:05:06.256822",
     "exception": false,
     "start_time": "2024-03-08T10:05:06.242251",
     "status": "completed"
    },
    "tags": []
   },
   "source": [
    "Load the testing dataset and convert it to a tensor by placing a transform object in the argument <code>transform</code>:\n"
   ]
  },
  {
   "cell_type": "code",
   "execution_count": 8,
   "id": "9e31c7ad",
   "metadata": {
    "execution": {
     "iopub.execute_input": "2024-03-08T10:05:06.290992Z",
     "iopub.status.busy": "2024-03-08T10:05:06.289335Z",
     "iopub.status.idle": "2024-03-08T10:05:06.409555Z",
     "shell.execute_reply": "2024-03-08T10:05:06.408046Z"
    },
    "papermill": {
     "duration": 0.14013,
     "end_time": "2024-03-08T10:05:06.412808",
     "exception": false,
     "start_time": "2024-03-08T10:05:06.272678",
     "status": "completed"
    },
    "tags": []
   },
   "outputs": [],
   "source": [
    "# Create validating dataset\n",
    "\n",
    "validation_dataset = dsets.MNIST(root='./data', download=True, transform=transforms.ToTensor())"
   ]
  },
  {
   "cell_type": "markdown",
   "id": "b42c33d4",
   "metadata": {
    "papermill": {
     "duration": 0.014287,
     "end_time": "2024-03-08T10:05:06.444009",
     "exception": false,
     "start_time": "2024-03-08T10:05:06.429722",
     "status": "completed"
    },
    "tags": []
   },
   "source": [
    "Create the criterion function:  \n"
   ]
  },
  {
   "cell_type": "code",
   "execution_count": 9,
   "id": "5d90ee13",
   "metadata": {
    "execution": {
     "iopub.execute_input": "2024-03-08T10:05:06.475953Z",
     "iopub.status.busy": "2024-03-08T10:05:06.475507Z",
     "iopub.status.idle": "2024-03-08T10:05:06.481530Z",
     "shell.execute_reply": "2024-03-08T10:05:06.480126Z"
    },
    "papermill": {
     "duration": 0.02568,
     "end_time": "2024-03-08T10:05:06.484607",
     "exception": false,
     "start_time": "2024-03-08T10:05:06.458927",
     "status": "completed"
    },
    "tags": []
   },
   "outputs": [],
   "source": [
    "# Create criterion function\n",
    "\n",
    "criterion = nn.CrossEntropyLoss()"
   ]
  },
  {
   "cell_type": "markdown",
   "id": "907aae27",
   "metadata": {
    "papermill": {
     "duration": 0.013801,
     "end_time": "2024-03-08T10:05:06.515467",
     "exception": false,
     "start_time": "2024-03-08T10:05:06.501666",
     "status": "completed"
    },
    "tags": []
   },
   "source": [
    "Create the training-data loader and the validation-data loader objects: \n"
   ]
  },
  {
   "cell_type": "code",
   "execution_count": 10,
   "id": "abbb3c55",
   "metadata": {
    "execution": {
     "iopub.execute_input": "2024-03-08T10:05:06.549314Z",
     "iopub.status.busy": "2024-03-08T10:05:06.548561Z",
     "iopub.status.idle": "2024-03-08T10:05:06.554544Z",
     "shell.execute_reply": "2024-03-08T10:05:06.553558Z"
    },
    "papermill": {
     "duration": 0.026496,
     "end_time": "2024-03-08T10:05:06.557044",
     "exception": false,
     "start_time": "2024-03-08T10:05:06.530548",
     "status": "completed"
    },
    "tags": []
   },
   "outputs": [],
   "source": [
    "# Create data loader for both train dataset and valdiate dataset\n",
    "\n",
    "train_loader = torch.utils.data.DataLoader(dataset=train_dataset, batch_size=2000, shuffle=True)\n",
    "validation_loader = torch.utils.data.DataLoader(dataset=validation_dataset, batch_size=5000, shuffle=False)"
   ]
  },
  {
   "cell_type": "markdown",
   "id": "d7ab60b3",
   "metadata": {
    "papermill": {
     "duration": 0.014448,
     "end_time": "2024-03-08T10:05:06.586323",
     "exception": false,
     "start_time": "2024-03-08T10:05:06.571875",
     "status": "completed"
    },
    "tags": []
   },
   "source": [
    "<!--Empty Space for separating topics-->\n"
   ]
  },
  {
   "cell_type": "markdown",
   "id": "70f3efbb",
   "metadata": {
    "papermill": {
     "duration": 0.013798,
     "end_time": "2024-03-08T10:05:06.614874",
     "exception": false,
     "start_time": "2024-03-08T10:05:06.601076",
     "status": "completed"
    },
    "tags": []
   },
   "source": [
    "<h2 id=\"Train\">Define the Neural Network, Optimizer, and Train the Model</h2> \n"
   ]
  },
  {
   "cell_type": "markdown",
   "id": "13f8af1e",
   "metadata": {
    "papermill": {
     "duration": 0.013875,
     "end_time": "2024-03-08T10:05:06.643396",
     "exception": false,
     "start_time": "2024-03-08T10:05:06.629521",
     "status": "completed"
    },
    "tags": []
   },
   "source": [
    "Create the model with 100 neurons: \n"
   ]
  },
  {
   "cell_type": "code",
   "execution_count": 11,
   "id": "19d305c6",
   "metadata": {
    "execution": {
     "iopub.execute_input": "2024-03-08T10:05:06.674615Z",
     "iopub.status.busy": "2024-03-08T10:05:06.673732Z",
     "iopub.status.idle": "2024-03-08T10:05:06.698925Z",
     "shell.execute_reply": "2024-03-08T10:05:06.697851Z"
    },
    "papermill": {
     "duration": 0.044024,
     "end_time": "2024-03-08T10:05:06.701638",
     "exception": false,
     "start_time": "2024-03-08T10:05:06.657614",
     "status": "completed"
    },
    "tags": []
   },
   "outputs": [],
   "source": [
    "# Create the model with 100 neurons\n",
    "\n",
    "input_dim = 28 * 28\n",
    "hidden_dim = 100\n",
    "output_dim = 10\n",
    "\n",
    "model = Net(input_dim, hidden_dim, output_dim)"
   ]
  },
  {
   "cell_type": "markdown",
   "id": "f3875aac",
   "metadata": {
    "papermill": {
     "duration": 0.014696,
     "end_time": "2024-03-08T10:05:06.730569",
     "exception": false,
     "start_time": "2024-03-08T10:05:06.715873",
     "status": "completed"
    },
    "tags": []
   },
   "source": [
    "Print the model parameters: \n"
   ]
  },
  {
   "cell_type": "code",
   "execution_count": 12,
   "id": "03b6cf79",
   "metadata": {
    "execution": {
     "iopub.execute_input": "2024-03-08T10:05:06.761856Z",
     "iopub.status.busy": "2024-03-08T10:05:06.761429Z",
     "iopub.status.idle": "2024-03-08T10:05:06.768932Z",
     "shell.execute_reply": "2024-03-08T10:05:06.767282Z"
    },
    "papermill": {
     "duration": 0.025726,
     "end_time": "2024-03-08T10:05:06.771433",
     "exception": false,
     "start_time": "2024-03-08T10:05:06.745707",
     "status": "completed"
    },
    "tags": []
   },
   "outputs": [
    {
     "name": "stdout",
     "output_type": "stream",
     "text": [
      "The following are the parameters for the layer  1\n",
      "The size of weights:  torch.Size([100, 784])\n",
      "The size of bias:  torch.Size([100])\n",
      "The following are the parameters for the layer  2\n",
      "The size of weights:  torch.Size([10, 100])\n",
      "The size of bias:  torch.Size([10])\n"
     ]
    }
   ],
   "source": [
    "# Print the parameters for model\n",
    "\n",
    "print_model_parameters(model)"
   ]
  },
  {
   "cell_type": "markdown",
   "id": "ffd1a303",
   "metadata": {
    "papermill": {
     "duration": 0.014054,
     "end_time": "2024-03-08T10:05:06.802095",
     "exception": false,
     "start_time": "2024-03-08T10:05:06.788041",
     "status": "completed"
    },
    "tags": []
   },
   "source": [
    "Define the optimizer object with a learning rate of 0.01: \n"
   ]
  },
  {
   "cell_type": "code",
   "execution_count": 13,
   "id": "224069a4",
   "metadata": {
    "execution": {
     "iopub.execute_input": "2024-03-08T10:05:06.833053Z",
     "iopub.status.busy": "2024-03-08T10:05:06.832569Z",
     "iopub.status.idle": "2024-03-08T10:05:06.839497Z",
     "shell.execute_reply": "2024-03-08T10:05:06.837685Z"
    },
    "papermill": {
     "duration": 0.025993,
     "end_time": "2024-03-08T10:05:06.842416",
     "exception": false,
     "start_time": "2024-03-08T10:05:06.816423",
     "status": "completed"
    },
    "tags": []
   },
   "outputs": [],
   "source": [
    "# Set the learning rate and the optimizer\n",
    "\n",
    "learning_rate = 0.01\n",
    "optimizer = torch.optim.SGD(model.parameters(), lr=learning_rate)"
   ]
  },
  {
   "cell_type": "markdown",
   "id": "f1ba7204",
   "metadata": {
    "papermill": {
     "duration": 0.013917,
     "end_time": "2024-03-08T10:05:06.870737",
     "exception": false,
     "start_time": "2024-03-08T10:05:06.856820",
     "status": "completed"
    },
    "tags": []
   },
   "source": [
    "Train the model by using 100 epochs **(this process takes time)**: \n"
   ]
  },
  {
   "cell_type": "code",
   "execution_count": 14,
   "id": "a92f144e",
   "metadata": {
    "execution": {
     "iopub.execute_input": "2024-03-08T10:05:06.902031Z",
     "iopub.status.busy": "2024-03-08T10:05:06.901016Z",
     "iopub.status.idle": "2024-03-08T10:12:33.924457Z",
     "shell.execute_reply": "2024-03-08T10:12:33.923434Z"
    },
    "papermill": {
     "duration": 447.042276,
     "end_time": "2024-03-08T10:12:33.927527",
     "exception": false,
     "start_time": "2024-03-08T10:05:06.885251",
     "status": "completed"
    },
    "tags": []
   },
   "outputs": [],
   "source": [
    "# Train the model\n",
    "\n",
    "training_results = train(model, criterion, train_loader, validation_loader, optimizer, epochs=30)"
   ]
  },
  {
   "cell_type": "markdown",
   "id": "19ba0fdc",
   "metadata": {
    "papermill": {
     "duration": 0.014164,
     "end_time": "2024-03-08T10:12:33.958967",
     "exception": false,
     "start_time": "2024-03-08T10:12:33.944803",
     "status": "completed"
    },
    "tags": []
   },
   "source": [
    "<!--Empty Space for separating topics-->\n"
   ]
  },
  {
   "cell_type": "markdown",
   "id": "942d183e",
   "metadata": {
    "papermill": {
     "duration": 0.01504,
     "end_time": "2024-03-08T10:12:33.989499",
     "exception": false,
     "start_time": "2024-03-08T10:12:33.974459",
     "status": "completed"
    },
    "tags": []
   },
   "source": [
    "<h2 id=\"Result\">Analyze Results</h2> \n"
   ]
  },
  {
   "cell_type": "markdown",
   "id": "d37b3a67",
   "metadata": {
    "papermill": {
     "duration": 0.014214,
     "end_time": "2024-03-08T10:12:34.019047",
     "exception": false,
     "start_time": "2024-03-08T10:12:34.004833",
     "status": "completed"
    },
    "tags": []
   },
   "source": [
    "Plot the training total loss or cost for every iteration and plot the training accuracy for every epoch:  \n"
   ]
  },
  {
   "cell_type": "code",
   "execution_count": 15,
   "id": "cd28e462",
   "metadata": {
    "execution": {
     "iopub.execute_input": "2024-03-08T10:12:34.050368Z",
     "iopub.status.busy": "2024-03-08T10:12:34.049917Z",
     "iopub.status.idle": "2024-03-08T10:12:34.504685Z",
     "shell.execute_reply": "2024-03-08T10:12:34.503611Z"
    },
    "papermill": {
     "duration": 0.474056,
     "end_time": "2024-03-08T10:12:34.507602",
     "exception": false,
     "start_time": "2024-03-08T10:12:34.033546",
     "status": "completed"
    },
    "tags": []
   },
   "outputs": [
    {
     "data": {
      "image/png": "[encoded data removed]",
      "text/plain": [
       "<Figure size 640x480 with 2 Axes>"
      ]
     },
     "metadata": {},
     "output_type": "display_data"
    }
   ],
   "source": [
    "# Plot the accuracy and loss\n",
    "\n",
    "plot_accuracy_loss(training_results)"
   ]
  },
  {
   "cell_type": "markdown",
   "id": "b86bf883",
   "metadata": {
    "papermill": {
     "duration": 0.015463,
     "end_time": "2024-03-08T10:12:34.539167",
     "exception": false,
     "start_time": "2024-03-08T10:12:34.523704",
     "status": "completed"
    },
    "tags": []
   },
   "source": [
    "Plot the first five misclassified samples:   \n"
   ]
  },
  {
   "cell_type": "code",
   "execution_count": 16,
   "id": "6c352c33",
   "metadata": {
    "execution": {
     "iopub.execute_input": "2024-03-08T10:12:34.571567Z",
     "iopub.status.busy": "2024-03-08T10:12:34.571129Z",
     "iopub.status.idle": "2024-03-08T10:12:35.938943Z",
     "shell.execute_reply": "2024-03-08T10:12:35.937752Z"
    },
    "papermill": {
     "duration": 1.387146,
     "end_time": "2024-03-08T10:12:35.941666",
     "exception": false,
     "start_time": "2024-03-08T10:12:34.554520",
     "status": "completed"
    },
    "tags": []
   },
   "outputs": [
    {
     "data": {
      "image/png": "[encoded data removed]",
      "text/plain": [
       "<Figure size 640x480 with 1 Axes>"
      ]
     },
     "metadata": {},
     "output_type": "display_data"
    },
    {
     "data": {
      "image/png": "[encoded data removed]",
      "text/plain": [
       "<Figure size 640x480 with 1 Axes>"
      ]
     },
     "metadata": {},
     "output_type": "display_data"
    },
    {
     "data": {
      "image/png": "[encoded data removed]",
      "text/plain": [
       "<Figure size 640x480 with 1 Axes>"
      ]
     },
     "metadata": {},
     "output_type": "display_data"
    },
    {
     "data": {
      "image/png": "[encoded data removed]",
      "text/plain": [
       "<Figure size 640x480 with 1 Axes>"
      ]
     },
     "metadata": {},
     "output_type": "display_data"
    },
    {
     "data": {
      "image/png": "[encoded data removed]",
      "text/plain": [
       "<Figure size 640x480 with 1 Axes>"
      ]
     },
     "metadata": {},
     "output_type": "display_data"
    }
   ],
   "source": [
    "# Plot the first five misclassified samples\n",
    "\n",
    "count = 0\n",
    "for x, y in validation_dataset:\n",
    "    z = model(x.reshape(-1, 28 * 28))\n",
    "    _,yhat = torch.max(z, 1)\n",
    "    if yhat != y:\n",
    "        show_data(x)\n",
    "        count += 1\n",
    "    if count >= 5:\n",
    "        break"
   ]
  },
  {
   "cell_type": "markdown",
   "id": "da872ae6",
   "metadata": {
    "papermill": {
     "duration": 0.016237,
     "end_time": "2024-03-08T10:12:35.975094",
     "exception": false,
     "start_time": "2024-03-08T10:12:35.958857",
     "status": "completed"
    },
    "tags": []
   },
   "source": [
    "<h3>Practice</h3> \n"
   ]
  },
  {
   "cell_type": "markdown",
   "id": "7d46837e",
   "metadata": {
    "papermill": {
     "duration": 0.017307,
     "end_time": "2024-03-08T10:12:36.009859",
     "exception": false,
     "start_time": "2024-03-08T10:12:35.992552",
     "status": "completed"
    },
    "tags": []
   },
   "source": [
    "Use <code>nn.Sequential</code> to build exactly the same model as you just built. Use the function <train>train</train> to train the model and use the function <code>plot_accuracy_loss</code> to see the metrics. Also, try different epoch numbers. \n"
   ]
  },
  {
   "cell_type": "code",
   "execution_count": 17,
   "id": "97cea72f",
   "metadata": {
    "execution": {
     "iopub.execute_input": "2024-03-08T10:12:36.045899Z",
     "iopub.status.busy": "2024-03-08T10:12:36.045495Z",
     "iopub.status.idle": "2024-03-08T10:15:05.921965Z",
     "shell.execute_reply": "2024-03-08T10:15:05.920638Z"
    },
    "papermill": {
     "duration": 149.916176,
     "end_time": "2024-03-08T10:15:05.943554",
     "exception": false,
     "start_time": "2024-03-08T10:12:36.027378",
     "status": "completed"
    },
    "tags": []
   },
   "outputs": [
    {
     "data": {
      "image/png": "[encoded data removed]",
      "text/plain": [
       "<Figure size 640x480 with 2 Axes>"
      ]
     },
     "metadata": {},
     "output_type": "display_data"
    }
   ],
   "source": [
    "# use nn.Sequential to build the same model. Use plot_accuracy_loss to print out the accuarcy and loss\n",
    "\n",
    "input_dim = 28 * 28\n",
    "hidden_dim = 100\n",
    "output_dim = 10\n",
    "\n",
    "model = torch.nn.Sequential(\n",
    "    torch.nn.Linear(input_dim, hidden_dim),\n",
    "    torch.nn.Sigmoid(),\n",
    "    torch.nn.Linear(hidden_dim, output_dim),\n",
    ")\n",
    "learning_rate = 0.01\n",
    "optimizer = torch.optim.SGD(model.parameters(), lr = learning_rate)\n",
    "training_results = train(model, criterion, train_loader, validation_loader, optimizer, epochs = 10)\n",
    "plot_accuracy_loss(training_results)"
   ]
  }
 ],
 "metadata": {
  "kaggle": {
   "accelerator": "none",
   "dataSources": [],
   "dockerImageVersionId": 30664,
   "isGpuEnabled": false,
   "isInternetEnabled": true,
   "language": "python",
   "sourceType": "notebook"
  },
  "kernelspec": {
   "display_name": "Python 3",
   "language": "python",
   "name": "python3"
  },
  "language_info": {
   "codemirror_mode": {
    "name": "ipython",
    "version": 3
   },
   "file_extension": ".py",
   "mimetype": "text/x-python",
   "name": "python",
   "nbconvert_exporter": "python",
   "pygments_lexer": "ipython3",
   "version": "3.10.13"
  },
  "papermill": {
   "default_parameters": {},
   "duration": 615.85192,
   "end_time": "2024-03-08T10:15:07.693314",
   "environment_variables": {},
   "exception": null,
   "input_path": "__notebook__.ipynb",
   "output_path": "__notebook__.ipynb",
   "parameters": {},
   "start_time": "2024-03-08T10:04:51.841394",
   "version": "2.5.0"
  }
 },
 "nbformat": 4,
 "nbformat_minor": 5
}
