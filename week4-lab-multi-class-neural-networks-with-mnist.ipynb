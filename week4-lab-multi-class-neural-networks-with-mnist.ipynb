{
 "cells": [
  {
   "cell_type": "markdown",
   "id": "20d5780e",
   "metadata": {
    "papermill": {
     "duration": 0.007861,
     "end_time": "2024-03-11T07:52:24.493176",
     "exception": false,
     "start_time": "2024-03-11T07:52:24.485315",
     "status": "completed"
    },
    "tags": []
   },
   "source": [
    "<p style=\"text-align:center\">\n",
    "    <a href=\"https://skills.network/?utm_medium=Exinfluencer&utm_source=Exinfluencer&utm_content=000026UJ&utm_term=10006555&utm_id=NA-SkillsNetwork-Channel-SkillsNetworkCoursesIBMDeveloperSkillsNetworkDL0110ENSkillsNetwork952-2022-01-01\" target=\"_blank\">\n",
    "    <img src=\"https://cf-courses-data.s3.us.cloud-object-storage.appdomain.cloud/assets/logos/SN_web_lightmode.png\" width=\"200\" alt=\"Skills Network Logo\"  />\n",
    "    </a>\n",
    "</p>\n"
   ]
  },
  {
   "cell_type": "markdown",
   "id": "80abeb81",
   "metadata": {
    "papermill": {
     "duration": 0.007169,
     "end_time": "2024-03-11T07:52:24.507670",
     "exception": false,
     "start_time": "2024-03-11T07:52:24.500501",
     "status": "completed"
    },
    "tags": []
   },
   "source": [
    "<h1>Neural Networks with One Hidden Layer</h1>\n"
   ]
  },
  {
   "cell_type": "markdown",
   "id": "b7b83b86",
   "metadata": {
    "papermill": {
     "duration": 0.00709,
     "end_time": "2024-03-11T07:52:24.522288",
     "exception": false,
     "start_time": "2024-03-11T07:52:24.515198",
     "status": "completed"
    },
    "tags": []
   },
   "source": [
    "<h2>Objective</h2><ul><li> How to classify handwritten digits using Neural Network.</li></ul> \n"
   ]
  },
  {
   "cell_type": "markdown",
   "id": "5a30e19f",
   "metadata": {
    "papermill": {
     "duration": 0.007694,
     "end_time": "2024-03-11T07:52:24.537304",
     "exception": false,
     "start_time": "2024-03-11T07:52:24.529610",
     "status": "completed"
    },
    "tags": []
   },
   "source": [
    "<h2>Table of Contents</h2>\n",
    "<p>In this lab, you will use a single layer neural network to classify handwritten digits from the MNIST database.</p>\n",
    "\n",
    "<ul>\n",
    "    <li><a href=\"#Model\">Neural Network Module and Training Function</a></li>\n",
    "    <li><a href=\"#Makeup_Data\">Make Some Data</a></li>\n",
    "    <li><a href=\"#Train\">Define the Neural Network, Optimizer, and Train the  Model</a></li>\n",
    "    <li><a href=\"#Result\">Analyze Results</a></li>\n",
    "</ul>\n",
    "<p>Estimated Time Needed: <strong>25 min</strong></p>\n",
    "\n",
    "<hr>\n"
   ]
  },
  {
   "cell_type": "markdown",
   "id": "2f18eae2",
   "metadata": {
    "papermill": {
     "duration": 0.007086,
     "end_time": "2024-03-11T07:52:24.552260",
     "exception": false,
     "start_time": "2024-03-11T07:52:24.545174",
     "status": "completed"
    },
    "tags": []
   },
   "source": [
    "<h2>Preparation</h2>\n"
   ]
  },
  {
   "cell_type": "markdown",
   "id": "68ff5949",
   "metadata": {
    "papermill": {
     "duration": 0.007048,
     "end_time": "2024-03-11T07:52:24.566857",
     "exception": false,
     "start_time": "2024-03-11T07:52:24.559809",
     "status": "completed"
    },
    "tags": []
   },
   "source": [
    "We'll need the following libraries\n"
   ]
  },
  {
   "cell_type": "code",
   "execution_count": 1,
   "id": "10414bf0",
   "metadata": {
    "execution": {
     "iopub.execute_input": "2024-03-11T07:52:24.583011Z",
     "iopub.status.busy": "2024-03-11T07:52:24.582454Z",
     "iopub.status.idle": "2024-03-11T07:52:29.534611Z",
     "shell.execute_reply": "2024-03-11T07:52:29.533784Z"
    },
    "papermill": {
     "duration": 4.962551,
     "end_time": "2024-03-11T07:52:29.536574",
     "exception": false,
     "start_time": "2024-03-11T07:52:24.574023",
     "status": "completed"
    },
    "tags": []
   },
   "outputs": [],
   "source": [
    "# Import the libraries we need for this lab\n",
    "\n",
    "# Using the following line code to install the torchvision library\n",
    "# !mamba install -y torchvision\n",
    "\n",
    "import torch \n",
    "import torch.nn as nn\n",
    "import torchvision.transforms as transforms\n",
    "import torchvision.datasets as dsets\n",
    "import torch.nn.functional as F\n",
    "import matplotlib.pylab as plt\n",
    "import numpy as np"
   ]
  },
  {
   "cell_type": "markdown",
   "id": "950d9af2",
   "metadata": {
    "papermill": {
     "duration": 0.007047,
     "end_time": "2024-03-11T07:52:29.551295",
     "exception": false,
     "start_time": "2024-03-11T07:52:29.544248",
     "status": "completed"
    },
    "tags": []
   },
   "source": [
    "Use the following helper functions for plotting the loss: \n"
   ]
  },
  {
   "cell_type": "code",
   "execution_count": 2,
   "id": "e64d8eac",
   "metadata": {
    "execution": {
     "iopub.execute_input": "2024-03-11T07:52:29.567594Z",
     "iopub.status.busy": "2024-03-11T07:52:29.566928Z",
     "iopub.status.idle": "2024-03-11T07:52:29.572302Z",
     "shell.execute_reply": "2024-03-11T07:52:29.571473Z"
    },
    "papermill": {
     "duration": 0.01534,
     "end_time": "2024-03-11T07:52:29.573868",
     "exception": false,
     "start_time": "2024-03-11T07:52:29.558528",
     "status": "completed"
    },
    "tags": []
   },
   "outputs": [],
   "source": [
    "# Define a function to plot accuracy and loss\n",
    "\n",
    "def plot_accuracy_loss(training_results): \n",
    "    plt.subplot(2, 1, 1)\n",
    "    plt.plot(training_results['training_loss'], 'r')\n",
    "    plt.ylabel('loss')\n",
    "    plt.title('training loss iterations')\n",
    "    plt.subplot(2, 1, 2)\n",
    "    plt.plot(training_results['validation_accuracy'])\n",
    "    plt.ylabel('accuracy')\n",
    "    plt.xlabel('epochs')   \n",
    "    plt.show()"
   ]
  },
  {
   "cell_type": "markdown",
   "id": "36518917",
   "metadata": {
    "papermill": {
     "duration": 0.007127,
     "end_time": "2024-03-11T07:52:29.588478",
     "exception": false,
     "start_time": "2024-03-11T07:52:29.581351",
     "status": "completed"
    },
    "tags": []
   },
   "source": [
    "Use the following function for printing the model parameters: \n"
   ]
  },
  {
   "cell_type": "code",
   "execution_count": 3,
   "id": "9400bec0",
   "metadata": {
    "execution": {
     "iopub.execute_input": "2024-03-11T07:52:29.604261Z",
     "iopub.status.busy": "2024-03-11T07:52:29.603968Z",
     "iopub.status.idle": "2024-03-11T07:52:29.609276Z",
     "shell.execute_reply": "2024-03-11T07:52:29.608574Z"
    },
    "papermill": {
     "duration": 0.015001,
     "end_time": "2024-03-11T07:52:29.610753",
     "exception": false,
     "start_time": "2024-03-11T07:52:29.595752",
     "status": "completed"
    },
    "tags": []
   },
   "outputs": [],
   "source": [
    "# Define a function to plot model parameters\n",
    "\n",
    "def print_model_parameters(model):\n",
    "    # initialize a counter to keep track of the number of parameters\n",
    "    count = 0\n",
    "    # iterate over each element in the state dictionary of the model\n",
    "    for ele in model.state_dict():\n",
    "        # increment the counter for each parameter\n",
    "        count += 1\n",
    "        # if the current count is odd, it indicates a new layer\n",
    "        if count % 2 != 0:\n",
    "            print (\"The following are the parameters for the layer \", count // 2 + 1)\n",
    "        # check if the current parameter is a bias\n",
    "        # strings have a method .find(substring)\n",
    "        if ele.find(\"bias\") != -1:\n",
    "            # print the size of the bias for the current layer\n",
    "            print(\"The size of bias: \", model.state_dict()[ele].size())\n",
    "        else:\n",
    "            # if it's not a bias, then it's assumed to be the weights\n",
    "            print(\"The size of weights: \", model.state_dict()[ele].size())"
   ]
  },
  {
   "cell_type": "markdown",
   "id": "09a2ce2f",
   "metadata": {
    "papermill": {
     "duration": 0.007188,
     "end_time": "2024-03-11T07:52:29.625184",
     "exception": false,
     "start_time": "2024-03-11T07:52:29.617996",
     "status": "completed"
    },
    "tags": []
   },
   "source": [
    "Define the neural network module or class: \n"
   ]
  },
  {
   "cell_type": "code",
   "execution_count": 4,
   "id": "5f821526",
   "metadata": {
    "execution": {
     "iopub.execute_input": "2024-03-11T07:52:29.640622Z",
     "iopub.status.busy": "2024-03-11T07:52:29.640329Z",
     "iopub.status.idle": "2024-03-11T07:52:29.644247Z",
     "shell.execute_reply": "2024-03-11T07:52:29.643533Z"
    },
    "papermill": {
     "duration": 0.013427,
     "end_time": "2024-03-11T07:52:29.645801",
     "exception": false,
     "start_time": "2024-03-11T07:52:29.632374",
     "status": "completed"
    },
    "tags": []
   },
   "outputs": [],
   "source": [
    "# Define a function to display data\n",
    "\n",
    "def show_data(data_sample):\n",
    "    # plt.imshow() will display array as an image\n",
    "    plt.imshow(data_sample.numpy().reshape(28, 28), cmap='gray')\n",
    "    plt.show()"
   ]
  },
  {
   "cell_type": "markdown",
   "id": "4484819f",
   "metadata": {
    "papermill": {
     "duration": 0.006875,
     "end_time": "2024-03-11T07:52:29.659870",
     "exception": false,
     "start_time": "2024-03-11T07:52:29.652995",
     "status": "completed"
    },
    "tags": []
   },
   "source": [
    "<!--Empty Space for separating topics-->\n"
   ]
  },
  {
   "cell_type": "markdown",
   "id": "7b83dc24",
   "metadata": {
    "papermill": {
     "duration": 0.006868,
     "end_time": "2024-03-11T07:52:29.673904",
     "exception": false,
     "start_time": "2024-03-11T07:52:29.667036",
     "status": "completed"
    },
    "tags": []
   },
   "source": [
    "<h2 id=\"Model\">Neural Network Module and Training Function</h2> \n"
   ]
  },
  {
   "cell_type": "markdown",
   "id": "fd7e6eb8",
   "metadata": {
    "papermill": {
     "duration": 0.006801,
     "end_time": "2024-03-11T07:52:29.688204",
     "exception": false,
     "start_time": "2024-03-11T07:52:29.681403",
     "status": "completed"
    },
    "tags": []
   },
   "source": [
    "Define the neural network module or class: \n"
   ]
  },
  {
   "cell_type": "code",
   "execution_count": 5,
   "id": "b0206fc4",
   "metadata": {
    "execution": {
     "iopub.execute_input": "2024-03-11T07:52:29.704067Z",
     "iopub.status.busy": "2024-03-11T07:52:29.703781Z",
     "iopub.status.idle": "2024-03-11T07:52:29.709163Z",
     "shell.execute_reply": "2024-03-11T07:52:29.708482Z"
    },
    "papermill": {
     "duration": 0.015164,
     "end_time": "2024-03-11T07:52:29.710869",
     "exception": false,
     "start_time": "2024-03-11T07:52:29.695705",
     "status": "completed"
    },
    "tags": []
   },
   "outputs": [],
   "source": [
    "# define the neural network class 'Net' which inherits from 'nn.Module'\n",
    "class Net(nn.Module):\n",
    "    \n",
    "    # Constructor\n",
    "    # initialize the neural network layers\n",
    "    def __init__(self, D_in, H, D_out):\n",
    "        super().__init__()\n",
    "        self.linear1 = nn.Linear(D_in, H)\n",
    "        self.linear2 = nn.Linear(H, D_out)\n",
    "\n",
    "    # Prediction    \n",
    "    def forward(self, x):\n",
    "        # apply the first linear layer and then a sigmoid activation function\n",
    "        x = torch.sigmoid(self.linear1(x))  \n",
    "        x = self.linear2(x)\n",
    "        return x"
   ]
  },
  {
   "cell_type": "markdown",
   "id": "ff6f41f6",
   "metadata": {
    "papermill": {
     "duration": 0.00684,
     "end_time": "2024-03-11T07:52:29.724917",
     "exception": false,
     "start_time": "2024-03-11T07:52:29.718077",
     "status": "completed"
    },
    "tags": []
   },
   "source": [
    "Define a function to train the model. In this case, the function returns a Python dictionary to store the training loss and accuracy on the validation data. \n"
   ]
  },
  {
   "cell_type": "code",
   "execution_count": 6,
   "id": "8254c29f",
   "metadata": {
    "execution": {
     "iopub.execute_input": "2024-03-11T07:52:29.740709Z",
     "iopub.status.busy": "2024-03-11T07:52:29.740369Z",
     "iopub.status.idle": "2024-03-11T07:52:29.747960Z",
     "shell.execute_reply": "2024-03-11T07:52:29.747066Z"
    },
    "papermill": {
     "duration": 0.017614,
     "end_time": "2024-03-11T07:52:29.749717",
     "exception": false,
     "start_time": "2024-03-11T07:52:29.732103",
     "status": "completed"
    },
    "tags": []
   },
   "outputs": [],
   "source": [
    "# Define a training function to train the model\n",
    "\n",
    "def train(model, criterion, train_loader, validation_loader, optimizer, epochs=100):\n",
    "    # dictionary to store loss and accuracy for plotting\n",
    "    useful_stuff = {'training_loss': [],'validation_accuracy': []}  \n",
    "    # loop over the dataset multiple times\n",
    "    for epoch in range(epochs):\n",
    "        # loop over all batches in the training data loader\n",
    "        for i, (x, y) in enumerate(train_loader): \n",
    "            # reset the gradients for the current batch\n",
    "            optimizer.zero_grad()\n",
    "            # flatten the input images and forward pass through the model\n",
    "            z = model(x.view(-1, 28 * 28))\n",
    "            # calculate loss using the criterion\n",
    "            loss = criterion(z, y)\n",
    "            # backpropogation\n",
    "            # agter we call loss.backward(), the gradients will be stored in weights.grad\n",
    "            # these gradients are then typically used to update the weights of the model during optimization step\n",
    "            loss.backward()\n",
    "            # update the model parameters\n",
    "            # optimizer.step() applies the gradients that have been computed with loss.backward()\n",
    "            # to update the model's parameter\n",
    "            optimizer.step()\n",
    "             #loss for every iteration\n",
    "            useful_stuff['training_loss'].append(loss.data.item())\n",
    "        \n",
    "        # validation phase: check the model's performance on the validation dataset\n",
    "        correct = 0\n",
    "        for x, y in validation_loader:\n",
    "            # forward pass with validation data \n",
    "            z = model(x.view(-1, 28 * 28))\n",
    "            # get the prediction (the class with the highest score)\n",
    "            _, label = torch.max(z, 1)\n",
    "            # count the number of correct predictions\n",
    "            correct += (label == y).sum().item()\n",
    "        # calculate the validation accuracy\n",
    "        accuracy = 100 * (correct / len(validation_dataset))\n",
    "        useful_stuff['validation_accuracy'].append(accuracy)\n",
    "    return useful_stuff"
   ]
  },
  {
   "cell_type": "markdown",
   "id": "1e917259",
   "metadata": {
    "papermill": {
     "duration": 0.006932,
     "end_time": "2024-03-11T07:52:29.764189",
     "exception": false,
     "start_time": "2024-03-11T07:52:29.757257",
     "status": "completed"
    },
    "tags": []
   },
   "source": [
    "<!--Empty Space for separating topics-->\n"
   ]
  },
  {
   "cell_type": "markdown",
   "id": "31c1450b",
   "metadata": {
    "papermill": {
     "duration": 0.006923,
     "end_time": "2024-03-11T07:52:29.778283",
     "exception": false,
     "start_time": "2024-03-11T07:52:29.771360",
     "status": "completed"
    },
    "tags": []
   },
   "source": [
    "<h2 id=\"Makeup_Data\">Make Some Data</h2> \n"
   ]
  },
  {
   "cell_type": "markdown",
   "id": "26056642",
   "metadata": {
    "papermill": {
     "duration": 0.006904,
     "end_time": "2024-03-11T07:52:29.792269",
     "exception": false,
     "start_time": "2024-03-11T07:52:29.785365",
     "status": "completed"
    },
    "tags": []
   },
   "source": [
    "Load the training dataset by setting the parameters <code>train</code> to <code>True</code> and convert it to a tensor by placing a transform object in the argument <code>transform</code>.\n"
   ]
  },
  {
   "cell_type": "code",
   "execution_count": 7,
   "id": "691bfa4f",
   "metadata": {
    "execution": {
     "iopub.execute_input": "2024-03-11T07:52:29.807828Z",
     "iopub.status.busy": "2024-03-11T07:52:29.807502Z",
     "iopub.status.idle": "2024-03-11T07:52:30.622295Z",
     "shell.execute_reply": "2024-03-11T07:52:30.621601Z"
    },
    "papermill": {
     "duration": 0.824512,
     "end_time": "2024-03-11T07:52:30.624020",
     "exception": false,
     "start_time": "2024-03-11T07:52:29.799508",
     "status": "completed"
    },
    "tags": []
   },
   "outputs": [
    {
     "name": "stdout",
     "output_type": "stream",
     "text": [
      "Downloading http://yann.lecun.com/exdb/mnist/train-images-idx3-ubyte.gz\n",
      "Downloading http://yann.lecun.com/exdb/mnist/train-images-idx3-ubyte.gz to ./data/MNIST/raw/train-images-idx3-ubyte.gz\n"
     ]
    },
    {
     "name": "stderr",
     "output_type": "stream",
     "text": [
      "100%|██████████| 9912422/9912422 [00:00<00:00, 137252977.73it/s]"
     ]
    },
    {
     "name": "stdout",
     "output_type": "stream",
     "text": [
      "Extracting ./data/MNIST/raw/train-images-idx3-ubyte.gz to ./data/MNIST/raw\n"
     ]
    },
    {
     "name": "stderr",
     "output_type": "stream",
     "text": [
      "\n"
     ]
    },
    {
     "name": "stdout",
     "output_type": "stream",
     "text": [
      "\n",
      "Downloading http://yann.lecun.com/exdb/mnist/train-labels-idx1-ubyte.gz\n",
      "Downloading http://yann.lecun.com/exdb/mnist/train-labels-idx1-ubyte.gz to ./data/MNIST/raw/train-labels-idx1-ubyte.gz\n"
     ]
    },
    {
     "name": "stderr",
     "output_type": "stream",
     "text": [
      "100%|██████████| 28881/28881 [00:00<00:00, 40608680.46it/s]\n"
     ]
    },
    {
     "name": "stdout",
     "output_type": "stream",
     "text": [
      "Extracting ./data/MNIST/raw/train-labels-idx1-ubyte.gz to ./data/MNIST/raw\n",
      "\n",
      "Downloading http://yann.lecun.com/exdb/mnist/t10k-images-idx3-ubyte.gz\n",
      "Downloading http://yann.lecun.com/exdb/mnist/t10k-images-idx3-ubyte.gz to ./data/MNIST/raw/t10k-images-idx3-ubyte.gz\n"
     ]
    },
    {
     "name": "stderr",
     "output_type": "stream",
     "text": [
      "100%|██████████| 1648877/1648877 [00:00<00:00, 36397704.30it/s]"
     ]
    },
    {
     "name": "stdout",
     "output_type": "stream",
     "text": [
      "Extracting ./data/MNIST/raw/t10k-images-idx3-ubyte.gz to ./data/MNIST/raw\n"
     ]
    },
    {
     "name": "stderr",
     "output_type": "stream",
     "text": [
      "\n"
     ]
    },
    {
     "name": "stdout",
     "output_type": "stream",
     "text": [
      "\n",
      "Downloading http://yann.lecun.com/exdb/mnist/t10k-labels-idx1-ubyte.gz\n",
      "Downloading http://yann.lecun.com/exdb/mnist/t10k-labels-idx1-ubyte.gz to ./data/MNIST/raw/t10k-labels-idx1-ubyte.gz\n"
     ]
    },
    {
     "name": "stderr",
     "output_type": "stream",
     "text": [
      "100%|██████████| 4542/4542 [00:00<00:00, 12126370.95it/s]\n"
     ]
    },
    {
     "name": "stdout",
     "output_type": "stream",
     "text": [
      "Extracting ./data/MNIST/raw/t10k-labels-idx1-ubyte.gz to ./data/MNIST/raw\n",
      "\n"
     ]
    }
   ],
   "source": [
    "# Create training dataset\n",
    "\n",
    "train_dataset = dsets.MNIST(root='./data', train=True, download=True, transform=transforms.ToTensor())"
   ]
  },
  {
   "cell_type": "markdown",
   "id": "bd771899",
   "metadata": {
    "papermill": {
     "duration": 0.007987,
     "end_time": "2024-03-11T07:52:30.641470",
     "exception": false,
     "start_time": "2024-03-11T07:52:30.633483",
     "status": "completed"
    },
    "tags": []
   },
   "source": [
    "Load the testing dataset and convert it to a tensor by placing a transform object in the argument <code>transform</code>:\n"
   ]
  },
  {
   "cell_type": "code",
   "execution_count": 8,
   "id": "f5276219",
   "metadata": {
    "execution": {
     "iopub.execute_input": "2024-03-11T07:52:30.660782Z",
     "iopub.status.busy": "2024-03-11T07:52:30.660088Z",
     "iopub.status.idle": "2024-03-11T07:52:30.704334Z",
     "shell.execute_reply": "2024-03-11T07:52:30.703570Z"
    },
    "papermill": {
     "duration": 0.056912,
     "end_time": "2024-03-11T07:52:30.706656",
     "exception": false,
     "start_time": "2024-03-11T07:52:30.649744",
     "status": "completed"
    },
    "tags": []
   },
   "outputs": [],
   "source": [
    "# Create validating dataset\n",
    "\n",
    "validation_dataset = dsets.MNIST(root='./data', download=True, transform=transforms.ToTensor())"
   ]
  },
  {
   "cell_type": "markdown",
   "id": "1d47f9b0",
   "metadata": {
    "papermill": {
     "duration": 0.008135,
     "end_time": "2024-03-11T07:52:30.723464",
     "exception": false,
     "start_time": "2024-03-11T07:52:30.715329",
     "status": "completed"
    },
    "tags": []
   },
   "source": [
    "Create the criterion function:  \n"
   ]
  },
  {
   "cell_type": "code",
   "execution_count": 9,
   "id": "06089551",
   "metadata": {
    "execution": {
     "iopub.execute_input": "2024-03-11T07:52:30.741296Z",
     "iopub.status.busy": "2024-03-11T07:52:30.741063Z",
     "iopub.status.idle": "2024-03-11T07:52:30.744824Z",
     "shell.execute_reply": "2024-03-11T07:52:30.743702Z"
    },
    "papermill": {
     "duration": 0.01471,
     "end_time": "2024-03-11T07:52:30.746584",
     "exception": false,
     "start_time": "2024-03-11T07:52:30.731874",
     "status": "completed"
    },
    "tags": []
   },
   "outputs": [],
   "source": [
    "# Create criterion function\n",
    "\n",
    "criterion = nn.CrossEntropyLoss()"
   ]
  },
  {
   "cell_type": "markdown",
   "id": "1d950020",
   "metadata": {
    "papermill": {
     "duration": 0.008825,
     "end_time": "2024-03-11T07:52:30.763663",
     "exception": false,
     "start_time": "2024-03-11T07:52:30.754838",
     "status": "completed"
    },
    "tags": []
   },
   "source": [
    "Create the training-data loader and the validation-data loader objects: \n"
   ]
  },
  {
   "cell_type": "code",
   "execution_count": 10,
   "id": "d278efaf",
   "metadata": {
    "execution": {
     "iopub.execute_input": "2024-03-11T07:52:30.782431Z",
     "iopub.status.busy": "2024-03-11T07:52:30.782128Z",
     "iopub.status.idle": "2024-03-11T07:52:30.786557Z",
     "shell.execute_reply": "2024-03-11T07:52:30.785681Z"
    },
    "papermill": {
     "duration": 0.015587,
     "end_time": "2024-03-11T07:52:30.788143",
     "exception": false,
     "start_time": "2024-03-11T07:52:30.772556",
     "status": "completed"
    },
    "tags": []
   },
   "outputs": [],
   "source": [
    "# Create data loader for both train dataset and valdiate dataset\n",
    "\n",
    "train_loader = torch.utils.data.DataLoader(dataset=train_dataset, batch_size=2000, shuffle=True)\n",
    "validation_loader = torch.utils.data.DataLoader(dataset=validation_dataset, batch_size=5000, shuffle=False)"
   ]
  },
  {
   "cell_type": "markdown",
   "id": "9c2c1d26",
   "metadata": {
    "papermill": {
     "duration": 0.008646,
     "end_time": "2024-03-11T07:52:30.805264",
     "exception": false,
     "start_time": "2024-03-11T07:52:30.796618",
     "status": "completed"
    },
    "tags": []
   },
   "source": [
    "<!--Empty Space for separating topics-->\n"
   ]
  },
  {
   "cell_type": "markdown",
   "id": "0f5ef980",
   "metadata": {
    "papermill": {
     "duration": 0.008134,
     "end_time": "2024-03-11T07:52:30.821921",
     "exception": false,
     "start_time": "2024-03-11T07:52:30.813787",
     "status": "completed"
    },
    "tags": []
   },
   "source": [
    "<h2 id=\"Train\">Define the Neural Network, Optimizer, and Train the Model</h2> \n"
   ]
  },
  {
   "cell_type": "markdown",
   "id": "8ee069fe",
   "metadata": {
    "papermill": {
     "duration": 0.008197,
     "end_time": "2024-03-11T07:52:30.838756",
     "exception": false,
     "start_time": "2024-03-11T07:52:30.830559",
     "status": "completed"
    },
    "tags": []
   },
   "source": [
    "Create the model with 100 neurons: \n"
   ]
  },
  {
   "cell_type": "code",
   "execution_count": 11,
   "id": "71e4566e",
   "metadata": {
    "execution": {
     "iopub.execute_input": "2024-03-11T07:52:30.857470Z",
     "iopub.status.busy": "2024-03-11T07:52:30.856852Z",
     "iopub.status.idle": "2024-03-11T07:52:30.874414Z",
     "shell.execute_reply": "2024-03-11T07:52:30.873478Z"
    },
    "papermill": {
     "duration": 0.028995,
     "end_time": "2024-03-11T07:52:30.876249",
     "exception": false,
     "start_time": "2024-03-11T07:52:30.847254",
     "status": "completed"
    },
    "tags": []
   },
   "outputs": [],
   "source": [
    "# Create the model with 100 neurons\n",
    "\n",
    "input_dim = 28 * 28\n",
    "hidden_dim = 100\n",
    "output_dim = 10\n",
    "\n",
    "model = Net(input_dim, hidden_dim, output_dim)"
   ]
  },
  {
   "cell_type": "markdown",
   "id": "434887ee",
   "metadata": {
    "papermill": {
     "duration": 0.009254,
     "end_time": "2024-03-11T07:52:30.896819",
     "exception": false,
     "start_time": "2024-03-11T07:52:30.887565",
     "status": "completed"
    },
    "tags": []
   },
   "source": [
    "Print the model parameters: \n"
   ]
  },
  {
   "cell_type": "code",
   "execution_count": 12,
   "id": "208e0e68",
   "metadata": {
    "execution": {
     "iopub.execute_input": "2024-03-11T07:52:30.915914Z",
     "iopub.status.busy": "2024-03-11T07:52:30.914171Z",
     "iopub.status.idle": "2024-03-11T07:52:30.919782Z",
     "shell.execute_reply": "2024-03-11T07:52:30.918943Z"
    },
    "papermill": {
     "duration": 0.016175,
     "end_time": "2024-03-11T07:52:30.921256",
     "exception": false,
     "start_time": "2024-03-11T07:52:30.905081",
     "status": "completed"
    },
    "tags": []
   },
   "outputs": [
    {
     "name": "stdout",
     "output_type": "stream",
     "text": [
      "The following are the parameters for the layer  1\n",
      "The size of weights:  torch.Size([100, 784])\n",
      "The size of bias:  torch.Size([100])\n",
      "The following are the parameters for the layer  2\n",
      "The size of weights:  torch.Size([10, 100])\n",
      "The size of bias:  torch.Size([10])\n"
     ]
    }
   ],
   "source": [
    "# Print the parameters for model\n",
    "\n",
    "print_model_parameters(model)"
   ]
  },
  {
   "cell_type": "markdown",
   "id": "da1362f3",
   "metadata": {
    "papermill": {
     "duration": 0.008138,
     "end_time": "2024-03-11T07:52:30.938244",
     "exception": false,
     "start_time": "2024-03-11T07:52:30.930106",
     "status": "completed"
    },
    "tags": []
   },
   "source": [
    "Define the optimizer object with a learning rate of 0.01: \n"
   ]
  },
  {
   "cell_type": "code",
   "execution_count": 13,
   "id": "d3a9f290",
   "metadata": {
    "execution": {
     "iopub.execute_input": "2024-03-11T07:52:30.956403Z",
     "iopub.status.busy": "2024-03-11T07:52:30.955885Z",
     "iopub.status.idle": "2024-03-11T07:52:30.959459Z",
     "shell.execute_reply": "2024-03-11T07:52:30.958919Z"
    },
    "papermill": {
     "duration": 0.014619,
     "end_time": "2024-03-11T07:52:30.961202",
     "exception": false,
     "start_time": "2024-03-11T07:52:30.946583",
     "status": "completed"
    },
    "tags": []
   },
   "outputs": [],
   "source": [
    "# Set the learning rate and the optimizer\n",
    "\n",
    "learning_rate = 0.01\n",
    "optimizer = torch.optim.SGD(model.parameters(), lr=learning_rate)"
   ]
  },
  {
   "cell_type": "markdown",
   "id": "1494a43e",
   "metadata": {
    "papermill": {
     "duration": 0.008141,
     "end_time": "2024-03-11T07:52:30.978288",
     "exception": false,
     "start_time": "2024-03-11T07:52:30.970147",
     "status": "completed"
    },
    "tags": []
   },
   "source": [
    "Train the model by using 100 epochs **(this process takes time)**: \n"
   ]
  },
  {
   "cell_type": "code",
   "execution_count": 14,
   "id": "283793d6",
   "metadata": {
    "execution": {
     "iopub.execute_input": "2024-03-11T07:52:30.997288Z",
     "iopub.status.busy": "2024-03-11T07:52:30.995887Z",
     "iopub.status.idle": "2024-03-11T07:58:13.848786Z",
     "shell.execute_reply": "2024-03-11T07:58:13.848091Z"
    },
    "papermill": {
     "duration": 342.864092,
     "end_time": "2024-03-11T07:58:13.850727",
     "exception": false,
     "start_time": "2024-03-11T07:52:30.986635",
     "status": "completed"
    },
    "tags": []
   },
   "outputs": [],
   "source": [
    "# Train the model\n",
    "\n",
    "training_results = train(model, criterion, train_loader, validation_loader, optimizer, epochs=30)"
   ]
  },
  {
   "cell_type": "markdown",
   "id": "32c3e7e6",
   "metadata": {
    "papermill": {
     "duration": 0.008227,
     "end_time": "2024-03-11T07:58:13.867832",
     "exception": false,
     "start_time": "2024-03-11T07:58:13.859605",
     "status": "completed"
    },
    "tags": []
   },
   "source": [
    "<!--Empty Space for separating topics-->\n"
   ]
  },
  {
   "cell_type": "markdown",
   "id": "6879b720",
   "metadata": {
    "papermill": {
     "duration": 0.008113,
     "end_time": "2024-03-11T07:58:13.884251",
     "exception": false,
     "start_time": "2024-03-11T07:58:13.876138",
     "status": "completed"
    },
    "tags": []
   },
   "source": [
    "<h2 id=\"Result\">Analyze Results</h2> \n"
   ]
  },
  {
   "cell_type": "markdown",
   "id": "d1b4bd27",
   "metadata": {
    "papermill": {
     "duration": 0.008093,
     "end_time": "2024-03-11T07:58:13.900608",
     "exception": false,
     "start_time": "2024-03-11T07:58:13.892515",
     "status": "completed"
    },
    "tags": []
   },
   "source": [
    "Plot the training total loss or cost for every iteration and plot the training accuracy for every epoch:  \n"
   ]
  },
  {
   "cell_type": "code",
   "execution_count": 15,
   "id": "5699ef94",
   "metadata": {
    "execution": {
     "iopub.execute_input": "2024-03-11T07:58:13.918524Z",
     "iopub.status.busy": "2024-03-11T07:58:13.918241Z",
     "iopub.status.idle": "2024-03-11T07:58:14.199143Z",
     "shell.execute_reply": "2024-03-11T07:58:14.198261Z"
    },
    "papermill": {
     "duration": 0.292577,
     "end_time": "2024-03-11T07:58:14.201479",
     "exception": false,
     "start_time": "2024-03-11T07:58:13.908902",
     "status": "completed"
    },
    "tags": []
   },
   "outputs": [
    {
     "data": {
      "image/png": "[encoded data removed]",
      "text/plain": [
       "<Figure size 640x480 with 2 Axes>"
      ]
     },
     "metadata": {},
     "output_type": "display_data"
    }
   ],
   "source": [
    "# Plot the accuracy and loss\n",
    "\n",
    "plot_accuracy_loss(training_results)"
   ]
  },
  {
   "cell_type": "markdown",
   "id": "753cca78",
   "metadata": {
    "papermill": {
     "duration": 0.008882,
     "end_time": "2024-03-11T07:58:14.219668",
     "exception": false,
     "start_time": "2024-03-11T07:58:14.210786",
     "status": "completed"
    },
    "tags": []
   },
   "source": [
    "Plot the first five misclassified samples:   \n"
   ]
  },
  {
   "cell_type": "code",
   "execution_count": 16,
   "id": "254f513b",
   "metadata": {
    "execution": {
     "iopub.execute_input": "2024-03-11T07:58:14.239734Z",
     "iopub.status.busy": "2024-03-11T07:58:14.239430Z",
     "iopub.status.idle": "2024-03-11T07:58:15.046415Z",
     "shell.execute_reply": "2024-03-11T07:58:15.045743Z"
    },
    "papermill": {
     "duration": 0.819655,
     "end_time": "2024-03-11T07:58:15.048237",
     "exception": false,
     "start_time": "2024-03-11T07:58:14.228582",
     "status": "completed"
    },
    "tags": []
   },
   "outputs": [
    {
     "data": {
      "image/png": "[encoded data removed]",
      "text/plain": [
       "<Figure size 640x480 with 1 Axes>"
      ]
     },
     "metadata": {},
     "output_type": "display_data"
    },
    {
     "data": {
      "image/png": "[encoded data removed]",
      "text/plain": [
       "<Figure size 640x480 with 1 Axes>"
      ]
     },
     "metadata": {},
     "output_type": "display_data"
    },
    {
     "data": {
      "image/png": "[encoded data removed]",
      "text/plain": [
       "<Figure size 640x480 with 1 Axes>"
      ]
     },
     "metadata": {},
     "output_type": "display_data"
    },
    {
     "data": {
      "image/png": "[encoded data removed]",
      "text/plain": [
       "<Figure size 640x480 with 1 Axes>"
      ]
     },
     "metadata": {},
     "output_type": "display_data"
    },
    {
     "data": {
      "image/png": "[encoded data removed]",
      "text/plain": [
       "<Figure size 640x480 with 1 Axes>"
      ]
     },
     "metadata": {},
     "output_type": "display_data"
    }
   ],
   "source": [
    "# Plot the first five misclassified samples\n",
    "\n",
    "count = 0\n",
    "for x, y in validation_dataset:\n",
    "    z = model(x.reshape(-1, 28 * 28))\n",
    "    _,yhat = torch.max(z, 1)\n",
    "    if yhat != y:\n",
    "        show_data(x)\n",
    "        count += 1\n",
    "    if count >= 5:\n",
    "        break"
   ]
  },
  {
   "cell_type": "markdown",
   "id": "fc72b1b3",
   "metadata": {
    "papermill": {
     "duration": 0.009574,
     "end_time": "2024-03-11T07:58:15.068678",
     "exception": false,
     "start_time": "2024-03-11T07:58:15.059104",
     "status": "completed"
    },
    "tags": []
   },
   "source": [
    "<h3>Practice</h3> \n"
   ]
  },
  {
   "cell_type": "markdown",
   "id": "433e0fc5",
   "metadata": {
    "papermill": {
     "duration": 0.009345,
     "end_time": "2024-03-11T07:58:15.087529",
     "exception": false,
     "start_time": "2024-03-11T07:58:15.078184",
     "status": "completed"
    },
    "tags": []
   },
   "source": [
    "Use <code>nn.Sequential</code> to build exactly the same model as you just built. Use the function <train>train</train> to train the model and use the function <code>plot_accuracy_loss</code> to see the metrics. Also, try different epoch numbers. \n"
   ]
  },
  {
   "cell_type": "code",
   "execution_count": 17,
   "id": "9a5f32a8",
   "metadata": {
    "execution": {
     "iopub.execute_input": "2024-03-11T07:58:15.108615Z",
     "iopub.status.busy": "2024-03-11T07:58:15.108042Z",
     "iopub.status.idle": "2024-03-11T08:00:09.997289Z",
     "shell.execute_reply": "2024-03-11T08:00:09.996513Z"
    },
    "papermill": {
     "duration": 114.909918,
     "end_time": "2024-03-11T08:00:10.007029",
     "exception": false,
     "start_time": "2024-03-11T07:58:15.097111",
     "status": "completed"
    },
    "tags": []
   },
   "outputs": [
    {
     "data": {
      "image/png": "[encoded data removed]",
      "text/plain": [
       "<Figure size 640x480 with 2 Axes>"
      ]
     },
     "metadata": {},
     "output_type": "display_data"
    }
   ],
   "source": [
    "# use nn.Sequential to build the same model. Use plot_accuracy_loss to print out the accuarcy and loss\n",
    "\n",
    "input_dim = 28 * 28\n",
    "hidden_dim = 100\n",
    "output_dim = 10\n",
    "\n",
    "model = torch.nn.Sequential(\n",
    "    torch.nn.Linear(input_dim, hidden_dim),\n",
    "    torch.nn.Sigmoid(),\n",
    "    torch.nn.Linear(hidden_dim, output_dim),\n",
    ")\n",
    "learning_rate = 0.01\n",
    "optimizer = torch.optim.SGD(model.parameters(), lr = learning_rate)\n",
    "training_results = train(model, criterion, train_loader, validation_loader, optimizer, epochs = 10)\n",
    "plot_accuracy_loss(training_results)"
   ]
  }
 ],
 "metadata": {
  "kaggle": {
   "accelerator": "none",
   "dataSources": [],
   "dockerImageVersionId": 30664,
   "isGpuEnabled": false,
   "isInternetEnabled": true,
   "language": "python",
   "sourceType": "notebook"
  },
  "kernelspec": {
   "display_name": "Python 3",
   "language": "python",
   "name": "python3"
  },
  "language_info": {
   "codemirror_mode": {
    "name": "ipython",
    "version": 3
   },
   "file_extension": ".py",
   "mimetype": "text/x-python",
   "name": "python",
   "nbconvert_exporter": "python",
   "pygments_lexer": "ipython3",
   "version": "3.10.13"
  },
  "papermill": {
   "default_parameters": {},
   "duration": 468.539532,
   "end_time": "2024-03-11T08:00:10.937307",
   "environment_variables": {},
   "exception": null,
   "input_path": "__notebook__.ipynb",
   "output_path": "__notebook__.ipynb",
   "parameters": {},
   "start_time": "2024-03-11T07:52:22.397775",
   "version": "2.5.0"
  }
 },
 "nbformat": 4,
 "nbformat_minor": 5
}
