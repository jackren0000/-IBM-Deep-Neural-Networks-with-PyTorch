{
 "cells": [
  {
   "cell_type": "markdown",
   "id": "f0edf0b6",
   "metadata": {
    "papermill": {
     "duration": 0.009959,
     "end_time": "2024-03-06T11:09:45.554520",
     "exception": false,
     "start_time": "2024-03-06T11:09:45.544561",
     "status": "completed"
    },
    "tags": []
   },
   "source": [
    "<p style=\"text-align:center\">\n",
    "    <a href=\"https://skills.network/?utm_medium=Exinfluencer&utm_source=Exinfluencer&utm_content=000026UJ&utm_term=10006555&utm_id=NA-SkillsNetwork-Channel-SkillsNetworkCoursesIBMDeveloperSkillsNetworkDL0110ENSkillsNetwork952-2022-01-01\" target=\"_blank\">\n",
    "    <img src=\"https://cf-courses-data.s3.us.cloud-object-storage.appdomain.cloud/assets/logos/SN_web_lightmode.png\" width=\"200\" alt=\"Skills Network Logo\"  />\n",
    "    </a>\n",
    "</p>\n"
   ]
  },
  {
   "cell_type": "markdown",
   "id": "826f6ea2",
   "metadata": {
    "papermill": {
     "duration": 0.009349,
     "end_time": "2024-03-06T11:09:45.574373",
     "exception": false,
     "start_time": "2024-03-06T11:09:45.565024",
     "status": "completed"
    },
    "tags": []
   },
   "source": [
    "<h1>Multiple Linear Regression</h1>\n"
   ]
  },
  {
   "cell_type": "markdown",
   "id": "87c02369",
   "metadata": {
    "papermill": {
     "duration": 0.009342,
     "end_time": "2024-03-06T11:09:45.593484",
     "exception": false,
     "start_time": "2024-03-06T11:09:45.584142",
     "status": "completed"
    },
    "tags": []
   },
   "source": [
    "<h2>Objective</h2><ul><li> How to make the prediction for multiple inputs.</li><li> How to use linear class to build more complex models.</li><li> How to build a custom module.</li></ul> \n"
   ]
  },
  {
   "cell_type": "markdown",
   "id": "c776d618",
   "metadata": {
    "papermill": {
     "duration": 0.010237,
     "end_time": "2024-03-06T11:09:45.613880",
     "exception": false,
     "start_time": "2024-03-06T11:09:45.603643",
     "status": "completed"
    },
    "tags": []
   },
   "source": [
    "<h2>Table of Contents</h2>\n",
    "<p>In this lab, you will review how to make a prediction in several different ways by using PyTorch.</p>\n",
    "\n",
    "<ul>\n",
    "    <li><a href=\"#Prediction\">Prediction</a></li>\n",
    "    <li><a href=\"#Linear\">Class Linear</a></li>\n",
    "    <li><a href=\"#Cust\">Build Custom Modules</a></li>\n",
    "</ul>\n",
    "\n",
    "<p>Estimated Time Needed: <strong>15 min</strong></p>\n",
    "\n",
    "<hr>\n"
   ]
  },
  {
   "cell_type": "markdown",
   "id": "c603914f",
   "metadata": {
    "papermill": {
     "duration": 0.009251,
     "end_time": "2024-03-06T11:09:45.632672",
     "exception": false,
     "start_time": "2024-03-06T11:09:45.623421",
     "status": "completed"
    },
    "tags": []
   },
   "source": [
    "<h2>Preparation</h2>\n"
   ]
  },
  {
   "cell_type": "markdown",
   "id": "c722147a",
   "metadata": {
    "papermill": {
     "duration": 0.009211,
     "end_time": "2024-03-06T11:09:45.651365",
     "exception": false,
     "start_time": "2024-03-06T11:09:45.642154",
     "status": "completed"
    },
    "tags": []
   },
   "source": [
    "Import the libraries and set the random seed.\n"
   ]
  },
  {
   "cell_type": "code",
   "execution_count": 1,
   "id": "fa885470",
   "metadata": {
    "execution": {
     "iopub.execute_input": "2024-03-06T11:09:45.672814Z",
     "iopub.status.busy": "2024-03-06T11:09:45.671604Z",
     "iopub.status.idle": "2024-03-06T11:09:48.914598Z",
     "shell.execute_reply": "2024-03-06T11:09:48.913450Z"
    },
    "papermill": {
     "duration": 3.256069,
     "end_time": "2024-03-06T11:09:48.916997",
     "exception": false,
     "start_time": "2024-03-06T11:09:45.660928",
     "status": "completed"
    },
    "tags": []
   },
   "outputs": [
    {
     "data": {
      "text/plain": [
       "<torch._C.Generator at 0x78c8a412f070>"
      ]
     },
     "execution_count": 1,
     "metadata": {},
     "output_type": "execute_result"
    }
   ],
   "source": [
    "# Import the libraries and set the random seed\n",
    "\n",
    "from torch import nn\n",
    "import torch\n",
    "torch.manual_seed(1)"
   ]
  },
  {
   "cell_type": "markdown",
   "id": "bdea34f0",
   "metadata": {
    "papermill": {
     "duration": 0.009999,
     "end_time": "2024-03-06T11:09:48.937025",
     "exception": false,
     "start_time": "2024-03-06T11:09:48.927026",
     "status": "completed"
    },
    "tags": []
   },
   "source": [
    "<!--Empty Space for separating topics-->\n"
   ]
  },
  {
   "cell_type": "markdown",
   "id": "a9feb2ee",
   "metadata": {
    "papermill": {
     "duration": 0.009493,
     "end_time": "2024-03-06T11:09:48.956397",
     "exception": false,
     "start_time": "2024-03-06T11:09:48.946904",
     "status": "completed"
    },
    "tags": []
   },
   "source": [
    "<h2 id=\"Prediction\">Prediction</h2>\n"
   ]
  },
  {
   "cell_type": "markdown",
   "id": "ac28b537",
   "metadata": {
    "papermill": {
     "duration": 0.009663,
     "end_time": "2024-03-06T11:09:48.975893",
     "exception": false,
     "start_time": "2024-03-06T11:09:48.966230",
     "status": "completed"
    },
    "tags": []
   },
   "source": [
    "Set weight and bias.\n"
   ]
  },
  {
   "cell_type": "code",
   "execution_count": 2,
   "id": "9b24dc47",
   "metadata": {
    "execution": {
     "iopub.execute_input": "2024-03-06T11:09:48.997564Z",
     "iopub.status.busy": "2024-03-06T11:09:48.996667Z",
     "iopub.status.idle": "2024-03-06T11:09:49.016004Z",
     "shell.execute_reply": "2024-03-06T11:09:49.014703Z"
    },
    "papermill": {
     "duration": 0.032775,
     "end_time": "2024-03-06T11:09:49.018427",
     "exception": false,
     "start_time": "2024-03-06T11:09:48.985652",
     "status": "completed"
    },
    "tags": []
   },
   "outputs": [],
   "source": [
    "# Set the weight and bias\n",
    "\n",
    "w = torch.tensor([[2.0], [3.0]], requires_grad=True)\n",
    "b = torch.tensor([[1.0]], requires_grad=True)"
   ]
  },
  {
   "cell_type": "markdown",
   "id": "b6e57eab",
   "metadata": {
    "papermill": {
     "duration": 0.00963,
     "end_time": "2024-03-06T11:09:49.038008",
     "exception": false,
     "start_time": "2024-03-06T11:09:49.028378",
     "status": "completed"
    },
    "tags": []
   },
   "source": [
    "Define the parameters. <code>torch.mm</code> uses matrix multiplication instead of scaler multiplication.\n"
   ]
  },
  {
   "cell_type": "code",
   "execution_count": 3,
   "id": "85df070a",
   "metadata": {
    "execution": {
     "iopub.execute_input": "2024-03-06T11:09:49.059832Z",
     "iopub.status.busy": "2024-03-06T11:09:49.059438Z",
     "iopub.status.idle": "2024-03-06T11:09:49.063828Z",
     "shell.execute_reply": "2024-03-06T11:09:49.063012Z"
    },
    "papermill": {
     "duration": 0.01782,
     "end_time": "2024-03-06T11:09:49.065819",
     "exception": false,
     "start_time": "2024-03-06T11:09:49.047999",
     "status": "completed"
    },
    "tags": []
   },
   "outputs": [],
   "source": [
    "# Define Prediction Function\n",
    "\n",
    "def forward(x):\n",
    "    yhat = torch.mm(x, w) + b\n",
    "    return yhat"
   ]
  },
  {
   "cell_type": "markdown",
   "id": "978f1960",
   "metadata": {
    "papermill": {
     "duration": 0.010016,
     "end_time": "2024-03-06T11:09:49.085717",
     "exception": false,
     "start_time": "2024-03-06T11:09:49.075701",
     "status": "completed"
    },
    "tags": []
   },
   "source": [
    "The function <code>forward</code> implements the following equation:\n"
   ]
  },
  {
   "cell_type": "markdown",
   "id": "e4b30e70",
   "metadata": {
    "papermill": {
     "duration": 0.009577,
     "end_time": "2024-03-06T11:09:49.105243",
     "exception": false,
     "start_time": "2024-03-06T11:09:49.095666",
     "status": "completed"
    },
    "tags": []
   },
   "source": [
    "<img src=\"https://s3-api.us-geo.objectstorage.softlayer.net/cf-courses-data/CognitiveClass/DL0110EN/notebook_images%20/chapter2/2.6.1_matrix_eq.png\" width=\"600\" alt=\"Matrix Linear Regression\">\n"
   ]
  },
  {
   "cell_type": "markdown",
   "id": "8fa07067",
   "metadata": {
    "papermill": {
     "duration": 0.009627,
     "end_time": "2024-03-06T11:09:49.125258",
     "exception": false,
     "start_time": "2024-03-06T11:09:49.115631",
     "status": "completed"
    },
    "tags": []
   },
   "source": [
    "If we input a <i>1x2</i> tensor, because we have a <i>2x1</i> tensor as <code>w</code>, we will get a <i>1x1</i> tensor: \n"
   ]
  },
  {
   "cell_type": "code",
   "execution_count": 4,
   "id": "c4265127",
   "metadata": {
    "execution": {
     "iopub.execute_input": "2024-03-06T11:09:49.147661Z",
     "iopub.status.busy": "2024-03-06T11:09:49.147220Z",
     "iopub.status.idle": "2024-03-06T11:09:49.240545Z",
     "shell.execute_reply": "2024-03-06T11:09:49.239398Z"
    },
    "papermill": {
     "duration": 0.107418,
     "end_time": "2024-03-06T11:09:49.243045",
     "exception": false,
     "start_time": "2024-03-06T11:09:49.135627",
     "status": "completed"
    },
    "tags": []
   },
   "outputs": [
    {
     "name": "stdout",
     "output_type": "stream",
     "text": [
      "The result:  tensor([[9.]], grad_fn=<AddBackward0>)\n"
     ]
    }
   ],
   "source": [
    "# Calculate yhat\n",
    "\n",
    "x = torch.tensor([[1.0, 2.0]])\n",
    "yhat = forward(x)\n",
    "print(\"The result: \", yhat)"
   ]
  },
  {
   "cell_type": "markdown",
   "id": "46045cae",
   "metadata": {
    "papermill": {
     "duration": 0.009588,
     "end_time": "2024-03-06T11:09:49.262497",
     "exception": false,
     "start_time": "2024-03-06T11:09:49.252909",
     "status": "completed"
    },
    "tags": []
   },
   "source": [
    "<img src=\"https://s3-api.us-geo.objectstorage.softlayer.net/cf-courses-data/CognitiveClass/DL0110EN/notebook_images%20/chapter2/2.6.1example.png\" width=\"300\" alt=\"Linear Regression Matrix Sample One\">\n"
   ]
  },
  {
   "cell_type": "markdown",
   "id": "2e0e02d1",
   "metadata": {
    "papermill": {
     "duration": 0.00947,
     "end_time": "2024-03-06T11:09:49.281839",
     "exception": false,
     "start_time": "2024-03-06T11:09:49.272369",
     "status": "completed"
    },
    "tags": []
   },
   "source": [
    "# Each row of the following tensor represents a sample:\n"
   ]
  },
  {
   "cell_type": "code",
   "execution_count": 5,
   "id": "0142ece4",
   "metadata": {
    "execution": {
     "iopub.execute_input": "2024-03-06T11:09:49.303718Z",
     "iopub.status.busy": "2024-03-06T11:09:49.303301Z",
     "iopub.status.idle": "2024-03-06T11:09:49.307531Z",
     "shell.execute_reply": "2024-03-06T11:09:49.306777Z"
    },
    "papermill": {
     "duration": 0.017754,
     "end_time": "2024-03-06T11:09:49.309743",
     "exception": false,
     "start_time": "2024-03-06T11:09:49.291989",
     "status": "completed"
    },
    "tags": []
   },
   "outputs": [],
   "source": [
    "# Sample tensor X\n",
    "\n",
    "X = torch.tensor([[1.0, 1.0], [1.0, 2.0], [1.0, 3.0]])"
   ]
  },
  {
   "cell_type": "code",
   "execution_count": 6,
   "id": "d237fb7d",
   "metadata": {
    "execution": {
     "iopub.execute_input": "2024-03-06T11:09:49.331890Z",
     "iopub.status.busy": "2024-03-06T11:09:49.331184Z",
     "iopub.status.idle": "2024-03-06T11:09:49.341406Z",
     "shell.execute_reply": "2024-03-06T11:09:49.339937Z"
    },
    "papermill": {
     "duration": 0.023867,
     "end_time": "2024-03-06T11:09:49.343644",
     "exception": false,
     "start_time": "2024-03-06T11:09:49.319777",
     "status": "completed"
    },
    "tags": []
   },
   "outputs": [
    {
     "name": "stdout",
     "output_type": "stream",
     "text": [
      "The result:  tensor([[ 6.],\n",
      "        [ 9.],\n",
      "        [12.]], grad_fn=<AddBackward0>)\n"
     ]
    }
   ],
   "source": [
    "# Make the prediction of X \n",
    "\n",
    "yhat = forward(X)\n",
    "print(\"The result: \", yhat)"
   ]
  },
  {
   "cell_type": "markdown",
   "id": "713f8996",
   "metadata": {
    "papermill": {
     "duration": 0.01004,
     "end_time": "2024-03-06T11:09:49.363724",
     "exception": false,
     "start_time": "2024-03-06T11:09:49.353684",
     "status": "completed"
    },
    "tags": []
   },
   "source": [
    "<!--Empty Space for separating topics-->\n"
   ]
  },
  {
   "cell_type": "markdown",
   "id": "3397a9e1",
   "metadata": {
    "papermill": {
     "duration": 0.009855,
     "end_time": "2024-03-06T11:09:49.447648",
     "exception": false,
     "start_time": "2024-03-06T11:09:49.437793",
     "status": "completed"
    },
    "tags": []
   },
   "source": [
    "<h2 id=\"Linear\">Class Linear</h2>\n"
   ]
  },
  {
   "cell_type": "markdown",
   "id": "1453df9b",
   "metadata": {
    "papermill": {
     "duration": 0.009824,
     "end_time": "2024-03-06T11:09:49.467951",
     "exception": false,
     "start_time": "2024-03-06T11:09:49.458127",
     "status": "completed"
    },
    "tags": []
   },
   "source": [
    "We can use the linear class to make a prediction. You'll also use the linear class to build more complex models.\n"
   ]
  },
  {
   "cell_type": "markdown",
   "id": "ffa883de",
   "metadata": {
    "papermill": {
     "duration": 0.011215,
     "end_time": "2024-03-06T11:09:49.489206",
     "exception": false,
     "start_time": "2024-03-06T11:09:49.477991",
     "status": "completed"
    },
    "tags": []
   },
   "source": [
    "Let us create a model.\n"
   ]
  },
  {
   "cell_type": "code",
   "execution_count": 7,
   "id": "af9c68c6",
   "metadata": {
    "execution": {
     "iopub.execute_input": "2024-03-06T11:09:49.511146Z",
     "iopub.status.busy": "2024-03-06T11:09:49.510753Z",
     "iopub.status.idle": "2024-03-06T11:09:49.521163Z",
     "shell.execute_reply": "2024-03-06T11:09:49.520304Z"
    },
    "papermill": {
     "duration": 0.023986,
     "end_time": "2024-03-06T11:09:49.523423",
     "exception": false,
     "start_time": "2024-03-06T11:09:49.499437",
     "status": "completed"
    },
    "tags": []
   },
   "outputs": [],
   "source": [
    "# Make a linear regression model using build-in function\n",
    "\n",
    "model = nn.Linear(2, 1)"
   ]
  },
  {
   "cell_type": "markdown",
   "id": "aa66f406",
   "metadata": {
    "papermill": {
     "duration": 0.009826,
     "end_time": "2024-03-06T11:09:49.543304",
     "exception": false,
     "start_time": "2024-03-06T11:09:49.533478",
     "status": "completed"
    },
    "tags": []
   },
   "source": [
    "Make a prediction with the first sample:\n"
   ]
  },
  {
   "cell_type": "code",
   "execution_count": 8,
   "id": "17add719",
   "metadata": {
    "execution": {
     "iopub.execute_input": "2024-03-06T11:09:49.565565Z",
     "iopub.status.busy": "2024-03-06T11:09:49.564585Z",
     "iopub.status.idle": "2024-03-06T11:09:49.574809Z",
     "shell.execute_reply": "2024-03-06T11:09:49.573303Z"
    },
    "papermill": {
     "duration": 0.023814,
     "end_time": "2024-03-06T11:09:49.577167",
     "exception": false,
     "start_time": "2024-03-06T11:09:49.553353",
     "status": "completed"
    },
    "tags": []
   },
   "outputs": [
    {
     "name": "stdout",
     "output_type": "stream",
     "text": [
      "The result:  tensor([[-0.3969]], grad_fn=<AddmmBackward0>)\n"
     ]
    }
   ],
   "source": [
    "# Make a prediction of x\n",
    "\n",
    "yhat = model(x)\n",
    "print(\"The result: \", yhat)"
   ]
  },
  {
   "cell_type": "markdown",
   "id": "289e7715",
   "metadata": {
    "papermill": {
     "duration": 0.010128,
     "end_time": "2024-03-06T11:09:49.597846",
     "exception": false,
     "start_time": "2024-03-06T11:09:49.587718",
     "status": "completed"
    },
    "tags": []
   },
   "source": [
    "Predict with multiple samples <code>X</code>: \n"
   ]
  },
  {
   "cell_type": "code",
   "execution_count": 9,
   "id": "c26bea36",
   "metadata": {
    "execution": {
     "iopub.execute_input": "2024-03-06T11:09:49.619761Z",
     "iopub.status.busy": "2024-03-06T11:09:49.619364Z",
     "iopub.status.idle": "2024-03-06T11:09:49.625647Z",
     "shell.execute_reply": "2024-03-06T11:09:49.624393Z"
    },
    "papermill": {
     "duration": 0.019815,
     "end_time": "2024-03-06T11:09:49.627711",
     "exception": false,
     "start_time": "2024-03-06T11:09:49.607896",
     "status": "completed"
    },
    "tags": []
   },
   "outputs": [
    {
     "name": "stdout",
     "output_type": "stream",
     "text": [
      "The result:  tensor([[-0.0848],\n",
      "        [-0.3969],\n",
      "        [-0.7090]], grad_fn=<AddmmBackward0>)\n"
     ]
    }
   ],
   "source": [
    "# Make a prediction of X\n",
    "\n",
    "yhat = model(X)\n",
    "print(\"The result: \", yhat)"
   ]
  },
  {
   "cell_type": "markdown",
   "id": "d9a0a241",
   "metadata": {
    "papermill": {
     "duration": 0.009935,
     "end_time": "2024-03-06T11:09:49.648424",
     "exception": false,
     "start_time": "2024-03-06T11:09:49.638489",
     "status": "completed"
    },
    "tags": []
   },
   "source": [
    "The function performs matrix multiplication as shown in this image:\n"
   ]
  },
  {
   "cell_type": "markdown",
   "id": "ed2f2799",
   "metadata": {
    "papermill": {
     "duration": 0.010233,
     "end_time": "2024-03-06T11:09:49.668693",
     "exception": false,
     "start_time": "2024-03-06T11:09:49.658460",
     "status": "completed"
    },
    "tags": []
   },
   "source": [
    "<img src=\"https://s3-api.us-geo.objectstorage.softlayer.net/cf-courses-data/CognitiveClass/DL0110EN/notebook_images%20/chapter2/2.6.1multi_sample_example.png\" width=\"600\" alt=\"Linear Regression Matrix Sample One\">\n"
   ]
  },
  {
   "cell_type": "markdown",
   "id": "9e678d7e",
   "metadata": {
    "papermill": {
     "duration": 0.0098,
     "end_time": "2024-03-06T11:09:49.689149",
     "exception": false,
     "start_time": "2024-03-06T11:09:49.679349",
     "status": "completed"
    },
    "tags": []
   },
   "source": [
    "<!--Empty Space for separating topics-->\n"
   ]
  },
  {
   "cell_type": "markdown",
   "id": "2ab861ee",
   "metadata": {
    "papermill": {
     "duration": 0.009887,
     "end_time": "2024-03-06T11:09:49.709215",
     "exception": false,
     "start_time": "2024-03-06T11:09:49.699328",
     "status": "completed"
    },
    "tags": []
   },
   "source": [
    "<h2 id=\"Cust\">Build Custom Modules </h2>\n"
   ]
  },
  {
   "cell_type": "markdown",
   "id": "7562a866",
   "metadata": {
    "papermill": {
     "duration": 0.009904,
     "end_time": "2024-03-06T11:09:49.729272",
     "exception": false,
     "start_time": "2024-03-06T11:09:49.719368",
     "status": "completed"
    },
    "tags": []
   },
   "source": [
    "Now, you'll build a custom module. You can make more complex models by using this method later. \n"
   ]
  },
  {
   "cell_type": "code",
   "execution_count": 10,
   "id": "2958033d",
   "metadata": {
    "execution": {
     "iopub.execute_input": "2024-03-06T11:09:49.751405Z",
     "iopub.status.busy": "2024-03-06T11:09:49.751045Z",
     "iopub.status.idle": "2024-03-06T11:09:49.756748Z",
     "shell.execute_reply": "2024-03-06T11:09:49.755656Z"
    },
    "papermill": {
     "duration": 0.019382,
     "end_time": "2024-03-06T11:09:49.758803",
     "exception": false,
     "start_time": "2024-03-06T11:09:49.739421",
     "status": "completed"
    },
    "tags": []
   },
   "outputs": [],
   "source": [
    "# Create linear_regression Class\n",
    "\n",
    "class linear_regression(nn.Module):\n",
    "    \n",
    "    # Constructor\n",
    "    def __init__(self, input_size, output_size):\n",
    "        super(linear_regression, self).__init__()\n",
    "        self.linear = nn.Linear(input_size, output_size)\n",
    "    \n",
    "    # Prediction function\n",
    "    def forward(self, x):\n",
    "        yhat = self.linear(x)\n",
    "        return yhat"
   ]
  },
  {
   "cell_type": "markdown",
   "id": "8b947d6e",
   "metadata": {
    "papermill": {
     "duration": 0.010093,
     "end_time": "2024-03-06T11:09:49.779345",
     "exception": false,
     "start_time": "2024-03-06T11:09:49.769252",
     "status": "completed"
    },
    "tags": []
   },
   "source": [
    "Build a linear regression object. The input feature size is two. \n"
   ]
  },
  {
   "cell_type": "code",
   "execution_count": 11,
   "id": "9682ea8a",
   "metadata": {
    "execution": {
     "iopub.execute_input": "2024-03-06T11:09:49.801758Z",
     "iopub.status.busy": "2024-03-06T11:09:49.801344Z",
     "iopub.status.idle": "2024-03-06T11:09:49.806327Z",
     "shell.execute_reply": "2024-03-06T11:09:49.805286Z"
    },
    "papermill": {
     "duration": 0.018875,
     "end_time": "2024-03-06T11:09:49.808533",
     "exception": false,
     "start_time": "2024-03-06T11:09:49.789658",
     "status": "completed"
    },
    "tags": []
   },
   "outputs": [],
   "source": [
    "model = linear_regression(2, 1)"
   ]
  },
  {
   "cell_type": "markdown",
   "id": "aaf3623e",
   "metadata": {
    "papermill": {
     "duration": 0.010177,
     "end_time": "2024-03-06T11:09:49.829035",
     "exception": false,
     "start_time": "2024-03-06T11:09:49.818858",
     "status": "completed"
    },
    "tags": []
   },
   "source": [
    "This will input the following equation:\n"
   ]
  },
  {
   "cell_type": "markdown",
   "id": "a1d1dbd2",
   "metadata": {
    "papermill": {
     "duration": 0.009851,
     "end_time": "2024-03-06T11:09:49.849246",
     "exception": false,
     "start_time": "2024-03-06T11:09:49.839395",
     "status": "completed"
    },
    "tags": []
   },
   "source": [
    "<img src=\"https://s3-api.us-geo.objectstorage.softlayer.net/cf-courses-data/CognitiveClass/DL0110EN/notebook_images%20/chapter2/2.6.1_matrix_eq.png\" width=\"600\" alt=\"Matrix Linear Regression\">\n"
   ]
  },
  {
   "cell_type": "markdown",
   "id": "b23c7dfe",
   "metadata": {
    "papermill": {
     "duration": 0.010415,
     "end_time": "2024-03-06T11:09:49.869857",
     "exception": false,
     "start_time": "2024-03-06T11:09:49.859442",
     "status": "completed"
    },
    "tags": []
   },
   "source": [
    "You can see the randomly initialized parameters by using the <code>parameters()</code> method:\n"
   ]
  },
  {
   "cell_type": "code",
   "execution_count": 12,
   "id": "8b28cf59",
   "metadata": {
    "execution": {
     "iopub.execute_input": "2024-03-06T11:09:49.892933Z",
     "iopub.status.busy": "2024-03-06T11:09:49.892530Z",
     "iopub.status.idle": "2024-03-06T11:09:49.898977Z",
     "shell.execute_reply": "2024-03-06T11:09:49.897879Z"
    },
    "papermill": {
     "duration": 0.020927,
     "end_time": "2024-03-06T11:09:49.901156",
     "exception": false,
     "start_time": "2024-03-06T11:09:49.880229",
     "status": "completed"
    },
    "tags": []
   },
   "outputs": [
    {
     "name": "stdout",
     "output_type": "stream",
     "text": [
      "The parameters:  [Parameter containing:\n",
      "tensor([[ 0.3319, -0.6657]], requires_grad=True), Parameter containing:\n",
      "tensor([0.4241], requires_grad=True)]\n"
     ]
    }
   ],
   "source": [
    "# Print model parameters\n",
    "\n",
    "print(\"The parameters: \", list(model.parameters()))"
   ]
  },
  {
   "cell_type": "markdown",
   "id": "5d2d242b",
   "metadata": {
    "papermill": {
     "duration": 0.01039,
     "end_time": "2024-03-06T11:09:49.922376",
     "exception": false,
     "start_time": "2024-03-06T11:09:49.911986",
     "status": "completed"
    },
    "tags": []
   },
   "source": [
    "You can also see the parameters by using the <code>state_dict()</code> method:\n"
   ]
  },
  {
   "cell_type": "code",
   "execution_count": 13,
   "id": "8c94d848",
   "metadata": {
    "execution": {
     "iopub.execute_input": "2024-03-06T11:09:49.945516Z",
     "iopub.status.busy": "2024-03-06T11:09:49.944654Z",
     "iopub.status.idle": "2024-03-06T11:09:49.950644Z",
     "shell.execute_reply": "2024-03-06T11:09:49.949787Z"
    },
    "papermill": {
     "duration": 0.020294,
     "end_time": "2024-03-06T11:09:49.953019",
     "exception": false,
     "start_time": "2024-03-06T11:09:49.932725",
     "status": "completed"
    },
    "tags": []
   },
   "outputs": [
    {
     "name": "stdout",
     "output_type": "stream",
     "text": [
      "The parameters:  OrderedDict([('linear.weight', tensor([[ 0.3319, -0.6657]])), ('linear.bias', tensor([0.4241]))])\n"
     ]
    }
   ],
   "source": [
    "# Print model parameters\n",
    "\n",
    "print(\"The parameters: \", model.state_dict())"
   ]
  },
  {
   "cell_type": "markdown",
   "id": "7a939487",
   "metadata": {
    "papermill": {
     "duration": 0.010027,
     "end_time": "2024-03-06T11:09:49.973469",
     "exception": false,
     "start_time": "2024-03-06T11:09:49.963442",
     "status": "completed"
    },
    "tags": []
   },
   "source": [
    "Now we input a 1x2 tensor, and we will get a 1x1 tensor.\n"
   ]
  },
  {
   "cell_type": "code",
   "execution_count": 14,
   "id": "9224d459",
   "metadata": {
    "execution": {
     "iopub.execute_input": "2024-03-06T11:09:49.996506Z",
     "iopub.status.busy": "2024-03-06T11:09:49.995599Z",
     "iopub.status.idle": "2024-03-06T11:09:50.002194Z",
     "shell.execute_reply": "2024-03-06T11:09:50.001117Z"
    },
    "papermill": {
     "duration": 0.020397,
     "end_time": "2024-03-06T11:09:50.004304",
     "exception": false,
     "start_time": "2024-03-06T11:09:49.983907",
     "status": "completed"
    },
    "tags": []
   },
   "outputs": [
    {
     "name": "stdout",
     "output_type": "stream",
     "text": [
      "The result:  tensor([[-0.5754]], grad_fn=<AddmmBackward0>)\n"
     ]
    }
   ],
   "source": [
    "# Make a prediction of x\n",
    "\n",
    "yhat = model(x)\n",
    "print(\"The result: \", yhat)"
   ]
  },
  {
   "cell_type": "markdown",
   "id": "c01574e9",
   "metadata": {
    "papermill": {
     "duration": 0.010551,
     "end_time": "2024-03-06T11:09:50.025323",
     "exception": false,
     "start_time": "2024-03-06T11:09:50.014772",
     "status": "completed"
    },
    "tags": []
   },
   "source": [
    "The shape of the output is shown in the following image: \n"
   ]
  },
  {
   "cell_type": "markdown",
   "id": "afc8dc94",
   "metadata": {
    "papermill": {
     "duration": 0.010104,
     "end_time": "2024-03-06T11:09:50.045855",
     "exception": false,
     "start_time": "2024-03-06T11:09:50.035751",
     "status": "completed"
    },
    "tags": []
   },
   "source": [
    "<img src=\"https://s3-api.us-geo.objectstorage.softlayer.net/cf-courses-data/CognitiveClass/DL0110EN/notebook_images%20/chapter2/2.6.1_matrix_eq.png\" width=\"600\" alt=\"Matrix Linear Regression\">\n"
   ]
  },
  {
   "cell_type": "markdown",
   "id": "1649a166",
   "metadata": {
    "papermill": {
     "duration": 0.010109,
     "end_time": "2024-03-06T11:09:50.066235",
     "exception": false,
     "start_time": "2024-03-06T11:09:50.056126",
     "status": "completed"
    },
    "tags": []
   },
   "source": [
    "Make a prediction for multiple samples:\n"
   ]
  },
  {
   "cell_type": "code",
   "execution_count": 15,
   "id": "c0f3e83d",
   "metadata": {
    "execution": {
     "iopub.execute_input": "2024-03-06T11:09:50.088849Z",
     "iopub.status.busy": "2024-03-06T11:09:50.088456Z",
     "iopub.status.idle": "2024-03-06T11:09:50.094490Z",
     "shell.execute_reply": "2024-03-06T11:09:50.093390Z"
    },
    "papermill": {
     "duration": 0.020017,
     "end_time": "2024-03-06T11:09:50.096782",
     "exception": false,
     "start_time": "2024-03-06T11:09:50.076765",
     "status": "completed"
    },
    "tags": []
   },
   "outputs": [
    {
     "name": "stdout",
     "output_type": "stream",
     "text": [
      "The result:  tensor([[ 0.0903],\n",
      "        [-0.5754],\n",
      "        [-1.2411]], grad_fn=<AddmmBackward0>)\n"
     ]
    }
   ],
   "source": [
    "# Make a prediction of X\n",
    "\n",
    "yhat = model(X)\n",
    "print(\"The result: \", yhat)"
   ]
  },
  {
   "cell_type": "markdown",
   "id": "b3b6b6f4",
   "metadata": {
    "papermill": {
     "duration": 0.010102,
     "end_time": "2024-03-06T11:09:50.117373",
     "exception": false,
     "start_time": "2024-03-06T11:09:50.107271",
     "status": "completed"
    },
    "tags": []
   },
   "source": [
    "The shape is shown in the following image: \n"
   ]
  },
  {
   "cell_type": "markdown",
   "id": "d77ef2a9",
   "metadata": {
    "papermill": {
     "duration": 0.010107,
     "end_time": "2024-03-06T11:09:50.138006",
     "exception": false,
     "start_time": "2024-03-06T11:09:50.127899",
     "status": "completed"
    },
    "tags": []
   },
   "source": [
    "<img src=\"https://s3-api.us-geo.objectstorage.softlayer.net/cf-courses-data/CognitiveClass/DL0110EN/notebook_images%20/chapter2/2.6.1Multi_sample.png\" width=\"600\" alt=\"Multiple Samples Linear Regression\">\n"
   ]
  },
  {
   "cell_type": "markdown",
   "id": "049d8933",
   "metadata": {
    "papermill": {
     "duration": 0.010097,
     "end_time": "2024-03-06T11:09:50.158835",
     "exception": false,
     "start_time": "2024-03-06T11:09:50.148738",
     "status": "completed"
    },
    "tags": []
   },
   "source": [
    "<!--Empty Space for separating topics-->\n"
   ]
  },
  {
   "cell_type": "markdown",
   "id": "69a5fdcb",
   "metadata": {
    "papermill": {
     "duration": 0.009966,
     "end_time": "2024-03-06T11:09:50.179081",
     "exception": false,
     "start_time": "2024-03-06T11:09:50.169115",
     "status": "completed"
    },
    "tags": []
   },
   "source": [
    "<h3>Practice</h3>\n"
   ]
  },
  {
   "cell_type": "markdown",
   "id": "440e2e73",
   "metadata": {
    "papermill": {
     "duration": 0.010354,
     "end_time": "2024-03-06T11:09:50.199816",
     "exception": false,
     "start_time": "2024-03-06T11:09:50.189462",
     "status": "completed"
    },
    "tags": []
   },
   "source": [
    "Build a model or object of type <code>linear_regression</code>. Using the <code>linear_regression</code> object will predict the following tensor: \n"
   ]
  },
  {
   "cell_type": "code",
   "execution_count": 16,
   "id": "1a4fb78d",
   "metadata": {
    "execution": {
     "iopub.execute_input": "2024-03-06T11:09:50.223469Z",
     "iopub.status.busy": "2024-03-06T11:09:50.222842Z",
     "iopub.status.idle": "2024-03-06T11:09:50.227520Z",
     "shell.execute_reply": "2024-03-06T11:09:50.226389Z"
    },
    "papermill": {
     "duration": 0.018823,
     "end_time": "2024-03-06T11:09:50.229697",
     "exception": false,
     "start_time": "2024-03-06T11:09:50.210874",
     "status": "completed"
    },
    "tags": []
   },
   "outputs": [],
   "source": [
    "# Practice: Build a model to predict the follow tensor.\n",
    "\n",
    "X = torch.tensor([[11.0, 12.0, 13, 14], [11, 12, 13, 14]])"
   ]
  },
  {
   "cell_type": "code",
   "execution_count": 17,
   "id": "d7b48930",
   "metadata": {
    "execution": {
     "iopub.execute_input": "2024-03-06T11:09:50.252983Z",
     "iopub.status.busy": "2024-03-06T11:09:50.252606Z",
     "iopub.status.idle": "2024-03-06T11:09:50.259270Z",
     "shell.execute_reply": "2024-03-06T11:09:50.258186Z"
    },
    "papermill": {
     "duration": 0.021024,
     "end_time": "2024-03-06T11:09:50.261528",
     "exception": false,
     "start_time": "2024-03-06T11:09:50.240504",
     "status": "completed"
    },
    "tags": []
   },
   "outputs": [
    {
     "name": "stdout",
     "output_type": "stream",
     "text": [
      "The result:  tensor([[2.1062],\n",
      "        [2.1062]], grad_fn=<AddmmBackward0>)\n"
     ]
    }
   ],
   "source": [
    "model = linear_regression(4, 1)\n",
    "yhat = model(X)\n",
    "print(\"The result: \", yhat)"
   ]
  }
 ],
 "metadata": {
  "kaggle": {
   "accelerator": "none",
   "dataSources": [],
   "dockerImageVersionId": 30664,
   "isGpuEnabled": false,
   "isInternetEnabled": true,
   "language": "python",
   "sourceType": "notebook"
  },
  "kernelspec": {
   "display_name": "Python 3",
   "language": "python",
   "name": "python3"
  },
  "language_info": {
   "codemirror_mode": {
    "name": "ipython",
    "version": 3
   },
   "file_extension": ".py",
   "mimetype": "text/x-python",
   "name": "python",
   "nbconvert_exporter": "python",
   "pygments_lexer": "ipython3",
   "version": "3.10.13"
  },
  "papermill": {
   "default_parameters": {},
   "duration": 8.273481,
   "end_time": "2024-03-06T11:09:51.093116",
   "environment_variables": {},
   "exception": null,
   "input_path": "__notebook__.ipynb",
   "output_path": "__notebook__.ipynb",
   "parameters": {},
   "start_time": "2024-03-06T11:09:42.819635",
   "version": "2.5.0"
  }
 },
 "nbformat": 4,
 "nbformat_minor": 5
}
