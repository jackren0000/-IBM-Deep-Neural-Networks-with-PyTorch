{
 "cells": [
  {
   "cell_type": "markdown",
   "id": "040bc3cc",
   "metadata": {
    "papermill": {
     "duration": 0.007293,
     "end_time": "2024-03-11T15:30:44.633032",
     "exception": false,
     "start_time": "2024-03-11T15:30:44.625739",
     "status": "completed"
    },
    "tags": []
   },
   "source": [
    "<p style=\"text-align:center\">\n",
    "    <a href=\"https://skills.network/?utm_medium=Exinfluencer&utm_source=Exinfluencer&utm_content=000026UJ&utm_term=10006555&utm_id=NA-SkillsNetwork-Channel-SkillsNetworkCoursesIBMDeveloperSkillsNetworkDL0110ENSkillsNetwork952-2022-01-01\" target=\"_blank\">\n",
    "    <img src=\"https://cf-courses-data.s3.us.cloud-object-storage.appdomain.cloud/assets/logos/SN_web_lightmode.png\" width=\"200\" alt=\"Skills Network Logo\"  />\n",
    "    </a>\n",
    "</p>\n"
   ]
  },
  {
   "cell_type": "markdown",
   "id": "1a8e20c8",
   "metadata": {
    "papermill": {
     "duration": 0.006448,
     "end_time": "2024-03-11T15:30:44.646369",
     "exception": false,
     "start_time": "2024-03-11T15:30:44.639921",
     "status": "completed"
    },
    "tags": []
   },
   "source": [
    "<h1>Batch Normalization with the MNIST Dataset</h1>\n"
   ]
  },
  {
   "cell_type": "markdown",
   "id": "2b977b9a",
   "metadata": {
    "papermill": {
     "duration": 0.006544,
     "end_time": "2024-03-11T15:30:44.659745",
     "exception": false,
     "start_time": "2024-03-11T15:30:44.653201",
     "status": "completed"
    },
    "tags": []
   },
   "source": [
    "\n",
    "<h3>Objective for this Notebook<h3>    \n",
    "<h5> 1. Define Several Neural Networks, Criterion function, Optimizer.</h5>\n",
    "<h5> 2. Train Neural Network using Batch Normalization and no Batch Normalization </h5>   \n",
    "\n"
   ]
  },
  {
   "cell_type": "markdown",
   "id": "316d698a",
   "metadata": {
    "papermill": {
     "duration": 0.006501,
     "end_time": "2024-03-11T15:30:44.672955",
     "exception": false,
     "start_time": "2024-03-11T15:30:44.666454",
     "status": "completed"
    },
    "tags": []
   },
   "source": [
    "<h2>Table of Contents</h2>\n",
    "In this lab, you will build a Neural Network using Batch Normalization and compare it to a Neural Network that does not use Batch Normalization. You will use the MNIST dataset to test your network. \n",
    "\n",
    "<ul>\n",
    "<li><a href=\"#Train_Func\">Neural Network Module and Training Function</a></li>\n",
    "<li><a href=\"#Makeup_Data\">Load Data </a></li>\n",
    "<li><a href=\"#NN\">Define Several Neural Networks, Criterion function, Optimizer</a></li>\n",
    "<li><a href=\"#Train\">Train Neural Network using Batch Normalization and no Batch Normalization</a></li>\n",
    "<li><a href=\"#Result\">Analyze Results</a></li>\n",
    "</ul>\n",
    "<p>Estimated Time Needed: <strong>25 min</strong></p>\n",
    "</div>\n",
    "\n",
    "<hr>\n"
   ]
  },
  {
   "cell_type": "markdown",
   "id": "4c5b0631",
   "metadata": {
    "papermill": {
     "duration": 0.006754,
     "end_time": "2024-03-11T15:30:44.686550",
     "exception": false,
     "start_time": "2024-03-11T15:30:44.679796",
     "status": "completed"
    },
    "tags": []
   },
   "source": [
    "<h2>Preparation</h2>\n"
   ]
  },
  {
   "cell_type": "markdown",
   "id": "8b90bdcf",
   "metadata": {
    "papermill": {
     "duration": 0.00642,
     "end_time": "2024-03-11T15:30:44.699739",
     "exception": false,
     "start_time": "2024-03-11T15:30:44.693319",
     "status": "completed"
    },
    "tags": []
   },
   "source": [
    "We'll need the following libraries:  \n"
   ]
  },
  {
   "cell_type": "code",
   "execution_count": 1,
   "id": "6290f8a7",
   "metadata": {
    "execution": {
     "iopub.execute_input": "2024-03-11T15:30:44.714753Z",
     "iopub.status.busy": "2024-03-11T15:30:44.714352Z",
     "iopub.status.idle": "2024-03-11T15:30:50.424746Z",
     "shell.execute_reply": "2024-03-11T15:30:50.423717Z"
    },
    "papermill": {
     "duration": 5.720145,
     "end_time": "2024-03-11T15:30:50.426598",
     "exception": false,
     "start_time": "2024-03-11T15:30:44.706453",
     "status": "completed"
    },
    "tags": []
   },
   "outputs": [
    {
     "data": {
      "text/plain": [
       "<torch._C.Generator at 0x7a176c3cb050>"
      ]
     },
     "execution_count": 1,
     "metadata": {},
     "output_type": "execute_result"
    }
   ],
   "source": [
    "# These are the libraries will be used for this lab.\n",
    "\n",
    "# Using the following line code to install the torchvision library\n",
    "# !mamba install -y torchvision\n",
    "\n",
    "import torch \n",
    "import torch.nn as nn\n",
    "import torchvision.transforms as transforms\n",
    "import torchvision.datasets as dsets\n",
    "import torch.nn.functional as F\n",
    "import matplotlib.pylab as plt\n",
    "import numpy as np\n",
    "torch.manual_seed(0)"
   ]
  },
  {
   "cell_type": "markdown",
   "id": "52b19020",
   "metadata": {
    "papermill": {
     "duration": 0.00681,
     "end_time": "2024-03-11T15:30:50.441880",
     "exception": false,
     "start_time": "2024-03-11T15:30:50.435070",
     "status": "completed"
    },
    "tags": []
   },
   "source": [
    "<!--Empty Space for separating topics-->\n"
   ]
  },
  {
   "cell_type": "markdown",
   "id": "bf10028f",
   "metadata": {
    "papermill": {
     "duration": 0.006824,
     "end_time": "2024-03-11T15:30:50.455812",
     "exception": false,
     "start_time": "2024-03-11T15:30:50.448988",
     "status": "completed"
    },
    "tags": []
   },
   "source": [
    "<h2 id=\"Train_Func\">Neural Network Module and Training Function</h2> \n"
   ]
  },
  {
   "cell_type": "markdown",
   "id": "5d58e060",
   "metadata": {
    "papermill": {
     "duration": 0.00658,
     "end_time": "2024-03-11T15:30:50.469264",
     "exception": false,
     "start_time": "2024-03-11T15:30:50.462684",
     "status": "completed"
    },
    "tags": []
   },
   "source": [
    "Define the neural network module or class \n"
   ]
  },
  {
   "cell_type": "markdown",
   "id": "a9299d24",
   "metadata": {
    "papermill": {
     "duration": 0.006688,
     "end_time": "2024-03-11T15:30:50.482944",
     "exception": false,
     "start_time": "2024-03-11T15:30:50.476256",
     "status": "completed"
    },
    "tags": []
   },
   "source": [
    " Neural Network Module with two hidden layers using Batch Normalization\n"
   ]
  },
  {
   "cell_type": "code",
   "execution_count": 2,
   "id": "10f46b7a",
   "metadata": {
    "execution": {
     "iopub.execute_input": "2024-03-11T15:30:50.499050Z",
     "iopub.status.busy": "2024-03-11T15:30:50.498049Z",
     "iopub.status.idle": "2024-03-11T15:30:50.506439Z",
     "shell.execute_reply": "2024-03-11T15:30:50.505870Z"
    },
    "papermill": {
     "duration": 0.018793,
     "end_time": "2024-03-11T15:30:50.508596",
     "exception": false,
     "start_time": "2024-03-11T15:30:50.489803",
     "status": "completed"
    },
    "tags": []
   },
   "outputs": [],
   "source": [
    "# Define the Neural Network Model using Batch Normalization\n",
    "\n",
    "class NetBatchNorm(nn.Module):\n",
    "    \n",
    "    # Constructor\n",
    "    def __init__(self, in_size, n_hidden1, n_hidden2, out_size):\n",
    "        super(NetBatchNorm, self).__init__()\n",
    "        self.linear1 = nn.Linear(in_size, n_hidden1)\n",
    "        self.linear2 = nn.Linear(n_hidden1, n_hidden2)\n",
    "        self.linear3 = nn.Linear(n_hidden2, out_size)\n",
    "        self.bn1 = nn.BatchNorm1d(n_hidden1)\n",
    "        self.bn2 = nn.BatchNorm1d(n_hidden2)\n",
    "        \n",
    "    # Prediction\n",
    "    def forward(self, x):\n",
    "        x = self.bn1(torch.sigmoid(self.linear1(x)))\n",
    "        x = self.bn2(torch.sigmoid(self.linear2(x)))\n",
    "        x = self.linear3(x)\n",
    "        return x\n",
    "    \n",
    "    # Activations, to analyze results \n",
    "    def activation(self, x):\n",
    "        out = []\n",
    "        z1 = self.bn1(self.linear1(x))\n",
    "        out.append(z1.detach().numpy().reshape(-1))\n",
    "        a1 = torch.sigmoid(z1)\n",
    "        out.append(a1.detach().numpy().reshape(-1).reshape(-1))\n",
    "        z2 = self.bn2(self.linear2(a1))\n",
    "        out.append(z2.detach().numpy().reshape(-1))\n",
    "        a2 = torch.sigmoid(z2)\n",
    "        out.append(a2.detach().numpy().reshape(-1))\n",
    "        return out"
   ]
  },
  {
   "cell_type": "markdown",
   "id": "b677439a",
   "metadata": {
    "papermill": {
     "duration": 0.007644,
     "end_time": "2024-03-11T15:30:50.523715",
     "exception": false,
     "start_time": "2024-03-11T15:30:50.516071",
     "status": "completed"
    },
    "tags": []
   },
   "source": [
    "Neural Network Module with two hidden layers with out Batch Normalization\n"
   ]
  },
  {
   "cell_type": "code",
   "execution_count": 3,
   "id": "f850848d",
   "metadata": {
    "execution": {
     "iopub.execute_input": "2024-03-11T15:30:50.540039Z",
     "iopub.status.busy": "2024-03-11T15:30:50.539420Z",
     "iopub.status.idle": "2024-03-11T15:30:50.547525Z",
     "shell.execute_reply": "2024-03-11T15:30:50.546268Z"
    },
    "papermill": {
     "duration": 0.019029,
     "end_time": "2024-03-11T15:30:50.550102",
     "exception": false,
     "start_time": "2024-03-11T15:30:50.531073",
     "status": "completed"
    },
    "tags": []
   },
   "outputs": [],
   "source": [
    "# Class Net for Neural Network Model\n",
    "\n",
    "class Net(nn.Module):\n",
    "    \n",
    "    # Constructor\n",
    "    def __init__(self, in_size, n_hidden1, n_hidden2, out_size):\n",
    "\n",
    "        super(Net, self).__init__()\n",
    "        self.linear1 = nn.Linear(in_size, n_hidden1)\n",
    "        self.linear2 = nn.Linear(n_hidden1, n_hidden2)\n",
    "        self.linear3 = nn.Linear(n_hidden2, out_size)\n",
    "    \n",
    "    # Prediction\n",
    "    def forward(self, x):\n",
    "        x = torch.sigmoid(self.linear1(x))\n",
    "        x = torch.sigmoid(self.linear2(x))\n",
    "        x = self.linear3(x)\n",
    "        return x\n",
    "    \n",
    "    # Activations, to analyze results \n",
    "    def activation(self, x):\n",
    "        out = []\n",
    "        z1 = self.linear1(x)\n",
    "        out.append(z1.detach().numpy().reshape(-1))\n",
    "        a1 = torch.sigmoid(z1)\n",
    "        out.append(a1.detach().numpy().reshape(-1).reshape(-1))\n",
    "        z2 = self.linear2(a1)\n",
    "        out.append(z2.detach().numpy().reshape(-1))\n",
    "        a2 = torch.sigmoid(z2)\n",
    "        out.append(a2.detach().numpy().reshape(-1))\n",
    "        return out \n"
   ]
  },
  {
   "cell_type": "markdown",
   "id": "85811b21",
   "metadata": {
    "papermill": {
     "duration": 0.007092,
     "end_time": "2024-03-11T15:30:50.565411",
     "exception": false,
     "start_time": "2024-03-11T15:30:50.558319",
     "status": "completed"
    },
    "tags": []
   },
   "source": [
    "Define a function to train the model. In this case the function returns a Python dictionary to store the training loss and accuracy on the validation data \n"
   ]
  },
  {
   "cell_type": "code",
   "execution_count": 4,
   "id": "bac2488a",
   "metadata": {
    "execution": {
     "iopub.execute_input": "2024-03-11T15:30:50.581899Z",
     "iopub.status.busy": "2024-03-11T15:30:50.581340Z",
     "iopub.status.idle": "2024-03-11T15:30:50.589175Z",
     "shell.execute_reply": "2024-03-11T15:30:50.587828Z"
    },
    "papermill": {
     "duration": 0.018972,
     "end_time": "2024-03-11T15:30:50.591794",
     "exception": false,
     "start_time": "2024-03-11T15:30:50.572822",
     "status": "completed"
    },
    "tags": []
   },
   "outputs": [],
   "source": [
    "# Define the function to train model\n",
    "\n",
    "def train(model, criterion, train_loader, validation_loader, optimizer, epochs=100):\n",
    "    i = 0\n",
    "    useful_stuff = {'training_loss':[], 'validation_accuracy':[]}  \n",
    "\n",
    "    for epoch in range(epochs):\n",
    "        for i, (x, y) in enumerate(train_loader):\n",
    "            model.train()\n",
    "            optimizer.zero_grad()\n",
    "            z = model(x.view(-1, 28 * 28))\n",
    "            loss = criterion(z, y)\n",
    "            loss.backward()\n",
    "            optimizer.step()\n",
    "            useful_stuff['training_loss'].append(loss.data.item())\n",
    "            \n",
    "        correct = 0\n",
    "        for x, y in validation_loader:\n",
    "            model.eval()\n",
    "            yhat = model(x.view(-1, 28 * 28))\n",
    "            _, label = torch.max(yhat, 1)\n",
    "            correct += (label == y).sum().item()\n",
    "            \n",
    "        accuracy = 100 * (correct / len(validation_dataset))\n",
    "        useful_stuff['validation_accuracy'].append(accuracy)\n",
    "    \n",
    "    return useful_stuff"
   ]
  },
  {
   "cell_type": "markdown",
   "id": "de1a7c90",
   "metadata": {
    "papermill": {
     "duration": 0.006804,
     "end_time": "2024-03-11T15:30:50.606114",
     "exception": false,
     "start_time": "2024-03-11T15:30:50.599310",
     "status": "completed"
    },
    "tags": []
   },
   "source": [
    "<!--Empty Space for separating topics-->\n"
   ]
  },
  {
   "cell_type": "markdown",
   "id": "49e43199",
   "metadata": {
    "papermill": {
     "duration": 0.006724,
     "end_time": "2024-03-11T15:30:50.619908",
     "exception": false,
     "start_time": "2024-03-11T15:30:50.613184",
     "status": "completed"
    },
    "tags": []
   },
   "source": [
    "<h2 id=\"Makeup_Data\">Make Some Data</h2> \n"
   ]
  },
  {
   "cell_type": "markdown",
   "id": "bac61fe2",
   "metadata": {
    "papermill": {
     "duration": 0.006866,
     "end_time": "2024-03-11T15:30:50.634082",
     "exception": false,
     "start_time": "2024-03-11T15:30:50.627216",
     "status": "completed"
    },
    "tags": []
   },
   "source": [
    "Load the training dataset by setting the parameters <code>train </code> to <code>True</code> and convert it to a tensor  by placing a transform object int the argument <code>transform</code>\n"
   ]
  },
  {
   "cell_type": "code",
   "execution_count": 5,
   "id": "66a27440",
   "metadata": {
    "execution": {
     "iopub.execute_input": "2024-03-11T15:30:50.649516Z",
     "iopub.status.busy": "2024-03-11T15:30:50.649150Z",
     "iopub.status.idle": "2024-03-11T15:30:51.651613Z",
     "shell.execute_reply": "2024-03-11T15:30:51.650898Z"
    },
    "papermill": {
     "duration": 1.012838,
     "end_time": "2024-03-11T15:30:51.653980",
     "exception": false,
     "start_time": "2024-03-11T15:30:50.641142",
     "status": "completed"
    },
    "tags": []
   },
   "outputs": [
    {
     "name": "stdout",
     "output_type": "stream",
     "text": [
      "Downloading http://yann.lecun.com/exdb/mnist/train-images-idx3-ubyte.gz\n",
      "Downloading http://yann.lecun.com/exdb/mnist/train-images-idx3-ubyte.gz to ./data/MNIST/raw/train-images-idx3-ubyte.gz\n"
     ]
    },
    {
     "name": "stderr",
     "output_type": "stream",
     "text": [
      "100%|██████████| 9912422/9912422 [00:00<00:00, 145146824.43it/s]\n"
     ]
    },
    {
     "name": "stdout",
     "output_type": "stream",
     "text": [
      "Extracting ./data/MNIST/raw/train-images-idx3-ubyte.gz to ./data/MNIST/raw\n",
      "\n",
      "Downloading http://yann.lecun.com/exdb/mnist/train-labels-idx1-ubyte.gz\n",
      "Downloading http://yann.lecun.com/exdb/mnist/train-labels-idx1-ubyte.gz to ./data/MNIST/raw/train-labels-idx1-ubyte.gz\n"
     ]
    },
    {
     "name": "stderr",
     "output_type": "stream",
     "text": [
      "100%|██████████| 28881/28881 [00:00<00:00, 60994810.59it/s]"
     ]
    },
    {
     "name": "stdout",
     "output_type": "stream",
     "text": [
      "Extracting ./data/MNIST/raw/train-labels-idx1-ubyte.gz to ./data/MNIST/raw\n",
      "\n",
      "Downloading http://yann.lecun.com/exdb/mnist/t10k-images-idx3-ubyte.gz\n"
     ]
    },
    {
     "name": "stderr",
     "output_type": "stream",
     "text": [
      "\n"
     ]
    },
    {
     "name": "stdout",
     "output_type": "stream",
     "text": [
      "Downloading http://yann.lecun.com/exdb/mnist/t10k-images-idx3-ubyte.gz to ./data/MNIST/raw/t10k-images-idx3-ubyte.gz\n"
     ]
    },
    {
     "name": "stderr",
     "output_type": "stream",
     "text": [
      "100%|██████████| 1648877/1648877 [00:00<00:00, 37827309.80it/s]\n"
     ]
    },
    {
     "name": "stdout",
     "output_type": "stream",
     "text": [
      "Extracting ./data/MNIST/raw/t10k-images-idx3-ubyte.gz to ./data/MNIST/raw\n",
      "\n",
      "Downloading http://yann.lecun.com/exdb/mnist/t10k-labels-idx1-ubyte.gz\n",
      "Downloading http://yann.lecun.com/exdb/mnist/t10k-labels-idx1-ubyte.gz to ./data/MNIST/raw/t10k-labels-idx1-ubyte.gz\n"
     ]
    },
    {
     "name": "stderr",
     "output_type": "stream",
     "text": [
      "100%|██████████| 4542/4542 [00:00<00:00, 14722201.52it/s]\n"
     ]
    },
    {
     "name": "stdout",
     "output_type": "stream",
     "text": [
      "Extracting ./data/MNIST/raw/t10k-labels-idx1-ubyte.gz to ./data/MNIST/raw\n",
      "\n"
     ]
    }
   ],
   "source": [
    "# load the train dataset\n",
    "\n",
    "train_dataset = dsets.MNIST(root='./data', train=True, download=True, transform=transforms.ToTensor())"
   ]
  },
  {
   "cell_type": "markdown",
   "id": "50a7eb69",
   "metadata": {
    "papermill": {
     "duration": 0.008098,
     "end_time": "2024-03-11T15:30:51.670972",
     "exception": false,
     "start_time": "2024-03-11T15:30:51.662874",
     "status": "completed"
    },
    "tags": []
   },
   "source": [
    "Load the validating dataset by setting the parameters train  <code>False</code> and convert it to a tensor by placing a transform object into the argument <code>transform</code>\n"
   ]
  },
  {
   "cell_type": "code",
   "execution_count": 6,
   "id": "464bc74b",
   "metadata": {
    "execution": {
     "iopub.execute_input": "2024-03-11T15:30:51.694247Z",
     "iopub.status.busy": "2024-03-11T15:30:51.693605Z",
     "iopub.status.idle": "2024-03-11T15:30:51.703580Z",
     "shell.execute_reply": "2024-03-11T15:30:51.702825Z"
    },
    "papermill": {
     "duration": 0.025848,
     "end_time": "2024-03-11T15:30:51.705922",
     "exception": false,
     "start_time": "2024-03-11T15:30:51.680074",
     "status": "completed"
    },
    "tags": []
   },
   "outputs": [],
   "source": [
    "# load the train dataset\n",
    "\n",
    "validation_dataset = dsets.MNIST(root='./data', train=False, download=True, transform=transforms.ToTensor())"
   ]
  },
  {
   "cell_type": "markdown",
   "id": "c35413ec",
   "metadata": {
    "papermill": {
     "duration": 0.007802,
     "end_time": "2024-03-11T15:30:51.722632",
     "exception": false,
     "start_time": "2024-03-11T15:30:51.714830",
     "status": "completed"
    },
    "tags": []
   },
   "source": [
    "create the training-data loader and the validation-data loader object \n"
   ]
  },
  {
   "cell_type": "code",
   "execution_count": 7,
   "id": "a484bd09",
   "metadata": {
    "execution": {
     "iopub.execute_input": "2024-03-11T15:30:51.742535Z",
     "iopub.status.busy": "2024-03-11T15:30:51.741923Z",
     "iopub.status.idle": "2024-03-11T15:30:51.746502Z",
     "shell.execute_reply": "2024-03-11T15:30:51.745825Z"
    },
    "papermill": {
     "duration": 0.0172,
     "end_time": "2024-03-11T15:30:51.748148",
     "exception": false,
     "start_time": "2024-03-11T15:30:51.730948",
     "status": "completed"
    },
    "tags": []
   },
   "outputs": [],
   "source": [
    "# Create Data Loader for both train and validating\n",
    "\n",
    "train_loader = torch.utils.data.DataLoader(dataset=train_dataset, batch_size=2000, shuffle=True)\n",
    "validation_loader = torch.utils.data.DataLoader(dataset=validation_dataset, batch_size=5000, shuffle=False)"
   ]
  },
  {
   "cell_type": "markdown",
   "id": "69b9600a",
   "metadata": {
    "papermill": {
     "duration": 0.007918,
     "end_time": "2024-03-11T15:30:51.764576",
     "exception": false,
     "start_time": "2024-03-11T15:30:51.756658",
     "status": "completed"
    },
    "tags": []
   },
   "source": [
    "<a id=\"ref3\"></a>\n",
    "<h2 align=center>Define Neural Network, Criterion function, Optimizer and Train the  Model  </h2> \n"
   ]
  },
  {
   "cell_type": "markdown",
   "id": "5f7a36e7",
   "metadata": {
    "papermill": {
     "duration": 0.007694,
     "end_time": "2024-03-11T15:30:51.780413",
     "exception": false,
     "start_time": "2024-03-11T15:30:51.772719",
     "status": "completed"
    },
    "tags": []
   },
   "source": [
    "Create the criterion function  \n"
   ]
  },
  {
   "cell_type": "code",
   "execution_count": 8,
   "id": "8c88cff5",
   "metadata": {
    "execution": {
     "iopub.execute_input": "2024-03-11T15:30:51.799006Z",
     "iopub.status.busy": "2024-03-11T15:30:51.798447Z",
     "iopub.status.idle": "2024-03-11T15:30:51.801907Z",
     "shell.execute_reply": "2024-03-11T15:30:51.801311Z"
    },
    "papermill": {
     "duration": 0.014591,
     "end_time": "2024-03-11T15:30:51.803382",
     "exception": false,
     "start_time": "2024-03-11T15:30:51.788791",
     "status": "completed"
    },
    "tags": []
   },
   "outputs": [],
   "source": [
    "# Create the criterion function\n",
    "\n",
    "criterion = nn.CrossEntropyLoss()"
   ]
  },
  {
   "cell_type": "markdown",
   "id": "24eb5f34",
   "metadata": {
    "papermill": {
     "duration": 0.007828,
     "end_time": "2024-03-11T15:30:51.819174",
     "exception": false,
     "start_time": "2024-03-11T15:30:51.811346",
     "status": "completed"
    },
    "tags": []
   },
   "source": [
    "Variables for Neural Network Shape <code> hidden_dim</code> used for number of neurons in both hidden layers.\n"
   ]
  },
  {
   "cell_type": "code",
   "execution_count": 9,
   "id": "d962840d",
   "metadata": {
    "execution": {
     "iopub.execute_input": "2024-03-11T15:30:51.836908Z",
     "iopub.status.busy": "2024-03-11T15:30:51.836551Z",
     "iopub.status.idle": "2024-03-11T15:30:51.841063Z",
     "shell.execute_reply": "2024-03-11T15:30:51.840213Z"
    },
    "papermill": {
     "duration": 0.015253,
     "end_time": "2024-03-11T15:30:51.842781",
     "exception": false,
     "start_time": "2024-03-11T15:30:51.827528",
     "status": "completed"
    },
    "tags": []
   },
   "outputs": [],
   "source": [
    "# Set the parameters\n",
    "\n",
    "input_dim = 28 * 28\n",
    "hidden_dim = 100\n",
    "output_dim = 10"
   ]
  },
  {
   "cell_type": "markdown",
   "id": "1c6f314c",
   "metadata": {
    "papermill": {
     "duration": 0.007864,
     "end_time": "2024-03-11T15:30:51.858733",
     "exception": false,
     "start_time": "2024-03-11T15:30:51.850869",
     "status": "completed"
    },
    "tags": []
   },
   "source": [
    "<!--Empty Space for separating topics-->\n"
   ]
  },
  {
   "cell_type": "markdown",
   "id": "cad32701",
   "metadata": {
    "papermill": {
     "duration": 0.007632,
     "end_time": "2024-03-11T15:30:51.874435",
     "exception": false,
     "start_time": "2024-03-11T15:30:51.866803",
     "status": "completed"
    },
    "tags": []
   },
   "source": [
    "<h2 id=\"Train\">Train Neural Network using Batch Normalization and no Batch Normalization </h2> \n"
   ]
  },
  {
   "cell_type": "markdown",
   "id": "3aecaf3b",
   "metadata": {
    "papermill": {
     "duration": 0.007699,
     "end_time": "2024-03-11T15:30:51.890110",
     "exception": false,
     "start_time": "2024-03-11T15:30:51.882411",
     "status": "completed"
    },
    "tags": []
   },
   "source": [
    "Train Neural Network using  Batch Normalization :\n"
   ]
  },
  {
   "cell_type": "code",
   "execution_count": 10,
   "id": "8911ab68",
   "metadata": {
    "execution": {
     "iopub.execute_input": "2024-03-11T15:30:51.907341Z",
     "iopub.status.busy": "2024-03-11T15:30:51.907051Z",
     "iopub.status.idle": "2024-03-11T15:31:28.045079Z",
     "shell.execute_reply": "2024-03-11T15:31:28.044314Z"
    },
    "papermill": {
     "duration": 36.149083,
     "end_time": "2024-03-11T15:31:28.047257",
     "exception": false,
     "start_time": "2024-03-11T15:30:51.898174",
     "status": "completed"
    },
    "tags": []
   },
   "outputs": [],
   "source": [
    "# Create model, optimizer and train the model\n",
    "\n",
    "model_norm  = NetBatchNorm(input_dim, hidden_dim, hidden_dim, output_dim)\n",
    "optimizer = torch.optim.Adam(model_norm.parameters(), lr = 0.1)\n",
    "training_results_Norm=train(model_norm , criterion, train_loader, validation_loader, optimizer, epochs=5)"
   ]
  },
  {
   "cell_type": "markdown",
   "id": "c056a8ec",
   "metadata": {
    "papermill": {
     "duration": 0.00807,
     "end_time": "2024-03-11T15:31:28.064114",
     "exception": false,
     "start_time": "2024-03-11T15:31:28.056044",
     "status": "completed"
    },
    "tags": []
   },
   "source": [
    "Train Neural Network with no Batch Normalization:\n"
   ]
  },
  {
   "cell_type": "code",
   "execution_count": 11,
   "id": "90783be5",
   "metadata": {
    "execution": {
     "iopub.execute_input": "2024-03-11T15:31:28.082501Z",
     "iopub.status.busy": "2024-03-11T15:31:28.081914Z",
     "iopub.status.idle": "2024-03-11T15:32:03.566742Z",
     "shell.execute_reply": "2024-03-11T15:32:03.565566Z"
    },
    "papermill": {
     "duration": 35.496716,
     "end_time": "2024-03-11T15:32:03.569170",
     "exception": false,
     "start_time": "2024-03-11T15:31:28.072454",
     "status": "completed"
    },
    "tags": []
   },
   "outputs": [],
   "source": [
    "# Create model without Batch Normalization, optimizer and train the model\n",
    "\n",
    "model = Net(input_dim, hidden_dim, hidden_dim, output_dim)\n",
    "optimizer = torch.optim.Adam(model.parameters(), lr = 0.1)\n",
    "training_results = train(model, criterion, train_loader, validation_loader, optimizer, epochs=5)"
   ]
  },
  {
   "cell_type": "markdown",
   "id": "a1002953",
   "metadata": {
    "papermill": {
     "duration": 0.008523,
     "end_time": "2024-03-11T15:32:03.587050",
     "exception": false,
     "start_time": "2024-03-11T15:32:03.578527",
     "status": "completed"
    },
    "tags": []
   },
   "source": [
    "<h2 id=\"Result\">Analyze Results</h2> \n"
   ]
  },
  {
   "cell_type": "markdown",
   "id": "9497e22e",
   "metadata": {
    "papermill": {
     "duration": 0.008144,
     "end_time": "2024-03-11T15:32:03.603769",
     "exception": false,
     "start_time": "2024-03-11T15:32:03.595625",
     "status": "completed"
    },
    "tags": []
   },
   "source": [
    "Compare the histograms of the activation for the first layer of the first sample, for both models.\n"
   ]
  },
  {
   "cell_type": "code",
   "execution_count": 12,
   "id": "b624af7c",
   "metadata": {
    "execution": {
     "iopub.execute_input": "2024-03-11T15:32:03.624859Z",
     "iopub.status.busy": "2024-03-11T15:32:03.624526Z",
     "iopub.status.idle": "2024-03-11T15:32:03.868396Z",
     "shell.execute_reply": "2024-03-11T15:32:03.867319Z"
    },
    "papermill": {
     "duration": 0.258067,
     "end_time": "2024-03-11T15:32:03.870406",
     "exception": false,
     "start_time": "2024-03-11T15:32:03.612339",
     "status": "completed"
    },
    "tags": []
   },
   "outputs": [
    {
     "data": {
      "image/png": "[encoded data removed]",
      "text/plain": [
       "<Figure size 640x480 with 1 Axes>"
      ]
     },
     "metadata": {},
     "output_type": "display_data"
    }
   ],
   "source": [
    "model.eval()\n",
    "model_norm.eval()\n",
    "out=model.activation(validation_dataset[0][0].reshape(-1,28*28))\n",
    "plt.hist(out[2],label='model with no batch normalization' )\n",
    "out_norm=model_norm.activation(validation_dataset[0][0].reshape(-1,28*28))\n",
    "plt.hist(out_norm[2],label='model with normalization')\n",
    "plt.xlabel(\"activation \")\n",
    "plt.legend()\n",
    "plt.show()"
   ]
  },
  {
   "cell_type": "markdown",
   "id": "978fb12c",
   "metadata": {
    "papermill": {
     "duration": 0.008312,
     "end_time": "2024-03-11T15:32:03.887601",
     "exception": false,
     "start_time": "2024-03-11T15:32:03.879289",
     "status": "completed"
    },
    "tags": []
   },
   "source": [
    "<!--Empty Space for separating topics-->\n"
   ]
  },
  {
   "cell_type": "markdown",
   "id": "9fb437fb",
   "metadata": {
    "papermill": {
     "duration": 0.00831,
     "end_time": "2024-03-11T15:32:03.904569",
     "exception": false,
     "start_time": "2024-03-11T15:32:03.896259",
     "status": "completed"
    },
    "tags": []
   },
   "source": [
    "We see the activations with Batch Normalization are zero centred and have a smaller variance.\n"
   ]
  },
  {
   "cell_type": "markdown",
   "id": "7d09cb2f",
   "metadata": {
    "papermill": {
     "duration": 0.008297,
     "end_time": "2024-03-11T15:32:03.922729",
     "exception": false,
     "start_time": "2024-03-11T15:32:03.914432",
     "status": "completed"
    },
    "tags": []
   },
   "source": [
    "Compare the training loss for each iteration\n"
   ]
  },
  {
   "cell_type": "code",
   "execution_count": 13,
   "id": "99566236",
   "metadata": {
    "execution": {
     "iopub.execute_input": "2024-03-11T15:32:03.941059Z",
     "iopub.status.busy": "2024-03-11T15:32:03.940708Z",
     "iopub.status.idle": "2024-03-11T15:32:04.137328Z",
     "shell.execute_reply": "2024-03-11T15:32:04.136645Z"
    },
    "papermill": {
     "duration": 0.208159,
     "end_time": "2024-03-11T15:32:04.139316",
     "exception": false,
     "start_time": "2024-03-11T15:32:03.931157",
     "status": "completed"
    },
    "tags": []
   },
   "outputs": [
    {
     "data": {
      "image/png": "[encoded data removed]",
      "text/plain": [
       "<Figure size 640x480 with 1 Axes>"
      ]
     },
     "metadata": {},
     "output_type": "display_data"
    }
   ],
   "source": [
    "# Plot the diagram to show the loss\n",
    "\n",
    "plt.plot(training_results['training_loss'], label='No Batch Normalization')\n",
    "plt.plot(training_results_Norm['training_loss'], label='Batch Normalization')\n",
    "plt.ylabel('Cost')\n",
    "plt.xlabel('iterations ')   \n",
    "plt.legend()\n",
    "plt.show()"
   ]
  },
  {
   "cell_type": "markdown",
   "id": "66206fec",
   "metadata": {
    "papermill": {
     "duration": 0.008724,
     "end_time": "2024-03-11T15:32:04.157517",
     "exception": false,
     "start_time": "2024-03-11T15:32:04.148793",
     "status": "completed"
    },
    "tags": []
   },
   "source": [
    "Compare the validating accuracy for each iteration\n"
   ]
  },
  {
   "cell_type": "code",
   "execution_count": 14,
   "id": "33732329",
   "metadata": {
    "execution": {
     "iopub.execute_input": "2024-03-11T15:32:04.177941Z",
     "iopub.status.busy": "2024-03-11T15:32:04.176840Z",
     "iopub.status.idle": "2024-03-11T15:32:04.361927Z",
     "shell.execute_reply": "2024-03-11T15:32:04.360546Z"
    },
    "papermill": {
     "duration": 0.197602,
     "end_time": "2024-03-11T15:32:04.364259",
     "exception": false,
     "start_time": "2024-03-11T15:32:04.166657",
     "status": "completed"
    },
    "tags": []
   },
   "outputs": [
    {
     "data": {
      "image/png": "[encoded data removed]",
      "text/plain": [
       "<Figure size 640x480 with 1 Axes>"
      ]
     },
     "metadata": {},
     "output_type": "display_data"
    }
   ],
   "source": [
    "# Plot the diagram to show the accuracy\n",
    "\n",
    "plt.plot(training_results['validation_accuracy'],label='No Batch Normalization')\n",
    "plt.plot(training_results_Norm['validation_accuracy'],label='Batch Normalization')\n",
    "plt.ylabel('validation accuracy')\n",
    "plt.xlabel('epochs ')   \n",
    "plt.legend()\n",
    "plt.show()"
   ]
  }
 ],
 "metadata": {
  "kaggle": {
   "accelerator": "none",
   "dataSources": [],
   "dockerImageVersionId": 30664,
   "isGpuEnabled": false,
   "isInternetEnabled": true,
   "language": "python",
   "sourceType": "notebook"
  },
  "kernelspec": {
   "display_name": "Python 3",
   "language": "python",
   "name": "python3"
  },
  "language_info": {
   "codemirror_mode": {
    "name": "ipython",
    "version": 3
   },
   "file_extension": ".py",
   "mimetype": "text/x-python",
   "name": "python",
   "nbconvert_exporter": "python",
   "pygments_lexer": "ipython3",
   "version": "3.10.13"
  },
  "papermill": {
   "default_parameters": {},
   "duration": 83.186031,
   "end_time": "2024-03-11T15:32:05.547170",
   "environment_variables": {},
   "exception": null,
   "input_path": "__notebook__.ipynb",
   "output_path": "__notebook__.ipynb",
   "parameters": {},
   "start_time": "2024-03-11T15:30:42.361139",
   "version": "2.5.0"
  }
 },
 "nbformat": 4,
 "nbformat_minor": 5
}
