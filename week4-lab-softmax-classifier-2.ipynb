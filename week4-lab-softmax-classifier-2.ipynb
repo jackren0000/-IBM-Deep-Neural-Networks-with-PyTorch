{
 "cells": [
  {
   "cell_type": "markdown",
   "id": "46a1be08",
   "metadata": {
    "papermill": {
     "duration": 0.012068,
     "end_time": "2024-03-07T00:11:19.832471",
     "exception": false,
     "start_time": "2024-03-07T00:11:19.820403",
     "status": "completed"
    },
    "tags": []
   },
   "source": [
    "<p style=\"text-align:center\">\n",
    "    <a href=\"https://skills.network/?utm_medium=Exinfluencer&utm_source=Exinfluencer&utm_content=000026UJ&utm_term=10006555&utm_id=NA-SkillsNetwork-Channel-SkillsNetworkCoursesIBMDeveloperSkillsNetworkDL0110ENSkillsNetwork952-2022-01-01\" target=\"_blank\">\n",
    "    <img src=\"https://cf-courses-data.s3.us.cloud-object-storage.appdomain.cloud/assets/logos/SN_web_lightmode.png\" width=\"200\" alt=\"Skills Network Logo\"  />\n",
    "    </a>\n",
    "</p>\n"
   ]
  },
  {
   "cell_type": "markdown",
   "id": "76925f75",
   "metadata": {
    "papermill": {
     "duration": 0.009538,
     "end_time": "2024-03-07T00:11:19.852233",
     "exception": false,
     "start_time": "2024-03-07T00:11:19.842695",
     "status": "completed"
    },
    "tags": []
   },
   "source": [
    "<h1>Softmax Classifier</h1>\n"
   ]
  },
  {
   "cell_type": "markdown",
   "id": "1c468e11",
   "metadata": {
    "papermill": {
     "duration": 0.009497,
     "end_time": "2024-03-07T00:11:19.871724",
     "exception": false,
     "start_time": "2024-03-07T00:11:19.862227",
     "status": "completed"
    },
    "tags": []
   },
   "source": [
    "<h2>Objective</h2><ul><li> How to classify handwritten digits from the MNIST database by using Softmax classifier.</li></ul> \n"
   ]
  },
  {
   "cell_type": "markdown",
   "id": "da6349a2",
   "metadata": {
    "papermill": {
     "duration": 0.009893,
     "end_time": "2024-03-07T00:11:19.892445",
     "exception": false,
     "start_time": "2024-03-07T00:11:19.882552",
     "status": "completed"
    },
    "tags": []
   },
   "source": [
    "<h2>Table of Contents</h2>\n",
    "<p>In this lab, you will use a single layer Softmax to classify handwritten digits from the MNIST database.</p>\n",
    "\n",
    "<ul>\n",
    "    <li><a href=\"#Makeup_Data\">Make some Data</a></li>\n",
    "    <li><a href=\"#Classifier\">Softmax Classifier</a></li>\n",
    "    <li><a href=\"#Model\">Define Softmax, Criterion Function, Optimizer, and Train the Model</a></li>\n",
    "    <li><a href=\"#Result\">Analyze Results</a></li>\n",
    "</ul>\n",
    "<p>Estimated Time Needed: <strong>25 min</strong></p>\n",
    "\n",
    "<hr>\n"
   ]
  },
  {
   "cell_type": "markdown",
   "id": "c1510431",
   "metadata": {
    "papermill": {
     "duration": 0.009448,
     "end_time": "2024-03-07T00:11:19.911627",
     "exception": false,
     "start_time": "2024-03-07T00:11:19.902179",
     "status": "completed"
    },
    "tags": []
   },
   "source": [
    "<h2>Preparation</h2>\n"
   ]
  },
  {
   "cell_type": "markdown",
   "id": "8aa81e67",
   "metadata": {
    "papermill": {
     "duration": 0.009769,
     "end_time": "2024-03-07T00:11:19.932304",
     "exception": false,
     "start_time": "2024-03-07T00:11:19.922535",
     "status": "completed"
    },
    "tags": []
   },
   "source": [
    "We'll need the following libraries\n"
   ]
  },
  {
   "cell_type": "code",
   "execution_count": 1,
   "id": "51914944",
   "metadata": {
    "execution": {
     "iopub.execute_input": "2024-03-07T00:11:19.954480Z",
     "iopub.status.busy": "2024-03-07T00:11:19.953902Z",
     "iopub.status.idle": "2024-03-07T00:11:26.624305Z",
     "shell.execute_reply": "2024-03-07T00:11:26.623345Z"
    },
    "papermill": {
     "duration": 6.684112,
     "end_time": "2024-03-07T00:11:26.626848",
     "exception": false,
     "start_time": "2024-03-07T00:11:19.942736",
     "status": "completed"
    },
    "tags": []
   },
   "outputs": [],
   "source": [
    "# Import the libraries we need for this lab\n",
    "\n",
    "# Using the following line code to install the torchvision library\n",
    "# !mamba install -y torchvision\n",
    "\n",
    "# !pip install torchvision==0.9.1 torch==1.8.1 \n",
    "import torch \n",
    "import torch.nn as nn\n",
    "import torchvision.transforms as transforms\n",
    "import torchvision.datasets as dsets\n",
    "import matplotlib.pyplot as plt\n",
    "import numpy as np"
   ]
  },
  {
   "cell_type": "markdown",
   "id": "4c1a318e",
   "metadata": {
    "papermill": {
     "duration": 0.01012,
     "end_time": "2024-03-07T00:11:26.647614",
     "exception": false,
     "start_time": "2024-03-07T00:11:26.637494",
     "status": "completed"
    },
    "tags": []
   },
   "source": [
    "Use the following function to plot out the parameters of the Softmax function:\n"
   ]
  },
  {
   "cell_type": "code",
   "execution_count": 2,
   "id": "7dd9cb41",
   "metadata": {
    "execution": {
     "iopub.execute_input": "2024-03-07T00:11:26.670344Z",
     "iopub.status.busy": "2024-03-07T00:11:26.669641Z",
     "iopub.status.idle": "2024-03-07T00:11:26.676748Z",
     "shell.execute_reply": "2024-03-07T00:11:26.675394Z"
    },
    "papermill": {
     "duration": 0.021223,
     "end_time": "2024-03-07T00:11:26.679127",
     "exception": false,
     "start_time": "2024-03-07T00:11:26.657904",
     "status": "completed"
    },
    "tags": []
   },
   "outputs": [],
   "source": [
    "# The function to plot parameters\n",
    "\n",
    "def PlotParameters(model): \n",
    "    W = model.state_dict()['linear.weight'].data\n",
    "    w_min = W.min().item()\n",
    "    w_max = W.max().item()\n",
    "    fig, axes = plt.subplots(2, 5)\n",
    "    fig.subplots_adjust(hspace=0.01, wspace=0.1)\n",
    "    for i, ax in enumerate(axes.flat):\n",
    "        if i < 10:\n",
    "            \n",
    "            # Set the label for the sub-plot.\n",
    "            ax.set_xlabel(\"class: {0}\".format(i))\n",
    "\n",
    "            # Plot the image.\n",
    "            ax.imshow(W[i, :].view(28, 28), vmin=w_min, vmax=w_max, cmap='seismic')\n",
    "\n",
    "            ax.set_xticks([])\n",
    "            ax.set_yticks([])\n",
    "\n",
    "        # Ensure the plot is shown correctly with multiple plots\n",
    "        # in a single Notebook cell.\n",
    "    plt.show()"
   ]
  },
  {
   "cell_type": "markdown",
   "id": "4446d197",
   "metadata": {
    "papermill": {
     "duration": 0.010129,
     "end_time": "2024-03-07T00:11:26.699525",
     "exception": false,
     "start_time": "2024-03-07T00:11:26.689396",
     "status": "completed"
    },
    "tags": []
   },
   "source": [
    "Use the following function to visualize the data: \n"
   ]
  },
  {
   "cell_type": "code",
   "execution_count": 3,
   "id": "e4d2d342",
   "metadata": {
    "execution": {
     "iopub.execute_input": "2024-03-07T00:11:26.721635Z",
     "iopub.status.busy": "2024-03-07T00:11:26.721317Z",
     "iopub.status.idle": "2024-03-07T00:11:26.726128Z",
     "shell.execute_reply": "2024-03-07T00:11:26.725137Z"
    },
    "papermill": {
     "duration": 0.018124,
     "end_time": "2024-03-07T00:11:26.727874",
     "exception": false,
     "start_time": "2024-03-07T00:11:26.709750",
     "status": "completed"
    },
    "tags": []
   },
   "outputs": [],
   "source": [
    "# Plot the data\n",
    "\n",
    "def show_data(data_sample):\n",
    "    plt.imshow(data_sample[0].numpy().reshape(28, 28), cmap='gray')\n",
    "    plt.title('y = ' + str(data_sample[1]))"
   ]
  },
  {
   "cell_type": "markdown",
   "id": "d9a73fae",
   "metadata": {
    "papermill": {
     "duration": 0.009901,
     "end_time": "2024-03-07T00:11:26.748197",
     "exception": false,
     "start_time": "2024-03-07T00:11:26.738296",
     "status": "completed"
    },
    "tags": []
   },
   "source": [
    "<!--Empty Space for separating topics-->\n"
   ]
  },
  {
   "cell_type": "markdown",
   "id": "ada14449",
   "metadata": {
    "papermill": {
     "duration": 0.009774,
     "end_time": "2024-03-07T00:11:26.768005",
     "exception": false,
     "start_time": "2024-03-07T00:11:26.758231",
     "status": "completed"
    },
    "tags": []
   },
   "source": [
    "<h2 id=\"Makeup_Data\">Make Some Data</h2> \n"
   ]
  },
  {
   "cell_type": "markdown",
   "id": "3f1247ec",
   "metadata": {
    "papermill": {
     "duration": 0.009986,
     "end_time": "2024-03-07T00:11:26.788074",
     "exception": false,
     "start_time": "2024-03-07T00:11:26.778088",
     "status": "completed"
    },
    "tags": []
   },
   "source": [
    "Load the training dataset by setting the parameters <code>train</code> to <code>True</code> and convert it to a tensor by placing a transform object in the argument <code>transform</code>.\n"
   ]
  },
  {
   "cell_type": "code",
   "execution_count": 4,
   "id": "fcadb24e",
   "metadata": {
    "execution": {
     "iopub.execute_input": "2024-03-07T00:11:26.810026Z",
     "iopub.status.busy": "2024-03-07T00:11:26.809423Z",
     "iopub.status.idle": "2024-03-07T00:11:27.552716Z",
     "shell.execute_reply": "2024-03-07T00:11:27.551989Z"
    },
    "papermill": {
     "duration": 0.756428,
     "end_time": "2024-03-07T00:11:27.554727",
     "exception": false,
     "start_time": "2024-03-07T00:11:26.798299",
     "status": "completed"
    },
    "tags": []
   },
   "outputs": [
    {
     "name": "stdout",
     "output_type": "stream",
     "text": [
      "Downloading http://yann.lecun.com/exdb/mnist/train-images-idx3-ubyte.gz\n",
      "Downloading http://yann.lecun.com/exdb/mnist/train-images-idx3-ubyte.gz to ./data/MNIST/raw/train-images-idx3-ubyte.gz\n"
     ]
    },
    {
     "name": "stderr",
     "output_type": "stream",
     "text": [
      "100%|██████████| 9912422/9912422 [00:00<00:00, 252569459.18it/s]"
     ]
    },
    {
     "name": "stdout",
     "output_type": "stream",
     "text": [
      "Extracting ./data/MNIST/raw/train-images-idx3-ubyte.gz to ./data/MNIST/raw\n"
     ]
    },
    {
     "name": "stderr",
     "output_type": "stream",
     "text": [
      "\n"
     ]
    },
    {
     "name": "stdout",
     "output_type": "stream",
     "text": [
      "\n",
      "Downloading http://yann.lecun.com/exdb/mnist/train-labels-idx1-ubyte.gz\n",
      "Downloading http://yann.lecun.com/exdb/mnist/train-labels-idx1-ubyte.gz to ./data/MNIST/raw/train-labels-idx1-ubyte.gz\n"
     ]
    },
    {
     "name": "stderr",
     "output_type": "stream",
     "text": [
      "100%|██████████| 28881/28881 [00:00<00:00, 42743716.95it/s]\n"
     ]
    },
    {
     "name": "stdout",
     "output_type": "stream",
     "text": [
      "Extracting ./data/MNIST/raw/train-labels-idx1-ubyte.gz to ./data/MNIST/raw\n",
      "\n",
      "Downloading http://yann.lecun.com/exdb/mnist/t10k-images-idx3-ubyte.gz\n",
      "Downloading http://yann.lecun.com/exdb/mnist/t10k-images-idx3-ubyte.gz to ./data/MNIST/raw/t10k-images-idx3-ubyte.gz\n"
     ]
    },
    {
     "name": "stderr",
     "output_type": "stream",
     "text": [
      "100%|██████████| 1648877/1648877 [00:00<00:00, 62763330.58it/s]"
     ]
    },
    {
     "name": "stdout",
     "output_type": "stream",
     "text": [
      "Extracting ./data/MNIST/raw/t10k-images-idx3-ubyte.gz to ./data/MNIST/raw\n",
      "\n",
      "Downloading http://yann.lecun.com/exdb/mnist/t10k-labels-idx1-ubyte.gz\n"
     ]
    },
    {
     "name": "stderr",
     "output_type": "stream",
     "text": [
      "\n"
     ]
    },
    {
     "name": "stdout",
     "output_type": "stream",
     "text": [
      "Downloading http://yann.lecun.com/exdb/mnist/t10k-labels-idx1-ubyte.gz to ./data/MNIST/raw/t10k-labels-idx1-ubyte.gz\n"
     ]
    },
    {
     "name": "stderr",
     "output_type": "stream",
     "text": [
      "100%|██████████| 4542/4542 [00:00<00:00, 9845234.51it/s]\n"
     ]
    },
    {
     "name": "stdout",
     "output_type": "stream",
     "text": [
      "Extracting ./data/MNIST/raw/t10k-labels-idx1-ubyte.gz to ./data/MNIST/raw\n",
      "\n",
      "Print the training dataset:\n",
      "  Dataset MNIST\n",
      "    Number of datapoints: 60000\n",
      "    Root location: ./data\n",
      "    Split: Train\n",
      "    StandardTransform\n",
      "Transform: ToTensor()\n"
     ]
    }
   ],
   "source": [
    "# Create and print the training dataset\n",
    "\n",
    "train_dataset = dsets.MNIST(root='./data', train=True, download=True, transform=transforms.ToTensor())\n",
    "print(\"Print the training dataset:\\n \", train_dataset)"
   ]
  },
  {
   "cell_type": "markdown",
   "id": "b5040703",
   "metadata": {
    "papermill": {
     "duration": 0.012437,
     "end_time": "2024-03-07T00:11:27.580502",
     "exception": false,
     "start_time": "2024-03-07T00:11:27.568065",
     "status": "completed"
    },
    "tags": []
   },
   "source": [
    "Load the testing dataset and convert it to a tensor by placing a transform object in the argument <code>transform</code>.\n"
   ]
  },
  {
   "cell_type": "code",
   "execution_count": 5,
   "id": "ac926340",
   "metadata": {
    "execution": {
     "iopub.execute_input": "2024-03-07T00:11:27.607657Z",
     "iopub.status.busy": "2024-03-07T00:11:27.607263Z",
     "iopub.status.idle": "2024-03-07T00:11:27.659656Z",
     "shell.execute_reply": "2024-03-07T00:11:27.658480Z"
    },
    "papermill": {
     "duration": 0.070138,
     "end_time": "2024-03-07T00:11:27.662443",
     "exception": false,
     "start_time": "2024-03-07T00:11:27.592305",
     "status": "completed"
    },
    "tags": []
   },
   "outputs": [
    {
     "name": "stdout",
     "output_type": "stream",
     "text": [
      "Print the validating dataset:\n",
      "  Dataset MNIST\n",
      "    Number of datapoints: 60000\n",
      "    Root location: ./data\n",
      "    Split: Train\n",
      "    StandardTransform\n",
      "Transform: ToTensor()\n"
     ]
    }
   ],
   "source": [
    "# Create and print the validating dataset\n",
    "\n",
    "validation_dataset = dsets.MNIST(root='./data', download=True, transform=transforms.ToTensor())\n",
    "print(\"Print the validating dataset:\\n \", validation_dataset)"
   ]
  },
  {
   "cell_type": "markdown",
   "id": "f67da3ca",
   "metadata": {
    "papermill": {
     "duration": 0.011118,
     "end_time": "2024-03-07T00:11:27.684977",
     "exception": false,
     "start_time": "2024-03-07T00:11:27.673859",
     "status": "completed"
    },
    "tags": []
   },
   "source": [
    "You can see that the data type is long:\n"
   ]
  },
  {
   "cell_type": "code",
   "execution_count": 6,
   "id": "6c83d3e3",
   "metadata": {
    "execution": {
     "iopub.execute_input": "2024-03-07T00:11:27.710622Z",
     "iopub.status.busy": "2024-03-07T00:11:27.709573Z",
     "iopub.status.idle": "2024-03-07T00:11:27.744097Z",
     "shell.execute_reply": "2024-03-07T00:11:27.743187Z"
    },
    "papermill": {
     "duration": 0.049525,
     "end_time": "2024-03-07T00:11:27.746021",
     "exception": false,
     "start_time": "2024-03-07T00:11:27.696496",
     "status": "completed"
    },
    "tags": []
   },
   "outputs": [
    {
     "name": "stdout",
     "output_type": "stream",
     "text": [
      "Type of data element:  <class 'int'>\n"
     ]
    }
   ],
   "source": [
    "# Print the type of the element\n",
    "\n",
    "print(\"Type of data element: \", type(train_dataset[0][1]))"
   ]
  },
  {
   "cell_type": "markdown",
   "id": "8d76038a",
   "metadata": {
    "papermill": {
     "duration": 0.01094,
     "end_time": "2024-03-07T00:11:27.768555",
     "exception": false,
     "start_time": "2024-03-07T00:11:27.757615",
     "status": "completed"
    },
    "tags": []
   },
   "source": [
    "Each element in the rectangular tensor corresponds to a number that represents a pixel intensity as demonstrated by the following image:\n"
   ]
  },
  {
   "cell_type": "markdown",
   "id": "05cd6ee1",
   "metadata": {
    "papermill": {
     "duration": 0.012015,
     "end_time": "2024-03-07T00:11:27.791738",
     "exception": false,
     "start_time": "2024-03-07T00:11:27.779723",
     "status": "completed"
    },
    "tags": []
   },
   "source": [
    "<img src=\"https://s3-api.us-geo.objectstorage.softlayer.net/cf-courses-data/CognitiveClass/DL0110EN/notebook_images%20/chapter3/3.32_image_values.png\" width=\"550\" alt=\"MNIST elements\">\n"
   ]
  },
  {
   "cell_type": "markdown",
   "id": "8cbf4590",
   "metadata": {
    "papermill": {
     "duration": 0.066079,
     "end_time": "2024-03-07T00:11:27.869360",
     "exception": false,
     "start_time": "2024-03-07T00:11:27.803281",
     "status": "completed"
    },
    "tags": []
   },
   "source": [
    "In this image, the values are inverted i.e back represents wight.\n"
   ]
  },
  {
   "cell_type": "markdown",
   "id": "c34e6bf8",
   "metadata": {
    "papermill": {
     "duration": 0.011131,
     "end_time": "2024-03-07T00:11:27.892303",
     "exception": false,
     "start_time": "2024-03-07T00:11:27.881172",
     "status": "completed"
    },
    "tags": []
   },
   "source": [
    "Print out the label of the fourth element:\n"
   ]
  },
  {
   "cell_type": "code",
   "execution_count": 7,
   "id": "d18c5e11",
   "metadata": {
    "execution": {
     "iopub.execute_input": "2024-03-07T00:11:27.916658Z",
     "iopub.status.busy": "2024-03-07T00:11:27.916344Z",
     "iopub.status.idle": "2024-03-07T00:11:27.922186Z",
     "shell.execute_reply": "2024-03-07T00:11:27.920803Z"
    },
    "papermill": {
     "duration": 0.02042,
     "end_time": "2024-03-07T00:11:27.924079",
     "exception": false,
     "start_time": "2024-03-07T00:11:27.903659",
     "status": "completed"
    },
    "tags": []
   },
   "outputs": [
    {
     "name": "stdout",
     "output_type": "stream",
     "text": [
      "The label:  1\n"
     ]
    }
   ],
   "source": [
    "# Print the label\n",
    "\n",
    "print(\"The label: \", train_dataset[3][1])"
   ]
  },
  {
   "cell_type": "markdown",
   "id": "1eac17b2",
   "metadata": {
    "papermill": {
     "duration": 0.011154,
     "end_time": "2024-03-07T00:11:27.946585",
     "exception": false,
     "start_time": "2024-03-07T00:11:27.935431",
     "status": "completed"
    },
    "tags": []
   },
   "source": [
    "The result shows the number in the image is 1\n"
   ]
  },
  {
   "cell_type": "markdown",
   "id": "ade238ec",
   "metadata": {
    "papermill": {
     "duration": 0.011233,
     "end_time": "2024-03-07T00:11:27.969262",
     "exception": false,
     "start_time": "2024-03-07T00:11:27.958029",
     "status": "completed"
    },
    "tags": []
   },
   "source": [
    "Plot  the fourth sample:\n"
   ]
  },
  {
   "cell_type": "code",
   "execution_count": 8,
   "id": "88929b1c",
   "metadata": {
    "execution": {
     "iopub.execute_input": "2024-03-07T00:11:27.994557Z",
     "iopub.status.busy": "2024-03-07T00:11:27.993327Z",
     "iopub.status.idle": "2024-03-07T00:11:28.239355Z",
     "shell.execute_reply": "2024-03-07T00:11:28.238483Z"
    },
    "papermill": {
     "duration": 0.260436,
     "end_time": "2024-03-07T00:11:28.241136",
     "exception": false,
     "start_time": "2024-03-07T00:11:27.980700",
     "status": "completed"
    },
    "tags": []
   },
   "outputs": [
    {
     "name": "stdout",
     "output_type": "stream",
     "text": [
      "The image:  None\n"
     ]
    },
    {
     "data": {
      "image/png": "[encoded data removed]",
      "text/plain": [
       "<Figure size 640x480 with 1 Axes>"
      ]
     },
     "metadata": {},
     "output_type": "display_data"
    }
   ],
   "source": [
    "# Plot the image\n",
    "\n",
    "print(\"The image: \", show_data(train_dataset[3]))"
   ]
  },
  {
   "cell_type": "markdown",
   "id": "4b4606ed",
   "metadata": {
    "papermill": {
     "duration": 0.0112,
     "end_time": "2024-03-07T00:11:28.263855",
     "exception": false,
     "start_time": "2024-03-07T00:11:28.252655",
     "status": "completed"
    },
    "tags": []
   },
   "source": [
    "You see that it is a 1. Now, plot the third sample:\n"
   ]
  },
  {
   "cell_type": "code",
   "execution_count": 9,
   "id": "d05c4941",
   "metadata": {
    "execution": {
     "iopub.execute_input": "2024-03-07T00:11:28.289003Z",
     "iopub.status.busy": "2024-03-07T00:11:28.288520Z",
     "iopub.status.idle": "2024-03-07T00:11:28.482499Z",
     "shell.execute_reply": "2024-03-07T00:11:28.481575Z"
    },
    "papermill": {
     "duration": 0.208727,
     "end_time": "2024-03-07T00:11:28.484380",
     "exception": false,
     "start_time": "2024-03-07T00:11:28.275653",
     "status": "completed"
    },
    "tags": []
   },
   "outputs": [
    {
     "data": {
      "image/png": "[encoded data removed]",
      "text/plain": [
       "<Figure size 640x480 with 1 Axes>"
      ]
     },
     "metadata": {},
     "output_type": "display_data"
    }
   ],
   "source": [
    "# Plot the image\n",
    "\n",
    "show_data(train_dataset[2])"
   ]
  },
  {
   "cell_type": "markdown",
   "id": "83dcd1b5",
   "metadata": {
    "papermill": {
     "duration": 0.011668,
     "end_time": "2024-03-07T00:11:28.508069",
     "exception": false,
     "start_time": "2024-03-07T00:11:28.496401",
     "status": "completed"
    },
    "tags": []
   },
   "source": [
    "<!--Empty Space for separating topics-->\n"
   ]
  },
  {
   "cell_type": "markdown",
   "id": "2794982d",
   "metadata": {
    "papermill": {
     "duration": 0.011691,
     "end_time": "2024-03-07T00:11:28.531765",
     "exception": false,
     "start_time": "2024-03-07T00:11:28.520074",
     "status": "completed"
    },
    "tags": []
   },
   "source": [
    "<h2 id=\"#Classifier\">Build a Softmax Classifer</h2>\n"
   ]
  },
  {
   "cell_type": "markdown",
   "id": "7ae45ab6",
   "metadata": {
    "papermill": {
     "duration": 0.01165,
     "end_time": "2024-03-07T00:11:28.555392",
     "exception": false,
     "start_time": "2024-03-07T00:11:28.543742",
     "status": "completed"
    },
    "tags": []
   },
   "source": [
    "Build a Softmax classifier class: \n"
   ]
  },
  {
   "cell_type": "code",
   "execution_count": 10,
   "id": "f5ae5ab1",
   "metadata": {
    "execution": {
     "iopub.execute_input": "2024-03-07T00:11:28.580324Z",
     "iopub.status.busy": "2024-03-07T00:11:28.579785Z",
     "iopub.status.idle": "2024-03-07T00:11:28.584623Z",
     "shell.execute_reply": "2024-03-07T00:11:28.583987Z"
    },
    "papermill": {
     "duration": 0.019225,
     "end_time": "2024-03-07T00:11:28.586203",
     "exception": false,
     "start_time": "2024-03-07T00:11:28.566978",
     "status": "completed"
    },
    "tags": []
   },
   "outputs": [],
   "source": [
    "# Define softmax classifier class\n",
    "\n",
    "class SoftMax(nn.Module):\n",
    "    \n",
    "    # Constructor\n",
    "    def __init__(self, input_size, output_size):\n",
    "        super(SoftMax, self).__init__()\n",
    "        self.linear = nn.Linear(input_size, output_size)\n",
    "        \n",
    "    # Prediction\n",
    "    def forward(self, x):\n",
    "        z = self.linear(x)\n",
    "        return z"
   ]
  },
  {
   "cell_type": "markdown",
   "id": "a5e5b999",
   "metadata": {
    "papermill": {
     "duration": 0.011228,
     "end_time": "2024-03-07T00:11:28.609103",
     "exception": false,
     "start_time": "2024-03-07T00:11:28.597875",
     "status": "completed"
    },
    "tags": []
   },
   "source": [
    "The Softmax function requires vector inputs. Note that the vector shape is 28x28.\n"
   ]
  },
  {
   "cell_type": "code",
   "execution_count": 11,
   "id": "b65dd624",
   "metadata": {
    "execution": {
     "iopub.execute_input": "2024-03-07T00:11:28.634381Z",
     "iopub.status.busy": "2024-03-07T00:11:28.633825Z",
     "iopub.status.idle": "2024-03-07T00:11:28.640583Z",
     "shell.execute_reply": "2024-03-07T00:11:28.639444Z"
    },
    "papermill": {
     "duration": 0.022214,
     "end_time": "2024-03-07T00:11:28.642948",
     "exception": false,
     "start_time": "2024-03-07T00:11:28.620734",
     "status": "completed"
    },
    "tags": []
   },
   "outputs": [
    {
     "data": {
      "text/plain": [
       "torch.Size([1, 28, 28])"
      ]
     },
     "execution_count": 11,
     "metadata": {},
     "output_type": "execute_result"
    }
   ],
   "source": [
    "# Print the shape of train dataset\n",
    "\n",
    "train_dataset[0][0].shape"
   ]
  },
  {
   "cell_type": "markdown",
   "id": "ec474fcd",
   "metadata": {
    "papermill": {
     "duration": 0.012553,
     "end_time": "2024-03-07T00:11:28.668392",
     "exception": false,
     "start_time": "2024-03-07T00:11:28.655839",
     "status": "completed"
    },
    "tags": []
   },
   "source": [
    "Flatten the tensor as shown in this image: \n"
   ]
  },
  {
   "cell_type": "markdown",
   "id": "31c54c28",
   "metadata": {
    "papermill": {
     "duration": 0.012351,
     "end_time": "2024-03-07T00:11:28.693567",
     "exception": false,
     "start_time": "2024-03-07T00:11:28.681216",
     "status": "completed"
    },
    "tags": []
   },
   "source": [
    "<img src=\"https://s3-api.us-geo.objectstorage.softlayer.net/cf-courses-data/CognitiveClass/DL0110EN/notebook_images%20/chapter3/3.3.2image_to_vector.gif\" width=\"550\" alt=\"Flattern Image\">\n"
   ]
  },
  {
   "cell_type": "markdown",
   "id": "7fb1120c",
   "metadata": {
    "papermill": {
     "duration": 0.012117,
     "end_time": "2024-03-07T00:11:28.717963",
     "exception": false,
     "start_time": "2024-03-07T00:11:28.705846",
     "status": "completed"
    },
    "tags": []
   },
   "source": [
    "The size of the tensor is now 784.\n"
   ]
  },
  {
   "cell_type": "markdown",
   "id": "a3683c78",
   "metadata": {
    "papermill": {
     "duration": 0.011925,
     "end_time": "2024-03-07T00:11:28.742033",
     "exception": false,
     "start_time": "2024-03-07T00:11:28.730108",
     "status": "completed"
    },
    "tags": []
   },
   "source": [
    "<img src=\"https://s3-api.us-geo.objectstorage.softlayer.net/cf-courses-data/CognitiveClass/DL0110EN/notebook_images%20/chapter3/3.3.2Imagetovector2.png\" width=\"550\" alt=\"Flattern Image\">\n"
   ]
  },
  {
   "cell_type": "markdown",
   "id": "b0c9ff69",
   "metadata": {
    "papermill": {
     "duration": 0.011911,
     "end_time": "2024-03-07T00:11:28.765999",
     "exception": false,
     "start_time": "2024-03-07T00:11:28.754088",
     "status": "completed"
    },
    "tags": []
   },
   "source": [
    "Set the input size and output size: \n"
   ]
  },
  {
   "cell_type": "code",
   "execution_count": 12,
   "id": "5eb04aeb",
   "metadata": {
    "execution": {
     "iopub.execute_input": "2024-03-07T00:11:28.793047Z",
     "iopub.status.busy": "2024-03-07T00:11:28.791774Z",
     "iopub.status.idle": "2024-03-07T00:11:28.797866Z",
     "shell.execute_reply": "2024-03-07T00:11:28.796585Z"
    },
    "papermill": {
     "duration": 0.02244,
     "end_time": "2024-03-07T00:11:28.800609",
     "exception": false,
     "start_time": "2024-03-07T00:11:28.778169",
     "status": "completed"
    },
    "tags": []
   },
   "outputs": [],
   "source": [
    "# Set input size and output size\n",
    "\n",
    "input_dim = 28 * 28\n",
    "output_dim = 10"
   ]
  },
  {
   "cell_type": "markdown",
   "id": "84282bd3",
   "metadata": {
    "papermill": {
     "duration": 0.011596,
     "end_time": "2024-03-07T00:11:28.824649",
     "exception": false,
     "start_time": "2024-03-07T00:11:28.813053",
     "status": "completed"
    },
    "tags": []
   },
   "source": [
    "<!--Empty Space for separating topics-->\n"
   ]
  },
  {
   "cell_type": "markdown",
   "id": "33d0ab54",
   "metadata": {
    "papermill": {
     "duration": 0.012355,
     "end_time": "2024-03-07T00:11:28.850089",
     "exception": false,
     "start_time": "2024-03-07T00:11:28.837734",
     "status": "completed"
    },
    "tags": []
   },
   "source": [
    "<h2 id=\"Model\">Define the Softmax Classifier, Criterion Function, Optimizer, and Train the Model</h2> \n"
   ]
  },
  {
   "cell_type": "code",
   "execution_count": 13,
   "id": "de02fe90",
   "metadata": {
    "execution": {
     "iopub.execute_input": "2024-03-07T00:11:28.876787Z",
     "iopub.status.busy": "2024-03-07T00:11:28.876407Z",
     "iopub.status.idle": "2024-03-07T00:11:28.888755Z",
     "shell.execute_reply": "2024-03-07T00:11:28.886818Z"
    },
    "papermill": {
     "duration": 0.028246,
     "end_time": "2024-03-07T00:11:28.890962",
     "exception": false,
     "start_time": "2024-03-07T00:11:28.862716",
     "status": "completed"
    },
    "tags": []
   },
   "outputs": [
    {
     "name": "stdout",
     "output_type": "stream",
     "text": [
      "Print the model:\n",
      "  SoftMax(\n",
      "  (linear): Linear(in_features=784, out_features=10, bias=True)\n",
      ")\n"
     ]
    }
   ],
   "source": [
    "# Create the model\n",
    "\n",
    "model = SoftMax(input_dim, output_dim)\n",
    "print(\"Print the model:\\n \", model)"
   ]
  },
  {
   "cell_type": "markdown",
   "id": "e4a2c8a3",
   "metadata": {
    "papermill": {
     "duration": 0.012733,
     "end_time": "2024-03-07T00:11:28.916243",
     "exception": false,
     "start_time": "2024-03-07T00:11:28.903510",
     "status": "completed"
    },
    "tags": []
   },
   "source": [
    "View the size of the model parameters: \n"
   ]
  },
  {
   "cell_type": "code",
   "execution_count": 14,
   "id": "9272d2a9",
   "metadata": {
    "execution": {
     "iopub.execute_input": "2024-03-07T00:11:28.943064Z",
     "iopub.status.busy": "2024-03-07T00:11:28.942480Z",
     "iopub.status.idle": "2024-03-07T00:11:28.948292Z",
     "shell.execute_reply": "2024-03-07T00:11:28.947170Z"
    },
    "papermill": {
     "duration": 0.021125,
     "end_time": "2024-03-07T00:11:28.950137",
     "exception": false,
     "start_time": "2024-03-07T00:11:28.929012",
     "status": "completed"
    },
    "tags": []
   },
   "outputs": [
    {
     "name": "stdout",
     "output_type": "stream",
     "text": [
      "W:  torch.Size([10, 784])\n",
      "b:  torch.Size([10])\n"
     ]
    }
   ],
   "source": [
    "# Print the parameters\n",
    "\n",
    "print('W: ',list(model.parameters())[0].size())\n",
    "print('b: ',list(model.parameters())[1].size())"
   ]
  },
  {
   "cell_type": "markdown",
   "id": "db5e5210",
   "metadata": {
    "papermill": {
     "duration": 0.012452,
     "end_time": "2024-03-07T00:11:28.975228",
     "exception": false,
     "start_time": "2024-03-07T00:11:28.962776",
     "status": "completed"
    },
    "tags": []
   },
   "source": [
    "You can cover the model parameters for each class to a rectangular grid:  \n"
   ]
  },
  {
   "cell_type": "markdown",
   "id": "61fac95b",
   "metadata": {
    "papermill": {
     "duration": 0.0127,
     "end_time": "2024-03-07T00:11:29.000270",
     "exception": false,
     "start_time": "2024-03-07T00:11:28.987570",
     "status": "completed"
    },
    "tags": []
   },
   "source": [
    "<a>     <img src=\"https://s3-api.us-geo.objectstorage.softlayer.net/cf-courses-data/CognitiveClass/DL0110EN/notebook_images%20/chapter3/3.3.2paramaters_to_image.gif\" width=\"550,\" align=\"center\"></a> \n"
   ]
  },
  {
   "cell_type": "markdown",
   "id": "3224db0b",
   "metadata": {
    "papermill": {
     "duration": 0.011842,
     "end_time": "2024-03-07T00:11:29.024511",
     "exception": false,
     "start_time": "2024-03-07T00:11:29.012669",
     "status": "completed"
    },
    "tags": []
   },
   "source": [
    "Plot the model parameters for each class as a square image: \n"
   ]
  },
  {
   "cell_type": "code",
   "execution_count": 15,
   "id": "2b2e47d8",
   "metadata": {
    "execution": {
     "iopub.execute_input": "2024-03-07T00:11:29.050713Z",
     "iopub.status.busy": "2024-03-07T00:11:29.050399Z",
     "iopub.status.idle": "2024-03-07T00:11:29.443835Z",
     "shell.execute_reply": "2024-03-07T00:11:29.442986Z"
    },
    "papermill": {
     "duration": 0.409792,
     "end_time": "2024-03-07T00:11:29.446579",
     "exception": false,
     "start_time": "2024-03-07T00:11:29.036787",
     "status": "completed"
    },
    "tags": []
   },
   "outputs": [
    {
     "data": {
      "image/png": "[encoded data removed]",
      "text/plain": [
       "<Figure size 640x480 with 10 Axes>"
      ]
     },
     "metadata": {},
     "output_type": "display_data"
    }
   ],
   "source": [
    "# Plot the model parameters for each class\n",
    "\n",
    "PlotParameters(model)"
   ]
  },
  {
   "cell_type": "markdown",
   "id": "1aa057e2",
   "metadata": {
    "papermill": {
     "duration": 0.016907,
     "end_time": "2024-03-07T00:11:29.480037",
     "exception": false,
     "start_time": "2024-03-07T00:11:29.463130",
     "status": "completed"
    },
    "tags": []
   },
   "source": [
    "Define the learning rate, optimizer, criterion, data loader:\n"
   ]
  },
  {
   "cell_type": "code",
   "execution_count": 16,
   "id": "9c6a0db6",
   "metadata": {
    "execution": {
     "iopub.execute_input": "2024-03-07T00:11:29.511911Z",
     "iopub.status.busy": "2024-03-07T00:11:29.511606Z",
     "iopub.status.idle": "2024-03-07T00:11:29.517334Z",
     "shell.execute_reply": "2024-03-07T00:11:29.516581Z"
    },
    "papermill": {
     "duration": 0.022647,
     "end_time": "2024-03-07T00:11:29.519056",
     "exception": false,
     "start_time": "2024-03-07T00:11:29.496409",
     "status": "completed"
    },
    "tags": []
   },
   "outputs": [],
   "source": [
    "# Define the learning rate, optimizer, criterion and data loader\n",
    "\n",
    "learning_rate = 0.1\n",
    "optimizer = torch.optim.SGD(model.parameters(), lr=learning_rate)\n",
    "criterion = nn.CrossEntropyLoss()\n",
    "train_loader = torch.utils.data.DataLoader(dataset=train_dataset, batch_size=100)\n",
    "validation_loader = torch.utils.data.DataLoader(dataset=validation_dataset, batch_size=5000)"
   ]
  },
  {
   "cell_type": "markdown",
   "id": "b6e410d8",
   "metadata": {
    "papermill": {
     "duration": 0.012849,
     "end_time": "2024-03-07T00:11:29.545098",
     "exception": false,
     "start_time": "2024-03-07T00:11:29.532249",
     "status": "completed"
    },
    "tags": []
   },
   "source": [
    "Train the model and determine validation accuracy **(should take a few minutes)**: \n"
   ]
  },
  {
   "cell_type": "code",
   "execution_count": 17,
   "id": "35dee4b7",
   "metadata": {
    "execution": {
     "iopub.execute_input": "2024-03-07T00:11:29.575651Z",
     "iopub.status.busy": "2024-03-07T00:11:29.575021Z",
     "iopub.status.idle": "2024-03-07T00:13:35.556942Z",
     "shell.execute_reply": "2024-03-07T00:13:35.556245Z"
    },
    "papermill": {
     "duration": 126.000742,
     "end_time": "2024-03-07T00:13:35.559048",
     "exception": false,
     "start_time": "2024-03-07T00:11:29.558306",
     "status": "completed"
    },
    "tags": []
   },
   "outputs": [],
   "source": [
    "# Train the model\n",
    "\n",
    "n_epochs = 10\n",
    "loss_list = []\n",
    "accuracy_list = []\n",
    "N_test = len(validation_dataset)\n",
    "\n",
    "def train_model(n_epochs):\n",
    "    for epoch in range(n_epochs):\n",
    "        for x, y in train_loader:\n",
    "            optimizer.zero_grad()\n",
    "            z = model(x.view(-1, 28 * 28))\n",
    "            loss = criterion(z, y)\n",
    "            loss.backward()\n",
    "            optimizer.step()\n",
    "            \n",
    "        correct = 0\n",
    "        # perform a prediction on the validationdata  \n",
    "        for x_test, y_test in validation_loader:\n",
    "            z = model(x_test.view(-1, 28 * 28))\n",
    "            _, yhat = torch.max(z.data, 1)\n",
    "            correct += (yhat == y_test).sum().item()\n",
    "        accuracy = correct / N_test\n",
    "        loss_list.append(loss.data)\n",
    "        accuracy_list.append(accuracy)\n",
    "\n",
    "train_model(n_epochs)"
   ]
  },
  {
   "cell_type": "markdown",
   "id": "18914f0d",
   "metadata": {
    "papermill": {
     "duration": 0.012139,
     "end_time": "2024-03-07T00:13:35.584202",
     "exception": false,
     "start_time": "2024-03-07T00:13:35.572063",
     "status": "completed"
    },
    "tags": []
   },
   "source": [
    "<!--Empty Space for separating topics-->\n"
   ]
  },
  {
   "cell_type": "markdown",
   "id": "b847cabb",
   "metadata": {
    "papermill": {
     "duration": 0.01194,
     "end_time": "2024-03-07T00:13:35.608592",
     "exception": false,
     "start_time": "2024-03-07T00:13:35.596652",
     "status": "completed"
    },
    "tags": []
   },
   "source": [
    "<h2 id=\"Result\">Analyze Results</h2> \n"
   ]
  },
  {
   "cell_type": "markdown",
   "id": "42474cdd",
   "metadata": {
    "papermill": {
     "duration": 0.012185,
     "end_time": "2024-03-07T00:13:35.633201",
     "exception": false,
     "start_time": "2024-03-07T00:13:35.621016",
     "status": "completed"
    },
    "tags": []
   },
   "source": [
    "Plot the loss and accuracy on the validation data:\n"
   ]
  },
  {
   "cell_type": "code",
   "execution_count": 18,
   "id": "97442b30",
   "metadata": {
    "execution": {
     "iopub.execute_input": "2024-03-07T00:13:35.659291Z",
     "iopub.status.busy": "2024-03-07T00:13:35.658910Z",
     "iopub.status.idle": "2024-03-07T00:13:36.114352Z",
     "shell.execute_reply": "2024-03-07T00:13:36.113337Z"
    },
    "papermill": {
     "duration": 0.470501,
     "end_time": "2024-03-07T00:13:36.116185",
     "exception": false,
     "start_time": "2024-03-07T00:13:35.645684",
     "status": "completed"
    },
    "tags": []
   },
   "outputs": [
    {
     "data": {
      "image/png": "[encoded data removed]",
      "text/plain": [
       "<Figure size 640x480 with 2 Axes>"
      ]
     },
     "metadata": {},
     "output_type": "display_data"
    }
   ],
   "source": [
    "# Plot the loss and accuracy\n",
    "\n",
    "fig, ax1 = plt.subplots()\n",
    "color = 'tab:red'\n",
    "ax1.plot(loss_list,color=color)\n",
    "ax1.set_xlabel('epoch',color=color)\n",
    "ax1.set_ylabel('total loss',color=color)\n",
    "ax1.tick_params(axis='y', color=color)\n",
    "    \n",
    "ax2 = ax1.twinx()  \n",
    "color = 'tab:blue'\n",
    "ax2.set_ylabel('accuracy', color=color)  \n",
    "ax2.plot( accuracy_list, color=color)\n",
    "ax2.tick_params(axis='y', color=color)\n",
    "fig.tight_layout()"
   ]
  },
  {
   "cell_type": "markdown",
   "id": "b18b02e7",
   "metadata": {
    "papermill": {
     "duration": 0.013075,
     "end_time": "2024-03-07T00:13:36.142354",
     "exception": false,
     "start_time": "2024-03-07T00:13:36.129279",
     "status": "completed"
    },
    "tags": []
   },
   "source": [
    "View the results of the parameters for each class after the training. You can see that they look like the corresponding numbers. \n"
   ]
  },
  {
   "cell_type": "code",
   "execution_count": 19,
   "id": "7a81614b",
   "metadata": {
    "execution": {
     "iopub.execute_input": "2024-03-07T00:13:36.170828Z",
     "iopub.status.busy": "2024-03-07T00:13:36.170515Z",
     "iopub.status.idle": "2024-03-07T00:13:36.519624Z",
     "shell.execute_reply": "2024-03-07T00:13:36.518844Z"
    },
    "papermill": {
     "duration": 0.365565,
     "end_time": "2024-03-07T00:13:36.521372",
     "exception": false,
     "start_time": "2024-03-07T00:13:36.155807",
     "status": "completed"
    },
    "tags": []
   },
   "outputs": [
    {
     "data": {
      "image/png": "[encoded data removed]",
      "text/plain": [
       "<Figure size 640x480 with 10 Axes>"
      ]
     },
     "metadata": {},
     "output_type": "display_data"
    }
   ],
   "source": [
    "# Plot the parameters\n",
    "\n",
    "PlotParameters(model)"
   ]
  },
  {
   "cell_type": "markdown",
   "id": "951bba16",
   "metadata": {
    "papermill": {
     "duration": 0.017542,
     "end_time": "2024-03-07T00:13:36.556246",
     "exception": false,
     "start_time": "2024-03-07T00:13:36.538704",
     "status": "completed"
    },
    "tags": []
   },
   "source": [
    "We Plot the first five misclassified  samples and the probability of that class.\n"
   ]
  },
  {
   "cell_type": "code",
   "execution_count": 20,
   "id": "21b2e90f",
   "metadata": {
    "execution": {
     "iopub.execute_input": "2024-03-07T00:13:36.586328Z",
     "iopub.status.busy": "2024-03-07T00:13:36.585994Z",
     "iopub.status.idle": "2024-03-07T00:13:37.444690Z",
     "shell.execute_reply": "2024-03-07T00:13:37.443400Z"
    },
    "papermill": {
     "duration": 0.87534,
     "end_time": "2024-03-07T00:13:37.446801",
     "exception": false,
     "start_time": "2024-03-07T00:13:36.571461",
     "status": "completed"
    },
    "tags": []
   },
   "outputs": [
    {
     "data": {
      "image/png": "[encoded data removed]",
      "text/plain": [
       "<Figure size 640x480 with 1 Axes>"
      ]
     },
     "metadata": {},
     "output_type": "display_data"
    },
    {
     "name": "stdout",
     "output_type": "stream",
     "text": [
      "yhat: tensor([7])\n",
      "probability of class  0.6786165237426758\n"
     ]
    },
    {
     "data": {
      "image/png": "[encoded data removed]",
      "text/plain": [
       "<Figure size 640x480 with 1 Axes>"
      ]
     },
     "metadata": {},
     "output_type": "display_data"
    },
    {
     "name": "stdout",
     "output_type": "stream",
     "text": [
      "yhat: tensor([7])\n",
      "probability of class  0.7050625681877136\n"
     ]
    },
    {
     "data": {
      "image/png": "[encoded data removed]",
      "text/plain": [
       "<Figure size 640x480 with 1 Axes>"
      ]
     },
     "metadata": {},
     "output_type": "display_data"
    },
    {
     "name": "stdout",
     "output_type": "stream",
     "text": [
      "yhat: tensor([5])\n",
      "probability of class  0.7190094590187073\n"
     ]
    },
    {
     "data": {
      "image/png": "[encoded data removed]",
      "text/plain": [
       "<Figure size 640x480 with 1 Axes>"
      ]
     },
     "metadata": {},
     "output_type": "display_data"
    },
    {
     "name": "stdout",
     "output_type": "stream",
     "text": [
      "yhat: tensor([8])\n",
      "probability of class  0.377341628074646\n"
     ]
    },
    {
     "data": {
      "image/png": "[encoded data removed]",
      "text/plain": [
       "<Figure size 640x480 with 1 Axes>"
      ]
     },
     "metadata": {},
     "output_type": "display_data"
    },
    {
     "name": "stdout",
     "output_type": "stream",
     "text": [
      "yhat: tensor([6])\n",
      "probability of class  0.506962776184082\n"
     ]
    }
   ],
   "source": [
    "# Plot the misclassified samples\n",
    "Softmax_fn=nn.Softmax(dim=-1)\n",
    "count = 0\n",
    "for x, y in validation_dataset:\n",
    "    z = model(x.reshape(-1, 28 * 28))\n",
    "    _, yhat = torch.max(z, 1)\n",
    "    if yhat != y:\n",
    "        show_data((x, y))\n",
    "        plt.show()\n",
    "        print(\"yhat:\", yhat)\n",
    "        print(\"probability of class \", torch.max(Softmax_fn(z)).item())\n",
    "        count += 1\n",
    "    if count >= 5:\n",
    "        break       "
   ]
  },
  {
   "cell_type": "markdown",
   "id": "ece005c0",
   "metadata": {
    "papermill": {
     "duration": 0.015498,
     "end_time": "2024-03-07T00:13:37.477442",
     "exception": false,
     "start_time": "2024-03-07T00:13:37.461944",
     "status": "completed"
    },
    "tags": []
   },
   "source": [
    "<!--Empty Space for separating topics-->\n"
   ]
  },
  {
   "cell_type": "markdown",
   "id": "9f09ce2b",
   "metadata": {
    "papermill": {
     "duration": 0.014171,
     "end_time": "2024-03-07T00:13:37.507757",
     "exception": false,
     "start_time": "2024-03-07T00:13:37.493586",
     "status": "completed"
    },
    "tags": []
   },
   "source": [
    "We Plot the first five correctly classified samples and the probability of that class, we see the probability is much larger.\n"
   ]
  },
  {
   "cell_type": "code",
   "execution_count": 21,
   "id": "f4b75e27",
   "metadata": {
    "execution": {
     "iopub.execute_input": "2024-03-07T00:13:37.538806Z",
     "iopub.status.busy": "2024-03-07T00:13:37.538262Z",
     "iopub.status.idle": "2024-03-07T00:13:38.379681Z",
     "shell.execute_reply": "2024-03-07T00:13:38.378093Z"
    },
    "papermill": {
     "duration": 0.859884,
     "end_time": "2024-03-07T00:13:38.382192",
     "exception": false,
     "start_time": "2024-03-07T00:13:37.522308",
     "status": "completed"
    },
    "tags": []
   },
   "outputs": [
    {
     "data": {
      "image/png": "[encoded data removed]",
      "text/plain": [
       "<Figure size 640x480 with 1 Axes>"
      ]
     },
     "metadata": {},
     "output_type": "display_data"
    },
    {
     "name": "stdout",
     "output_type": "stream",
     "text": [
      "yhat: tensor([5])\n",
      "probability of class  0.8345473408699036\n"
     ]
    },
    {
     "data": {
      "image/png": "[encoded data removed]",
      "text/plain": [
       "<Figure size 640x480 with 1 Axes>"
      ]
     },
     "metadata": {},
     "output_type": "display_data"
    },
    {
     "name": "stdout",
     "output_type": "stream",
     "text": [
      "yhat: tensor([0])\n",
      "probability of class  0.9997096657752991\n"
     ]
    },
    {
     "data": {
      "image/png": "[encoded data removed]",
      "text/plain": [
       "<Figure size 640x480 with 1 Axes>"
      ]
     },
     "metadata": {},
     "output_type": "display_data"
    },
    {
     "name": "stdout",
     "output_type": "stream",
     "text": [
      "yhat: tensor([4])\n",
      "probability of class  0.8628513216972351\n"
     ]
    },
    {
     "data": {
      "image/png": "[encoded data removed]",
      "text/plain": [
       "<Figure size 640x480 with 1 Axes>"
      ]
     },
     "metadata": {},
     "output_type": "display_data"
    },
    {
     "name": "stdout",
     "output_type": "stream",
     "text": [
      "yhat: tensor([1])\n",
      "probability of class  0.96458500623703\n"
     ]
    },
    {
     "data": {
      "image/png": "[encoded data removed]",
      "text/plain": [
       "<Figure size 640x480 with 1 Axes>"
      ]
     },
     "metadata": {},
     "output_type": "display_data"
    },
    {
     "name": "stdout",
     "output_type": "stream",
     "text": [
      "yhat: tensor([9])\n",
      "probability of class  0.9233087301254272\n"
     ]
    }
   ],
   "source": [
    "# Plot the classified samples\n",
    "Softmax_fn=nn.Softmax(dim=-1)\n",
    "count = 0\n",
    "for x, y in validation_dataset:\n",
    "    z = model(x.reshape(-1, 28 * 28))\n",
    "    _, yhat = torch.max(z, 1)\n",
    "    if yhat == y:\n",
    "        show_data((x, y))\n",
    "        plt.show()\n",
    "        print(\"yhat:\", yhat)\n",
    "        print(\"probability of class \", torch.max(Softmax_fn(z)).item())\n",
    "        count += 1\n",
    "    if count >= 5:\n",
    "        break  "
   ]
  }
 ],
 "metadata": {
  "kaggle": {
   "accelerator": "none",
   "dataSources": [],
   "dockerImageVersionId": 30664,
   "isGpuEnabled": false,
   "isInternetEnabled": true,
   "language": "python",
   "sourceType": "notebook"
  },
  "kernelspec": {
   "display_name": "Python 3",
   "language": "python",
   "name": "python3"
  },
  "language_info": {
   "codemirror_mode": {
    "name": "ipython",
    "version": 3
   },
   "file_extension": ".py",
   "mimetype": "text/x-python",
   "name": "python",
   "nbconvert_exporter": "python",
   "pygments_lexer": "ipython3",
   "version": "3.10.13"
  },
  "papermill": {
   "default_parameters": {},
   "duration": 142.333317,
   "end_time": "2024-03-07T00:13:39.622184",
   "environment_variables": {},
   "exception": null,
   "input_path": "__notebook__.ipynb",
   "output_path": "__notebook__.ipynb",
   "parameters": {},
   "start_time": "2024-03-07T00:11:17.288867",
   "version": "2.5.0"
  }
 },
 "nbformat": 4,
 "nbformat_minor": 5
}
