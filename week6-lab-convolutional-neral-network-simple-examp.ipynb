{
 "cells": [
  {
   "cell_type": "markdown",
   "id": "d8629d47",
   "metadata": {
    "papermill": {
     "duration": 0.011557,
     "end_time": "2024-03-11T22:17:47.823072",
     "exception": false,
     "start_time": "2024-03-11T22:17:47.811515",
     "status": "completed"
    },
    "tags": []
   },
   "source": [
    "<p style=\"text-align:center\">\n",
    "    <a href=\"https://skills.network/?utm_medium=Exinfluencer&utm_source=Exinfluencer&utm_content=000026UJ&utm_term=10006555&utm_id=NA-SkillsNetwork-Channel-SkillsNetworkCoursesIBMDeveloperSkillsNetworkDL0110ENSkillsNetwork952-2022-01-01\" target=\"_blank\">\n",
    "    <img src=\"https://cf-courses-data.s3.us.cloud-object-storage.appdomain.cloud/assets/logos/SN_web_lightmode.png\" width=\"200\" alt=\"Skills Network Logo\"  />\n",
    "    </a>\n",
    "</p>\n",
    "<h1 align=center><font size = 5>Convolutional Neral Network Simple example </font></h1> \n"
   ]
  },
  {
   "cell_type": "markdown",
   "id": "a8abcf49",
   "metadata": {
    "papermill": {
     "duration": 0.010654,
     "end_time": "2024-03-11T22:17:47.844749",
     "exception": false,
     "start_time": "2024-03-11T22:17:47.834095",
     "status": "completed"
    },
    "tags": []
   },
   "source": [
    "\n",
    "<h3>Objective for this Notebook<h3>    \n",
    "<h5> 1. Learn Convolutional Neral Network</h5>\n",
    "<h5> 2. Define Softmax , Criterion function, Optimizer and Train the  Model</h5>    \n",
    "\n"
   ]
  },
  {
   "cell_type": "markdown",
   "id": "e8a1df25",
   "metadata": {
    "papermill": {
     "duration": 0.01067,
     "end_time": "2024-03-11T22:17:47.866449",
     "exception": false,
     "start_time": "2024-03-11T22:17:47.855779",
     "status": "completed"
    },
    "tags": []
   },
   "source": [
    "\n",
    "# Table of Contents\n",
    "In this lab, we will use a Convolutional Neral Networks to classify horizontal an vertical Lines \n",
    "\n",
    "<div class=\"alert alert-block alert-info\" style=\"margin-top: 20px\">\n",
    "<li><a href=\"#ref0\">Helper functions </a></li>\n",
    "\n",
    "<li><a href=\"#ref1\"> Prepare Data </a></li>\n",
    "<li><a href=\"#ref2\">Convolutional Neral Network </a></li>\n",
    "<li><a href=\"#ref3\">Define Softmax , Criterion function, Optimizer and Train the  Model</a></li>\n",
    "<li><a href=\"#ref4\">Analyse Results</a></li>\n",
    "\n",
    "<br>\n",
    "<p></p>\n",
    "Estimated Time Needed: <strong>25 min</strong>\n",
    "</div>\n",
    "\n",
    "<hr>\n"
   ]
  },
  {
   "cell_type": "markdown",
   "id": "5f925dc0",
   "metadata": {
    "papermill": {
     "duration": 0.010651,
     "end_time": "2024-03-11T22:17:47.889015",
     "exception": false,
     "start_time": "2024-03-11T22:17:47.878364",
     "status": "completed"
    },
    "tags": []
   },
   "source": [
    "<a id=\"ref0\"></a>\n",
    "<h2 align=center>Helper functions </h2>\n"
   ]
  },
  {
   "cell_type": "code",
   "execution_count": 1,
   "id": "faac05b8",
   "metadata": {
    "execution": {
     "iopub.execute_input": "2024-03-11T22:17:47.912626Z",
     "iopub.status.busy": "2024-03-11T22:17:47.912283Z",
     "iopub.status.idle": "2024-03-11T22:17:53.867469Z",
     "shell.execute_reply": "2024-03-11T22:17:53.866586Z"
    },
    "papermill": {
     "duration": 5.969607,
     "end_time": "2024-03-11T22:17:53.869637",
     "exception": false,
     "start_time": "2024-03-11T22:17:47.900030",
     "status": "completed"
    },
    "tags": []
   },
   "outputs": [],
   "source": [
    "import torch \n",
    "import torch.nn as nn\n",
    "import torchvision.transforms as transforms\n",
    "import torchvision.datasets as dsets\n",
    "import matplotlib.pylab as plt\n",
    "import numpy as np\n",
    "import pandas as pd"
   ]
  },
  {
   "cell_type": "code",
   "execution_count": 2,
   "id": "85e75212",
   "metadata": {
    "execution": {
     "iopub.execute_input": "2024-03-11T22:17:53.895293Z",
     "iopub.status.busy": "2024-03-11T22:17:53.894821Z",
     "iopub.status.idle": "2024-03-11T22:17:53.902544Z",
     "shell.execute_reply": "2024-03-11T22:17:53.901951Z"
    },
    "papermill": {
     "duration": 0.022309,
     "end_time": "2024-03-11T22:17:53.903949",
     "exception": false,
     "start_time": "2024-03-11T22:17:53.881640",
     "status": "completed"
    },
    "tags": []
   },
   "outputs": [
    {
     "data": {
      "text/plain": [
       "<torch._C.Generator at 0x797804243030>"
      ]
     },
     "execution_count": 2,
     "metadata": {},
     "output_type": "execute_result"
    }
   ],
   "source": [
    "torch.manual_seed(4)"
   ]
  },
  {
   "cell_type": "markdown",
   "id": "15ca18ad",
   "metadata": {
    "papermill": {
     "duration": 0.010674,
     "end_time": "2024-03-11T22:17:53.925543",
     "exception": false,
     "start_time": "2024-03-11T22:17:53.914869",
     "status": "completed"
    },
    "tags": []
   },
   "source": [
    "function to plot out the parameters of the Convolutional layers  \n"
   ]
  },
  {
   "cell_type": "code",
   "execution_count": 3,
   "id": "e26529ee",
   "metadata": {
    "execution": {
     "iopub.execute_input": "2024-03-11T22:17:53.949585Z",
     "iopub.status.busy": "2024-03-11T22:17:53.948269Z",
     "iopub.status.idle": "2024-03-11T22:17:53.954939Z",
     "shell.execute_reply": "2024-03-11T22:17:53.954363Z"
    },
    "papermill": {
     "duration": 0.020271,
     "end_time": "2024-03-11T22:17:53.956546",
     "exception": false,
     "start_time": "2024-03-11T22:17:53.936275",
     "status": "completed"
    },
    "tags": []
   },
   "outputs": [],
   "source": [
    "def plot_channels(W):\n",
    "    #number of output channels \n",
    "    n_out=W.shape[0]\n",
    "    #number of input channels \n",
    "    n_in=W.shape[1]\n",
    "    w_min=W.min().item()\n",
    "    w_max=W.max().item()\n",
    "    fig, axes = plt.subplots(n_out,n_in)\n",
    "    fig.subplots_adjust(hspace = 0.1)\n",
    "    out_index=0\n",
    "    in_index=0\n",
    "    #plot outputs as rows inputs as columns \n",
    "    for ax in axes.flat:\n",
    "    \n",
    "        if in_index>n_in-1:\n",
    "            out_index=out_index+1\n",
    "            in_index=0\n",
    "              \n",
    "        ax.imshow(W[out_index,in_index,:,:], vmin=w_min, vmax=w_max, cmap='seismic')\n",
    "        ax.set_yticklabels([])\n",
    "        ax.set_xticklabels([])\n",
    "        in_index=in_index+1\n",
    "\n",
    "    plt.show()"
   ]
  },
  {
   "cell_type": "markdown",
   "id": "5b1054ea",
   "metadata": {
    "papermill": {
     "duration": 0.010814,
     "end_time": "2024-03-11T22:17:53.979397",
     "exception": false,
     "start_time": "2024-03-11T22:17:53.968583",
     "status": "completed"
    },
    "tags": []
   },
   "source": [
    "<code>show_data</code>: plot out data sample\n"
   ]
  },
  {
   "cell_type": "code",
   "execution_count": 4,
   "id": "f8b2f358",
   "metadata": {
    "execution": {
     "iopub.execute_input": "2024-03-11T22:17:54.003069Z",
     "iopub.status.busy": "2024-03-11T22:17:54.002537Z",
     "iopub.status.idle": "2024-03-11T22:17:54.006950Z",
     "shell.execute_reply": "2024-03-11T22:17:54.006197Z"
    },
    "papermill": {
     "duration": 0.019134,
     "end_time": "2024-03-11T22:17:54.009403",
     "exception": false,
     "start_time": "2024-03-11T22:17:53.990269",
     "status": "completed"
    },
    "tags": []
   },
   "outputs": [],
   "source": [
    "def show_data(dataset,sample):\n",
    "\n",
    "    plt.imshow(dataset.x[sample,0,:,:].numpy(),cmap='gray')\n",
    "    plt.title('y='+str(dataset.y[sample].item()))\n",
    "    plt.show()"
   ]
  },
  {
   "cell_type": "markdown",
   "id": "b6897fa1",
   "metadata": {
    "papermill": {
     "duration": 0.010905,
     "end_time": "2024-03-11T22:17:54.032100",
     "exception": false,
     "start_time": "2024-03-11T22:17:54.021195",
     "status": "completed"
    },
    "tags": []
   },
   "source": [
    "create some toy data \n"
   ]
  },
  {
   "cell_type": "code",
   "execution_count": 5,
   "id": "bf0eb921",
   "metadata": {
    "execution": {
     "iopub.execute_input": "2024-03-11T22:17:54.057222Z",
     "iopub.status.busy": "2024-03-11T22:17:54.056840Z",
     "iopub.status.idle": "2024-03-11T22:17:54.066945Z",
     "shell.execute_reply": "2024-03-11T22:17:54.065990Z"
    },
    "papermill": {
     "duration": 0.025047,
     "end_time": "2024-03-11T22:17:54.069018",
     "exception": false,
     "start_time": "2024-03-11T22:17:54.043971",
     "status": "completed"
    },
    "tags": []
   },
   "outputs": [],
   "source": [
    "from torch.utils.data import Dataset, DataLoader\n",
    "class Data(Dataset):\n",
    "    def __init__(self,N_images=100,offset=0,p=0.9, train=False):\n",
    "        \"\"\"\n",
    "        p:portability that pixel is wight  \n",
    "        N_images:number of images \n",
    "        offset:set a random vertical and horizontal offset images by a sample should be less than 3 \n",
    "        \"\"\"\n",
    "        if train==True:\n",
    "            np.random.seed(1)  \n",
    "        \n",
    "        #make images multiple of 3 \n",
    "        N_images=2*(N_images//2)\n",
    "        images=np.zeros((N_images,1,11,11))\n",
    "        start1=3\n",
    "        start2=1\n",
    "        self.y=torch.zeros(N_images).type(torch.long)\n",
    "\n",
    "        for n in range(N_images):\n",
    "            if offset>0:\n",
    "        \n",
    "                low=int(np.random.randint(low=start1, high=start1+offset, size=1))\n",
    "                high=int(np.random.randint(low=start2, high=start2+offset, size=1))\n",
    "            else:\n",
    "                low=4\n",
    "                high=1\n",
    "        \n",
    "            if n<=N_images//2:\n",
    "                self.y[n]=0\n",
    "                images[n,0,high:high+9,low:low+3]= np.random.binomial(1, p, (9,3))\n",
    "            elif  n>N_images//2:\n",
    "                self.y[n]=1\n",
    "                images[n,0,low:low+3,high:high+9] = np.random.binomial(1, p, (3,9))\n",
    "           \n",
    "        \n",
    "        \n",
    "        self.x=torch.from_numpy(images).type(torch.FloatTensor)\n",
    "        self.len=self.x.shape[0]\n",
    "        del(images)\n",
    "        np.random.seed(0)\n",
    "    def __getitem__(self,index):      \n",
    "        return self.x[index],self.y[index]\n",
    "    def __len__(self):\n",
    "        return self.len"
   ]
  },
  {
   "cell_type": "markdown",
   "id": "db78d1a7",
   "metadata": {
    "papermill": {
     "duration": 0.011214,
     "end_time": "2024-03-11T22:17:54.091470",
     "exception": false,
     "start_time": "2024-03-11T22:17:54.080256",
     "status": "completed"
    },
    "tags": []
   },
   "source": [
    "<code>plot_activation</code>: plot out the activations of the Convolutional layers  \n"
   ]
  },
  {
   "cell_type": "code",
   "execution_count": 6,
   "id": "01f41b39",
   "metadata": {
    "execution": {
     "iopub.execute_input": "2024-03-11T22:17:54.115023Z",
     "iopub.status.busy": "2024-03-11T22:17:54.114709Z",
     "iopub.status.idle": "2024-03-11T22:17:54.121861Z",
     "shell.execute_reply": "2024-03-11T22:17:54.121007Z"
    },
    "papermill": {
     "duration": 0.021241,
     "end_time": "2024-03-11T22:17:54.123590",
     "exception": false,
     "start_time": "2024-03-11T22:17:54.102349",
     "status": "completed"
    },
    "tags": []
   },
   "outputs": [],
   "source": [
    "def plot_activations(A,number_rows= 1,name=\"\"):\n",
    "    A=A[0,:,:,:].detach().numpy()\n",
    "    n_activations=A.shape[0]\n",
    "    \n",
    "    \n",
    "    print(n_activations)\n",
    "    A_min=A.min().item()\n",
    "    A_max=A.max().item()\n",
    "\n",
    "    if n_activations==1:\n",
    "\n",
    "        # Plot the image.\n",
    "        plt.imshow(A[0,:], vmin=A_min, vmax=A_max, cmap='seismic')\n",
    "\n",
    "    else:\n",
    "        fig, axes = plt.subplots(number_rows, n_activations//number_rows)\n",
    "        fig.subplots_adjust(hspace = 0.4)\n",
    "        for i,ax in enumerate(axes.flat):\n",
    "            if i< n_activations:\n",
    "                # Set the label for the sub-plot.\n",
    "                ax.set_xlabel( \"activation:{0}\".format(i+1))\n",
    "\n",
    "                # Plot the image.\n",
    "                ax.imshow(A[i,:], vmin=A_min, vmax=A_max, cmap='seismic')\n",
    "                ax.set_xticks([])\n",
    "                ax.set_yticks([])\n",
    "    plt.show()"
   ]
  },
  {
   "cell_type": "markdown",
   "id": "7fcfb3fa",
   "metadata": {
    "papermill": {
     "duration": 0.010885,
     "end_time": "2024-03-11T22:17:54.146021",
     "exception": false,
     "start_time": "2024-03-11T22:17:54.135136",
     "status": "completed"
    },
    "tags": []
   },
   "source": [
    "\n",
    "Utility function for computing output of convolutions\n",
    "takes a tuple of (h,w) and returns a tuple of (h,w)\n"
   ]
  },
  {
   "cell_type": "code",
   "execution_count": 7,
   "id": "fe7a1970",
   "metadata": {
    "execution": {
     "iopub.execute_input": "2024-03-11T22:17:54.170001Z",
     "iopub.status.busy": "2024-03-11T22:17:54.169495Z",
     "iopub.status.idle": "2024-03-11T22:17:54.174744Z",
     "shell.execute_reply": "2024-03-11T22:17:54.173912Z"
    },
    "papermill": {
     "duration": 0.019271,
     "end_time": "2024-03-11T22:17:54.176539",
     "exception": false,
     "start_time": "2024-03-11T22:17:54.157268",
     "status": "completed"
    },
    "tags": []
   },
   "outputs": [],
   "source": [
    "\n",
    "def conv_output_shape(h_w, kernel_size=1, stride=1, pad=0, dilation=1):\n",
    "    #by Duane Nielsen\n",
    "    from math import floor\n",
    "    if type(kernel_size) is not tuple:\n",
    "        kernel_size = (kernel_size, kernel_size)\n",
    "    h = floor( ((h_w[0] + (2 * pad) - ( dilation * (kernel_size[0] - 1) ) - 1 )/ stride) + 1)\n",
    "    w = floor( ((h_w[1] + (2 * pad) - ( dilation * (kernel_size[1] - 1) ) - 1 )/ stride) + 1)\n",
    "    return h, w"
   ]
  },
  {
   "cell_type": "markdown",
   "id": "b9e353e5",
   "metadata": {
    "papermill": {
     "duration": 0.010857,
     "end_time": "2024-03-11T22:17:54.198907",
     "exception": false,
     "start_time": "2024-03-11T22:17:54.188050",
     "status": "completed"
    },
    "tags": []
   },
   "source": [
    "<a id=\"ref1\"></a>\n",
    "<h2 align=center>Prepare Data </h2> \n"
   ]
  },
  {
   "cell_type": "markdown",
   "id": "a7082b92",
   "metadata": {
    "papermill": {
     "duration": 0.010691,
     "end_time": "2024-03-11T22:17:54.220452",
     "exception": false,
     "start_time": "2024-03-11T22:17:54.209761",
     "status": "completed"
    },
    "tags": []
   },
   "source": [
    "Load the training dataset with 10000 samples \n"
   ]
  },
  {
   "cell_type": "code",
   "execution_count": 8,
   "id": "bf00a06f",
   "metadata": {
    "execution": {
     "iopub.execute_input": "2024-03-11T22:17:54.244024Z",
     "iopub.status.busy": "2024-03-11T22:17:54.243495Z",
     "iopub.status.idle": "2024-03-11T22:17:54.350289Z",
     "shell.execute_reply": "2024-03-11T22:17:54.349299Z"
    },
    "papermill": {
     "duration": 0.121677,
     "end_time": "2024-03-11T22:17:54.352897",
     "exception": false,
     "start_time": "2024-03-11T22:17:54.231220",
     "status": "completed"
    },
    "tags": []
   },
   "outputs": [],
   "source": [
    "N_images=10000\n",
    "train_dataset=Data(N_images=N_images)"
   ]
  },
  {
   "cell_type": "markdown",
   "id": "1ec96698",
   "metadata": {
    "papermill": {
     "duration": 0.010812,
     "end_time": "2024-03-11T22:17:54.375045",
     "exception": false,
     "start_time": "2024-03-11T22:17:54.364233",
     "status": "completed"
    },
    "tags": []
   },
   "source": [
    "Load the testing dataset\n"
   ]
  },
  {
   "cell_type": "code",
   "execution_count": 9,
   "id": "c6bc4ed6",
   "metadata": {
    "execution": {
     "iopub.execute_input": "2024-03-11T22:17:54.399627Z",
     "iopub.status.busy": "2024-03-11T22:17:54.399291Z",
     "iopub.status.idle": "2024-03-11T22:17:54.411505Z",
     "shell.execute_reply": "2024-03-11T22:17:54.410674Z"
    },
    "papermill": {
     "duration": 0.027194,
     "end_time": "2024-03-11T22:17:54.413351",
     "exception": false,
     "start_time": "2024-03-11T22:17:54.386157",
     "status": "completed"
    },
    "tags": []
   },
   "outputs": [
    {
     "data": {
      "text/plain": [
       "<__main__.Data at 0x7977c8006d70>"
      ]
     },
     "execution_count": 9,
     "metadata": {},
     "output_type": "execute_result"
    }
   ],
   "source": [
    "validation_dataset=Data(N_images=1000,train=False)\n",
    "validation_dataset"
   ]
  },
  {
   "cell_type": "markdown",
   "id": "d8db1216",
   "metadata": {
    "papermill": {
     "duration": 0.053986,
     "end_time": "2024-03-11T22:17:54.478943",
     "exception": false,
     "start_time": "2024-03-11T22:17:54.424957",
     "status": "completed"
    },
    "tags": []
   },
   "source": [
    "we can see the data type is long \n"
   ]
  },
  {
   "cell_type": "markdown",
   "id": "b8e1cf5a",
   "metadata": {
    "papermill": {
     "duration": 0.01096,
     "end_time": "2024-03-11T22:17:54.501307",
     "exception": false,
     "start_time": "2024-03-11T22:17:54.490347",
     "status": "completed"
    },
    "tags": []
   },
   "source": [
    "### Data Visualization \n"
   ]
  },
  {
   "cell_type": "markdown",
   "id": "498f025b",
   "metadata": {
    "papermill": {
     "duration": 0.010733,
     "end_time": "2024-03-11T22:17:54.523241",
     "exception": false,
     "start_time": "2024-03-11T22:17:54.512508",
     "status": "completed"
    },
    "tags": []
   },
   "source": [
    "Each element in the rectangular  tensor corresponds to a number representing a pixel intensity  as demonstrated by  the following image.\n"
   ]
  },
  {
   "cell_type": "markdown",
   "id": "a4fd9d0a",
   "metadata": {
    "papermill": {
     "duration": 0.010745,
     "end_time": "2024-03-11T22:17:54.544898",
     "exception": false,
     "start_time": "2024-03-11T22:17:54.534153",
     "status": "completed"
    },
    "tags": []
   },
   "source": [
    "We can print out the third label \n"
   ]
  },
  {
   "cell_type": "code",
   "execution_count": 10,
   "id": "2d230273",
   "metadata": {
    "execution": {
     "iopub.execute_input": "2024-03-11T22:17:54.568698Z",
     "iopub.status.busy": "2024-03-11T22:17:54.568123Z",
     "iopub.status.idle": "2024-03-11T22:17:54.812673Z",
     "shell.execute_reply": "2024-03-11T22:17:54.811604Z"
    },
    "papermill": {
     "duration": 0.258765,
     "end_time": "2024-03-11T22:17:54.814555",
     "exception": false,
     "start_time": "2024-03-11T22:17:54.555790",
     "status": "completed"
    },
    "tags": []
   },
   "outputs": [
    {
     "data": {
      "image/png": "[encoded data removed]",
      "text/plain": [
       "<Figure size 640x480 with 1 Axes>"
      ]
     },
     "metadata": {},
     "output_type": "display_data"
    }
   ],
   "source": [
    "show_data(train_dataset,0)"
   ]
  },
  {
   "cell_type": "code",
   "execution_count": 11,
   "id": "7555790a",
   "metadata": {
    "execution": {
     "iopub.execute_input": "2024-03-11T22:17:54.839522Z",
     "iopub.status.busy": "2024-03-11T22:17:54.839194Z",
     "iopub.status.idle": "2024-03-11T22:17:55.007617Z",
     "shell.execute_reply": "2024-03-11T22:17:55.006883Z"
    },
    "papermill": {
     "duration": 0.183054,
     "end_time": "2024-03-11T22:17:55.009432",
     "exception": false,
     "start_time": "2024-03-11T22:17:54.826378",
     "status": "completed"
    },
    "tags": []
   },
   "outputs": [
    {
     "data": {
      "image/png": "[encoded data removed]",
      "text/plain": [
       "<Figure size 640x480 with 1 Axes>"
      ]
     },
     "metadata": {},
     "output_type": "display_data"
    }
   ],
   "source": [
    "show_data(train_dataset,N_images//2+2)"
   ]
  },
  {
   "cell_type": "markdown",
   "id": "192b8ce4",
   "metadata": {
    "papermill": {
     "duration": 0.01404,
     "end_time": "2024-03-11T22:17:55.036300",
     "exception": false,
     "start_time": "2024-03-11T22:17:55.022260",
     "status": "completed"
    },
    "tags": []
   },
   "source": [
    "we can plot the 3rd  sample \n"
   ]
  },
  {
   "cell_type": "markdown",
   "id": "9f668f04",
   "metadata": {
    "papermill": {
     "duration": 0.012035,
     "end_time": "2024-03-11T22:17:55.061628",
     "exception": false,
     "start_time": "2024-03-11T22:17:55.049593",
     "status": "completed"
    },
    "tags": []
   },
   "source": [
    "<a id=\"ref3\"></a>\n",
    "### Build a Convolutional Neral Network Class \n"
   ]
  },
  {
   "cell_type": "markdown",
   "id": "0ea0a745",
   "metadata": {
    "papermill": {
     "duration": 0.011783,
     "end_time": "2024-03-11T22:17:55.085619",
     "exception": false,
     "start_time": "2024-03-11T22:17:55.073836",
     "status": "completed"
    },
    "tags": []
   },
   "source": [
    "The input image is 11 x11, the following will change the size of the activations:\n",
    "<ul>\n",
    "<il>convolutional layer</il> \n",
    "</ul>\n",
    "<ul>\n",
    "<il>max pooling layer</il> \n",
    "</ul>\n",
    "<ul>\n",
    "<il>convolutional layer </il>\n",
    "</ul>\n",
    "<ul>\n",
    "<il>max pooling layer </il>\n",
    "</ul>\n",
    "\n",
    "with the following parameters <code>kernel_size</code>, <code>stride</code> and <code> pad</code>.\n",
    "We use the following  lines of code to change the image before we get tot he fully connected layer \n"
   ]
  },
  {
   "cell_type": "code",
   "execution_count": 12,
   "id": "987f2411",
   "metadata": {
    "execution": {
     "iopub.execute_input": "2024-03-11T22:17:55.112309Z",
     "iopub.status.busy": "2024-03-11T22:17:55.111758Z",
     "iopub.status.idle": "2024-03-11T22:17:55.117909Z",
     "shell.execute_reply": "2024-03-11T22:17:55.116932Z"
    },
    "papermill": {
     "duration": 0.021921,
     "end_time": "2024-03-11T22:17:55.119848",
     "exception": false,
     "start_time": "2024-03-11T22:17:55.097927",
     "status": "completed"
    },
    "tags": []
   },
   "outputs": [
    {
     "name": "stdout",
     "output_type": "stream",
     "text": [
      "(10, 10)\n",
      "(9, 9)\n",
      "(8, 8)\n",
      "(7, 7)\n"
     ]
    }
   ],
   "source": [
    "out=conv_output_shape((11,11), kernel_size=2, stride=1, pad=0, dilation=1)\n",
    "print(out)\n",
    "out1=conv_output_shape(out, kernel_size=2, stride=1, pad=0, dilation=1)\n",
    "print(out1)\n",
    "out2=conv_output_shape(out1, kernel_size=2, stride=1, pad=0, dilation=1)\n",
    "print(out2)\n",
    "\n",
    "out3=conv_output_shape(out2, kernel_size=2, stride=1, pad=0, dilation=1)\n",
    "print(out3)"
   ]
  },
  {
   "cell_type": "markdown",
   "id": "3d13af65",
   "metadata": {
    "papermill": {
     "duration": 0.011422,
     "end_time": "2024-03-11T22:17:55.143476",
     "exception": false,
     "start_time": "2024-03-11T22:17:55.132054",
     "status": "completed"
    },
    "tags": []
   },
   "source": [
    "Build a Convolutional Network class with two Convolutional layers and one fully connected layer. Pre-determine the size of the final output matrix. The parameters in the constructor are the number of output channels for the first and second layer.\n"
   ]
  },
  {
   "cell_type": "code",
   "execution_count": 13,
   "id": "f5ac8b59",
   "metadata": {
    "execution": {
     "iopub.execute_input": "2024-03-11T22:17:55.167905Z",
     "iopub.status.busy": "2024-03-11T22:17:55.167624Z",
     "iopub.status.idle": "2024-03-11T22:17:55.175610Z",
     "shell.execute_reply": "2024-03-11T22:17:55.174881Z"
    },
    "papermill": {
     "duration": 0.022078,
     "end_time": "2024-03-11T22:17:55.177123",
     "exception": false,
     "start_time": "2024-03-11T22:17:55.155045",
     "status": "completed"
    },
    "tags": []
   },
   "outputs": [],
   "source": [
    "class CNN(nn.Module):\n",
    "    def __init__(self,out_1=2,out_2=1):\n",
    "        \n",
    "        super(CNN,self).__init__()\n",
    "        #first Convolutional layers \n",
    "        self.cnn1=nn.Conv2d(in_channels=1,out_channels=out_1,kernel_size=2,padding=0)\n",
    "        self.maxpool1=nn.MaxPool2d(kernel_size=2 ,stride=1)\n",
    "\n",
    "        #second Convolutional layers\n",
    "        self.cnn2=nn.Conv2d(in_channels=out_1,out_channels=out_2,kernel_size=2,stride=1,padding=0)\n",
    "        self.maxpool2=nn.MaxPool2d(kernel_size=2 ,stride=1)\n",
    "        #max pooling \n",
    "\n",
    "        #fully connected layer \n",
    "        self.fc1=nn.Linear(out_2*7*7,2)\n",
    "        \n",
    "    def forward(self,x):\n",
    "        #first Convolutional layers\n",
    "        x=self.cnn1(x)\n",
    "        #activation function \n",
    "        x=torch.relu(x)\n",
    "        #max pooling \n",
    "        x=self.maxpool1(x)\n",
    "        #first Convolutional layers\n",
    "        x=self.cnn2(x)\n",
    "        #activation function\n",
    "        x=torch.relu(x)\n",
    "        #max pooling\n",
    "        x=self.maxpool2(x)\n",
    "        #flatten output \n",
    "        x=x.view(x.size(0),-1)\n",
    "        #fully connected layer\n",
    "        x=self.fc1(x)\n",
    "        return x\n",
    "    \n",
    "    def activations(self,x):\n",
    "        #outputs activation this is not necessary just for fun \n",
    "        z1=self.cnn1(x)\n",
    "        a1=torch.relu(z1)\n",
    "        out=self.maxpool1(a1)\n",
    "        \n",
    "        z2=self.cnn2(out)\n",
    "        a2=torch.relu(z2)\n",
    "        out=self.maxpool2(a2)\n",
    "        out=out.view(out.size(0),-1)\n",
    "        return z1,a1,z2,a2,out        "
   ]
  },
  {
   "cell_type": "markdown",
   "id": "09debda3",
   "metadata": {
    "papermill": {
     "duration": 0.011211,
     "end_time": "2024-03-11T22:17:55.199972",
     "exception": false,
     "start_time": "2024-03-11T22:17:55.188761",
     "status": "completed"
    },
    "tags": []
   },
   "source": [
    "<a id=\"ref3\"></a>\n",
    "<h2> Define the Convolutional Neral Network Classifier , Criterion function, Optimizer and Train the  Model  </h2> \n"
   ]
  },
  {
   "cell_type": "markdown",
   "id": "b217fb4b",
   "metadata": {
    "papermill": {
     "duration": 0.011199,
     "end_time": "2024-03-11T22:17:55.222749",
     "exception": false,
     "start_time": "2024-03-11T22:17:55.211550",
     "status": "completed"
    },
    "tags": []
   },
   "source": [
    "There are 2 output channels for the first layer, and 1 outputs channel for the second layer \n"
   ]
  },
  {
   "cell_type": "code",
   "execution_count": 14,
   "id": "24be559a",
   "metadata": {
    "execution": {
     "iopub.execute_input": "2024-03-11T22:17:55.246953Z",
     "iopub.status.busy": "2024-03-11T22:17:55.246631Z",
     "iopub.status.idle": "2024-03-11T22:17:55.255741Z",
     "shell.execute_reply": "2024-03-11T22:17:55.255184Z"
    },
    "papermill": {
     "duration": 0.023071,
     "end_time": "2024-03-11T22:17:55.257194",
     "exception": false,
     "start_time": "2024-03-11T22:17:55.234123",
     "status": "completed"
    },
    "tags": []
   },
   "outputs": [],
   "source": [
    "model=CNN(2,1)"
   ]
  },
  {
   "cell_type": "markdown",
   "id": "7a9d54c7",
   "metadata": {
    "papermill": {
     "duration": 0.01125,
     "end_time": "2024-03-11T22:17:55.280198",
     "exception": false,
     "start_time": "2024-03-11T22:17:55.268948",
     "status": "completed"
    },
    "tags": []
   },
   "source": [
    "we can see the model parameters with the object \n"
   ]
  },
  {
   "cell_type": "code",
   "execution_count": 15,
   "id": "c7898e55",
   "metadata": {
    "execution": {
     "iopub.execute_input": "2024-03-11T22:17:55.305121Z",
     "iopub.status.busy": "2024-03-11T22:17:55.304290Z",
     "iopub.status.idle": "2024-03-11T22:17:55.309865Z",
     "shell.execute_reply": "2024-03-11T22:17:55.309091Z"
    },
    "papermill": {
     "duration": 0.019706,
     "end_time": "2024-03-11T22:17:55.311403",
     "exception": false,
     "start_time": "2024-03-11T22:17:55.291697",
     "status": "completed"
    },
    "tags": []
   },
   "outputs": [
    {
     "data": {
      "text/plain": [
       "CNN(\n",
       "  (cnn1): Conv2d(1, 2, kernel_size=(2, 2), stride=(1, 1))\n",
       "  (maxpool1): MaxPool2d(kernel_size=2, stride=1, padding=0, dilation=1, ceil_mode=False)\n",
       "  (cnn2): Conv2d(2, 1, kernel_size=(2, 2), stride=(1, 1))\n",
       "  (maxpool2): MaxPool2d(kernel_size=2, stride=1, padding=0, dilation=1, ceil_mode=False)\n",
       "  (fc1): Linear(in_features=49, out_features=2, bias=True)\n",
       ")"
      ]
     },
     "execution_count": 15,
     "metadata": {},
     "output_type": "execute_result"
    }
   ],
   "source": [
    "model"
   ]
  },
  {
   "cell_type": "markdown",
   "id": "3abdece3",
   "metadata": {
    "papermill": {
     "duration": 0.01166,
     "end_time": "2024-03-11T22:17:55.335132",
     "exception": false,
     "start_time": "2024-03-11T22:17:55.323472",
     "status": "completed"
    },
    "tags": []
   },
   "source": [
    "Plot the model parameters for the kernels before training the kernels. The kernels are initialized randomly.\n"
   ]
  },
  {
   "cell_type": "code",
   "execution_count": 16,
   "id": "8e6a5cd1",
   "metadata": {
    "execution": {
     "iopub.execute_input": "2024-03-11T22:17:55.361039Z",
     "iopub.status.busy": "2024-03-11T22:17:55.360723Z",
     "iopub.status.idle": "2024-03-11T22:17:55.519333Z",
     "shell.execute_reply": "2024-03-11T22:17:55.518699Z"
    },
    "papermill": {
     "duration": 0.173559,
     "end_time": "2024-03-11T22:17:55.521091",
     "exception": false,
     "start_time": "2024-03-11T22:17:55.347532",
     "status": "completed"
    },
    "tags": []
   },
   "outputs": [
    {
     "data": {
      "image/png": "[encoded data removed]",
      "text/plain": [
       "<Figure size 640x480 with 2 Axes>"
      ]
     },
     "metadata": {},
     "output_type": "display_data"
    }
   ],
   "source": [
    "\n",
    "plot_channels(model.state_dict()['cnn1.weight'])\n"
   ]
  },
  {
   "cell_type": "markdown",
   "id": "4c5434a9",
   "metadata": {
    "papermill": {
     "duration": 0.011332,
     "end_time": "2024-03-11T22:17:55.544472",
     "exception": false,
     "start_time": "2024-03-11T22:17:55.533140",
     "status": "completed"
    },
    "tags": []
   },
   "source": [
    "Loss function \n"
   ]
  },
  {
   "cell_type": "code",
   "execution_count": 17,
   "id": "968de26d",
   "metadata": {
    "execution": {
     "iopub.execute_input": "2024-03-11T22:17:55.569529Z",
     "iopub.status.busy": "2024-03-11T22:17:55.568609Z",
     "iopub.status.idle": "2024-03-11T22:17:55.736665Z",
     "shell.execute_reply": "2024-03-11T22:17:55.735885Z"
    },
    "papermill": {
     "duration": 0.182317,
     "end_time": "2024-03-11T22:17:55.738378",
     "exception": false,
     "start_time": "2024-03-11T22:17:55.556061",
     "status": "completed"
    },
    "tags": []
   },
   "outputs": [
    {
     "data": {
      "image/png": "[encoded data removed]",
      "text/plain": [
       "<Figure size 640x480 with 2 Axes>"
      ]
     },
     "metadata": {},
     "output_type": "display_data"
    }
   ],
   "source": [
    "plot_channels(model.state_dict()['cnn2.weight'])"
   ]
  },
  {
   "cell_type": "markdown",
   "id": "2ea4e333",
   "metadata": {
    "papermill": {
     "duration": 0.011338,
     "end_time": "2024-03-11T22:17:55.761845",
     "exception": false,
     "start_time": "2024-03-11T22:17:55.750507",
     "status": "completed"
    },
    "tags": []
   },
   "source": [
    "Define the loss function \n"
   ]
  },
  {
   "cell_type": "code",
   "execution_count": 18,
   "id": "39c2bf2d",
   "metadata": {
    "execution": {
     "iopub.execute_input": "2024-03-11T22:17:55.786155Z",
     "iopub.status.busy": "2024-03-11T22:17:55.785844Z",
     "iopub.status.idle": "2024-03-11T22:17:55.789481Z",
     "shell.execute_reply": "2024-03-11T22:17:55.788894Z"
    },
    "papermill": {
     "duration": 0.017523,
     "end_time": "2024-03-11T22:17:55.790882",
     "exception": false,
     "start_time": "2024-03-11T22:17:55.773359",
     "status": "completed"
    },
    "tags": []
   },
   "outputs": [],
   "source": [
    "criterion=nn.CrossEntropyLoss()"
   ]
  },
  {
   "cell_type": "markdown",
   "id": "a5132bbb",
   "metadata": {
    "papermill": {
     "duration": 0.011266,
     "end_time": "2024-03-11T22:17:55.813529",
     "exception": false,
     "start_time": "2024-03-11T22:17:55.802263",
     "status": "completed"
    },
    "tags": []
   },
   "source": [
    " optimizer class \n"
   ]
  },
  {
   "cell_type": "code",
   "execution_count": 19,
   "id": "dcd5c0d0",
   "metadata": {
    "execution": {
     "iopub.execute_input": "2024-03-11T22:17:55.837851Z",
     "iopub.status.busy": "2024-03-11T22:17:55.837345Z",
     "iopub.status.idle": "2024-03-11T22:17:55.841547Z",
     "shell.execute_reply": "2024-03-11T22:17:55.840999Z"
    },
    "papermill": {
     "duration": 0.017987,
     "end_time": "2024-03-11T22:17:55.842931",
     "exception": false,
     "start_time": "2024-03-11T22:17:55.824944",
     "status": "completed"
    },
    "tags": []
   },
   "outputs": [],
   "source": [
    "learning_rate=0.001\n",
    "\n",
    "optimizer = torch.optim.Adam(model.parameters(), lr=learning_rate)"
   ]
  },
  {
   "cell_type": "markdown",
   "id": "5aa2e76f",
   "metadata": {
    "papermill": {
     "duration": 0.011398,
     "end_time": "2024-03-11T22:17:55.865839",
     "exception": false,
     "start_time": "2024-03-11T22:17:55.854441",
     "status": "completed"
    },
    "tags": []
   },
   "source": [
    "Define the optimizer class \n"
   ]
  },
  {
   "cell_type": "code",
   "execution_count": 20,
   "id": "e0474868",
   "metadata": {
    "execution": {
     "iopub.execute_input": "2024-03-11T22:17:55.893114Z",
     "iopub.status.busy": "2024-03-11T22:17:55.892461Z",
     "iopub.status.idle": "2024-03-11T22:17:55.897514Z",
     "shell.execute_reply": "2024-03-11T22:17:55.896410Z"
    },
    "papermill": {
     "duration": 0.020183,
     "end_time": "2024-03-11T22:17:55.899118",
     "exception": false,
     "start_time": "2024-03-11T22:17:55.878935",
     "status": "completed"
    },
    "tags": []
   },
   "outputs": [],
   "source": [
    "\n",
    "train_loader=torch.utils.data.DataLoader(dataset=train_dataset,batch_size=10)\n",
    "validation_loader=torch.utils.data.DataLoader(dataset=validation_dataset,batch_size=20)"
   ]
  },
  {
   "cell_type": "markdown",
   "id": "9b5acfc1",
   "metadata": {
    "papermill": {
     "duration": 0.011412,
     "end_time": "2024-03-11T22:17:55.922847",
     "exception": false,
     "start_time": "2024-03-11T22:17:55.911435",
     "status": "completed"
    },
    "tags": []
   },
   "source": [
    "Train the model and determine validation accuracy technically test accuracy **(This may take a long time)**\n"
   ]
  },
  {
   "cell_type": "code",
   "execution_count": 21,
   "id": "b45dc86d",
   "metadata": {
    "execution": {
     "iopub.execute_input": "2024-03-11T22:17:55.947591Z",
     "iopub.status.busy": "2024-03-11T22:17:55.947237Z",
     "iopub.status.idle": "2024-03-11T22:18:10.675021Z",
     "shell.execute_reply": "2024-03-11T22:18:10.674338Z"
    },
    "papermill": {
     "duration": 14.742534,
     "end_time": "2024-03-11T22:18:10.676951",
     "exception": false,
     "start_time": "2024-03-11T22:17:55.934417",
     "status": "completed"
    },
    "tags": []
   },
   "outputs": [],
   "source": [
    "n_epochs=10\n",
    "cost_list=[]\n",
    "accuracy_list=[]\n",
    "N_test=len(validation_dataset)\n",
    "cost=0\n",
    "#n_epochs\n",
    "for epoch in range(n_epochs):\n",
    "    cost=0    \n",
    "    for x, y in train_loader:\n",
    "      \n",
    "\n",
    "        #clear gradient \n",
    "        optimizer.zero_grad()\n",
    "        #make a prediction \n",
    "        z=model(x)\n",
    "        # calculate loss \n",
    "        loss=criterion(z,y)\n",
    "        # calculate gradients of parameters \n",
    "        loss.backward()\n",
    "        # update parameters \n",
    "        optimizer.step()\n",
    "        cost+=loss.item()\n",
    "    cost_list.append(cost)\n",
    "        \n",
    "        \n",
    "    correct=0\n",
    "    #perform a prediction on the validation  data  \n",
    "    for x_test, y_test in validation_loader:\n",
    "\n",
    "        z=model(x_test)\n",
    "        _,yhat=torch.max(z.data,1)\n",
    "\n",
    "        correct+=(yhat==y_test).sum().item()\n",
    "        \n",
    "\n",
    "    accuracy=correct/N_test\n",
    "\n",
    "    accuracy_list.append(accuracy)\n",
    "    \n",
    "\n"
   ]
  },
  {
   "cell_type": "markdown",
   "id": "8a0b11c1",
   "metadata": {
    "papermill": {
     "duration": 0.012319,
     "end_time": "2024-03-11T22:18:10.702210",
     "exception": false,
     "start_time": "2024-03-11T22:18:10.689891",
     "status": "completed"
    },
    "tags": []
   },
   "source": [
    "#### <a id=\"ref3\"></a>\n",
    "<h2 align=center>Analyse Results</h2> \n"
   ]
  },
  {
   "cell_type": "markdown",
   "id": "7f14c046",
   "metadata": {
    "papermill": {
     "duration": 0.011694,
     "end_time": "2024-03-11T22:18:10.725959",
     "exception": false,
     "start_time": "2024-03-11T22:18:10.714265",
     "status": "completed"
    },
    "tags": []
   },
   "source": [
    "Plot the loss and accuracy on the validation data:\n"
   ]
  },
  {
   "cell_type": "code",
   "execution_count": 22,
   "id": "145b3182",
   "metadata": {
    "execution": {
     "iopub.execute_input": "2024-03-11T22:18:10.751545Z",
     "iopub.status.busy": "2024-03-11T22:18:10.751094Z",
     "iopub.status.idle": "2024-03-11T22:18:11.012996Z",
     "shell.execute_reply": "2024-03-11T22:18:11.011946Z"
    },
    "papermill": {
     "duration": 0.276696,
     "end_time": "2024-03-11T22:18:11.014722",
     "exception": false,
     "start_time": "2024-03-11T22:18:10.738026",
     "status": "completed"
    },
    "tags": []
   },
   "outputs": [
    {
     "data": {
      "image/png": "[encoded data removed]",
      "text/plain": [
       "<Figure size 640x480 with 2 Axes>"
      ]
     },
     "metadata": {},
     "output_type": "display_data"
    }
   ],
   "source": [
    "fig, ax1 = plt.subplots()\n",
    "color = 'tab:red'\n",
    "ax1.plot(cost_list,color=color)\n",
    "ax1.set_xlabel('epoch',color=color)\n",
    "ax1.set_ylabel('total loss',color=color)\n",
    "ax1.tick_params(axis='y', color=color)\n",
    "    \n",
    "ax2 = ax1.twinx()  \n",
    "color = 'tab:blue'\n",
    "ax2.set_ylabel('accuracy', color=color)  \n",
    "ax2.plot( accuracy_list, color=color)\n",
    "ax2.tick_params(axis='y', labelcolor=color)\n",
    "fig.tight_layout()"
   ]
  },
  {
   "cell_type": "markdown",
   "id": "96f88c7d",
   "metadata": {
    "papermill": {
     "duration": 0.012565,
     "end_time": "2024-03-11T22:18:11.040051",
     "exception": false,
     "start_time": "2024-03-11T22:18:11.027486",
     "status": "completed"
    },
    "tags": []
   },
   "source": [
    "View the results of the parameters for the Convolutional layers \n"
   ]
  },
  {
   "cell_type": "code",
   "execution_count": 23,
   "id": "ac42281c",
   "metadata": {
    "execution": {
     "iopub.execute_input": "2024-03-11T22:18:11.067030Z",
     "iopub.status.busy": "2024-03-11T22:18:11.066728Z",
     "iopub.status.idle": "2024-03-11T22:18:11.082029Z",
     "shell.execute_reply": "2024-03-11T22:18:11.081238Z"
    },
    "papermill": {
     "duration": 0.031,
     "end_time": "2024-03-11T22:18:11.083747",
     "exception": false,
     "start_time": "2024-03-11T22:18:11.052747",
     "status": "completed"
    },
    "tags": []
   },
   "outputs": [
    {
     "data": {
      "text/plain": [
       "tensor([[[[ 0.3041,  0.4413],\n",
       "          [-0.1945, -0.3132]]],\n",
       "\n",
       "\n",
       "        [[[-0.4151, -0.2359],\n",
       "          [ 0.9517,  0.8967]]]])"
      ]
     },
     "execution_count": 23,
     "metadata": {},
     "output_type": "execute_result"
    }
   ],
   "source": [
    "model.state_dict()['cnn1.weight']"
   ]
  },
  {
   "cell_type": "code",
   "execution_count": 24,
   "id": "80fabce7",
   "metadata": {
    "execution": {
     "iopub.execute_input": "2024-03-11T22:18:11.110419Z",
     "iopub.status.busy": "2024-03-11T22:18:11.110087Z",
     "iopub.status.idle": "2024-03-11T22:18:11.262923Z",
     "shell.execute_reply": "2024-03-11T22:18:11.262141Z"
    },
    "papermill": {
     "duration": 0.168015,
     "end_time": "2024-03-11T22:18:11.264498",
     "exception": false,
     "start_time": "2024-03-11T22:18:11.096483",
     "status": "completed"
    },
    "tags": []
   },
   "outputs": [
    {
     "data": {
      "image/png": "[encoded data removed]",
      "text/plain": [
       "<Figure size 640x480 with 2 Axes>"
      ]
     },
     "metadata": {},
     "output_type": "display_data"
    }
   ],
   "source": [
    "plot_channels(model.state_dict()['cnn1.weight'])"
   ]
  },
  {
   "cell_type": "code",
   "execution_count": 25,
   "id": "770f1fc7",
   "metadata": {
    "execution": {
     "iopub.execute_input": "2024-03-11T22:18:11.291776Z",
     "iopub.status.busy": "2024-03-11T22:18:11.291501Z",
     "iopub.status.idle": "2024-03-11T22:18:11.297377Z",
     "shell.execute_reply": "2024-03-11T22:18:11.296637Z"
    },
    "papermill": {
     "duration": 0.022119,
     "end_time": "2024-03-11T22:18:11.299469",
     "exception": false,
     "start_time": "2024-03-11T22:18:11.277350",
     "status": "completed"
    },
    "tags": []
   },
   "outputs": [
    {
     "data": {
      "text/plain": [
       "tensor([[[[ 0.3041,  0.4413],\n",
       "          [-0.1945, -0.3132]]],\n",
       "\n",
       "\n",
       "        [[[-0.4151, -0.2359],\n",
       "          [ 0.9517,  0.8967]]]])"
      ]
     },
     "execution_count": 25,
     "metadata": {},
     "output_type": "execute_result"
    }
   ],
   "source": [
    "model.state_dict()['cnn1.weight']"
   ]
  },
  {
   "cell_type": "code",
   "execution_count": 26,
   "id": "ee62d231",
   "metadata": {
    "execution": {
     "iopub.execute_input": "2024-03-11T22:18:11.327135Z",
     "iopub.status.busy": "2024-03-11T22:18:11.326876Z",
     "iopub.status.idle": "2024-03-11T22:18:11.514575Z",
     "shell.execute_reply": "2024-03-11T22:18:11.513504Z"
    },
    "papermill": {
     "duration": 0.204081,
     "end_time": "2024-03-11T22:18:11.516833",
     "exception": false,
     "start_time": "2024-03-11T22:18:11.312752",
     "status": "completed"
    },
    "tags": []
   },
   "outputs": [
    {
     "data": {
      "image/png": "[encoded data removed]",
      "text/plain": [
       "<Figure size 640x480 with 2 Axes>"
      ]
     },
     "metadata": {},
     "output_type": "display_data"
    }
   ],
   "source": [
    "plot_channels(model.state_dict()['cnn2.weight'])"
   ]
  },
  {
   "cell_type": "markdown",
   "id": "28fd866e",
   "metadata": {
    "papermill": {
     "duration": 0.012225,
     "end_time": "2024-03-11T22:18:11.542028",
     "exception": false,
     "start_time": "2024-03-11T22:18:11.529803",
     "status": "completed"
    },
    "tags": []
   },
   "source": [
    "Consider the following sample \n"
   ]
  },
  {
   "cell_type": "code",
   "execution_count": 27,
   "id": "a3ce8f55",
   "metadata": {
    "execution": {
     "iopub.execute_input": "2024-03-11T22:18:11.568239Z",
     "iopub.status.busy": "2024-03-11T22:18:11.567950Z",
     "iopub.status.idle": "2024-03-11T22:18:11.732582Z",
     "shell.execute_reply": "2024-03-11T22:18:11.731815Z"
    },
    "papermill": {
     "duration": 0.17978,
     "end_time": "2024-03-11T22:18:11.734195",
     "exception": false,
     "start_time": "2024-03-11T22:18:11.554415",
     "status": "completed"
    },
    "tags": []
   },
   "outputs": [
    {
     "data": {
      "image/png": "[encoded data removed]",
      "text/plain": [
       "<Figure size 640x480 with 1 Axes>"
      ]
     },
     "metadata": {},
     "output_type": "display_data"
    }
   ],
   "source": [
    "show_data(train_dataset,N_images//2+2)"
   ]
  },
  {
   "cell_type": "markdown",
   "id": "c1bc7219",
   "metadata": {
    "papermill": {
     "duration": 0.012956,
     "end_time": "2024-03-11T22:18:11.761150",
     "exception": false,
     "start_time": "2024-03-11T22:18:11.748194",
     "status": "completed"
    },
    "tags": []
   },
   "source": [
    "Determine the activations \n"
   ]
  },
  {
   "cell_type": "code",
   "execution_count": 28,
   "id": "289f2e49",
   "metadata": {
    "execution": {
     "iopub.execute_input": "2024-03-11T22:18:11.788053Z",
     "iopub.status.busy": "2024-03-11T22:18:11.787733Z",
     "iopub.status.idle": "2024-03-11T22:18:11.796973Z",
     "shell.execute_reply": "2024-03-11T22:18:11.796346Z"
    },
    "papermill": {
     "duration": 0.025204,
     "end_time": "2024-03-11T22:18:11.799147",
     "exception": false,
     "start_time": "2024-03-11T22:18:11.773943",
     "status": "completed"
    },
    "tags": []
   },
   "outputs": [],
   "source": [
    "out=model.activations(train_dataset[N_images//2+2][0].view(1,1,11,11))\n",
    "out=model.activations(train_dataset[0][0].view(1,1,11,11))"
   ]
  },
  {
   "cell_type": "markdown",
   "id": "358d4d56",
   "metadata": {
    "papermill": {
     "duration": 0.012938,
     "end_time": "2024-03-11T22:18:11.825998",
     "exception": false,
     "start_time": "2024-03-11T22:18:11.813060",
     "status": "completed"
    },
    "tags": []
   },
   "source": [
    "Plot them out\n"
   ]
  },
  {
   "cell_type": "code",
   "execution_count": 29,
   "id": "73b84143",
   "metadata": {
    "execution": {
     "iopub.execute_input": "2024-03-11T22:18:11.855037Z",
     "iopub.status.busy": "2024-03-11T22:18:11.854511Z",
     "iopub.status.idle": "2024-03-11T22:18:11.935239Z",
     "shell.execute_reply": "2024-03-11T22:18:11.934552Z"
    },
    "papermill": {
     "duration": 0.097042,
     "end_time": "2024-03-11T22:18:11.937183",
     "exception": false,
     "start_time": "2024-03-11T22:18:11.840141",
     "status": "completed"
    },
    "tags": []
   },
   "outputs": [
    {
     "name": "stdout",
     "output_type": "stream",
     "text": [
      "2\n"
     ]
    },
    {
     "data": {
      "image/png": "[encoded data removed]",
      "text/plain": [
       "<Figure size 640x480 with 2 Axes>"
      ]
     },
     "metadata": {},
     "output_type": "display_data"
    }
   ],
   "source": [
    "plot_activations(out[0],number_rows=1,name=\" feature map\")\n",
    "plt.show()\n"
   ]
  },
  {
   "cell_type": "code",
   "execution_count": 30,
   "id": "1add915f",
   "metadata": {
    "execution": {
     "iopub.execute_input": "2024-03-11T22:18:11.973935Z",
     "iopub.status.busy": "2024-03-11T22:18:11.973308Z",
     "iopub.status.idle": "2024-03-11T22:18:12.143785Z",
     "shell.execute_reply": "2024-03-11T22:18:12.142968Z"
    },
    "papermill": {
     "duration": 0.190787,
     "end_time": "2024-03-11T22:18:12.145566",
     "exception": false,
     "start_time": "2024-03-11T22:18:11.954779",
     "status": "completed"
    },
    "tags": []
   },
   "outputs": [
    {
     "name": "stdout",
     "output_type": "stream",
     "text": [
      "1\n"
     ]
    },
    {
     "data": {
      "image/png": "[encoded data removed]",
      "text/plain": [
       "<Figure size 640x480 with 1 Axes>"
      ]
     },
     "metadata": {},
     "output_type": "display_data"
    }
   ],
   "source": [
    "plot_activations(out[2],number_rows=1,name=\"2nd feature map\")\n",
    "plt.show()"
   ]
  },
  {
   "cell_type": "code",
   "execution_count": 31,
   "id": "63045557",
   "metadata": {
    "execution": {
     "iopub.execute_input": "2024-03-11T22:18:12.173877Z",
     "iopub.status.busy": "2024-03-11T22:18:12.173208Z",
     "iopub.status.idle": "2024-03-11T22:18:12.331201Z",
     "shell.execute_reply": "2024-03-11T22:18:12.330454Z"
    },
    "papermill": {
     "duration": 0.17382,
     "end_time": "2024-03-11T22:18:12.332931",
     "exception": false,
     "start_time": "2024-03-11T22:18:12.159111",
     "status": "completed"
    },
    "tags": []
   },
   "outputs": [
    {
     "name": "stdout",
     "output_type": "stream",
     "text": [
      "1\n"
     ]
    },
    {
     "data": {
      "image/png": "[encoded data removed]",
      "text/plain": [
       "<Figure size 640x480 with 1 Axes>"
      ]
     },
     "metadata": {},
     "output_type": "display_data"
    }
   ],
   "source": [
    "plot_activations(out[3],number_rows=1,name=\"first feature map\")\n",
    "plt.show()"
   ]
  },
  {
   "cell_type": "markdown",
   "id": "06b96077",
   "metadata": {
    "papermill": {
     "duration": 0.013218,
     "end_time": "2024-03-11T22:18:12.360154",
     "exception": false,
     "start_time": "2024-03-11T22:18:12.346936",
     "status": "completed"
    },
    "tags": []
   },
   "source": [
    "we save the output of the activation after flattening  \n"
   ]
  },
  {
   "cell_type": "code",
   "execution_count": 32,
   "id": "5e13706f",
   "metadata": {
    "execution": {
     "iopub.execute_input": "2024-03-11T22:18:12.388834Z",
     "iopub.status.busy": "2024-03-11T22:18:12.388537Z",
     "iopub.status.idle": "2024-03-11T22:18:12.392350Z",
     "shell.execute_reply": "2024-03-11T22:18:12.391616Z"
    },
    "papermill": {
     "duration": 0.020001,
     "end_time": "2024-03-11T22:18:12.393956",
     "exception": false,
     "start_time": "2024-03-11T22:18:12.373955",
     "status": "completed"
    },
    "tags": []
   },
   "outputs": [],
   "source": [
    "out1=out[4][0].detach().numpy()"
   ]
  },
  {
   "cell_type": "markdown",
   "id": "27bb5cf8",
   "metadata": {
    "papermill": {
     "duration": 0.012975,
     "end_time": "2024-03-11T22:18:12.420503",
     "exception": false,
     "start_time": "2024-03-11T22:18:12.407528",
     "status": "completed"
    },
    "tags": []
   },
   "source": [
    "we can do the same for a sample  where y=0 \n"
   ]
  },
  {
   "cell_type": "code",
   "execution_count": 33,
   "id": "1e5a9787",
   "metadata": {
    "execution": {
     "iopub.execute_input": "2024-03-11T22:18:12.449996Z",
     "iopub.status.busy": "2024-03-11T22:18:12.449673Z",
     "iopub.status.idle": "2024-03-11T22:18:12.455987Z",
     "shell.execute_reply": "2024-03-11T22:18:12.455371Z"
    },
    "papermill": {
     "duration": 0.02394,
     "end_time": "2024-03-11T22:18:12.457588",
     "exception": false,
     "start_time": "2024-03-11T22:18:12.433648",
     "status": "completed"
    },
    "tags": []
   },
   "outputs": [
    {
     "data": {
      "text/plain": [
       "array([0.7997855 , 1.2404325 , 1.7085086 , 2.1563177 , 2.1563177 ,\n",
       "       1.9226813 , 0.9100927 , 0.7231478 , 1.6324586 , 2.108326  ,\n",
       "       2.149145  , 2.149145  , 1.5817385 , 0.7448795 , 0.77536476,\n",
       "       1.7689836 , 2.1715913 , 2.1715913 , 1.9323637 , 1.4165251 ,\n",
       "       0.7448795 , 0.77536476, 1.7689836 , 2.1715913 , 2.1715913 ,\n",
       "       1.921258  , 1.4165251 , 0.7448795 , 0.6289925 , 1.4992121 ,\n",
       "       2.0196767 , 2.0196767 , 1.9030783 , 1.4165251 , 0.7448795 ,\n",
       "       0.72838205, 1.5874996 , 2.044272  , 2.044272  , 1.9030783 ,\n",
       "       1.4165251 , 0.7448795 , 0.72838205, 1.5874996 , 2.044272  ,\n",
       "       2.044272  , 1.9831526 , 1.6904175 , 0.8386464 ], dtype=float32)"
      ]
     },
     "execution_count": 33,
     "metadata": {},
     "output_type": "execute_result"
    }
   ],
   "source": [
    "out0=model.activations(train_dataset[100][0].view(1,1,11,11))[4][0].detach().numpy()\n",
    "out0"
   ]
  },
  {
   "cell_type": "code",
   "execution_count": 34,
   "id": "32e55ff1",
   "metadata": {
    "execution": {
     "iopub.execute_input": "2024-03-11T22:18:12.487996Z",
     "iopub.status.busy": "2024-03-11T22:18:12.487428Z",
     "iopub.status.idle": "2024-03-11T22:18:12.777209Z",
     "shell.execute_reply": "2024-03-11T22:18:12.776459Z"
    },
    "papermill": {
     "duration": 0.307037,
     "end_time": "2024-03-11T22:18:12.778912",
     "exception": false,
     "start_time": "2024-03-11T22:18:12.471875",
     "status": "completed"
    },
    "tags": []
   },
   "outputs": [
    {
     "data": {
      "text/plain": [
       "Text(0, 0.5, 'Activation')"
      ]
     },
     "execution_count": 34,
     "metadata": {},
     "output_type": "execute_result"
    },
    {
     "data": {
      "image/png": "[encoded data removed]",
      "text/plain": [
       "<Figure size 640x480 with 2 Axes>"
      ]
     },
     "metadata": {},
     "output_type": "display_data"
    }
   ],
   "source": [
    "plt.subplot(2, 1, 1)\n",
    "plt.plot( out1, 'b')\n",
    "plt.title('Flatted Activation Values  ')\n",
    "plt.ylabel('Activation')\n",
    "plt.xlabel('index')\n",
    "plt.subplot(2, 1, 2)\n",
    "plt.plot(out0, 'r')\n",
    "plt.xlabel('index')\n",
    "plt.ylabel('Activation')"
   ]
  }
 ],
 "metadata": {
  "kaggle": {
   "accelerator": "none",
   "dataSources": [],
   "dockerImageVersionId": 30664,
   "isGpuEnabled": false,
   "isInternetEnabled": true,
   "language": "python",
   "sourceType": "notebook"
  },
  "kernelspec": {
   "display_name": "Python 3",
   "language": "python",
   "name": "python3"
  },
  "language_info": {
   "codemirror_mode": {
    "name": "ipython",
    "version": 3
   },
   "file_extension": ".py",
   "mimetype": "text/x-python",
   "name": "python",
   "nbconvert_exporter": "python",
   "pygments_lexer": "ipython3",
   "version": "3.10.13"
  },
  "papermill": {
   "default_parameters": {},
   "duration": 28.274392,
   "end_time": "2024-03-11T22:18:13.916031",
   "environment_variables": {},
   "exception": null,
   "input_path": "__notebook__.ipynb",
   "output_path": "__notebook__.ipynb",
   "parameters": {},
   "start_time": "2024-03-11T22:17:45.641639",
   "version": "2.5.0"
  }
 },
 "nbformat": 4,
 "nbformat_minor": 5
}
