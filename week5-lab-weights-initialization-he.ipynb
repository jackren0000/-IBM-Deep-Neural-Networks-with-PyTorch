{
 "cells": [
  {
   "cell_type": "markdown",
   "id": "82cc8c23",
   "metadata": {
    "papermill": {
     "duration": 0.012755,
     "end_time": "2024-03-11T14:12:39.204941",
     "exception": false,
     "start_time": "2024-03-11T14:12:39.192186",
     "status": "completed"
    },
    "tags": []
   },
   "source": [
    "<p style=\"text-align:center\">\n",
    "    <a href=\"https://skills.network/?utm_medium=Exinfluencer&utm_source=Exinfluencer&utm_content=000026UJ&utm_term=10006555&utm_id=NA-SkillsNetwork-Channel-SkillsNetworkCoursesIBMDeveloperSkillsNetworkDL0110ENSkillsNetwork952-2022-01-01\" target=\"_blank\">\n",
    "    <img src=\"https://cf-courses-data.s3.us.cloud-object-storage.appdomain.cloud/assets/logos/SN_web_lightmode.png\" width=\"200\" alt=\"Skills Network Logo\"  />\n",
    "    </a>\n",
    "</p>\n"
   ]
  },
  {
   "cell_type": "markdown",
   "id": "066bdc96",
   "metadata": {
    "papermill": {
     "duration": 0.011098,
     "end_time": "2024-03-11T14:12:39.227844",
     "exception": false,
     "start_time": "2024-03-11T14:12:39.216746",
     "status": "completed"
    },
    "tags": []
   },
   "source": [
    "<h1>Test Uniform, Default and He Initialization on MNIST Dataset with Relu Activation</h1>\n"
   ]
  },
  {
   "cell_type": "markdown",
   "id": "221903c5",
   "metadata": {
    "papermill": {
     "duration": 0.011167,
     "end_time": "2024-03-11T14:12:39.250703",
     "exception": false,
     "start_time": "2024-03-11T14:12:39.239536",
     "status": "completed"
    },
    "tags": []
   },
   "source": [
    "\n",
    "<h3>Objective for this Notebook<h3>    \n",
    "<h5> 1. Learn how to Define Several Neural Network, Criterion function, Optimizer.</h5>\n",
    "<h5> 2. Test Uniform, Default and He Initialization </h5>   \n",
    "\n"
   ]
  },
  {
   "cell_type": "markdown",
   "id": "b132571f",
   "metadata": {
    "papermill": {
     "duration": 0.011175,
     "end_time": "2024-03-11T14:12:39.273418",
     "exception": false,
     "start_time": "2024-03-11T14:12:39.262243",
     "status": "completed"
    },
    "tags": []
   },
   "source": [
    "<h2>Table of Contents</h2>\n",
    "<p>In this lab, you will test the Uniform Initialization, Default Initialization and He Initialization on the MNIST dataset with Relu Activation</p>\n",
    "\n",
    "<ul>\n",
    "    <li><a href=\"#Model\">Neural Network Module and Training Function</a></li>\n",
    "    <li><a href=\"#Makeup_Data\">Make Some Data</a></li>\n",
    "    <li><a href=\"#Cost\">Define Several Neural Network, Criterion function, Optimizer</a></li>\n",
    "    <li><a href=\"#Train\">Test Uniform, Default and He Initialization</a></li>\n",
    "    <li><a href=\"#Result\">Analyze Results</a></li>\n",
    "</ul>\n",
    "<p>Estimated Time Needed: <strong>25 min</strong></p>\n",
    "\n",
    "<hr>\n"
   ]
  },
  {
   "cell_type": "markdown",
   "id": "fe89abfc",
   "metadata": {
    "papermill": {
     "duration": 0.01131,
     "end_time": "2024-03-11T14:12:39.296334",
     "exception": false,
     "start_time": "2024-03-11T14:12:39.285024",
     "status": "completed"
    },
    "tags": []
   },
   "source": [
    "<h2>Preparation</h2>\n"
   ]
  },
  {
   "cell_type": "markdown",
   "id": "d3288b9e",
   "metadata": {
    "papermill": {
     "duration": 0.011149,
     "end_time": "2024-03-11T14:12:39.319161",
     "exception": false,
     "start_time": "2024-03-11T14:12:39.308012",
     "status": "completed"
    },
    "tags": []
   },
   "source": [
    "We'll need the following libraries:  \n"
   ]
  },
  {
   "cell_type": "code",
   "execution_count": 1,
   "id": "cd422f4d",
   "metadata": {
    "execution": {
     "iopub.execute_input": "2024-03-11T14:12:39.344919Z",
     "iopub.status.busy": "2024-03-11T14:12:39.344513Z",
     "iopub.status.idle": "2024-03-11T14:12:46.966361Z",
     "shell.execute_reply": "2024-03-11T14:12:46.965237Z"
    },
    "papermill": {
     "duration": 7.63764,
     "end_time": "2024-03-11T14:12:46.968787",
     "exception": false,
     "start_time": "2024-03-11T14:12:39.331147",
     "status": "completed"
    },
    "tags": []
   },
   "outputs": [
    {
     "data": {
      "text/plain": [
       "<torch._C.Generator at 0x7e163e9cb050>"
      ]
     },
     "execution_count": 1,
     "metadata": {},
     "output_type": "execute_result"
    }
   ],
   "source": [
    "# Import the libraries we need to use in this lab\n",
    "\n",
    "# Using the following line code to install the torchvision library\n",
    "# !mamba install -y torchvision\n",
    "\n",
    "import torch \n",
    "import torch.nn as nn\n",
    "import torchvision.transforms as transforms\n",
    "import torchvision.datasets as dsets\n",
    "import torch.nn.functional as F\n",
    "import matplotlib.pylab as plt\n",
    "import numpy as np\n",
    "\n",
    "torch.manual_seed(0)"
   ]
  },
  {
   "cell_type": "markdown",
   "id": "f4f30dfe",
   "metadata": {
    "papermill": {
     "duration": 0.011461,
     "end_time": "2024-03-11T14:12:46.992997",
     "exception": false,
     "start_time": "2024-03-11T14:12:46.981536",
     "status": "completed"
    },
    "tags": []
   },
   "source": [
    "<!--Empty Space for separating topics-->\n"
   ]
  },
  {
   "cell_type": "markdown",
   "id": "cd7d63be",
   "metadata": {
    "papermill": {
     "duration": 0.011593,
     "end_time": "2024-03-11T14:12:47.016481",
     "exception": false,
     "start_time": "2024-03-11T14:12:47.004888",
     "status": "completed"
    },
    "tags": []
   },
   "source": [
    "<h2 id=\"Model\">Neural Network Module and Training Function</h2> \n"
   ]
  },
  {
   "cell_type": "markdown",
   "id": "88d06cc6",
   "metadata": {
    "papermill": {
     "duration": 0.01162,
     "end_time": "2024-03-11T14:12:47.040696",
     "exception": false,
     "start_time": "2024-03-11T14:12:47.029076",
     "status": "completed"
    },
    "tags": []
   },
   "source": [
    "Define the neural network module or class with He Initialization\n"
   ]
  },
  {
   "cell_type": "code",
   "execution_count": 2,
   "id": "d1e3cc88",
   "metadata": {
    "execution": {
     "iopub.execute_input": "2024-03-11T14:12:47.067727Z",
     "iopub.status.busy": "2024-03-11T14:12:47.067107Z",
     "iopub.status.idle": "2024-03-11T14:12:47.077396Z",
     "shell.execute_reply": "2024-03-11T14:12:47.076106Z"
    },
    "papermill": {
     "duration": 0.026733,
     "end_time": "2024-03-11T14:12:47.079929",
     "exception": false,
     "start_time": "2024-03-11T14:12:47.053196",
     "status": "completed"
    },
    "tags": []
   },
   "outputs": [],
   "source": [
    "# Define the class for neural network model with He Initialization\n",
    "\n",
    "class Net_He(nn.Module):\n",
    "    \n",
    "    # Constructor\n",
    "    def __init__(self, Layers):\n",
    "        super(Net_He, self).__init__()\n",
    "        self.hidden = nn.ModuleList()\n",
    "\n",
    "        for input_size, output_size in zip(Layers, Layers[1:]):\n",
    "            linear = nn.Linear(input_size, output_size)\n",
    "            torch.nn.init.kaiming_uniform_(linear.weight, nonlinearity='relu')\n",
    "            self.hidden.append(linear)\n",
    "\n",
    "    # Prediction\n",
    "    def forward(self, x):\n",
    "        L = len(self.hidden)\n",
    "        for (l, linear_transform) in zip(range(L), self.hidden):\n",
    "            if l < L - 1:\n",
    "                x = F.relu(linear_transform(x))\n",
    "            else:\n",
    "                x = linear_transform(x)\n",
    "        return x"
   ]
  },
  {
   "cell_type": "markdown",
   "id": "b5e8d7a9",
   "metadata": {
    "papermill": {
     "duration": 0.011592,
     "end_time": "2024-03-11T14:12:47.105049",
     "exception": false,
     "start_time": "2024-03-11T14:12:47.093457",
     "status": "completed"
    },
    "tags": []
   },
   "source": [
    "Define the class or neural network with Uniform Initialization\n"
   ]
  },
  {
   "cell_type": "code",
   "execution_count": 3,
   "id": "e1789444",
   "metadata": {
    "execution": {
     "iopub.execute_input": "2024-03-11T14:12:47.130410Z",
     "iopub.status.busy": "2024-03-11T14:12:47.129960Z",
     "iopub.status.idle": "2024-03-11T14:12:47.139827Z",
     "shell.execute_reply": "2024-03-11T14:12:47.138561Z"
    },
    "papermill": {
     "duration": 0.025242,
     "end_time": "2024-03-11T14:12:47.142083",
     "exception": false,
     "start_time": "2024-03-11T14:12:47.116841",
     "status": "completed"
    },
    "tags": []
   },
   "outputs": [],
   "source": [
    "# Define the class for neural network model with Uniform Initialization\n",
    "\n",
    "class Net_Uniform(nn.Module):\n",
    "    \n",
    "    # Constructor\n",
    "    def __init__(self, Layers):\n",
    "        super(Net_Uniform, self).__init__()\n",
    "        self.hidden = nn.ModuleList()\n",
    "\n",
    "        for input_size, output_size in zip(Layers, Layers[1:]):\n",
    "            linear = nn.Linear(input_size,output_size)\n",
    "            linear.weight.data.uniform_(0, 1)\n",
    "            self.hidden.append(linear)\n",
    "    \n",
    "    # Prediction\n",
    "    def forward(self, x):\n",
    "        L = len(self.hidden)\n",
    "        for (l, linear_transform) in zip(range(L), self.hidden):\n",
    "            if l < L - 1:\n",
    "                x = F.relu(linear_transform(x))\n",
    "            else:\n",
    "                x = linear_transform(x)\n",
    "                \n",
    "        return x"
   ]
  },
  {
   "cell_type": "markdown",
   "id": "d4ac4c42",
   "metadata": {
    "papermill": {
     "duration": 0.011739,
     "end_time": "2024-03-11T14:12:47.167099",
     "exception": false,
     "start_time": "2024-03-11T14:12:47.155360",
     "status": "completed"
    },
    "tags": []
   },
   "source": [
    "Class or Neural Network with PyTorch Default Initialization\n"
   ]
  },
  {
   "cell_type": "code",
   "execution_count": 4,
   "id": "a1ae4425",
   "metadata": {
    "execution": {
     "iopub.execute_input": "2024-03-11T14:12:47.192631Z",
     "iopub.status.busy": "2024-03-11T14:12:47.192129Z",
     "iopub.status.idle": "2024-03-11T14:12:47.201980Z",
     "shell.execute_reply": "2024-03-11T14:12:47.200641Z"
    },
    "papermill": {
     "duration": 0.025355,
     "end_time": "2024-03-11T14:12:47.204315",
     "exception": false,
     "start_time": "2024-03-11T14:12:47.178960",
     "status": "completed"
    },
    "tags": []
   },
   "outputs": [],
   "source": [
    "# Define the class for neural network model with PyTorch Default Initialization\n",
    "\n",
    "class Net(nn.Module):\n",
    "    \n",
    "    # Constructor\n",
    "    def __init__(self, Layers):\n",
    "        super(Net, self).__init__()\n",
    "        self.hidden = nn.ModuleList()\n",
    "\n",
    "        for input_size, output_size in zip(Layers, Layers[1:]):\n",
    "            linear = nn.Linear(input_size, output_size)\n",
    "            self.hidden.append(linear)\n",
    "        \n",
    "    def forward(self, x):\n",
    "        L=len(self.hidden)\n",
    "        for (l, linear_transform) in zip(range(L), self.hidden):\n",
    "            if l < L - 1:\n",
    "                x = F.relu(linear_transform(x))\n",
    "            else:\n",
    "                x = linear_transform(x)\n",
    "                \n",
    "        return x"
   ]
  },
  {
   "cell_type": "markdown",
   "id": "f5f0a3fe",
   "metadata": {
    "papermill": {
     "duration": 0.012283,
     "end_time": "2024-03-11T14:12:47.228527",
     "exception": false,
     "start_time": "2024-03-11T14:12:47.216244",
     "status": "completed"
    },
    "tags": []
   },
   "source": [
    "Define a function to train the model, in this case the function returns a Python dictionary to store the training loss and accuracy on the validation data \n"
   ]
  },
  {
   "cell_type": "code",
   "execution_count": 5,
   "id": "51741ad5",
   "metadata": {
    "execution": {
     "iopub.execute_input": "2024-03-11T14:12:47.253654Z",
     "iopub.status.busy": "2024-03-11T14:12:47.253252Z",
     "iopub.status.idle": "2024-03-11T14:12:47.263527Z",
     "shell.execute_reply": "2024-03-11T14:12:47.262328Z"
    },
    "papermill": {
     "duration": 0.025761,
     "end_time": "2024-03-11T14:12:47.266105",
     "exception": false,
     "start_time": "2024-03-11T14:12:47.240344",
     "status": "completed"
    },
    "tags": []
   },
   "outputs": [],
   "source": [
    "# Define function to  train model\n",
    "\n",
    "def train(model, criterion, train_loader, validation_loader, optimizer, epochs = 100):\n",
    "    i = 0\n",
    "    loss_accuracy = {'training_loss': [], 'validation_accuracy': []}  \n",
    "    \n",
    "    #n_epochs\n",
    "    for epoch in range(epochs):\n",
    "        for i, (x, y) in enumerate(train_loader):\n",
    "            optimizer.zero_grad()\n",
    "            z = model(x.view(-1, 28 * 28))\n",
    "            loss = criterion(z, y)\n",
    "            loss.backward()\n",
    "            optimizer.step()\n",
    "            loss_accuracy['training_loss'].append(loss.data.item())\n",
    "        \n",
    "        correct = 0\n",
    "        for x, y in validation_loader:\n",
    "            yhat = model(x.view(-1, 28 * 28))\n",
    "            _, label = torch.max(yhat, 1)\n",
    "            correct += (label == y).sum().item()\n",
    "        accuracy = 100 * (correct / len(validation_dataset))\n",
    "        loss_accuracy['validation_accuracy'].append(accuracy)\n",
    "    \n",
    "    return loss_accuracy"
   ]
  },
  {
   "cell_type": "markdown",
   "id": "2ed4197c",
   "metadata": {
    "papermill": {
     "duration": 0.011332,
     "end_time": "2024-03-11T14:12:47.289719",
     "exception": false,
     "start_time": "2024-03-11T14:12:47.278387",
     "status": "completed"
    },
    "tags": []
   },
   "source": [
    "<!--Empty Space for separating topics-->\n"
   ]
  },
  {
   "cell_type": "markdown",
   "id": "14db31f6",
   "metadata": {
    "papermill": {
     "duration": 0.011168,
     "end_time": "2024-03-11T14:12:47.312736",
     "exception": false,
     "start_time": "2024-03-11T14:12:47.301568",
     "status": "completed"
    },
    "tags": []
   },
   "source": [
    "<h2 id=\"Makeup_Data\">Make some Data</h2> \n"
   ]
  },
  {
   "cell_type": "markdown",
   "id": "d568949a",
   "metadata": {
    "papermill": {
     "duration": 0.011806,
     "end_time": "2024-03-11T14:12:47.336212",
     "exception": false,
     "start_time": "2024-03-11T14:12:47.324406",
     "status": "completed"
    },
    "tags": []
   },
   "source": [
    "Load the training dataset by setting the parameters <code>train </code> to <code>True</code> and convert it to a tensor  by placing a transform object int the argument <code>transform</code>\n"
   ]
  },
  {
   "cell_type": "code",
   "execution_count": 6,
   "id": "67da48d2",
   "metadata": {
    "execution": {
     "iopub.execute_input": "2024-03-11T14:12:47.362000Z",
     "iopub.status.busy": "2024-03-11T14:12:47.361575Z",
     "iopub.status.idle": "2024-03-11T14:12:48.617059Z",
     "shell.execute_reply": "2024-03-11T14:12:48.615837Z"
    },
    "papermill": {
     "duration": 1.272078,
     "end_time": "2024-03-11T14:12:48.620186",
     "exception": false,
     "start_time": "2024-03-11T14:12:47.348108",
     "status": "completed"
    },
    "tags": []
   },
   "outputs": [
    {
     "name": "stdout",
     "output_type": "stream",
     "text": [
      "Downloading http://yann.lecun.com/exdb/mnist/train-images-idx3-ubyte.gz\n",
      "Downloading http://yann.lecun.com/exdb/mnist/train-images-idx3-ubyte.gz to ./data/MNIST/raw/train-images-idx3-ubyte.gz\n"
     ]
    },
    {
     "name": "stderr",
     "output_type": "stream",
     "text": [
      "100%|██████████| 9912422/9912422 [00:00<00:00, 93313233.63it/s]\n"
     ]
    },
    {
     "name": "stdout",
     "output_type": "stream",
     "text": [
      "Extracting ./data/MNIST/raw/train-images-idx3-ubyte.gz to ./data/MNIST/raw\n",
      "\n",
      "Downloading http://yann.lecun.com/exdb/mnist/train-labels-idx1-ubyte.gz\n",
      "Downloading http://yann.lecun.com/exdb/mnist/train-labels-idx1-ubyte.gz to ./data/MNIST/raw/train-labels-idx1-ubyte.gz\n"
     ]
    },
    {
     "name": "stderr",
     "output_type": "stream",
     "text": [
      "100%|██████████| 28881/28881 [00:00<00:00, 41627386.19it/s]\n"
     ]
    },
    {
     "name": "stdout",
     "output_type": "stream",
     "text": [
      "Extracting ./data/MNIST/raw/train-labels-idx1-ubyte.gz to ./data/MNIST/raw\n",
      "\n",
      "Downloading http://yann.lecun.com/exdb/mnist/t10k-images-idx3-ubyte.gz\n",
      "Downloading http://yann.lecun.com/exdb/mnist/t10k-images-idx3-ubyte.gz to ./data/MNIST/raw/t10k-images-idx3-ubyte.gz\n"
     ]
    },
    {
     "name": "stderr",
     "output_type": "stream",
     "text": [
      "100%|██████████| 1648877/1648877 [00:00<00:00, 30557886.35it/s]\n"
     ]
    },
    {
     "name": "stdout",
     "output_type": "stream",
     "text": [
      "Extracting ./data/MNIST/raw/t10k-images-idx3-ubyte.gz to ./data/MNIST/raw\n",
      "\n",
      "Downloading http://yann.lecun.com/exdb/mnist/t10k-labels-idx1-ubyte.gz\n",
      "Downloading http://yann.lecun.com/exdb/mnist/t10k-labels-idx1-ubyte.gz to ./data/MNIST/raw/t10k-labels-idx1-ubyte.gz\n"
     ]
    },
    {
     "name": "stderr",
     "output_type": "stream",
     "text": [
      "100%|██████████| 4542/4542 [00:00<00:00, 6382086.69it/s]\n"
     ]
    },
    {
     "name": "stdout",
     "output_type": "stream",
     "text": [
      "Extracting ./data/MNIST/raw/t10k-labels-idx1-ubyte.gz to ./data/MNIST/raw\n",
      "\n"
     ]
    }
   ],
   "source": [
    "# Create the training dataset\n",
    "\n",
    "train_dataset = dsets.MNIST(root='./data', train=True, download=True, transform=transforms.ToTensor())"
   ]
  },
  {
   "cell_type": "markdown",
   "id": "c4ac2e80",
   "metadata": {
    "papermill": {
     "duration": 0.013417,
     "end_time": "2024-03-11T14:12:48.649216",
     "exception": false,
     "start_time": "2024-03-11T14:12:48.635799",
     "status": "completed"
    },
    "tags": []
   },
   "source": [
    "Load the testing dataset by setting the parameters train  <code>False</code> and convert it to a tensor  by placing a transform object int the argument <code>transform</code>\n"
   ]
  },
  {
   "cell_type": "code",
   "execution_count": 7,
   "id": "0c99c9e7",
   "metadata": {
    "execution": {
     "iopub.execute_input": "2024-03-11T14:12:48.678478Z",
     "iopub.status.busy": "2024-03-11T14:12:48.678064Z",
     "iopub.status.idle": "2024-03-11T14:12:48.694023Z",
     "shell.execute_reply": "2024-03-11T14:12:48.692834Z"
    },
    "papermill": {
     "duration": 0.033673,
     "end_time": "2024-03-11T14:12:48.696694",
     "exception": false,
     "start_time": "2024-03-11T14:12:48.663021",
     "status": "completed"
    },
    "tags": []
   },
   "outputs": [],
   "source": [
    "# Create the validation dataset\n",
    "\n",
    "validation_dataset = dsets.MNIST(root='./data', train=False, download=True, transform=transforms.ToTensor())"
   ]
  },
  {
   "cell_type": "markdown",
   "id": "731608bf",
   "metadata": {
    "papermill": {
     "duration": 0.013204,
     "end_time": "2024-03-11T14:12:48.724083",
     "exception": false,
     "start_time": "2024-03-11T14:12:48.710879",
     "status": "completed"
    },
    "tags": []
   },
   "source": [
    "Create the training-data loader and the validation-data loader object \n"
   ]
  },
  {
   "cell_type": "code",
   "execution_count": 8,
   "id": "0d72d2fd",
   "metadata": {
    "execution": {
     "iopub.execute_input": "2024-03-11T14:12:48.753283Z",
     "iopub.status.busy": "2024-03-11T14:12:48.752849Z",
     "iopub.status.idle": "2024-03-11T14:12:48.758900Z",
     "shell.execute_reply": "2024-03-11T14:12:48.757905Z"
    },
    "papermill": {
     "duration": 0.023468,
     "end_time": "2024-03-11T14:12:48.761096",
     "exception": false,
     "start_time": "2024-03-11T14:12:48.737628",
     "status": "completed"
    },
    "tags": []
   },
   "outputs": [],
   "source": [
    "# Create the data loader for training and validation\n",
    "\n",
    "train_loader = torch.utils.data.DataLoader(dataset=train_dataset, batch_size=2000, shuffle=True)\n",
    "validation_loader = torch.utils.data.DataLoader(dataset=validation_dataset, batch_size=5000, shuffle=False)"
   ]
  },
  {
   "cell_type": "markdown",
   "id": "d81988a9",
   "metadata": {
    "papermill": {
     "duration": 0.013736,
     "end_time": "2024-03-11T14:12:48.788477",
     "exception": false,
     "start_time": "2024-03-11T14:12:48.774741",
     "status": "completed"
    },
    "tags": []
   },
   "source": [
    "<!--Empty Space for separating topics-->\n"
   ]
  },
  {
   "cell_type": "markdown",
   "id": "8689459c",
   "metadata": {
    "papermill": {
     "duration": 0.013247,
     "end_time": "2024-03-11T14:12:48.815501",
     "exception": false,
     "start_time": "2024-03-11T14:12:48.802254",
     "status": "completed"
    },
    "tags": []
   },
   "source": [
    "<h2 id=\"Cost\">Define Neural Network, Criterion function, Optimizer and Train the Model</h2> \n"
   ]
  },
  {
   "cell_type": "markdown",
   "id": "7be74584",
   "metadata": {
    "papermill": {
     "duration": 0.013672,
     "end_time": "2024-03-11T14:12:48.842802",
     "exception": false,
     "start_time": "2024-03-11T14:12:48.829130",
     "status": "completed"
    },
    "tags": []
   },
   "source": [
    "Create the criterion function  \n"
   ]
  },
  {
   "cell_type": "code",
   "execution_count": 9,
   "id": "b175dad8",
   "metadata": {
    "execution": {
     "iopub.execute_input": "2024-03-11T14:12:48.871723Z",
     "iopub.status.busy": "2024-03-11T14:12:48.871310Z",
     "iopub.status.idle": "2024-03-11T14:12:48.875836Z",
     "shell.execute_reply": "2024-03-11T14:12:48.875050Z"
    },
    "papermill": {
     "duration": 0.021639,
     "end_time": "2024-03-11T14:12:48.878068",
     "exception": false,
     "start_time": "2024-03-11T14:12:48.856429",
     "status": "completed"
    },
    "tags": []
   },
   "outputs": [],
   "source": [
    "# Create the criterion function\n",
    "\n",
    "criterion = nn.CrossEntropyLoss()"
   ]
  },
  {
   "cell_type": "markdown",
   "id": "0f967c47",
   "metadata": {
    "papermill": {
     "duration": 0.013879,
     "end_time": "2024-03-11T14:12:48.906199",
     "exception": false,
     "start_time": "2024-03-11T14:12:48.892320",
     "status": "completed"
    },
    "tags": []
   },
   "source": [
    "Create a list that contains layer size \n"
   ]
  },
  {
   "cell_type": "code",
   "execution_count": 10,
   "id": "5cd336c9",
   "metadata": {
    "execution": {
     "iopub.execute_input": "2024-03-11T14:12:48.935207Z",
     "iopub.status.busy": "2024-03-11T14:12:48.934762Z",
     "iopub.status.idle": "2024-03-11T14:12:48.940237Z",
     "shell.execute_reply": "2024-03-11T14:12:48.939122Z"
    },
    "papermill": {
     "duration": 0.022647,
     "end_time": "2024-03-11T14:12:48.942574",
     "exception": false,
     "start_time": "2024-03-11T14:12:48.919927",
     "status": "completed"
    },
    "tags": []
   },
   "outputs": [],
   "source": [
    "# Create the parameters\n",
    "\n",
    "input_dim = 28 * 28\n",
    "output_dim = 10\n",
    "layers = [input_dim, 100, 200, 100, output_dim]"
   ]
  },
  {
   "cell_type": "markdown",
   "id": "4ab1eaaf",
   "metadata": {
    "papermill": {
     "duration": 0.013377,
     "end_time": "2024-03-11T14:12:48.969847",
     "exception": false,
     "start_time": "2024-03-11T14:12:48.956470",
     "status": "completed"
    },
    "tags": []
   },
   "source": [
    "<!--Empty Space for separating topics-->\n"
   ]
  },
  {
   "cell_type": "markdown",
   "id": "4b9b8921",
   "metadata": {
    "papermill": {
     "duration": 0.013323,
     "end_time": "2024-03-11T14:12:48.996993",
     "exception": false,
     "start_time": "2024-03-11T14:12:48.983670",
     "status": "completed"
    },
    "tags": []
   },
   "source": [
    "<h2 id=\"Train\">Test PyTorch Default Initialization, Xavier Initialization and Uniform Initialization</h2> \n"
   ]
  },
  {
   "cell_type": "markdown",
   "id": "54c92be5",
   "metadata": {
    "papermill": {
     "duration": 0.013257,
     "end_time": "2024-03-11T14:12:49.023930",
     "exception": false,
     "start_time": "2024-03-11T14:12:49.010673",
     "status": "completed"
    },
    "tags": []
   },
   "source": [
    "Train the network using PyTorch Default Initialization\n"
   ]
  },
  {
   "cell_type": "code",
   "execution_count": 11,
   "id": "9977f19b",
   "metadata": {
    "execution": {
     "iopub.execute_input": "2024-03-11T14:12:49.053680Z",
     "iopub.status.busy": "2024-03-11T14:12:49.053298Z",
     "iopub.status.idle": "2024-03-11T14:17:06.754058Z",
     "shell.execute_reply": "2024-03-11T14:17:06.752930Z"
    },
    "papermill": {
     "duration": 257.719982,
     "end_time": "2024-03-11T14:17:06.757495",
     "exception": false,
     "start_time": "2024-03-11T14:12:49.037513",
     "status": "completed"
    },
    "tags": []
   },
   "outputs": [],
   "source": [
    "# Train the model with the default initialization\n",
    "\n",
    "model = Net(layers)\n",
    "learning_rate = 0.01\n",
    "optimizer = torch.optim.SGD(model.parameters(), lr=learning_rate)\n",
    "training_results = train(model, criterion, train_loader,validation_loader, optimizer, epochs=30)"
   ]
  },
  {
   "cell_type": "markdown",
   "id": "2494d320",
   "metadata": {
    "papermill": {
     "duration": 0.013394,
     "end_time": "2024-03-11T14:17:06.785122",
     "exception": false,
     "start_time": "2024-03-11T14:17:06.771728",
     "status": "completed"
    },
    "tags": []
   },
   "source": [
    "Train the network using He Initialization function\n"
   ]
  },
  {
   "cell_type": "code",
   "execution_count": 12,
   "id": "16fe6ad7",
   "metadata": {
    "execution": {
     "iopub.execute_input": "2024-03-11T14:17:06.814743Z",
     "iopub.status.busy": "2024-03-11T14:17:06.814301Z",
     "iopub.status.idle": "2024-03-11T14:21:30.425473Z",
     "shell.execute_reply": "2024-03-11T14:21:30.423949Z"
    },
    "papermill": {
     "duration": 263.629456,
     "end_time": "2024-03-11T14:21:30.428619",
     "exception": false,
     "start_time": "2024-03-11T14:17:06.799163",
     "status": "completed"
    },
    "tags": []
   },
   "outputs": [],
   "source": [
    "# Train the model with the He initialization\n",
    "\n",
    "model_He = Net_He(layers)\n",
    "optimizer = torch.optim.SGD(model_He.parameters(), lr=learning_rate)\n",
    "training_results_He = train(model_He, criterion, train_loader, validation_loader, optimizer, epochs=30)"
   ]
  },
  {
   "cell_type": "markdown",
   "id": "049c08c4",
   "metadata": {
    "papermill": {
     "duration": 0.013846,
     "end_time": "2024-03-11T14:21:30.456732",
     "exception": false,
     "start_time": "2024-03-11T14:21:30.442886",
     "status": "completed"
    },
    "tags": []
   },
   "source": [
    "Train the network using Uniform Initialization function\n"
   ]
  },
  {
   "cell_type": "code",
   "execution_count": 13,
   "id": "5783b3a8",
   "metadata": {
    "execution": {
     "iopub.execute_input": "2024-03-11T14:21:30.560797Z",
     "iopub.status.busy": "2024-03-11T14:21:30.559703Z",
     "iopub.status.idle": "2024-03-11T14:25:53.723363Z",
     "shell.execute_reply": "2024-03-11T14:25:53.722064Z"
    },
    "papermill": {
     "duration": 263.182147,
     "end_time": "2024-03-11T14:25:53.726414",
     "exception": false,
     "start_time": "2024-03-11T14:21:30.544267",
     "status": "completed"
    },
    "tags": []
   },
   "outputs": [],
   "source": [
    "# Train the model with the Uniform initialization\n",
    "\n",
    "model_Uniform = Net_Uniform(layers)\n",
    "optimizer = torch.optim.SGD(model_Uniform.parameters(), lr=learning_rate)\n",
    "training_results_Uniform = train(model_Uniform, criterion, train_loader, validation_loader, optimizer, epochs=30)"
   ]
  },
  {
   "cell_type": "markdown",
   "id": "d6f6b9e6",
   "metadata": {
    "papermill": {
     "duration": 0.013296,
     "end_time": "2024-03-11T14:25:53.753771",
     "exception": false,
     "start_time": "2024-03-11T14:25:53.740475",
     "status": "completed"
    },
    "tags": []
   },
   "source": [
    "<!--Empty Space for separating topics-->\n"
   ]
  },
  {
   "cell_type": "markdown",
   "id": "7b66cc0b",
   "metadata": {
    "papermill": {
     "duration": 0.013359,
     "end_time": "2024-03-11T14:25:53.780818",
     "exception": false,
     "start_time": "2024-03-11T14:25:53.767459",
     "status": "completed"
    },
    "tags": []
   },
   "source": [
    "<h2 id=\"Result\">Analyze Results</h2> \n"
   ]
  },
  {
   "cell_type": "markdown",
   "id": "04403607",
   "metadata": {
    "papermill": {
     "duration": 0.01333,
     "end_time": "2024-03-11T14:25:53.807847",
     "exception": false,
     "start_time": "2024-03-11T14:25:53.794517",
     "status": "completed"
    },
    "tags": []
   },
   "source": [
    "Compare the training loss for each activation \n"
   ]
  },
  {
   "cell_type": "code",
   "execution_count": 14,
   "id": "322b6caa",
   "metadata": {
    "execution": {
     "iopub.execute_input": "2024-03-11T14:25:53.838118Z",
     "iopub.status.busy": "2024-03-11T14:25:53.837433Z",
     "iopub.status.idle": "2024-03-11T14:25:54.257884Z",
     "shell.execute_reply": "2024-03-11T14:25:54.256512Z"
    },
    "papermill": {
     "duration": 0.438645,
     "end_time": "2024-03-11T14:25:54.260544",
     "exception": false,
     "start_time": "2024-03-11T14:25:53.821899",
     "status": "completed"
    },
    "tags": []
   },
   "outputs": [
    {
     "data": {
      "text/plain": [
       "<matplotlib.legend.Legend at 0x7e160f98c9d0>"
      ]
     },
     "execution_count": 14,
     "metadata": {},
     "output_type": "execute_result"
    },
    {
     "data": {
      "image/png": "[encoded data removed]",
      "text/plain": [
       "<Figure size 640x480 with 1 Axes>"
      ]
     },
     "metadata": {},
     "output_type": "display_data"
    }
   ],
   "source": [
    "# Plot the loss\n",
    "\n",
    "plt.plot(training_results_He['training_loss'], label='He')\n",
    "plt.plot(training_results['training_loss'], label='Default')\n",
    "plt.plot(training_results_Uniform['training_loss'], label='Uniform')\n",
    "plt.ylabel('loss')\n",
    "plt.xlabel('iteration ') \n",
    "plt.title('training loss iterations')\n",
    "plt.legend()"
   ]
  },
  {
   "cell_type": "markdown",
   "id": "c47a17af",
   "metadata": {
    "papermill": {
     "duration": 0.014187,
     "end_time": "2024-03-11T14:25:54.289677",
     "exception": false,
     "start_time": "2024-03-11T14:25:54.275490",
     "status": "completed"
    },
    "tags": []
   },
   "source": [
    "Compare the validation loss for each model  \n"
   ]
  },
  {
   "cell_type": "code",
   "execution_count": 15,
   "id": "b36a08d0",
   "metadata": {
    "execution": {
     "iopub.execute_input": "2024-03-11T14:25:54.326081Z",
     "iopub.status.busy": "2024-03-11T14:25:54.325122Z",
     "iopub.status.idle": "2024-03-11T14:25:54.664564Z",
     "shell.execute_reply": "2024-03-11T14:25:54.663288Z"
    },
    "papermill": {
     "duration": 0.36306,
     "end_time": "2024-03-11T14:25:54.667280",
     "exception": false,
     "start_time": "2024-03-11T14:25:54.304220",
     "status": "completed"
    },
    "tags": []
   },
   "outputs": [
    {
     "data": {
      "image/png": "[encoded data removed]",
      "text/plain": [
       "<Figure size 640x480 with 1 Axes>"
      ]
     },
     "metadata": {},
     "output_type": "display_data"
    }
   ],
   "source": [
    "# Plot the accuracy\n",
    "\n",
    "plt.plot(training_results_He['validation_accuracy'], label='He')\n",
    "plt.plot(training_results['validation_accuracy'], label='Default')\n",
    "plt.plot(training_results_Uniform['validation_accuracy'], label='Uniform') \n",
    "plt.ylabel('validation accuracy')\n",
    "plt.xlabel('epochs ')   \n",
    "plt.legend()\n",
    "plt.show()"
   ]
  }
 ],
 "metadata": {
  "kaggle": {
   "accelerator": "none",
   "dataSources": [],
   "dockerImageVersionId": 30664,
   "isGpuEnabled": false,
   "isInternetEnabled": true,
   "language": "python",
   "sourceType": "notebook"
  },
  "kernelspec": {
   "display_name": "Python 3",
   "language": "python",
   "name": "python3"
  },
  "language_info": {
   "codemirror_mode": {
    "name": "ipython",
    "version": 3
   },
   "file_extension": ".py",
   "mimetype": "text/x-python",
   "name": "python",
   "nbconvert_exporter": "python",
   "pygments_lexer": "ipython3",
   "version": "3.10.13"
  },
  "papermill": {
   "default_parameters": {},
   "duration": 800.022118,
   "end_time": "2024-03-11T14:25:56.010886",
   "environment_variables": {},
   "exception": null,
   "input_path": "__notebook__.ipynb",
   "output_path": "__notebook__.ipynb",
   "parameters": {},
   "start_time": "2024-03-11T14:12:35.988768",
   "version": "2.5.0"
  }
 },
 "nbformat": 4,
 "nbformat_minor": 5
}
