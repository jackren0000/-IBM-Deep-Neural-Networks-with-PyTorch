{
 "cells": [
  {
   "cell_type": "markdown",
   "id": "bedad541",
   "metadata": {
    "papermill": {
     "duration": 0.010693,
     "end_time": "2024-03-06T10:47:25.867780",
     "exception": false,
     "start_time": "2024-03-06T10:47:25.857087",
     "status": "completed"
    },
    "tags": []
   },
   "source": [
    "<p style=\"text-align:center\">\n",
    "    <a href=\"https://skills.network/?utm_medium=Exinfluencer&utm_source=Exinfluencer&utm_content=000026UJ&utm_term=10006555&utm_id=NA-SkillsNetwork-Channel-SkillsNetworkCoursesIBMDeveloperSkillsNetworkDL0110ENSkillsNetwork952-2023-01-01\">\n",
    "    <img src=\"https://cf-courses-data.s3.us.cloud-object-storage.appdomain.cloud/assets/logos/SN_web_lightmode.png\" width=\"200\" alt=\"Skills Network Logo\"  />\n",
    "    </a>\n",
    "</p>\n"
   ]
  },
  {
   "cell_type": "markdown",
   "id": "876acb52",
   "metadata": {
    "papermill": {
     "duration": 0.010689,
     "end_time": "2024-03-06T10:47:25.889223",
     "exception": false,
     "start_time": "2024-03-06T10:47:25.878534",
     "status": "completed"
    },
    "tags": []
   },
   "source": [
    "<h1>Linear regression: Training and Validation Data</h1> \n"
   ]
  },
  {
   "cell_type": "markdown",
   "id": "26194466",
   "metadata": {
    "papermill": {
     "duration": 0.010558,
     "end_time": "2024-03-06T10:47:25.910141",
     "exception": false,
     "start_time": "2024-03-06T10:47:25.899583",
     "status": "completed"
    },
    "tags": []
   },
   "source": [
    "<h2>Objective</h2><ul><li> How to use learning rate hyperparameter to improve your model result.  .</li></ul> \n"
   ]
  },
  {
   "cell_type": "markdown",
   "id": "fedc9bbb",
   "metadata": {
    "papermill": {
     "duration": 0.009897,
     "end_time": "2024-03-06T10:47:25.931085",
     "exception": false,
     "start_time": "2024-03-06T10:47:25.921188",
     "status": "completed"
    },
    "tags": []
   },
   "source": [
    "<h2>Table of Contents</h2>\n",
    "<p>In this lab, you will learn to select the best learning rate by using validation data.</p>\n",
    "\n",
    "<ul>\n",
    "    <li><a href=\"#Makeup_Data\">Make Some Data</a></li>\n",
    "    <li><a href=\"#LR_Loader_Cost\">Create a Linear Regression Object, Data Loader and Criterion Function</a></li>\n",
    "    <li><a href=\"#LR_Hyper\">Different learning rates and Data Structures to Store results for Different Hyperparameters</a></li>\n",
    "    <li><a href=\"#Model\">Train different modules for different Hyperparameters</a></li>\n",
    "    <li><a href=\"#Result\">View Results</a></li>\n",
    "</ul>\n",
    "\n",
    "<p>Estimated Time Needed: <strong>30 min</strong></p>\n",
    "\n",
    "<hr>\n"
   ]
  },
  {
   "cell_type": "markdown",
   "id": "69be2ab4",
   "metadata": {
    "papermill": {
     "duration": 0.009846,
     "end_time": "2024-03-06T10:47:25.951150",
     "exception": false,
     "start_time": "2024-03-06T10:47:25.941304",
     "status": "completed"
    },
    "tags": []
   },
   "source": [
    "<h2>Preparation</h2>\n"
   ]
  },
  {
   "cell_type": "markdown",
   "id": "3c9536ee",
   "metadata": {
    "papermill": {
     "duration": 0.009836,
     "end_time": "2024-03-06T10:47:25.971065",
     "exception": false,
     "start_time": "2024-03-06T10:47:25.961229",
     "status": "completed"
    },
    "tags": []
   },
   "source": [
    "We'll need the following libraries and set the random seed.\n"
   ]
  },
  {
   "cell_type": "code",
   "execution_count": 1,
   "id": "d5217701",
   "metadata": {
    "execution": {
     "iopub.execute_input": "2024-03-06T10:47:25.993641Z",
     "iopub.status.busy": "2024-03-06T10:47:25.992906Z",
     "iopub.status.idle": "2024-03-06T10:47:29.587348Z",
     "shell.execute_reply": "2024-03-06T10:47:29.585592Z"
    },
    "papermill": {
     "duration": 3.609514,
     "end_time": "2024-03-06T10:47:29.590601",
     "exception": false,
     "start_time": "2024-03-06T10:47:25.981087",
     "status": "completed"
    },
    "tags": []
   },
   "outputs": [],
   "source": [
    "# Import libraries we need for this lab, and set the random seed\n",
    "\n",
    "from torch import nn\n",
    "import torch\n",
    "import numpy as np\n",
    "import matplotlib.pyplot as plt\n",
    "from torch import nn,optim"
   ]
  },
  {
   "cell_type": "markdown",
   "id": "631762e9",
   "metadata": {
    "papermill": {
     "duration": 0.010946,
     "end_time": "2024-03-06T10:47:29.611706",
     "exception": false,
     "start_time": "2024-03-06T10:47:29.600760",
     "status": "completed"
    },
    "tags": []
   },
   "source": [
    "<!--Empty Space for separating topics-->\n"
   ]
  },
  {
   "cell_type": "markdown",
   "id": "b7ca2a12",
   "metadata": {
    "papermill": {
     "duration": 0.009758,
     "end_time": "2024-03-06T10:47:29.631547",
     "exception": false,
     "start_time": "2024-03-06T10:47:29.621789",
     "status": "completed"
    },
    "tags": []
   },
   "source": [
    "<h2 id=\"Makeup_Data\">Make Some Data</h2>\n"
   ]
  },
  {
   "cell_type": "markdown",
   "id": "2023fc4c",
   "metadata": {
    "papermill": {
     "duration": 0.009742,
     "end_time": "2024-03-06T10:47:29.651490",
     "exception": false,
     "start_time": "2024-03-06T10:47:29.641748",
     "status": "completed"
    },
    "tags": []
   },
   "source": [
    "First, we'll create some artificial data in a dataset class. The class will include the option to produce training data or validation data. The training data will include outliers.\n"
   ]
  },
  {
   "cell_type": "code",
   "execution_count": 2,
   "id": "2959010e",
   "metadata": {
    "execution": {
     "iopub.execute_input": "2024-03-06T10:47:29.674602Z",
     "iopub.status.busy": "2024-03-06T10:47:29.673323Z",
     "iopub.status.idle": "2024-03-06T10:47:29.684788Z",
     "shell.execute_reply": "2024-03-06T10:47:29.683308Z"
    },
    "papermill": {
     "duration": 0.026087,
     "end_time": "2024-03-06T10:47:29.687636",
     "exception": false,
     "start_time": "2024-03-06T10:47:29.661549",
     "status": "completed"
    },
    "tags": []
   },
   "outputs": [],
   "source": [
    "# Create Data class\n",
    "\n",
    "from torch.utils.data import Dataset, DataLoader\n",
    "\n",
    "class Data(Dataset):\n",
    "    \n",
    "    # Constructor\n",
    "    def __init__(self, train = True):\n",
    "            self.x = torch.arange(-3, 3, 0.1).view(-1, 1)\n",
    "            self.f = -3 * self.x + 1\n",
    "            self.y = self.f + 0.1 * torch.randn(self.x.size())\n",
    "            self.len = self.x.shape[0]\n",
    "            \n",
    "            #outliers \n",
    "            if train == True:\n",
    "                self.y[0] = 0\n",
    "                self.y[50:55] = 20\n",
    "            else:\n",
    "                pass\n",
    "      \n",
    "    # Getter\n",
    "    def __getitem__(self, index):    \n",
    "        return self.x[index], self.y[index]\n",
    "    \n",
    "    # Get Length\n",
    "    def __len__(self):\n",
    "        return self.len"
   ]
  },
  {
   "cell_type": "markdown",
   "id": "6acbaaf6",
   "metadata": {
    "papermill": {
     "duration": 0.010318,
     "end_time": "2024-03-06T10:47:29.708294",
     "exception": false,
     "start_time": "2024-03-06T10:47:29.697976",
     "status": "completed"
    },
    "tags": []
   },
   "source": [
    "Create two objects: one that contains training data and a second that contains validation data. Assume that the training data has the outliers. \n"
   ]
  },
  {
   "cell_type": "code",
   "execution_count": 3,
   "id": "427cbd34",
   "metadata": {
    "execution": {
     "iopub.execute_input": "2024-03-06T10:47:29.730991Z",
     "iopub.status.busy": "2024-03-06T10:47:29.730482Z",
     "iopub.status.idle": "2024-03-06T10:47:29.820687Z",
     "shell.execute_reply": "2024-03-06T10:47:29.819696Z"
    },
    "papermill": {
     "duration": 0.104954,
     "end_time": "2024-03-06T10:47:29.823622",
     "exception": false,
     "start_time": "2024-03-06T10:47:29.718668",
     "status": "completed"
    },
    "tags": []
   },
   "outputs": [],
   "source": [
    "# Create training dataset and validation dataset\n",
    "\n",
    "train_data = Data()\n",
    "val_data = Data(train = False)"
   ]
  },
  {
   "cell_type": "markdown",
   "id": "00afc1ac",
   "metadata": {
    "papermill": {
     "duration": 0.010266,
     "end_time": "2024-03-06T10:47:29.844072",
     "exception": false,
     "start_time": "2024-03-06T10:47:29.833806",
     "status": "completed"
    },
    "tags": []
   },
   "source": [
    "Overlay the training points in red over the function that generated the data. Notice the outliers at x=-3 and around x=2:\n"
   ]
  },
  {
   "cell_type": "code",
   "execution_count": 4,
   "id": "ed7132b7",
   "metadata": {
    "execution": {
     "iopub.execute_input": "2024-03-06T10:47:29.867865Z",
     "iopub.status.busy": "2024-03-06T10:47:29.867026Z",
     "iopub.status.idle": "2024-03-06T10:47:30.192325Z",
     "shell.execute_reply": "2024-03-06T10:47:30.190815Z"
    },
    "papermill": {
     "duration": 0.340299,
     "end_time": "2024-03-06T10:47:30.195510",
     "exception": false,
     "start_time": "2024-03-06T10:47:29.855211",
     "status": "completed"
    },
    "tags": []
   },
   "outputs": [
    {
     "data": {
      "image/png": "[encoded data removed]",
      "text/plain": [
       "<Figure size 640x480 with 1 Axes>"
      ]
     },
     "metadata": {},
     "output_type": "display_data"
    }
   ],
   "source": [
    "# Plot out training points\n",
    "\n",
    "plt.plot(train_data.x.numpy(), train_data.y.numpy(), 'xr',label=\"training data \")\n",
    "plt.plot(train_data.x.numpy(), train_data.f.numpy(),label=\"true function  \")\n",
    "plt.xlabel('x')\n",
    "plt.ylabel('y')\n",
    "plt.legend()\n",
    "plt.show()"
   ]
  },
  {
   "cell_type": "markdown",
   "id": "9b74f984",
   "metadata": {
    "papermill": {
     "duration": 0.010612,
     "end_time": "2024-03-06T10:47:30.216671",
     "exception": false,
     "start_time": "2024-03-06T10:47:30.206059",
     "status": "completed"
    },
    "tags": []
   },
   "source": [
    "<!--Empty Space for separating topics-->\n"
   ]
  },
  {
   "cell_type": "markdown",
   "id": "6285c6e7",
   "metadata": {
    "papermill": {
     "duration": 0.010357,
     "end_time": "2024-03-06T10:47:30.237561",
     "exception": false,
     "start_time": "2024-03-06T10:47:30.227204",
     "status": "completed"
    },
    "tags": []
   },
   "source": [
    "<h2 id=\"LR_Loader_Cost\">Create a Linear Regression Object,  Data Loader, and Criterion Function</h2>\n"
   ]
  },
  {
   "cell_type": "code",
   "execution_count": 5,
   "id": "456acc6c",
   "metadata": {
    "execution": {
     "iopub.execute_input": "2024-03-06T10:47:30.260703Z",
     "iopub.status.busy": "2024-03-06T10:47:30.260262Z",
     "iopub.status.idle": "2024-03-06T10:47:30.268256Z",
     "shell.execute_reply": "2024-03-06T10:47:30.266601Z"
    },
    "papermill": {
     "duration": 0.022945,
     "end_time": "2024-03-06T10:47:30.270961",
     "exception": false,
     "start_time": "2024-03-06T10:47:30.248016",
     "status": "completed"
    },
    "tags": []
   },
   "outputs": [],
   "source": [
    "# Create Linear Regression Class\n",
    "\n",
    "from torch import nn\n",
    "\n",
    "class linear_regression(nn.Module):\n",
    "    \n",
    "    # Constructor\n",
    "    def __init__(self, input_size, output_size):\n",
    "        super(linear_regression, self).__init__()\n",
    "        self.linear = nn.Linear(input_size, output_size)\n",
    "    \n",
    "    # Prediction function\n",
    "    def forward(self, x):\n",
    "        yhat = self.linear(x)\n",
    "        return yhat"
   ]
  },
  {
   "cell_type": "markdown",
   "id": "69d8fa1f",
   "metadata": {
    "papermill": {
     "duration": 0.010187,
     "end_time": "2024-03-06T10:47:30.291832",
     "exception": false,
     "start_time": "2024-03-06T10:47:30.281645",
     "status": "completed"
    },
    "tags": []
   },
   "source": [
    "Create the criterion function and a <code>DataLoader</code> object: \n"
   ]
  },
  {
   "cell_type": "code",
   "execution_count": 6,
   "id": "f6d027c8",
   "metadata": {
    "execution": {
     "iopub.execute_input": "2024-03-06T10:47:30.314999Z",
     "iopub.status.busy": "2024-03-06T10:47:30.314541Z",
     "iopub.status.idle": "2024-03-06T10:47:30.321614Z",
     "shell.execute_reply": "2024-03-06T10:47:30.320167Z"
    },
    "papermill": {
     "duration": 0.022559,
     "end_time": "2024-03-06T10:47:30.324917",
     "exception": false,
     "start_time": "2024-03-06T10:47:30.302358",
     "status": "completed"
    },
    "tags": []
   },
   "outputs": [],
   "source": [
    "# Create MSELoss function and DataLoader\n",
    "\n",
    "criterion = nn.MSELoss()\n",
    "trainloader = DataLoader(dataset = train_data, batch_size = 1)"
   ]
  },
  {
   "cell_type": "markdown",
   "id": "bdb3651a",
   "metadata": {
    "papermill": {
     "duration": 0.010672,
     "end_time": "2024-03-06T10:47:30.346417",
     "exception": false,
     "start_time": "2024-03-06T10:47:30.335745",
     "status": "completed"
    },
    "tags": []
   },
   "source": [
    "<!--Empty Space for separating topics-->\n"
   ]
  },
  {
   "cell_type": "markdown",
   "id": "bf1b193d",
   "metadata": {
    "papermill": {
     "duration": 0.010148,
     "end_time": "2024-03-06T10:47:30.367321",
     "exception": false,
     "start_time": "2024-03-06T10:47:30.357173",
     "status": "completed"
    },
    "tags": []
   },
   "source": [
    "<h2 id=\"LR_Hyper\">Different learning rates and Data Structures to Store results for different Hyperparameters</h2>\n"
   ]
  },
  {
   "cell_type": "markdown",
   "id": "1395ba6e",
   "metadata": {
    "papermill": {
     "duration": 0.010621,
     "end_time": "2024-03-06T10:47:30.388435",
     "exception": false,
     "start_time": "2024-03-06T10:47:30.377814",
     "status": "completed"
    },
    "tags": []
   },
   "source": [
    "Create a list with different learning rates and a tensor (can be a list) for the training and validating cost/total loss. Include the list MODELS, which stores the training model for every value of the learning rate. \n"
   ]
  },
  {
   "cell_type": "code",
   "execution_count": 7,
   "id": "6cdd1835",
   "metadata": {
    "execution": {
     "iopub.execute_input": "2024-03-06T10:47:30.412576Z",
     "iopub.status.busy": "2024-03-06T10:47:30.411207Z",
     "iopub.status.idle": "2024-03-06T10:47:30.418860Z",
     "shell.execute_reply": "2024-03-06T10:47:30.417459Z"
    },
    "papermill": {
     "duration": 0.022417,
     "end_time": "2024-03-06T10:47:30.421542",
     "exception": false,
     "start_time": "2024-03-06T10:47:30.399125",
     "status": "completed"
    },
    "tags": []
   },
   "outputs": [],
   "source": [
    "# Create Learning Rate list, the error lists and the MODELS list\n",
    "\n",
    "learning_rates=[0.0001, 0.001, 0.01, 0.1]\n",
    "\n",
    "train_error=torch.zeros(len(learning_rates))\n",
    "validation_error=torch.zeros(len(learning_rates))\n",
    "\n",
    "MODELS=[]"
   ]
  },
  {
   "cell_type": "markdown",
   "id": "47576ca7",
   "metadata": {
    "papermill": {
     "duration": 0.010254,
     "end_time": "2024-03-06T10:47:30.442620",
     "exception": false,
     "start_time": "2024-03-06T10:47:30.432366",
     "status": "completed"
    },
    "tags": []
   },
   "source": [
    "<!--Empty Space for separating topics-->\n"
   ]
  },
  {
   "cell_type": "markdown",
   "id": "622d5555",
   "metadata": {
    "papermill": {
     "duration": 0.010358,
     "end_time": "2024-03-06T10:47:30.463677",
     "exception": false,
     "start_time": "2024-03-06T10:47:30.453319",
     "status": "completed"
    },
    "tags": []
   },
   "source": [
    "<h2 id=\"Model\">Train different models  for different Hyperparameters</h2>\n"
   ]
  },
  {
   "cell_type": "markdown",
   "id": "e36e1978",
   "metadata": {
    "papermill": {
     "duration": 0.010268,
     "end_time": "2024-03-06T10:47:30.484577",
     "exception": false,
     "start_time": "2024-03-06T10:47:30.474309",
     "status": "completed"
    },
    "tags": []
   },
   "source": [
    "Try different values of learning rates, perform stochastic gradient descent, and save the results on the training data and validation data. Finally, save each model in a list.\n"
   ]
  },
  {
   "cell_type": "code",
   "execution_count": 8,
   "id": "fec1fcb5",
   "metadata": {
    "execution": {
     "iopub.execute_input": "2024-03-06T10:47:30.508971Z",
     "iopub.status.busy": "2024-03-06T10:47:30.508528Z",
     "iopub.status.idle": "2024-03-06T10:47:35.011190Z",
     "shell.execute_reply": "2024-03-06T10:47:35.009870Z"
    },
    "papermill": {
     "duration": 4.518129,
     "end_time": "2024-03-06T10:47:35.014363",
     "exception": false,
     "start_time": "2024-03-06T10:47:30.496234",
     "status": "completed"
    },
    "tags": []
   },
   "outputs": [],
   "source": [
    "# Define the train model function and train the model\n",
    "\n",
    "def train_model_with_lr (iter, lr_list):\n",
    "    \n",
    "    # iterate through different learning rates \n",
    "    for i, lr in enumerate(lr_list):\n",
    "        model = linear_regression(1, 1)\n",
    "        optimizer = optim.SGD(model.parameters(), lr = lr)\n",
    "        for epoch in range(iter):\n",
    "            for x, y in trainloader:\n",
    "                yhat = model(x)\n",
    "                loss = criterion(yhat, y)\n",
    "                optimizer.zero_grad()\n",
    "                loss.backward()\n",
    "                optimizer.step()\n",
    "                \n",
    "        # train data\n",
    "        Yhat = model(train_data.x)\n",
    "        train_loss = criterion(Yhat, train_data.y)\n",
    "        train_error[i] = train_loss.item()\n",
    "    \n",
    "        # validation data\n",
    "        Yhat = model(val_data.x)\n",
    "        val_loss = criterion(Yhat, val_data.y)\n",
    "        validation_error[i] = val_loss.item()\n",
    "        MODELS.append(model)\n",
    "\n",
    "train_model_with_lr(10, learning_rates)"
   ]
  },
  {
   "cell_type": "markdown",
   "id": "5a122413",
   "metadata": {
    "papermill": {
     "duration": 0.010469,
     "end_time": "2024-03-06T10:47:35.035736",
     "exception": false,
     "start_time": "2024-03-06T10:47:35.025267",
     "status": "completed"
    },
    "tags": []
   },
   "source": [
    "<!--Empty Space for separating topics-->\n"
   ]
  },
  {
   "cell_type": "markdown",
   "id": "c225bf13",
   "metadata": {
    "papermill": {
     "duration": 0.010222,
     "end_time": "2024-03-06T10:47:35.056586",
     "exception": false,
     "start_time": "2024-03-06T10:47:35.046364",
     "status": "completed"
    },
    "tags": []
   },
   "source": [
    "<h2 id=\"Result\">View the Results</h2>\n"
   ]
  },
  {
   "cell_type": "markdown",
   "id": "b844cbd6",
   "metadata": {
    "papermill": {
     "duration": 0.010223,
     "end_time": "2024-03-06T10:47:35.077504",
     "exception": false,
     "start_time": "2024-03-06T10:47:35.067281",
     "status": "completed"
    },
    "tags": []
   },
   "source": [
    "Plot the training loss and validation loss for each learning rate:  \n"
   ]
  },
  {
   "cell_type": "code",
   "execution_count": 9,
   "id": "afa9b143",
   "metadata": {
    "execution": {
     "iopub.execute_input": "2024-03-06T10:47:35.101323Z",
     "iopub.status.busy": "2024-03-06T10:47:35.100787Z",
     "iopub.status.idle": "2024-03-06T10:47:35.752066Z",
     "shell.execute_reply": "2024-03-06T10:47:35.750522Z"
    },
    "papermill": {
     "duration": 0.666606,
     "end_time": "2024-03-06T10:47:35.754879",
     "exception": false,
     "start_time": "2024-03-06T10:47:35.088273",
     "status": "completed"
    },
    "tags": []
   },
   "outputs": [
    {
     "data": {
      "image/png": "[encoded data removed]",
      "text/plain": [
       "<Figure size 640x480 with 1 Axes>"
      ]
     },
     "metadata": {},
     "output_type": "display_data"
    }
   ],
   "source": [
    "# Plot the training loss and validation loss\n",
    "\n",
    "plt.semilogx(np.array(learning_rates), train_error.numpy(), label = 'training loss/total Loss')\n",
    "plt.semilogx(np.array(learning_rates), validation_error.numpy(), label = 'validation cost/total Loss')\n",
    "plt.ylabel('Cost\\ Total Loss')\n",
    "plt.xlabel('learning rate')\n",
    "plt.legend()\n",
    "plt.show()"
   ]
  },
  {
   "cell_type": "markdown",
   "id": "c0de95e5",
   "metadata": {
    "papermill": {
     "duration": 0.01352,
     "end_time": "2024-03-06T10:47:35.779722",
     "exception": false,
     "start_time": "2024-03-06T10:47:35.766202",
     "status": "completed"
    },
    "tags": []
   },
   "source": [
    "Produce a prediction by using the validation data for each model:  \n"
   ]
  },
  {
   "cell_type": "code",
   "execution_count": 10,
   "id": "6cc79918",
   "metadata": {
    "execution": {
     "iopub.execute_input": "2024-03-06T10:47:35.809465Z",
     "iopub.status.busy": "2024-03-06T10:47:35.808059Z",
     "iopub.status.idle": "2024-03-06T10:47:36.129902Z",
     "shell.execute_reply": "2024-03-06T10:47:36.128723Z"
    },
    "papermill": {
     "duration": 0.337804,
     "end_time": "2024-03-06T10:47:36.132751",
     "exception": false,
     "start_time": "2024-03-06T10:47:35.794947",
     "status": "completed"
    },
    "tags": []
   },
   "outputs": [
    {
     "name": "stdout",
     "output_type": "stream",
     "text": [
      "0 [[1.2321073]\n",
      " [1.2129797]\n",
      " [1.1938521]]\n",
      "1 [[5.589966 ]\n",
      " [5.4722605]\n",
      " [5.354555 ]]\n",
      "2 [[6.5488205]\n",
      " [6.4156437]\n",
      " [6.2824674]]\n",
      "3 [[13.826638]\n",
      " [13.412799]\n",
      " [12.998959]]\n"
     ]
    },
    {
     "data": {
      "image/png": "[encoded data removed]",
      "text/plain": [
       "<Figure size 640x480 with 1 Axes>"
      ]
     },
     "metadata": {},
     "output_type": "display_data"
    }
   ],
   "source": [
    "# Plot the predictions\n",
    "\n",
    "i = 0\n",
    "for model, learning_rate in zip(MODELS, learning_rates):\n",
    "    yhat = model(val_data.x)\n",
    "    plt.plot(val_data.x.numpy(), yhat.detach().numpy(), label = 'lr:' + str(learning_rate))\n",
    "    print(i, yhat.detach().numpy()[0:3])\n",
    "    i+=1\n",
    "plt.plot(val_data.x.numpy(), val_data.f.numpy(), 'or', label = 'validation data')\n",
    "plt.xlabel('x')\n",
    "plt.ylabel('y')\n",
    "plt.legend()\n",
    "plt.show()"
   ]
  },
  {
   "cell_type": "markdown",
   "id": "6b3f18ac",
   "metadata": {
    "papermill": {
     "duration": 0.012066,
     "end_time": "2024-03-06T10:47:36.157773",
     "exception": false,
     "start_time": "2024-03-06T10:47:36.145707",
     "status": "completed"
    },
    "tags": []
   },
   "source": [
    "<!--Empty Space for separating topics-->\n"
   ]
  },
  {
   "cell_type": "markdown",
   "id": "e1eb9798",
   "metadata": {
    "papermill": {
     "duration": 0.011697,
     "end_time": "2024-03-06T10:47:36.182476",
     "exception": false,
     "start_time": "2024-03-06T10:47:36.170779",
     "status": "completed"
    },
    "tags": []
   },
   "source": [
    "<h3>Practice</h3>\n"
   ]
  },
  {
   "cell_type": "markdown",
   "id": "43a79cbe",
   "metadata": {
    "papermill": {
     "duration": 0.011552,
     "end_time": "2024-03-06T10:47:36.206914",
     "exception": false,
     "start_time": "2024-03-06T10:47:36.195362",
     "status": "completed"
    },
    "tags": []
   },
   "source": [
    "The object <code>good_model</code> is the best performing model. Use the train loader to get the data samples x and y. Produce an estimate for <code>yhat</code> and print it out for every sample in a for a loop. Compare it to the actual prediction <code>y</code>.\n"
   ]
  },
  {
   "cell_type": "code",
   "execution_count": 11,
   "id": "df6934e8",
   "metadata": {
    "execution": {
     "iopub.execute_input": "2024-03-06T10:47:36.233667Z",
     "iopub.status.busy": "2024-03-06T10:47:36.232989Z",
     "iopub.status.idle": "2024-03-06T10:47:36.324248Z",
     "shell.execute_reply": "2024-03-06T10:47:36.322508Z"
    },
    "papermill": {
     "duration": 0.108213,
     "end_time": "2024-03-06T10:47:36.327140",
     "exception": false,
     "start_time": "2024-03-06T10:47:36.218927",
     "status": "completed"
    },
    "tags": []
   },
   "outputs": [
    {
     "name": "stdout",
     "output_type": "stream",
     "text": [
      "yhat=  tensor([[13.8266]], grad_fn=<AddmmBackward0>) y tensor([[0.]])\n",
      "yhat=  tensor([[13.4128]], grad_fn=<AddmmBackward0>) y tensor([[9.7294]])\n",
      "yhat=  tensor([[12.9990]], grad_fn=<AddmmBackward0>) y tensor([[9.3454]])\n",
      "yhat=  tensor([[12.5851]], grad_fn=<AddmmBackward0>) y tensor([[8.9629]])\n",
      "yhat=  tensor([[12.1713]], grad_fn=<AddmmBackward0>) y tensor([[8.9126]])\n",
      "yhat=  tensor([[11.7574]], grad_fn=<AddmmBackward0>) y tensor([[8.4465]])\n",
      "yhat=  tensor([[11.3436]], grad_fn=<AddmmBackward0>) y tensor([[8.3178]])\n",
      "yhat=  tensor([[10.9298]], grad_fn=<AddmmBackward0>) y tensor([[7.9159]])\n",
      "yhat=  tensor([[10.5159]], grad_fn=<AddmmBackward0>) y tensor([[7.6390]])\n",
      "yhat=  tensor([[10.1021]], grad_fn=<AddmmBackward0>) y tensor([[7.1366]])\n",
      "yhat=  tensor([[9.6882]], grad_fn=<AddmmBackward0>) y tensor([[6.9341]])\n",
      "yhat=  tensor([[9.2744]], grad_fn=<AddmmBackward0>) y tensor([[6.7145]])\n",
      "yhat=  tensor([[8.8606]], grad_fn=<AddmmBackward0>) y tensor([[6.4008]])\n",
      "yhat=  tensor([[8.4467]], grad_fn=<AddmmBackward0>) y tensor([[6.1215]])\n",
      "yhat=  tensor([[8.0329]], grad_fn=<AddmmBackward0>) y tensor([[5.7006]])\n",
      "yhat=  tensor([[7.6190]], grad_fn=<AddmmBackward0>) y tensor([[5.5524]])\n",
      "yhat=  tensor([[7.2052]], grad_fn=<AddmmBackward0>) y tensor([[5.0788]])\n",
      "yhat=  tensor([[6.7914]], grad_fn=<AddmmBackward0>) y tensor([[5.0671]])\n",
      "yhat=  tensor([[6.3775]], grad_fn=<AddmmBackward0>) y tensor([[4.5625]])\n",
      "yhat=  tensor([[5.9637]], grad_fn=<AddmmBackward0>) y tensor([[4.2693]])\n",
      "yhat=  tensor([[5.5498]], grad_fn=<AddmmBackward0>) y tensor([[3.8891]])\n",
      "yhat=  tensor([[5.1360]], grad_fn=<AddmmBackward0>) y tensor([[3.6425]])\n",
      "yhat=  tensor([[4.7222]], grad_fn=<AddmmBackward0>) y tensor([[3.3866]])\n",
      "yhat=  tensor([[4.3083]], grad_fn=<AddmmBackward0>) y tensor([[3.0841]])\n",
      "yhat=  tensor([[3.8945]], grad_fn=<AddmmBackward0>) y tensor([[2.7495]])\n",
      "yhat=  tensor([[3.4807]], grad_fn=<AddmmBackward0>) y tensor([[2.5068]])\n",
      "yhat=  tensor([[3.0668]], grad_fn=<AddmmBackward0>) y tensor([[2.2379]])\n",
      "yhat=  tensor([[2.6530]], grad_fn=<AddmmBackward0>) y tensor([[1.6709]])\n",
      "yhat=  tensor([[2.2391]], grad_fn=<AddmmBackward0>) y tensor([[1.5657]])\n",
      "yhat=  tensor([[1.8253]], grad_fn=<AddmmBackward0>) y tensor([[1.0649]])\n",
      "yhat=  tensor([[1.4115]], grad_fn=<AddmmBackward0>) y tensor([[0.9776]])\n",
      "yhat=  tensor([[0.9976]], grad_fn=<AddmmBackward0>) y tensor([[0.7831]])\n",
      "yhat=  tensor([[0.5838]], grad_fn=<AddmmBackward0>) y tensor([[0.3629]])\n",
      "yhat=  tensor([[0.1699]], grad_fn=<AddmmBackward0>) y tensor([[0.0457]])\n",
      "yhat=  tensor([[-0.2439]], grad_fn=<AddmmBackward0>) y tensor([[-0.2979]])\n",
      "yhat=  tensor([[-0.6577]], grad_fn=<AddmmBackward0>) y tensor([[-0.5323]])\n",
      "yhat=  tensor([[-1.0716]], grad_fn=<AddmmBackward0>) y tensor([[-0.4990]])\n",
      "yhat=  tensor([[-1.4854]], grad_fn=<AddmmBackward0>) y tensor([[-1.0521]])\n",
      "yhat=  tensor([[-1.8993]], grad_fn=<AddmmBackward0>) y tensor([[-1.3354]])\n",
      "yhat=  tensor([[-2.3131]], grad_fn=<AddmmBackward0>) y tensor([[-1.7147]])\n",
      "yhat=  tensor([[-2.7269]], grad_fn=<AddmmBackward0>) y tensor([[-2.1112]])\n",
      "yhat=  tensor([[-3.1408]], grad_fn=<AddmmBackward0>) y tensor([[-2.4115]])\n",
      "yhat=  tensor([[-3.5546]], grad_fn=<AddmmBackward0>) y tensor([[-2.5473]])\n",
      "yhat=  tensor([[-3.9685]], grad_fn=<AddmmBackward0>) y tensor([[-2.8184]])\n",
      "yhat=  tensor([[-4.3823]], grad_fn=<AddmmBackward0>) y tensor([[-3.3128]])\n",
      "yhat=  tensor([[-4.7961]], grad_fn=<AddmmBackward0>) y tensor([[-3.3873]])\n",
      "yhat=  tensor([[-5.2100]], grad_fn=<AddmmBackward0>) y tensor([[-3.6697]])\n",
      "yhat=  tensor([[-5.6238]], grad_fn=<AddmmBackward0>) y tensor([[-4.0989]])\n",
      "yhat=  tensor([[-6.0377]], grad_fn=<AddmmBackward0>) y tensor([[-4.5712]])\n",
      "yhat=  tensor([[-6.4515]], grad_fn=<AddmmBackward0>) y tensor([[-4.8791]])\n",
      "yhat=  tensor([[-6.8653]], grad_fn=<AddmmBackward0>) y tensor([[20.]])\n",
      "yhat=  tensor([[-7.2792]], grad_fn=<AddmmBackward0>) y tensor([[20.]])\n",
      "yhat=  tensor([[-7.6930]], grad_fn=<AddmmBackward0>) y tensor([[20.]])\n",
      "yhat=  tensor([[-8.1068]], grad_fn=<AddmmBackward0>) y tensor([[20.]])\n",
      "yhat=  tensor([[-8.5207]], grad_fn=<AddmmBackward0>) y tensor([[20.]])\n",
      "yhat=  tensor([[-8.9345]], grad_fn=<AddmmBackward0>) y tensor([[-6.4071]])\n",
      "yhat=  tensor([[-9.3484]], grad_fn=<AddmmBackward0>) y tensor([[-6.8814]])\n",
      "yhat=  tensor([[-9.7622]], grad_fn=<AddmmBackward0>) y tensor([[-7.1000]])\n",
      "yhat=  tensor([[-10.1760]], grad_fn=<AddmmBackward0>) y tensor([[-7.4709]])\n",
      "yhat=  tensor([[-10.5899]], grad_fn=<AddmmBackward0>) y tensor([[-7.5492]])\n"
     ]
    }
   ],
   "source": [
    "good_model = MODELS[np.argmin(validation_error)]\n",
    "\n",
    "for x, y in trainloader:\n",
    "    print(\"yhat= \", model(x),\"y\", y)"
   ]
  }
 ],
 "metadata": {
  "kaggle": {
   "accelerator": "none",
   "dataSources": [],
   "dockerImageVersionId": 30664,
   "isGpuEnabled": false,
   "isInternetEnabled": true,
   "language": "python",
   "sourceType": "notebook"
  },
  "kernelspec": {
   "display_name": "Python 3",
   "language": "python",
   "name": "python3"
  },
  "language_info": {
   "codemirror_mode": {
    "name": "ipython",
    "version": 3
   },
   "file_extension": ".py",
   "mimetype": "text/x-python",
   "name": "python",
   "nbconvert_exporter": "python",
   "pygments_lexer": "ipython3",
   "version": "3.10.13"
  },
  "papermill": {
   "default_parameters": {},
   "duration": 14.899173,
   "end_time": "2024-03-06T10:47:37.564765",
   "environment_variables": {},
   "exception": null,
   "input_path": "__notebook__.ipynb",
   "output_path": "__notebook__.ipynb",
   "parameters": {},
   "start_time": "2024-03-06T10:47:22.665592",
   "version": "2.5.0"
  }
 },
 "nbformat": 4,
 "nbformat_minor": 5
}
