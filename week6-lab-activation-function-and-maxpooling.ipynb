{
 "cells": [
  {
   "cell_type": "markdown",
   "id": "de61bcf9",
   "metadata": {
    "papermill": {
     "duration": 0.006221,
     "end_time": "2024-03-11T21:50:11.607595",
     "exception": false,
     "start_time": "2024-03-11T21:50:11.601374",
     "status": "completed"
    },
    "tags": []
   },
   "source": [
    "<p style=\"text-align:center\">\n",
    "    <a href=\"https://skills.network/?utm_medium=Exinfluencer&utm_source=Exinfluencer&utm_content=000026UJ&utm_term=10006555&utm_id=NA-SkillsNetwork-Channel-SkillsNetworkCoursesIBMDeveloperSkillsNetworkDL0110ENSkillsNetwork952-2022-01-01\" target=\"_blank\">\n",
    "    <img src=\"https://cf-courses-data.s3.us.cloud-object-storage.appdomain.cloud/assets/logos/SN_web_lightmode.png\" width=\"200\" alt=\"Skills Network Logo\"  />\n",
    "    </a>\n",
    "</p>\n"
   ]
  },
  {
   "cell_type": "markdown",
   "id": "ab5c43ff",
   "metadata": {
    "papermill": {
     "duration": 0.005493,
     "end_time": "2024-03-11T21:50:11.618729",
     "exception": false,
     "start_time": "2024-03-11T21:50:11.613236",
     "status": "completed"
    },
    "tags": []
   },
   "source": [
    "<h1 align=center><font size = 5>Activation function and Maxpooling </h1 >\n"
   ]
  },
  {
   "cell_type": "markdown",
   "id": "265138c7",
   "metadata": {
    "papermill": {
     "duration": 0.005436,
     "end_time": "2024-03-11T21:50:11.629738",
     "exception": false,
     "start_time": "2024-03-11T21:50:11.624302",
     "status": "completed"
    },
    "tags": []
   },
   "source": [
    "\n",
    "<h3>Objective for this Notebook<h3>    \n",
    "<h5> 1. Learn how to apply an activation function.</h5>\n",
    "<h5> 2. Learn about max pooling </h5>     \n",
    "\n"
   ]
  },
  {
   "cell_type": "markdown",
   "id": "2e6a52a9",
   "metadata": {
    "papermill": {
     "duration": 0.005468,
     "end_time": "2024-03-11T21:50:11.640769",
     "exception": false,
     "start_time": "2024-03-11T21:50:11.635301",
     "status": "completed"
    },
    "tags": []
   },
   "source": [
    "\n",
    "# Table of Contents\n",
    "In this lab, you will learn two important components in building a convolutional neural network. The first is applying an activation function, which is analogous to building a regular network. You will also learn about max pooling. Max pooling reduces the number of parameters and makes the network less susceptible to changes in the image. \n",
    "\n",
    "\n",
    "<li><a href=\"#ref0\">Activation Functions</a></li>\n",
    "\n",
    "<li><a href=\"#ref1\">Max Pooling</a></li>\n",
    "\n",
    "\n",
    "<br>\n",
    "<p></p>\n",
    "Estimated Time Needed: <strong>25 min</strong>\n",
    "</div>\n",
    "\n",
    "<hr>\n"
   ]
  },
  {
   "cell_type": "markdown",
   "id": "53176f6d",
   "metadata": {
    "papermill": {
     "duration": 0.005378,
     "end_time": "2024-03-11T21:50:11.651968",
     "exception": false,
     "start_time": "2024-03-11T21:50:11.646590",
     "status": "completed"
    },
    "tags": []
   },
   "source": [
    "Import the following libraries:\n"
   ]
  },
  {
   "cell_type": "code",
   "execution_count": 1,
   "id": "fe24c57a",
   "metadata": {
    "execution": {
     "iopub.execute_input": "2024-03-11T21:50:11.665028Z",
     "iopub.status.busy": "2024-03-11T21:50:11.664344Z",
     "iopub.status.idle": "2024-03-11T21:50:15.214354Z",
     "shell.execute_reply": "2024-03-11T21:50:15.213613Z"
    },
    "papermill": {
     "duration": 3.55885,
     "end_time": "2024-03-11T21:50:15.216401",
     "exception": false,
     "start_time": "2024-03-11T21:50:11.657551",
     "status": "completed"
    },
    "tags": []
   },
   "outputs": [],
   "source": [
    "import torch \n",
    "import torch.nn as nn\n",
    "import matplotlib.pyplot as plt\n",
    "import numpy as np\n",
    "from scipy import ndimage, misc\n"
   ]
  },
  {
   "cell_type": "markdown",
   "id": "cf01fb0b",
   "metadata": {
    "papermill": {
     "duration": 0.005272,
     "end_time": "2024-03-11T21:50:15.227474",
     "exception": false,
     "start_time": "2024-03-11T21:50:15.222202",
     "status": "completed"
    },
    "tags": []
   },
   "source": [
    "<a id=\"ref0\"></a>\n",
    "<h2 align=center>Activation Functions  </h2>\n"
   ]
  },
  {
   "cell_type": "markdown",
   "id": "af618a11",
   "metadata": {
    "papermill": {
     "duration": 0.006632,
     "end_time": "2024-03-11T21:50:15.239513",
     "exception": false,
     "start_time": "2024-03-11T21:50:15.232881",
     "status": "completed"
    },
    "tags": []
   },
   "source": [
    "Just like a neural network, you apply an activation function to the activation map as shown in the following image:\n"
   ]
  },
  {
   "cell_type": "markdown",
   "id": "bebdc76c",
   "metadata": {
    "papermill": {
     "duration": 0.005365,
     "end_time": "2024-03-11T21:50:15.250698",
     "exception": false,
     "start_time": "2024-03-11T21:50:15.245333",
     "status": "completed"
    },
    "tags": []
   },
   "source": [
    "<img src=\"https://s3-api.us-geo.objectstorage.softlayer.net/cf-courses-data/CognitiveClass/DL0110EN/notebook_images%20/chapter%206/6.1.3block_digram.png\" width=\"1000,\" align=\"center\">\n"
   ]
  },
  {
   "cell_type": "markdown",
   "id": "ed446496",
   "metadata": {
    "papermill": {
     "duration": 0.005189,
     "end_time": "2024-03-11T21:50:15.261397",
     "exception": false,
     "start_time": "2024-03-11T21:50:15.256208",
     "status": "completed"
    },
    "tags": []
   },
   "source": [
    "Create a kernel and image as usual. Set the bias to zero: \n"
   ]
  },
  {
   "cell_type": "code",
   "execution_count": 2,
   "id": "15993b05",
   "metadata": {
    "execution": {
     "iopub.execute_input": "2024-03-11T21:50:15.274659Z",
     "iopub.status.busy": "2024-03-11T21:50:15.274009Z",
     "iopub.status.idle": "2024-03-11T21:50:15.381432Z",
     "shell.execute_reply": "2024-03-11T21:50:15.380751Z"
    },
    "papermill": {
     "duration": 0.116178,
     "end_time": "2024-03-11T21:50:15.383123",
     "exception": false,
     "start_time": "2024-03-11T21:50:15.266945",
     "status": "completed"
    },
    "tags": []
   },
   "outputs": [
    {
     "data": {
      "text/plain": [
       "OrderedDict([('weight',\n",
       "              tensor([[[[ 1.,  0., -1.],\n",
       "                        [ 2.,  0., -2.],\n",
       "                        [ 1.,  0., -1.]]]])),\n",
       "             ('bias', tensor([0.]))])"
      ]
     },
     "execution_count": 2,
     "metadata": {},
     "output_type": "execute_result"
    }
   ],
   "source": [
    "conv = nn.Conv2d(in_channels=1, out_channels=1,kernel_size=3)\n",
    "Gx=torch.tensor([[1.0,0,-1.0],[2.0,0,-2.0],[1.0,0,-1.0]])\n",
    "conv.state_dict()['weight'][0][0]=Gx\n",
    "conv.state_dict()['bias'][0]=0.0\n",
    "conv.state_dict()"
   ]
  },
  {
   "cell_type": "code",
   "execution_count": 3,
   "id": "db7bd3cb",
   "metadata": {
    "execution": {
     "iopub.execute_input": "2024-03-11T21:50:15.397324Z",
     "iopub.status.busy": "2024-03-11T21:50:15.396768Z",
     "iopub.status.idle": "2024-03-11T21:50:15.415351Z",
     "shell.execute_reply": "2024-03-11T21:50:15.414045Z"
    },
    "papermill": {
     "duration": 0.027798,
     "end_time": "2024-03-11T21:50:15.417275",
     "exception": false,
     "start_time": "2024-03-11T21:50:15.389477",
     "status": "completed"
    },
    "tags": []
   },
   "outputs": [
    {
     "data": {
      "text/plain": [
       "tensor([[[[0., 0., 1., 0., 0.],\n",
       "          [0., 0., 1., 0., 0.],\n",
       "          [0., 0., 1., 0., 0.],\n",
       "          [0., 0., 1., 0., 0.],\n",
       "          [0., 0., 1., 0., 0.]]]])"
      ]
     },
     "execution_count": 3,
     "metadata": {},
     "output_type": "execute_result"
    }
   ],
   "source": [
    "image=torch.zeros(1,1,5,5)\n",
    "image[0,0,:,2]=1\n",
    "image"
   ]
  },
  {
   "cell_type": "markdown",
   "id": "59e7892f",
   "metadata": {
    "papermill": {
     "duration": 0.005492,
     "end_time": "2024-03-11T21:50:15.428910",
     "exception": false,
     "start_time": "2024-03-11T21:50:15.423418",
     "status": "completed"
    },
    "tags": []
   },
   "source": [
    "The following image shows the image and kernel: \n"
   ]
  },
  {
   "cell_type": "markdown",
   "id": "e8608ae5",
   "metadata": {
    "papermill": {
     "duration": 0.005612,
     "end_time": "2024-03-11T21:50:15.440222",
     "exception": false,
     "start_time": "2024-03-11T21:50:15.434610",
     "status": "completed"
    },
    "tags": []
   },
   "source": [
    "<img src=\"https://s3-api.us-geo.objectstorage.softlayer.net/cf-courses-data/CognitiveClass/DL0110EN/notebook_images%20/chapter%206/6.1.3kernal_out.png\" width=\"500,\" align=\"center\">\n"
   ]
  },
  {
   "cell_type": "markdown",
   "id": "b5487b0f",
   "metadata": {
    "papermill": {
     "duration": 0.005661,
     "end_time": "2024-03-11T21:50:15.451922",
     "exception": false,
     "start_time": "2024-03-11T21:50:15.446261",
     "status": "completed"
    },
    "tags": []
   },
   "source": [
    "Apply convolution to the image: \n"
   ]
  },
  {
   "cell_type": "code",
   "execution_count": 4,
   "id": "1616c7b3",
   "metadata": {
    "execution": {
     "iopub.execute_input": "2024-03-11T21:50:15.464931Z",
     "iopub.status.busy": "2024-03-11T21:50:15.464520Z",
     "iopub.status.idle": "2024-03-11T21:50:15.484099Z",
     "shell.execute_reply": "2024-03-11T21:50:15.482866Z"
    },
    "papermill": {
     "duration": 0.02835,
     "end_time": "2024-03-11T21:50:15.486070",
     "exception": false,
     "start_time": "2024-03-11T21:50:15.457720",
     "status": "completed"
    },
    "tags": []
   },
   "outputs": [
    {
     "data": {
      "text/plain": [
       "tensor([[[[-4.,  0.,  4.],\n",
       "          [-4.,  0.,  4.],\n",
       "          [-4.,  0.,  4.]]]], grad_fn=<ConvolutionBackward0>)"
      ]
     },
     "execution_count": 4,
     "metadata": {},
     "output_type": "execute_result"
    }
   ],
   "source": [
    "Z=conv(image)\n",
    "Z"
   ]
  },
  {
   "cell_type": "markdown",
   "id": "2b18df2e",
   "metadata": {
    "papermill": {
     "duration": 0.005614,
     "end_time": "2024-03-11T21:50:15.497840",
     "exception": false,
     "start_time": "2024-03-11T21:50:15.492226",
     "status": "completed"
    },
    "tags": []
   },
   "source": [
    "Apply the activation function to the activation map. This will apply the activation function to each element in the activation map.\n"
   ]
  },
  {
   "cell_type": "code",
   "execution_count": 5,
   "id": "16036dfa",
   "metadata": {
    "execution": {
     "iopub.execute_input": "2024-03-11T21:50:15.510843Z",
     "iopub.status.busy": "2024-03-11T21:50:15.510454Z",
     "iopub.status.idle": "2024-03-11T21:50:15.520545Z",
     "shell.execute_reply": "2024-03-11T21:50:15.519854Z"
    },
    "papermill": {
     "duration": 0.018804,
     "end_time": "2024-03-11T21:50:15.522326",
     "exception": false,
     "start_time": "2024-03-11T21:50:15.503522",
     "status": "completed"
    },
    "tags": []
   },
   "outputs": [
    {
     "data": {
      "text/plain": [
       "tensor([[[[0., 0., 4.],\n",
       "          [0., 0., 4.],\n",
       "          [0., 0., 4.]]]], grad_fn=<ReluBackward0>)"
      ]
     },
     "execution_count": 5,
     "metadata": {},
     "output_type": "execute_result"
    }
   ],
   "source": [
    "A=torch.relu(Z)\n",
    "A"
   ]
  },
  {
   "cell_type": "markdown",
   "id": "2ef56637",
   "metadata": {
    "papermill": {
     "duration": 0.00587,
     "end_time": "2024-03-11T21:50:15.534859",
     "exception": false,
     "start_time": "2024-03-11T21:50:15.528989",
     "status": "completed"
    },
    "tags": []
   },
   "source": []
  },
  {
   "cell_type": "code",
   "execution_count": 6,
   "id": "8abfc199",
   "metadata": {
    "execution": {
     "iopub.execute_input": "2024-03-11T21:50:15.549497Z",
     "iopub.status.busy": "2024-03-11T21:50:15.548669Z",
     "iopub.status.idle": "2024-03-11T21:50:15.555000Z",
     "shell.execute_reply": "2024-03-11T21:50:15.554196Z"
    },
    "papermill": {
     "duration": 0.015599,
     "end_time": "2024-03-11T21:50:15.556687",
     "exception": false,
     "start_time": "2024-03-11T21:50:15.541088",
     "status": "completed"
    },
    "tags": []
   },
   "outputs": [
    {
     "data": {
      "text/plain": [
       "tensor([[[[0., 0., 4.],\n",
       "          [0., 0., 4.],\n",
       "          [0., 0., 4.]]]], grad_fn=<ReluBackward0>)"
      ]
     },
     "execution_count": 6,
     "metadata": {},
     "output_type": "execute_result"
    }
   ],
   "source": [
    "relu = nn.ReLU()\n",
    "relu(Z)"
   ]
  },
  {
   "cell_type": "markdown",
   "id": "3413b7ba",
   "metadata": {
    "papermill": {
     "duration": 0.005893,
     "end_time": "2024-03-11T21:50:15.568687",
     "exception": false,
     "start_time": "2024-03-11T21:50:15.562794",
     "status": "completed"
    },
    "tags": []
   },
   "source": [
    "The process is summarized in the the following figure. The Relu function is applied to each element. All the elements less than zero are mapped to zero. The remaining components do not change.\n"
   ]
  },
  {
   "cell_type": "markdown",
   "id": "5e94f120",
   "metadata": {
    "papermill": {
     "duration": 0.005803,
     "end_time": "2024-03-11T21:50:15.580711",
     "exception": false,
     "start_time": "2024-03-11T21:50:15.574908",
     "status": "completed"
    },
    "tags": []
   },
   "source": [
    "<img src=\"https://s3-api.us-geo.objectstorage.softlayer.net/cf-courses-data/CognitiveClass/DL0110EN/notebook_images%20/chapter%206/6.2.3_block_example.gif\" width=\"1000,\" align=\"center\">\n"
   ]
  },
  {
   "cell_type": "markdown",
   "id": "4670e496",
   "metadata": {
    "papermill": {
     "duration": 0.005935,
     "end_time": "2024-03-11T21:50:15.592724",
     "exception": false,
     "start_time": "2024-03-11T21:50:15.586789",
     "status": "completed"
    },
    "tags": []
   },
   "source": [
    "<a id=\"ref1\"></a>\n",
    "<h2 align=center>Max Pooling </h2>\n"
   ]
  },
  {
   "cell_type": "markdown",
   "id": "d7d5da29",
   "metadata": {
    "papermill": {
     "duration": 0.005886,
     "end_time": "2024-03-11T21:50:15.604710",
     "exception": false,
     "start_time": "2024-03-11T21:50:15.598824",
     "status": "completed"
    },
    "tags": []
   },
   "source": [
    "Consider the following image: \n"
   ]
  },
  {
   "cell_type": "code",
   "execution_count": 7,
   "id": "85559e49",
   "metadata": {
    "execution": {
     "iopub.execute_input": "2024-03-11T21:50:15.618915Z",
     "iopub.status.busy": "2024-03-11T21:50:15.618336Z",
     "iopub.status.idle": "2024-03-11T21:50:15.626341Z",
     "shell.execute_reply": "2024-03-11T21:50:15.625407Z"
    },
    "papermill": {
     "duration": 0.017145,
     "end_time": "2024-03-11T21:50:15.628085",
     "exception": false,
     "start_time": "2024-03-11T21:50:15.610940",
     "status": "completed"
    },
    "tags": []
   },
   "outputs": [
    {
     "data": {
      "text/plain": [
       "tensor([[[[ 1.,  2.,  3., -4.],\n",
       "          [ 0.,  2., -3.,  0.],\n",
       "          [ 0.,  2.,  3.,  1.],\n",
       "          [ 0.,  0.,  0.,  0.]]]])"
      ]
     },
     "execution_count": 7,
     "metadata": {},
     "output_type": "execute_result"
    }
   ],
   "source": [
    "image1=torch.zeros(1,1,4,4)\n",
    "image1[0,0,0,:]=torch.tensor([1.0,2.0,3.0,-4.0])\n",
    "image1[0,0,1,:]=torch.tensor([0.0,2.0,-3.0,0.0])\n",
    "image1[0,0,2,:]=torch.tensor([0.0,2.0,3.0,1.0])\n",
    "\n",
    "image1"
   ]
  },
  {
   "cell_type": "markdown",
   "id": "87d8fa65",
   "metadata": {
    "papermill": {
     "duration": 0.006111,
     "end_time": "2024-03-11T21:50:15.640539",
     "exception": false,
     "start_time": "2024-03-11T21:50:15.634428",
     "status": "completed"
    },
    "tags": []
   },
   "source": [
    "Max pooling simply takes the maximum value in each region. Consider the following image. For the first region, max pooling simply takes the largest element in a yellow region.   \n"
   ]
  },
  {
   "cell_type": "markdown",
   "id": "52a68269",
   "metadata": {
    "papermill": {
     "duration": 0.006043,
     "end_time": "2024-03-11T21:50:15.652934",
     "exception": false,
     "start_time": "2024-03-11T21:50:15.646891",
     "status": "completed"
    },
    "tags": []
   },
   "source": [
    "<img src=\"https://s3-api.us-geo.objectstorage.softlayer.net/cf-courses-data/CognitiveClass/DL0110EN/notebook_images%20/chapter%206/6.1.3maxpool_1.png\" width=\"500,\" align=\"center\">\n"
   ]
  },
  {
   "cell_type": "markdown",
   "id": "d987e62a",
   "metadata": {
    "papermill": {
     "duration": 0.005948,
     "end_time": "2024-03-11T21:50:15.665376",
     "exception": false,
     "start_time": "2024-03-11T21:50:15.659428",
     "status": "completed"
    },
    "tags": []
   },
   "source": [
    "The region shifts, and the process is repeated. The process is similar to convolution and is demonstrated in the following figure:\n"
   ]
  },
  {
   "cell_type": "markdown",
   "id": "ecba79d3",
   "metadata": {
    "papermill": {
     "duration": 0.00612,
     "end_time": "2024-03-11T21:50:15.677824",
     "exception": false,
     "start_time": "2024-03-11T21:50:15.671704",
     "status": "completed"
    },
    "tags": []
   },
   "source": [
    "<img src=\"https://s3-api.us-geo.objectstorage.softlayer.net/cf-courses-data/CognitiveClass/DL0110EN/notebook_images%20/chapter%206/6.1.3_max_pool_animation.gif\" width=\"500,\" align=\"center\">\n"
   ]
  },
  {
   "cell_type": "markdown",
   "id": "a439a218",
   "metadata": {
    "papermill": {
     "duration": 0.005992,
     "end_time": "2024-03-11T21:50:15.690060",
     "exception": false,
     "start_time": "2024-03-11T21:50:15.684068",
     "status": "completed"
    },
    "tags": []
   },
   "source": [
    "Create a maxpooling object in 2d as follows and perform max pooling as follows:  \n"
   ]
  },
  {
   "cell_type": "code",
   "execution_count": 8,
   "id": "566e028b",
   "metadata": {
    "execution": {
     "iopub.execute_input": "2024-03-11T21:50:15.704290Z",
     "iopub.status.busy": "2024-03-11T21:50:15.703768Z",
     "iopub.status.idle": "2024-03-11T21:50:15.714721Z",
     "shell.execute_reply": "2024-03-11T21:50:15.713810Z"
    },
    "papermill": {
     "duration": 0.020263,
     "end_time": "2024-03-11T21:50:15.716548",
     "exception": false,
     "start_time": "2024-03-11T21:50:15.696285",
     "status": "completed"
    },
    "tags": []
   },
   "outputs": [
    {
     "data": {
      "text/plain": [
       "tensor([[[[2., 3., 3.],\n",
       "          [2., 3., 3.],\n",
       "          [2., 3., 3.]]]])"
      ]
     },
     "execution_count": 8,
     "metadata": {},
     "output_type": "execute_result"
    }
   ],
   "source": [
    "max1=torch.nn.MaxPool2d(2,stride=1)\n",
    "max1(image1)"
   ]
  },
  {
   "cell_type": "markdown",
   "id": "e084e568",
   "metadata": {
    "papermill": {
     "duration": 0.006298,
     "end_time": "2024-03-11T21:50:15.729496",
     "exception": false,
     "start_time": "2024-03-11T21:50:15.723198",
     "status": "completed"
    },
    "tags": []
   },
   "source": [
    "If the stride is set to None (its defaults setting), the process will simply take the maximum in a prescribed area and shift over accordingly as shown in the following figure:\n"
   ]
  },
  {
   "cell_type": "markdown",
   "id": "8b5eb736",
   "metadata": {
    "papermill": {
     "duration": 0.006153,
     "end_time": "2024-03-11T21:50:15.742223",
     "exception": false,
     "start_time": "2024-03-11T21:50:15.736070",
     "status": "completed"
    },
    "tags": []
   },
   "source": [
    "<img src=\"https://s3-api.us-geo.objectstorage.softlayer.net/cf-courses-data/CognitiveClass/DL0110EN/notebook_images%20/chapter%206/6.1.3_max_pool_animation_2.gif\" width=\"500,\" align=\"center\">\n"
   ]
  },
  {
   "cell_type": "markdown",
   "id": "c6b8d375",
   "metadata": {
    "papermill": {
     "duration": 0.00599,
     "end_time": "2024-03-11T21:50:15.754690",
     "exception": false,
     "start_time": "2024-03-11T21:50:15.748700",
     "status": "completed"
    },
    "tags": []
   },
   "source": [
    "Here's the code in Pytorch:  \n"
   ]
  },
  {
   "cell_type": "code",
   "execution_count": 9,
   "id": "e4909c33",
   "metadata": {
    "execution": {
     "iopub.execute_input": "2024-03-11T21:50:15.768909Z",
     "iopub.status.busy": "2024-03-11T21:50:15.768596Z",
     "iopub.status.idle": "2024-03-11T21:50:15.776286Z",
     "shell.execute_reply": "2024-03-11T21:50:15.774939Z"
    },
    "papermill": {
     "duration": 0.017508,
     "end_time": "2024-03-11T21:50:15.778492",
     "exception": false,
     "start_time": "2024-03-11T21:50:15.760984",
     "status": "completed"
    },
    "tags": []
   },
   "outputs": [
    {
     "data": {
      "text/plain": [
       "tensor([[[[2., 3.],\n",
       "          [2., 3.]]]])"
      ]
     },
     "execution_count": 9,
     "metadata": {},
     "output_type": "execute_result"
    }
   ],
   "source": [
    "max1=torch.nn.MaxPool2d(2)\n",
    "max1(image1)"
   ]
  }
 ],
 "metadata": {
  "kaggle": {
   "accelerator": "none",
   "dataSources": [],
   "dockerImageVersionId": 30664,
   "isGpuEnabled": false,
   "isInternetEnabled": true,
   "language": "python",
   "sourceType": "notebook"
  },
  "kernelspec": {
   "display_name": "Python 3",
   "language": "python",
   "name": "python3"
  },
  "language_info": {
   "codemirror_mode": {
    "name": "ipython",
    "version": 3
   },
   "file_extension": ".py",
   "mimetype": "text/x-python",
   "name": "python",
   "nbconvert_exporter": "python",
   "pygments_lexer": "ipython3",
   "version": "3.10.13"
  },
  "papermill": {
   "default_parameters": {},
   "duration": 7.36417,
   "end_time": "2024-03-11T21:50:16.505966",
   "environment_variables": {},
   "exception": null,
   "input_path": "__notebook__.ipynb",
   "output_path": "__notebook__.ipynb",
   "parameters": {},
   "start_time": "2024-03-11T21:50:09.141796",
   "version": "2.5.0"
  }
 },
 "nbformat": 4,
 "nbformat_minor": 5
}
