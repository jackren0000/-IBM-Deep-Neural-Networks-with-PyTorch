{
 "cells": [
  {
   "cell_type": "markdown",
   "id": "bf51fd0e",
   "metadata": {
    "papermill": {
     "duration": 0.020398,
     "end_time": "2024-03-06T09:25:33.943263",
     "exception": false,
     "start_time": "2024-03-06T09:25:33.922865",
     "status": "completed"
    },
    "tags": []
   },
   "source": [
    "<p style=\"text-align:center\">\n",
    "    <a href=\"https://skills.network/?utm_medium=Exinfluencer&utm_source=Exinfluencer&utm_content=000026UJ&utm_term=10006555&utm_id=NA-SkillsNetwork-Channel-SkillsNetworkCoursesIBMDeveloperSkillsNetworkDL0110ENSkillsNetwork952-2022-01-01\" target=\"_blank\">\n",
    "    <img src=\"https://cf-courses-data.s3.us.cloud-object-storage.appdomain.cloud/assets/logos/SN_web_lightmode.png\" width=\"200\" alt=\"Skills Network Logo\"  />\n",
    "    </a>\n",
    "</p>\n"
   ]
  },
  {
   "cell_type": "markdown",
   "id": "9ff3910d",
   "metadata": {
    "papermill": {
     "duration": 0.020224,
     "end_time": "2024-03-06T09:25:33.984079",
     "exception": false,
     "start_time": "2024-03-06T09:25:33.963855",
     "status": "completed"
    },
    "tags": []
   },
   "source": [
    "<h1>Linear Regression 1D: Prediction</h1>\n"
   ]
  },
  {
   "cell_type": "markdown",
   "id": "93334ef3",
   "metadata": {
    "papermill": {
     "duration": 0.020241,
     "end_time": "2024-03-06T09:25:34.025566",
     "exception": false,
     "start_time": "2024-03-06T09:25:34.005325",
     "status": "completed"
    },
    "tags": []
   },
   "source": [
    "<h2>Objective</h2><ul><li> How to make the prediction for multiple inputs.</li><li> How to use linear class to build more complex models.</li><li> How to build a custom module.</li></ul> \n"
   ]
  },
  {
   "cell_type": "markdown",
   "id": "5862b59b",
   "metadata": {
    "papermill": {
     "duration": 0.020983,
     "end_time": "2024-03-06T09:25:34.067947",
     "exception": false,
     "start_time": "2024-03-06T09:25:34.046964",
     "status": "completed"
    },
    "tags": []
   },
   "source": [
    "<h2>Table of Contents</h2>\n",
    "<p>In this lab, we will  review how to make a prediction in several different ways by using PyTorch.</h2>\n",
    "<ul>\n",
    "    <li><a href=\"#Prediction\">Prediction</a></li>\n",
    "    <li><a href=\"#Linear\">Class Linear</a></li>\n",
    "    <li><a href=\"#Cust\">Build Custom Modules</a></li>\n",
    "</ul>\n",
    "<p>Estimated Time Needed: <strong>15 min</strong></p>\n",
    "\n",
    "<hr>\n"
   ]
  },
  {
   "cell_type": "markdown",
   "id": "746481ae",
   "metadata": {
    "papermill": {
     "duration": 0.020056,
     "end_time": "2024-03-06T09:25:34.108266",
     "exception": false,
     "start_time": "2024-03-06T09:25:34.088210",
     "status": "completed"
    },
    "tags": []
   },
   "source": [
    "<h2>Preparation</h2>\n"
   ]
  },
  {
   "cell_type": "markdown",
   "id": "7a847c2f",
   "metadata": {
    "papermill": {
     "duration": 0.021841,
     "end_time": "2024-03-06T09:25:34.152935",
     "exception": false,
     "start_time": "2024-03-06T09:25:34.131094",
     "status": "completed"
    },
    "tags": []
   },
   "source": [
    "The following are the libraries we are going to use for this lab.\n"
   ]
  },
  {
   "cell_type": "code",
   "execution_count": 1,
   "id": "2ecdef6c",
   "metadata": {
    "execution": {
     "iopub.execute_input": "2024-03-06T09:25:34.198707Z",
     "iopub.status.busy": "2024-03-06T09:25:34.197960Z",
     "iopub.status.idle": "2024-03-06T09:25:38.479940Z",
     "shell.execute_reply": "2024-03-06T09:25:38.478335Z"
    },
    "papermill": {
     "duration": 4.30939,
     "end_time": "2024-03-06T09:25:38.483604",
     "exception": false,
     "start_time": "2024-03-06T09:25:34.174214",
     "status": "completed"
    },
    "tags": []
   },
   "outputs": [],
   "source": [
    "# These are the libraries will be used for this lab.\n",
    "\n",
    "import torch"
   ]
  },
  {
   "cell_type": "markdown",
   "id": "629e34de",
   "metadata": {
    "papermill": {
     "duration": 0.020471,
     "end_time": "2024-03-06T09:25:38.525426",
     "exception": false,
     "start_time": "2024-03-06T09:25:38.504955",
     "status": "completed"
    },
    "tags": []
   },
   "source": [
    "<!--Empty Space for separating topics-->\n"
   ]
  },
  {
   "cell_type": "markdown",
   "id": "d98890a1",
   "metadata": {
    "papermill": {
     "duration": 0.019353,
     "end_time": "2024-03-06T09:25:38.564871",
     "exception": false,
     "start_time": "2024-03-06T09:25:38.545518",
     "status": "completed"
    },
    "tags": []
   },
   "source": [
    "<h2 id=\"Prediction\">Prediction</h2>\n"
   ]
  },
  {
   "cell_type": "markdown",
   "id": "7beac6c2",
   "metadata": {
    "papermill": {
     "duration": 0.01874,
     "end_time": "2024-03-06T09:25:38.603867",
     "exception": false,
     "start_time": "2024-03-06T09:25:38.585127",
     "status": "completed"
    },
    "tags": []
   },
   "source": [
    "Let us create the following expressions:\n"
   ]
  },
  {
   "cell_type": "markdown",
   "id": "de852ed4",
   "metadata": {
    "papermill": {
     "duration": 0.018758,
     "end_time": "2024-03-06T09:25:38.642020",
     "exception": false,
     "start_time": "2024-03-06T09:25:38.623262",
     "status": "completed"
    },
    "tags": []
   },
   "source": [
    "$b=-1,w=2$\n",
    "\n",
    "$\\hat{y}=-1+2x$\n"
   ]
  },
  {
   "cell_type": "markdown",
   "id": "ec1f419d",
   "metadata": {
    "papermill": {
     "duration": 0.020675,
     "end_time": "2024-03-06T09:25:38.683117",
     "exception": false,
     "start_time": "2024-03-06T09:25:38.662442",
     "status": "completed"
    },
    "tags": []
   },
   "source": [
    "First, define the parameters:\n"
   ]
  },
  {
   "cell_type": "code",
   "execution_count": 2,
   "id": "4f719043",
   "metadata": {
    "execution": {
     "iopub.execute_input": "2024-03-06T09:25:38.725627Z",
     "iopub.status.busy": "2024-03-06T09:25:38.725026Z",
     "iopub.status.idle": "2024-03-06T09:25:38.744915Z",
     "shell.execute_reply": "2024-03-06T09:25:38.743300Z"
    },
    "papermill": {
     "duration": 0.045442,
     "end_time": "2024-03-06T09:25:38.748746",
     "exception": false,
     "start_time": "2024-03-06T09:25:38.703304",
     "status": "completed"
    },
    "tags": []
   },
   "outputs": [],
   "source": [
    "# Define w = 2 and b = -1 for y = wx + b\n",
    "\n",
    "w = torch.tensor(2.0, requires_grad = True)\n",
    "b = torch.tensor(-1.0, requires_grad = True)"
   ]
  },
  {
   "cell_type": "markdown",
   "id": "579128d1",
   "metadata": {
    "papermill": {
     "duration": 0.020721,
     "end_time": "2024-03-06T09:25:38.789695",
     "exception": false,
     "start_time": "2024-03-06T09:25:38.768974",
     "status": "completed"
    },
    "tags": []
   },
   "source": [
    "Then, define the function <code>forward(x, w, b)</code> makes the prediction: \n"
   ]
  },
  {
   "cell_type": "code",
   "execution_count": 3,
   "id": "2e9f1ab7",
   "metadata": {
    "execution": {
     "iopub.execute_input": "2024-03-06T09:25:38.831105Z",
     "iopub.status.busy": "2024-03-06T09:25:38.830636Z",
     "iopub.status.idle": "2024-03-06T09:25:38.837743Z",
     "shell.execute_reply": "2024-03-06T09:25:38.836253Z"
    },
    "papermill": {
     "duration": 0.030624,
     "end_time": "2024-03-06T09:25:38.840358",
     "exception": false,
     "start_time": "2024-03-06T09:25:38.809734",
     "status": "completed"
    },
    "tags": []
   },
   "outputs": [],
   "source": [
    "# Function forward(x) for prediction\n",
    "\n",
    "def forward(x):\n",
    "    yhat = w * x + b\n",
    "    return yhat"
   ]
  },
  {
   "cell_type": "markdown",
   "id": "7f1d1bda",
   "metadata": {
    "papermill": {
     "duration": 0.020068,
     "end_time": "2024-03-06T09:25:38.880787",
     "exception": false,
     "start_time": "2024-03-06T09:25:38.860719",
     "status": "completed"
    },
    "tags": []
   },
   "source": [
    "Let's make the following prediction at <i>x = 1</i>\n"
   ]
  },
  {
   "cell_type": "markdown",
   "id": "e241e94e",
   "metadata": {
    "papermill": {
     "duration": 0.019213,
     "end_time": "2024-03-06T09:25:38.921107",
     "exception": false,
     "start_time": "2024-03-06T09:25:38.901894",
     "status": "completed"
    },
    "tags": []
   },
   "source": [
    "$\\hat{y}=-1+2x$\n",
    "\n",
    "$\\hat{y}=-1+2(1)$\n"
   ]
  },
  {
   "cell_type": "code",
   "execution_count": 4,
   "id": "6dedb909",
   "metadata": {
    "execution": {
     "iopub.execute_input": "2024-03-06T09:25:38.964792Z",
     "iopub.status.busy": "2024-03-06T09:25:38.964354Z",
     "iopub.status.idle": "2024-03-06T09:25:39.055729Z",
     "shell.execute_reply": "2024-03-06T09:25:39.053955Z"
    },
    "papermill": {
     "duration": 0.116605,
     "end_time": "2024-03-06T09:25:39.058960",
     "exception": false,
     "start_time": "2024-03-06T09:25:38.942355",
     "status": "completed"
    },
    "tags": []
   },
   "outputs": [
    {
     "name": "stdout",
     "output_type": "stream",
     "text": [
      "The prediction:  tensor([[1.]], grad_fn=<AddBackward0>)\n"
     ]
    }
   ],
   "source": [
    "# Predict y = 2x - 1 at x = 1\n",
    "\n",
    "x = torch.tensor([[1.0]])\n",
    "yhat = forward(x)\n",
    "print(\"The prediction: \", yhat)"
   ]
  },
  {
   "cell_type": "markdown",
   "id": "38e0f2fa",
   "metadata": {
    "papermill": {
     "duration": 0.020894,
     "end_time": "2024-03-06T09:25:39.101142",
     "exception": false,
     "start_time": "2024-03-06T09:25:39.080248",
     "status": "completed"
    },
    "tags": []
   },
   "source": [
    "<!--Empty Space for separating topics-->\n"
   ]
  },
  {
   "cell_type": "markdown",
   "id": "6bbd873e",
   "metadata": {
    "papermill": {
     "duration": 0.020477,
     "end_time": "2024-03-06T09:25:39.142970",
     "exception": false,
     "start_time": "2024-03-06T09:25:39.122493",
     "status": "completed"
    },
    "tags": []
   },
   "source": [
    "Now, let us try to make the prediction for multiple inputs:\n"
   ]
  },
  {
   "cell_type": "markdown",
   "id": "d8134176",
   "metadata": {
    "papermill": {
     "duration": 0.019515,
     "end_time": "2024-03-06T09:25:39.184052",
     "exception": false,
     "start_time": "2024-03-06T09:25:39.164537",
     "status": "completed"
    },
    "tags": []
   },
   "source": [
    "<img src=\"https://s3-api.us-geo.objectstorage.softlayer.net/cf-courses-data/CognitiveClass/DL0110EN/notebook_images%20/chapter2/2.1.2.png\" width=\"500\" alt=\"Linear Regression Multiple Input Samples\">\n"
   ]
  },
  {
   "cell_type": "markdown",
   "id": "d518a667",
   "metadata": {
    "papermill": {
     "duration": 0.098186,
     "end_time": "2024-03-06T09:25:39.303454",
     "exception": false,
     "start_time": "2024-03-06T09:25:39.205268",
     "status": "completed"
    },
    "tags": []
   },
   "source": [
    "Let us construct the <code>x</code> tensor first. Check the shape of <code>x</code>.\n"
   ]
  },
  {
   "cell_type": "code",
   "execution_count": 5,
   "id": "a7fbccc4",
   "metadata": {
    "execution": {
     "iopub.execute_input": "2024-03-06T09:25:39.349057Z",
     "iopub.status.busy": "2024-03-06T09:25:39.348599Z",
     "iopub.status.idle": "2024-03-06T09:25:39.356018Z",
     "shell.execute_reply": "2024-03-06T09:25:39.354294Z"
    },
    "papermill": {
     "duration": 0.033625,
     "end_time": "2024-03-06T09:25:39.359109",
     "exception": false,
     "start_time": "2024-03-06T09:25:39.325484",
     "status": "completed"
    },
    "tags": []
   },
   "outputs": [
    {
     "name": "stdout",
     "output_type": "stream",
     "text": [
      "The shape of x:  torch.Size([2, 1])\n"
     ]
    }
   ],
   "source": [
    "# Create x Tensor and check the shape of x tensor\n",
    "\n",
    "x = torch.tensor([[1.0], [2.0]])\n",
    "print(\"The shape of x: \", x.shape)"
   ]
  },
  {
   "cell_type": "markdown",
   "id": "ee8ef47d",
   "metadata": {
    "papermill": {
     "duration": 0.020341,
     "end_time": "2024-03-06T09:25:39.400423",
     "exception": false,
     "start_time": "2024-03-06T09:25:39.380082",
     "status": "completed"
    },
    "tags": []
   },
   "source": [
    "Now make the prediction: \n"
   ]
  },
  {
   "cell_type": "code",
   "execution_count": 6,
   "id": "1b2fe1f7",
   "metadata": {
    "execution": {
     "iopub.execute_input": "2024-03-06T09:25:39.444006Z",
     "iopub.status.busy": "2024-03-06T09:25:39.443576Z",
     "iopub.status.idle": "2024-03-06T09:25:39.453641Z",
     "shell.execute_reply": "2024-03-06T09:25:39.452211Z"
    },
    "papermill": {
     "duration": 0.035217,
     "end_time": "2024-03-06T09:25:39.456724",
     "exception": false,
     "start_time": "2024-03-06T09:25:39.421507",
     "status": "completed"
    },
    "tags": []
   },
   "outputs": [
    {
     "name": "stdout",
     "output_type": "stream",
     "text": [
      "The prediction:  tensor([[1.],\n",
      "        [3.]], grad_fn=<AddBackward0>)\n"
     ]
    }
   ],
   "source": [
    "# Make the prediction of y = 2x - 1 at x = [1, 2]\n",
    "\n",
    "yhat = forward(x)\n",
    "print(\"The prediction: \", yhat)"
   ]
  },
  {
   "cell_type": "markdown",
   "id": "c1a56262",
   "metadata": {
    "papermill": {
     "duration": 0.021182,
     "end_time": "2024-03-06T09:25:39.498781",
     "exception": false,
     "start_time": "2024-03-06T09:25:39.477599",
     "status": "completed"
    },
    "tags": []
   },
   "source": [
    "The result is the same as what it is in the image above.\n"
   ]
  },
  {
   "cell_type": "markdown",
   "id": "0b5eb27a",
   "metadata": {
    "papermill": {
     "duration": 0.026649,
     "end_time": "2024-03-06T09:25:39.546810",
     "exception": false,
     "start_time": "2024-03-06T09:25:39.520161",
     "status": "completed"
    },
    "tags": []
   },
   "source": [
    "<!--Empty Space for separating topics-->\n"
   ]
  },
  {
   "cell_type": "markdown",
   "id": "f257c5ac",
   "metadata": {
    "papermill": {
     "duration": 0.027493,
     "end_time": "2024-03-06T09:25:39.600736",
     "exception": false,
     "start_time": "2024-03-06T09:25:39.573243",
     "status": "completed"
    },
    "tags": []
   },
   "source": [
    "<h3>Practice</h3>\n"
   ]
  },
  {
   "cell_type": "markdown",
   "id": "83d090fe",
   "metadata": {
    "papermill": {
     "duration": 0.026283,
     "end_time": "2024-03-06T09:25:39.650231",
     "exception": false,
     "start_time": "2024-03-06T09:25:39.623948",
     "status": "completed"
    },
    "tags": []
   },
   "source": [
    "Make a prediction of the following <code>x</code> tensor using the <code>w</code> and <code>b</code> from above.\n"
   ]
  },
  {
   "cell_type": "code",
   "execution_count": 7,
   "id": "0902e48f",
   "metadata": {
    "execution": {
     "iopub.execute_input": "2024-03-06T09:25:39.708571Z",
     "iopub.status.busy": "2024-03-06T09:25:39.707951Z",
     "iopub.status.idle": "2024-03-06T09:25:39.716852Z",
     "shell.execute_reply": "2024-03-06T09:25:39.715284Z"
    },
    "papermill": {
     "duration": 0.041748,
     "end_time": "2024-03-06T09:25:39.719914",
     "exception": false,
     "start_time": "2024-03-06T09:25:39.678166",
     "status": "completed"
    },
    "tags": []
   },
   "outputs": [
    {
     "name": "stdout",
     "output_type": "stream",
     "text": [
      "The prediction:  tensor([[1.],\n",
      "        [3.],\n",
      "        [5.]], grad_fn=<AddBackward0>)\n"
     ]
    }
   ],
   "source": [
    "# Practice: Make a prediction of y = 2x - 1 at x = [[1.0], [2.0], [3.0]]\n",
    "\n",
    "x = torch.tensor([[1.0], [2.0], [3.0]])\n",
    "yhat = forward(x)\n",
    "print(\"The prediction: \", yhat)"
   ]
  },
  {
   "cell_type": "markdown",
   "id": "89098a83",
   "metadata": {
    "papermill": {
     "duration": 0.021585,
     "end_time": "2024-03-06T09:25:39.763366",
     "exception": false,
     "start_time": "2024-03-06T09:25:39.741781",
     "status": "completed"
    },
    "tags": []
   },
   "source": [
    "<!--Empty Space for separating topics-->\n"
   ]
  },
  {
   "cell_type": "markdown",
   "id": "8dbec217",
   "metadata": {
    "papermill": {
     "duration": 0.020375,
     "end_time": "2024-03-06T09:25:39.805011",
     "exception": false,
     "start_time": "2024-03-06T09:25:39.784636",
     "status": "completed"
    },
    "tags": []
   },
   "source": [
    "<h2 id=\"Linear\">Class Linear</h2>\n"
   ]
  },
  {
   "cell_type": "markdown",
   "id": "788e36f4",
   "metadata": {
    "papermill": {
     "duration": 0.021121,
     "end_time": "2024-03-06T09:25:39.848050",
     "exception": false,
     "start_time": "2024-03-06T09:25:39.826929",
     "status": "completed"
    },
    "tags": []
   },
   "source": [
    "The linear class can be used to make a prediction. We can also use the linear class to build more complex models. Let's import the module:\n"
   ]
  },
  {
   "cell_type": "code",
   "execution_count": 8,
   "id": "ba54d728",
   "metadata": {
    "execution": {
     "iopub.execute_input": "2024-03-06T09:25:39.892600Z",
     "iopub.status.busy": "2024-03-06T09:25:39.892068Z",
     "iopub.status.idle": "2024-03-06T09:25:39.896962Z",
     "shell.execute_reply": "2024-03-06T09:25:39.895985Z"
    },
    "papermill": {
     "duration": 0.02989,
     "end_time": "2024-03-06T09:25:39.899558",
     "exception": false,
     "start_time": "2024-03-06T09:25:39.869668",
     "status": "completed"
    },
    "tags": []
   },
   "outputs": [],
   "source": [
    "# Import Class Linear\n",
    "\n",
    "from torch.nn import Linear"
   ]
  },
  {
   "cell_type": "markdown",
   "id": "e695f238",
   "metadata": {
    "papermill": {
     "duration": 0.020826,
     "end_time": "2024-03-06T09:25:39.942279",
     "exception": false,
     "start_time": "2024-03-06T09:25:39.921453",
     "status": "completed"
    },
    "tags": []
   },
   "source": [
    "Set the random seed because the parameters are randomly initialized:\n"
   ]
  },
  {
   "cell_type": "code",
   "execution_count": 9,
   "id": "1b844eeb",
   "metadata": {
    "execution": {
     "iopub.execute_input": "2024-03-06T09:25:39.999991Z",
     "iopub.status.busy": "2024-03-06T09:25:39.999554Z",
     "iopub.status.idle": "2024-03-06T09:25:40.011648Z",
     "shell.execute_reply": "2024-03-06T09:25:40.010545Z"
    },
    "papermill": {
     "duration": 0.048171,
     "end_time": "2024-03-06T09:25:40.016043",
     "exception": false,
     "start_time": "2024-03-06T09:25:39.967872",
     "status": "completed"
    },
    "tags": []
   },
   "outputs": [
    {
     "data": {
      "text/plain": [
       "<torch._C.Generator at 0x7c23e04ab070>"
      ]
     },
     "execution_count": 9,
     "metadata": {},
     "output_type": "execute_result"
    }
   ],
   "source": [
    "# Set random seed\n",
    "\n",
    "torch.manual_seed(1)"
   ]
  },
  {
   "cell_type": "markdown",
   "id": "33bff8ea",
   "metadata": {
    "papermill": {
     "duration": 0.025886,
     "end_time": "2024-03-06T09:25:40.072445",
     "exception": false,
     "start_time": "2024-03-06T09:25:40.046559",
     "status": "completed"
    },
    "tags": []
   },
   "source": [
    "<!--Empty Space for separating topics-->\n"
   ]
  },
  {
   "cell_type": "markdown",
   "id": "f2d60a5a",
   "metadata": {
    "papermill": {
     "duration": 0.023181,
     "end_time": "2024-03-06T09:25:40.116112",
     "exception": false,
     "start_time": "2024-03-06T09:25:40.092931",
     "status": "completed"
    },
    "tags": []
   },
   "source": [
    "Let us create the linear object by using the constructor. The parameters are randomly created. Let us print out to see what <i>w</i> and <i>b</i>. The parameters of an <code>torch.nn.Module</code> model are contained in the model’s parameters accessed with <code>lr.parameters()</code>:\n"
   ]
  },
  {
   "cell_type": "code",
   "execution_count": 10,
   "id": "1fa452ce",
   "metadata": {
    "execution": {
     "iopub.execute_input": "2024-03-06T09:25:40.164350Z",
     "iopub.status.busy": "2024-03-06T09:25:40.163871Z",
     "iopub.status.idle": "2024-03-06T09:25:40.180065Z",
     "shell.execute_reply": "2024-03-06T09:25:40.178474Z"
    },
    "papermill": {
     "duration": 0.044593,
     "end_time": "2024-03-06T09:25:40.183589",
     "exception": false,
     "start_time": "2024-03-06T09:25:40.138996",
     "status": "completed"
    },
    "tags": []
   },
   "outputs": [
    {
     "name": "stdout",
     "output_type": "stream",
     "text": [
      "Parameters w and b:  [Parameter containing:\n",
      "tensor([[0.5153]], requires_grad=True), Parameter containing:\n",
      "tensor([-0.4414], requires_grad=True)]\n"
     ]
    }
   ],
   "source": [
    "# Create Linear Regression Model, and print out the parameters\n",
    "\n",
    "lr = Linear(in_features=1, out_features=1, bias=True)\n",
    "print(\"Parameters w and b: \", list(lr.parameters()))\n"
   ]
  },
  {
   "cell_type": "markdown",
   "id": "6e1a35dd",
   "metadata": {
    "papermill": {
     "duration": 0.021423,
     "end_time": "2024-03-06T09:25:40.227734",
     "exception": false,
     "start_time": "2024-03-06T09:25:40.206311",
     "status": "completed"
    },
    "tags": []
   },
   "source": [
    "This is equivalent to the following expression:  \n"
   ]
  },
  {
   "cell_type": "markdown",
   "id": "6d9996df",
   "metadata": {
    "papermill": {
     "duration": 0.022073,
     "end_time": "2024-03-06T09:25:40.271213",
     "exception": false,
     "start_time": "2024-03-06T09:25:40.249140",
     "status": "completed"
    },
    "tags": []
   },
   "source": [
    "$b=-0.44, w=0.5153$\n",
    "\n",
    "$\\hat{y}=-0.44+0.5153x$\n"
   ]
  },
  {
   "cell_type": "markdown",
   "id": "134c5860",
   "metadata": {
    "papermill": {
     "duration": 0.02176,
     "end_time": "2024-03-06T09:25:40.315220",
     "exception": false,
     "start_time": "2024-03-06T09:25:40.293460",
     "status": "completed"
    },
    "tags": []
   },
   "source": [
    "A method  <code>state_dict()</code> Returns a Python dictionary object corresponding to the layers of each parameter  tensor. \n"
   ]
  },
  {
   "cell_type": "code",
   "execution_count": 11,
   "id": "10bf08b3",
   "metadata": {
    "execution": {
     "iopub.execute_input": "2024-03-06T09:25:40.360312Z",
     "iopub.status.busy": "2024-03-06T09:25:40.359860Z",
     "iopub.status.idle": "2024-03-06T09:25:40.370524Z",
     "shell.execute_reply": "2024-03-06T09:25:40.368616Z"
    },
    "papermill": {
     "duration": 0.036536,
     "end_time": "2024-03-06T09:25:40.373455",
     "exception": false,
     "start_time": "2024-03-06T09:25:40.336919",
     "status": "completed"
    },
    "tags": []
   },
   "outputs": [
    {
     "name": "stdout",
     "output_type": "stream",
     "text": [
      "Python dictionary:  OrderedDict([('weight', tensor([[0.5153]])), ('bias', tensor([-0.4414]))])\n",
      "keys:  odict_keys(['weight', 'bias'])\n",
      "values:  odict_values([tensor([[0.5153]]), tensor([-0.4414])])\n"
     ]
    }
   ],
   "source": [
    "print(\"Python dictionary: \",lr.state_dict())\n",
    "print(\"keys: \",lr.state_dict().keys())\n",
    "print(\"values: \",lr.state_dict().values())"
   ]
  },
  {
   "cell_type": "markdown",
   "id": "58bffb8f",
   "metadata": {
    "papermill": {
     "duration": 0.026145,
     "end_time": "2024-03-06T09:25:40.420106",
     "exception": false,
     "start_time": "2024-03-06T09:25:40.393961",
     "status": "completed"
    },
    "tags": []
   },
   "source": [
    "The keys correspond to the name of the attributes and the values correspond to the parameter value.\n"
   ]
  },
  {
   "cell_type": "code",
   "execution_count": 12,
   "id": "ec814088",
   "metadata": {
    "execution": {
     "iopub.execute_input": "2024-03-06T09:25:40.472578Z",
     "iopub.status.busy": "2024-03-06T09:25:40.472083Z",
     "iopub.status.idle": "2024-03-06T09:25:40.482916Z",
     "shell.execute_reply": "2024-03-06T09:25:40.481164Z"
    },
    "papermill": {
     "duration": 0.03788,
     "end_time": "2024-03-06T09:25:40.485803",
     "exception": false,
     "start_time": "2024-03-06T09:25:40.447923",
     "status": "completed"
    },
    "tags": []
   },
   "outputs": [
    {
     "name": "stdout",
     "output_type": "stream",
     "text": [
      "weight: Parameter containing:\n",
      "tensor([[0.5153]], requires_grad=True)\n",
      "bias: Parameter containing:\n",
      "tensor([-0.4414], requires_grad=True)\n"
     ]
    }
   ],
   "source": [
    "print(\"weight:\",lr.weight)\n",
    "print(\"bias:\",lr.bias)"
   ]
  },
  {
   "cell_type": "markdown",
   "id": "ec154203",
   "metadata": {
    "papermill": {
     "duration": 0.022275,
     "end_time": "2024-03-06T09:25:40.533801",
     "exception": false,
     "start_time": "2024-03-06T09:25:40.511526",
     "status": "completed"
    },
    "tags": []
   },
   "source": [
    "Now let us make a single prediction at <i>x = [[1.0]]</i>.\n"
   ]
  },
  {
   "cell_type": "code",
   "execution_count": 13,
   "id": "0014894f",
   "metadata": {
    "execution": {
     "iopub.execute_input": "2024-03-06T09:25:40.582209Z",
     "iopub.status.busy": "2024-03-06T09:25:40.581258Z",
     "iopub.status.idle": "2024-03-06T09:25:40.602742Z",
     "shell.execute_reply": "2024-03-06T09:25:40.601295Z"
    },
    "papermill": {
     "duration": 0.048609,
     "end_time": "2024-03-06T09:25:40.605530",
     "exception": false,
     "start_time": "2024-03-06T09:25:40.556921",
     "status": "completed"
    },
    "tags": []
   },
   "outputs": [
    {
     "name": "stdout",
     "output_type": "stream",
     "text": [
      "The prediction:  tensor([[0.0739]], grad_fn=<AddmmBackward0>)\n"
     ]
    }
   ],
   "source": [
    "# Make the prediction at x = [[1.0]]\n",
    "\n",
    "x = torch.tensor([[1.0]])\n",
    "yhat = lr(x)\n",
    "print(\"The prediction: \", yhat)"
   ]
  },
  {
   "cell_type": "markdown",
   "id": "6f6e190c",
   "metadata": {
    "papermill": {
     "duration": 0.021162,
     "end_time": "2024-03-06T09:25:40.648330",
     "exception": false,
     "start_time": "2024-03-06T09:25:40.627168",
     "status": "completed"
    },
    "tags": []
   },
   "source": [
    "<!--Empty Space for separating topics-->\n"
   ]
  },
  {
   "cell_type": "markdown",
   "id": "5ecef8c5",
   "metadata": {
    "papermill": {
     "duration": 0.021111,
     "end_time": "2024-03-06T09:25:40.691374",
     "exception": false,
     "start_time": "2024-03-06T09:25:40.670263",
     "status": "completed"
    },
    "tags": []
   },
   "source": [
    "Similarly, you can make multiple predictions:\n"
   ]
  },
  {
   "cell_type": "markdown",
   "id": "7171b700",
   "metadata": {
    "papermill": {
     "duration": 0.021604,
     "end_time": "2024-03-06T09:25:40.735645",
     "exception": false,
     "start_time": "2024-03-06T09:25:40.714041",
     "status": "completed"
    },
    "tags": []
   },
   "source": [
    "<img src=\"https://s3-api.us-geo.objectstorage.softlayer.net/cf-courses-data/CognitiveClass/DL0110EN/notebook_images%20/chapter2/2.1.2vector_function.png\" width=\"500\" alt=\"Linear Class Sample with Multiple Inputs\">\n"
   ]
  },
  {
   "cell_type": "markdown",
   "id": "c4e1c82e",
   "metadata": {
    "papermill": {
     "duration": 0.022037,
     "end_time": "2024-03-06T09:25:40.780938",
     "exception": false,
     "start_time": "2024-03-06T09:25:40.758901",
     "status": "completed"
    },
    "tags": []
   },
   "source": [
    "Use model <code>lr(x)</code> to predict the result.\n"
   ]
  },
  {
   "cell_type": "code",
   "execution_count": 14,
   "id": "016afc65",
   "metadata": {
    "execution": {
     "iopub.execute_input": "2024-03-06T09:25:40.826236Z",
     "iopub.status.busy": "2024-03-06T09:25:40.825817Z",
     "iopub.status.idle": "2024-03-06T09:25:40.836826Z",
     "shell.execute_reply": "2024-03-06T09:25:40.834524Z"
    },
    "papermill": {
     "duration": 0.036838,
     "end_time": "2024-03-06T09:25:40.839732",
     "exception": false,
     "start_time": "2024-03-06T09:25:40.802894",
     "status": "completed"
    },
    "tags": []
   },
   "outputs": [
    {
     "name": "stdout",
     "output_type": "stream",
     "text": [
      "The prediction:  tensor([[0.0739],\n",
      "        [0.5891]], grad_fn=<AddmmBackward0>)\n"
     ]
    }
   ],
   "source": [
    "# Create the prediction using linear model\n",
    "\n",
    "x = torch.tensor([[1.0], [2.0]])\n",
    "yhat = lr(x)\n",
    "print(\"The prediction: \", yhat)"
   ]
  },
  {
   "cell_type": "markdown",
   "id": "6b11bbdb",
   "metadata": {
    "papermill": {
     "duration": 0.023174,
     "end_time": "2024-03-06T09:25:40.884130",
     "exception": false,
     "start_time": "2024-03-06T09:25:40.860956",
     "status": "completed"
    },
    "tags": []
   },
   "source": [
    "<!--Empty Space for separating topics-->\n"
   ]
  },
  {
   "cell_type": "markdown",
   "id": "768d1304",
   "metadata": {
    "papermill": {
     "duration": 0.022718,
     "end_time": "2024-03-06T09:25:40.929609",
     "exception": false,
     "start_time": "2024-03-06T09:25:40.906891",
     "status": "completed"
    },
    "tags": []
   },
   "source": [
    "<h3>Practice</h3>\n"
   ]
  },
  {
   "cell_type": "markdown",
   "id": "a7d0ab55",
   "metadata": {
    "papermill": {
     "duration": 0.021636,
     "end_time": "2024-03-06T09:25:40.973489",
     "exception": false,
     "start_time": "2024-03-06T09:25:40.951853",
     "status": "completed"
    },
    "tags": []
   },
   "source": [
    "Make a prediction of the following <code>x</code> tensor using the linear regression model <code>lr</code>.\n"
   ]
  },
  {
   "cell_type": "code",
   "execution_count": 15,
   "id": "14c5e174",
   "metadata": {
    "execution": {
     "iopub.execute_input": "2024-03-06T09:25:41.021541Z",
     "iopub.status.busy": "2024-03-06T09:25:41.021105Z",
     "iopub.status.idle": "2024-03-06T09:25:41.026604Z",
     "shell.execute_reply": "2024-03-06T09:25:41.025279Z"
    },
    "papermill": {
     "duration": 0.03348,
     "end_time": "2024-03-06T09:25:41.029642",
     "exception": false,
     "start_time": "2024-03-06T09:25:40.996162",
     "status": "completed"
    },
    "tags": []
   },
   "outputs": [],
   "source": [
    "# Practice: Use the linear regression model object lr to make the prediction.\n",
    "\n",
    "x = torch.tensor([[1.0],[2.0],[3.0]])"
   ]
  },
  {
   "cell_type": "markdown",
   "id": "75c433d0",
   "metadata": {
    "papermill": {
     "duration": 0.022174,
     "end_time": "2024-03-06T09:25:41.074920",
     "exception": false,
     "start_time": "2024-03-06T09:25:41.052746",
     "status": "completed"
    },
    "tags": []
   },
   "source": [
    "Double-click <b>here</b> for the solution.\n",
    "\n",
    "<!-- Your answer is below:\n",
    "x=torch.tensor([[1.0],[2.0],[3.0]])\n",
    "yhat = lr(x)\n",
    "print(\"The prediction: \", yhat)\n",
    "-->\n"
   ]
  },
  {
   "cell_type": "markdown",
   "id": "61642002",
   "metadata": {
    "papermill": {
     "duration": 0.023132,
     "end_time": "2024-03-06T09:25:41.120451",
     "exception": false,
     "start_time": "2024-03-06T09:25:41.097319",
     "status": "completed"
    },
    "tags": []
   },
   "source": [
    "<!--Empty Space for separating topics-->\n"
   ]
  },
  {
   "cell_type": "markdown",
   "id": "292a40d2",
   "metadata": {
    "papermill": {
     "duration": 0.02277,
     "end_time": "2024-03-06T09:25:41.166364",
     "exception": false,
     "start_time": "2024-03-06T09:25:41.143594",
     "status": "completed"
    },
    "tags": []
   },
   "source": [
    "<h2 id=\"Cust\">Build Custom Modules</h2>\n"
   ]
  },
  {
   "cell_type": "markdown",
   "id": "651cafff",
   "metadata": {
    "papermill": {
     "duration": 0.021347,
     "end_time": "2024-03-06T09:25:41.208279",
     "exception": false,
     "start_time": "2024-03-06T09:25:41.186932",
     "status": "completed"
    },
    "tags": []
   },
   "source": [
    "Now, let's build a custom module. We can make more complex models by using this method later on. \n"
   ]
  },
  {
   "cell_type": "markdown",
   "id": "3aa9e4e8",
   "metadata": {
    "papermill": {
     "duration": 0.022063,
     "end_time": "2024-03-06T09:25:41.253384",
     "exception": false,
     "start_time": "2024-03-06T09:25:41.231321",
     "status": "completed"
    },
    "tags": []
   },
   "source": [
    "First, import the following library.\n"
   ]
  },
  {
   "cell_type": "code",
   "execution_count": 16,
   "id": "582f3e3c",
   "metadata": {
    "execution": {
     "iopub.execute_input": "2024-03-06T09:25:41.299612Z",
     "iopub.status.busy": "2024-03-06T09:25:41.299031Z",
     "iopub.status.idle": "2024-03-06T09:25:41.305459Z",
     "shell.execute_reply": "2024-03-06T09:25:41.304085Z"
    },
    "papermill": {
     "duration": 0.03352,
     "end_time": "2024-03-06T09:25:41.308667",
     "exception": false,
     "start_time": "2024-03-06T09:25:41.275147",
     "status": "completed"
    },
    "tags": []
   },
   "outputs": [],
   "source": [
    "# Library for this section\n",
    "\n",
    "from torch import nn"
   ]
  },
  {
   "cell_type": "markdown",
   "id": "3542b8a2",
   "metadata": {
    "papermill": {
     "duration": 0.021141,
     "end_time": "2024-03-06T09:25:41.351329",
     "exception": false,
     "start_time": "2024-03-06T09:25:41.330188",
     "status": "completed"
    },
    "tags": []
   },
   "source": [
    "Now, let us define the class: \n"
   ]
  },
  {
   "cell_type": "code",
   "execution_count": 17,
   "id": "b78e718b",
   "metadata": {
    "execution": {
     "iopub.execute_input": "2024-03-06T09:25:41.397025Z",
     "iopub.status.busy": "2024-03-06T09:25:41.396382Z",
     "iopub.status.idle": "2024-03-06T09:25:41.405007Z",
     "shell.execute_reply": "2024-03-06T09:25:41.403494Z"
    },
    "papermill": {
     "duration": 0.034166,
     "end_time": "2024-03-06T09:25:41.407875",
     "exception": false,
     "start_time": "2024-03-06T09:25:41.373709",
     "status": "completed"
    },
    "tags": []
   },
   "outputs": [],
   "source": [
    "# Customize Linear Regression Class\n",
    "\n",
    "class LR(nn.Module):\n",
    "    \n",
    "    # Constructor\n",
    "    def __init__(self, input_size, output_size):\n",
    "        \n",
    "        # Inherit from parent\n",
    "        super(LR, self).__init__()\n",
    "        self.linear = nn.Linear(input_size, output_size)\n",
    "    \n",
    "    # Prediction function\n",
    "    def forward(self, x):\n",
    "        out = self.linear(x)\n",
    "        return out"
   ]
  },
  {
   "cell_type": "markdown",
   "id": "1492253a",
   "metadata": {
    "papermill": {
     "duration": 0.021802,
     "end_time": "2024-03-06T09:25:41.451605",
     "exception": false,
     "start_time": "2024-03-06T09:25:41.429803",
     "status": "completed"
    },
    "tags": []
   },
   "source": [
    "Create an object by using the constructor. Print out the parameters we get and the model.\n"
   ]
  },
  {
   "cell_type": "code",
   "execution_count": 18,
   "id": "6a80ed1a",
   "metadata": {
    "execution": {
     "iopub.execute_input": "2024-03-06T09:25:41.498555Z",
     "iopub.status.busy": "2024-03-06T09:25:41.498090Z",
     "iopub.status.idle": "2024-03-06T09:25:41.509918Z",
     "shell.execute_reply": "2024-03-06T09:25:41.507770Z"
    },
    "papermill": {
     "duration": 0.0385,
     "end_time": "2024-03-06T09:25:41.512834",
     "exception": false,
     "start_time": "2024-03-06T09:25:41.474334",
     "status": "completed"
    },
    "tags": []
   },
   "outputs": [
    {
     "name": "stdout",
     "output_type": "stream",
     "text": [
      "The parameters:  [Parameter containing:\n",
      "tensor([[-0.1939]], requires_grad=True), Parameter containing:\n",
      "tensor([0.4694], requires_grad=True)]\n",
      "Linear model:  Linear(in_features=1, out_features=1, bias=True)\n"
     ]
    }
   ],
   "source": [
    "# Create the linear regression model. Print out the parameters.\n",
    "\n",
    "lr = LR(1, 1)\n",
    "print(\"The parameters: \", list(lr.parameters()))\n",
    "print(\"Linear model: \", lr.linear)"
   ]
  },
  {
   "cell_type": "markdown",
   "id": "315c12a3",
   "metadata": {
    "papermill": {
     "duration": 0.021625,
     "end_time": "2024-03-06T09:25:41.555061",
     "exception": false,
     "start_time": "2024-03-06T09:25:41.533436",
     "status": "completed"
    },
    "tags": []
   },
   "source": [
    "<!--Empty Space for separating topics-->\n"
   ]
  },
  {
   "cell_type": "markdown",
   "id": "f245d5e8",
   "metadata": {
    "papermill": {
     "duration": 0.022778,
     "end_time": "2024-03-06T09:25:41.599938",
     "exception": false,
     "start_time": "2024-03-06T09:25:41.577160",
     "status": "completed"
    },
    "tags": []
   },
   "source": [
    "Let us try to make a prediction of a single input sample.\n"
   ]
  },
  {
   "cell_type": "code",
   "execution_count": 19,
   "id": "8316d32d",
   "metadata": {
    "execution": {
     "iopub.execute_input": "2024-03-06T09:25:41.647765Z",
     "iopub.status.busy": "2024-03-06T09:25:41.647281Z",
     "iopub.status.idle": "2024-03-06T09:25:41.657937Z",
     "shell.execute_reply": "2024-03-06T09:25:41.656070Z"
    },
    "papermill": {
     "duration": 0.03791,
     "end_time": "2024-03-06T09:25:41.660787",
     "exception": false,
     "start_time": "2024-03-06T09:25:41.622877",
     "status": "completed"
    },
    "tags": []
   },
   "outputs": [
    {
     "name": "stdout",
     "output_type": "stream",
     "text": [
      "The prediction:  tensor([[0.2755]], grad_fn=<AddmmBackward0>)\n"
     ]
    }
   ],
   "source": [
    "# Try our customize linear regression model with single input\n",
    "\n",
    "x = torch.tensor([[1.0]])\n",
    "yhat = lr(x)\n",
    "print(\"The prediction: \", yhat)"
   ]
  },
  {
   "cell_type": "markdown",
   "id": "ebfe0ea6",
   "metadata": {
    "papermill": {
     "duration": 0.021508,
     "end_time": "2024-03-06T09:25:41.704796",
     "exception": false,
     "start_time": "2024-03-06T09:25:41.683288",
     "status": "completed"
    },
    "tags": []
   },
   "source": [
    "<!--Empty Space for separating topics-->\n"
   ]
  },
  {
   "cell_type": "markdown",
   "id": "288773ff",
   "metadata": {
    "papermill": {
     "duration": 0.021602,
     "end_time": "2024-03-06T09:25:41.748684",
     "exception": false,
     "start_time": "2024-03-06T09:25:41.727082",
     "status": "completed"
    },
    "tags": []
   },
   "source": [
    "Now, let us try another example with multiple samples.\n"
   ]
  },
  {
   "cell_type": "code",
   "execution_count": 20,
   "id": "04461821",
   "metadata": {
    "execution": {
     "iopub.execute_input": "2024-03-06T09:25:41.797368Z",
     "iopub.status.busy": "2024-03-06T09:25:41.796875Z",
     "iopub.status.idle": "2024-03-06T09:25:41.806115Z",
     "shell.execute_reply": "2024-03-06T09:25:41.803920Z"
    },
    "papermill": {
     "duration": 0.036638,
     "end_time": "2024-03-06T09:25:41.809409",
     "exception": false,
     "start_time": "2024-03-06T09:25:41.772771",
     "status": "completed"
    },
    "tags": []
   },
   "outputs": [
    {
     "name": "stdout",
     "output_type": "stream",
     "text": [
      "The prediction:  tensor([[0.2755],\n",
      "        [0.0816]], grad_fn=<AddmmBackward0>)\n"
     ]
    }
   ],
   "source": [
    "# Try our customize linear regression model with multiple input\n",
    "\n",
    "x = torch.tensor([[1.0], [2.0]])\n",
    "yhat = lr(x)\n",
    "print(\"The prediction: \", yhat)"
   ]
  },
  {
   "cell_type": "markdown",
   "id": "3e046454",
   "metadata": {
    "papermill": {
     "duration": 0.020019,
     "end_time": "2024-03-06T09:25:41.850184",
     "exception": false,
     "start_time": "2024-03-06T09:25:41.830165",
     "status": "completed"
    },
    "tags": []
   },
   "source": [
    "the parameters are also stored in an ordered dictionary :\n"
   ]
  },
  {
   "cell_type": "code",
   "execution_count": 21,
   "id": "c26813d6",
   "metadata": {
    "execution": {
     "iopub.execute_input": "2024-03-06T09:25:41.895720Z",
     "iopub.status.busy": "2024-03-06T09:25:41.895261Z",
     "iopub.status.idle": "2024-03-06T09:25:41.904789Z",
     "shell.execute_reply": "2024-03-06T09:25:41.903385Z"
    },
    "papermill": {
     "duration": 0.03611,
     "end_time": "2024-03-06T09:25:41.908181",
     "exception": false,
     "start_time": "2024-03-06T09:25:41.872071",
     "status": "completed"
    },
    "tags": []
   },
   "outputs": [
    {
     "name": "stdout",
     "output_type": "stream",
     "text": [
      "Python dictionary:  OrderedDict([('linear.weight', tensor([[-0.1939]])), ('linear.bias', tensor([0.4694]))])\n",
      "keys:  odict_keys(['linear.weight', 'linear.bias'])\n",
      "values:  odict_values([tensor([[-0.1939]]), tensor([0.4694])])\n"
     ]
    }
   ],
   "source": [
    "print(\"Python dictionary: \", lr.state_dict())\n",
    "print(\"keys: \",lr.state_dict().keys())\n",
    "print(\"values: \",lr.state_dict().values())\n"
   ]
  },
  {
   "cell_type": "markdown",
   "id": "bab10f4e",
   "metadata": {
    "papermill": {
     "duration": 0.021462,
     "end_time": "2024-03-06T09:25:41.952946",
     "exception": false,
     "start_time": "2024-03-06T09:25:41.931484",
     "status": "completed"
    },
    "tags": []
   },
   "source": [
    "<!--Empty Space for separating topics-->\n"
   ]
  },
  {
   "cell_type": "markdown",
   "id": "df01ef74",
   "metadata": {
    "papermill": {
     "duration": 0.021044,
     "end_time": "2024-03-06T09:25:41.995265",
     "exception": false,
     "start_time": "2024-03-06T09:25:41.974221",
     "status": "completed"
    },
    "tags": []
   },
   "source": [
    "<h3>Practice</h3>\n"
   ]
  },
  {
   "cell_type": "markdown",
   "id": "4a35b9d1",
   "metadata": {
    "papermill": {
     "duration": 0.021577,
     "end_time": "2024-03-06T09:25:42.038547",
     "exception": false,
     "start_time": "2024-03-06T09:25:42.016970",
     "status": "completed"
    },
    "tags": []
   },
   "source": [
    "Create an object <code>lr1</code> from the class we created before and make a prediction by using the following tensor: \n"
   ]
  },
  {
   "cell_type": "code",
   "execution_count": 22,
   "id": "4045c027",
   "metadata": {
    "execution": {
     "iopub.execute_input": "2024-03-06T09:25:42.084059Z",
     "iopub.status.busy": "2024-03-06T09:25:42.083592Z",
     "iopub.status.idle": "2024-03-06T09:25:42.096333Z",
     "shell.execute_reply": "2024-03-06T09:25:42.095293Z"
    },
    "papermill": {
     "duration": 0.039753,
     "end_time": "2024-03-06T09:25:42.099270",
     "exception": false,
     "start_time": "2024-03-06T09:25:42.059517",
     "status": "completed"
    },
    "tags": []
   },
   "outputs": [
    {
     "data": {
      "text/plain": [
       "tensor([[ 0.2755],\n",
       "        [ 0.0816],\n",
       "        [-0.1122]], grad_fn=<AddmmBackward0>)"
      ]
     },
     "execution_count": 22,
     "metadata": {},
     "output_type": "execute_result"
    }
   ],
   "source": [
    "# use the LR class to create a model and make a prediction of the following tensor.\n",
    "\n",
    "x = torch.tensor([[1.0], [2.0], [3.0]])\n",
    "x=torch.tensor([[1.0],[2.0],[3.0]])\n",
    "lr1=LR(1,1)\n",
    "yhat=lr(x)\n",
    "yhat"
   ]
  }
 ],
 "metadata": {
  "kaggle": {
   "accelerator": "none",
   "dataSources": [],
   "dockerImageVersionId": 30664,
   "isGpuEnabled": false,
   "isInternetEnabled": true,
   "language": "python",
   "sourceType": "notebook"
  },
  "kernelspec": {
   "display_name": "Python 3",
   "language": "python",
   "name": "python3"
  },
  "language_info": {
   "codemirror_mode": {
    "name": "ipython",
    "version": 3
   },
   "file_extension": ".py",
   "mimetype": "text/x-python",
   "name": "python",
   "nbconvert_exporter": "python",
   "pygments_lexer": "ipython3",
   "version": "3.10.13"
  },
  "papermill": {
   "default_parameters": {},
   "duration": 12.871168,
   "end_time": "2024-03-06T09:25:43.247629",
   "environment_variables": {},
   "exception": null,
   "input_path": "__notebook__.ipynb",
   "output_path": "__notebook__.ipynb",
   "parameters": {},
   "start_time": "2024-03-06T09:25:30.376461",
   "version": "2.5.0"
  }
 },
 "nbformat": 4,
 "nbformat_minor": 5
}
