{
 "cells": [
  {
   "cell_type": "markdown",
   "id": "634aa9af",
   "metadata": {
    "papermill": {
     "duration": 0.00849,
     "end_time": "2024-03-11T23:04:49.751312",
     "exception": false,
     "start_time": "2024-03-11T23:04:49.742822",
     "status": "completed"
    },
    "tags": []
   },
   "source": [
    "<p style=\"text-align:center\">\n",
    "    <a href=\"https://skills.network/?utm_medium=Exinfluencer&utm_source=Exinfluencer&utm_content=000026UJ&utm_term=10006555&utm_id=NA-SkillsNetwork-Channel-SkillsNetworkCoursesIBMDeveloperSkillsNetworkDL0110ENSkillsNetwork952-2022-01-01\" target=\"_blank\">\n",
    "    <img src=\"https://cf-courses-data.s3.us.cloud-object-storage.appdomain.cloud/assets/logos/SN_web_lightmode.png\" width=\"200\" alt=\"Skills Network Logo\"  />\n",
    "    </a>\n",
    "</p>\n"
   ]
  },
  {
   "cell_type": "markdown",
   "id": "f4823245",
   "metadata": {
    "papermill": {
     "duration": 0.007706,
     "end_time": "2024-03-11T23:04:49.767335",
     "exception": false,
     "start_time": "2024-03-11T23:04:49.759629",
     "status": "completed"
    },
    "tags": []
   },
   "source": [
    "<h1>Convolutional Neural Network with Batch-Normalization </h1> \n"
   ]
  },
  {
   "cell_type": "markdown",
   "id": "08475ae7",
   "metadata": {
    "papermill": {
     "duration": 0.008528,
     "end_time": "2024-03-11T23:04:49.784079",
     "exception": false,
     "start_time": "2024-03-11T23:04:49.775551",
     "status": "completed"
    },
    "tags": []
   },
   "source": [
    "\n",
    "<h3>Objective for this Notebook<h3>    \n",
    "<h5> 1. Learn how to compare a Convolutional Neural Network using Batch Normalization with a regular Convolutional Neural Network  to classify handwritten digits from the MNIST database..</h5>     \n",
    "\n"
   ]
  },
  {
   "cell_type": "markdown",
   "id": "0c4bfb51",
   "metadata": {
    "papermill": {
     "duration": 0.009095,
     "end_time": "2024-03-11T23:04:49.801291",
     "exception": false,
     "start_time": "2024-03-11T23:04:49.792196",
     "status": "completed"
    },
    "tags": []
   },
   "source": [
    "<h2>Table of Contents</h2>\n",
    "<b>This lab takes a long time to run so the results are given. You can run the notebook your self but it may take a long time.</b>\n",
    "<p>In this lab, we will compare a Convolutional Neural Network using Batch Normalization with a regular Convolutional Neural Network  to classify handwritten digits from the MNIST database. We will reshape the images to make them faster to process. </p>\n",
    "\n",
    "<ul>\n",
    "    <li><a href=\"#read_me\">Read me Batch Norm for Convolution Operation  </a></li>\n",
    "<li><a href=\"#Makeup_Data\">Get Some Data</a></li>\n",
    "<li><a href=\"#CNN\">Two Types of Convolutional Neural Network</a></li>\n",
    "<li><a href=\"#Train\">Define Criterion function, Optimizer and Train the Model</a></li>\n",
    "<li><a href=\"#Result\">Analyze Results</a></li>\n",
    "</ul>\n",
    "<p>Estimated Time Needed: <strong>25 min</strong></p>\n",
    "\n",
    "<hr>\n"
   ]
  },
  {
   "cell_type": "markdown",
   "id": "cf397acb",
   "metadata": {
    "papermill": {
     "duration": 0.008761,
     "end_time": "2024-03-11T23:04:49.818374",
     "exception": false,
     "start_time": "2024-03-11T23:04:49.809613",
     "status": "completed"
    },
    "tags": []
   },
   "source": [
    "<h2 id=\"read_me\">Read me Batch Norm for Convolution Operation  </h2>\n"
   ]
  },
  {
   "cell_type": "markdown",
   "id": "ea52ea98",
   "metadata": {
    "papermill": {
     "duration": 0.00883,
     "end_time": "2024-03-11T23:04:49.835632",
     "exception": false,
     "start_time": "2024-03-11T23:04:49.826802",
     "status": "completed"
    },
    "tags": []
   },
   "source": [
    "Like a fully connected network, we create a <code>BatchNorm2d</code> object, but we apply it to the 2D convolution object. First, we create objects <code>Conv2d</code> object; we require the number of output channels, specified by the variable <code>OUT</code>.  \n"
   ]
  },
  {
   "cell_type": "markdown",
   "id": "9fde8884",
   "metadata": {
    "papermill": {
     "duration": 0.009119,
     "end_time": "2024-03-11T23:04:49.854078",
     "exception": false,
     "start_time": "2024-03-11T23:04:49.844959",
     "status": "completed"
    },
    "tags": []
   },
   "source": [
    "<code>self.cnn1 = nn.Conv2d(in_channels=1, out_channels=OUT, kernel_size=5, padding=2) </code>\n"
   ]
  },
  {
   "cell_type": "markdown",
   "id": "94b01bf7",
   "metadata": {
    "papermill": {
     "duration": 0.008119,
     "end_time": "2024-03-11T23:04:49.871277",
     "exception": false,
     "start_time": "2024-03-11T23:04:49.863158",
     "status": "completed"
    },
    "tags": []
   },
   "source": [
    "We then create a Batch Norm  object for 2D convolution as follows:\n"
   ]
  },
  {
   "cell_type": "markdown",
   "id": "6b5c5a9f",
   "metadata": {
    "papermill": {
     "duration": 0.008507,
     "end_time": "2024-03-11T23:04:49.889422",
     "exception": false,
     "start_time": "2024-03-11T23:04:49.880915",
     "status": "completed"
    },
    "tags": []
   },
   "source": [
    "<code>self.conv1_bn = nn.BatchNorm2d(OUT)</code>\n"
   ]
  },
  {
   "cell_type": "markdown",
   "id": "b9a75e86",
   "metadata": {
    "papermill": {
     "duration": 0.009706,
     "end_time": "2024-03-11T23:04:49.907546",
     "exception": false,
     "start_time": "2024-03-11T23:04:49.897840",
     "status": "completed"
    },
    "tags": []
   },
   "source": [
    "The parameter out is the number of channels in the output. We can then apply batch norm  after  the convolution operation :\n"
   ]
  },
  {
   "cell_type": "markdown",
   "id": "4d60a1e9",
   "metadata": {
    "papermill": {
     "duration": 0.007714,
     "end_time": "2024-03-11T23:04:49.923273",
     "exception": false,
     "start_time": "2024-03-11T23:04:49.915559",
     "status": "completed"
    },
    "tags": []
   },
   "source": [
    "<code>x = self.cnn1(x)</code>\n",
    "<p></p>\n",
    " <code> x=self.conv1_bn(x)</code>\n"
   ]
  },
  {
   "cell_type": "markdown",
   "id": "bb237037",
   "metadata": {
    "papermill": {
     "duration": 0.007756,
     "end_time": "2024-03-11T23:04:49.938995",
     "exception": false,
     "start_time": "2024-03-11T23:04:49.931239",
     "status": "completed"
    },
    "tags": []
   },
   "source": [
    "<!--Empty Space for separating topics-->\n"
   ]
  },
  {
   "cell_type": "markdown",
   "id": "0c680c46",
   "metadata": {
    "papermill": {
     "duration": 0.007982,
     "end_time": "2024-03-11T23:04:49.955028",
     "exception": false,
     "start_time": "2024-03-11T23:04:49.947046",
     "status": "completed"
    },
    "tags": []
   },
   "source": [
    "<h2>Preparation</h2>\n"
   ]
  },
  {
   "cell_type": "code",
   "execution_count": 1,
   "id": "66119ee3",
   "metadata": {
    "execution": {
     "iopub.execute_input": "2024-03-11T23:04:49.974305Z",
     "iopub.status.busy": "2024-03-11T23:04:49.973639Z",
     "iopub.status.idle": "2024-03-11T23:04:57.519029Z",
     "shell.execute_reply": "2024-03-11T23:04:57.517500Z"
    },
    "papermill": {
     "duration": 7.558747,
     "end_time": "2024-03-11T23:04:57.522055",
     "exception": false,
     "start_time": "2024-03-11T23:04:49.963308",
     "status": "completed"
    },
    "tags": []
   },
   "outputs": [
    {
     "name": "stdout",
     "output_type": "stream",
     "text": [
      "\u001b[31mERROR: Ignored the following yanked versions: 0.1.6, 0.1.7, 0.1.8, 0.1.9, 0.2.0, 0.2.1, 0.2.2, 0.2.2.post2, 0.2.2.post3, 0.15.0\u001b[0m\u001b[31m\r\n",
      "\u001b[0m\u001b[31mERROR: Could not find a version that satisfies the requirement torchvision==0.9.1 (from versions: 0.12.0, 0.13.0, 0.13.1, 0.14.0, 0.14.1, 0.15.1, 0.15.2, 0.16.0, 0.16.1, 0.16.2, 0.17.0, 0.17.1)\u001b[0m\u001b[31m\r\n",
      "\u001b[0m\u001b[31mERROR: No matching distribution found for torchvision==0.9.1\u001b[0m\u001b[31m\r\n",
      "\u001b[0m"
     ]
    }
   ],
   "source": [
    "\n",
    "# Import the libraries we need to use in this lab\n",
    "\n",
    "# Using the following line code to install the torchvision library\n",
    "# !mamba install -y torchvision\n",
    "\n",
    "!pip install torchvision==0.9.1 torch==1.8.1 \n",
    "import torch \n",
    "import torch.nn as nn\n",
    "import torchvision.transforms as transforms\n",
    "import torchvision.datasets as dsets\n",
    "import matplotlib.pylab as plt\n",
    "import numpy as np\n",
    "def show_data(data_sample):\n",
    "    plt.imshow(data_sample[0].numpy().reshape(IMAGE_SIZE, IMAGE_SIZE), cmap='gray')\n",
    "    plt.title('y = '+ str(data_sample[1]))"
   ]
  },
  {
   "cell_type": "markdown",
   "id": "b1cc66f5",
   "metadata": {
    "papermill": {
     "duration": 0.008289,
     "end_time": "2024-03-11T23:04:57.539074",
     "exception": false,
     "start_time": "2024-03-11T23:04:57.530785",
     "status": "completed"
    },
    "tags": []
   },
   "source": [
    "<h2 id=\"Makeup_Data\">Get the Data</h2> \n"
   ]
  },
  {
   "cell_type": "markdown",
   "id": "47a53e43",
   "metadata": {
    "papermill": {
     "duration": 0.008068,
     "end_time": "2024-03-11T23:04:57.555736",
     "exception": false,
     "start_time": "2024-03-11T23:04:57.547668",
     "status": "completed"
    },
    "tags": []
   },
   "source": [
    "we create a transform to resize the image and convert it to a tensor :\n"
   ]
  },
  {
   "cell_type": "code",
   "execution_count": 2,
   "id": "70a2b17a",
   "metadata": {
    "execution": {
     "iopub.execute_input": "2024-03-11T23:04:57.574004Z",
     "iopub.status.busy": "2024-03-11T23:04:57.573342Z",
     "iopub.status.idle": "2024-03-11T23:04:57.577972Z",
     "shell.execute_reply": "2024-03-11T23:04:57.577410Z"
    },
    "papermill": {
     "duration": 0.015844,
     "end_time": "2024-03-11T23:04:57.579700",
     "exception": false,
     "start_time": "2024-03-11T23:04:57.563856",
     "status": "completed"
    },
    "tags": []
   },
   "outputs": [],
   "source": [
    "\n",
    "IMAGE_SIZE = 16\n",
    "\n",
    "composed = transforms.Compose([transforms.Resize((IMAGE_SIZE, IMAGE_SIZE)), transforms.ToTensor()])"
   ]
  },
  {
   "cell_type": "markdown",
   "id": "bc71cb5e",
   "metadata": {
    "papermill": {
     "duration": 0.007725,
     "end_time": "2024-03-11T23:04:57.595707",
     "exception": false,
     "start_time": "2024-03-11T23:04:57.587982",
     "status": "completed"
    },
    "tags": []
   },
   "source": [
    "Load the training dataset by setting the parameters <code>train </code> to <code>True</code>. We use the transform defined above.\n"
   ]
  },
  {
   "cell_type": "code",
   "execution_count": 3,
   "id": "74fdf0e2",
   "metadata": {
    "execution": {
     "iopub.execute_input": "2024-03-11T23:04:57.613329Z",
     "iopub.status.busy": "2024-03-11T23:04:57.612813Z",
     "iopub.status.idle": "2024-03-11T23:04:58.344585Z",
     "shell.execute_reply": "2024-03-11T23:04:58.343777Z"
    },
    "papermill": {
     "duration": 0.743111,
     "end_time": "2024-03-11T23:04:58.346746",
     "exception": false,
     "start_time": "2024-03-11T23:04:57.603635",
     "status": "completed"
    },
    "tags": []
   },
   "outputs": [
    {
     "name": "stdout",
     "output_type": "stream",
     "text": [
      "Downloading http://yann.lecun.com/exdb/mnist/train-images-idx3-ubyte.gz\n",
      "Downloading http://yann.lecun.com/exdb/mnist/train-images-idx3-ubyte.gz to ./data/MNIST/raw/train-images-idx3-ubyte.gz\n"
     ]
    },
    {
     "name": "stderr",
     "output_type": "stream",
     "text": [
      "100%|██████████| 9912422/9912422 [00:00<00:00, 235707343.76it/s]"
     ]
    },
    {
     "name": "stdout",
     "output_type": "stream",
     "text": [
      "Extracting ./data/MNIST/raw/train-images-idx3-ubyte.gz to ./data/MNIST/raw\n"
     ]
    },
    {
     "name": "stderr",
     "output_type": "stream",
     "text": [
      "\n"
     ]
    },
    {
     "name": "stdout",
     "output_type": "stream",
     "text": [
      "\n",
      "Downloading http://yann.lecun.com/exdb/mnist/train-labels-idx1-ubyte.gz\n",
      "Downloading http://yann.lecun.com/exdb/mnist/train-labels-idx1-ubyte.gz to ./data/MNIST/raw/train-labels-idx1-ubyte.gz\n"
     ]
    },
    {
     "name": "stderr",
     "output_type": "stream",
     "text": [
      "100%|██████████| 28881/28881 [00:00<00:00, 81517963.54it/s]\n"
     ]
    },
    {
     "name": "stdout",
     "output_type": "stream",
     "text": [
      "Extracting ./data/MNIST/raw/train-labels-idx1-ubyte.gz to ./data/MNIST/raw\n",
      "\n",
      "Downloading http://yann.lecun.com/exdb/mnist/t10k-images-idx3-ubyte.gz\n",
      "Downloading http://yann.lecun.com/exdb/mnist/t10k-images-idx3-ubyte.gz to ./data/MNIST/raw/t10k-images-idx3-ubyte.gz\n"
     ]
    },
    {
     "name": "stderr",
     "output_type": "stream",
     "text": [
      "100%|██████████| 1648877/1648877 [00:00<00:00, 65394171.51it/s]"
     ]
    },
    {
     "name": "stdout",
     "output_type": "stream",
     "text": [
      "Extracting ./data/MNIST/raw/t10k-images-idx3-ubyte.gz to ./data/MNIST/raw\n",
      "\n",
      "Downloading http://yann.lecun.com/exdb/mnist/t10k-labels-idx1-ubyte.gz\n"
     ]
    },
    {
     "name": "stderr",
     "output_type": "stream",
     "text": [
      "\n"
     ]
    },
    {
     "name": "stdout",
     "output_type": "stream",
     "text": [
      "Downloading http://yann.lecun.com/exdb/mnist/t10k-labels-idx1-ubyte.gz to ./data/MNIST/raw/t10k-labels-idx1-ubyte.gz\n"
     ]
    },
    {
     "name": "stderr",
     "output_type": "stream",
     "text": [
      "100%|██████████| 4542/4542 [00:00<00:00, 4628408.35it/s]\n"
     ]
    },
    {
     "name": "stdout",
     "output_type": "stream",
     "text": [
      "Extracting ./data/MNIST/raw/t10k-labels-idx1-ubyte.gz to ./data/MNIST/raw\n",
      "\n"
     ]
    }
   ],
   "source": [
    "\n",
    "train_dataset = dsets.MNIST(root='./data', train=True, download=True, transform=composed)"
   ]
  },
  {
   "cell_type": "markdown",
   "id": "c821be2d",
   "metadata": {
    "papermill": {
     "duration": 0.010019,
     "end_time": "2024-03-11T23:04:58.366706",
     "exception": false,
     "start_time": "2024-03-11T23:04:58.356687",
     "status": "completed"
    },
    "tags": []
   },
   "source": [
    "Load the testing dataset by setting the parameters train  <code>False</code>.\n"
   ]
  },
  {
   "cell_type": "code",
   "execution_count": 4,
   "id": "955510d3",
   "metadata": {
    "execution": {
     "iopub.execute_input": "2024-03-11T23:04:58.389942Z",
     "iopub.status.busy": "2024-03-11T23:04:58.389355Z",
     "iopub.status.idle": "2024-03-11T23:04:58.399622Z",
     "shell.execute_reply": "2024-03-11T23:04:58.398494Z"
    },
    "papermill": {
     "duration": 0.025125,
     "end_time": "2024-03-11T23:04:58.402072",
     "exception": false,
     "start_time": "2024-03-11T23:04:58.376947",
     "status": "completed"
    },
    "tags": []
   },
   "outputs": [],
   "source": [
    "# Make the validating \n",
    "\n",
    "validation_dataset = dsets.MNIST(root='./data', train=False, download=True, transform=composed)"
   ]
  },
  {
   "cell_type": "markdown",
   "id": "52cd7102",
   "metadata": {
    "papermill": {
     "duration": 0.009253,
     "end_time": "2024-03-11T23:04:58.421604",
     "exception": false,
     "start_time": "2024-03-11T23:04:58.412351",
     "status": "completed"
    },
    "tags": []
   },
   "source": [
    "We can see the data type is long.\n"
   ]
  },
  {
   "cell_type": "code",
   "execution_count": 5,
   "id": "de6de72f",
   "metadata": {
    "execution": {
     "iopub.execute_input": "2024-03-11T23:04:58.443631Z",
     "iopub.status.busy": "2024-03-11T23:04:58.443265Z",
     "iopub.status.idle": "2024-03-11T23:04:58.475637Z",
     "shell.execute_reply": "2024-03-11T23:04:58.474282Z"
    },
    "papermill": {
     "duration": 0.046857,
     "end_time": "2024-03-11T23:04:58.478282",
     "exception": false,
     "start_time": "2024-03-11T23:04:58.431425",
     "status": "completed"
    },
    "tags": []
   },
   "outputs": [
    {
     "data": {
      "text/plain": [
       "int"
      ]
     },
     "execution_count": 5,
     "metadata": {},
     "output_type": "execute_result"
    }
   ],
   "source": [
    "# Show the data type for each element in dataset\n",
    "\n",
    "type(train_dataset[0][1])"
   ]
  },
  {
   "cell_type": "markdown",
   "id": "c236d6b2",
   "metadata": {
    "papermill": {
     "duration": 0.009304,
     "end_time": "2024-03-11T23:04:58.497751",
     "exception": false,
     "start_time": "2024-03-11T23:04:58.488447",
     "status": "completed"
    },
    "tags": []
   },
   "source": [
    "Each element in the rectangular tensor corresponds to a number representing a pixel intensity as demonstrated by the following image.\n"
   ]
  },
  {
   "cell_type": "markdown",
   "id": "62556334",
   "metadata": {
    "papermill": {
     "duration": 0.009766,
     "end_time": "2024-03-11T23:04:58.517131",
     "exception": false,
     "start_time": "2024-03-11T23:04:58.507365",
     "status": "completed"
    },
    "tags": []
   },
   "source": [
    "<img src=\"https://s3-api.us-geo.objectstorage.softlayer.net/cf-courses-data/CognitiveClass/DL0110EN/notebook_images%20/chapter%206/6.2.1imagenet.png\" width=\"550\" alt=\"MNIST data image\">\n"
   ]
  },
  {
   "cell_type": "markdown",
   "id": "2ed4c7d1",
   "metadata": {
    "papermill": {
     "duration": 0.009611,
     "end_time": "2024-03-11T23:04:58.537320",
     "exception": false,
     "start_time": "2024-03-11T23:04:58.527709",
     "status": "completed"
    },
    "tags": []
   },
   "source": [
    "Print out the fourth label \n"
   ]
  },
  {
   "cell_type": "code",
   "execution_count": 6,
   "id": "d63f7b8c",
   "metadata": {
    "execution": {
     "iopub.execute_input": "2024-03-11T23:04:58.559548Z",
     "iopub.status.busy": "2024-03-11T23:04:58.559192Z",
     "iopub.status.idle": "2024-03-11T23:04:58.566266Z",
     "shell.execute_reply": "2024-03-11T23:04:58.565450Z"
    },
    "papermill": {
     "duration": 0.020876,
     "end_time": "2024-03-11T23:04:58.568677",
     "exception": false,
     "start_time": "2024-03-11T23:04:58.547801",
     "status": "completed"
    },
    "tags": []
   },
   "outputs": [
    {
     "data": {
      "text/plain": [
       "1"
      ]
     },
     "execution_count": 6,
     "metadata": {},
     "output_type": "execute_result"
    }
   ],
   "source": [
    "# The label for the fourth data element\n",
    "\n",
    "train_dataset[3][1]"
   ]
  },
  {
   "cell_type": "markdown",
   "id": "a0f26bb0",
   "metadata": {
    "papermill": {
     "duration": 0.009442,
     "end_time": "2024-03-11T23:04:58.588191",
     "exception": false,
     "start_time": "2024-03-11T23:04:58.578749",
     "status": "completed"
    },
    "tags": []
   },
   "source": [
    "Plot the fourth sample \n"
   ]
  },
  {
   "cell_type": "code",
   "execution_count": 7,
   "id": "e685a8cf",
   "metadata": {
    "execution": {
     "iopub.execute_input": "2024-03-11T23:04:58.666651Z",
     "iopub.status.busy": "2024-03-11T23:04:58.666320Z",
     "iopub.status.idle": "2024-03-11T23:04:58.925020Z",
     "shell.execute_reply": "2024-03-11T23:04:58.924155Z"
    },
    "papermill": {
     "duration": 0.329334,
     "end_time": "2024-03-11T23:04:58.927210",
     "exception": false,
     "start_time": "2024-03-11T23:04:58.597876",
     "status": "completed"
    },
    "tags": []
   },
   "outputs": [
    {
     "data": {
      "image/png": "[encoded data removed]",
      "text/plain": [
       "<Figure size 640x480 with 1 Axes>"
      ]
     },
     "metadata": {},
     "output_type": "display_data"
    }
   ],
   "source": [
    "# The image for the fourth data element\n",
    "show_data(train_dataset[3])\n"
   ]
  },
  {
   "cell_type": "markdown",
   "id": "8dd29ab9",
   "metadata": {
    "papermill": {
     "duration": 0.00939,
     "end_time": "2024-03-11T23:04:58.946864",
     "exception": false,
     "start_time": "2024-03-11T23:04:58.937474",
     "status": "completed"
    },
    "tags": []
   },
   "source": [
    "The fourth sample is a \"1\".\n"
   ]
  },
  {
   "cell_type": "markdown",
   "id": "45b146fc",
   "metadata": {
    "papermill": {
     "duration": 0.009501,
     "end_time": "2024-03-11T23:04:58.966076",
     "exception": false,
     "start_time": "2024-03-11T23:04:58.956575",
     "status": "completed"
    },
    "tags": []
   },
   "source": [
    "<!--Empty Space for separating topics-->\n"
   ]
  },
  {
   "cell_type": "markdown",
   "id": "c28ffd20",
   "metadata": {
    "papermill": {
     "duration": 0.009401,
     "end_time": "2024-03-11T23:04:58.985094",
     "exception": false,
     "start_time": "2024-03-11T23:04:58.975693",
     "status": "completed"
    },
    "tags": []
   },
   "source": [
    "<h2 id=\"CNN\">Build a Two Convolutional Neural Network Class</h2>\n"
   ]
  },
  {
   "cell_type": "markdown",
   "id": "611cbaad",
   "metadata": {
    "papermill": {
     "duration": 0.009725,
     "end_time": "2024-03-11T23:04:59.004809",
     "exception": false,
     "start_time": "2024-03-11T23:04:58.995084",
     "status": "completed"
    },
    "tags": []
   },
   "source": [
    "Build a Convolutional Network class with two Convolutional layers and one fully connected layer. Pre-determine the size of the final output matrix. The parameters in the constructor are the number of output channels for the first and second layer.\n"
   ]
  },
  {
   "cell_type": "code",
   "execution_count": 8,
   "id": "53ea6c1a",
   "metadata": {
    "execution": {
     "iopub.execute_input": "2024-03-11T23:04:59.026658Z",
     "iopub.status.busy": "2024-03-11T23:04:59.026252Z",
     "iopub.status.idle": "2024-03-11T23:04:59.035456Z",
     "shell.execute_reply": "2024-03-11T23:04:59.034797Z"
    },
    "papermill": {
     "duration": 0.022481,
     "end_time": "2024-03-11T23:04:59.037284",
     "exception": false,
     "start_time": "2024-03-11T23:04:59.014803",
     "status": "completed"
    },
    "tags": []
   },
   "outputs": [],
   "source": [
    "class CNN(nn.Module):\n",
    "    \n",
    "    # Contructor\n",
    "    def __init__(self, out_1=16, out_2=32):\n",
    "        super(CNN, self).__init__()\n",
    "        self.cnn1 = nn.Conv2d(in_channels=1, out_channels=out_1, kernel_size=5, padding=2)\n",
    "        self.maxpool1=nn.MaxPool2d(kernel_size=2)\n",
    "\n",
    "        self.cnn2 = nn.Conv2d(in_channels=out_1, out_channels=out_2, kernel_size=5, stride=1, padding=2)\n",
    "        self.maxpool2=nn.MaxPool2d(kernel_size=2)\n",
    "        self.fc1 = nn.Linear(out_2 * 4 * 4, 10)\n",
    "    \n",
    "    # Prediction\n",
    "    def forward(self, x):\n",
    "        x = self.cnn1(x)\n",
    "        x = torch.relu(x)\n",
    "        x = self.maxpool1(x)\n",
    "        x = self.cnn2(x)\n",
    "        x = torch.relu(x)\n",
    "        x = self.maxpool2(x)\n",
    "        x = x.view(x.size(0), -1)\n",
    "        x = self.fc1(x)\n",
    "        return x\n"
   ]
  },
  {
   "cell_type": "markdown",
   "id": "597fb6d4",
   "metadata": {
    "papermill": {
     "duration": 0.009833,
     "end_time": "2024-03-11T23:04:59.057342",
     "exception": false,
     "start_time": "2024-03-11T23:04:59.047509",
     "status": "completed"
    },
    "tags": []
   },
   "source": [
    "Build a Convolutional Network class with two Convolutional layers and one fully connected layer. But we add Batch Norm for the convolutional layers. \n"
   ]
  },
  {
   "cell_type": "code",
   "execution_count": 9,
   "id": "594bd7d3",
   "metadata": {
    "execution": {
     "iopub.execute_input": "2024-03-11T23:04:59.080105Z",
     "iopub.status.busy": "2024-03-11T23:04:59.079539Z",
     "iopub.status.idle": "2024-03-11T23:04:59.087987Z",
     "shell.execute_reply": "2024-03-11T23:04:59.087289Z"
    },
    "papermill": {
     "duration": 0.022412,
     "end_time": "2024-03-11T23:04:59.090040",
     "exception": false,
     "start_time": "2024-03-11T23:04:59.067628",
     "status": "completed"
    },
    "tags": []
   },
   "outputs": [],
   "source": [
    "class CNN_batch(nn.Module):\n",
    "    \n",
    "    # Contructor\n",
    "    def __init__(self, out_1=16, out_2=32,number_of_classes=10):\n",
    "        super(CNN_batch, self).__init__()\n",
    "        self.cnn1 = nn.Conv2d(in_channels=1, out_channels=out_1, kernel_size=5, padding=2)\n",
    "        self.conv1_bn = nn.BatchNorm2d(out_1)\n",
    "\n",
    "        self.maxpool1=nn.MaxPool2d(kernel_size=2)\n",
    "        \n",
    "        self.cnn2 = nn.Conv2d(in_channels=out_1, out_channels=out_2, kernel_size=5, stride=1, padding=2)\n",
    "        self.conv2_bn = nn.BatchNorm2d(out_2)\n",
    "\n",
    "        self.maxpool2=nn.MaxPool2d(kernel_size=2)\n",
    "        self.fc1 = nn.Linear(out_2 * 4 * 4, number_of_classes)\n",
    "        self.bn_fc1 = nn.BatchNorm1d(10)\n",
    "    \n",
    "    # Prediction\n",
    "    def forward(self, x):\n",
    "        x = self.cnn1(x)\n",
    "        x=self.conv1_bn(x)\n",
    "        x = torch.relu(x)\n",
    "        x = self.maxpool1(x)\n",
    "        x = self.cnn2(x)\n",
    "        x=self.conv2_bn(x)\n",
    "        x = torch.relu(x)\n",
    "        x = self.maxpool2(x)\n",
    "        x = x.view(x.size(0), -1)\n",
    "        x = self.fc1(x)\n",
    "        x=self.bn_fc1(x)\n",
    "        return x"
   ]
  },
  {
   "cell_type": "markdown",
   "id": "b0785426",
   "metadata": {
    "papermill": {
     "duration": 0.009528,
     "end_time": "2024-03-11T23:04:59.110010",
     "exception": false,
     "start_time": "2024-03-11T23:04:59.100482",
     "status": "completed"
    },
    "tags": []
   },
   "source": [
    "Function to train the model \n"
   ]
  },
  {
   "cell_type": "code",
   "execution_count": 10,
   "id": "fdbd3319",
   "metadata": {
    "execution": {
     "iopub.execute_input": "2024-03-11T23:04:59.131279Z",
     "iopub.status.busy": "2024-03-11T23:04:59.130956Z",
     "iopub.status.idle": "2024-03-11T23:04:59.137579Z",
     "shell.execute_reply": "2024-03-11T23:04:59.136520Z"
    },
    "papermill": {
     "duration": 0.019433,
     "end_time": "2024-03-11T23:04:59.139364",
     "exception": false,
     "start_time": "2024-03-11T23:04:59.119931",
     "status": "completed"
    },
    "tags": []
   },
   "outputs": [],
   "source": [
    "def train_model(model,train_loader,validation_loader,optimizer,n_epochs=4):\n",
    "    \n",
    "    #global variable \n",
    "    N_test=len(validation_dataset)\n",
    "    accuracy_list=[]\n",
    "    loss_list=[]\n",
    "    for epoch in range(n_epochs):\n",
    "        for x, y in train_loader:\n",
    "            model.train()\n",
    "            optimizer.zero_grad()\n",
    "            z = model(x)\n",
    "            loss = criterion(z, y)\n",
    "            loss.backward()\n",
    "            optimizer.step()\n",
    "            loss_list.append(loss.data)\n",
    "\n",
    "        correct=0\n",
    "        #perform a prediction on the validation  data  \n",
    "        for x_test, y_test in validation_loader:\n",
    "            model.eval()\n",
    "            z = model(x_test)\n",
    "            _, yhat = torch.max(z.data, 1)\n",
    "            correct += (yhat == y_test).sum().item()\n",
    "        accuracy = correct / N_test\n",
    "        accuracy_list.append(accuracy)\n",
    "     \n",
    "    return accuracy_list, loss_list"
   ]
  },
  {
   "cell_type": "markdown",
   "id": "83d54afb",
   "metadata": {
    "papermill": {
     "duration": 0.009574,
     "end_time": "2024-03-11T23:04:59.159748",
     "exception": false,
     "start_time": "2024-03-11T23:04:59.150174",
     "status": "completed"
    },
    "tags": []
   },
   "source": [
    "<h2 id=\"Train\">Define the Convolutional Neural Network Classifier, Criterion function, Optimizer and Train the Model</h2> \n"
   ]
  },
  {
   "cell_type": "markdown",
   "id": "3f08ffca",
   "metadata": {
    "papermill": {
     "duration": 0.010458,
     "end_time": "2024-03-11T23:04:59.181342",
     "exception": false,
     "start_time": "2024-03-11T23:04:59.170884",
     "status": "completed"
    },
    "tags": []
   },
   "source": [
    "There are 16 output channels for the first layer, and 32 output channels for the second layer \n"
   ]
  },
  {
   "cell_type": "code",
   "execution_count": 11,
   "id": "99790cce",
   "metadata": {
    "execution": {
     "iopub.execute_input": "2024-03-11T23:04:59.204266Z",
     "iopub.status.busy": "2024-03-11T23:04:59.203923Z",
     "iopub.status.idle": "2024-03-11T23:04:59.214583Z",
     "shell.execute_reply": "2024-03-11T23:04:59.213812Z"
    },
    "papermill": {
     "duration": 0.024768,
     "end_time": "2024-03-11T23:04:59.216730",
     "exception": false,
     "start_time": "2024-03-11T23:04:59.191962",
     "status": "completed"
    },
    "tags": []
   },
   "outputs": [],
   "source": [
    "# Create the model object using CNN class\n",
    "model = CNN(out_1=16, out_2=32)"
   ]
  },
  {
   "cell_type": "markdown",
   "id": "f46ebe02",
   "metadata": {
    "papermill": {
     "duration": 0.010478,
     "end_time": "2024-03-11T23:04:59.238079",
     "exception": false,
     "start_time": "2024-03-11T23:04:59.227601",
     "status": "completed"
    },
    "tags": []
   },
   "source": [
    "Define the loss function, the optimizer and the dataset loader \n"
   ]
  },
  {
   "cell_type": "code",
   "execution_count": 12,
   "id": "64f28842",
   "metadata": {
    "execution": {
     "iopub.execute_input": "2024-03-11T23:04:59.260987Z",
     "iopub.status.busy": "2024-03-11T23:04:59.260371Z",
     "iopub.status.idle": "2024-03-11T23:04:59.266903Z",
     "shell.execute_reply": "2024-03-11T23:04:59.265790Z"
    },
    "papermill": {
     "duration": 0.020466,
     "end_time": "2024-03-11T23:04:59.268877",
     "exception": false,
     "start_time": "2024-03-11T23:04:59.248411",
     "status": "completed"
    },
    "tags": []
   },
   "outputs": [],
   "source": [
    "criterion = nn.CrossEntropyLoss()\n",
    "learning_rate = 0.1\n",
    "optimizer = torch.optim.SGD(model.parameters(), lr = learning_rate)\n",
    "train_loader = torch.utils.data.DataLoader(dataset=train_dataset, batch_size=100)\n",
    "validation_loader = torch.utils.data.DataLoader(dataset=validation_dataset, batch_size=5000)"
   ]
  },
  {
   "cell_type": "markdown",
   "id": "78fff078",
   "metadata": {
    "papermill": {
     "duration": 0.0093,
     "end_time": "2024-03-11T23:04:59.288285",
     "exception": false,
     "start_time": "2024-03-11T23:04:59.278985",
     "status": "completed"
    },
    "tags": []
   },
   "source": [
    "Train the model and determine validation accuracy technically test accuracy **(This may take a long time)**\n"
   ]
  },
  {
   "cell_type": "code",
   "execution_count": 13,
   "id": "b9bef040",
   "metadata": {
    "execution": {
     "iopub.execute_input": "2024-03-11T23:04:59.309563Z",
     "iopub.status.busy": "2024-03-11T23:04:59.309219Z",
     "iopub.status.idle": "2024-03-11T23:07:42.742490Z",
     "shell.execute_reply": "2024-03-11T23:07:42.741760Z"
    },
    "papermill": {
     "duration": 163.446617,
     "end_time": "2024-03-11T23:07:42.744588",
     "exception": false,
     "start_time": "2024-03-11T23:04:59.297971",
     "status": "completed"
    },
    "tags": []
   },
   "outputs": [],
   "source": [
    "# Train the model\n",
    "accuracy_list_normal, loss_list_normal=train_model(model=model,n_epochs=10,train_loader=train_loader,validation_loader=validation_loader,optimizer=optimizer)"
   ]
  },
  {
   "cell_type": "markdown",
   "id": "e6626b58",
   "metadata": {
    "papermill": {
     "duration": 0.009371,
     "end_time": "2024-03-11T23:07:42.764054",
     "exception": false,
     "start_time": "2024-03-11T23:07:42.754683",
     "status": "completed"
    },
    "tags": []
   },
   "source": [
    "Repeat the Process for the model with  batch norm \n"
   ]
  },
  {
   "cell_type": "code",
   "execution_count": 14,
   "id": "6b441bc7",
   "metadata": {
    "execution": {
     "iopub.execute_input": "2024-03-11T23:07:42.784741Z",
     "iopub.status.busy": "2024-03-11T23:07:42.784422Z",
     "iopub.status.idle": "2024-03-11T23:10:39.172273Z",
     "shell.execute_reply": "2024-03-11T23:10:39.171122Z"
    },
    "papermill": {
     "duration": 176.401115,
     "end_time": "2024-03-11T23:10:39.174843",
     "exception": false,
     "start_time": "2024-03-11T23:07:42.773728",
     "status": "completed"
    },
    "tags": []
   },
   "outputs": [],
   "source": [
    "model_batch=CNN_batch(out_1=16, out_2=32)\n",
    "criterion = nn.CrossEntropyLoss()\n",
    "learning_rate = 0.1\n",
    "optimizer = torch.optim.SGD(model_batch.parameters(), lr = learning_rate)\n",
    "accuracy_list_batch, loss_list_batch=train_model(model=model_batch,n_epochs=10,train_loader=train_loader,validation_loader=validation_loader,optimizer=optimizer)"
   ]
  },
  {
   "cell_type": "markdown",
   "id": "fb90fb8e",
   "metadata": {
    "papermill": {
     "duration": 0.009961,
     "end_time": "2024-03-11T23:10:39.195250",
     "exception": false,
     "start_time": "2024-03-11T23:10:39.185289",
     "status": "completed"
    },
    "tags": []
   },
   "source": [
    "<!--Empty Space for separating topics-->\n"
   ]
  },
  {
   "cell_type": "markdown",
   "id": "45dc581b",
   "metadata": {
    "papermill": {
     "duration": 0.00978,
     "end_time": "2024-03-11T23:10:39.215096",
     "exception": false,
     "start_time": "2024-03-11T23:10:39.205316",
     "status": "completed"
    },
    "tags": []
   },
   "source": [
    "<h2 id=\"Result\">Analyze Results</h2> \n"
   ]
  },
  {
   "cell_type": "markdown",
   "id": "2f4291de",
   "metadata": {
    "papermill": {
     "duration": 0.009673,
     "end_time": "2024-03-11T23:10:39.234918",
     "exception": false,
     "start_time": "2024-03-11T23:10:39.225245",
     "status": "completed"
    },
    "tags": []
   },
   "source": [
    "Plot the loss with both networks.\n"
   ]
  },
  {
   "cell_type": "code",
   "execution_count": 15,
   "id": "386ccbd8",
   "metadata": {
    "execution": {
     "iopub.execute_input": "2024-03-11T23:10:39.256774Z",
     "iopub.status.busy": "2024-03-11T23:10:39.256439Z",
     "iopub.status.idle": "2024-03-11T23:10:39.555488Z",
     "shell.execute_reply": "2024-03-11T23:10:39.554454Z"
    },
    "papermill": {
     "duration": 0.312233,
     "end_time": "2024-03-11T23:10:39.557217",
     "exception": false,
     "start_time": "2024-03-11T23:10:39.244984",
     "status": "completed"
    },
    "tags": []
   },
   "outputs": [
    {
     "data": {
      "text/plain": [
       "<matplotlib.legend.Legend at 0x7d9b3c1618a0>"
      ]
     },
     "execution_count": 15,
     "metadata": {},
     "output_type": "execute_result"
    },
    {
     "data": {
      "image/png": "[encoded data removed]",
      "text/plain": [
       "<Figure size 640x480 with 1 Axes>"
      ]
     },
     "metadata": {},
     "output_type": "display_data"
    }
   ],
   "source": [
    "# Plot the loss and accuracy\n",
    "\n",
    "plt.plot(loss_list_normal, 'b',label='loss normal cnn ')\n",
    "plt.plot(loss_list_batch,'r',label='loss batch cnn')\n",
    "plt.xlabel('iteration')\n",
    "plt.title(\"loss\")\n",
    "plt.legend()"
   ]
  },
  {
   "cell_type": "code",
   "execution_count": 16,
   "id": "2f804feb",
   "metadata": {
    "execution": {
     "iopub.execute_input": "2024-03-11T23:10:39.579695Z",
     "iopub.status.busy": "2024-03-11T23:10:39.579352Z",
     "iopub.status.idle": "2024-03-11T23:10:39.770110Z",
     "shell.execute_reply": "2024-03-11T23:10:39.769189Z"
    },
    "papermill": {
     "duration": 0.20421,
     "end_time": "2024-03-11T23:10:39.771968",
     "exception": false,
     "start_time": "2024-03-11T23:10:39.567758",
     "status": "completed"
    },
    "tags": []
   },
   "outputs": [
    {
     "data": {
      "image/png": "[encoded data removed]",
      "text/plain": [
       "<Figure size 640x480 with 1 Axes>"
      ]
     },
     "metadata": {},
     "output_type": "display_data"
    }
   ],
   "source": [
    "plt.plot(accuracy_list_normal, 'b',label=' normal CNN')\n",
    "plt.plot(accuracy_list_batch,'r',label=' CNN with Batch Norm')\n",
    "plt.xlabel('Epoch')\n",
    "plt.title(\"Accuracy \")\n",
    "plt.legend()\n",
    "plt.show()"
   ]
  },
  {
   "cell_type": "markdown",
   "id": "23699886",
   "metadata": {
    "papermill": {
     "duration": 0.011383,
     "end_time": "2024-03-11T23:10:39.795138",
     "exception": false,
     "start_time": "2024-03-11T23:10:39.783755",
     "status": "completed"
    },
    "tags": []
   },
   "source": [
    "We see the CNN with batch norm performers better, with faster convergence.\n"
   ]
  }
 ],
 "metadata": {
  "kaggle": {
   "accelerator": "none",
   "dataSources": [],
   "dockerImageVersionId": 30664,
   "isGpuEnabled": false,
   "isInternetEnabled": true,
   "language": "python",
   "sourceType": "notebook"
  },
  "kernelspec": {
   "display_name": "Python 3",
   "language": "python",
   "name": "python3"
  },
  "language_info": {
   "codemirror_mode": {
    "name": "ipython",
    "version": 3
   },
   "file_extension": ".py",
   "mimetype": "text/x-python",
   "name": "python",
   "nbconvert_exporter": "python",
   "pygments_lexer": "ipython3",
   "version": "3.10.13"
  },
  "papermill": {
   "default_parameters": {},
   "duration": 353.591691,
   "end_time": "2024-03-11T23:10:40.929056",
   "environment_variables": {},
   "exception": null,
   "input_path": "__notebook__.ipynb",
   "output_path": "__notebook__.ipynb",
   "parameters": {},
   "start_time": "2024-03-11T23:04:47.337365",
   "version": "2.5.0"
  }
 },
 "nbformat": 4,
 "nbformat_minor": 5
}
