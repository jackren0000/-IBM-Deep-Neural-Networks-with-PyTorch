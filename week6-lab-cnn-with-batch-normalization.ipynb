{
 "cells": [
  {
   "cell_type": "markdown",
   "id": "72a5b773",
   "metadata": {
    "papermill": {
     "duration": 0.010628,
     "end_time": "2024-03-12T02:48:51.439931",
     "exception": false,
     "start_time": "2024-03-12T02:48:51.429303",
     "status": "completed"
    },
    "tags": []
   },
   "source": [
    "<p style=\"text-align:center\">\n",
    "    <a href=\"https://skills.network/?utm_medium=Exinfluencer&utm_source=Exinfluencer&utm_content=000026UJ&utm_term=10006555&utm_id=NA-SkillsNetwork-Channel-SkillsNetworkCoursesIBMDeveloperSkillsNetworkDL0110ENSkillsNetwork952-2022-01-01\" target=\"_blank\">\n",
    "    <img src=\"https://cf-courses-data.s3.us.cloud-object-storage.appdomain.cloud/assets/logos/SN_web_lightmode.png\" width=\"200\" alt=\"Skills Network Logo\"  />\n",
    "    </a>\n",
    "</p>\n"
   ]
  },
  {
   "cell_type": "markdown",
   "id": "aa7811da",
   "metadata": {
    "papermill": {
     "duration": 0.009596,
     "end_time": "2024-03-12T02:48:51.459046",
     "exception": false,
     "start_time": "2024-03-12T02:48:51.449450",
     "status": "completed"
    },
    "tags": []
   },
   "source": [
    "<h1>Convolutional Neural Network with Batch-Normalization </h1> \n"
   ]
  },
  {
   "cell_type": "markdown",
   "id": "62c3766a",
   "metadata": {
    "papermill": {
     "duration": 0.009399,
     "end_time": "2024-03-12T02:48:51.477718",
     "exception": false,
     "start_time": "2024-03-12T02:48:51.468319",
     "status": "completed"
    },
    "tags": []
   },
   "source": [
    "\n",
    "<h3>Objective for this Notebook<h3>    \n",
    "<h5> 1. Learn how to compare a Convolutional Neural Network using Batch Normalization with a regular Convolutional Neural Network  to classify handwritten digits from the MNIST database..</h5>     \n",
    "\n"
   ]
  },
  {
   "cell_type": "markdown",
   "id": "ce2cc57c",
   "metadata": {
    "papermill": {
     "duration": 0.011302,
     "end_time": "2024-03-12T02:48:51.500003",
     "exception": false,
     "start_time": "2024-03-12T02:48:51.488701",
     "status": "completed"
    },
    "tags": []
   },
   "source": [
    "<h2>Table of Contents</h2>\n",
    "<b>This lab takes a long time to run so the results are given. You can run the notebook your self but it may take a long time.</b>\n",
    "<p>In this lab, we will compare a Convolutional Neural Network using Batch Normalization with a regular Convolutional Neural Network  to classify handwritten digits from the MNIST database. We will reshape the images to make them faster to process. </p>\n",
    "\n",
    "<ul>\n",
    "    <li><a href=\"#read_me\">Read me Batch Norm for Convolution Operation  </a></li>\n",
    "<li><a href=\"#Makeup_Data\">Get Some Data</a></li>\n",
    "<li><a href=\"#CNN\">Two Types of Convolutional Neural Network</a></li>\n",
    "<li><a href=\"#Train\">Define Criterion function, Optimizer and Train the Model</a></li>\n",
    "<li><a href=\"#Result\">Analyze Results</a></li>\n",
    "</ul>\n",
    "<p>Estimated Time Needed: <strong>25 min</strong></p>\n",
    "\n",
    "<hr>\n"
   ]
  },
  {
   "cell_type": "markdown",
   "id": "865925f9",
   "metadata": {
    "papermill": {
     "duration": 0.010249,
     "end_time": "2024-03-12T02:48:51.521005",
     "exception": false,
     "start_time": "2024-03-12T02:48:51.510756",
     "status": "completed"
    },
    "tags": []
   },
   "source": [
    "<h2 id=\"read_me\">Read me Batch Norm for Convolution Operation  </h2>\n"
   ]
  },
  {
   "cell_type": "markdown",
   "id": "00b5a78d",
   "metadata": {
    "papermill": {
     "duration": 0.009248,
     "end_time": "2024-03-12T02:48:51.539850",
     "exception": false,
     "start_time": "2024-03-12T02:48:51.530602",
     "status": "completed"
    },
    "tags": []
   },
   "source": [
    "Like a fully connected network, we create a <code>BatchNorm2d</code> object, but we apply it to the 2D convolution object. First, we create objects <code>Conv2d</code> object; we require the number of output channels, specified by the variable <code>OUT</code>.  \n"
   ]
  },
  {
   "cell_type": "markdown",
   "id": "35707f4e",
   "metadata": {
    "papermill": {
     "duration": 0.00907,
     "end_time": "2024-03-12T02:48:51.558666",
     "exception": false,
     "start_time": "2024-03-12T02:48:51.549596",
     "status": "completed"
    },
    "tags": []
   },
   "source": [
    "<code>self.cnn1 = nn.Conv2d(in_channels=1, out_channels=OUT, kernel_size=5, padding=2) </code>\n"
   ]
  },
  {
   "cell_type": "markdown",
   "id": "a1160135",
   "metadata": {
    "papermill": {
     "duration": 0.009469,
     "end_time": "2024-03-12T02:48:51.577483",
     "exception": false,
     "start_time": "2024-03-12T02:48:51.568014",
     "status": "completed"
    },
    "tags": []
   },
   "source": [
    "We then create a Batch Norm  object for 2D convolution as follows:\n"
   ]
  },
  {
   "cell_type": "markdown",
   "id": "777c00de",
   "metadata": {
    "papermill": {
     "duration": 0.008975,
     "end_time": "2024-03-12T02:48:51.595681",
     "exception": false,
     "start_time": "2024-03-12T02:48:51.586706",
     "status": "completed"
    },
    "tags": []
   },
   "source": [
    "<code>self.conv1_bn = nn.BatchNorm2d(OUT)</code>\n"
   ]
  },
  {
   "cell_type": "markdown",
   "id": "4b5c1658",
   "metadata": {
    "papermill": {
     "duration": 0.009042,
     "end_time": "2024-03-12T02:48:51.613814",
     "exception": false,
     "start_time": "2024-03-12T02:48:51.604772",
     "status": "completed"
    },
    "tags": []
   },
   "source": [
    "The parameter out is the number of channels in the output. We can then apply batch norm  after  the convolution operation :\n"
   ]
  },
  {
   "cell_type": "markdown",
   "id": "324a105b",
   "metadata": {
    "papermill": {
     "duration": 0.009238,
     "end_time": "2024-03-12T02:48:51.632603",
     "exception": false,
     "start_time": "2024-03-12T02:48:51.623365",
     "status": "completed"
    },
    "tags": []
   },
   "source": [
    "<code>x = self.cnn1(x)</code>\n",
    "<p></p>\n",
    " <code> x=self.conv1_bn(x)</code>\n"
   ]
  },
  {
   "cell_type": "markdown",
   "id": "da097a24",
   "metadata": {
    "papermill": {
     "duration": 0.009048,
     "end_time": "2024-03-12T02:48:51.650867",
     "exception": false,
     "start_time": "2024-03-12T02:48:51.641819",
     "status": "completed"
    },
    "tags": []
   },
   "source": [
    "<!--Empty Space for separating topics-->\n"
   ]
  },
  {
   "cell_type": "markdown",
   "id": "86957a3d",
   "metadata": {
    "papermill": {
     "duration": 0.00951,
     "end_time": "2024-03-12T02:48:51.670392",
     "exception": false,
     "start_time": "2024-03-12T02:48:51.660882",
     "status": "completed"
    },
    "tags": []
   },
   "source": [
    "<h2>Preparation</h2>\n"
   ]
  },
  {
   "cell_type": "code",
   "execution_count": 1,
   "id": "ff84e26c",
   "metadata": {
    "execution": {
     "iopub.execute_input": "2024-03-12T02:48:51.691521Z",
     "iopub.status.busy": "2024-03-12T02:48:51.691061Z",
     "iopub.status.idle": "2024-03-12T02:49:01.377554Z",
     "shell.execute_reply": "2024-03-12T02:49:01.376511Z"
    },
    "papermill": {
     "duration": 9.700366,
     "end_time": "2024-03-12T02:49:01.380082",
     "exception": false,
     "start_time": "2024-03-12T02:48:51.679716",
     "status": "completed"
    },
    "tags": []
   },
   "outputs": [
    {
     "name": "stdout",
     "output_type": "stream",
     "text": [
      "\u001b[31mERROR: Ignored the following yanked versions: 0.1.6, 0.1.7, 0.1.8, 0.1.9, 0.2.0, 0.2.1, 0.2.2, 0.2.2.post2, 0.2.2.post3, 0.15.0\u001b[0m\u001b[31m\r\n",
      "\u001b[0m\u001b[31mERROR: Could not find a version that satisfies the requirement torchvision==0.9.1 (from versions: 0.12.0, 0.13.0, 0.13.1, 0.14.0, 0.14.1, 0.15.1, 0.15.2, 0.16.0, 0.16.1, 0.16.2, 0.17.0, 0.17.1)\u001b[0m\u001b[31m\r\n",
      "\u001b[0m\u001b[31mERROR: No matching distribution found for torchvision==0.9.1\u001b[0m\u001b[31m\r\n",
      "\u001b[0m"
     ]
    }
   ],
   "source": [
    "\n",
    "# Import the libraries we need to use in this lab\n",
    "\n",
    "# Using the following line code to install the torchvision library\n",
    "# !mamba install -y torchvision\n",
    "\n",
    "!pip install torchvision==0.9.1 torch==1.8.1 \n",
    "import torch \n",
    "import torch.nn as nn\n",
    "import torchvision.transforms as transforms\n",
    "import torchvision.datasets as dsets\n",
    "import matplotlib.pylab as plt\n",
    "import numpy as np\n",
    "def show_data(data_sample):\n",
    "    plt.imshow(data_sample[0].numpy().reshape(IMAGE_SIZE, IMAGE_SIZE), cmap='gray')\n",
    "    plt.title('y = '+ str(data_sample[1]))"
   ]
  },
  {
   "cell_type": "markdown",
   "id": "d251eefa",
   "metadata": {
    "papermill": {
     "duration": 0.008986,
     "end_time": "2024-03-12T02:49:01.398693",
     "exception": false,
     "start_time": "2024-03-12T02:49:01.389707",
     "status": "completed"
    },
    "tags": []
   },
   "source": [
    "<h2 id=\"Makeup_Data\">Get the Data</h2> \n"
   ]
  },
  {
   "cell_type": "markdown",
   "id": "74811149",
   "metadata": {
    "papermill": {
     "duration": 0.009,
     "end_time": "2024-03-12T02:49:01.417080",
     "exception": false,
     "start_time": "2024-03-12T02:49:01.408080",
     "status": "completed"
    },
    "tags": []
   },
   "source": [
    "we create a transform to resize the image and convert it to a tensor :\n"
   ]
  },
  {
   "cell_type": "code",
   "execution_count": 2,
   "id": "186e448b",
   "metadata": {
    "execution": {
     "iopub.execute_input": "2024-03-12T02:49:01.437665Z",
     "iopub.status.busy": "2024-03-12T02:49:01.437195Z",
     "iopub.status.idle": "2024-03-12T02:49:01.442420Z",
     "shell.execute_reply": "2024-03-12T02:49:01.441410Z"
    },
    "papermill": {
     "duration": 0.018011,
     "end_time": "2024-03-12T02:49:01.444482",
     "exception": false,
     "start_time": "2024-03-12T02:49:01.426471",
     "status": "completed"
    },
    "tags": []
   },
   "outputs": [],
   "source": [
    "\n",
    "IMAGE_SIZE = 16\n",
    "\n",
    "composed = transforms.Compose([transforms.Resize((IMAGE_SIZE, IMAGE_SIZE)), transforms.ToTensor()])"
   ]
  },
  {
   "cell_type": "markdown",
   "id": "9a854ef4",
   "metadata": {
    "papermill": {
     "duration": 0.009825,
     "end_time": "2024-03-12T02:49:01.463871",
     "exception": false,
     "start_time": "2024-03-12T02:49:01.454046",
     "status": "completed"
    },
    "tags": []
   },
   "source": [
    "Load the training dataset by setting the parameters <code>train </code> to <code>True</code>. We use the transform defined above.\n"
   ]
  },
  {
   "cell_type": "code",
   "execution_count": 3,
   "id": "8869cb9b",
   "metadata": {
    "execution": {
     "iopub.execute_input": "2024-03-12T02:49:01.485755Z",
     "iopub.status.busy": "2024-03-12T02:49:01.485367Z",
     "iopub.status.idle": "2024-03-12T02:49:02.649652Z",
     "shell.execute_reply": "2024-03-12T02:49:02.648768Z"
    },
    "papermill": {
     "duration": 1.178715,
     "end_time": "2024-03-12T02:49:02.652353",
     "exception": false,
     "start_time": "2024-03-12T02:49:01.473638",
     "status": "completed"
    },
    "tags": []
   },
   "outputs": [
    {
     "name": "stdout",
     "output_type": "stream",
     "text": [
      "Downloading http://yann.lecun.com/exdb/mnist/train-images-idx3-ubyte.gz\n",
      "Downloading http://yann.lecun.com/exdb/mnist/train-images-idx3-ubyte.gz to ./data/MNIST/raw/train-images-idx3-ubyte.gz\n"
     ]
    },
    {
     "name": "stderr",
     "output_type": "stream",
     "text": [
      "100%|██████████| 9912422/9912422 [00:00<00:00, 237435744.93it/s]"
     ]
    },
    {
     "name": "stdout",
     "output_type": "stream",
     "text": [
      "Extracting ./data/MNIST/raw/train-images-idx3-ubyte.gz to ./data/MNIST/raw\n"
     ]
    },
    {
     "name": "stderr",
     "output_type": "stream",
     "text": [
      "\n"
     ]
    },
    {
     "name": "stdout",
     "output_type": "stream",
     "text": [
      "\n",
      "Downloading http://yann.lecun.com/exdb/mnist/train-labels-idx1-ubyte.gz\n",
      "Downloading http://yann.lecun.com/exdb/mnist/train-labels-idx1-ubyte.gz to ./data/MNIST/raw/train-labels-idx1-ubyte.gz\n"
     ]
    },
    {
     "name": "stderr",
     "output_type": "stream",
     "text": [
      "100%|██████████| 28881/28881 [00:00<00:00, 31276967.16it/s]\n"
     ]
    },
    {
     "name": "stdout",
     "output_type": "stream",
     "text": [
      "Extracting ./data/MNIST/raw/train-labels-idx1-ubyte.gz to ./data/MNIST/raw\n",
      "\n",
      "Downloading http://yann.lecun.com/exdb/mnist/t10k-images-idx3-ubyte.gz\n",
      "Downloading http://yann.lecun.com/exdb/mnist/t10k-images-idx3-ubyte.gz to ./data/MNIST/raw/t10k-images-idx3-ubyte.gz\n"
     ]
    },
    {
     "name": "stderr",
     "output_type": "stream",
     "text": [
      "100%|██████████| 1648877/1648877 [00:00<00:00, 66882889.25it/s]\n"
     ]
    },
    {
     "name": "stdout",
     "output_type": "stream",
     "text": [
      "Extracting ./data/MNIST/raw/t10k-images-idx3-ubyte.gz to ./data/MNIST/raw\n",
      "\n",
      "Downloading http://yann.lecun.com/exdb/mnist/t10k-labels-idx1-ubyte.gz\n",
      "Downloading http://yann.lecun.com/exdb/mnist/t10k-labels-idx1-ubyte.gz to ./data/MNIST/raw/t10k-labels-idx1-ubyte.gz\n"
     ]
    },
    {
     "name": "stderr",
     "output_type": "stream",
     "text": [
      "100%|██████████| 4542/4542 [00:00<00:00, 8600690.19it/s]\n"
     ]
    },
    {
     "name": "stdout",
     "output_type": "stream",
     "text": [
      "Extracting ./data/MNIST/raw/t10k-labels-idx1-ubyte.gz to ./data/MNIST/raw\n",
      "\n"
     ]
    }
   ],
   "source": [
    "\n",
    "train_dataset = dsets.MNIST(root='./data', train=True, download=True, transform=composed)"
   ]
  },
  {
   "cell_type": "markdown",
   "id": "30235d04",
   "metadata": {
    "papermill": {
     "duration": 0.011092,
     "end_time": "2024-03-12T02:49:02.675613",
     "exception": false,
     "start_time": "2024-03-12T02:49:02.664521",
     "status": "completed"
    },
    "tags": []
   },
   "source": [
    "Load the testing dataset by setting the parameters train  <code>False</code>.\n"
   ]
  },
  {
   "cell_type": "code",
   "execution_count": 4,
   "id": "9904cd16",
   "metadata": {
    "execution": {
     "iopub.execute_input": "2024-03-12T02:49:02.699763Z",
     "iopub.status.busy": "2024-03-12T02:49:02.699124Z",
     "iopub.status.idle": "2024-03-12T02:49:02.713725Z",
     "shell.execute_reply": "2024-03-12T02:49:02.712949Z"
    },
    "papermill": {
     "duration": 0.029706,
     "end_time": "2024-03-12T02:49:02.716237",
     "exception": false,
     "start_time": "2024-03-12T02:49:02.686531",
     "status": "completed"
    },
    "tags": []
   },
   "outputs": [],
   "source": [
    "# Make the validating \n",
    "\n",
    "validation_dataset = dsets.MNIST(root='./data', train=False, download=True, transform=composed)"
   ]
  },
  {
   "cell_type": "markdown",
   "id": "f9731b9f",
   "metadata": {
    "papermill": {
     "duration": 0.010396,
     "end_time": "2024-03-12T02:49:02.737713",
     "exception": false,
     "start_time": "2024-03-12T02:49:02.727317",
     "status": "completed"
    },
    "tags": []
   },
   "source": [
    "We can see the data type is long.\n"
   ]
  },
  {
   "cell_type": "code",
   "execution_count": 5,
   "id": "0d775acc",
   "metadata": {
    "execution": {
     "iopub.execute_input": "2024-03-12T02:49:02.761270Z",
     "iopub.status.busy": "2024-03-12T02:49:02.760626Z",
     "iopub.status.idle": "2024-03-12T02:49:02.791318Z",
     "shell.execute_reply": "2024-03-12T02:49:02.790525Z"
    },
    "papermill": {
     "duration": 0.045136,
     "end_time": "2024-03-12T02:49:02.793497",
     "exception": false,
     "start_time": "2024-03-12T02:49:02.748361",
     "status": "completed"
    },
    "tags": []
   },
   "outputs": [
    {
     "data": {
      "text/plain": [
       "int"
      ]
     },
     "execution_count": 5,
     "metadata": {},
     "output_type": "execute_result"
    }
   ],
   "source": [
    "# Show the data type for each element in dataset\n",
    "\n",
    "type(train_dataset[0][1])"
   ]
  },
  {
   "cell_type": "markdown",
   "id": "fef97d45",
   "metadata": {
    "papermill": {
     "duration": 0.011018,
     "end_time": "2024-03-12T02:49:02.816325",
     "exception": false,
     "start_time": "2024-03-12T02:49:02.805307",
     "status": "completed"
    },
    "tags": []
   },
   "source": [
    "Each element in the rectangular tensor corresponds to a number representing a pixel intensity as demonstrated by the following image.\n"
   ]
  },
  {
   "cell_type": "markdown",
   "id": "8cbe6918",
   "metadata": {
    "papermill": {
     "duration": 0.010495,
     "end_time": "2024-03-12T02:49:02.838056",
     "exception": false,
     "start_time": "2024-03-12T02:49:02.827561",
     "status": "completed"
    },
    "tags": []
   },
   "source": [
    "<img src=\"https://s3-api.us-geo.objectstorage.softlayer.net/cf-courses-data/CognitiveClass/DL0110EN/notebook_images%20/chapter%206/6.2.1imagenet.png\" width=\"550\" alt=\"MNIST data image\">\n"
   ]
  },
  {
   "cell_type": "markdown",
   "id": "b9e5f0c5",
   "metadata": {
    "papermill": {
     "duration": 0.011535,
     "end_time": "2024-03-12T02:49:02.860612",
     "exception": false,
     "start_time": "2024-03-12T02:49:02.849077",
     "status": "completed"
    },
    "tags": []
   },
   "source": [
    "Print out the fourth label \n"
   ]
  },
  {
   "cell_type": "code",
   "execution_count": 6,
   "id": "424fd14c",
   "metadata": {
    "execution": {
     "iopub.execute_input": "2024-03-12T02:49:02.884945Z",
     "iopub.status.busy": "2024-03-12T02:49:02.884317Z",
     "iopub.status.idle": "2024-03-12T02:49:02.890436Z",
     "shell.execute_reply": "2024-03-12T02:49:02.889589Z"
    },
    "papermill": {
     "duration": 0.020994,
     "end_time": "2024-03-12T02:49:02.892641",
     "exception": false,
     "start_time": "2024-03-12T02:49:02.871647",
     "status": "completed"
    },
    "tags": []
   },
   "outputs": [
    {
     "data": {
      "text/plain": [
       "1"
      ]
     },
     "execution_count": 6,
     "metadata": {},
     "output_type": "execute_result"
    }
   ],
   "source": [
    "# The label for the fourth data element\n",
    "\n",
    "train_dataset[3][1]"
   ]
  },
  {
   "cell_type": "markdown",
   "id": "d745baf5",
   "metadata": {
    "papermill": {
     "duration": 0.012327,
     "end_time": "2024-03-12T02:49:02.917041",
     "exception": false,
     "start_time": "2024-03-12T02:49:02.904714",
     "status": "completed"
    },
    "tags": []
   },
   "source": [
    "Plot the fourth sample \n"
   ]
  },
  {
   "cell_type": "code",
   "execution_count": 7,
   "id": "46a3300b",
   "metadata": {
    "execution": {
     "iopub.execute_input": "2024-03-12T02:49:03.004194Z",
     "iopub.status.busy": "2024-03-12T02:49:03.003790Z",
     "iopub.status.idle": "2024-03-12T02:49:03.335820Z",
     "shell.execute_reply": "2024-03-12T02:49:03.334710Z"
    },
    "papermill": {
     "duration": 0.408239,
     "end_time": "2024-03-12T02:49:03.338416",
     "exception": false,
     "start_time": "2024-03-12T02:49:02.930177",
     "status": "completed"
    },
    "tags": []
   },
   "outputs": [
    {
     "data": {
      "image/png": "[encoded data removed]",
      "text/plain": [
       "<Figure size 640x480 with 1 Axes>"
      ]
     },
     "metadata": {},
     "output_type": "display_data"
    }
   ],
   "source": [
    "# The image for the fourth data element\n",
    "show_data(train_dataset[3])\n"
   ]
  },
  {
   "cell_type": "markdown",
   "id": "390fd0c5",
   "metadata": {
    "papermill": {
     "duration": 0.011028,
     "end_time": "2024-03-12T02:49:03.360818",
     "exception": false,
     "start_time": "2024-03-12T02:49:03.349790",
     "status": "completed"
    },
    "tags": []
   },
   "source": [
    "The fourth sample is a \"1\".\n"
   ]
  },
  {
   "cell_type": "markdown",
   "id": "eefde110",
   "metadata": {
    "papermill": {
     "duration": 0.01089,
     "end_time": "2024-03-12T02:49:03.382925",
     "exception": false,
     "start_time": "2024-03-12T02:49:03.372035",
     "status": "completed"
    },
    "tags": []
   },
   "source": [
    "<!--Empty Space for separating topics-->\n"
   ]
  },
  {
   "cell_type": "markdown",
   "id": "aad1011e",
   "metadata": {
    "papermill": {
     "duration": 0.01154,
     "end_time": "2024-03-12T02:49:03.405701",
     "exception": false,
     "start_time": "2024-03-12T02:49:03.394161",
     "status": "completed"
    },
    "tags": []
   },
   "source": [
    "<h2 id=\"CNN\">Build a Two Convolutional Neural Network Class</h2>\n"
   ]
  },
  {
   "cell_type": "markdown",
   "id": "5b0f6adc",
   "metadata": {
    "papermill": {
     "duration": 0.011878,
     "end_time": "2024-03-12T02:49:03.428843",
     "exception": false,
     "start_time": "2024-03-12T02:49:03.416965",
     "status": "completed"
    },
    "tags": []
   },
   "source": [
    "Build a Convolutional Network class with two Convolutional layers and one fully connected layer. Pre-determine the size of the final output matrix. The parameters in the constructor are the number of output channels for the first and second layer.\n"
   ]
  },
  {
   "cell_type": "code",
   "execution_count": 8,
   "id": "9bdeeac8",
   "metadata": {
    "execution": {
     "iopub.execute_input": "2024-03-12T02:49:03.453147Z",
     "iopub.status.busy": "2024-03-12T02:49:03.452681Z",
     "iopub.status.idle": "2024-03-12T02:49:03.463259Z",
     "shell.execute_reply": "2024-03-12T02:49:03.462185Z"
    },
    "papermill": {
     "duration": 0.025195,
     "end_time": "2024-03-12T02:49:03.465388",
     "exception": false,
     "start_time": "2024-03-12T02:49:03.440193",
     "status": "completed"
    },
    "tags": []
   },
   "outputs": [],
   "source": [
    "class CNN(nn.Module):\n",
    "    \n",
    "    # Contructor\n",
    "    def __init__(self, out_1=16, out_2=32):\n",
    "        super(CNN, self).__init__()\n",
    "        self.cnn1 = nn.Conv2d(in_channels=1, out_channels=out_1, kernel_size=5, padding=2)\n",
    "        self.maxpool1=nn.MaxPool2d(kernel_size=2)\n",
    "\n",
    "        self.cnn2 = nn.Conv2d(in_channels=out_1, out_channels=out_2, kernel_size=5, stride=1, padding=2)\n",
    "        self.maxpool2=nn.MaxPool2d(kernel_size=2)\n",
    "        self.fc1 = nn.Linear(out_2 * 4 * 4, 10)\n",
    "    \n",
    "    # Prediction\n",
    "    def forward(self, x):\n",
    "        x = self.cnn1(x)\n",
    "        x = torch.relu(x)\n",
    "        x = self.maxpool1(x)\n",
    "        x = self.cnn2(x)\n",
    "        x = torch.relu(x)\n",
    "        x = self.maxpool2(x)\n",
    "        x = x.view(x.size(0), -1)\n",
    "        x = self.fc1(x)\n",
    "        return x\n"
   ]
  },
  {
   "cell_type": "markdown",
   "id": "6a9667b9",
   "metadata": {
    "papermill": {
     "duration": 0.011703,
     "end_time": "2024-03-12T02:49:03.488973",
     "exception": false,
     "start_time": "2024-03-12T02:49:03.477270",
     "status": "completed"
    },
    "tags": []
   },
   "source": [
    "Build a Convolutional Network class with two Convolutional layers and one fully connected layer. But we add Batch Norm for the convolutional layers. \n"
   ]
  },
  {
   "cell_type": "code",
   "execution_count": 9,
   "id": "1fbfe51e",
   "metadata": {
    "execution": {
     "iopub.execute_input": "2024-03-12T02:49:03.514318Z",
     "iopub.status.busy": "2024-03-12T02:49:03.513920Z",
     "iopub.status.idle": "2024-03-12T02:49:03.523293Z",
     "shell.execute_reply": "2024-03-12T02:49:03.522209Z"
    },
    "papermill": {
     "duration": 0.02419,
     "end_time": "2024-03-12T02:49:03.525623",
     "exception": false,
     "start_time": "2024-03-12T02:49:03.501433",
     "status": "completed"
    },
    "tags": []
   },
   "outputs": [],
   "source": [
    "class CNN_batch(nn.Module):\n",
    "    \n",
    "    # Contructor\n",
    "    def __init__(self, out_1=16, out_2=32,number_of_classes=10):\n",
    "        super(CNN_batch, self).__init__()\n",
    "        self.cnn1 = nn.Conv2d(in_channels=1, out_channels=out_1, kernel_size=5, padding=2)\n",
    "        self.conv1_bn = nn.BatchNorm2d(out_1)\n",
    "\n",
    "        self.maxpool1=nn.MaxPool2d(kernel_size=2)\n",
    "        \n",
    "        self.cnn2 = nn.Conv2d(in_channels=out_1, out_channels=out_2, kernel_size=5, stride=1, padding=2)\n",
    "        self.conv2_bn = nn.BatchNorm2d(out_2)\n",
    "\n",
    "        self.maxpool2=nn.MaxPool2d(kernel_size=2)\n",
    "        self.fc1 = nn.Linear(out_2 * 4 * 4, number_of_classes)\n",
    "        self.bn_fc1 = nn.BatchNorm1d(10)\n",
    "    \n",
    "    # Prediction\n",
    "    def forward(self, x):\n",
    "        x = self.cnn1(x)\n",
    "        x=self.conv1_bn(x)\n",
    "        x = torch.relu(x)\n",
    "        x = self.maxpool1(x)\n",
    "        x = self.cnn2(x)\n",
    "        x=self.conv2_bn(x)\n",
    "        x = torch.relu(x)\n",
    "        x = self.maxpool2(x)\n",
    "        x = x.view(x.size(0), -1)\n",
    "        x = self.fc1(x)\n",
    "        x=self.bn_fc1(x)\n",
    "        return x"
   ]
  },
  {
   "cell_type": "markdown",
   "id": "74955287",
   "metadata": {
    "papermill": {
     "duration": 0.011503,
     "end_time": "2024-03-12T02:49:03.548722",
     "exception": false,
     "start_time": "2024-03-12T02:49:03.537219",
     "status": "completed"
    },
    "tags": []
   },
   "source": [
    "Function to train the model \n"
   ]
  },
  {
   "cell_type": "code",
   "execution_count": 10,
   "id": "b88b1a21",
   "metadata": {
    "execution": {
     "iopub.execute_input": "2024-03-12T02:49:03.574934Z",
     "iopub.status.busy": "2024-03-12T02:49:03.574159Z",
     "iopub.status.idle": "2024-03-12T02:49:03.581516Z",
     "shell.execute_reply": "2024-03-12T02:49:03.580659Z"
    },
    "papermill": {
     "duration": 0.022667,
     "end_time": "2024-03-12T02:49:03.583523",
     "exception": false,
     "start_time": "2024-03-12T02:49:03.560856",
     "status": "completed"
    },
    "tags": []
   },
   "outputs": [],
   "source": [
    "def train_model(model,train_loader,validation_loader,optimizer,n_epochs=4):\n",
    "    \n",
    "    #global variable \n",
    "    N_test=len(validation_dataset)\n",
    "    accuracy_list=[]\n",
    "    loss_list=[]\n",
    "    for epoch in range(n_epochs):\n",
    "        for x, y in train_loader:\n",
    "            model.train()\n",
    "            optimizer.zero_grad()\n",
    "            z = model(x)\n",
    "            loss = criterion(z, y)\n",
    "            loss.backward()\n",
    "            optimizer.step()\n",
    "            loss_list.append(loss.data)\n",
    "\n",
    "        correct=0\n",
    "        #perform a prediction on the validation  data  \n",
    "        for x_test, y_test in validation_loader:\n",
    "            model.eval()\n",
    "            z = model(x_test)\n",
    "            _, yhat = torch.max(z.data, 1)\n",
    "            correct += (yhat == y_test).sum().item()\n",
    "        accuracy = correct / N_test\n",
    "        accuracy_list.append(accuracy)\n",
    "     \n",
    "    return accuracy_list, loss_list"
   ]
  },
  {
   "cell_type": "markdown",
   "id": "2680e592",
   "metadata": {
    "papermill": {
     "duration": 0.01122,
     "end_time": "2024-03-12T02:49:03.606298",
     "exception": false,
     "start_time": "2024-03-12T02:49:03.595078",
     "status": "completed"
    },
    "tags": []
   },
   "source": [
    "<h2 id=\"Train\">Define the Convolutional Neural Network Classifier, Criterion function, Optimizer and Train the Model</h2> \n"
   ]
  },
  {
   "cell_type": "markdown",
   "id": "27a3abc6",
   "metadata": {
    "papermill": {
     "duration": 0.011431,
     "end_time": "2024-03-12T02:49:03.629963",
     "exception": false,
     "start_time": "2024-03-12T02:49:03.618532",
     "status": "completed"
    },
    "tags": []
   },
   "source": [
    "There are 16 output channels for the first layer, and 32 output channels for the second layer \n"
   ]
  },
  {
   "cell_type": "code",
   "execution_count": 11,
   "id": "c72d38ab",
   "metadata": {
    "execution": {
     "iopub.execute_input": "2024-03-12T02:49:03.654229Z",
     "iopub.status.busy": "2024-03-12T02:49:03.653807Z",
     "iopub.status.idle": "2024-03-12T02:49:03.665015Z",
     "shell.execute_reply": "2024-03-12T02:49:03.664025Z"
    },
    "papermill": {
     "duration": 0.026314,
     "end_time": "2024-03-12T02:49:03.667693",
     "exception": false,
     "start_time": "2024-03-12T02:49:03.641379",
     "status": "completed"
    },
    "tags": []
   },
   "outputs": [],
   "source": [
    "# Create the model object using CNN class\n",
    "model = CNN(out_1=16, out_2=32)"
   ]
  },
  {
   "cell_type": "markdown",
   "id": "c757da0c",
   "metadata": {
    "papermill": {
     "duration": 0.011179,
     "end_time": "2024-03-12T02:49:03.690298",
     "exception": false,
     "start_time": "2024-03-12T02:49:03.679119",
     "status": "completed"
    },
    "tags": []
   },
   "source": [
    "Define the loss function, the optimizer and the dataset loader \n"
   ]
  },
  {
   "cell_type": "code",
   "execution_count": 12,
   "id": "80d2e361",
   "metadata": {
    "execution": {
     "iopub.execute_input": "2024-03-12T02:49:03.715262Z",
     "iopub.status.busy": "2024-03-12T02:49:03.714876Z",
     "iopub.status.idle": "2024-03-12T02:49:03.722068Z",
     "shell.execute_reply": "2024-03-12T02:49:03.720908Z"
    },
    "papermill": {
     "duration": 0.022047,
     "end_time": "2024-03-12T02:49:03.724235",
     "exception": false,
     "start_time": "2024-03-12T02:49:03.702188",
     "status": "completed"
    },
    "tags": []
   },
   "outputs": [],
   "source": [
    "criterion = nn.CrossEntropyLoss()\n",
    "learning_rate = 0.1\n",
    "optimizer = torch.optim.SGD(model.parameters(), lr = learning_rate)\n",
    "train_loader = torch.utils.data.DataLoader(dataset=train_dataset, batch_size=100)\n",
    "validation_loader = torch.utils.data.DataLoader(dataset=validation_dataset, batch_size=5000)"
   ]
  },
  {
   "cell_type": "markdown",
   "id": "a87f13a0",
   "metadata": {
    "papermill": {
     "duration": 0.01134,
     "end_time": "2024-03-12T02:49:03.747033",
     "exception": false,
     "start_time": "2024-03-12T02:49:03.735693",
     "status": "completed"
    },
    "tags": []
   },
   "source": [
    "Train the model and determine validation accuracy technically test accuracy **(This may take a long time)**\n"
   ]
  },
  {
   "cell_type": "code",
   "execution_count": 13,
   "id": "e950f47c",
   "metadata": {
    "execution": {
     "iopub.execute_input": "2024-03-12T02:49:03.771960Z",
     "iopub.status.busy": "2024-03-12T02:49:03.771594Z",
     "iopub.status.idle": "2024-03-12T02:52:14.947632Z",
     "shell.execute_reply": "2024-03-12T02:52:14.946789Z"
    },
    "papermill": {
     "duration": 191.191853,
     "end_time": "2024-03-12T02:52:14.950329",
     "exception": false,
     "start_time": "2024-03-12T02:49:03.758476",
     "status": "completed"
    },
    "tags": []
   },
   "outputs": [],
   "source": [
    "# Train the model\n",
    "accuracy_list_normal, loss_list_normal=train_model(model=model,n_epochs=10,train_loader=train_loader,validation_loader=validation_loader,optimizer=optimizer)"
   ]
  },
  {
   "cell_type": "markdown",
   "id": "99cf4af0",
   "metadata": {
    "papermill": {
     "duration": 0.010888,
     "end_time": "2024-03-12T02:52:14.973030",
     "exception": false,
     "start_time": "2024-03-12T02:52:14.962142",
     "status": "completed"
    },
    "tags": []
   },
   "source": [
    "Repeat the Process for the model with  batch norm \n"
   ]
  },
  {
   "cell_type": "code",
   "execution_count": 14,
   "id": "e67152c3",
   "metadata": {
    "execution": {
     "iopub.execute_input": "2024-03-12T02:52:14.997686Z",
     "iopub.status.busy": "2024-03-12T02:52:14.996981Z",
     "iopub.status.idle": "2024-03-12T02:55:40.368189Z",
     "shell.execute_reply": "2024-03-12T02:55:40.367212Z"
    },
    "papermill": {
     "duration": 205.386624,
     "end_time": "2024-03-12T02:55:40.371021",
     "exception": false,
     "start_time": "2024-03-12T02:52:14.984397",
     "status": "completed"
    },
    "tags": []
   },
   "outputs": [],
   "source": [
    "model_batch=CNN_batch(out_1=16, out_2=32)\n",
    "criterion = nn.CrossEntropyLoss()\n",
    "learning_rate = 0.1\n",
    "optimizer = torch.optim.SGD(model_batch.parameters(), lr = learning_rate)\n",
    "accuracy_list_batch, loss_list_batch=train_model(model=model_batch,n_epochs=10,train_loader=train_loader,validation_loader=validation_loader,optimizer=optimizer)"
   ]
  },
  {
   "cell_type": "markdown",
   "id": "b4d37ffd",
   "metadata": {
    "papermill": {
     "duration": 0.011204,
     "end_time": "2024-03-12T02:55:40.394266",
     "exception": false,
     "start_time": "2024-03-12T02:55:40.383062",
     "status": "completed"
    },
    "tags": []
   },
   "source": [
    "<!--Empty Space for separating topics-->\n"
   ]
  },
  {
   "cell_type": "markdown",
   "id": "243ce782",
   "metadata": {
    "papermill": {
     "duration": 0.011028,
     "end_time": "2024-03-12T02:55:40.416649",
     "exception": false,
     "start_time": "2024-03-12T02:55:40.405621",
     "status": "completed"
    },
    "tags": []
   },
   "source": [
    "<h2 id=\"Result\">Analyze Results</h2> \n"
   ]
  },
  {
   "cell_type": "markdown",
   "id": "be1992ff",
   "metadata": {
    "papermill": {
     "duration": 0.011219,
     "end_time": "2024-03-12T02:55:40.439193",
     "exception": false,
     "start_time": "2024-03-12T02:55:40.427974",
     "status": "completed"
    },
    "tags": []
   },
   "source": [
    "Plot the loss with both networks.\n"
   ]
  },
  {
   "cell_type": "code",
   "execution_count": 15,
   "id": "02cbe457",
   "metadata": {
    "execution": {
     "iopub.execute_input": "2024-03-12T02:55:40.463733Z",
     "iopub.status.busy": "2024-03-12T02:55:40.463364Z",
     "iopub.status.idle": "2024-03-12T02:55:40.918859Z",
     "shell.execute_reply": "2024-03-12T02:55:40.917586Z"
    },
    "papermill": {
     "duration": 0.471146,
     "end_time": "2024-03-12T02:55:40.921736",
     "exception": false,
     "start_time": "2024-03-12T02:55:40.450590",
     "status": "completed"
    },
    "tags": []
   },
   "outputs": [
    {
     "data": {
      "text/plain": [
       "<matplotlib.legend.Legend at 0x7d275e11d240>"
      ]
     },
     "execution_count": 15,
     "metadata": {},
     "output_type": "execute_result"
    },
    {
     "data": {
      "image/png": "[encoded data removed]",
      "text/plain": [
       "<Figure size 640x480 with 1 Axes>"
      ]
     },
     "metadata": {},
     "output_type": "display_data"
    }
   ],
   "source": [
    "# Plot the loss and accuracy\n",
    "\n",
    "plt.plot(loss_list_normal, 'b',label='loss normal cnn ')\n",
    "plt.plot(loss_list_batch,'r',label='loss batch cnn')\n",
    "plt.xlabel('iteration')\n",
    "plt.title(\"loss\")\n",
    "plt.legend()"
   ]
  },
  {
   "cell_type": "code",
   "execution_count": 16,
   "id": "695978d8",
   "metadata": {
    "execution": {
     "iopub.execute_input": "2024-03-12T02:55:40.948749Z",
     "iopub.status.busy": "2024-03-12T02:55:40.948359Z",
     "iopub.status.idle": "2024-03-12T02:55:41.213298Z",
     "shell.execute_reply": "2024-03-12T02:55:41.212108Z"
    },
    "papermill": {
     "duration": 0.281417,
     "end_time": "2024-03-12T02:55:41.216007",
     "exception": false,
     "start_time": "2024-03-12T02:55:40.934590",
     "status": "completed"
    },
    "tags": []
   },
   "outputs": [
    {
     "data": {
      "image/png": "[encoded data removed]",
      "text/plain": [
       "<Figure size 640x480 with 1 Axes>"
      ]
     },
     "metadata": {},
     "output_type": "display_data"
    }
   ],
   "source": [
    "plt.plot(accuracy_list_normal, 'b',label=' normal CNN')\n",
    "plt.plot(accuracy_list_batch,'r',label=' CNN with Batch Norm')\n",
    "plt.xlabel('Epoch')\n",
    "plt.title(\"Accuracy \")\n",
    "plt.legend()\n",
    "plt.show()"
   ]
  },
  {
   "cell_type": "markdown",
   "id": "736accab",
   "metadata": {
    "papermill": {
     "duration": 0.012621,
     "end_time": "2024-03-12T02:55:41.241993",
     "exception": false,
     "start_time": "2024-03-12T02:55:41.229372",
     "status": "completed"
    },
    "tags": []
   },
   "source": [
    "We see the CNN with batch norm performers better, with faster convergence.\n"
   ]
  }
 ],
 "metadata": {
  "kaggle": {
   "accelerator": "none",
   "dataSources": [],
   "dockerImageVersionId": 30664,
   "isGpuEnabled": false,
   "isInternetEnabled": true,
   "language": "python",
   "sourceType": "notebook"
  },
  "kernelspec": {
   "display_name": "Python 3",
   "language": "python",
   "name": "python3"
  },
  "language_info": {
   "codemirror_mode": {
    "name": "ipython",
    "version": 3
   },
   "file_extension": ".py",
   "mimetype": "text/x-python",
   "name": "python",
   "nbconvert_exporter": "python",
   "pygments_lexer": "ipython3",
   "version": "3.10.13"
  },
  "papermill": {
   "default_parameters": {},
   "duration": 414.042983,
   "end_time": "2024-03-12T02:55:42.579801",
   "environment_variables": {},
   "exception": null,
   "input_path": "__notebook__.ipynb",
   "output_path": "__notebook__.ipynb",
   "parameters": {},
   "start_time": "2024-03-12T02:48:48.536818",
   "version": "2.5.0"
  }
 },
 "nbformat": 4,
 "nbformat_minor": 5
}
