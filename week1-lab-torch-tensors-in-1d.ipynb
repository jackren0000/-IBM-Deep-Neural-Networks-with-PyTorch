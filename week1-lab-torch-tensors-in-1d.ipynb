{
 "cells": [
  {
   "cell_type": "markdown",
   "id": "bfa51528",
   "metadata": {
    "papermill": {
     "duration": 0.049588,
     "end_time": "2024-03-01T08:45:18.783613",
     "exception": false,
     "start_time": "2024-03-01T08:45:18.734025",
     "status": "completed"
    },
    "tags": []
   },
   "source": [
    "<p style=\"text-align:center\">\n",
    "    <a href=\"https://skills.network/?utm_medium=Exinfluencer&utm_source=Exinfluencer&utm_content=000026UJ&utm_term=10006555&utm_id=NA-SkillsNetwork-Channel-SkillsNetworkCoursesIBMDeveloperSkillsNetworkDL0110ENSkillsNetwork952-2022-01-01\" target=\"_blank\">\n",
    "    <img src=\"https://cf-courses-data.s3.us.cloud-object-storage.appdomain.cloud/assets/logos/SN_web_lightmode.png\" width=\"200\" alt=\"Skills Network Logo\"  />\n",
    "    </a>\n",
    "</p>\n"
   ]
  },
  {
   "cell_type": "markdown",
   "id": "28daa2e2",
   "metadata": {
    "papermill": {
     "duration": 0.05048,
     "end_time": "2024-03-01T08:45:18.887020",
     "exception": false,
     "start_time": "2024-03-01T08:45:18.836540",
     "status": "completed"
    },
    "tags": []
   },
   "source": [
    "<h1>Torch Tensors in 1D</h1>\n"
   ]
  },
  {
   "cell_type": "markdown",
   "id": "711670e1",
   "metadata": {
    "papermill": {
     "duration": 0.047346,
     "end_time": "2024-03-01T08:45:18.981859",
     "exception": false,
     "start_time": "2024-03-01T08:45:18.934513",
     "status": "completed"
    },
    "tags": []
   },
   "source": [
    "<h2>Objective</h2><ul><li> How tensor operations work in pytorch.</li></ul> \n"
   ]
  },
  {
   "cell_type": "markdown",
   "id": "d131952a",
   "metadata": {
    "papermill": {
     "duration": 0.046673,
     "end_time": "2024-03-01T08:45:19.082963",
     "exception": false,
     "start_time": "2024-03-01T08:45:19.036290",
     "status": "completed"
    },
    "tags": []
   },
   "source": [
    "<h2>Table of Contents</h2>\n"
   ]
  },
  {
   "cell_type": "markdown",
   "id": "e587e9df",
   "metadata": {
    "papermill": {
     "duration": 0.049737,
     "end_time": "2024-03-01T08:45:19.178325",
     "exception": false,
     "start_time": "2024-03-01T08:45:19.128588",
     "status": "completed"
    },
    "tags": []
   },
   "source": [
    "<p>In this lab, you will learn the basics of tensor operations. Tensors are an essential part of PyTorch; there are complex mathematical objects in and of themselves. Fortunately, most of the intricacies are not necessary. In this section, you will compare them to vectors and numpy arrays.</p>\n",
    "<ul>\n",
    "    <li><a href=\"#Types_Shape\">Types and Shape</a></li>\n",
    "    <li><a href=\"#Index_Slice\">Indexing and Slicing</a></li>\n",
    "    <li><a href=\"#Tensor_Func\">Tensor Functions</a></li>\n",
    "    <li><a href=\"#Tensor_Op\">Tensor Operations</a></li>\n",
    "    <li><a href=\"#Device_Op\">Device_Op Operations</a></li>\n",
    "</ul>\n",
    "\n",
    "<p>Estimated Time Needed: <b>25 min</b></p>\n",
    "<hr>\n"
   ]
  },
  {
   "cell_type": "markdown",
   "id": "e354b98c",
   "metadata": {
    "papermill": {
     "duration": 0.053142,
     "end_time": "2024-03-01T08:45:19.278161",
     "exception": false,
     "start_time": "2024-03-01T08:45:19.225019",
     "status": "completed"
    },
    "tags": []
   },
   "source": [
    "<h2>Preparation</h2>\n"
   ]
  },
  {
   "cell_type": "markdown",
   "id": "c6206b93",
   "metadata": {
    "papermill": {
     "duration": 0.045366,
     "end_time": "2024-03-01T08:45:19.425718",
     "exception": false,
     "start_time": "2024-03-01T08:45:19.380352",
     "status": "completed"
    },
    "tags": []
   },
   "source": [
    "Import the following libraries that you'll use for this lab:\n"
   ]
  },
  {
   "cell_type": "code",
   "execution_count": 1,
   "id": "b80a1e06",
   "metadata": {
    "execution": {
     "iopub.execute_input": "2024-03-01T08:45:19.519730Z",
     "iopub.status.busy": "2024-03-01T08:45:19.519295Z",
     "iopub.status.idle": "2024-03-01T08:45:23.758050Z",
     "shell.execute_reply": "2024-03-01T08:45:23.757023Z"
    },
    "papermill": {
     "duration": 4.288842,
     "end_time": "2024-03-01T08:45:23.760751",
     "exception": false,
     "start_time": "2024-03-01T08:45:19.471909",
     "status": "completed"
    },
    "tags": []
   },
   "outputs": [],
   "source": [
    "# These are the libraries will be used for this lab.\n",
    "\n",
    "import torch \n",
    "import numpy as np \n",
    "import pandas as pd\n",
    "\n",
    "import matplotlib.pyplot as plt\n",
    "%matplotlib inline  "
   ]
  },
  {
   "cell_type": "markdown",
   "id": "7b1f8c83",
   "metadata": {
    "papermill": {
     "duration": 0.045862,
     "end_time": "2024-03-01T08:45:23.853597",
     "exception": false,
     "start_time": "2024-03-01T08:45:23.807735",
     "status": "completed"
    },
    "tags": []
   },
   "source": [
    "Check PyTorch version:\n"
   ]
  },
  {
   "cell_type": "code",
   "execution_count": 2,
   "id": "330aa61d",
   "metadata": {
    "execution": {
     "iopub.execute_input": "2024-03-01T08:45:23.947432Z",
     "iopub.status.busy": "2024-03-01T08:45:23.946905Z",
     "iopub.status.idle": "2024-03-01T08:45:23.954513Z",
     "shell.execute_reply": "2024-03-01T08:45:23.953428Z"
    },
    "papermill": {
     "duration": 0.057947,
     "end_time": "2024-03-01T08:45:23.957484",
     "exception": false,
     "start_time": "2024-03-01T08:45:23.899537",
     "status": "completed"
    },
    "tags": []
   },
   "outputs": [
    {
     "data": {
      "text/plain": [
       "'2.1.2+cpu'"
      ]
     },
     "execution_count": 2,
     "metadata": {},
     "output_type": "execute_result"
    }
   ],
   "source": [
    "torch.__version__"
   ]
  },
  {
   "cell_type": "markdown",
   "id": "f0ef5192",
   "metadata": {
    "papermill": {
     "duration": 0.04639,
     "end_time": "2024-03-01T08:45:24.050121",
     "exception": false,
     "start_time": "2024-03-01T08:45:24.003731",
     "status": "completed"
    },
    "tags": []
   },
   "source": [
    "This is the function for plotting diagrams. You will use this function to plot the vectors in Coordinate system.\n"
   ]
  },
  {
   "cell_type": "code",
   "execution_count": 3,
   "id": "33341883",
   "metadata": {
    "execution": {
     "iopub.execute_input": "2024-03-01T08:45:24.143609Z",
     "iopub.status.busy": "2024-03-01T08:45:24.143242Z",
     "iopub.status.idle": "2024-03-01T08:45:24.150038Z",
     "shell.execute_reply": "2024-03-01T08:45:24.149025Z"
    },
    "papermill": {
     "duration": 0.056322,
     "end_time": "2024-03-01T08:45:24.152178",
     "exception": false,
     "start_time": "2024-03-01T08:45:24.095856",
     "status": "completed"
    },
    "tags": []
   },
   "outputs": [],
   "source": [
    "# Plot vecotrs, please keep the parameters in the same length\n",
    "# @param: Vectors = [{\"vector\": vector variable, \"name\": name of vector, \"color\": color of the vector on diagram}]\n",
    "    \n",
    "def plotVec(vectors):\n",
    "    ax = plt.axes()\n",
    "    \n",
    "    # For loop to draw the vectors\n",
    "    for vec in vectors:\n",
    "        ax.arrow(0, 0, *vec[\"vector\"], head_width = 0.05,color = vec[\"color\"], head_length = 0.1)\n",
    "        plt.text(*(vec[\"vector\"] + 0.1), vec[\"name\"])\n",
    "    \n",
    "    plt.ylim(-2,2)\n",
    "    plt.xlim(-2,2)"
   ]
  },
  {
   "cell_type": "markdown",
   "id": "1b1be0ec",
   "metadata": {
    "papermill": {
     "duration": 0.045282,
     "end_time": "2024-03-01T08:45:24.243378",
     "exception": false,
     "start_time": "2024-03-01T08:45:24.198096",
     "status": "completed"
    },
    "tags": []
   },
   "source": [
    "<!--Empty Space for separating topics-->\n"
   ]
  },
  {
   "cell_type": "markdown",
   "id": "c5500e45",
   "metadata": {
    "papermill": {
     "duration": 0.058813,
     "end_time": "2024-03-01T08:45:24.348507",
     "exception": false,
     "start_time": "2024-03-01T08:45:24.289694",
     "status": "completed"
    },
    "tags": []
   },
   "source": [
    "<h2 id=\"Types_Shape\">Types and Shape</h2>\n"
   ]
  },
  {
   "cell_type": "markdown",
   "id": "70e64be6",
   "metadata": {
    "papermill": {
     "duration": 0.052796,
     "end_time": "2024-03-01T08:45:24.447595",
     "exception": false,
     "start_time": "2024-03-01T08:45:24.394799",
     "status": "completed"
    },
    "tags": []
   },
   "source": [
    "You can find the type of the following list of integers <i>[0, 1, 2, 3, 4]</i> by applying the constructor <code>torch.tensor()</code>:\n"
   ]
  },
  {
   "cell_type": "code",
   "execution_count": 4,
   "id": "b3218bd8",
   "metadata": {
    "execution": {
     "iopub.execute_input": "2024-03-01T08:45:24.566855Z",
     "iopub.status.busy": "2024-03-01T08:45:24.565980Z",
     "iopub.status.idle": "2024-03-01T08:45:24.589865Z",
     "shell.execute_reply": "2024-03-01T08:45:24.588301Z"
    },
    "papermill": {
     "duration": 0.083489,
     "end_time": "2024-03-01T08:45:24.592145",
     "exception": false,
     "start_time": "2024-03-01T08:45:24.508656",
     "status": "completed"
    },
    "tags": []
   },
   "outputs": [
    {
     "name": "stdout",
     "output_type": "stream",
     "text": [
      "The dtype of tensor object after converting it to tensor:  torch.int64\n",
      "The type of tensor object after converting it to tensor:  torch.LongTensor\n"
     ]
    }
   ],
   "source": [
    "# Convert a integer list with length 5 to a tensor\n",
    "\n",
    "ints_to_tensor = torch.tensor([0, 1, 2, 3, 4])\n",
    "print(\"The dtype of tensor object after converting it to tensor: \", ints_to_tensor.dtype)\n",
    "print(\"The type of tensor object after converting it to tensor: \", ints_to_tensor.type())"
   ]
  },
  {
   "cell_type": "markdown",
   "id": "2f2b6aca",
   "metadata": {
    "papermill": {
     "duration": 0.045883,
     "end_time": "2024-03-01T08:45:24.684908",
     "exception": false,
     "start_time": "2024-03-01T08:45:24.639025",
     "status": "completed"
    },
    "tags": []
   },
   "source": [
    "As a result, the integer list has been converted to a long tensor.\n"
   ]
  },
  {
   "cell_type": "markdown",
   "id": "3f45bf37",
   "metadata": {
    "papermill": {
     "duration": 0.048329,
     "end_time": "2024-03-01T08:45:24.786337",
     "exception": false,
     "start_time": "2024-03-01T08:45:24.738008",
     "status": "completed"
    },
    "tags": []
   },
   "source": [
    "The Python type is still <code>torch.Tensor</code>:\n"
   ]
  },
  {
   "cell_type": "code",
   "execution_count": 5,
   "id": "3b1fc016",
   "metadata": {
    "execution": {
     "iopub.execute_input": "2024-03-01T08:45:24.881178Z",
     "iopub.status.busy": "2024-03-01T08:45:24.880805Z",
     "iopub.status.idle": "2024-03-01T08:45:24.887445Z",
     "shell.execute_reply": "2024-03-01T08:45:24.886460Z"
    },
    "papermill": {
     "duration": 0.057082,
     "end_time": "2024-03-01T08:45:24.889615",
     "exception": false,
     "start_time": "2024-03-01T08:45:24.832533",
     "status": "completed"
    },
    "tags": []
   },
   "outputs": [
    {
     "data": {
      "text/plain": [
       "torch.Tensor"
      ]
     },
     "execution_count": 5,
     "metadata": {},
     "output_type": "execute_result"
    }
   ],
   "source": [
    "type(ints_to_tensor)"
   ]
  },
  {
   "cell_type": "markdown",
   "id": "538421a3",
   "metadata": {
    "papermill": {
     "duration": 0.045671,
     "end_time": "2024-03-01T08:45:24.982743",
     "exception": false,
     "start_time": "2024-03-01T08:45:24.937072",
     "status": "completed"
    },
    "tags": []
   },
   "source": [
    "<!--Empty Space for separate topics-->\n"
   ]
  },
  {
   "cell_type": "markdown",
   "id": "96cd8dc8",
   "metadata": {
    "papermill": {
     "duration": 0.045621,
     "end_time": "2024-03-01T08:45:25.074294",
     "exception": false,
     "start_time": "2024-03-01T08:45:25.028673",
     "status": "completed"
    },
    "tags": []
   },
   "source": [
    "You can find the type of this float list <i>[0.0, 1.0, 2.0, 3.0, 4.0]</i> by applying the method <code>torch.tensor()</code>:\n"
   ]
  },
  {
   "cell_type": "code",
   "execution_count": 6,
   "id": "50cb7c39",
   "metadata": {
    "execution": {
     "iopub.execute_input": "2024-03-01T08:45:25.168065Z",
     "iopub.status.busy": "2024-03-01T08:45:25.167673Z",
     "iopub.status.idle": "2024-03-01T08:45:25.173782Z",
     "shell.execute_reply": "2024-03-01T08:45:25.172777Z"
    },
    "papermill": {
     "duration": 0.056593,
     "end_time": "2024-03-01T08:45:25.176936",
     "exception": false,
     "start_time": "2024-03-01T08:45:25.120343",
     "status": "completed"
    },
    "tags": []
   },
   "outputs": [
    {
     "name": "stdout",
     "output_type": "stream",
     "text": [
      "The dtype of tensor object after converting it to tensor:  torch.float32\n",
      "The type of tensor object after converting it to tensor:  torch.FloatTensor\n"
     ]
    }
   ],
   "source": [
    "# Convert a float list with length 5 to a tensor\n",
    "\n",
    "floats_to_tensor = torch.tensor([0.0, 1.0, 2.0, 3.0, 4.0])\n",
    "print(\"The dtype of tensor object after converting it to tensor: \", floats_to_tensor.dtype)\n",
    "print(\"The type of tensor object after converting it to tensor: \", floats_to_tensor.type())"
   ]
  },
  {
   "cell_type": "markdown",
   "id": "9a0ca2a8",
   "metadata": {
    "papermill": {
     "duration": 0.046939,
     "end_time": "2024-03-01T08:45:25.270001",
     "exception": false,
     "start_time": "2024-03-01T08:45:25.223062",
     "status": "completed"
    },
    "tags": []
   },
   "source": [
    "The float list is converted to a float tensor.\n"
   ]
  },
  {
   "cell_type": "code",
   "execution_count": 7,
   "id": "53290b9f",
   "metadata": {
    "execution": {
     "iopub.execute_input": "2024-03-01T08:45:25.366025Z",
     "iopub.status.busy": "2024-03-01T08:45:25.365649Z",
     "iopub.status.idle": "2024-03-01T08:45:25.370490Z",
     "shell.execute_reply": "2024-03-01T08:45:25.369522Z"
    },
    "papermill": {
     "duration": 0.056096,
     "end_time": "2024-03-01T08:45:25.372779",
     "exception": false,
     "start_time": "2024-03-01T08:45:25.316683",
     "status": "completed"
    },
    "tags": []
   },
   "outputs": [],
   "source": [
    "list_floats=[0.0, 1.0, 2.0, 3.0, 4.0]\n",
    "\n",
    "floats_int_tensor=torch.tensor(list_floats,dtype=torch.int64)"
   ]
  },
  {
   "cell_type": "code",
   "execution_count": 8,
   "id": "43fde9e9",
   "metadata": {
    "execution": {
     "iopub.execute_input": "2024-03-01T08:45:25.466464Z",
     "iopub.status.busy": "2024-03-01T08:45:25.466070Z",
     "iopub.status.idle": "2024-03-01T08:45:25.471916Z",
     "shell.execute_reply": "2024-03-01T08:45:25.470778Z"
    },
    "papermill": {
     "duration": 0.055694,
     "end_time": "2024-03-01T08:45:25.474579",
     "exception": false,
     "start_time": "2024-03-01T08:45:25.418885",
     "status": "completed"
    },
    "tags": []
   },
   "outputs": [
    {
     "name": "stdout",
     "output_type": "stream",
     "text": [
      "The dtype of tensor object is:  torch.int64\n",
      "The type of tensor object is:  torch.LongTensor\n"
     ]
    }
   ],
   "source": [
    "print(\"The dtype of tensor object is: \", floats_int_tensor.dtype)\n",
    "print(\"The type of tensor object is: \", floats_int_tensor.type())"
   ]
  },
  {
   "cell_type": "markdown",
   "id": "0e0ef102",
   "metadata": {
    "papermill": {
     "duration": 0.045394,
     "end_time": "2024-03-01T08:45:25.566410",
     "exception": false,
     "start_time": "2024-03-01T08:45:25.521016",
     "status": "completed"
    },
    "tags": []
   },
   "source": [
    "<b>Note: The elements in the list that will be converted to tensor must have the same type.</b>\n"
   ]
  },
  {
   "cell_type": "markdown",
   "id": "e0f98ddf",
   "metadata": {
    "papermill": {
     "duration": 0.047056,
     "end_time": "2024-03-01T08:45:25.660106",
     "exception": false,
     "start_time": "2024-03-01T08:45:25.613050",
     "status": "completed"
    },
    "tags": []
   },
   "source": [
    "<!--Empty Space for separating topics-->\n"
   ]
  },
  {
   "cell_type": "markdown",
   "id": "63904da6",
   "metadata": {
    "papermill": {
     "duration": 0.048817,
     "end_time": "2024-03-01T08:45:25.756270",
     "exception": false,
     "start_time": "2024-03-01T08:45:25.707453",
     "status": "completed"
    },
    "tags": []
   },
   "source": [
    "From the previous examples, you see that <code>torch.tensor()</code> converts the list to the tensor type, which is similar to the original list type. However, what if you want to convert the list to a certain tensor type? <code>torch</code> contains the methods required to do this conversion. The following code  converts an integer list to float tensor:\n"
   ]
  },
  {
   "cell_type": "code",
   "execution_count": 9,
   "id": "1d630fda",
   "metadata": {
    "execution": {
     "iopub.execute_input": "2024-03-01T08:45:25.852073Z",
     "iopub.status.busy": "2024-03-01T08:45:25.851609Z",
     "iopub.status.idle": "2024-03-01T08:45:25.857745Z",
     "shell.execute_reply": "2024-03-01T08:45:25.856488Z"
    },
    "papermill": {
     "duration": 0.057352,
     "end_time": "2024-03-01T08:45:25.860237",
     "exception": false,
     "start_time": "2024-03-01T08:45:25.802885",
     "status": "completed"
    },
    "tags": []
   },
   "outputs": [
    {
     "name": "stdout",
     "output_type": "stream",
     "text": [
      "The type of the new_float_tensor: torch.FloatTensor\n"
     ]
    }
   ],
   "source": [
    "# Convert a integer list with length 5 to float tensor\n",
    "\n",
    "new_float_tensor = torch.FloatTensor([0, 1, 2, 3, 4])\n",
    "new_float_tensor.type()\n",
    "print(\"The type of the new_float_tensor:\", new_float_tensor.type())"
   ]
  },
  {
   "cell_type": "code",
   "execution_count": 10,
   "id": "119ae089",
   "metadata": {
    "execution": {
     "iopub.execute_input": "2024-03-01T08:45:25.956100Z",
     "iopub.status.busy": "2024-03-01T08:45:25.955734Z",
     "iopub.status.idle": "2024-03-01T08:45:25.960272Z",
     "shell.execute_reply": "2024-03-01T08:45:25.959311Z"
    },
    "papermill": {
     "duration": 0.055367,
     "end_time": "2024-03-01T08:45:25.962387",
     "exception": false,
     "start_time": "2024-03-01T08:45:25.907020",
     "status": "completed"
    },
    "tags": []
   },
   "outputs": [],
   "source": [
    "new_float_tensor = torch.FloatTensor([0, 1, 2, 3, 4])"
   ]
  },
  {
   "cell_type": "markdown",
   "id": "764bcd72",
   "metadata": {
    "papermill": {
     "duration": 0.045958,
     "end_time": "2024-03-01T08:45:26.054868",
     "exception": false,
     "start_time": "2024-03-01T08:45:26.008910",
     "status": "completed"
    },
    "tags": []
   },
   "source": [
    "<!--Empty Space for separating topics-->\n"
   ]
  },
  {
   "cell_type": "markdown",
   "id": "899dc35f",
   "metadata": {
    "papermill": {
     "duration": 0.0461,
     "end_time": "2024-03-01T08:45:26.149232",
     "exception": false,
     "start_time": "2024-03-01T08:45:26.103132",
     "status": "completed"
    },
    "tags": []
   },
   "source": [
    "You can also convert an existing tensor object (<code><i>tensor_obj</i></code>) to another tensor type. Convert the integer tensor to a float tensor:\n"
   ]
  },
  {
   "cell_type": "code",
   "execution_count": 11,
   "id": "4dbe3ec9",
   "metadata": {
    "execution": {
     "iopub.execute_input": "2024-03-01T08:45:26.245216Z",
     "iopub.status.busy": "2024-03-01T08:45:26.244851Z",
     "iopub.status.idle": "2024-03-01T08:45:26.266603Z",
     "shell.execute_reply": "2024-03-01T08:45:26.265277Z"
    },
    "papermill": {
     "duration": 0.072919,
     "end_time": "2024-03-01T08:45:26.268938",
     "exception": false,
     "start_time": "2024-03-01T08:45:26.196019",
     "status": "completed"
    },
    "tags": []
   },
   "outputs": [
    {
     "name": "stdout",
     "output_type": "stream",
     "text": [
      "The type of the new_float_tensor: torch.FloatTensor\n"
     ]
    }
   ],
   "source": [
    "# Another method to convert the integer list to float tensor\n",
    "\n",
    "old_int_tensor = torch.tensor([0, 1, 2, 3, 4])\n",
    "new_float_tensor = old_int_tensor.type(torch.FloatTensor)\n",
    "print(\"The type of the new_float_tensor:\", new_float_tensor.type())"
   ]
  },
  {
   "cell_type": "markdown",
   "id": "9390ab2f",
   "metadata": {
    "papermill": {
     "duration": 0.048346,
     "end_time": "2024-03-01T08:45:26.364012",
     "exception": false,
     "start_time": "2024-03-01T08:45:26.315666",
     "status": "completed"
    },
    "tags": []
   },
   "source": [
    "<!--Empty Space for separating topics-->\n"
   ]
  },
  {
   "cell_type": "markdown",
   "id": "1ef7f2ca",
   "metadata": {
    "papermill": {
     "duration": 0.045953,
     "end_time": "2024-03-01T08:45:26.456542",
     "exception": false,
     "start_time": "2024-03-01T08:45:26.410589",
     "status": "completed"
    },
    "tags": []
   },
   "source": [
    "The <code><i>tensor_obj</i>.size()</code> helps you to find out the size of the <code><i>tensor_obj</i></code>.\n",
    "The <code><i>tensor_obj</i>.ndimension()</code> shows the dimension of the tensor object.\n"
   ]
  },
  {
   "cell_type": "code",
   "execution_count": 12,
   "id": "50cf1d04",
   "metadata": {
    "execution": {
     "iopub.execute_input": "2024-03-01T08:45:26.551028Z",
     "iopub.status.busy": "2024-03-01T08:45:26.550631Z",
     "iopub.status.idle": "2024-03-01T08:45:26.555502Z",
     "shell.execute_reply": "2024-03-01T08:45:26.554744Z"
    },
    "papermill": {
     "duration": 0.054767,
     "end_time": "2024-03-01T08:45:26.557701",
     "exception": false,
     "start_time": "2024-03-01T08:45:26.502934",
     "status": "completed"
    },
    "tags": []
   },
   "outputs": [
    {
     "name": "stdout",
     "output_type": "stream",
     "text": [
      "The size of the new_float_tensor:  torch.Size([5])\n",
      "The dimension of the new_float_tensor:  1\n"
     ]
    }
   ],
   "source": [
    "# Introduce the tensor_obj.size() & tensor_ndimension.size() methods\n",
    "\n",
    "print(\"The size of the new_float_tensor: \", new_float_tensor.size())\n",
    "print(\"The dimension of the new_float_tensor: \",new_float_tensor.ndimension())"
   ]
  },
  {
   "cell_type": "markdown",
   "id": "63d0deaa",
   "metadata": {
    "papermill": {
     "duration": 0.04677,
     "end_time": "2024-03-01T08:45:26.651069",
     "exception": false,
     "start_time": "2024-03-01T08:45:26.604299",
     "status": "completed"
    },
    "tags": []
   },
   "source": [
    "<!--Empty Space for separating topics-->\n"
   ]
  },
  {
   "cell_type": "markdown",
   "id": "84a9a57f",
   "metadata": {
    "papermill": {
     "duration": 0.046155,
     "end_time": "2024-03-01T08:45:26.744587",
     "exception": false,
     "start_time": "2024-03-01T08:45:26.698432",
     "status": "completed"
    },
    "tags": []
   },
   "source": [
    "The <code><i>tensor_obj</i>.view(<i>row, column</i>)</code> is used for reshaping a tensor object.<br>\n"
   ]
  },
  {
   "cell_type": "markdown",
   "id": "18240cdb",
   "metadata": {
    "papermill": {
     "duration": 0.04711,
     "end_time": "2024-03-01T08:45:26.838951",
     "exception": false,
     "start_time": "2024-03-01T08:45:26.791841",
     "status": "completed"
    },
    "tags": []
   },
   "source": [
    "What if you have a tensor object with <code>torch.Size([5])</code> as a <code>new_float_tensor</code> as shown in the previous example?<br>\n",
    "After you execute <code>new_float_tensor.view(5, 1)</code>, the size of <code>new_float_tensor</code> will be <code>torch.Size([5, 1])</code>.<br>\n",
    "This means that the tensor object <code>new_float_tensor</code> has been reshaped from a one-dimensional  tensor object with 5 elements to a two-dimensional tensor object with 5 rows and 1 column.\n"
   ]
  },
  {
   "cell_type": "code",
   "execution_count": 13,
   "id": "af130ff3",
   "metadata": {
    "execution": {
     "iopub.execute_input": "2024-03-01T08:45:26.934082Z",
     "iopub.status.busy": "2024-03-01T08:45:26.933434Z",
     "iopub.status.idle": "2024-03-01T08:45:27.002188Z",
     "shell.execute_reply": "2024-03-01T08:45:27.001101Z"
    },
    "papermill": {
     "duration": 0.119059,
     "end_time": "2024-03-01T08:45:27.004610",
     "exception": false,
     "start_time": "2024-03-01T08:45:26.885551",
     "status": "completed"
    },
    "tags": []
   },
   "outputs": [
    {
     "name": "stdout",
     "output_type": "stream",
     "text": [
      "Original Size:  tensor([0., 1., 2., 3., 4.])\n",
      "Size after view method tensor([[0.],\n",
      "        [1.],\n",
      "        [2.],\n",
      "        [3.],\n",
      "        [4.]])\n"
     ]
    }
   ],
   "source": [
    "# Introduce the tensor_obj.view(row, column) method\n",
    "\n",
    "twoD_float_tensor = new_float_tensor.view(5, 1)\n",
    "print(\"Original Size: \", new_float_tensor)\n",
    "print(\"Size after view method\", twoD_float_tensor)"
   ]
  },
  {
   "cell_type": "markdown",
   "id": "f7a36f2d",
   "metadata": {
    "papermill": {
     "duration": 0.046681,
     "end_time": "2024-03-01T08:45:27.098503",
     "exception": false,
     "start_time": "2024-03-01T08:45:27.051822",
     "status": "completed"
    },
    "tags": []
   },
   "source": [
    "Note that the original size is 5. The tensor after reshaping becomes a 5X1 tensor analog to a column vector.\n"
   ]
  },
  {
   "cell_type": "markdown",
   "id": "0d406351",
   "metadata": {
    "papermill": {
     "duration": 0.046531,
     "end_time": "2024-03-01T08:45:27.191941",
     "exception": false,
     "start_time": "2024-03-01T08:45:27.145410",
     "status": "completed"
    },
    "tags": []
   },
   "source": [
    "<b>Note: The number of elements in a tensor must remain constant after applying view.</b>\n"
   ]
  },
  {
   "cell_type": "markdown",
   "id": "46b75e9b",
   "metadata": {
    "papermill": {
     "duration": 0.04675,
     "end_time": "2024-03-01T08:45:27.285609",
     "exception": false,
     "start_time": "2024-03-01T08:45:27.238859",
     "status": "completed"
    },
    "tags": []
   },
   "source": [
    "<!--Empty Space for separating topics-->\n"
   ]
  },
  {
   "cell_type": "markdown",
   "id": "b4ce2c12",
   "metadata": {
    "papermill": {
     "duration": 0.048318,
     "end_time": "2024-03-01T08:45:27.380941",
     "exception": false,
     "start_time": "2024-03-01T08:45:27.332623",
     "status": "completed"
    },
    "tags": []
   },
   "source": [
    "What if you have a tensor with dynamic size but you want to reshape it? You can use <b>-1</b> to do just that.\n"
   ]
  },
  {
   "cell_type": "code",
   "execution_count": 14,
   "id": "f4c169e9",
   "metadata": {
    "execution": {
     "iopub.execute_input": "2024-03-01T08:45:27.475653Z",
     "iopub.status.busy": "2024-03-01T08:45:27.475257Z",
     "iopub.status.idle": "2024-03-01T08:45:27.482422Z",
     "shell.execute_reply": "2024-03-01T08:45:27.481373Z"
    },
    "papermill": {
     "duration": 0.057229,
     "end_time": "2024-03-01T08:45:27.484525",
     "exception": false,
     "start_time": "2024-03-01T08:45:27.427296",
     "status": "completed"
    },
    "tags": []
   },
   "outputs": [
    {
     "name": "stdout",
     "output_type": "stream",
     "text": [
      "Original Size:  tensor([0., 1., 2., 3., 4.])\n",
      "Size after view method tensor([[0.],\n",
      "        [1.],\n",
      "        [2.],\n",
      "        [3.],\n",
      "        [4.]])\n"
     ]
    }
   ],
   "source": [
    "# Introduce the use of -1 in tensor_obj.view(row, column) method\n",
    "\n",
    "twoD_float_tensor = new_float_tensor.view(-1, 1)\n",
    "print(\"Original Size: \", new_float_tensor)\n",
    "print(\"Size after view method\", twoD_float_tensor)"
   ]
  },
  {
   "cell_type": "markdown",
   "id": "a618d5c6",
   "metadata": {
    "papermill": {
     "duration": 0.046397,
     "end_time": "2024-03-01T08:45:27.577687",
     "exception": false,
     "start_time": "2024-03-01T08:45:27.531290",
     "status": "completed"
    },
    "tags": []
   },
   "source": [
    "You get the same result as the previous example. The <b>-1</b> can represent any size. However, be careful because you can set only one argument as <b>-1</b>.\n"
   ]
  },
  {
   "cell_type": "markdown",
   "id": "3b4daac5",
   "metadata": {
    "papermill": {
     "duration": 0.046188,
     "end_time": "2024-03-01T08:45:27.670986",
     "exception": false,
     "start_time": "2024-03-01T08:45:27.624798",
     "status": "completed"
    },
    "tags": []
   },
   "source": [
    "<!--Empty Space for separating topics-->\n"
   ]
  },
  {
   "cell_type": "markdown",
   "id": "c8ef931d",
   "metadata": {
    "papermill": {
     "duration": 0.046129,
     "end_time": "2024-03-01T08:45:27.763594",
     "exception": false,
     "start_time": "2024-03-01T08:45:27.717465",
     "status": "completed"
    },
    "tags": []
   },
   "source": [
    "You can also convert a <b>numpy</b> array to a <b>tensor</b>, for example: \n"
   ]
  },
  {
   "cell_type": "code",
   "execution_count": 15,
   "id": "d7acb6e3",
   "metadata": {
    "execution": {
     "iopub.execute_input": "2024-03-01T08:45:27.859462Z",
     "iopub.status.busy": "2024-03-01T08:45:27.859053Z",
     "iopub.status.idle": "2024-03-01T08:45:27.866104Z",
     "shell.execute_reply": "2024-03-01T08:45:27.864618Z"
    },
    "papermill": {
     "duration": 0.057801,
     "end_time": "2024-03-01T08:45:27.868494",
     "exception": false,
     "start_time": "2024-03-01T08:45:27.810693",
     "status": "completed"
    },
    "tags": []
   },
   "outputs": [
    {
     "name": "stdout",
     "output_type": "stream",
     "text": [
      "The dtype of new tensor:  torch.float64\n",
      "The type of new tensor:  torch.DoubleTensor\n"
     ]
    }
   ],
   "source": [
    "# Convert a numpy array to a tensor\n",
    "\n",
    "numpy_array = np.array([0.0, 1.0, 2.0, 3.0, 4.0])\n",
    "new_tensor = torch.from_numpy(numpy_array)\n",
    "\n",
    "print(\"The dtype of new tensor: \", new_tensor.dtype)\n",
    "print(\"The type of new tensor: \", new_tensor.type())"
   ]
  },
  {
   "cell_type": "markdown",
   "id": "0e84f076",
   "metadata": {
    "papermill": {
     "duration": 0.048182,
     "end_time": "2024-03-01T08:45:27.964431",
     "exception": false,
     "start_time": "2024-03-01T08:45:27.916249",
     "status": "completed"
    },
    "tags": []
   },
   "source": [
    "<!--Empty Space for separating topics-->\n"
   ]
  },
  {
   "cell_type": "markdown",
   "id": "9ea75525",
   "metadata": {
    "papermill": {
     "duration": 0.046918,
     "end_time": "2024-03-01T08:45:28.058464",
     "exception": false,
     "start_time": "2024-03-01T08:45:28.011546",
     "status": "completed"
    },
    "tags": []
   },
   "source": [
    "Converting a <b>tensor</b> to a <b>numpy</b> is also supported in PyTorch. The syntax is shown below:\n"
   ]
  },
  {
   "cell_type": "code",
   "execution_count": 16,
   "id": "e90c857a",
   "metadata": {
    "execution": {
     "iopub.execute_input": "2024-03-01T08:45:28.154993Z",
     "iopub.status.busy": "2024-03-01T08:45:28.154577Z",
     "iopub.status.idle": "2024-03-01T08:45:28.162402Z",
     "shell.execute_reply": "2024-03-01T08:45:28.161368Z"
    },
    "papermill": {
     "duration": 0.059537,
     "end_time": "2024-03-01T08:45:28.165172",
     "exception": false,
     "start_time": "2024-03-01T08:45:28.105635",
     "status": "completed"
    },
    "tags": []
   },
   "outputs": [
    {
     "name": "stdout",
     "output_type": "stream",
     "text": [
      "The numpy array from tensor:  [0. 1. 2. 3. 4.]\n",
      "The dtype of numpy array:  float64\n"
     ]
    }
   ],
   "source": [
    "# Convert a tensor to a numpy array\n",
    "\n",
    "back_to_numpy = new_tensor.numpy()\n",
    "print(\"The numpy array from tensor: \", back_to_numpy)\n",
    "print(\"The dtype of numpy array: \", back_to_numpy.dtype)"
   ]
  },
  {
   "cell_type": "markdown",
   "id": "4efd94e2",
   "metadata": {
    "papermill": {
     "duration": 0.047216,
     "end_time": "2024-03-01T08:45:28.259259",
     "exception": false,
     "start_time": "2024-03-01T08:45:28.212043",
     "status": "completed"
    },
    "tags": []
   },
   "source": [
    "<code>back_to_numpy</code> and <code>new_tensor</code> still point to <code>numpy_array</code>. As a result if we change <code>numpy_array</code> both <code>back_to_numpy</code> and <code>new_tensor</code> will change. For example if we set all the elements in <code>numpy_array</code> to zeros, <code>back_to_numpy</code> and <code> new_tensor</code> will follow suit.\n"
   ]
  },
  {
   "cell_type": "code",
   "execution_count": 17,
   "id": "46c370bf",
   "metadata": {
    "execution": {
     "iopub.execute_input": "2024-03-01T08:45:28.356400Z",
     "iopub.status.busy": "2024-03-01T08:45:28.355947Z",
     "iopub.status.idle": "2024-03-01T08:45:28.362836Z",
     "shell.execute_reply": "2024-03-01T08:45:28.361680Z"
    },
    "papermill": {
     "duration": 0.058676,
     "end_time": "2024-03-01T08:45:28.365067",
     "exception": false,
     "start_time": "2024-03-01T08:45:28.306391",
     "status": "completed"
    },
    "tags": []
   },
   "outputs": [
    {
     "name": "stdout",
     "output_type": "stream",
     "text": [
      "The new tensor points to numpy_array :  tensor([0., 0., 0., 0., 0.], dtype=torch.float64)\n",
      "and back to numpy array points to the tensor:  [0. 0. 0. 0. 0.]\n"
     ]
    }
   ],
   "source": [
    "# Set all elements in numpy array to zero \n",
    "numpy_array[:] = 0\n",
    "print(\"The new tensor points to numpy_array : \", new_tensor)\n",
    "print(\"and back to numpy array points to the tensor: \", back_to_numpy)"
   ]
  },
  {
   "cell_type": "markdown",
   "id": "7002726c",
   "metadata": {
    "papermill": {
     "duration": 0.047072,
     "end_time": "2024-03-01T08:45:28.459696",
     "exception": false,
     "start_time": "2024-03-01T08:45:28.412624",
     "status": "completed"
    },
    "tags": []
   },
   "source": [
    "<!--Empty Space for separating topics-->\n"
   ]
  },
  {
   "cell_type": "markdown",
   "id": "99c2b732",
   "metadata": {
    "papermill": {
     "duration": 0.046588,
     "end_time": "2024-03-01T08:45:28.553870",
     "exception": false,
     "start_time": "2024-03-01T08:45:28.507282",
     "status": "completed"
    },
    "tags": []
   },
   "source": [
    "<b>Pandas Series</b> can also be converted by using the numpy array that is stored in <code>pandas_series.values</code>. Note that <code>pandas_series</code> can be any pandas_series object. \n"
   ]
  },
  {
   "cell_type": "code",
   "execution_count": 18,
   "id": "42a356d9",
   "metadata": {
    "execution": {
     "iopub.execute_input": "2024-03-01T08:45:28.650958Z",
     "iopub.status.busy": "2024-03-01T08:45:28.650572Z",
     "iopub.status.idle": "2024-03-01T08:45:28.659502Z",
     "shell.execute_reply": "2024-03-01T08:45:28.658669Z"
    },
    "papermill": {
     "duration": 0.060898,
     "end_time": "2024-03-01T08:45:28.661856",
     "exception": false,
     "start_time": "2024-03-01T08:45:28.600958",
     "status": "completed"
    },
    "tags": []
   },
   "outputs": [
    {
     "name": "stdout",
     "output_type": "stream",
     "text": [
      "The new tensor from numpy array:  tensor([ 0.1000,  2.0000,  0.3000, 10.1000], dtype=torch.float64)\n",
      "The dtype of new tensor:  torch.float64\n",
      "The type of new tensor:  torch.DoubleTensor\n"
     ]
    }
   ],
   "source": [
    "# Convert a panda series to a tensor\n",
    "\n",
    "pandas_series=pd.Series([0.1, 2, 0.3, 10.1])\n",
    "new_tensor=torch.from_numpy(pandas_series.values)\n",
    "print(\"The new tensor from numpy array: \", new_tensor)\n",
    "print(\"The dtype of new tensor: \", new_tensor.dtype)\n",
    "print(\"The type of new tensor: \", new_tensor.type())"
   ]
  },
  {
   "cell_type": "markdown",
   "id": "12080f51",
   "metadata": {
    "papermill": {
     "duration": 0.047251,
     "end_time": "2024-03-01T08:45:28.756265",
     "exception": false,
     "start_time": "2024-03-01T08:45:28.709014",
     "status": "completed"
    },
    "tags": []
   },
   "source": [
    "consider the following tensor \n"
   ]
  },
  {
   "cell_type": "code",
   "execution_count": 19,
   "id": "0101f7fd",
   "metadata": {
    "execution": {
     "iopub.execute_input": "2024-03-01T08:45:28.854358Z",
     "iopub.status.busy": "2024-03-01T08:45:28.852929Z",
     "iopub.status.idle": "2024-03-01T08:45:28.858466Z",
     "shell.execute_reply": "2024-03-01T08:45:28.857720Z"
    },
    "papermill": {
     "duration": 0.057234,
     "end_time": "2024-03-01T08:45:28.860452",
     "exception": false,
     "start_time": "2024-03-01T08:45:28.803218",
     "status": "completed"
    },
    "tags": []
   },
   "outputs": [],
   "source": [
    "this_tensor=torch.tensor([0,1, 2,3]) "
   ]
  },
  {
   "cell_type": "markdown",
   "id": "a50b6d6a",
   "metadata": {
    "papermill": {
     "duration": 0.048066,
     "end_time": "2024-03-01T08:45:28.958954",
     "exception": false,
     "start_time": "2024-03-01T08:45:28.910888",
     "status": "completed"
    },
    "tags": []
   },
   "source": [
    "The method <code>item()</code> returns the value of this tensor as a standard Python number. This only works for one element. \n"
   ]
  },
  {
   "cell_type": "code",
   "execution_count": 20,
   "id": "11153cbf",
   "metadata": {
    "execution": {
     "iopub.execute_input": "2024-03-01T08:45:29.055292Z",
     "iopub.status.busy": "2024-03-01T08:45:29.054876Z",
     "iopub.status.idle": "2024-03-01T08:45:29.063249Z",
     "shell.execute_reply": "2024-03-01T08:45:29.062176Z"
    },
    "papermill": {
     "duration": 0.059164,
     "end_time": "2024-03-01T08:45:29.065808",
     "exception": false,
     "start_time": "2024-03-01T08:45:29.006644",
     "status": "completed"
    },
    "tags": []
   },
   "outputs": [
    {
     "name": "stdout",
     "output_type": "stream",
     "text": [
      "the first item is given by 0 the first tensor value is given by  tensor(0)\n",
      "the second item is given by 1 the second tensor value is given by  tensor(1)\n",
      "the third  item is given by 2 the third tensor value is given by  tensor(2)\n"
     ]
    }
   ],
   "source": [
    "this_tensor=torch.tensor([0,1, 2,3]) \n",
    "\n",
    "print(\"the first item is given by\",this_tensor[0].item(),\"the first tensor value is given by \",this_tensor[0])\n",
    "print(\"the second item is given by\",this_tensor[1].item(),\"the second tensor value is given by \",this_tensor[1])\n",
    "print(\"the third  item is given by\",this_tensor[2].item(),\"the third tensor value is given by \",this_tensor[2])"
   ]
  },
  {
   "cell_type": "markdown",
   "id": "cd066072",
   "metadata": {
    "papermill": {
     "duration": 0.04687,
     "end_time": "2024-03-01T08:45:29.160342",
     "exception": false,
     "start_time": "2024-03-01T08:45:29.113472",
     "status": "completed"
    },
    "tags": []
   },
   "source": [
    "we can use the method <code> tolist()</code> to return a list \n"
   ]
  },
  {
   "cell_type": "code",
   "execution_count": 21,
   "id": "bc082790",
   "metadata": {
    "execution": {
     "iopub.execute_input": "2024-03-01T08:45:29.258482Z",
     "iopub.status.busy": "2024-03-01T08:45:29.258101Z",
     "iopub.status.idle": "2024-03-01T08:45:29.263444Z",
     "shell.execute_reply": "2024-03-01T08:45:29.262451Z"
    },
    "papermill": {
     "duration": 0.057594,
     "end_time": "2024-03-01T08:45:29.265878",
     "exception": false,
     "start_time": "2024-03-01T08:45:29.208284",
     "status": "completed"
    },
    "tags": []
   },
   "outputs": [
    {
     "name": "stdout",
     "output_type": "stream",
     "text": [
      "tensor: tensor([0, 1, 2, 3]) \n",
      "list: [0, 1, 2, 3]\n"
     ]
    }
   ],
   "source": [
    "torch_to_list=this_tensor.tolist()\n",
    "\n",
    "print('tensor:', this_tensor,\"\\nlist:\",torch_to_list)"
   ]
  },
  {
   "cell_type": "markdown",
   "id": "38d5d8aa",
   "metadata": {
    "papermill": {
     "duration": 0.048615,
     "end_time": "2024-03-01T08:45:29.361937",
     "exception": false,
     "start_time": "2024-03-01T08:45:29.313322",
     "status": "completed"
    },
    "tags": []
   },
   "source": [
    "<!--Empty Space for separating topics-->\n"
   ]
  },
  {
   "cell_type": "markdown",
   "id": "e730026f",
   "metadata": {
    "papermill": {
     "duration": 0.046994,
     "end_time": "2024-03-01T08:45:29.457082",
     "exception": false,
     "start_time": "2024-03-01T08:45:29.410088",
     "status": "completed"
    },
    "tags": []
   },
   "source": [
    "<h3>Practice</h3>\n"
   ]
  },
  {
   "cell_type": "markdown",
   "id": "bf97340e",
   "metadata": {
    "papermill": {
     "duration": 0.046401,
     "end_time": "2024-03-01T08:45:29.551140",
     "exception": false,
     "start_time": "2024-03-01T08:45:29.504739",
     "status": "completed"
    },
    "tags": []
   },
   "source": [
    "Try to convert <code>your_tensor</code> to a 1X5 tensor.\n"
   ]
  },
  {
   "cell_type": "code",
   "execution_count": 22,
   "id": "9b836672",
   "metadata": {
    "execution": {
     "iopub.execute_input": "2024-03-01T08:45:29.648481Z",
     "iopub.status.busy": "2024-03-01T08:45:29.648117Z",
     "iopub.status.idle": "2024-03-01T08:45:29.655113Z",
     "shell.execute_reply": "2024-03-01T08:45:29.654076Z"
    },
    "papermill": {
     "duration": 0.05873,
     "end_time": "2024-03-01T08:45:29.657570",
     "exception": false,
     "start_time": "2024-03-01T08:45:29.598840",
     "status": "completed"
    },
    "tags": []
   },
   "outputs": [
    {
     "name": "stdout",
     "output_type": "stream",
     "text": [
      "Original Size:  tensor([1, 2, 3, 4, 5])\n",
      "Size after view method tensor([[1, 2, 3, 4, 5]])\n"
     ]
    }
   ],
   "source": [
    "# Practice: convert the following tensor to a tensor object with 1 row and 5 columns\n",
    "\n",
    "your_tensor = torch.tensor([1, 2, 3, 4, 5])\n",
    "your_new_tensor = your_tensor.view(1, 5)\n",
    "print(\"Original Size: \", your_tensor)\n",
    "print(\"Size after view method\", your_new_tensor)"
   ]
  },
  {
   "cell_type": "markdown",
   "id": "735a3f05",
   "metadata": {
    "papermill": {
     "duration": 0.047395,
     "end_time": "2024-03-01T08:45:29.753534",
     "exception": false,
     "start_time": "2024-03-01T08:45:29.706139",
     "status": "completed"
    },
    "tags": []
   },
   "source": [
    "<!--Empty Space for separating topics-->\n"
   ]
  },
  {
   "cell_type": "markdown",
   "id": "7f65d001",
   "metadata": {
    "papermill": {
     "duration": 0.047831,
     "end_time": "2024-03-01T08:45:29.850128",
     "exception": false,
     "start_time": "2024-03-01T08:45:29.802297",
     "status": "completed"
    },
    "tags": []
   },
   "source": [
    "<h2 id=\"Index_Slice\">Indexing and Slicing</h2>\n"
   ]
  },
  {
   "cell_type": "markdown",
   "id": "6d76afae",
   "metadata": {
    "papermill": {
     "duration": 0.047262,
     "end_time": "2024-03-01T08:45:29.945209",
     "exception": false,
     "start_time": "2024-03-01T08:45:29.897947",
     "status": "completed"
    },
    "tags": []
   },
   "source": [
    "In Python, <b>the index starts with 0</b>. Therefore, the last index will always be 1 less than the length of the tensor object.\n",
    "You can access the value on a certain index by using the square bracket, for example:\n"
   ]
  },
  {
   "cell_type": "code",
   "execution_count": 23,
   "id": "ae80a8fd",
   "metadata": {
    "execution": {
     "iopub.execute_input": "2024-03-01T08:45:30.042825Z",
     "iopub.status.busy": "2024-03-01T08:45:30.042400Z",
     "iopub.status.idle": "2024-03-01T08:45:30.050118Z",
     "shell.execute_reply": "2024-03-01T08:45:30.049306Z"
    },
    "papermill": {
     "duration": 0.058695,
     "end_time": "2024-03-01T08:45:30.052411",
     "exception": false,
     "start_time": "2024-03-01T08:45:29.993716",
     "status": "completed"
    },
    "tags": []
   },
   "outputs": [
    {
     "name": "stdout",
     "output_type": "stream",
     "text": [
      "The value on index 0: tensor(0)\n",
      "The value on index 1: tensor(1)\n",
      "The value on index 2: tensor(2)\n",
      "The value on index 3: tensor(3)\n",
      "The value on index 4: tensor(4)\n"
     ]
    }
   ],
   "source": [
    "# A tensor for showing how the indexs work on tensors\n",
    "\n",
    "index_tensor = torch.tensor([0, 1, 2, 3, 4])\n",
    "print(\"The value on index 0:\",index_tensor[0])\n",
    "print(\"The value on index 1:\",index_tensor[1])\n",
    "print(\"The value on index 2:\",index_tensor[2])\n",
    "print(\"The value on index 3:\",index_tensor[3])\n",
    "print(\"The value on index 4:\",index_tensor[4])"
   ]
  },
  {
   "cell_type": "markdown",
   "id": "bcb6aab5",
   "metadata": {
    "papermill": {
     "duration": 0.046891,
     "end_time": "2024-03-01T08:45:30.146938",
     "exception": false,
     "start_time": "2024-03-01T08:45:30.100047",
     "status": "completed"
    },
    "tags": []
   },
   "source": [
    "<b>Note that the <code>index_tensor[5]</code> will create an error.</b>\n"
   ]
  },
  {
   "cell_type": "markdown",
   "id": "53d2beb8",
   "metadata": {
    "papermill": {
     "duration": 0.047551,
     "end_time": "2024-03-01T08:45:30.241969",
     "exception": false,
     "start_time": "2024-03-01T08:45:30.194418",
     "status": "completed"
    },
    "tags": []
   },
   "source": [
    "<!--Empty Space for separating topics-->\n"
   ]
  },
  {
   "cell_type": "markdown",
   "id": "21fb8c19",
   "metadata": {
    "papermill": {
     "duration": 0.046944,
     "end_time": "2024-03-01T08:45:30.336641",
     "exception": false,
     "start_time": "2024-03-01T08:45:30.289697",
     "status": "completed"
    },
    "tags": []
   },
   "source": [
    "The index is shown in the following figure: \n"
   ]
  },
  {
   "cell_type": "markdown",
   "id": "746404e6",
   "metadata": {
    "papermill": {
     "duration": 0.046723,
     "end_time": "2024-03-01T08:45:30.431638",
     "exception": false,
     "start_time": "2024-03-01T08:45:30.384915",
     "status": "completed"
    },
    "tags": []
   },
   "source": [
    "<img src=\"https://s3-api.us-geo.objectstorage.softlayer.net/cf-courses-data/CognitiveClass/DL0110EN/notebook_images%20/chapter%201/idex_1.png\" width=\"500\" alt=\"Python Index\">\n"
   ]
  },
  {
   "cell_type": "markdown",
   "id": "3c11f67e",
   "metadata": {
    "papermill": {
     "duration": 0.047144,
     "end_time": "2024-03-01T08:45:30.526452",
     "exception": false,
     "start_time": "2024-03-01T08:45:30.479308",
     "status": "completed"
    },
    "tags": []
   },
   "source": [
    "<!--Empty Space for separating topics-->\n"
   ]
  },
  {
   "cell_type": "markdown",
   "id": "1ca8372f",
   "metadata": {
    "papermill": {
     "duration": 0.04693,
     "end_time": "2024-03-01T08:45:30.620618",
     "exception": false,
     "start_time": "2024-03-01T08:45:30.573688",
     "status": "completed"
    },
    "tags": []
   },
   "source": [
    "Now, you'll see how to change the values on certain indexes.\n"
   ]
  },
  {
   "cell_type": "markdown",
   "id": "38b6f573",
   "metadata": {
    "papermill": {
     "duration": 0.04693,
     "end_time": "2024-03-01T08:45:30.714816",
     "exception": false,
     "start_time": "2024-03-01T08:45:30.667886",
     "status": "completed"
    },
    "tags": []
   },
   "source": [
    "Suppose you have a tensor as shown here: \n"
   ]
  },
  {
   "cell_type": "code",
   "execution_count": 24,
   "id": "73d8b2f3",
   "metadata": {
    "execution": {
     "iopub.execute_input": "2024-03-01T08:45:30.813619Z",
     "iopub.status.busy": "2024-03-01T08:45:30.812534Z",
     "iopub.status.idle": "2024-03-01T08:45:30.817699Z",
     "shell.execute_reply": "2024-03-01T08:45:30.816918Z"
    },
    "papermill": {
     "duration": 0.057229,
     "end_time": "2024-03-01T08:45:30.819819",
     "exception": false,
     "start_time": "2024-03-01T08:45:30.762590",
     "status": "completed"
    },
    "tags": []
   },
   "outputs": [],
   "source": [
    "# A tensor for showing how to change value according to the index\n",
    "\n",
    "tensor_sample = torch.tensor([20, 1, 2, 3, 4])"
   ]
  },
  {
   "cell_type": "markdown",
   "id": "4d785e9a",
   "metadata": {
    "papermill": {
     "duration": 0.047152,
     "end_time": "2024-03-01T08:45:30.914508",
     "exception": false,
     "start_time": "2024-03-01T08:45:30.867356",
     "status": "completed"
    },
    "tags": []
   },
   "source": [
    "Assign the value on index 0 as 100:\n"
   ]
  },
  {
   "cell_type": "code",
   "execution_count": 25,
   "id": "d2017bb1",
   "metadata": {
    "execution": {
     "iopub.execute_input": "2024-03-01T08:45:31.012612Z",
     "iopub.status.busy": "2024-03-01T08:45:31.011495Z",
     "iopub.status.idle": "2024-03-01T08:45:31.020029Z",
     "shell.execute_reply": "2024-03-01T08:45:31.018953Z"
    },
    "papermill": {
     "duration": 0.059922,
     "end_time": "2024-03-01T08:45:31.022025",
     "exception": false,
     "start_time": "2024-03-01T08:45:30.962103",
     "status": "completed"
    },
    "tags": []
   },
   "outputs": [
    {
     "name": "stdout",
     "output_type": "stream",
     "text": [
      "Inital value on index 0: tensor(20)\n",
      "Modified tensor: tensor([100,   1,   2,   3,   4])\n"
     ]
    }
   ],
   "source": [
    "# Change the value on the index 0 to 100\n",
    "\n",
    "print(\"Inital value on index 0:\", tensor_sample[0])\n",
    "tensor_sample[0] = 100\n",
    "print(\"Modified tensor:\", tensor_sample)"
   ]
  },
  {
   "cell_type": "markdown",
   "id": "46a4c02b",
   "metadata": {
    "papermill": {
     "duration": 0.048752,
     "end_time": "2024-03-01T08:45:31.120983",
     "exception": false,
     "start_time": "2024-03-01T08:45:31.072231",
     "status": "completed"
    },
    "tags": []
   },
   "source": [
    "As you can see, the value on index 0 changes. Change the value on index 4 to 0:\n"
   ]
  },
  {
   "cell_type": "code",
   "execution_count": 26,
   "id": "a5ce3b8d",
   "metadata": {
    "execution": {
     "iopub.execute_input": "2024-03-01T08:45:31.219158Z",
     "iopub.status.busy": "2024-03-01T08:45:31.218727Z",
     "iopub.status.idle": "2024-03-01T08:45:31.225666Z",
     "shell.execute_reply": "2024-03-01T08:45:31.224463Z"
    },
    "papermill": {
     "duration": 0.058673,
     "end_time": "2024-03-01T08:45:31.227848",
     "exception": false,
     "start_time": "2024-03-01T08:45:31.169175",
     "status": "completed"
    },
    "tags": []
   },
   "outputs": [
    {
     "name": "stdout",
     "output_type": "stream",
     "text": [
      "Inital value on index 4: tensor(4)\n",
      "Modified tensor: tensor([100,   1,   2,   3,   0])\n"
     ]
    }
   ],
   "source": [
    "# Change the value on the index 4 to 0\n",
    "\n",
    "print(\"Inital value on index 4:\", tensor_sample[4])\n",
    "tensor_sample[4] = 0\n",
    "print(\"Modified tensor:\", tensor_sample)"
   ]
  },
  {
   "cell_type": "markdown",
   "id": "21424eec",
   "metadata": {
    "papermill": {
     "duration": 0.047595,
     "end_time": "2024-03-01T08:45:31.324300",
     "exception": false,
     "start_time": "2024-03-01T08:45:31.276705",
     "status": "completed"
    },
    "tags": []
   },
   "source": [
    "The value on index 4 turns to 0.\n"
   ]
  },
  {
   "cell_type": "markdown",
   "id": "eca727ab",
   "metadata": {
    "papermill": {
     "duration": 0.047152,
     "end_time": "2024-03-01T08:45:31.419108",
     "exception": false,
     "start_time": "2024-03-01T08:45:31.371956",
     "status": "completed"
    },
    "tags": []
   },
   "source": [
    "<!--Empty Space for separating topics-->\n"
   ]
  },
  {
   "cell_type": "markdown",
   "id": "fcf35a45",
   "metadata": {
    "papermill": {
     "duration": 0.048811,
     "end_time": "2024-03-01T08:45:31.515280",
     "exception": false,
     "start_time": "2024-03-01T08:45:31.466469",
     "status": "completed"
    },
    "tags": []
   },
   "source": [
    "If you are familiar with Python, you know that there is a feature called slicing on a list. Tensors support the same feature. \n"
   ]
  },
  {
   "cell_type": "markdown",
   "id": "5212bb75",
   "metadata": {
    "papermill": {
     "duration": 0.046591,
     "end_time": "2024-03-01T08:45:31.609044",
     "exception": false,
     "start_time": "2024-03-01T08:45:31.562453",
     "status": "completed"
    },
    "tags": []
   },
   "source": [
    "Get the subset of <code>tensor_sample</code>. The subset should contain the values in <code>tensor_sample</code> from index 1 to index 3.\n"
   ]
  },
  {
   "cell_type": "code",
   "execution_count": 27,
   "id": "a18fe01a",
   "metadata": {
    "execution": {
     "iopub.execute_input": "2024-03-01T08:45:31.705808Z",
     "iopub.status.busy": "2024-03-01T08:45:31.705381Z",
     "iopub.status.idle": "2024-03-01T08:45:31.719613Z",
     "shell.execute_reply": "2024-03-01T08:45:31.718162Z"
    },
    "papermill": {
     "duration": 0.065401,
     "end_time": "2024-03-01T08:45:31.721844",
     "exception": false,
     "start_time": "2024-03-01T08:45:31.656443",
     "status": "completed"
    },
    "tags": []
   },
   "outputs": [
    {
     "name": "stdout",
     "output_type": "stream",
     "text": [
      "Original tensor sample:  tensor([100,   1,   2,   3,   0])\n",
      "The subset of tensor sample: tensor([1, 2, 3])\n"
     ]
    }
   ],
   "source": [
    "# Slice tensor_sample\n",
    "\n",
    "subset_tensor_sample = tensor_sample[1:4]\n",
    "print(\"Original tensor sample: \", tensor_sample)\n",
    "print(\"The subset of tensor sample:\", subset_tensor_sample)"
   ]
  },
  {
   "cell_type": "markdown",
   "id": "2deeea9a",
   "metadata": {
    "papermill": {
     "duration": 0.047985,
     "end_time": "2024-03-01T08:45:31.818614",
     "exception": false,
     "start_time": "2024-03-01T08:45:31.770629",
     "status": "completed"
    },
    "tags": []
   },
   "source": [
    "As a result, the <code>subset_tensor_sample</code> returned only the values on index 1, index 2, and index 3. Then, it stored them in a <code>subset_tensor_sample</code>.\n"
   ]
  },
  {
   "cell_type": "markdown",
   "id": "bfdd5ad2",
   "metadata": {
    "papermill": {
     "duration": 0.047886,
     "end_time": "2024-03-01T08:45:31.915155",
     "exception": false,
     "start_time": "2024-03-01T08:45:31.867269",
     "status": "completed"
    },
    "tags": []
   },
   "source": [
    "<b>Note: The number on the left side of the colon represents the index of the first value. The number on the right side of the colon is always 1 larger than the index of the last value. For example, <code>tensor_sample[1:4]</code> means you get values from the index 1 to index 3 <i>(4-1)</i></b>.\n"
   ]
  },
  {
   "cell_type": "markdown",
   "id": "ee53f95c",
   "metadata": {
    "papermill": {
     "duration": 0.048097,
     "end_time": "2024-03-01T08:45:32.012197",
     "exception": false,
     "start_time": "2024-03-01T08:45:31.964100",
     "status": "completed"
    },
    "tags": []
   },
   "source": [
    "<!--Empty Space for separating topics-->\n"
   ]
  },
  {
   "cell_type": "markdown",
   "id": "80ded974",
   "metadata": {
    "papermill": {
     "duration": 0.047184,
     "end_time": "2024-03-01T08:45:32.106909",
     "exception": false,
     "start_time": "2024-03-01T08:45:32.059725",
     "status": "completed"
    },
    "tags": []
   },
   "source": [
    "As for assigning values to the certain index, you can also assign the value to the slices:\n"
   ]
  },
  {
   "cell_type": "markdown",
   "id": "bdf15a01",
   "metadata": {
    "papermill": {
     "duration": 0.04705,
     "end_time": "2024-03-01T08:45:32.201328",
     "exception": false,
     "start_time": "2024-03-01T08:45:32.154278",
     "status": "completed"
    },
    "tags": []
   },
   "source": [
    "Change the value of <code>tensor_sample</code> from index 3 to index 4:\n"
   ]
  },
  {
   "cell_type": "code",
   "execution_count": 28,
   "id": "5106f7b9",
   "metadata": {
    "execution": {
     "iopub.execute_input": "2024-03-01T08:45:32.299960Z",
     "iopub.status.busy": "2024-03-01T08:45:32.299394Z",
     "iopub.status.idle": "2024-03-01T08:45:32.307125Z",
     "shell.execute_reply": "2024-03-01T08:45:32.305653Z"
    },
    "papermill": {
     "duration": 0.060064,
     "end_time": "2024-03-01T08:45:32.309427",
     "exception": false,
     "start_time": "2024-03-01T08:45:32.249363",
     "status": "completed"
    },
    "tags": []
   },
   "outputs": [
    {
     "name": "stdout",
     "output_type": "stream",
     "text": [
      "Inital value on index 3 and index 4: tensor([3, 0])\n",
      "Modified tensor: tensor([100,   1,   2, 300, 400])\n"
     ]
    }
   ],
   "source": [
    "# Change the values on index 3 and index 4\n",
    "\n",
    "print(\"Inital value on index 3 and index 4:\", tensor_sample[3:5])\n",
    "tensor_sample[3:5] = torch.tensor([300.0, 400.0])\n",
    "print(\"Modified tensor:\", tensor_sample)"
   ]
  },
  {
   "cell_type": "markdown",
   "id": "5b8b2c37",
   "metadata": {
    "papermill": {
     "duration": 0.049728,
     "end_time": "2024-03-01T08:45:32.408302",
     "exception": false,
     "start_time": "2024-03-01T08:45:32.358574",
     "status": "completed"
    },
    "tags": []
   },
   "source": [
    "The values on both index 3 and index 4 were changed. The values on other indexes remain the same.\n"
   ]
  },
  {
   "cell_type": "markdown",
   "id": "2501e2d5",
   "metadata": {
    "papermill": {
     "duration": 0.049198,
     "end_time": "2024-03-01T08:45:32.505724",
     "exception": false,
     "start_time": "2024-03-01T08:45:32.456526",
     "status": "completed"
    },
    "tags": []
   },
   "source": [
    "<!--Empty Space for separating topics-->\n"
   ]
  },
  {
   "cell_type": "markdown",
   "id": "da274aa7",
   "metadata": {
    "papermill": {
     "duration": 0.048263,
     "end_time": "2024-03-01T08:45:32.602354",
     "exception": false,
     "start_time": "2024-03-01T08:45:32.554091",
     "status": "completed"
    },
    "tags": []
   },
   "source": [
    "You can also use a variable to contain the selected indexes and pass that variable to a tensor slice operation as a parameter, for example:  \n"
   ]
  },
  {
   "cell_type": "code",
   "execution_count": 29,
   "id": "328e7907",
   "metadata": {
    "execution": {
     "iopub.execute_input": "2024-03-01T08:45:32.702080Z",
     "iopub.status.busy": "2024-03-01T08:45:32.701680Z",
     "iopub.status.idle": "2024-03-01T08:45:32.709799Z",
     "shell.execute_reply": "2024-03-01T08:45:32.708781Z"
    },
    "papermill": {
     "duration": 0.05968,
     "end_time": "2024-03-01T08:45:32.711916",
     "exception": false,
     "start_time": "2024-03-01T08:45:32.652236",
     "status": "completed"
    },
    "tags": []
   },
   "outputs": [
    {
     "name": "stdout",
     "output_type": "stream",
     "text": [
      "The inital tensor_sample tensor([100,   1,   2, 300, 400])\n",
      "The subset of tensor_sample with the values on index 3 and 4:  tensor([300, 400])\n"
     ]
    }
   ],
   "source": [
    "# Using variable to contain the selected index, and pass it to slice operation\n",
    "\n",
    "selected_indexes = [3, 4]\n",
    "subset_tensor_sample = tensor_sample[selected_indexes]\n",
    "print(\"The inital tensor_sample\", tensor_sample)\n",
    "print(\"The subset of tensor_sample with the values on index 3 and 4: \", subset_tensor_sample)"
   ]
  },
  {
   "cell_type": "markdown",
   "id": "610bcfbf",
   "metadata": {
    "papermill": {
     "duration": 0.047492,
     "end_time": "2024-03-01T08:45:32.807680",
     "exception": false,
     "start_time": "2024-03-01T08:45:32.760188",
     "status": "completed"
    },
    "tags": []
   },
   "source": [
    "<!--Empty Space for separating topics-->\n"
   ]
  },
  {
   "cell_type": "markdown",
   "id": "d93374ba",
   "metadata": {
    "papermill": {
     "duration": 0.048934,
     "end_time": "2024-03-01T08:45:32.906668",
     "exception": false,
     "start_time": "2024-03-01T08:45:32.857734",
     "status": "completed"
    },
    "tags": []
   },
   "source": [
    "You can also assign one value to the selected indexes by using the variable. For example, assign 100,000 to all the <code>selected_indexes</code>:\n"
   ]
  },
  {
   "cell_type": "code",
   "execution_count": 30,
   "id": "3d7d1724",
   "metadata": {
    "execution": {
     "iopub.execute_input": "2024-03-01T08:45:33.005952Z",
     "iopub.status.busy": "2024-03-01T08:45:33.005565Z",
     "iopub.status.idle": "2024-03-01T08:45:33.014524Z",
     "shell.execute_reply": "2024-03-01T08:45:33.013330Z"
    },
    "papermill": {
     "duration": 0.062072,
     "end_time": "2024-03-01T08:45:33.016793",
     "exception": false,
     "start_time": "2024-03-01T08:45:32.954721",
     "status": "completed"
    },
    "tags": []
   },
   "outputs": [
    {
     "name": "stdout",
     "output_type": "stream",
     "text": [
      "The inital tensor_sample tensor([100,   1,   2, 300, 400])\n",
      "Modified tensor with one value:  tensor([   100, 100000,      2, 100000,    400])\n"
     ]
    }
   ],
   "source": [
    "#Using variable to assign the value to the selected indexes\n",
    "\n",
    "print(\"The inital tensor_sample\", tensor_sample)\n",
    "selected_indexes = [1, 3]\n",
    "tensor_sample[selected_indexes] = 100000\n",
    "print(\"Modified tensor with one value: \", tensor_sample)"
   ]
  },
  {
   "cell_type": "markdown",
   "id": "e601225f",
   "metadata": {
    "papermill": {
     "duration": 0.048211,
     "end_time": "2024-03-01T08:45:33.113722",
     "exception": false,
     "start_time": "2024-03-01T08:45:33.065511",
     "status": "completed"
    },
    "tags": []
   },
   "source": [
    "The values on index 1 and index 3 were changed to 100,000. Others remain the same.\n"
   ]
  },
  {
   "cell_type": "markdown",
   "id": "940dc9a1",
   "metadata": {
    "papermill": {
     "duration": 0.048501,
     "end_time": "2024-03-01T08:45:33.210866",
     "exception": false,
     "start_time": "2024-03-01T08:45:33.162365",
     "status": "completed"
    },
    "tags": []
   },
   "source": [
    "<b>Note: You can use only one value for the assignment.</b>\n"
   ]
  },
  {
   "cell_type": "markdown",
   "id": "343051cd",
   "metadata": {
    "papermill": {
     "duration": 0.048698,
     "end_time": "2024-03-01T08:45:33.308848",
     "exception": false,
     "start_time": "2024-03-01T08:45:33.260150",
     "status": "completed"
    },
    "tags": []
   },
   "source": [
    "<!--Empty Space for separating topics-->\n"
   ]
  },
  {
   "cell_type": "markdown",
   "id": "579b756a",
   "metadata": {
    "papermill": {
     "duration": 0.048811,
     "end_time": "2024-03-01T08:45:33.406047",
     "exception": false,
     "start_time": "2024-03-01T08:45:33.357236",
     "status": "completed"
    },
    "tags": []
   },
   "source": [
    "<h3>Practice</h3>\n"
   ]
  },
  {
   "cell_type": "markdown",
   "id": "d40899f1",
   "metadata": {
    "papermill": {
     "duration": 0.047638,
     "end_time": "2024-03-01T08:45:33.501586",
     "exception": false,
     "start_time": "2024-03-01T08:45:33.453948",
     "status": "completed"
    },
    "tags": []
   },
   "source": [
    "Try to change the values on index 3, 4, 7 of the following tensor to 0.\n"
   ]
  },
  {
   "cell_type": "code",
   "execution_count": 31,
   "id": "e66d5095",
   "metadata": {
    "execution": {
     "iopub.execute_input": "2024-03-01T08:45:33.598985Z",
     "iopub.status.busy": "2024-03-01T08:45:33.598328Z",
     "iopub.status.idle": "2024-03-01T08:45:33.604876Z",
     "shell.execute_reply": "2024-03-01T08:45:33.604027Z"
    },
    "papermill": {
     "duration": 0.057362,
     "end_time": "2024-03-01T08:45:33.606890",
     "exception": false,
     "start_time": "2024-03-01T08:45:33.549528",
     "status": "completed"
    },
    "tags": []
   },
   "outputs": [
    {
     "name": "stdout",
     "output_type": "stream",
     "text": [
      "New Practice Tensor:  tensor([2, 7, 3, 0, 0, 2, 3, 0, 2])\n"
     ]
    }
   ],
   "source": [
    "# Practice: Change the values on index 3, 4, 7 to 0\n",
    "\n",
    "practice_tensor = torch.tensor([2, 7, 3, 4, 6, 2, 3, 1, 2])\n",
    "selected_indexes = [3, 4, 7]\n",
    "practice_tensor[selected_indexes] = 0\n",
    "print(\"New Practice Tensor: \", practice_tensor)"
   ]
  },
  {
   "cell_type": "markdown",
   "id": "82bbcf5d",
   "metadata": {
    "papermill": {
     "duration": 0.048423,
     "end_time": "2024-03-01T08:45:33.703872",
     "exception": false,
     "start_time": "2024-03-01T08:45:33.655449",
     "status": "completed"
    },
    "tags": []
   },
   "source": [
    "<!--Empty Space for separating topics-->\n"
   ]
  },
  {
   "cell_type": "markdown",
   "id": "e2bd9083",
   "metadata": {
    "papermill": {
     "duration": 0.048009,
     "end_time": "2024-03-01T08:45:33.800065",
     "exception": false,
     "start_time": "2024-03-01T08:45:33.752056",
     "status": "completed"
    },
    "tags": []
   },
   "source": [
    "<h2 id=\"Tensor_Func\">Tensor Functions</h2>\n"
   ]
  },
  {
   "cell_type": "markdown",
   "id": "b57a2978",
   "metadata": {
    "papermill": {
     "duration": 0.048524,
     "end_time": "2024-03-01T08:45:33.897422",
     "exception": false,
     "start_time": "2024-03-01T08:45:33.848898",
     "status": "completed"
    },
    "tags": []
   },
   "source": [
    "For this section, you'll work with some methods that you can apply to tensor objects.\n"
   ]
  },
  {
   "cell_type": "markdown",
   "id": "ef722cf7",
   "metadata": {
    "papermill": {
     "duration": 0.047834,
     "end_time": "2024-03-01T08:45:33.997410",
     "exception": false,
     "start_time": "2024-03-01T08:45:33.949576",
     "status": "completed"
    },
    "tags": []
   },
   "source": [
    "<h3>Mean and Standard Deviation</h3>\n"
   ]
  },
  {
   "cell_type": "markdown",
   "id": "de282f8f",
   "metadata": {
    "papermill": {
     "duration": 0.047878,
     "end_time": "2024-03-01T08:45:34.093898",
     "exception": false,
     "start_time": "2024-03-01T08:45:34.046020",
     "status": "completed"
    },
    "tags": []
   },
   "source": [
    "You'll review the mean and standard deviation methods first. They are two basic statistical methods.\n"
   ]
  },
  {
   "cell_type": "markdown",
   "id": "bc316446",
   "metadata": {
    "papermill": {
     "duration": 0.047736,
     "end_time": "2024-03-01T08:45:34.190468",
     "exception": false,
     "start_time": "2024-03-01T08:45:34.142732",
     "status": "completed"
    },
    "tags": []
   },
   "source": [
    "<!--Empty Space for separating topics-->\n"
   ]
  },
  {
   "cell_type": "markdown",
   "id": "5d7d4ee7",
   "metadata": {
    "papermill": {
     "duration": 0.048878,
     "end_time": "2024-03-01T08:45:34.287446",
     "exception": false,
     "start_time": "2024-03-01T08:45:34.238568",
     "status": "completed"
    },
    "tags": []
   },
   "source": [
    "Create a tensor with values <i>[1.0, -1, 1, -1]</i>:\n"
   ]
  },
  {
   "cell_type": "code",
   "execution_count": 32,
   "id": "35991ec5",
   "metadata": {
    "execution": {
     "iopub.execute_input": "2024-03-01T08:45:34.390802Z",
     "iopub.status.busy": "2024-03-01T08:45:34.390372Z",
     "iopub.status.idle": "2024-03-01T08:45:34.397105Z",
     "shell.execute_reply": "2024-03-01T08:45:34.396030Z"
    },
    "papermill": {
     "duration": 0.060112,
     "end_time": "2024-03-01T08:45:34.399277",
     "exception": false,
     "start_time": "2024-03-01T08:45:34.339165",
     "status": "completed"
    },
    "tags": []
   },
   "outputs": [
    {
     "name": "stdout",
     "output_type": "stream",
     "text": [
      "Tensor example:  tensor([ 1., -1.,  1., -1.])\n"
     ]
    }
   ],
   "source": [
    "# Sample tensor for mathmatic calculation methods on tensor\n",
    "\n",
    "math_tensor = torch.tensor([1.0, -1.0, 1, -1])\n",
    "print(\"Tensor example: \", math_tensor)"
   ]
  },
  {
   "cell_type": "markdown",
   "id": "d121872f",
   "metadata": {
    "papermill": {
     "duration": 0.063444,
     "end_time": "2024-03-01T08:45:34.522966",
     "exception": false,
     "start_time": "2024-03-01T08:45:34.459522",
     "status": "completed"
    },
    "tags": []
   },
   "source": [
    "<!--Empty Space for separating topics-->\n"
   ]
  },
  {
   "cell_type": "markdown",
   "id": "90031675",
   "metadata": {
    "papermill": {
     "duration": 0.048172,
     "end_time": "2024-03-01T08:45:34.619540",
     "exception": false,
     "start_time": "2024-03-01T08:45:34.571368",
     "status": "completed"
    },
    "tags": []
   },
   "source": [
    "Here is the mean method:  \n"
   ]
  },
  {
   "cell_type": "code",
   "execution_count": 33,
   "id": "4296bdc9",
   "metadata": {
    "execution": {
     "iopub.execute_input": "2024-03-01T08:45:34.717987Z",
     "iopub.status.busy": "2024-03-01T08:45:34.717569Z",
     "iopub.status.idle": "2024-03-01T08:45:34.727802Z",
     "shell.execute_reply": "2024-03-01T08:45:34.727047Z"
    },
    "papermill": {
     "duration": 0.062178,
     "end_time": "2024-03-01T08:45:34.730135",
     "exception": false,
     "start_time": "2024-03-01T08:45:34.667957",
     "status": "completed"
    },
    "tags": []
   },
   "outputs": [
    {
     "name": "stdout",
     "output_type": "stream",
     "text": [
      "The mean of math_tensor:  tensor(0.)\n"
     ]
    }
   ],
   "source": [
    "#Calculate the mean for math_tensor\n",
    "\n",
    "mean = math_tensor.mean()\n",
    "print(\"The mean of math_tensor: \", mean)"
   ]
  },
  {
   "cell_type": "markdown",
   "id": "de1cc84c",
   "metadata": {
    "papermill": {
     "duration": 0.048908,
     "end_time": "2024-03-01T08:45:34.828012",
     "exception": false,
     "start_time": "2024-03-01T08:45:34.779104",
     "status": "completed"
    },
    "tags": []
   },
   "source": [
    "<!--Empty Space for separating topics-->\n"
   ]
  },
  {
   "cell_type": "markdown",
   "id": "afd250a4",
   "metadata": {
    "papermill": {
     "duration": 0.048252,
     "end_time": "2024-03-01T08:45:34.925165",
     "exception": false,
     "start_time": "2024-03-01T08:45:34.876913",
     "status": "completed"
    },
    "tags": []
   },
   "source": [
    "The standard deviation can also be calculated by using <code><i>tensor_obj</i>.std()</code>:\n"
   ]
  },
  {
   "cell_type": "code",
   "execution_count": 34,
   "id": "2a87276c",
   "metadata": {
    "execution": {
     "iopub.execute_input": "2024-03-01T08:45:35.024405Z",
     "iopub.status.busy": "2024-03-01T08:45:35.024012Z",
     "iopub.status.idle": "2024-03-01T08:45:35.030537Z",
     "shell.execute_reply": "2024-03-01T08:45:35.029421Z"
    },
    "papermill": {
     "duration": 0.058746,
     "end_time": "2024-03-01T08:45:35.032532",
     "exception": false,
     "start_time": "2024-03-01T08:45:34.973786",
     "status": "completed"
    },
    "tags": []
   },
   "outputs": [
    {
     "name": "stdout",
     "output_type": "stream",
     "text": [
      "The standard deviation of math_tensor:  tensor(1.1547)\n"
     ]
    }
   ],
   "source": [
    "#Calculate the standard deviation for math_tensor\n",
    "\n",
    "standard_deviation = math_tensor.std()\n",
    "print(\"The standard deviation of math_tensor: \", standard_deviation)"
   ]
  },
  {
   "cell_type": "markdown",
   "id": "6e1c0318",
   "metadata": {
    "papermill": {
     "duration": 0.048049,
     "end_time": "2024-03-01T08:45:35.128959",
     "exception": false,
     "start_time": "2024-03-01T08:45:35.080910",
     "status": "completed"
    },
    "tags": []
   },
   "source": [
    "<!--Empty Space for separating topics-->\n"
   ]
  },
  {
   "cell_type": "markdown",
   "id": "d157113e",
   "metadata": {
    "papermill": {
     "duration": 0.048009,
     "end_time": "2024-03-01T08:45:35.225323",
     "exception": false,
     "start_time": "2024-03-01T08:45:35.177314",
     "status": "completed"
    },
    "tags": []
   },
   "source": [
    "<h3>Max and Min</h3>\n"
   ]
  },
  {
   "cell_type": "markdown",
   "id": "db2dd1ea",
   "metadata": {
    "papermill": {
     "duration": 0.04865,
     "end_time": "2024-03-01T08:45:35.323067",
     "exception": false,
     "start_time": "2024-03-01T08:45:35.274417",
     "status": "completed"
    },
    "tags": []
   },
   "source": [
    "Now, you'll review another two useful methods: <code><i>tensor_obj</i>.max()</code> and <code><i>tensor_obj</i>.min()</code>. These two methods are used for finding the maximum value and the minimum value in the tensor.\n"
   ]
  },
  {
   "cell_type": "markdown",
   "id": "f218345f",
   "metadata": {
    "papermill": {
     "duration": 0.049971,
     "end_time": "2024-03-01T08:45:35.422158",
     "exception": false,
     "start_time": "2024-03-01T08:45:35.372187",
     "status": "completed"
    },
    "tags": []
   },
   "source": [
    "<!--Empty Space for separating topics-->\n"
   ]
  },
  {
   "cell_type": "markdown",
   "id": "79398d6c",
   "metadata": {
    "papermill": {
     "duration": 0.048091,
     "end_time": "2024-03-01T08:45:35.518601",
     "exception": false,
     "start_time": "2024-03-01T08:45:35.470510",
     "status": "completed"
    },
    "tags": []
   },
   "source": [
    "Create a <code>max_min_tensor</code>: \n"
   ]
  },
  {
   "cell_type": "code",
   "execution_count": 35,
   "id": "3467111a",
   "metadata": {
    "execution": {
     "iopub.execute_input": "2024-03-01T08:45:35.617449Z",
     "iopub.status.busy": "2024-03-01T08:45:35.617077Z",
     "iopub.status.idle": "2024-03-01T08:45:35.622897Z",
     "shell.execute_reply": "2024-03-01T08:45:35.621770Z"
    },
    "papermill": {
     "duration": 0.057775,
     "end_time": "2024-03-01T08:45:35.625107",
     "exception": false,
     "start_time": "2024-03-01T08:45:35.567332",
     "status": "completed"
    },
    "tags": []
   },
   "outputs": [
    {
     "name": "stdout",
     "output_type": "stream",
     "text": [
      "Tensor example:  tensor([1, 1, 3, 5, 5])\n"
     ]
    }
   ],
   "source": [
    "# Sample for introducing max and min methods\n",
    "\n",
    "max_min_tensor = torch.tensor([1, 1, 3, 5, 5])\n",
    "print(\"Tensor example: \", max_min_tensor)"
   ]
  },
  {
   "cell_type": "markdown",
   "id": "777d29c7",
   "metadata": {
    "papermill": {
     "duration": 0.048585,
     "end_time": "2024-03-01T08:45:35.722084",
     "exception": false,
     "start_time": "2024-03-01T08:45:35.673499",
     "status": "completed"
    },
    "tags": []
   },
   "source": [
    "<b>Note: There are two minimum numbers as 1 and two maximum numbers as 5 in the tensor. Can you guess how PyTorch is going to deal with the duplicates?</b>\n"
   ]
  },
  {
   "cell_type": "markdown",
   "id": "4bc252b3",
   "metadata": {
    "papermill": {
     "duration": 0.048786,
     "end_time": "2024-03-01T08:45:35.819307",
     "exception": false,
     "start_time": "2024-03-01T08:45:35.770521",
     "status": "completed"
    },
    "tags": []
   },
   "source": [
    "<!--Empty Space for separating topics-->\n"
   ]
  },
  {
   "cell_type": "markdown",
   "id": "19bd88b9",
   "metadata": {
    "papermill": {
     "duration": 0.048068,
     "end_time": "2024-03-01T08:45:35.916295",
     "exception": false,
     "start_time": "2024-03-01T08:45:35.868227",
     "status": "completed"
    },
    "tags": []
   },
   "source": [
    "Apply <code><i>tensor_obj</i>.max()</code> on <code>max_min_tensor</code>:\n"
   ]
  },
  {
   "cell_type": "code",
   "execution_count": 36,
   "id": "47564ef8",
   "metadata": {
    "execution": {
     "iopub.execute_input": "2024-03-01T08:45:36.015390Z",
     "iopub.status.busy": "2024-03-01T08:45:36.014309Z",
     "iopub.status.idle": "2024-03-01T08:45:36.020665Z",
     "shell.execute_reply": "2024-03-01T08:45:36.019613Z"
    },
    "papermill": {
     "duration": 0.058781,
     "end_time": "2024-03-01T08:45:36.023429",
     "exception": false,
     "start_time": "2024-03-01T08:45:35.964648",
     "status": "completed"
    },
    "tags": []
   },
   "outputs": [
    {
     "name": "stdout",
     "output_type": "stream",
     "text": [
      "Maximum number in the tensor:  tensor(5)\n"
     ]
    }
   ],
   "source": [
    "# Method for finding the maximum value in the tensor\n",
    "\n",
    "max_val = max_min_tensor.max()\n",
    "print(\"Maximum number in the tensor: \", max_val)"
   ]
  },
  {
   "cell_type": "markdown",
   "id": "57547a89",
   "metadata": {
    "papermill": {
     "duration": 0.048597,
     "end_time": "2024-03-01T08:45:36.122013",
     "exception": false,
     "start_time": "2024-03-01T08:45:36.073416",
     "status": "completed"
    },
    "tags": []
   },
   "source": [
    "The answer is <code>tensor(5)</code>. Therefore, the method <code><i>tensor_obj</i>.max()</code> is grabbing the maximum value but not the elements that contain the maximum value in the tensor.\n"
   ]
  },
  {
   "cell_type": "code",
   "execution_count": 37,
   "id": "357786dd",
   "metadata": {
    "execution": {
     "iopub.execute_input": "2024-03-01T08:45:36.221647Z",
     "iopub.status.busy": "2024-03-01T08:45:36.221287Z",
     "iopub.status.idle": "2024-03-01T08:45:36.228145Z",
     "shell.execute_reply": "2024-03-01T08:45:36.227023Z"
    },
    "papermill": {
     "duration": 0.059076,
     "end_time": "2024-03-01T08:45:36.230212",
     "exception": false,
     "start_time": "2024-03-01T08:45:36.171136",
     "status": "completed"
    },
    "tags": []
   },
   "outputs": [
    {
     "data": {
      "text/plain": [
       "tensor(5)"
      ]
     },
     "execution_count": 37,
     "metadata": {},
     "output_type": "execute_result"
    }
   ],
   "source": [
    " max_min_tensor.max()"
   ]
  },
  {
   "cell_type": "markdown",
   "id": "77e88298",
   "metadata": {
    "papermill": {
     "duration": 0.049728,
     "end_time": "2024-03-01T08:45:36.328847",
     "exception": false,
     "start_time": "2024-03-01T08:45:36.279119",
     "status": "completed"
    },
    "tags": []
   },
   "source": [
    "<!--Empty Space for separating topics-->\n"
   ]
  },
  {
   "cell_type": "markdown",
   "id": "df6e90c5",
   "metadata": {
    "papermill": {
     "duration": 0.049985,
     "end_time": "2024-03-01T08:45:36.427661",
     "exception": false,
     "start_time": "2024-03-01T08:45:36.377676",
     "status": "completed"
    },
    "tags": []
   },
   "source": [
    "Use <code><i>tensor_obj</i>.min()</code> on <code>max_min_tensor</code>:\n"
   ]
  },
  {
   "cell_type": "code",
   "execution_count": 38,
   "id": "b4435c6d",
   "metadata": {
    "execution": {
     "iopub.execute_input": "2024-03-01T08:45:36.527083Z",
     "iopub.status.busy": "2024-03-01T08:45:36.526699Z",
     "iopub.status.idle": "2024-03-01T08:45:36.532553Z",
     "shell.execute_reply": "2024-03-01T08:45:36.531567Z"
    },
    "papermill": {
     "duration": 0.058522,
     "end_time": "2024-03-01T08:45:36.534999",
     "exception": false,
     "start_time": "2024-03-01T08:45:36.476477",
     "status": "completed"
    },
    "tags": []
   },
   "outputs": [
    {
     "name": "stdout",
     "output_type": "stream",
     "text": [
      "Minimum number in the tensor:  tensor(1)\n"
     ]
    }
   ],
   "source": [
    "# Method for finding the minimum value in the tensor\n",
    "\n",
    "min_val = max_min_tensor.min()\n",
    "print(\"Minimum number in the tensor: \", min_val)"
   ]
  },
  {
   "cell_type": "markdown",
   "id": "f183f586",
   "metadata": {
    "papermill": {
     "duration": 0.048509,
     "end_time": "2024-03-01T08:45:36.632948",
     "exception": false,
     "start_time": "2024-03-01T08:45:36.584439",
     "status": "completed"
    },
    "tags": []
   },
   "source": [
    "The answer is <code>tensor(1)</code>. Therefore, the method <code><i>tensor_obj</i>.min()</code> is grabbing the minimum value but not the elements that contain the minimum value in the tensor.\n"
   ]
  },
  {
   "cell_type": "markdown",
   "id": "0462a6b8",
   "metadata": {
    "papermill": {
     "duration": 0.048695,
     "end_time": "2024-03-01T08:45:36.731194",
     "exception": false,
     "start_time": "2024-03-01T08:45:36.682499",
     "status": "completed"
    },
    "tags": []
   },
   "source": [
    "<!--Empty Space for separating topics-->\n"
   ]
  },
  {
   "cell_type": "markdown",
   "id": "79650d45",
   "metadata": {
    "papermill": {
     "duration": 0.049003,
     "end_time": "2024-03-01T08:45:36.828992",
     "exception": false,
     "start_time": "2024-03-01T08:45:36.779989",
     "status": "completed"
    },
    "tags": []
   },
   "source": [
    "<h3>Sin</h3>\n"
   ]
  },
  {
   "cell_type": "markdown",
   "id": "684c5ce8",
   "metadata": {
    "papermill": {
     "duration": 0.04897,
     "end_time": "2024-03-01T08:45:36.927029",
     "exception": false,
     "start_time": "2024-03-01T08:45:36.878059",
     "status": "completed"
    },
    "tags": []
   },
   "source": [
    "Sin is the trigonometric function of an angle. Again, you will not be introducedvto any mathematic functions. You'll focus on Python.\n"
   ]
  },
  {
   "cell_type": "markdown",
   "id": "f665a4d2",
   "metadata": {
    "papermill": {
     "duration": 0.049315,
     "end_time": "2024-03-01T08:45:37.025440",
     "exception": false,
     "start_time": "2024-03-01T08:45:36.976125",
     "status": "completed"
    },
    "tags": []
   },
   "source": [
    "<!--Empty Space for separating topics-->\n"
   ]
  },
  {
   "cell_type": "markdown",
   "id": "61b47853",
   "metadata": {
    "papermill": {
     "duration": 0.048983,
     "end_time": "2024-03-01T08:45:37.124107",
     "exception": false,
     "start_time": "2024-03-01T08:45:37.075124",
     "status": "completed"
    },
    "tags": []
   },
   "source": [
    "Create a tensor with 0, π/2 and π. Then, apply the sin function on the tensor. Notice here that the <code>sin()</code> is not a method of tensor object but is a function of torch:\n"
   ]
  },
  {
   "cell_type": "code",
   "execution_count": 39,
   "id": "7d424484",
   "metadata": {
    "execution": {
     "iopub.execute_input": "2024-03-01T08:45:37.224014Z",
     "iopub.status.busy": "2024-03-01T08:45:37.223372Z",
     "iopub.status.idle": "2024-03-01T08:45:37.237272Z",
     "shell.execute_reply": "2024-03-01T08:45:37.235952Z"
    },
    "papermill": {
     "duration": 0.065854,
     "end_time": "2024-03-01T08:45:37.239475",
     "exception": false,
     "start_time": "2024-03-01T08:45:37.173621",
     "status": "completed"
    },
    "tags": []
   },
   "outputs": [
    {
     "name": "stdout",
     "output_type": "stream",
     "text": [
      "The sin result of pi_tensor:  tensor([ 0.0000e+00,  1.0000e+00, -8.7423e-08])\n"
     ]
    }
   ],
   "source": [
    "# Method for calculating the sin result of each element in the tensor\n",
    "\n",
    "pi_tensor = torch.tensor([0, np.pi/2, np.pi])\n",
    "sin = torch.sin(pi_tensor)\n",
    "print(\"The sin result of pi_tensor: \", sin)"
   ]
  },
  {
   "cell_type": "markdown",
   "id": "f9f95eb8",
   "metadata": {
    "papermill": {
     "duration": 0.049653,
     "end_time": "2024-03-01T08:45:37.339033",
     "exception": false,
     "start_time": "2024-03-01T08:45:37.289380",
     "status": "completed"
    },
    "tags": []
   },
   "source": [
    "The resultant tensor <code>sin</code> contains the result of the <code>sin</code> function applied to each element in the <code>pi_tensor</code>.<br>\n",
    "This is different from the previous methods. For <code><i>tensor_obj</i>.mean()</code>, <code><i>tensor_obj</i>.std()</code>, <code><i>tensor_obj</i>.max()</code>, and <code><i>tensor_obj</i>.min()</code>, the result is a tensor with only one number because these are aggregate methods.<br>\n",
    "However, the <code>torch.sin()</code> is not. Therefore, the resultant tensors have the same length as the input tensor.\n"
   ]
  },
  {
   "cell_type": "markdown",
   "id": "718dff26",
   "metadata": {
    "papermill": {
     "duration": 0.048703,
     "end_time": "2024-03-01T08:45:37.439322",
     "exception": false,
     "start_time": "2024-03-01T08:45:37.390619",
     "status": "completed"
    },
    "tags": []
   },
   "source": [
    "<!--Empty Space for separating topics-->\n"
   ]
  },
  {
   "cell_type": "markdown",
   "id": "bc55aaa9",
   "metadata": {
    "papermill": {
     "duration": 0.048656,
     "end_time": "2024-03-01T08:45:37.536880",
     "exception": false,
     "start_time": "2024-03-01T08:45:37.488224",
     "status": "completed"
    },
    "tags": []
   },
   "source": [
    "<h3>Create Tensor by <code>torch.linspace()</code></h3>\n"
   ]
  },
  {
   "cell_type": "markdown",
   "id": "d76d8796",
   "metadata": {
    "papermill": {
     "duration": 0.048497,
     "end_time": "2024-03-01T08:45:37.634506",
     "exception": false,
     "start_time": "2024-03-01T08:45:37.586009",
     "status": "completed"
    },
    "tags": []
   },
   "source": [
    "A useful function for plotting mathematical functions is <code>torch.linspace()</code>. <code>torch.linspace()</code> returns evenly spaced numbers over a specified interval. You specify the starting point of the sequence and the ending point of the sequence. The parameter <code>steps</code> indicates the number of samples to generate. Now, you'll work with <code>steps = 5</code>.\n"
   ]
  },
  {
   "cell_type": "code",
   "execution_count": 40,
   "id": "7c2d6b10",
   "metadata": {
    "execution": {
     "iopub.execute_input": "2024-03-01T08:45:37.734022Z",
     "iopub.status.busy": "2024-03-01T08:45:37.733612Z",
     "iopub.status.idle": "2024-03-01T08:45:37.745062Z",
     "shell.execute_reply": "2024-03-01T08:45:37.743729Z"
    },
    "papermill": {
     "duration": 0.064009,
     "end_time": "2024-03-01T08:45:37.747384",
     "exception": false,
     "start_time": "2024-03-01T08:45:37.683375",
     "status": "completed"
    },
    "tags": []
   },
   "outputs": [
    {
     "name": "stdout",
     "output_type": "stream",
     "text": [
      "First Try on linspace tensor([-2., -1.,  0.,  1.,  2.])\n"
     ]
    }
   ],
   "source": [
    "# First try on using linspace to create tensor\n",
    "\n",
    "len_5_tensor = torch.linspace(-2, 2, steps = 5)\n",
    "print (\"First Try on linspace\", len_5_tensor)"
   ]
  },
  {
   "cell_type": "markdown",
   "id": "7671d0c1",
   "metadata": {
    "papermill": {
     "duration": 0.048858,
     "end_time": "2024-03-01T08:45:37.846079",
     "exception": false,
     "start_time": "2024-03-01T08:45:37.797221",
     "status": "completed"
    },
    "tags": []
   },
   "source": [
    "<!--Empty Space for separating topics-->\n"
   ]
  },
  {
   "cell_type": "markdown",
   "id": "888cb1bf",
   "metadata": {
    "papermill": {
     "duration": 0.048973,
     "end_time": "2024-03-01T08:45:37.944073",
     "exception": false,
     "start_time": "2024-03-01T08:45:37.895100",
     "status": "completed"
    },
    "tags": []
   },
   "source": [
    "Assign <code>steps</code> with 9:\n"
   ]
  },
  {
   "cell_type": "code",
   "execution_count": 41,
   "id": "f15d92b5",
   "metadata": {
    "execution": {
     "iopub.execute_input": "2024-03-01T08:45:38.044288Z",
     "iopub.status.busy": "2024-03-01T08:45:38.043916Z",
     "iopub.status.idle": "2024-03-01T08:45:38.050489Z",
     "shell.execute_reply": "2024-03-01T08:45:38.049460Z"
    },
    "papermill": {
     "duration": 0.059843,
     "end_time": "2024-03-01T08:45:38.052867",
     "exception": false,
     "start_time": "2024-03-01T08:45:37.993024",
     "status": "completed"
    },
    "tags": []
   },
   "outputs": [
    {
     "name": "stdout",
     "output_type": "stream",
     "text": [
      "Second Try on linspace tensor([-2.0000, -1.5000, -1.0000, -0.5000,  0.0000,  0.5000,  1.0000,  1.5000,\n",
      "         2.0000])\n"
     ]
    }
   ],
   "source": [
    "# Second try on using linspace to create tensor\n",
    "\n",
    "len_9_tensor = torch.linspace(-2, 2, steps = 9)\n",
    "print (\"Second Try on linspace\", len_9_tensor)"
   ]
  },
  {
   "cell_type": "markdown",
   "id": "6cad939a",
   "metadata": {
    "papermill": {
     "duration": 0.04926,
     "end_time": "2024-03-01T08:45:38.152324",
     "exception": false,
     "start_time": "2024-03-01T08:45:38.103064",
     "status": "completed"
    },
    "tags": []
   },
   "source": [
    "<!--Empty Space for separating topics-->\n"
   ]
  },
  {
   "cell_type": "markdown",
   "id": "49b3547f",
   "metadata": {
    "papermill": {
     "duration": 0.049523,
     "end_time": "2024-03-01T08:45:38.251580",
     "exception": false,
     "start_time": "2024-03-01T08:45:38.202057",
     "status": "completed"
    },
    "tags": []
   },
   "source": [
    "Use both <code>torch.linspace()</code> and <code>torch.sin()</code> to construct a tensor that contains the 100 sin result in range from 0 (0 degree) to 2π (360 degree): \n"
   ]
  },
  {
   "cell_type": "code",
   "execution_count": 42,
   "id": "cfd13837",
   "metadata": {
    "execution": {
     "iopub.execute_input": "2024-03-01T08:45:38.353318Z",
     "iopub.status.busy": "2024-03-01T08:45:38.352948Z",
     "iopub.status.idle": "2024-03-01T08:45:38.359480Z",
     "shell.execute_reply": "2024-03-01T08:45:38.358643Z"
    },
    "papermill": {
     "duration": 0.05969,
     "end_time": "2024-03-01T08:45:38.361812",
     "exception": false,
     "start_time": "2024-03-01T08:45:38.302122",
     "status": "completed"
    },
    "tags": []
   },
   "outputs": [],
   "source": [
    "# Construct the tensor within 0 to 360 degree\n",
    "\n",
    "pi_tensor = torch.linspace(0, 2*np.pi, 100)\n",
    "sin_result = torch.sin(pi_tensor)"
   ]
  },
  {
   "cell_type": "markdown",
   "id": "bc47cff8",
   "metadata": {
    "papermill": {
     "duration": 0.04855,
     "end_time": "2024-03-01T08:45:38.460721",
     "exception": false,
     "start_time": "2024-03-01T08:45:38.412171",
     "status": "completed"
    },
    "tags": []
   },
   "source": [
    "Plot the result to get a clearer picture. You must cast the tensor to a numpy array before plotting it.\n"
   ]
  },
  {
   "cell_type": "code",
   "execution_count": 43,
   "id": "6ad9458a",
   "metadata": {
    "execution": {
     "iopub.execute_input": "2024-03-01T08:45:38.561028Z",
     "iopub.status.busy": "2024-03-01T08:45:38.560215Z",
     "iopub.status.idle": "2024-03-01T08:45:38.881548Z",
     "shell.execute_reply": "2024-03-01T08:45:38.880425Z"
    },
    "papermill": {
     "duration": 0.374688,
     "end_time": "2024-03-01T08:45:38.884128",
     "exception": false,
     "start_time": "2024-03-01T08:45:38.509440",
     "status": "completed"
    },
    "tags": []
   },
   "outputs": [
    {
     "data": {
      "text/plain": [
       "[<matplotlib.lines.Line2D at 0x7909a35d0730>]"
      ]
     },
     "execution_count": 43,
     "metadata": {},
     "output_type": "execute_result"
    },
    {
     "data": {
      "image/png": "[encoded data removed]",
      "text/plain": [
       "<Figure size 640x480 with 1 Axes>"
      ]
     },
     "metadata": {},
     "output_type": "display_data"
    }
   ],
   "source": [
    "# Plot sin_result\n",
    "\n",
    "plt.plot(pi_tensor.numpy(), sin_result.numpy())"
   ]
  },
  {
   "cell_type": "markdown",
   "id": "d13848d5",
   "metadata": {
    "papermill": {
     "duration": 0.051718,
     "end_time": "2024-03-01T08:45:38.985979",
     "exception": false,
     "start_time": "2024-03-01T08:45:38.934261",
     "status": "completed"
    },
    "tags": []
   },
   "source": [
    "If you know the trigonometric function, you will notice this is the diagram of the sin result in the range 0 to 360 degrees.\n"
   ]
  },
  {
   "cell_type": "markdown",
   "id": "55f753b6",
   "metadata": {
    "papermill": {
     "duration": 0.049923,
     "end_time": "2024-03-01T08:45:39.086302",
     "exception": false,
     "start_time": "2024-03-01T08:45:39.036379",
     "status": "completed"
    },
    "tags": []
   },
   "source": [
    "<!--Empty Space for separating topics-->\n"
   ]
  },
  {
   "cell_type": "markdown",
   "id": "7466bcf3",
   "metadata": {
    "papermill": {
     "duration": 0.049742,
     "end_time": "2024-03-01T08:45:39.186144",
     "exception": false,
     "start_time": "2024-03-01T08:45:39.136402",
     "status": "completed"
    },
    "tags": []
   },
   "source": [
    "<h3>Practice</h3>\n"
   ]
  },
  {
   "cell_type": "markdown",
   "id": "83de6842",
   "metadata": {
    "papermill": {
     "duration": 0.05204,
     "end_time": "2024-03-01T08:45:39.290055",
     "exception": false,
     "start_time": "2024-03-01T08:45:39.238015",
     "status": "completed"
    },
    "tags": []
   },
   "source": [
    "Construct a tensor with 25 steps in the range 0 to π/2. Print out the Maximum and Minimum number. Also, plot  a graph showing the diagram that shows the result.\n"
   ]
  },
  {
   "cell_type": "code",
   "execution_count": 44,
   "id": "b990b8b8",
   "metadata": {
    "execution": {
     "iopub.execute_input": "2024-03-01T08:45:39.394339Z",
     "iopub.status.busy": "2024-03-01T08:45:39.393646Z",
     "iopub.status.idle": "2024-03-01T08:45:39.676895Z",
     "shell.execute_reply": "2024-03-01T08:45:39.675709Z"
    },
    "papermill": {
     "duration": 0.338788,
     "end_time": "2024-03-01T08:45:39.679230",
     "exception": false,
     "start_time": "2024-03-01T08:45:39.340442",
     "status": "completed"
    },
    "tags": []
   },
   "outputs": [
    {
     "name": "stdout",
     "output_type": "stream",
     "text": [
      "Max Number:  tensor(1.5708)\n",
      "Min Number tensor(0.)\n"
     ]
    },
    {
     "data": {
      "text/plain": [
       "[<matplotlib.lines.Line2D at 0x7909a14a1450>]"
      ]
     },
     "execution_count": 44,
     "metadata": {},
     "output_type": "execute_result"
    },
    {
     "data": {
      "image/png": "[encoded data removed]",
      "text/plain": [
       "<Figure size 640x480 with 1 Axes>"
      ]
     },
     "metadata": {},
     "output_type": "display_data"
    }
   ],
   "source": [
    "# Create your tensor, print max and min number, plot the sin result diagram\n",
    "\n",
    "pi_tensor = torch.linspace(0, np.pi/2, 100)\n",
    "print(\"Max Number: \", pi_tensor.max())\n",
    "print(\"Min Number\", pi_tensor.min())\n",
    "sin_result = torch.sin(pi_tensor)\n",
    "plt.plot(pi_tensor.numpy(), sin_result.numpy())"
   ]
  },
  {
   "cell_type": "markdown",
   "id": "d9554f7e",
   "metadata": {
    "papermill": {
     "duration": 0.05064,
     "end_time": "2024-03-01T08:45:39.780811",
     "exception": false,
     "start_time": "2024-03-01T08:45:39.730171",
     "status": "completed"
    },
    "tags": []
   },
   "source": [
    "<!--Empty Space for separating topics-->\n"
   ]
  },
  {
   "cell_type": "markdown",
   "id": "23030116",
   "metadata": {
    "papermill": {
     "duration": 0.050284,
     "end_time": "2024-03-01T08:45:39.882385",
     "exception": false,
     "start_time": "2024-03-01T08:45:39.832101",
     "status": "completed"
    },
    "tags": []
   },
   "source": [
    "<h2 id=\"Tensor_Op\">Tensor Operations</h2>\n"
   ]
  },
  {
   "cell_type": "markdown",
   "id": "88d0e5f0",
   "metadata": {
    "papermill": {
     "duration": 0.050016,
     "end_time": "2024-03-01T08:45:39.982828",
     "exception": false,
     "start_time": "2024-03-01T08:45:39.932812",
     "status": "completed"
    },
    "tags": []
   },
   "source": [
    "In the following section, you'll work with operations that you can apply to a tensor.\n"
   ]
  },
  {
   "cell_type": "markdown",
   "id": "4967090b",
   "metadata": {
    "papermill": {
     "duration": 0.050988,
     "end_time": "2024-03-01T08:45:40.084171",
     "exception": false,
     "start_time": "2024-03-01T08:45:40.033183",
     "status": "completed"
    },
    "tags": []
   },
   "source": [
    "<!--Empty Space for separating topics-->\n"
   ]
  },
  {
   "cell_type": "markdown",
   "id": "c8ab5efa",
   "metadata": {
    "papermill": {
     "duration": 0.050174,
     "end_time": "2024-03-01T08:45:40.184845",
     "exception": false,
     "start_time": "2024-03-01T08:45:40.134671",
     "status": "completed"
    },
    "tags": []
   },
   "source": [
    "<h3>Tensor Addition</h3>\n"
   ]
  },
  {
   "cell_type": "markdown",
   "id": "e48e3384",
   "metadata": {
    "papermill": {
     "duration": 0.049945,
     "end_time": "2024-03-01T08:45:40.285104",
     "exception": false,
     "start_time": "2024-03-01T08:45:40.235159",
     "status": "completed"
    },
    "tags": []
   },
   "source": [
    "You can perform addition between two tensors.\n"
   ]
  },
  {
   "cell_type": "markdown",
   "id": "f82ae3fd",
   "metadata": {
    "papermill": {
     "duration": 0.050176,
     "end_time": "2024-03-01T08:45:40.385661",
     "exception": false,
     "start_time": "2024-03-01T08:45:40.335485",
     "status": "completed"
    },
    "tags": []
   },
   "source": [
    "Create a tensor <code>u</code> with 1 dimension and 2 elements. Then, create another tensor <code>v</code> with the same number of dimensions and the same number of elements:\n"
   ]
  },
  {
   "cell_type": "code",
   "execution_count": 45,
   "id": "af732391",
   "metadata": {
    "execution": {
     "iopub.execute_input": "2024-03-01T08:45:40.490114Z",
     "iopub.status.busy": "2024-03-01T08:45:40.489732Z",
     "iopub.status.idle": "2024-03-01T08:45:40.494899Z",
     "shell.execute_reply": "2024-03-01T08:45:40.493817Z"
    },
    "papermill": {
     "duration": 0.059712,
     "end_time": "2024-03-01T08:45:40.497436",
     "exception": false,
     "start_time": "2024-03-01T08:45:40.437724",
     "status": "completed"
    },
    "tags": []
   },
   "outputs": [],
   "source": [
    "# Create two sample tensors\n",
    "\n",
    "u = torch.tensor([1, 0])\n",
    "v = torch.tensor([0, 1])"
   ]
  },
  {
   "cell_type": "markdown",
   "id": "c5e8809a",
   "metadata": {
    "papermill": {
     "duration": 0.050127,
     "end_time": "2024-03-01T08:45:40.598095",
     "exception": false,
     "start_time": "2024-03-01T08:45:40.547968",
     "status": "completed"
    },
    "tags": []
   },
   "source": [
    "Add <code>u</code> and <code>v</code> together:\n"
   ]
  },
  {
   "cell_type": "code",
   "execution_count": 46,
   "id": "2b446995",
   "metadata": {
    "execution": {
     "iopub.execute_input": "2024-03-01T08:45:40.700964Z",
     "iopub.status.busy": "2024-03-01T08:45:40.700522Z",
     "iopub.status.idle": "2024-03-01T08:45:40.707479Z",
     "shell.execute_reply": "2024-03-01T08:45:40.706445Z"
    },
    "papermill": {
     "duration": 0.061378,
     "end_time": "2024-03-01T08:45:40.709864",
     "exception": false,
     "start_time": "2024-03-01T08:45:40.648486",
     "status": "completed"
    },
    "tags": []
   },
   "outputs": [
    {
     "name": "stdout",
     "output_type": "stream",
     "text": [
      "The result tensor:  tensor([1, 1])\n"
     ]
    }
   ],
   "source": [
    "# Add u and v\n",
    "\n",
    "w = u + v\n",
    "print(\"The result tensor: \", w)"
   ]
  },
  {
   "cell_type": "markdown",
   "id": "250f3698",
   "metadata": {
    "papermill": {
     "duration": 0.051011,
     "end_time": "2024-03-01T08:45:40.864313",
     "exception": false,
     "start_time": "2024-03-01T08:45:40.813302",
     "status": "completed"
    },
    "tags": []
   },
   "source": [
    "The result is <code>tensor([1, 1])</code>. The behavior is <i>[1 + 0, 0 + 1]</i>.\n"
   ]
  },
  {
   "cell_type": "markdown",
   "id": "b4c008f9",
   "metadata": {
    "papermill": {
     "duration": 0.051175,
     "end_time": "2024-03-01T08:45:40.967599",
     "exception": false,
     "start_time": "2024-03-01T08:45:40.916424",
     "status": "completed"
    },
    "tags": []
   },
   "source": [
    "Plot the result to to get a clearer picture.\n"
   ]
  },
  {
   "cell_type": "code",
   "execution_count": 47,
   "id": "60ec4d4f",
   "metadata": {
    "execution": {
     "iopub.execute_input": "2024-03-01T08:45:41.074848Z",
     "iopub.status.busy": "2024-03-01T08:45:41.074399Z",
     "iopub.status.idle": "2024-03-01T08:45:41.367970Z",
     "shell.execute_reply": "2024-03-01T08:45:41.366886Z"
    },
    "papermill": {
     "duration": 0.350826,
     "end_time": "2024-03-01T08:45:41.370345",
     "exception": false,
     "start_time": "2024-03-01T08:45:41.019519",
     "status": "completed"
    },
    "tags": []
   },
   "outputs": [
    {
     "data": {
      "image/png": "[encoded data removed]",
      "text/plain": [
       "<Figure size 640x480 with 1 Axes>"
      ]
     },
     "metadata": {},
     "output_type": "display_data"
    }
   ],
   "source": [
    "# Plot u, v, w\n",
    "\n",
    "plotVec([\n",
    "    {\"vector\": u.numpy(), \"name\": 'u', \"color\": 'r'},\n",
    "    {\"vector\": v.numpy(), \"name\": 'v', \"color\": 'b'},\n",
    "    {\"vector\": w.numpy(), \"name\": 'w', \"color\": 'g'}\n",
    "])"
   ]
  },
  {
   "cell_type": "markdown",
   "id": "87bdc7c8",
   "metadata": {
    "papermill": {
     "duration": 0.05061,
     "end_time": "2024-03-01T08:45:41.473162",
     "exception": false,
     "start_time": "2024-03-01T08:45:41.422552",
     "status": "completed"
    },
    "tags": []
   },
   "source": [
    "<!--Empty Space for separating topics-->\n"
   ]
  },
  {
   "cell_type": "markdown",
   "id": "3638a53f",
   "metadata": {
    "papermill": {
     "duration": 0.051368,
     "end_time": "2024-03-01T08:45:41.576006",
     "exception": false,
     "start_time": "2024-03-01T08:45:41.524638",
     "status": "completed"
    },
    "tags": []
   },
   "source": [
    "<h3>Try</h3> \n"
   ]
  },
  {
   "cell_type": "markdown",
   "id": "cb700f0b",
   "metadata": {
    "papermill": {
     "duration": 0.051405,
     "end_time": "2024-03-01T08:45:41.679037",
     "exception": false,
     "start_time": "2024-03-01T08:45:41.627632",
     "status": "completed"
    },
    "tags": []
   },
   "source": [
    "Implement the tensor subtraction with <code>u</code> and <code>v</code> as u-v.\n"
   ]
  },
  {
   "cell_type": "code",
   "execution_count": 48,
   "id": "d20e3c8c",
   "metadata": {
    "execution": {
     "iopub.execute_input": "2024-03-01T08:45:41.783285Z",
     "iopub.status.busy": "2024-03-01T08:45:41.782912Z",
     "iopub.status.idle": "2024-03-01T08:45:41.789477Z",
     "shell.execute_reply": "2024-03-01T08:45:41.788518Z"
    },
    "papermill": {
     "duration": 0.061679,
     "end_time": "2024-03-01T08:45:41.792090",
     "exception": false,
     "start_time": "2024-03-01T08:45:41.730411",
     "status": "completed"
    },
    "tags": []
   },
   "outputs": [
    {
     "name": "stdout",
     "output_type": "stream",
     "text": [
      "The result tensor:  tensor([ 1, -1])\n"
     ]
    }
   ],
   "source": [
    "# Try by yourself to get a result of u-v\n",
    "\n",
    "u = torch.tensor([1, 0])\n",
    "v = torch.tensor([0, 1])\n",
    "print(\"The result tensor: \", u-v)\n"
   ]
  },
  {
   "cell_type": "markdown",
   "id": "e2a41deb",
   "metadata": {
    "papermill": {
     "duration": 0.051087,
     "end_time": "2024-03-01T08:45:41.895604",
     "exception": false,
     "start_time": "2024-03-01T08:45:41.844517",
     "status": "completed"
    },
    "tags": []
   },
   "source": [
    "Tensors must be of the same data type to perform addition as well as other operations.If you uncomment the  following code and try to run it you will get an error as the two tensors are of two different data types. **NOTE This lab was created on a older PyTorch version so in the current version we are using this is possible and will produce a float64 tensor.**\n"
   ]
  },
  {
   "cell_type": "code",
   "execution_count": 49,
   "id": "450e1624",
   "metadata": {
    "execution": {
     "iopub.execute_input": "2024-03-01T08:45:42.000315Z",
     "iopub.status.busy": "2024-03-01T08:45:41.999926Z",
     "iopub.status.idle": "2024-03-01T08:45:42.008083Z",
     "shell.execute_reply": "2024-03-01T08:45:42.007018Z"
    },
    "papermill": {
     "duration": 0.06314,
     "end_time": "2024-03-01T08:45:42.010206",
     "exception": false,
     "start_time": "2024-03-01T08:45:41.947066",
     "status": "completed"
    },
    "tags": []
   },
   "outputs": [
    {
     "data": {
      "text/plain": [
       "tensor([2., 4., 6.], dtype=torch.float64)"
      ]
     },
     "execution_count": 49,
     "metadata": {},
     "output_type": "execute_result"
    }
   ],
   "source": [
    "torch.tensor([1,2,3],dtype=torch.int64)+torch.tensor([1,2,3],dtype=torch.float64)"
   ]
  },
  {
   "cell_type": "markdown",
   "id": "1eba0b42",
   "metadata": {
    "papermill": {
     "duration": 0.051677,
     "end_time": "2024-03-01T08:45:42.113401",
     "exception": false,
     "start_time": "2024-03-01T08:45:42.061724",
     "status": "completed"
    },
    "tags": []
   },
   "source": [
    "<!--Empty Space for separating topics-->\n"
   ]
  },
  {
   "cell_type": "markdown",
   "id": "9f17116e",
   "metadata": {
    "papermill": {
     "duration": 0.051457,
     "end_time": "2024-03-01T08:45:42.216671",
     "exception": false,
     "start_time": "2024-03-01T08:45:42.165214",
     "status": "completed"
    },
    "tags": []
   },
   "source": [
    "You can add a scalar to the tensor. Use <code>u</code> as the sample tensor:\n"
   ]
  },
  {
   "cell_type": "code",
   "execution_count": 50,
   "id": "4b90f081",
   "metadata": {
    "execution": {
     "iopub.execute_input": "2024-03-01T08:45:42.322130Z",
     "iopub.status.busy": "2024-03-01T08:45:42.321413Z",
     "iopub.status.idle": "2024-03-01T08:45:42.328868Z",
     "shell.execute_reply": "2024-03-01T08:45:42.327808Z"
    },
    "papermill": {
     "duration": 0.062704,
     "end_time": "2024-03-01T08:45:42.331098",
     "exception": false,
     "start_time": "2024-03-01T08:45:42.268394",
     "status": "completed"
    },
    "tags": []
   },
   "outputs": [
    {
     "name": "stdout",
     "output_type": "stream",
     "text": [
      "Addition Result:  tensor([2, 3, 4, 0])\n"
     ]
    }
   ],
   "source": [
    "# tensor + scalar\n",
    "\n",
    "u = torch.tensor([1, 2, 3, -1])\n",
    "v = u + 1\n",
    "print (\"Addition Result: \", v)"
   ]
  },
  {
   "cell_type": "markdown",
   "id": "9d89974f",
   "metadata": {
    "papermill": {
     "duration": 0.053127,
     "end_time": "2024-03-01T08:45:42.435879",
     "exception": false,
     "start_time": "2024-03-01T08:45:42.382752",
     "status": "completed"
    },
    "tags": []
   },
   "source": [
    "The result is simply adding 1 to each element in tensor <code>u</code> as shown in the following image:\n"
   ]
  },
  {
   "cell_type": "markdown",
   "id": "2bfb2862",
   "metadata": {
    "papermill": {
     "duration": 0.0513,
     "end_time": "2024-03-01T08:45:42.538850",
     "exception": false,
     "start_time": "2024-03-01T08:45:42.487550",
     "status": "completed"
    },
    "tags": []
   },
   "source": [
    "<img src=\"https://s3-api.us-geo.objectstorage.softlayer.net/cf-courses-data/CognitiveClass/DL0110EN/notebook_images%20/chapter%201/brodcasting.gif\" width=\"500\" alt=\"tensor addition\">\n"
   ]
  },
  {
   "cell_type": "markdown",
   "id": "0db21a7e",
   "metadata": {
    "papermill": {
     "duration": 0.051573,
     "end_time": "2024-03-01T08:45:42.642281",
     "exception": false,
     "start_time": "2024-03-01T08:45:42.590708",
     "status": "completed"
    },
    "tags": []
   },
   "source": [
    "<!--Empty Space for separating topics-->\n"
   ]
  },
  {
   "cell_type": "markdown",
   "id": "e078cd95",
   "metadata": {
    "papermill": {
     "duration": 0.051436,
     "end_time": "2024-03-01T08:45:42.745327",
     "exception": false,
     "start_time": "2024-03-01T08:45:42.693891",
     "status": "completed"
    },
    "tags": []
   },
   "source": [
    "<h3>Tensor Multiplication </h3>\n"
   ]
  },
  {
   "cell_type": "markdown",
   "id": "baf5db08",
   "metadata": {
    "papermill": {
     "duration": 0.051321,
     "end_time": "2024-03-01T08:45:42.848361",
     "exception": false,
     "start_time": "2024-03-01T08:45:42.797040",
     "status": "completed"
    },
    "tags": []
   },
   "source": [
    "Now, you'll review the multiplication between a tensor and a scalar.\n"
   ]
  },
  {
   "cell_type": "markdown",
   "id": "f1774b8f",
   "metadata": {
    "papermill": {
     "duration": 0.051971,
     "end_time": "2024-03-01T08:45:42.952321",
     "exception": false,
     "start_time": "2024-03-01T08:45:42.900350",
     "status": "completed"
    },
    "tags": []
   },
   "source": [
    "Create a tensor with value <code>[1, 2]</code> and then multiply it by 2:\n"
   ]
  },
  {
   "cell_type": "code",
   "execution_count": 51,
   "id": "dde6e218",
   "metadata": {
    "execution": {
     "iopub.execute_input": "2024-03-01T08:45:43.059268Z",
     "iopub.status.busy": "2024-03-01T08:45:43.058872Z",
     "iopub.status.idle": "2024-03-01T08:45:43.067825Z",
     "shell.execute_reply": "2024-03-01T08:45:43.066627Z"
    },
    "papermill": {
     "duration": 0.064577,
     "end_time": "2024-03-01T08:45:43.070050",
     "exception": false,
     "start_time": "2024-03-01T08:45:43.005473",
     "status": "completed"
    },
    "tags": []
   },
   "outputs": [
    {
     "name": "stdout",
     "output_type": "stream",
     "text": [
      "The result of 2 * u:  tensor([2, 4])\n"
     ]
    }
   ],
   "source": [
    "# tensor * scalar\n",
    "\n",
    "u = torch.tensor([1, 2])\n",
    "v = 2 * u\n",
    "print(\"The result of 2 * u: \", v)"
   ]
  },
  {
   "cell_type": "markdown",
   "id": "4c815d7a",
   "metadata": {
    "papermill": {
     "duration": 0.051317,
     "end_time": "2024-03-01T08:45:43.173152",
     "exception": false,
     "start_time": "2024-03-01T08:45:43.121835",
     "status": "completed"
    },
    "tags": []
   },
   "source": [
    "The result is <code>tensor([2, 4])</code>, so the code <code>2 * u</code> multiplies each element in the tensor by 2. This is how you get the product between a vector or matrix and a scalar in linear algebra.\n"
   ]
  },
  {
   "cell_type": "markdown",
   "id": "b58fca13",
   "metadata": {
    "papermill": {
     "duration": 0.051558,
     "end_time": "2024-03-01T08:45:43.275947",
     "exception": false,
     "start_time": "2024-03-01T08:45:43.224389",
     "status": "completed"
    },
    "tags": []
   },
   "source": [
    "<!--Empty Space for separating topics-->\n"
   ]
  },
  {
   "cell_type": "markdown",
   "id": "c10474c4",
   "metadata": {
    "papermill": {
     "duration": 0.051078,
     "end_time": "2024-03-01T08:45:43.378499",
     "exception": false,
     "start_time": "2024-03-01T08:45:43.327421",
     "status": "completed"
    },
    "tags": []
   },
   "source": [
    "You can use multiplication between two tensors.\n"
   ]
  },
  {
   "cell_type": "markdown",
   "id": "3085906e",
   "metadata": {
    "papermill": {
     "duration": 0.05117,
     "end_time": "2024-03-01T08:45:43.482391",
     "exception": false,
     "start_time": "2024-03-01T08:45:43.431221",
     "status": "completed"
    },
    "tags": []
   },
   "source": [
    "Create two tensors <code>u</code> and <code>v</code> and then multiply them together:\n"
   ]
  },
  {
   "cell_type": "code",
   "execution_count": 52,
   "id": "7e24c6c4",
   "metadata": {
    "execution": {
     "iopub.execute_input": "2024-03-01T08:45:43.589696Z",
     "iopub.status.busy": "2024-03-01T08:45:43.589327Z",
     "iopub.status.idle": "2024-03-01T08:45:43.595719Z",
     "shell.execute_reply": "2024-03-01T08:45:43.594670Z"
    },
    "papermill": {
     "duration": 0.064186,
     "end_time": "2024-03-01T08:45:43.598163",
     "exception": false,
     "start_time": "2024-03-01T08:45:43.533977",
     "status": "completed"
    },
    "tags": []
   },
   "outputs": [
    {
     "name": "stdout",
     "output_type": "stream",
     "text": [
      "The result of u * v tensor([3, 4])\n"
     ]
    }
   ],
   "source": [
    "# tensor * tensor\n",
    "\n",
    "u = torch.tensor([1, 2])\n",
    "v = torch.tensor([3, 2])\n",
    "w = u * v\n",
    "print (\"The result of u * v\", w)"
   ]
  },
  {
   "cell_type": "markdown",
   "id": "6f8a6cf6",
   "metadata": {
    "papermill": {
     "duration": 0.051359,
     "end_time": "2024-03-01T08:45:43.702255",
     "exception": false,
     "start_time": "2024-03-01T08:45:43.650896",
     "status": "completed"
    },
    "tags": []
   },
   "source": [
    "The result is simply <code>tensor([3, 4])</code>. This result is achieved by multiplying every element in <code>u</code> with the corresponding element in the same position <code>v</code>, which is similar to <i>[1 * 3, 2 * 2]</i>.\n"
   ]
  },
  {
   "cell_type": "markdown",
   "id": "bfde62ab",
   "metadata": {
    "papermill": {
     "duration": 0.052429,
     "end_time": "2024-03-01T08:45:43.811323",
     "exception": false,
     "start_time": "2024-03-01T08:45:43.758894",
     "status": "completed"
    },
    "tags": []
   },
   "source": [
    "<!--Empty Space for separating topics-->\n"
   ]
  },
  {
   "cell_type": "markdown",
   "id": "f348791b",
   "metadata": {
    "papermill": {
     "duration": 0.052074,
     "end_time": "2024-03-01T08:45:43.915040",
     "exception": false,
     "start_time": "2024-03-01T08:45:43.862966",
     "status": "completed"
    },
    "tags": []
   },
   "source": [
    "<h3>Dot Product</h3>\n"
   ]
  },
  {
   "cell_type": "markdown",
   "id": "e82e3c8c",
   "metadata": {
    "papermill": {
     "duration": 0.05313,
     "end_time": "2024-03-01T08:45:44.020619",
     "exception": false,
     "start_time": "2024-03-01T08:45:43.967489",
     "status": "completed"
    },
    "tags": []
   },
   "source": [
    "The dot product is a special operation for a vector that you can use in Torch.\n"
   ]
  },
  {
   "cell_type": "markdown",
   "id": "e08e5604",
   "metadata": {
    "papermill": {
     "duration": 0.052799,
     "end_time": "2024-03-01T08:45:44.127409",
     "exception": false,
     "start_time": "2024-03-01T08:45:44.074610",
     "status": "completed"
    },
    "tags": []
   },
   "source": [
    "Here is the dot product of the two tensors <code>u</code> and <code>v</code>:\n"
   ]
  },
  {
   "cell_type": "code",
   "execution_count": 53,
   "id": "b431bd96",
   "metadata": {
    "execution": {
     "iopub.execute_input": "2024-03-01T08:45:44.235012Z",
     "iopub.status.busy": "2024-03-01T08:45:44.234595Z",
     "iopub.status.idle": "2024-03-01T08:45:44.242364Z",
     "shell.execute_reply": "2024-03-01T08:45:44.241161Z"
    },
    "papermill": {
     "duration": 0.064163,
     "end_time": "2024-03-01T08:45:44.244692",
     "exception": false,
     "start_time": "2024-03-01T08:45:44.180529",
     "status": "completed"
    },
    "tags": []
   },
   "outputs": [
    {
     "name": "stdout",
     "output_type": "stream",
     "text": [
      "Dot Product of u, v: tensor(7)\n"
     ]
    }
   ],
   "source": [
    "# Calculate dot product of u, v\n",
    "\n",
    "u = torch.tensor([1, 2])\n",
    "v = torch.tensor([3, 2])\n",
    "\n",
    "print(\"Dot Product of u, v:\", torch.dot(u,v))"
   ]
  },
  {
   "cell_type": "markdown",
   "id": "910c67ab",
   "metadata": {
    "papermill": {
     "duration": 0.053762,
     "end_time": "2024-03-01T08:45:44.351720",
     "exception": false,
     "start_time": "2024-03-01T08:45:44.297958",
     "status": "completed"
    },
    "tags": []
   },
   "source": [
    "The result is <code>tensor(7)</code>. The function is <i>1 x 3 + 2 x 2 = 7</i>.\n"
   ]
  },
  {
   "cell_type": "markdown",
   "id": "63062e4b",
   "metadata": {
    "papermill": {
     "duration": 0.062364,
     "end_time": "2024-03-01T08:45:44.466463",
     "exception": false,
     "start_time": "2024-03-01T08:45:44.404099",
     "status": "completed"
    },
    "tags": []
   },
   "source": [
    "<!--Empty Space for separating topics-->\n"
   ]
  },
  {
   "cell_type": "markdown",
   "id": "2fb915ad",
   "metadata": {
    "papermill": {
     "duration": 0.052797,
     "end_time": "2024-03-01T08:45:44.580581",
     "exception": false,
     "start_time": "2024-03-01T08:45:44.527784",
     "status": "completed"
    },
    "tags": []
   },
   "source": [
    "<h3>Practice</h3>\n"
   ]
  },
  {
   "cell_type": "markdown",
   "id": "ad1c3fdf",
   "metadata": {
    "papermill": {
     "duration": 0.052099,
     "end_time": "2024-03-01T08:45:44.685969",
     "exception": false,
     "start_time": "2024-03-01T08:45:44.633870",
     "status": "completed"
    },
    "tags": []
   },
   "source": [
    "Convert the list <i>[-1, 1]</i> and <i>[1, 1]</i> to tensors <code>u</code> and <code>v</code>. Then, plot the tensor <code>u</code> and <code>v</code> as a vector by using the function <code>plotVec</code> and find the dot product:\n"
   ]
  },
  {
   "cell_type": "code",
   "execution_count": 54,
   "id": "ebff5e42",
   "metadata": {
    "execution": {
     "iopub.execute_input": "2024-03-01T08:45:44.793502Z",
     "iopub.status.busy": "2024-03-01T08:45:44.792488Z",
     "iopub.status.idle": "2024-03-01T08:45:45.089200Z",
     "shell.execute_reply": "2024-03-01T08:45:45.087820Z"
    },
    "papermill": {
     "duration": 0.353265,
     "end_time": "2024-03-01T08:45:45.091371",
     "exception": false,
     "start_time": "2024-03-01T08:45:44.738106",
     "status": "completed"
    },
    "tags": []
   },
   "outputs": [
    {
     "name": "stdout",
     "output_type": "stream",
     "text": [
      "The Dot Product is 0\n"
     ]
    },
    {
     "data": {
      "image/png": "[encoded data removed]",
      "text/plain": [
       "<Figure size 640x480 with 1 Axes>"
      ]
     },
     "metadata": {},
     "output_type": "display_data"
    }
   ],
   "source": [
    "# calculate the dot product of u and v, and plot out two vectors\n",
    "\n",
    "u= torch.tensor([-1, 1])\n",
    "v= torch.tensor([1, 1])\n",
    "plotVec([\n",
    "    {\"vector\": u.numpy(), \"name\": 'u', \"color\": 'r'},\n",
    "    {\"vector\": v.numpy(), \"name\": 'v', \"color\": 'b'}\n",
    "])\n",
    "print(\"The Dot Product is\",np.dot(u, v))"
   ]
  },
  {
   "cell_type": "markdown",
   "id": "2d219bee",
   "metadata": {
    "papermill": {
     "duration": 0.05237,
     "end_time": "2024-03-01T08:45:45.196237",
     "exception": false,
     "start_time": "2024-03-01T08:45:45.143867",
     "status": "completed"
    },
    "tags": []
   },
   "source": [
    "<!--Empty Space for separating topics-->\n"
   ]
  }
 ],
 "metadata": {
  "kaggle": {
   "accelerator": "none",
   "dataSources": [],
   "dockerImageVersionId": 30664,
   "isGpuEnabled": false,
   "isInternetEnabled": true,
   "language": "python",
   "sourceType": "notebook"
  },
  "kernelspec": {
   "display_name": "Python 3",
   "language": "python",
   "name": "python3"
  },
  "language_info": {
   "codemirror_mode": {
    "name": "ipython",
    "version": 3
   },
   "file_extension": ".py",
   "mimetype": "text/x-python",
   "name": "python",
   "nbconvert_exporter": "python",
   "pygments_lexer": "ipython3",
   "version": "3.10.13"
  },
  "papermill": {
   "default_parameters": {},
   "duration": 30.364795,
   "end_time": "2024-03-01T08:45:46.169454",
   "environment_variables": {},
   "exception": null,
   "input_path": "__notebook__.ipynb",
   "output_path": "__notebook__.ipynb",
   "parameters": {},
   "start_time": "2024-03-01T08:45:15.804659",
   "version": "2.5.0"
  }
 },
 "nbformat": 4,
 "nbformat_minor": 5
}
