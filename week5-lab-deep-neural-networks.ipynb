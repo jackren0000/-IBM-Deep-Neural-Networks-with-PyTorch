{
 "cells": [
  {
   "cell_type": "markdown",
   "id": "879ffa3a",
   "metadata": {
    "papermill": {
     "duration": 0.013794,
     "end_time": "2024-03-11T09:13:26.150217",
     "exception": false,
     "start_time": "2024-03-11T09:13:26.136423",
     "status": "completed"
    },
    "tags": []
   },
   "source": [
    "<p style=\"text-align:center\">\n",
    "    <a href=\"https://skills.network/?utm_medium=Exinfluencer&utm_source=Exinfluencer&utm_content=000026UJ&utm_term=10006555&utm_id=NA-SkillsNetwork-Channel-SkillsNetworkCoursesIBMDeveloperSkillsNetworkDL0110ENSkillsNetwork952-2022-01-01\" target=\"_blank\">\n",
    "    <img src=\"https://cf-courses-data.s3.us.cloud-object-storage.appdomain.cloud/assets/logos/SN_web_lightmode.png\" width=\"200\" alt=\"Skills Network Logo\"  />\n",
    "    </a>\n",
    "</p>\n"
   ]
  },
  {
   "cell_type": "markdown",
   "id": "c6eee3f3",
   "metadata": {
    "papermill": {
     "duration": 0.012034,
     "end_time": "2024-03-11T09:13:26.174890",
     "exception": false,
     "start_time": "2024-03-11T09:13:26.162856",
     "status": "completed"
    },
    "tags": []
   },
   "source": [
    "<h1>Hidden Layer Deep Network: Sigmoid, Tanh and Relu Activations Functions MNIST Dataset</h1>\n"
   ]
  },
  {
   "cell_type": "markdown",
   "id": "c38fb61e",
   "metadata": {
    "papermill": {
     "duration": 0.011959,
     "end_time": "2024-03-11T09:13:26.199204",
     "exception": false,
     "start_time": "2024-03-11T09:13:26.187245",
     "status": "completed"
    },
    "tags": []
   },
   "source": [
    "\n",
    "<h3>Objective for this Notebook<h3>    \n",
    "<h5> 1. Define Several Neural Network, Criterion function, Optimizer.</h5>\n",
    "<h5> 2. Test Sigmoid ,Tanh and Relu. </h5>\n",
    "<h5> 3. Analyse Results. </h5>     \n",
    "\n"
   ]
  },
  {
   "cell_type": "markdown",
   "id": "549d23bd",
   "metadata": {
    "papermill": {
     "duration": 0.011847,
     "end_time": "2024-03-11T09:13:26.223336",
     "exception": false,
     "start_time": "2024-03-11T09:13:26.211489",
     "status": "completed"
    },
    "tags": []
   },
   "source": [
    "<h2>Table of Contents</h2>\n",
    "<p>In this lab, you will test Sigmoid, Tanh and Relu activation functions on the MNIST dataset with two hidden Layers.</p>\n",
    "\n",
    "<ul>\n",
    "    <li><a href=\"#Model\">Neural Network Module and Training Function</a></li>\n",
    "    <li><a href=\"#Makeup_Data\">Make Some Data</a></li>\n",
    "    <li><a href=\"#Train\">Define Several Neural Network, Criterion function, Optimizer</a></li>\n",
    "    <li><a href=\"#Test\">Test Sigmoid ,Tanh and Relu </a></li>\n",
    "    <li><a href=\"#Result\">Analyse Results</a></li>\n",
    "</ul>\n",
    "<p>Estimated Time Needed: <strong>25 min</strong></p>\n",
    "\n",
    "<hr>\n"
   ]
  },
  {
   "cell_type": "markdown",
   "id": "303581d0",
   "metadata": {
    "papermill": {
     "duration": 0.011911,
     "end_time": "2024-03-11T09:13:26.248589",
     "exception": false,
     "start_time": "2024-03-11T09:13:26.236678",
     "status": "completed"
    },
    "tags": []
   },
   "source": [
    "We'll need the following libraries\n"
   ]
  },
  {
   "cell_type": "code",
   "execution_count": 1,
   "id": "cc9c5a8c",
   "metadata": {
    "execution": {
     "iopub.execute_input": "2024-03-11T09:13:26.276986Z",
     "iopub.status.busy": "2024-03-11T09:13:26.276044Z",
     "iopub.status.idle": "2024-03-11T09:13:36.912186Z",
     "shell.execute_reply": "2024-03-11T09:13:36.910805Z"
    },
    "papermill": {
     "duration": 10.654279,
     "end_time": "2024-03-11T09:13:36.915304",
     "exception": false,
     "start_time": "2024-03-11T09:13:26.261025",
     "status": "completed"
    },
    "tags": []
   },
   "outputs": [
    {
     "name": "stdout",
     "output_type": "stream",
     "text": [
      "\u001b[31mERROR: Ignored the following yanked versions: 0.1.6, 0.1.7, 0.1.8, 0.1.9, 0.2.0, 0.2.1, 0.2.2, 0.2.2.post2, 0.2.2.post3, 0.15.0\u001b[0m\u001b[31m\r\n",
      "\u001b[0m\u001b[31mERROR: Could not find a version that satisfies the requirement torchvision==0.9.1 (from versions: 0.12.0, 0.13.0, 0.13.1, 0.14.0, 0.14.1, 0.15.1, 0.15.2, 0.16.0, 0.16.1, 0.16.2, 0.17.0, 0.17.1)\u001b[0m\u001b[31m\r\n",
      "\u001b[0m\u001b[31mERROR: No matching distribution found for torchvision==0.9.1\u001b[0m\u001b[31m\r\n",
      "\u001b[0m"
     ]
    },
    {
     "data": {
      "text/plain": [
       "<torch._C.Generator at 0x793b3827b0f0>"
      ]
     },
     "execution_count": 1,
     "metadata": {},
     "output_type": "execute_result"
    }
   ],
   "source": [
    "# Import the libraries we need for this lab\n",
    "\n",
    "# Using the following line code to install the torchvision library\n",
    "# !mamba install -y torchvision\n",
    "\n",
    "!pip install torchvision==0.9.1 torch==1.8.1 \n",
    "import torch \n",
    "import torch.nn as nn\n",
    "import torchvision.transforms as transforms\n",
    "import torchvision.datasets as dsets\n",
    "import torch.nn.functional as F\n",
    "import matplotlib.pylab as plt\n",
    "import numpy as np\n",
    "torch.manual_seed(2)"
   ]
  },
  {
   "cell_type": "markdown",
   "id": "afac8f7f",
   "metadata": {
    "papermill": {
     "duration": 0.012924,
     "end_time": "2024-03-11T09:13:36.941097",
     "exception": false,
     "start_time": "2024-03-11T09:13:36.928173",
     "status": "completed"
    },
    "tags": []
   },
   "source": [
    "<!--Empty Space for separating topics-->\n"
   ]
  },
  {
   "cell_type": "markdown",
   "id": "72f794b9",
   "metadata": {
    "papermill": {
     "duration": 0.012197,
     "end_time": "2024-03-11T09:13:36.966144",
     "exception": false,
     "start_time": "2024-03-11T09:13:36.953947",
     "status": "completed"
    },
    "tags": []
   },
   "source": [
    "<h2 id=\"Model\">Neural Network Module and Training Function</h2> \n"
   ]
  },
  {
   "cell_type": "markdown",
   "id": "a090279b",
   "metadata": {
    "papermill": {
     "duration": 0.012072,
     "end_time": "2024-03-11T09:13:36.991039",
     "exception": false,
     "start_time": "2024-03-11T09:13:36.978967",
     "status": "completed"
    },
    "tags": []
   },
   "source": [
    "Define the neural network module or class, with two hidden Layers \n"
   ]
  },
  {
   "cell_type": "markdown",
   "id": "2ba53ce5",
   "metadata": {
    "papermill": {
     "duration": 0.012682,
     "end_time": "2024-03-11T09:13:37.016704",
     "exception": false,
     "start_time": "2024-03-11T09:13:37.004022",
     "status": "completed"
    },
    "tags": []
   },
   "source": [
    "<img src=\"https://ibm.box.com/shared/static/5wtclahun0f70qlwkn2kxzh3amnbq4zg.png\" width=\"200\" alt=\"Neural Network Model\">\n"
   ]
  },
  {
   "cell_type": "code",
   "execution_count": 2,
   "id": "ece9ef3a",
   "metadata": {
    "execution": {
     "iopub.execute_input": "2024-03-11T09:13:37.044137Z",
     "iopub.status.busy": "2024-03-11T09:13:37.043460Z",
     "iopub.status.idle": "2024-03-11T09:13:37.052569Z",
     "shell.execute_reply": "2024-03-11T09:13:37.051274Z"
    },
    "papermill": {
     "duration": 0.025799,
     "end_time": "2024-03-11T09:13:37.055084",
     "exception": false,
     "start_time": "2024-03-11T09:13:37.029285",
     "status": "completed"
    },
    "tags": []
   },
   "outputs": [],
   "source": [
    "# Create the model class using sigmoid as the activation function\n",
    "\n",
    "class Net(nn.Module):\n",
    "    \n",
    "    # Constructor\n",
    "    def __init__(self, D_in, H1, H2, D_out):\n",
    "        super(Net, self).__init__()\n",
    "        self.linear1 = nn.Linear(D_in, H1)\n",
    "        self.linear2 = nn.Linear(H1, H2)\n",
    "        self.linear3 = nn.Linear(H2, D_out)\n",
    "    \n",
    "    # Prediction\n",
    "    def forward(self,x):\n",
    "        x = torch.sigmoid(self.linear1(x)) \n",
    "        x = torch.sigmoid(self.linear2(x))\n",
    "        x = self.linear3(x)\n",
    "        return x"
   ]
  },
  {
   "cell_type": "markdown",
   "id": "6f7fa316",
   "metadata": {
    "papermill": {
     "duration": 0.012206,
     "end_time": "2024-03-11T09:13:37.080101",
     "exception": false,
     "start_time": "2024-03-11T09:13:37.067895",
     "status": "completed"
    },
    "tags": []
   },
   "source": [
    "Define the class with the Tanh activation function \n"
   ]
  },
  {
   "cell_type": "code",
   "execution_count": 3,
   "id": "f268f69e",
   "metadata": {
    "execution": {
     "iopub.execute_input": "2024-03-11T09:13:37.107449Z",
     "iopub.status.busy": "2024-03-11T09:13:37.107011Z",
     "iopub.status.idle": "2024-03-11T09:13:37.115322Z",
     "shell.execute_reply": "2024-03-11T09:13:37.113818Z"
    },
    "papermill": {
     "duration": 0.024978,
     "end_time": "2024-03-11T09:13:37.117795",
     "exception": false,
     "start_time": "2024-03-11T09:13:37.092817",
     "status": "completed"
    },
    "tags": []
   },
   "outputs": [],
   "source": [
    "# Create the model class using Tanh as a activation function\n",
    "\n",
    "class NetTanh(nn.Module):\n",
    "    \n",
    "    # Constructor\n",
    "    def __init__(self, D_in, H1, H2, D_out):\n",
    "        super(NetTanh, self).__init__()\n",
    "        self.linear1 = nn.Linear(D_in, H1)\n",
    "        self.linear2 = nn.Linear(H1, H2)\n",
    "        self.linear3 = nn.Linear(H2, D_out)\n",
    "    \n",
    "    # Prediction\n",
    "    def forward(self, x):\n",
    "        x = torch.tanh(self.linear1(x))\n",
    "        x = torch.tanh(self.linear2(x))\n",
    "        x = self.linear3(x)\n",
    "        return x"
   ]
  },
  {
   "cell_type": "markdown",
   "id": "2f4e0f06",
   "metadata": {
    "papermill": {
     "duration": 0.012149,
     "end_time": "2024-03-11T09:13:37.142503",
     "exception": false,
     "start_time": "2024-03-11T09:13:37.130354",
     "status": "completed"
    },
    "tags": []
   },
   "source": [
    "Define the class for the Relu activation function \n"
   ]
  },
  {
   "cell_type": "code",
   "execution_count": 4,
   "id": "a4c90d8d",
   "metadata": {
    "execution": {
     "iopub.execute_input": "2024-03-11T09:13:37.170586Z",
     "iopub.status.busy": "2024-03-11T09:13:37.169675Z",
     "iopub.status.idle": "2024-03-11T09:13:37.177619Z",
     "shell.execute_reply": "2024-03-11T09:13:37.176763Z"
    },
    "papermill": {
     "duration": 0.024939,
     "end_time": "2024-03-11T09:13:37.180252",
     "exception": false,
     "start_time": "2024-03-11T09:13:37.155313",
     "status": "completed"
    },
    "tags": []
   },
   "outputs": [],
   "source": [
    "# Create the model class using Relu as a activation function\n",
    "\n",
    "class NetRelu(nn.Module):\n",
    "    \n",
    "    # Constructor\n",
    "    def __init__(self, D_in, H1, H2, D_out):\n",
    "        super(NetRelu, self).__init__()\n",
    "        self.linear1 = nn.Linear(D_in, H1)\n",
    "        self.linear2 = nn.Linear(H1, H2)\n",
    "        self.linear3 = nn.Linear(H2, D_out)\n",
    "    \n",
    "    # Prediction\n",
    "    def forward(self, x):\n",
    "        x = torch.relu(self.linear1(x))  \n",
    "        x = torch.relu(self.linear2(x))\n",
    "        x = self.linear3(x)\n",
    "        return x"
   ]
  },
  {
   "cell_type": "markdown",
   "id": "24c284cb",
   "metadata": {
    "papermill": {
     "duration": 0.012088,
     "end_time": "2024-03-11T09:13:37.205216",
     "exception": false,
     "start_time": "2024-03-11T09:13:37.193128",
     "status": "completed"
    },
    "tags": []
   },
   "source": [
    "Define a function to  train the model, in this case the function returns a Python dictionary to store the training loss and accuracy on the validation data \n"
   ]
  },
  {
   "cell_type": "code",
   "execution_count": 5,
   "id": "637a5b05",
   "metadata": {
    "execution": {
     "iopub.execute_input": "2024-03-11T09:13:37.232908Z",
     "iopub.status.busy": "2024-03-11T09:13:37.231924Z",
     "iopub.status.idle": "2024-03-11T09:13:37.242297Z",
     "shell.execute_reply": "2024-03-11T09:13:37.241059Z"
    },
    "papermill": {
     "duration": 0.027092,
     "end_time": "2024-03-11T09:13:37.245041",
     "exception": false,
     "start_time": "2024-03-11T09:13:37.217949",
     "status": "completed"
    },
    "tags": []
   },
   "outputs": [],
   "source": [
    "# Train the model\n",
    "\n",
    "def train(model, criterion, train_loader, validation_loader, optimizer, epochs=100):\n",
    "    i = 0\n",
    "    useful_stuff = {'training_loss': [], 'validation_accuracy': []}  \n",
    "    \n",
    "    for epoch in range(epochs):\n",
    "        for i, (x, y) in enumerate(train_loader):\n",
    "            optimizer.zero_grad()\n",
    "            z = model(x.view(-1, 28 * 28))\n",
    "            loss = criterion(z, y)\n",
    "            loss.backward()\n",
    "            optimizer.step()\n",
    "            useful_stuff['training_loss'].append(loss.data.item())\n",
    "        \n",
    "        correct = 0\n",
    "        for x, y in validation_loader:\n",
    "            z = model(x.view(-1, 28 * 28))\n",
    "            _, label = torch.max(z, 1)\n",
    "            correct += (label == y).sum().item()\n",
    "    \n",
    "        accuracy = 100 * (correct / len(validation_dataset))\n",
    "        useful_stuff['validation_accuracy'].append(accuracy)\n",
    "    \n",
    "    return useful_stuff"
   ]
  },
  {
   "cell_type": "markdown",
   "id": "6f3009da",
   "metadata": {
    "papermill": {
     "duration": 0.012243,
     "end_time": "2024-03-11T09:13:37.270349",
     "exception": false,
     "start_time": "2024-03-11T09:13:37.258106",
     "status": "completed"
    },
    "tags": []
   },
   "source": [
    "<!--Empty Space for separating topics-->\n"
   ]
  },
  {
   "cell_type": "markdown",
   "id": "6c27ad65",
   "metadata": {
    "papermill": {
     "duration": 0.012254,
     "end_time": "2024-03-11T09:13:37.295324",
     "exception": false,
     "start_time": "2024-03-11T09:13:37.283070",
     "status": "completed"
    },
    "tags": []
   },
   "source": [
    "<h2 id=\"Makeup_Data\">Make Some Data</h2> \n"
   ]
  },
  {
   "cell_type": "markdown",
   "id": "a2d81796",
   "metadata": {
    "papermill": {
     "duration": 0.012352,
     "end_time": "2024-03-11T09:13:37.320398",
     "exception": false,
     "start_time": "2024-03-11T09:13:37.308046",
     "status": "completed"
    },
    "tags": []
   },
   "source": [
    "Load the training dataset by setting the parameters <code>train</code> to <code>True</code> and convert it to a tensor  by placing a transform object int the argument <code>transform</code>\n"
   ]
  },
  {
   "cell_type": "code",
   "execution_count": 6,
   "id": "f0721a8d",
   "metadata": {
    "execution": {
     "iopub.execute_input": "2024-03-11T09:13:37.348668Z",
     "iopub.status.busy": "2024-03-11T09:13:37.347991Z",
     "iopub.status.idle": "2024-03-11T09:13:38.444226Z",
     "shell.execute_reply": "2024-03-11T09:13:38.443190Z"
    },
    "papermill": {
     "duration": 1.113442,
     "end_time": "2024-03-11T09:13:38.447278",
     "exception": false,
     "start_time": "2024-03-11T09:13:37.333836",
     "status": "completed"
    },
    "tags": []
   },
   "outputs": [
    {
     "name": "stdout",
     "output_type": "stream",
     "text": [
      "Downloading http://yann.lecun.com/exdb/mnist/train-images-idx3-ubyte.gz\n",
      "Downloading http://yann.lecun.com/exdb/mnist/train-images-idx3-ubyte.gz to ./data/MNIST/raw/train-images-idx3-ubyte.gz\n"
     ]
    },
    {
     "name": "stderr",
     "output_type": "stream",
     "text": [
      "100%|██████████| 9912422/9912422 [00:00<00:00, 148054795.34it/s]"
     ]
    },
    {
     "name": "stdout",
     "output_type": "stream",
     "text": [
      "Extracting ./data/MNIST/raw/train-images-idx3-ubyte.gz to ./data/MNIST/raw\n"
     ]
    },
    {
     "name": "stderr",
     "output_type": "stream",
     "text": [
      "\n"
     ]
    },
    {
     "name": "stdout",
     "output_type": "stream",
     "text": [
      "\n",
      "Downloading http://yann.lecun.com/exdb/mnist/train-labels-idx1-ubyte.gz\n",
      "Downloading http://yann.lecun.com/exdb/mnist/train-labels-idx1-ubyte.gz to ./data/MNIST/raw/train-labels-idx1-ubyte.gz\n"
     ]
    },
    {
     "name": "stderr",
     "output_type": "stream",
     "text": [
      "100%|██████████| 28881/28881 [00:00<00:00, 55643405.52it/s]\n"
     ]
    },
    {
     "name": "stdout",
     "output_type": "stream",
     "text": [
      "Extracting ./data/MNIST/raw/train-labels-idx1-ubyte.gz to ./data/MNIST/raw\n",
      "\n",
      "Downloading http://yann.lecun.com/exdb/mnist/t10k-images-idx3-ubyte.gz\n",
      "Downloading http://yann.lecun.com/exdb/mnist/t10k-images-idx3-ubyte.gz to ./data/MNIST/raw/t10k-images-idx3-ubyte.gz\n"
     ]
    },
    {
     "name": "stderr",
     "output_type": "stream",
     "text": [
      "100%|██████████| 1648877/1648877 [00:00<00:00, 43781717.22it/s]\n"
     ]
    },
    {
     "name": "stdout",
     "output_type": "stream",
     "text": [
      "Extracting ./data/MNIST/raw/t10k-images-idx3-ubyte.gz to ./data/MNIST/raw\n",
      "\n",
      "Downloading http://yann.lecun.com/exdb/mnist/t10k-labels-idx1-ubyte.gz\n",
      "Downloading http://yann.lecun.com/exdb/mnist/t10k-labels-idx1-ubyte.gz to ./data/MNIST/raw/t10k-labels-idx1-ubyte.gz\n"
     ]
    },
    {
     "name": "stderr",
     "output_type": "stream",
     "text": [
      "100%|██████████| 4542/4542 [00:00<00:00, 6005841.35it/s]\n"
     ]
    },
    {
     "name": "stdout",
     "output_type": "stream",
     "text": [
      "Extracting ./data/MNIST/raw/t10k-labels-idx1-ubyte.gz to ./data/MNIST/raw\n",
      "\n"
     ]
    }
   ],
   "source": [
    "# Create the training dataset\n",
    "\n",
    "train_dataset = dsets.MNIST(root='./data', train=True, download=True, transform=transforms.ToTensor())"
   ]
  },
  {
   "cell_type": "markdown",
   "id": "f1e9d461",
   "metadata": {
    "papermill": {
     "duration": 0.014749,
     "end_time": "2024-03-11T09:13:38.477513",
     "exception": false,
     "start_time": "2024-03-11T09:13:38.462764",
     "status": "completed"
    },
    "tags": []
   },
   "source": [
    "Load the testing dataset by setting the parameters <code>train</code> to <code>False</code> and convert it to a tensor  by placing a transform object int the argument <code>transform</code>\n"
   ]
  },
  {
   "cell_type": "code",
   "execution_count": 7,
   "id": "2e42662d",
   "metadata": {
    "execution": {
     "iopub.execute_input": "2024-03-11T09:13:38.509900Z",
     "iopub.status.busy": "2024-03-11T09:13:38.509124Z",
     "iopub.status.idle": "2024-03-11T09:13:38.525551Z",
     "shell.execute_reply": "2024-03-11T09:13:38.524078Z"
    },
    "papermill": {
     "duration": 0.036734,
     "end_time": "2024-03-11T09:13:38.529044",
     "exception": false,
     "start_time": "2024-03-11T09:13:38.492310",
     "status": "completed"
    },
    "tags": []
   },
   "outputs": [],
   "source": [
    "# Create the validating dataset\n",
    "\n",
    "validation_dataset = dsets.MNIST(root='./data', train=False, download=True, transform=transforms.ToTensor())"
   ]
  },
  {
   "cell_type": "markdown",
   "id": "82e7992f",
   "metadata": {
    "papermill": {
     "duration": 0.01461,
     "end_time": "2024-03-11T09:13:38.558741",
     "exception": false,
     "start_time": "2024-03-11T09:13:38.544131",
     "status": "completed"
    },
    "tags": []
   },
   "source": [
    "Create the criterion function  \n"
   ]
  },
  {
   "cell_type": "code",
   "execution_count": 8,
   "id": "d14b40ba",
   "metadata": {
    "execution": {
     "iopub.execute_input": "2024-03-11T09:13:38.590515Z",
     "iopub.status.busy": "2024-03-11T09:13:38.590069Z",
     "iopub.status.idle": "2024-03-11T09:13:38.596579Z",
     "shell.execute_reply": "2024-03-11T09:13:38.595106Z"
    },
    "papermill": {
     "duration": 0.025865,
     "end_time": "2024-03-11T09:13:38.599407",
     "exception": false,
     "start_time": "2024-03-11T09:13:38.573542",
     "status": "completed"
    },
    "tags": []
   },
   "outputs": [],
   "source": [
    "# Create the criterion function\n",
    "\n",
    "criterion = nn.CrossEntropyLoss()"
   ]
  },
  {
   "cell_type": "markdown",
   "id": "8b85af7c",
   "metadata": {
    "papermill": {
     "duration": 0.016648,
     "end_time": "2024-03-11T09:13:38.631869",
     "exception": false,
     "start_time": "2024-03-11T09:13:38.615221",
     "status": "completed"
    },
    "tags": []
   },
   "source": [
    "Create the training-data loader and the validation-data loader object \n"
   ]
  },
  {
   "cell_type": "code",
   "execution_count": 9,
   "id": "7d2855ff",
   "metadata": {
    "execution": {
     "iopub.execute_input": "2024-03-11T09:13:38.666119Z",
     "iopub.status.busy": "2024-03-11T09:13:38.665717Z",
     "iopub.status.idle": "2024-03-11T09:13:38.672903Z",
     "shell.execute_reply": "2024-03-11T09:13:38.671365Z"
    },
    "papermill": {
     "duration": 0.027827,
     "end_time": "2024-03-11T09:13:38.676306",
     "exception": false,
     "start_time": "2024-03-11T09:13:38.648479",
     "status": "completed"
    },
    "tags": []
   },
   "outputs": [],
   "source": [
    "# Create the training data loader and validation data loader object\n",
    "\n",
    "train_loader = torch.utils.data.DataLoader(dataset=train_dataset, batch_size=2000, shuffle=True)\n",
    "validation_loader = torch.utils.data.DataLoader(dataset=validation_dataset, batch_size=5000, shuffle=False)"
   ]
  },
  {
   "cell_type": "markdown",
   "id": "4d0cd5f9",
   "metadata": {
    "papermill": {
     "duration": 0.016435,
     "end_time": "2024-03-11T09:13:38.712788",
     "exception": false,
     "start_time": "2024-03-11T09:13:38.696353",
     "status": "completed"
    },
    "tags": []
   },
   "source": [
    "<!--Empty Space for separating topics-->\n"
   ]
  },
  {
   "cell_type": "markdown",
   "id": "f5f5295c",
   "metadata": {
    "papermill": {
     "duration": 0.018468,
     "end_time": "2024-03-11T09:13:38.751947",
     "exception": false,
     "start_time": "2024-03-11T09:13:38.733479",
     "status": "completed"
    },
    "tags": []
   },
   "source": [
    "<h2 id=\"Train\">Define Neural Network, Criterion function, Optimizer and Train the Model</h2> \n"
   ]
  },
  {
   "cell_type": "markdown",
   "id": "4d42d5fc",
   "metadata": {
    "papermill": {
     "duration": 0.0148,
     "end_time": "2024-03-11T09:13:38.782244",
     "exception": false,
     "start_time": "2024-03-11T09:13:38.767444",
     "status": "completed"
    },
    "tags": []
   },
   "source": [
    "Create  the model with 100 hidden layers  \n"
   ]
  },
  {
   "cell_type": "code",
   "execution_count": 10,
   "id": "43040ac8",
   "metadata": {
    "execution": {
     "iopub.execute_input": "2024-03-11T09:13:38.909706Z",
     "iopub.status.busy": "2024-03-11T09:13:38.908353Z",
     "iopub.status.idle": "2024-03-11T09:13:38.915116Z",
     "shell.execute_reply": "2024-03-11T09:13:38.913876Z"
    },
    "papermill": {
     "duration": 0.026419,
     "end_time": "2024-03-11T09:13:38.917696",
     "exception": false,
     "start_time": "2024-03-11T09:13:38.891277",
     "status": "completed"
    },
    "tags": []
   },
   "outputs": [],
   "source": [
    "# Set the parameters for create the model\n",
    "\n",
    "input_dim = 28 * 28\n",
    "hidden_dim1 = 50\n",
    "hidden_dim2 = 50\n",
    "output_dim = 10"
   ]
  },
  {
   "cell_type": "markdown",
   "id": "e26dec6f",
   "metadata": {
    "papermill": {
     "duration": 0.015739,
     "end_time": "2024-03-11T09:13:38.949237",
     "exception": false,
     "start_time": "2024-03-11T09:13:38.933498",
     "status": "completed"
    },
    "tags": []
   },
   "source": [
    "The epoch number in the video is 35. You can try 10 for now. If you try 35, it may take a long time.\n"
   ]
  },
  {
   "cell_type": "code",
   "execution_count": 11,
   "id": "83c38d43",
   "metadata": {
    "execution": {
     "iopub.execute_input": "2024-03-11T09:13:38.983120Z",
     "iopub.status.busy": "2024-03-11T09:13:38.982289Z",
     "iopub.status.idle": "2024-03-11T09:13:38.994548Z",
     "shell.execute_reply": "2024-03-11T09:13:38.986079Z"
    },
    "papermill": {
     "duration": 0.033261,
     "end_time": "2024-03-11T09:13:38.998119",
     "exception": false,
     "start_time": "2024-03-11T09:13:38.964858",
     "status": "completed"
    },
    "tags": []
   },
   "outputs": [],
   "source": [
    "# Set the number of iterations\n",
    "\n",
    "cust_epochs = 10"
   ]
  },
  {
   "cell_type": "markdown",
   "id": "751e10d1",
   "metadata": {
    "papermill": {
     "duration": 0.015101,
     "end_time": "2024-03-11T09:13:39.033032",
     "exception": false,
     "start_time": "2024-03-11T09:13:39.017931",
     "status": "completed"
    },
    "tags": []
   },
   "source": [
    "<!--Empty Space for separating topics-->\n"
   ]
  },
  {
   "cell_type": "markdown",
   "id": "5cd7f84c",
   "metadata": {
    "papermill": {
     "duration": 0.01595,
     "end_time": "2024-03-11T09:13:39.064424",
     "exception": false,
     "start_time": "2024-03-11T09:13:39.048474",
     "status": "completed"
    },
    "tags": []
   },
   "source": [
    "<h2 id=\"Test\">Test Sigmoid ,Tanh and Relu</h2> \n"
   ]
  },
  {
   "cell_type": "markdown",
   "id": "551961ff",
   "metadata": {
    "papermill": {
     "duration": 0.015064,
     "end_time": "2024-03-11T09:13:39.095211",
     "exception": false,
     "start_time": "2024-03-11T09:13:39.080147",
     "status": "completed"
    },
    "tags": []
   },
   "source": [
    "Train the network using the Sigmoid activation function\n"
   ]
  },
  {
   "cell_type": "code",
   "execution_count": 12,
   "id": "bfb6e916",
   "metadata": {
    "execution": {
     "iopub.execute_input": "2024-03-11T09:13:39.131690Z",
     "iopub.status.busy": "2024-03-11T09:13:39.130680Z",
     "iopub.status.idle": "2024-03-11T09:15:03.169401Z",
     "shell.execute_reply": "2024-03-11T09:15:03.168129Z"
    },
    "papermill": {
     "duration": 84.061712,
     "end_time": "2024-03-11T09:15:03.172475",
     "exception": false,
     "start_time": "2024-03-11T09:13:39.110763",
     "status": "completed"
    },
    "tags": []
   },
   "outputs": [],
   "source": [
    "# Train the model with sigmoid function\n",
    "\n",
    "learning_rate = 0.01\n",
    "model = Net(input_dim, hidden_dim1, hidden_dim2, output_dim)\n",
    "optimizer = torch.optim.SGD(model.parameters(), lr=learning_rate)\n",
    "training_results = train(model, criterion, train_loader, validation_loader, optimizer, epochs=cust_epochs)"
   ]
  },
  {
   "cell_type": "markdown",
   "id": "85fee494",
   "metadata": {
    "papermill": {
     "duration": 0.015089,
     "end_time": "2024-03-11T09:15:03.205818",
     "exception": false,
     "start_time": "2024-03-11T09:15:03.190729",
     "status": "completed"
    },
    "tags": []
   },
   "source": [
    "Train the network using the Tanh activation function\n"
   ]
  },
  {
   "cell_type": "code",
   "execution_count": 13,
   "id": "1fe0ed39",
   "metadata": {
    "execution": {
     "iopub.execute_input": "2024-03-11T09:15:03.239414Z",
     "iopub.status.busy": "2024-03-11T09:15:03.238213Z",
     "iopub.status.idle": "2024-03-11T09:16:26.736162Z",
     "shell.execute_reply": "2024-03-11T09:16:26.734871Z"
    },
    "papermill": {
     "duration": 83.518408,
     "end_time": "2024-03-11T09:16:26.739616",
     "exception": false,
     "start_time": "2024-03-11T09:15:03.221208",
     "status": "completed"
    },
    "tags": []
   },
   "outputs": [],
   "source": [
    "# Train the model with tanh function\n",
    "\n",
    "learning_rate = 0.01\n",
    "model_Tanh = NetTanh(input_dim, hidden_dim1, hidden_dim2, output_dim)\n",
    "optimizer = torch.optim.SGD(model_Tanh.parameters(), lr=learning_rate)\n",
    "training_results_tanch = train(model_Tanh, criterion, train_loader, validation_loader, optimizer, epochs=cust_epochs)"
   ]
  },
  {
   "cell_type": "markdown",
   "id": "3ac00f89",
   "metadata": {
    "papermill": {
     "duration": 0.014811,
     "end_time": "2024-03-11T09:16:26.770089",
     "exception": false,
     "start_time": "2024-03-11T09:16:26.755278",
     "status": "completed"
    },
    "tags": []
   },
   "source": [
    "Train the network using the Relu activation function\n"
   ]
  },
  {
   "cell_type": "code",
   "execution_count": 14,
   "id": "0585c9e2",
   "metadata": {
    "execution": {
     "iopub.execute_input": "2024-03-11T09:16:26.804068Z",
     "iopub.status.busy": "2024-03-11T09:16:26.803200Z",
     "iopub.status.idle": "2024-03-11T09:17:50.087954Z",
     "shell.execute_reply": "2024-03-11T09:17:50.086382Z"
    },
    "papermill": {
     "duration": 83.307249,
     "end_time": "2024-03-11T09:17:50.092597",
     "exception": false,
     "start_time": "2024-03-11T09:16:26.785348",
     "status": "completed"
    },
    "tags": []
   },
   "outputs": [],
   "source": [
    "# Train the model with relu function\n",
    "\n",
    "learning_rate = 0.01\n",
    "modelRelu = NetRelu(input_dim, hidden_dim1, hidden_dim2, output_dim)\n",
    "optimizer = torch.optim.SGD(modelRelu.parameters(), lr=learning_rate)\n",
    "training_results_relu = train(modelRelu, criterion, train_loader, validation_loader, optimizer, epochs=cust_epochs)"
   ]
  },
  {
   "cell_type": "markdown",
   "id": "69e9407f",
   "metadata": {
    "papermill": {
     "duration": 0.015609,
     "end_time": "2024-03-11T09:17:50.130442",
     "exception": false,
     "start_time": "2024-03-11T09:17:50.114833",
     "status": "completed"
    },
    "tags": []
   },
   "source": [
    "<!--Empty Space for separating topics-->\n"
   ]
  },
  {
   "cell_type": "markdown",
   "id": "bd81b3df",
   "metadata": {
    "papermill": {
     "duration": 0.015582,
     "end_time": "2024-03-11T09:17:50.162043",
     "exception": false,
     "start_time": "2024-03-11T09:17:50.146461",
     "status": "completed"
    },
    "tags": []
   },
   "source": [
    "<h2 id=\"Result\">Analyze Results</h2> \n"
   ]
  },
  {
   "cell_type": "markdown",
   "id": "a9e6c8e7",
   "metadata": {
    "papermill": {
     "duration": 0.020469,
     "end_time": "2024-03-11T09:17:50.200846",
     "exception": false,
     "start_time": "2024-03-11T09:17:50.180377",
     "status": "completed"
    },
    "tags": []
   },
   "source": [
    "Compare the training loss for each activation \n"
   ]
  },
  {
   "cell_type": "code",
   "execution_count": 15,
   "id": "68b7ed24",
   "metadata": {
    "execution": {
     "iopub.execute_input": "2024-03-11T09:17:50.235693Z",
     "iopub.status.busy": "2024-03-11T09:17:50.234615Z",
     "iopub.status.idle": "2024-03-11T09:17:50.706738Z",
     "shell.execute_reply": "2024-03-11T09:17:50.705406Z"
    },
    "papermill": {
     "duration": 0.493411,
     "end_time": "2024-03-11T09:17:50.710525",
     "exception": false,
     "start_time": "2024-03-11T09:17:50.217114",
     "status": "completed"
    },
    "tags": []
   },
   "outputs": [
    {
     "data": {
      "text/plain": [
       "<matplotlib.legend.Legend at 0x793b09059c60>"
      ]
     },
     "execution_count": 15,
     "metadata": {},
     "output_type": "execute_result"
    },
    {
     "data": {
      "image/png": "[encoded data removed]",
      "text/plain": [
       "<Figure size 640x480 with 1 Axes>"
      ]
     },
     "metadata": {},
     "output_type": "display_data"
    }
   ],
   "source": [
    "# Compare the training loss\n",
    "\n",
    "plt.plot(training_results_tanch['training_loss'], label='tanh')\n",
    "plt.plot(training_results['training_loss'], label='sigmoid')\n",
    "plt.plot(training_results_relu['training_loss'], label='relu')\n",
    "plt.ylabel('loss')\n",
    "plt.title('training loss iterations')\n",
    "plt.legend()"
   ]
  },
  {
   "cell_type": "markdown",
   "id": "8f0c6579",
   "metadata": {
    "papermill": {
     "duration": 0.017177,
     "end_time": "2024-03-11T09:17:50.744802",
     "exception": false,
     "start_time": "2024-03-11T09:17:50.727625",
     "status": "completed"
    },
    "tags": []
   },
   "source": [
    "Compare the validation loss for each model  \n"
   ]
  },
  {
   "cell_type": "code",
   "execution_count": 16,
   "id": "bc2941b2",
   "metadata": {
    "execution": {
     "iopub.execute_input": "2024-03-11T09:17:50.780604Z",
     "iopub.status.busy": "2024-03-11T09:17:50.780201Z",
     "iopub.status.idle": "2024-03-11T09:17:51.133802Z",
     "shell.execute_reply": "2024-03-11T09:17:51.132373Z"
    },
    "papermill": {
     "duration": 0.375978,
     "end_time": "2024-03-11T09:17:51.137298",
     "exception": false,
     "start_time": "2024-03-11T09:17:50.761320",
     "status": "completed"
    },
    "tags": []
   },
   "outputs": [
    {
     "data": {
      "text/plain": [
       "<matplotlib.legend.Legend at 0x793b08e2b640>"
      ]
     },
     "execution_count": 16,
     "metadata": {},
     "output_type": "execute_result"
    },
    {
     "data": {
      "image/png": "[encoded data removed]",
      "text/plain": [
       "<Figure size 640x480 with 1 Axes>"
      ]
     },
     "metadata": {},
     "output_type": "display_data"
    }
   ],
   "source": [
    "# Compare the validation loss\n",
    "\n",
    "plt.plot(training_results_tanch['validation_accuracy'], label = 'tanh')\n",
    "plt.plot(training_results['validation_accuracy'], label = 'sigmoid')\n",
    "plt.plot(training_results_relu['validation_accuracy'], label = 'relu') \n",
    "plt.ylabel('validation accuracy')\n",
    "plt.xlabel('Iteration')   \n",
    "plt.legend()"
   ]
  },
  {
   "cell_type": "markdown",
   "id": "b3dc38f0",
   "metadata": {
    "papermill": {
     "duration": 0.017419,
     "end_time": "2024-03-11T09:17:51.173089",
     "exception": false,
     "start_time": "2024-03-11T09:17:51.155670",
     "status": "completed"
    },
    "tags": []
   },
   "source": [
    "\n",
    "\n",
    "<a href=\"https://dataplatform.cloud.ibm.com/registration/stepone?utm_medium=Exinfluencer&utm_source=Exinfluencer&utm_content=000026UJ&utm_term=10006555&utm_id=NA-SkillsNetwork-Channel-SkillsNetworkCoursesIBMDeveloperSkillsNetworkDL0110ENSkillsNetwork952-2022-01-01&context=cpdaas&apps=data_science_experience%2Cwatson_machine_learning\"><img src=\"https://cf-courses-data.s3.us.cloud-object-storage.appdomain.cloud/IBMDeveloperSkillsNetwork-DL0110EN-SkillsNetwork/Template/module%201/images/Watson_Studio.png\"></a>\n"
   ]
  },
  {
   "cell_type": "markdown",
   "id": "6a4bd2d2",
   "metadata": {
    "papermill": {
     "duration": 0.017389,
     "end_time": "2024-03-11T09:17:51.208205",
     "exception": false,
     "start_time": "2024-03-11T09:17:51.190816",
     "status": "completed"
    },
    "tags": []
   },
   "source": [
    "<!--Empty Space for separating topics-->\n"
   ]
  },
  {
   "cell_type": "markdown",
   "id": "fa69838f",
   "metadata": {
    "papermill": {
     "duration": 0.017092,
     "end_time": "2024-03-11T09:17:51.242857",
     "exception": false,
     "start_time": "2024-03-11T09:17:51.225765",
     "status": "completed"
    },
    "tags": []
   },
   "source": [
    "<h2>About the Authors:</h2> \n",
    "\n",
    "<a href=\"https://www.linkedin.com/in/joseph-s-50398b136/?utm_medium=Exinfluencer&utm_source=Exinfluencer&utm_content=000026UJ&utm_term=10006555&utm_id=NA-SkillsNetwork-Channel-SkillsNetworkCoursesIBMDeveloperSkillsNetworkDL0110ENSkillsNetwork952-2022-01-01\">Joseph Santarcangelo</a> has a PhD in Electrical Engineering, his research focused on using machine learning, signal processing, and computer vision to determine how videos impact human cognition. Joseph has been working for IBM since he completed his PhD. \n"
   ]
  },
  {
   "cell_type": "markdown",
   "id": "c8e9fdc2",
   "metadata": {
    "papermill": {
     "duration": 0.018604,
     "end_time": "2024-03-11T09:17:51.280334",
     "exception": false,
     "start_time": "2024-03-11T09:17:51.261730",
     "status": "completed"
    },
    "tags": []
   },
   "source": [
    "Other contributors: <a href=\"https://www.linkedin.com/in/michelleccarey/?utm_medium=Exinfluencer&utm_source=Exinfluencer&utm_content=000026UJ&utm_term=10006555&utm_id=NA-SkillsNetwork-Channel-SkillsNetworkCoursesIBMDeveloperSkillsNetworkDL0110ENSkillsNetwork952-2022-01-01\">Michelle Carey</a>, <a href=\"www.linkedin.com/in/jiahui-mavis-zhou-a4537814a\">Mavis Zhou</a>\n"
   ]
  },
  {
   "cell_type": "markdown",
   "id": "7ae1cbe3",
   "metadata": {
    "papermill": {
     "duration": 0.017601,
     "end_time": "2024-03-11T09:17:51.315508",
     "exception": false,
     "start_time": "2024-03-11T09:17:51.297907",
     "status": "completed"
    },
    "tags": []
   },
   "source": [
    "\n",
    "## Change Log\n",
    "\n",
    "|  Date (YYYY-MM-DD) |  Version | Changed By  |  Change Description |\n",
    "|---|---|---|---|\n",
    "| 2020-09-23  | 2.0  | Srishti  |  Migrated Lab to Markdown and added to course repo in GitLab |\n",
    "\n",
    "\n",
    "\n",
    "<hr>\n",
    "\n",
    "## <h3 align=\"center\"> © IBM Corporation 2020. All rights reserved. <h3/>\n"
   ]
  }
 ],
 "metadata": {
  "kaggle": {
   "accelerator": "none",
   "dataSources": [],
   "dockerImageVersionId": 30664,
   "isGpuEnabled": false,
   "isInternetEnabled": true,
   "language": "python",
   "sourceType": "notebook"
  },
  "kernelspec": {
   "display_name": "Python 3",
   "language": "python",
   "name": "python3"
  },
  "language_info": {
   "codemirror_mode": {
    "name": "ipython",
    "version": 3
   },
   "file_extension": ".py",
   "mimetype": "text/x-python",
   "name": "python",
   "nbconvert_exporter": "python",
   "pygments_lexer": "ipython3",
   "version": "3.10.13"
  },
  "papermill": {
   "default_parameters": {},
   "duration": 270.0448,
   "end_time": "2024-03-11T09:17:52.961451",
   "environment_variables": {},
   "exception": null,
   "input_path": "__notebook__.ipynb",
   "output_path": "__notebook__.ipynb",
   "parameters": {},
   "start_time": "2024-03-11T09:13:22.916651",
   "version": "2.5.0"
  }
 },
 "nbformat": 4,
 "nbformat_minor": 5
}
